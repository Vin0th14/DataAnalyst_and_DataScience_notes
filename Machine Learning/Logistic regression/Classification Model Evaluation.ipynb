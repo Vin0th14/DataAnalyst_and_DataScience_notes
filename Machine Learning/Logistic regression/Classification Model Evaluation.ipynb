{
 "cells": [
  {
   "cell_type": "markdown",
   "id": "7262bb57",
   "metadata": {},
   "source": [
    "<center>\n",
    "    <h1>Evaluation Metrics Classification Model</h1>\n",
    "</center>"
   ]
  },
  {
   "cell_type": "markdown",
   "id": "0362b9c6",
   "metadata": {},
   "source": [
    "<b>Reference Link: </b>https://medium.com/analytics-vidhya/evaluation-metrics-for-classification-problems-with-implementation-in-python-a20193b4f2c3"
   ]
  },
  {
   "cell_type": "code",
   "execution_count": 1,
   "id": "cec090b3",
   "metadata": {},
   "outputs": [],
   "source": [
    "# Importing necessary libraries\n",
    "from sklearn.datasets import load_breast_cancer\n",
    "from sklearn.ensemble import RandomForestClassifier\n",
    "from sklearn.model_selection import train_test_split\n",
    "\n",
    "import matplotlib.pyplot as plt\n",
    "\n",
    "%matplotlib inline"
   ]
  },
  {
   "cell_type": "markdown",
   "id": "dbbbeeba",
   "metadata": {},
   "source": [
    "## Loading the breast cancer data set"
   ]
  },
  {
   "cell_type": "code",
   "execution_count": 2,
   "id": "b2d9bbd1",
   "metadata": {},
   "outputs": [],
   "source": [
    "diabetes_data = load_breast_cancer()"
   ]
  },
  {
   "cell_type": "markdown",
   "id": "fe7fd494",
   "metadata": {},
   "source": [
    "## Creating independent and dependent variables"
   ]
  },
  {
   "cell_type": "code",
   "execution_count": 3,
   "id": "c7a7f56b",
   "metadata": {},
   "outputs": [],
   "source": [
    "X = diabetes_data.data\n",
    "y = diabetes_data.target"
   ]
  },
  {
   "cell_type": "markdown",
   "id": "961859ed",
   "metadata": {},
   "source": [
    "## Splitting the data into training and testing set"
   ]
  },
  {
   "cell_type": "code",
   "execution_count": 5,
   "id": "42694b62",
   "metadata": {},
   "outputs": [
    {
     "name": "stdout",
     "output_type": "stream",
     "text": [
      "Train Data: (455, 30), (455,)\n",
      "Test Data: (114, 30), (114,)\n"
     ]
    }
   ],
   "source": [
    "X_train, X_test, y_train, y_test = train_test_split(X, y, test_size=0.2, random_state=24)\n",
    "print(f\"Train Data: {X_train.shape}, {y_train.shape}\")\n",
    "print(f\"Test Data: {X_test.shape}, {y_test.shape}\")"
   ]
  },
  {
   "cell_type": "markdown",
   "id": "24bc51ff",
   "metadata": {},
   "source": [
    "## Training a binary classifier and making predictions"
   ]
  },
  {
   "cell_type": "code",
   "execution_count": 6,
   "id": "b4354b7c",
   "metadata": {},
   "outputs": [],
   "source": [
    "classifier = RandomForestClassifier(random_state=24)\n",
    "classifier.fit(X_train, y_train)\n",
    "\n",
    "# Here X_test, y_test are the test data points\n",
    "predictions = classifier.predict(X_test)"
   ]
  },
  {
   "cell_type": "markdown",
   "id": "8f2c5ea8",
   "metadata": {},
   "source": [
    "## Evaluating the model"
   ]
  },
  {
   "cell_type": "markdown",
   "id": "12492fc1",
   "metadata": {},
   "source": [
    "### 1. Accuracy"
   ]
  },
  {
   "cell_type": "markdown",
   "id": "57e6c41c",
   "metadata": {},
   "source": [
    "<img src=\"https://miro.medium.com/max/1320/0*FRiaA5F0U4V7j-un.png\" />"
   ]
  },
  {
   "cell_type": "code",
   "execution_count": 7,
   "id": "9a0e70bd",
   "metadata": {},
   "outputs": [],
   "source": [
    "from sklearn.metrics import accuracy_score"
   ]
  },
  {
   "cell_type": "code",
   "execution_count": 8,
   "id": "7373e8ba",
   "metadata": {},
   "outputs": [
    {
     "name": "stdout",
     "output_type": "stream",
     "text": [
      "Accuracy of the classifier is: 95.6140350877193%\n"
     ]
    }
   ],
   "source": [
    "print(f\"Accuracy of the classifier is: {accuracy_score(y_test, predictions)*100}%\")"
   ]
  },
  {
   "cell_type": "markdown",
   "id": "beb7dc27",
   "metadata": {},
   "source": [
    "### 2. Confusion Matrix"
   ]
  },
  {
   "cell_type": "markdown",
   "id": "5f1b79f7",
   "metadata": {},
   "source": [
    "<img src=\"https://miro.medium.com/max/1134/0*GVy0nOoXSmZ0VL_p.png\" />"
   ]
  },
  {
   "cell_type": "code",
   "execution_count": 10,
   "id": "d08a7127",
   "metadata": {},
   "outputs": [],
   "source": [
    "from sklearn.metrics import confusion_matrix\n",
    "from sklearn.metrics import plot_confusion_matrix"
   ]
  },
  {
   "cell_type": "code",
   "execution_count": 11,
   "id": "30a9b957",
   "metadata": {},
   "outputs": [
    {
     "name": "stdout",
     "output_type": "stream",
     "text": [
      "Confusion Matrix:\n",
      "[[39  2]\n",
      " [ 3 70]]\n",
      "====================================================================================================\n"
     ]
    },
    {
     "data": {
      "image/png": "[encoded data removed]",
      "text/plain": [
       "<Figure size 432x288 with 2 Axes>"
      ]
     },
     "metadata": {
      "needs_background": "light"
     },
     "output_type": "display_data"
    }
   ],
   "source": [
    "# confusion_matrix funnction a matrix containing the summary of predictions\n",
    "print(\"Confusion Matrix:\")\n",
    "print(confusion_matrix(y_test, predictions))\n",
    "print(\"==\"*50)\n",
    "\n",
    "# plot_confusion_matrix function is used to visualize the confusion matrix\n",
    "plot_confusion_matrix(classifier, X_test, y_test)\n",
    "plt.show()"
   ]
  },
  {
   "cell_type": "markdown",
   "id": "0f8190ed",
   "metadata": {},
   "source": [
    "### 3. Precision"
   ]
  },
  {
   "cell_type": "markdown",
   "id": "4901c315",
   "metadata": {},
   "source": [
    "<img src=\"https://miro.medium.com/max/1320/0*vN7ertC_kBKSNZsN.png\" />"
   ]
  },
  {
   "cell_type": "code",
   "execution_count": 12,
   "id": "976c843f",
   "metadata": {},
   "outputs": [],
   "source": [
    "from sklearn.metrics import precision_score"
   ]
  },
  {
   "cell_type": "code",
   "execution_count": 13,
   "id": "ba25f528",
   "metadata": {},
   "outputs": [
    {
     "name": "stdout",
     "output_type": "stream",
     "text": [
      "Precision Score of the classifier is: 0.9722222222222222\n"
     ]
    }
   ],
   "source": [
    "# Calculating the precision score of classifier\n",
    "print(f\"Precision Score of the classifier is: {precision_score(y_test, predictions)}\")"
   ]
  },
  {
   "cell_type": "markdown",
   "id": "12fbb1b8",
   "metadata": {},
   "source": [
    "### 4. Recall"
   ]
  },
  {
   "cell_type": "markdown",
   "id": "4b3a6b27",
   "metadata": {},
   "source": [
    "<img src=\"https://miro.medium.com/max/1320/0*OBYOX0Zv8x8Mb24Z.png\" />"
   ]
  },
  {
   "cell_type": "code",
   "execution_count": 14,
   "id": "4749a52f",
   "metadata": {},
   "outputs": [],
   "source": [
    "from sklearn.metrics import recall_score"
   ]
  },
  {
   "cell_type": "code",
   "execution_count": 15,
   "id": "893fccd2",
   "metadata": {},
   "outputs": [
    {
     "name": "stdout",
     "output_type": "stream",
     "text": [
      "Recall Score of the classifier is: 0.958904109589041\n"
     ]
    }
   ],
   "source": [
    "# Calculating the recall score of classifier\n",
    "print(f\"Recall Score of the classifier is: {recall_score(y_test, predictions)}\")"
   ]
  },
  {
   "cell_type": "markdown",
   "id": "e1d6fdbf",
   "metadata": {},
   "source": [
    "### 5. F1 Score"
   ]
  },
  {
   "cell_type": "markdown",
   "id": "e6088ddc",
   "metadata": {},
   "source": [
    "<img src=\"https://miro.medium.com/max/1068/0*l15zVjRsQ6pw-Pbj.png\" />"
   ]
  },
  {
   "cell_type": "code",
   "execution_count": 16,
   "id": "83224943",
   "metadata": {},
   "outputs": [],
   "source": [
    "from sklearn.metrics import f1_score"
   ]
  },
  {
   "cell_type": "code",
   "execution_count": 17,
   "id": "833fca44",
   "metadata": {},
   "outputs": [
    {
     "name": "stdout",
     "output_type": "stream",
     "text": [
      "F1 Score of the classifier is: 0.9655172413793104\n"
     ]
    }
   ],
   "source": [
    "# Calculating the F1 score of classifier\n",
    "print(f\"F1 Score of the classifier is: {f1_score(y_test, predictions)}\")"
   ]
  },
  {
   "cell_type": "markdown",
   "id": "0722bb0b",
   "metadata": {},
   "source": [
    "### 6. AUC-ROC Curve"
   ]
  },
  {
   "cell_type": "markdown",
   "id": "93f00e54",
   "metadata": {},
   "source": [
    "ROC is Receiver Operating Characteristic Curve and AUC is Area Under Curve.<br/>\n",
    "<img src=\"https://miro.medium.com/max/596/0*LTnn45i-HbBzZTb0.png\" /><br/>\n",
    "<img src=\"https://miro.medium.com/max/596/0*bTbVhkIq72GuWolc.png\" /><br/>"
   ]
  },
  {
   "cell_type": "code",
   "execution_count": 18,
   "id": "a596c6f7",
   "metadata": {},
   "outputs": [],
   "source": [
    "from sklearn.metrics import roc_curve, auc"
   ]
  },
  {
   "cell_type": "code",
   "execution_count": 17,
   "id": "015e1bb8",
   "metadata": {},
   "outputs": [
    {
     "name": "stdout",
     "output_type": "stream",
     "text": [
      "AUC for our classifier is: 0.9772803207484129\n"
     ]
    },
    {
     "data": {
      "image/png": "[encoded data removed]",
      "text/plain": [
       "<Figure size 432x288 with 1 Axes>"
      ]
     },
     "metadata": {
      "needs_background": "light"
     },
     "output_type": "display_data"
    }
   ],
   "source": [
    "class_probabilities = classifier.predict_proba(X_test)\n",
    "preds = class_probabilities[:, 1]\n",
    "\n",
    "fpr, tpr, threshold = roc_curve(y_test, preds)\n",
    "roc_auc = auc(fpr, tpr)\n",
    "\n",
    "# Printing AUC\n",
    "print(f\"AUC for our classifier is: {roc_auc}\")\n",
    "\n",
    "# Plotting the ROC\n",
    "plt.title('Receiver Operating Characteristic')\n",
    "plt.plot(fpr, tpr, 'b', label = 'AUC = %0.2f' % roc_auc)\n",
    "plt.legend(loc = 'lower right')\n",
    "plt.plot([0, 1], [0, 1],'r--')\n",
    "plt.xlim([0, 1])\n",
    "plt.ylim([0, 1])\n",
    "plt.ylabel('True Positive Rate')\n",
    "plt.xlabel('False Positive Rate')\n",
    "plt.show()"
   ]
  }
 ],
 "metadata": {
  "kernelspec": {
   "display_name": "Python 3",
   "language": "python",
   "name": "python3"
  },
  "language_info": {
   "codemirror_mode": {
    "name": "ipython",
    "version": 3
   },
   "file_extension": ".py",
   "mimetype": "text/x-python",
   "name": "python",
   "nbconvert_exporter": "python",
   "pygments_lexer": "ipython3",
   "version": "3.8.8"
  }
 },
 "nbformat": 4,
 "nbformat_minor": 5
}
