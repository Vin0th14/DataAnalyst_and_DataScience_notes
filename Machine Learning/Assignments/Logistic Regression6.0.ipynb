{
  "cells": [
    {
      "cell_type": "markdown",
      "metadata": {
        "collapsed": true,
        "id": "YXsoHTyH1H2w"
      },
      "source": [
        "# <center><u>**`LOGISTIC REGRESSION`**</u></center>\n",
        "\n",
        "Hi aspirant, You have already learned simple, multiple and some advance regression techniques. Now lets jump to another hands-on assignment on Logistic regression.\n",
        "\n",
        "Logistic regression is a statistical model that in its basic form uses a logistic function to model a binary dependent variable, although many more complex extensions exist. In regression analysis, logistic regression (or logit regression) is estimating the parameters of a logistic model (a form of binary regression).\n",
        "\n",
        "\n",
        "\n",
        "## **`Problem statement:`**\n",
        "\n",
        "#### **`Telecom Churn Case Study`**\n",
        "\n",
        "With 21 predictor variables we need to predict whether a particular customer will switch to another telecom provider or not. In telecom terminology, this is referred to as churning and not churning, respectively.\n",
        "\n",
        "\n",
        "So smile please and lets get started with this amazing assignment."
      ]
    },
    {
      "cell_type": "markdown",
      "source": [
        "# **`WATCH ALL VIDEOS IN THE PORTAL`**"
      ],
      "metadata": {
        "id": "gp_Ij0qknKAd"
      }
    },
    {
      "cell_type": "markdown",
      "source": [
        "#### **`Do watch these video for its indepth conceptual clarity:`**"
      ],
      "metadata": {
        "id": "8ZPmVX0CoRHt"
      }
    },
    {
      "cell_type": "markdown",
      "source": [
        "## **`Watch Video 1, 2, 3: Logistic Regression Intuition`**"
      ],
      "metadata": {
        "id": "flsHWx4VnONt"
      }
    },
    {
      "cell_type": "markdown",
      "metadata": {
        "id": "vLVH-dQP1H22"
      },
      "source": [
        "### **`Importing and Merging Data`**\n",
        "<p style='text-align: right;'> 4 points</p>\n"
      ]
    },
    {
      "cell_type": "code",
      "execution_count": null,
      "metadata": {
        "id": "h2dF4li21H23"
      },
      "outputs": [],
      "source": [
        "# Importing Pandas and NumPy\n",
        "\n",
        "\n"
      ]
    },
    {
      "cell_type": "code",
      "execution_count": null,
      "metadata": {
        "id": "ZGP1WPRC1H24"
      },
      "outputs": [],
      "source": [
        "# Importing all datasets\n",
        "churn_data = \n",
        "customer_data = \n",
        "internet_data = "
      ]
    },
    {
      "cell_type": "code",
      "execution_count": null,
      "metadata": {
        "id": "KYHnX0M11H25"
      },
      "outputs": [],
      "source": [
        "#Merging churn_data and customer_data on 'customerID' using inner join on customerID\n",
        "df_1 = \n"
      ]
    },
    {
      "cell_type": "code",
      "execution_count": null,
      "metadata": {
        "id": "J5BDtcd_1H25"
      },
      "outputs": [],
      "source": [
        "#Final dataframe with all predictor variables (merging df_1 and internet_data on 'customerID')\n",
        "telecom = \n"
      ]
    },
    {
      "cell_type": "markdown",
      "metadata": {
        "id": "F33iSTdT1H26"
      },
      "source": [
        "### Let's understand the structure of our dataframe\n",
        "<p style='text-align: right;'> 3 points</p>\n"
      ]
    },
    {
      "cell_type": "code",
      "execution_count": null,
      "metadata": {
        "id": "C_hwZXFl1H27",
        "outputId": "bda1f4fe-10af-4874-a0c6-e3a608f98bb1"
      },
      "outputs": [
        {
          "data": {
            "text/html": [
              "<div>\n",
              "<style scoped>\n",
              "    .dataframe tbody tr th:only-of-type {\n",
              "        vertical-align: middle;\n",
              "    }\n",
              "\n",
              "    .dataframe tbody tr th {\n",
              "        vertical-align: top;\n",
              "    }\n",
              "\n",
              "    .dataframe thead th {\n",
              "        text-align: right;\n",
              "    }\n",
              "</style>\n",
              "<table border=\"1\" class=\"dataframe\">\n",
              "  <thead>\n",
              "    <tr style=\"text-align: right;\">\n",
              "      <th></th>\n",
              "      <th>customerID</th>\n",
              "      <th>tenure</th>\n",
              "      <th>PhoneService</th>\n",
              "      <th>Contract</th>\n",
              "      <th>PaperlessBilling</th>\n",
              "      <th>PaymentMethod</th>\n",
              "      <th>MonthlyCharges</th>\n",
              "      <th>TotalCharges</th>\n",
              "      <th>Churn</th>\n",
              "      <th>gender</th>\n",
              "      <th>...</th>\n",
              "      <th>Partner</th>\n",
              "      <th>Dependents</th>\n",
              "      <th>MultipleLines</th>\n",
              "      <th>InternetService</th>\n",
              "      <th>OnlineSecurity</th>\n",
              "      <th>OnlineBackup</th>\n",
              "      <th>DeviceProtection</th>\n",
              "      <th>TechSupport</th>\n",
              "      <th>StreamingTV</th>\n",
              "      <th>StreamingMovies</th>\n",
              "    </tr>\n",
              "  </thead>\n",
              "  <tbody>\n",
              "    <tr>\n",
              "      <th>0</th>\n",
              "      <td>7590-VHVEG</td>\n",
              "      <td>1</td>\n",
              "      <td>No</td>\n",
              "      <td>Month-to-month</td>\n",
              "      <td>Yes</td>\n",
              "      <td>Electronic check</td>\n",
              "      <td>29.85</td>\n",
              "      <td>29.85</td>\n",
              "      <td>No</td>\n",
              "      <td>Female</td>\n",
              "      <td>...</td>\n",
              "      <td>Yes</td>\n",
              "      <td>No</td>\n",
              "      <td>No phone service</td>\n",
              "      <td>DSL</td>\n",
              "      <td>No</td>\n",
              "      <td>Yes</td>\n",
              "      <td>No</td>\n",
              "      <td>No</td>\n",
              "      <td>No</td>\n",
              "      <td>No</td>\n",
              "    </tr>\n",
              "    <tr>\n",
              "      <th>1</th>\n",
              "      <td>5575-GNVDE</td>\n",
              "      <td>34</td>\n",
              "      <td>Yes</td>\n",
              "      <td>One year</td>\n",
              "      <td>No</td>\n",
              "      <td>Mailed check</td>\n",
              "      <td>56.95</td>\n",
              "      <td>1889.5</td>\n",
              "      <td>No</td>\n",
              "      <td>Male</td>\n",
              "      <td>...</td>\n",
              "      <td>No</td>\n",
              "      <td>No</td>\n",
              "      <td>No</td>\n",
              "      <td>DSL</td>\n",
              "      <td>Yes</td>\n",
              "      <td>No</td>\n",
              "      <td>Yes</td>\n",
              "      <td>No</td>\n",
              "      <td>No</td>\n",
              "      <td>No</td>\n",
              "    </tr>\n",
              "    <tr>\n",
              "      <th>2</th>\n",
              "      <td>3668-QPYBK</td>\n",
              "      <td>2</td>\n",
              "      <td>Yes</td>\n",
              "      <td>Month-to-month</td>\n",
              "      <td>Yes</td>\n",
              "      <td>Mailed check</td>\n",
              "      <td>53.85</td>\n",
              "      <td>108.15</td>\n",
              "      <td>Yes</td>\n",
              "      <td>Male</td>\n",
              "      <td>...</td>\n",
              "      <td>No</td>\n",
              "      <td>No</td>\n",
              "      <td>No</td>\n",
              "      <td>DSL</td>\n",
              "      <td>Yes</td>\n",
              "      <td>Yes</td>\n",
              "      <td>No</td>\n",
              "      <td>No</td>\n",
              "      <td>No</td>\n",
              "      <td>No</td>\n",
              "    </tr>\n",
              "    <tr>\n",
              "      <th>3</th>\n",
              "      <td>7795-CFOCW</td>\n",
              "      <td>45</td>\n",
              "      <td>No</td>\n",
              "      <td>One year</td>\n",
              "      <td>No</td>\n",
              "      <td>Bank transfer (automatic)</td>\n",
              "      <td>42.30</td>\n",
              "      <td>1840.75</td>\n",
              "      <td>No</td>\n",
              "      <td>Male</td>\n",
              "      <td>...</td>\n",
              "      <td>No</td>\n",
              "      <td>No</td>\n",
              "      <td>No phone service</td>\n",
              "      <td>DSL</td>\n",
              "      <td>Yes</td>\n",
              "      <td>No</td>\n",
              "      <td>Yes</td>\n",
              "      <td>Yes</td>\n",
              "      <td>No</td>\n",
              "      <td>No</td>\n",
              "    </tr>\n",
              "    <tr>\n",
              "      <th>4</th>\n",
              "      <td>9237-HQITU</td>\n",
              "      <td>2</td>\n",
              "      <td>Yes</td>\n",
              "      <td>Month-to-month</td>\n",
              "      <td>Yes</td>\n",
              "      <td>Electronic check</td>\n",
              "      <td>70.70</td>\n",
              "      <td>151.65</td>\n",
              "      <td>Yes</td>\n",
              "      <td>Female</td>\n",
              "      <td>...</td>\n",
              "      <td>No</td>\n",
              "      <td>No</td>\n",
              "      <td>No</td>\n",
              "      <td>Fiber optic</td>\n",
              "      <td>No</td>\n",
              "      <td>No</td>\n",
              "      <td>No</td>\n",
              "      <td>No</td>\n",
              "      <td>No</td>\n",
              "      <td>No</td>\n",
              "    </tr>\n",
              "  </tbody>\n",
              "</table>\n",
              "<p>5 rows × 21 columns</p>\n",
              "</div>"
            ],
            "text/plain": [
              "   customerID  tenure PhoneService        Contract PaperlessBilling  \\\n",
              "0  7590-VHVEG       1           No  Month-to-month              Yes   \n",
              "1  5575-GNVDE      34          Yes        One year               No   \n",
              "2  3668-QPYBK       2          Yes  Month-to-month              Yes   \n",
              "3  7795-CFOCW      45           No        One year               No   \n",
              "4  9237-HQITU       2          Yes  Month-to-month              Yes   \n",
              "\n",
              "               PaymentMethod  MonthlyCharges TotalCharges Churn  gender  ...  \\\n",
              "0           Electronic check           29.85        29.85    No  Female  ...   \n",
              "1               Mailed check           56.95       1889.5    No    Male  ...   \n",
              "2               Mailed check           53.85       108.15   Yes    Male  ...   \n",
              "3  Bank transfer (automatic)           42.30      1840.75    No    Male  ...   \n",
              "4           Electronic check           70.70       151.65   Yes  Female  ...   \n",
              "\n",
              "   Partner Dependents     MultipleLines InternetService OnlineSecurity  \\\n",
              "0      Yes         No  No phone service             DSL             No   \n",
              "1       No         No                No             DSL            Yes   \n",
              "2       No         No                No             DSL            Yes   \n",
              "3       No         No  No phone service             DSL            Yes   \n",
              "4       No         No                No     Fiber optic             No   \n",
              "\n",
              "  OnlineBackup DeviceProtection TechSupport StreamingTV StreamingMovies  \n",
              "0          Yes               No          No          No              No  \n",
              "1           No              Yes          No          No              No  \n",
              "2          Yes               No          No          No              No  \n",
              "3           No              Yes         Yes          No              No  \n",
              "4           No               No          No          No              No  \n",
              "\n",
              "[5 rows x 21 columns]"
            ]
          },
          "execution_count": 255,
          "metadata": {},
          "output_type": "execute_result"
        }
      ],
      "source": [
        "# Let's see the head of our master dataset\n",
        "\n"
      ]
    },
    {
      "cell_type": "code",
      "execution_count": null,
      "metadata": {
        "id": "4bC_eHNp1H28",
        "outputId": "a51c1ce8-5722-4c97-8b07-19d51d5392c5"
      },
      "outputs": [
        {
          "data": {
            "text/html": [
              "<div>\n",
              "<style scoped>\n",
              "    .dataframe tbody tr th:only-of-type {\n",
              "        vertical-align: middle;\n",
              "    }\n",
              "\n",
              "    .dataframe tbody tr th {\n",
              "        vertical-align: top;\n",
              "    }\n",
              "\n",
              "    .dataframe thead th {\n",
              "        text-align: right;\n",
              "    }\n",
              "</style>\n",
              "<table border=\"1\" class=\"dataframe\">\n",
              "  <thead>\n",
              "    <tr style=\"text-align: right;\">\n",
              "      <th></th>\n",
              "      <th>tenure</th>\n",
              "      <th>MonthlyCharges</th>\n",
              "      <th>SeniorCitizen</th>\n",
              "    </tr>\n",
              "  </thead>\n",
              "  <tbody>\n",
              "    <tr>\n",
              "      <th>count</th>\n",
              "      <td>7043.000000</td>\n",
              "      <td>7043.000000</td>\n",
              "      <td>7043.000000</td>\n",
              "    </tr>\n",
              "    <tr>\n",
              "      <th>mean</th>\n",
              "      <td>32.371149</td>\n",
              "      <td>64.761692</td>\n",
              "      <td>0.162147</td>\n",
              "    </tr>\n",
              "    <tr>\n",
              "      <th>std</th>\n",
              "      <td>24.559481</td>\n",
              "      <td>30.090047</td>\n",
              "      <td>0.368612</td>\n",
              "    </tr>\n",
              "    <tr>\n",
              "      <th>min</th>\n",
              "      <td>0.000000</td>\n",
              "      <td>18.250000</td>\n",
              "      <td>0.000000</td>\n",
              "    </tr>\n",
              "    <tr>\n",
              "      <th>25%</th>\n",
              "      <td>9.000000</td>\n",
              "      <td>35.500000</td>\n",
              "      <td>0.000000</td>\n",
              "    </tr>\n",
              "    <tr>\n",
              "      <th>50%</th>\n",
              "      <td>29.000000</td>\n",
              "      <td>70.350000</td>\n",
              "      <td>0.000000</td>\n",
              "    </tr>\n",
              "    <tr>\n",
              "      <th>75%</th>\n",
              "      <td>55.000000</td>\n",
              "      <td>89.850000</td>\n",
              "      <td>0.000000</td>\n",
              "    </tr>\n",
              "    <tr>\n",
              "      <th>max</th>\n",
              "      <td>72.000000</td>\n",
              "      <td>118.750000</td>\n",
              "      <td>1.000000</td>\n",
              "    </tr>\n",
              "  </tbody>\n",
              "</table>\n",
              "</div>"
            ],
            "text/plain": [
              "            tenure  MonthlyCharges  SeniorCitizen\n",
              "count  7043.000000     7043.000000    7043.000000\n",
              "mean     32.371149       64.761692       0.162147\n",
              "std      24.559481       30.090047       0.368612\n",
              "min       0.000000       18.250000       0.000000\n",
              "25%       9.000000       35.500000       0.000000\n",
              "50%      29.000000       70.350000       0.000000\n",
              "75%      55.000000       89.850000       0.000000\n",
              "max      72.000000      118.750000       1.000000"
            ]
          },
          "execution_count": 256,
          "metadata": {},
          "output_type": "execute_result"
        }
      ],
      "source": [
        "#Lets see statistical description for our master data\n",
        "\n"
      ]
    },
    {
      "cell_type": "code",
      "execution_count": null,
      "metadata": {
        "id": "Jc_C7ypW1H29",
        "outputId": "2d0fc295-9964-4d25-b420-449a65365dd9"
      },
      "outputs": [
        {
          "name": "stdout",
          "output_type": "stream",
          "text": [
            "<class 'pandas.core.frame.DataFrame'>\n",
            "Int64Index: 7043 entries, 0 to 7042\n",
            "Data columns (total 21 columns):\n",
            " #   Column            Non-Null Count  Dtype  \n",
            "---  ------            --------------  -----  \n",
            " 0   customerID        7043 non-null   object \n",
            " 1   tenure            7043 non-null   int64  \n",
            " 2   PhoneService      7043 non-null   object \n",
            " 3   Contract          7043 non-null   object \n",
            " 4   PaperlessBilling  7043 non-null   object \n",
            " 5   PaymentMethod     7043 non-null   object \n",
            " 6   MonthlyCharges    7043 non-null   float64\n",
            " 7   TotalCharges      7043 non-null   object \n",
            " 8   Churn             7043 non-null   object \n",
            " 9   gender            7043 non-null   object \n",
            " 10  SeniorCitizen     7043 non-null   int64  \n",
            " 11  Partner           7043 non-null   object \n",
            " 12  Dependents        7043 non-null   object \n",
            " 13  MultipleLines     7043 non-null   object \n",
            " 14  InternetService   7043 non-null   object \n",
            " 15  OnlineSecurity    7043 non-null   object \n",
            " 16  OnlineBackup      7043 non-null   object \n",
            " 17  DeviceProtection  7043 non-null   object \n",
            " 18  TechSupport       7043 non-null   object \n",
            " 19  StreamingTV       7043 non-null   object \n",
            " 20  StreamingMovies   7043 non-null   object \n",
            "dtypes: float64(1), int64(2), object(18)\n",
            "memory usage: 1.2+ MB\n"
          ]
        }
      ],
      "source": [
        "# Let's see the type of each column\n",
        "\n"
      ]
    },
    {
      "cell_type": "markdown",
      "metadata": {
        "id": "TKAQu8Kx1H29"
      },
      "source": [
        "## **`Data Preparation`**\n",
        "<p style='text-align: right;'> 10 points</p>\n"
      ]
    },
    {
      "cell_type": "code",
      "execution_count": null,
      "metadata": {
        "id": "CUlS8zl81H2-"
      },
      "outputs": [],
      "source": [
        "# Converting Yes to 1 and No to 0 using map\n",
        "telecom['PhoneService'] = \n",
        "\n",
        "telecom['PaperlessBilling'] = \n",
        "\n",
        "telecom['Churn'] = \n",
        "\n",
        "telecom['Partner'] = \n",
        "\n",
        "telecom['Dependents'] = \n"
      ]
    },
    {
      "cell_type": "markdown",
      "metadata": {
        "id": "t3g3q55L1H2-"
      },
      "source": [
        "### **`Dummy Variable Creation`**\n",
        "\n",
        "As you can see there are many textual information in our data set. Lets do encoding for these classes using get_dummies() function.\n",
        "\n",
        "Note: use prefix='column_name' where column_name is the column whose encoding has to be done."
      ]
    },
    {
      "cell_type": "code",
      "execution_count": null,
      "metadata": {
        "id": "KZ0vG2Fo1H2_"
      },
      "outputs": [],
      "source": [
        "# Creating a dummy variable for the variable 'Contract' and keeping drop_first=True\n",
        "cont = \n",
        "\n",
        "#Adding the results to the master dataframe i.e telecom\n",
        "telecom = \n",
        "\n",
        "\n",
        "# Creating a dummy variable for the variable 'PaymentMethod' and keeping drop_first=True\n",
        "pm = \n",
        "\n",
        "#Adding the results to the master dataframe\n",
        "telecom = \n",
        "\n",
        "\n",
        "# Creating a dummy variable for the variable 'gender' and keeping drop_first=True\n",
        "gen = \n",
        "\n",
        "#Adding the results to the master dataframe\n",
        "telecom = \n",
        "\n",
        "\n",
        "# Creating a dummy variable for the variable 'MultipleLines' and keeping drop_first=True\n",
        "ml = \n",
        "\n",
        "#  dropping MultipleLines_No phone service column\n",
        "ml1 = \n",
        "\n",
        "\n",
        "#Adding the results to the master dataframe\n",
        "telecom = \n",
        "\n",
        "# Creating a dummy variable for the variable 'InternetService' and keeping drop_first=True\n",
        "iser = \n",
        "\n",
        "#Adding the results to the master dataframe\n",
        "telecom = \n",
        "\n",
        "\n",
        "# Creating a dummy variable for the variable 'OnlineSecurity'.\n",
        "os = \n",
        "\n",
        "#drop OnlineSecurity_No internet service column from os\n",
        "os1= \n",
        "\n",
        "#Adding os1 to the master dataframe\n",
        "telecom = \n",
        "\n",
        "\n",
        "# Creating a dummy variable for the variable 'OnlineBackup' and keeping drop_first=True\n",
        "ob =\n",
        "\n",
        "#dropping OnlineBackup_No internet service from ob\n",
        "ob1 =\n",
        "\n",
        "#Adding the results(ob1) to the master dataframe\n",
        "telecom = \n",
        "\n",
        "\n",
        "# Creating a dummy variable for the variable 'DeviceProtection' and keeping drop_first=True\n",
        "dp =\n",
        "\n",
        "#dropping DeviceProtection_No internet service\n",
        "dp1 = \n",
        "\n",
        "#Adding the results(dp1) to the master dataframe\n",
        "telecom = \n",
        "\n",
        "\n",
        "# Creating a dummy variable for the variable 'TechSupport' and keeping drop_first=True\n",
        "ts =\n",
        "\n",
        "#dropping TechSupport_No internet service from ts\n",
        "ts1 = \n",
        "\n",
        "#Adding the results(ts1) to the master dataframe\n",
        "telecom = \n",
        "\n",
        "\n",
        "# Creating a dummy variable for the variable 'StreamingTV' and keeping drop_first=True\n",
        "st =\n",
        "\n",
        "#dropping StreamingTV_No internet service from st\n",
        "st1 = \n",
        "\n",
        "#Adding the results(st1) to the master dataframe\n",
        "telecom = \n",
        "\n",
        "\n",
        "# Creating a dummy variable for the variable 'StreamingMovies' and keeping drop_first=True \n",
        "sm =\n",
        "\n",
        "\n",
        "#dropping StreamingMovies_No internet service from sm\n",
        "sm1 = \n",
        "#Adding the results(sm1) to the master dataframe\n",
        "telecom = "
      ]
    },
    {
      "cell_type": "markdown",
      "metadata": {
        "id": "WBXqiCLb1H3B"
      },
      "source": [
        "### **`Dropping the repeated variables`**\n",
        "\n",
        "Since We have already created dummies for the below variables\n",
        "    \n",
        "    'Contract',\n",
        "    'PaymentMethod',\n",
        "    'gender',\n",
        "    'MultipleLines',\n",
        "    'InternetService', \n",
        "    'OnlineSecurity', \n",
        "    'OnlineBackup', \n",
        "    'DeviceProtection',\n",
        "    'TechSupport', \n",
        "    'StreamingTV', \n",
        "    'StreamingMovies'\n",
        "so we can drop them off as they are now repeated in our master dataset\n"
      ]
    },
    {
      "cell_type": "code",
      "execution_count": null,
      "metadata": {
        "id": "TwpUTW_V1H3C"
      },
      "outputs": [],
      "source": [
        "# drop all duplicate columns\n",
        "telecom = \n"
      ]
    },
    {
      "cell_type": "markdown",
      "metadata": {
        "id": "wUjXo8NE1H3D"
      },
      "source": [
        "The TotalCharges variable was imported as a string we need to convert it to numeric type<br>\n",
        "Hint: Use pandas.to_numeric() function. Refer:https://pandas.pydata.org/pandas-docs/stable/reference/api/pandas.to_numeric.html"
      ]
    },
    {
      "cell_type": "code",
      "execution_count": null,
      "metadata": {
        "id": "xxUdkcMG1H3E"
      },
      "outputs": [],
      "source": []
    },
    {
      "cell_type": "code",
      "execution_count": null,
      "metadata": {
        "id": "_j9fnmyO1H3E",
        "outputId": "ec4d5eac-cea0-4c54-c0c3-764c30e4b5e2"
      },
      "outputs": [
        {
          "name": "stdout",
          "output_type": "stream",
          "text": [
            "<class 'pandas.core.frame.DataFrame'>\n",
            "Int64Index: 7043 entries, 0 to 7042\n",
            "Data columns (total 32 columns):\n",
            " #   Column                                 Non-Null Count  Dtype  \n",
            "---  ------                                 --------------  -----  \n",
            " 0   customerID                             7043 non-null   object \n",
            " 1   tenure                                 7043 non-null   int64  \n",
            " 2   PhoneService                           7043 non-null   int64  \n",
            " 3   PaperlessBilling                       7043 non-null   int64  \n",
            " 4   MonthlyCharges                         7043 non-null   float64\n",
            " 5   TotalCharges                           7032 non-null   float64\n",
            " 6   Churn                                  7043 non-null   int64  \n",
            " 7   SeniorCitizen                          7043 non-null   int64  \n",
            " 8   Partner                                7043 non-null   int64  \n",
            " 9   Dependents                             7043 non-null   int64  \n",
            " 10  Contract_One year                      7043 non-null   uint8  \n",
            " 11  Contract_Two year                      7043 non-null   uint8  \n",
            " 12  PaymentMethod_Credit card (automatic)  7043 non-null   uint8  \n",
            " 13  PaymentMethod_Electronic check         7043 non-null   uint8  \n",
            " 14  PaymentMethod_Mailed check             7043 non-null   uint8  \n",
            " 15  gender_Male                            7043 non-null   uint8  \n",
            " 16  MultipleLines_No                       7043 non-null   uint8  \n",
            " 17  MultipleLines_Yes                      7043 non-null   uint8  \n",
            " 18  InternetService_Fiber optic            7043 non-null   uint8  \n",
            " 19  InternetService_No                     7043 non-null   uint8  \n",
            " 20  OnlineSecurity_No                      7043 non-null   uint8  \n",
            " 21  OnlineSecurity_Yes                     7043 non-null   uint8  \n",
            " 22  OnlineBackup_No                        7043 non-null   uint8  \n",
            " 23  OnlineBackup_Yes                       7043 non-null   uint8  \n",
            " 24  DeviceProtection_No                    7043 non-null   uint8  \n",
            " 25  DeviceProtection_Yes                   7043 non-null   uint8  \n",
            " 26  TechSupport_No                         7043 non-null   uint8  \n",
            " 27  TechSupport_Yes                        7043 non-null   uint8  \n",
            " 28  StreamingTV_No                         7043 non-null   uint8  \n",
            " 29  StreamingTV_Yes                        7043 non-null   uint8  \n",
            " 30  StreamingMovies_No                     7043 non-null   uint8  \n",
            " 31  StreamingMovies_Yes                    7043 non-null   uint8  \n",
            "dtypes: float64(2), int64(7), object(1), uint8(22)\n",
            "memory usage: 756.6+ KB\n"
          ]
        }
      ],
      "source": [
        "# again check data type informationof our master dataset\n",
        "\n"
      ]
    },
    {
      "cell_type": "markdown",
      "metadata": {
        "id": "zobN4dzW1H3F"
      },
      "source": [
        "Now we can see we have all variables as integer."
      ]
    },
    {
      "cell_type": "markdown",
      "metadata": {
        "collapsed": true,
        "id": "F5ha-8X21H3F"
      },
      "source": [
        "### **`Checking for Outliers`**\n",
        "<p style='text-align: right;'> 4 points</p>\n",
        "\n",
        "\n",
        "Checking for outliers in the continuous variables like 'tenure','MonthlyCharges','SeniorCitizen','TotalCharges'\n"
      ]
    },
    {
      "cell_type": "code",
      "execution_count": null,
      "metadata": {
        "id": "88nugxmR1H3F"
      },
      "outputs": [],
      "source": [
        "# Getting all continues variables in separate dataframe\n",
        "num_telecom = \n"
      ]
    },
    {
      "cell_type": "code",
      "execution_count": null,
      "metadata": {
        "id": "_nTW7FmY1H3G",
        "outputId": "ff75e5b2-e535-41d6-bf5a-b78b7b285513"
      },
      "outputs": [
        {
          "data": {
            "text/html": [
              "<div>\n",
              "<style scoped>\n",
              "    .dataframe tbody tr th:only-of-type {\n",
              "        vertical-align: middle;\n",
              "    }\n",
              "\n",
              "    .dataframe tbody tr th {\n",
              "        vertical-align: top;\n",
              "    }\n",
              "\n",
              "    .dataframe thead th {\n",
              "        text-align: right;\n",
              "    }\n",
              "</style>\n",
              "<table border=\"1\" class=\"dataframe\">\n",
              "  <thead>\n",
              "    <tr style=\"text-align: right;\">\n",
              "      <th></th>\n",
              "      <th>tenure</th>\n",
              "      <th>MonthlyCharges</th>\n",
              "      <th>SeniorCitizen</th>\n",
              "      <th>TotalCharges</th>\n",
              "    </tr>\n",
              "  </thead>\n",
              "  <tbody>\n",
              "    <tr>\n",
              "      <th>count</th>\n",
              "      <td>7043.000000</td>\n",
              "      <td>7043.000000</td>\n",
              "      <td>7043.000000</td>\n",
              "      <td>7032.000000</td>\n",
              "    </tr>\n",
              "    <tr>\n",
              "      <th>mean</th>\n",
              "      <td>32.371149</td>\n",
              "      <td>64.761692</td>\n",
              "      <td>0.162147</td>\n",
              "      <td>2283.300441</td>\n",
              "    </tr>\n",
              "    <tr>\n",
              "      <th>std</th>\n",
              "      <td>24.559481</td>\n",
              "      <td>30.090047</td>\n",
              "      <td>0.368612</td>\n",
              "      <td>2266.771362</td>\n",
              "    </tr>\n",
              "    <tr>\n",
              "      <th>min</th>\n",
              "      <td>0.000000</td>\n",
              "      <td>18.250000</td>\n",
              "      <td>0.000000</td>\n",
              "      <td>18.800000</td>\n",
              "    </tr>\n",
              "    <tr>\n",
              "      <th>25%</th>\n",
              "      <td>9.000000</td>\n",
              "      <td>35.500000</td>\n",
              "      <td>0.000000</td>\n",
              "      <td>401.450000</td>\n",
              "    </tr>\n",
              "    <tr>\n",
              "      <th>50%</th>\n",
              "      <td>29.000000</td>\n",
              "      <td>70.350000</td>\n",
              "      <td>0.000000</td>\n",
              "      <td>1397.475000</td>\n",
              "    </tr>\n",
              "    <tr>\n",
              "      <th>75%</th>\n",
              "      <td>55.000000</td>\n",
              "      <td>89.850000</td>\n",
              "      <td>0.000000</td>\n",
              "      <td>3794.737500</td>\n",
              "    </tr>\n",
              "    <tr>\n",
              "      <th>90%</th>\n",
              "      <td>69.000000</td>\n",
              "      <td>102.600000</td>\n",
              "      <td>1.000000</td>\n",
              "      <td>5976.640000</td>\n",
              "    </tr>\n",
              "    <tr>\n",
              "      <th>95%</th>\n",
              "      <td>72.000000</td>\n",
              "      <td>107.400000</td>\n",
              "      <td>1.000000</td>\n",
              "      <td>6923.590000</td>\n",
              "    </tr>\n",
              "    <tr>\n",
              "      <th>99%</th>\n",
              "      <td>72.000000</td>\n",
              "      <td>114.729000</td>\n",
              "      <td>1.000000</td>\n",
              "      <td>8039.883000</td>\n",
              "    </tr>\n",
              "    <tr>\n",
              "      <th>max</th>\n",
              "      <td>72.000000</td>\n",
              "      <td>118.750000</td>\n",
              "      <td>1.000000</td>\n",
              "      <td>8684.800000</td>\n",
              "    </tr>\n",
              "  </tbody>\n",
              "</table>\n",
              "</div>"
            ],
            "text/plain": [
              "            tenure  MonthlyCharges  SeniorCitizen  TotalCharges\n",
              "count  7043.000000     7043.000000    7043.000000   7032.000000\n",
              "mean     32.371149       64.761692       0.162147   2283.300441\n",
              "std      24.559481       30.090047       0.368612   2266.771362\n",
              "min       0.000000       18.250000       0.000000     18.800000\n",
              "25%       9.000000       35.500000       0.000000    401.450000\n",
              "50%      29.000000       70.350000       0.000000   1397.475000\n",
              "75%      55.000000       89.850000       0.000000   3794.737500\n",
              "90%      69.000000      102.600000       1.000000   5976.640000\n",
              "95%      72.000000      107.400000       1.000000   6923.590000\n",
              "99%      72.000000      114.729000       1.000000   8039.883000\n",
              "max      72.000000      118.750000       1.000000   8684.800000"
            ]
          },
          "execution_count": 15,
          "metadata": {},
          "output_type": "execute_result"
        }
      ],
      "source": [
        "# Checking outliers at 25%,50%,75%,90%,95% and 99%\n",
        "\n"
      ]
    },
    {
      "cell_type": "markdown",
      "metadata": {
        "id": "YdNiiA-b1H3G"
      },
      "source": [
        "From the distribution shown above, you can see that there no outliner in your data as the numbers are gradually increasing."
      ]
    },
    {
      "cell_type": "markdown",
      "metadata": {
        "id": "xFMBabi91H3H"
      },
      "source": [
        "### **`Checking for Missing Values and Inputing Them`**\n",
        "\n",
        "<p style='text-align: right;'> 5 points</p>\n"
      ]
    },
    {
      "cell_type": "code",
      "execution_count": null,
      "metadata": {
        "id": "QxR8EcTs1H3H",
        "outputId": "b2d21674-e580-4c67-fb98-0cf90c26d1bf"
      },
      "outputs": [
        {
          "data": {
            "text/plain": [
              "customerID                                0\n",
              "tenure                                    0\n",
              "PhoneService                              0\n",
              "PaperlessBilling                          0\n",
              "MonthlyCharges                            0\n",
              "TotalCharges                             11\n",
              "Churn                                     0\n",
              "SeniorCitizen                             0\n",
              "Partner                                   0\n",
              "Dependents                                0\n",
              "Contract_One year                         0\n",
              "Contract_Two year                         0\n",
              "PaymentMethod_Credit card (automatic)     0\n",
              "PaymentMethod_Electronic check            0\n",
              "PaymentMethod_Mailed check                0\n",
              "gender_Male                               0\n",
              "MultipleLines_No                          0\n",
              "MultipleLines_Yes                         0\n",
              "InternetService_Fiber optic               0\n",
              "InternetService_No                        0\n",
              "OnlineSecurity_No                         0\n",
              "OnlineSecurity_Yes                        0\n",
              "OnlineBackup_No                           0\n",
              "OnlineBackup_Yes                          0\n",
              "DeviceProtection_No                       0\n",
              "DeviceProtection_Yes                      0\n",
              "TechSupport_No                            0\n",
              "TechSupport_Yes                           0\n",
              "StreamingTV_No                            0\n",
              "StreamingTV_Yes                           0\n",
              "StreamingMovies_No                        0\n",
              "StreamingMovies_Yes                       0\n",
              "dtype: int64"
            ]
          },
          "execution_count": 16,
          "metadata": {},
          "output_type": "execute_result"
        }
      ],
      "source": [
        "# Checking total missing values (column-wise)\n",
        "\n"
      ]
    },
    {
      "cell_type": "code",
      "execution_count": null,
      "metadata": {
        "id": "9_e_fOrP1H3H",
        "outputId": "f7893f14-7a32-4f9c-9f71-8da21cfb0a30"
      },
      "outputs": [
        {
          "data": {
            "text/plain": [
              "customerID                               0.00\n",
              "tenure                                   0.00\n",
              "PhoneService                             0.00\n",
              "PaperlessBilling                         0.00\n",
              "MonthlyCharges                           0.00\n",
              "TotalCharges                             0.16\n",
              "Churn                                    0.00\n",
              "SeniorCitizen                            0.00\n",
              "Partner                                  0.00\n",
              "Dependents                               0.00\n",
              "Contract_One year                        0.00\n",
              "Contract_Two year                        0.00\n",
              "PaymentMethod_Credit card (automatic)    0.00\n",
              "PaymentMethod_Electronic check           0.00\n",
              "PaymentMethod_Mailed check               0.00\n",
              "gender_Male                              0.00\n",
              "MultipleLines_No                         0.00\n",
              "MultipleLines_Yes                        0.00\n",
              "InternetService_Fiber optic              0.00\n",
              "InternetService_No                       0.00\n",
              "OnlineSecurity_No                        0.00\n",
              "OnlineSecurity_Yes                       0.00\n",
              "OnlineBackup_No                          0.00\n",
              "OnlineBackup_Yes                         0.00\n",
              "DeviceProtection_No                      0.00\n",
              "DeviceProtection_Yes                     0.00\n",
              "TechSupport_No                           0.00\n",
              "TechSupport_Yes                          0.00\n",
              "StreamingTV_No                           0.00\n",
              "StreamingTV_Yes                          0.00\n",
              "StreamingMovies_No                       0.00\n",
              "StreamingMovies_Yes                      0.00\n",
              "dtype: float64"
            ]
          },
          "execution_count": 17,
          "metadata": {},
          "output_type": "execute_result"
        }
      ],
      "source": [
        "# Checking the percentage of missing values\n",
        "\n"
      ]
    },
    {
      "cell_type": "markdown",
      "metadata": {
        "id": "y_CUot3u1H3I"
      },
      "source": [
        "It means that 11/7043 = 0.001561834 i.e 0.15%, the best option to get rid of these null values in this scenario is to remove these observations from the analysis"
      ]
    },
    {
      "cell_type": "code",
      "execution_count": null,
      "metadata": {
        "id": "bM9HxD0Z1H3I"
      },
      "outputs": [],
      "source": [
        "# Removing NaN form TotalCharges rows\n",
        "telecom = \n"
      ]
    },
    {
      "cell_type": "code",
      "execution_count": null,
      "metadata": {
        "id": "lyBg-4fp1H3I",
        "outputId": "88b697b6-45cf-446b-b8b7-23f9e10eb420"
      },
      "outputs": [
        {
          "data": {
            "text/plain": [
              "customerID                               0.0\n",
              "tenure                                   0.0\n",
              "PhoneService                             0.0\n",
              "PaperlessBilling                         0.0\n",
              "MonthlyCharges                           0.0\n",
              "TotalCharges                             0.0\n",
              "Churn                                    0.0\n",
              "SeniorCitizen                            0.0\n",
              "Partner                                  0.0\n",
              "Dependents                               0.0\n",
              "Contract_One year                        0.0\n",
              "Contract_Two year                        0.0\n",
              "PaymentMethod_Credit card (automatic)    0.0\n",
              "PaymentMethod_Electronic check           0.0\n",
              "PaymentMethod_Mailed check               0.0\n",
              "gender_Male                              0.0\n",
              "MultipleLines_No                         0.0\n",
              "MultipleLines_Yes                        0.0\n",
              "InternetService_Fiber optic              0.0\n",
              "InternetService_No                       0.0\n",
              "OnlineSecurity_No                        0.0\n",
              "OnlineSecurity_Yes                       0.0\n",
              "OnlineBackup_No                          0.0\n",
              "OnlineBackup_Yes                         0.0\n",
              "DeviceProtection_No                      0.0\n",
              "DeviceProtection_Yes                     0.0\n",
              "TechSupport_No                           0.0\n",
              "TechSupport_Yes                          0.0\n",
              "StreamingTV_No                           0.0\n",
              "StreamingTV_Yes                          0.0\n",
              "StreamingMovies_No                       0.0\n",
              "StreamingMovies_Yes                      0.0\n",
              "dtype: float64"
            ]
          },
          "execution_count": 19,
          "metadata": {},
          "output_type": "execute_result"
        }
      ],
      "source": [
        "# Lets Check percentage of missing values after removing the missing values\n",
        "\n"
      ]
    },
    {
      "cell_type": "markdown",
      "metadata": {
        "id": "xXxFMy8W1H3J"
      },
      "source": [
        "Now we don't have any missing values"
      ]
    },
    {
      "cell_type": "markdown",
      "metadata": {
        "id": "VB7WcLhv1H3K"
      },
      "source": [
        "### **`Feature Standardisation`**\n",
        "\n",
        "<p style='text-align: right;'> 6 points</p>\n",
        "\n",
        "\n",
        "Standardization is one of the scaling technique where the values are centered around the mean with a unit standard deviation. This means that the mean of the attribute becomes zero and the resultant distribution has a unit standard deviation.\n",
        "\n",
        "Here’s the formula for standardization:\n",
        "\n",
        "\n",
        "![image.png](attachment:image.png)\n",
        "\n",
        "![image-3.png](attachment:image-3.png)\n",
        "\n",
        "\n",
        "We are sure that you have got this Scaling concept clear from your previous assignements. But for the sake of your revision we\n",
        "provide you with following video."
      ]
    },
    {
      "cell_type": "markdown",
      "source": [
        "## **`Watch Video 4 : Normalization  & Standardization`**"
      ],
      "metadata": {
        "id": "Y0390FYRn3j6"
      }
    },
    {
      "cell_type": "code",
      "execution_count": null,
      "metadata": {
        "id": "3l8IBOU51H3V",
        "outputId": "4ea2f723-f7b9-402e-e4ef-4ef3ebbe981f"
      },
      "outputs": [
        {
          "name": "stdout",
          "output_type": "stream",
          "text": [
            "<class 'pandas.core.frame.DataFrame'>\n",
            "Int64Index: 7032 entries, 0 to 7042\n",
            "Data columns (total 32 columns):\n",
            " #   Column                                 Non-Null Count  Dtype  \n",
            "---  ------                                 --------------  -----  \n",
            " 0   customerID                             7032 non-null   object \n",
            " 1   tenure                                 7032 non-null   int64  \n",
            " 2   PhoneService                           7032 non-null   int64  \n",
            " 3   PaperlessBilling                       7032 non-null   int64  \n",
            " 4   MonthlyCharges                         7032 non-null   float64\n",
            " 5   TotalCharges                           7032 non-null   float64\n",
            " 6   Churn                                  7032 non-null   int64  \n",
            " 7   SeniorCitizen                          7032 non-null   int64  \n",
            " 8   Partner                                7032 non-null   int64  \n",
            " 9   Dependents                             7032 non-null   int64  \n",
            " 10  Contract_One year                      7032 non-null   uint8  \n",
            " 11  Contract_Two year                      7032 non-null   uint8  \n",
            " 12  PaymentMethod_Credit card (automatic)  7032 non-null   uint8  \n",
            " 13  PaymentMethod_Electronic check         7032 non-null   uint8  \n",
            " 14  PaymentMethod_Mailed check             7032 non-null   uint8  \n",
            " 15  gender_Male                            7032 non-null   uint8  \n",
            " 16  MultipleLines_No                       7032 non-null   uint8  \n",
            " 17  MultipleLines_Yes                      7032 non-null   uint8  \n",
            " 18  InternetService_Fiber optic            7032 non-null   uint8  \n",
            " 19  InternetService_No                     7032 non-null   uint8  \n",
            " 20  OnlineSecurity_No                      7032 non-null   uint8  \n",
            " 21  OnlineSecurity_Yes                     7032 non-null   uint8  \n",
            " 22  OnlineBackup_No                        7032 non-null   uint8  \n",
            " 23  OnlineBackup_Yes                       7032 non-null   uint8  \n",
            " 24  DeviceProtection_No                    7032 non-null   uint8  \n",
            " 25  DeviceProtection_Yes                   7032 non-null   uint8  \n",
            " 26  TechSupport_No                         7032 non-null   uint8  \n",
            " 27  TechSupport_Yes                        7032 non-null   uint8  \n",
            " 28  StreamingTV_No                         7032 non-null   uint8  \n",
            " 29  StreamingTV_Yes                        7032 non-null   uint8  \n",
            " 30  StreamingMovies_No                     7032 non-null   uint8  \n",
            " 31  StreamingMovies_Yes                    7032 non-null   uint8  \n",
            "dtypes: float64(2), int64(7), object(1), uint8(22)\n",
            "memory usage: 755.4+ KB\n"
          ]
        }
      ],
      "source": [
        "# print non null count in df\n"
      ]
    },
    {
      "cell_type": "code",
      "execution_count": null,
      "metadata": {
        "id": "Oi1eA9vX1H3W"
      },
      "outputs": [],
      "source": [
        "# Getting all desired continues variables like 'tenure','MonthlyCharges' and 'TotalCharges' into one dataframe.\n",
        "df = \n"
      ]
    },
    {
      "cell_type": "code",
      "execution_count": null,
      "metadata": {
        "id": "cCoZkjrR1H3X"
      },
      "outputs": [],
      "source": [
        "# Standardising above continuous features\n",
        "\n",
        "std_df=\n"
      ]
    },
    {
      "cell_type": "code",
      "execution_count": null,
      "metadata": {
        "id": "Y1ZYQWrz1H3X"
      },
      "outputs": [],
      "source": [
        "# Dropping 'tenure','MonthlyCharges' and 'TotalCharges' from telecom as we want to add the standardised fetaures \n",
        "telecom = \n"
      ]
    },
    {
      "cell_type": "code",
      "execution_count": null,
      "metadata": {
        "id": "jKICUQv51H3Y"
      },
      "outputs": [],
      "source": [
        "# Add std_df into telecom\n",
        "telecom = \n"
      ]
    },
    {
      "cell_type": "code",
      "execution_count": null,
      "metadata": {
        "id": "acKybHHP1H3Y",
        "outputId": "d6b5cf95-f19e-47e3-f1c1-9885fc864407"
      },
      "outputs": [
        {
          "data": {
            "text/html": [
              "<div>\n",
              "<style scoped>\n",
              "    .dataframe tbody tr th:only-of-type {\n",
              "        vertical-align: middle;\n",
              "    }\n",
              "\n",
              "    .dataframe tbody tr th {\n",
              "        vertical-align: top;\n",
              "    }\n",
              "\n",
              "    .dataframe thead th {\n",
              "        text-align: right;\n",
              "    }\n",
              "</style>\n",
              "<table border=\"1\" class=\"dataframe\">\n",
              "  <thead>\n",
              "    <tr style=\"text-align: right;\">\n",
              "      <th></th>\n",
              "      <th>customerID</th>\n",
              "      <th>PhoneService</th>\n",
              "      <th>PaperlessBilling</th>\n",
              "      <th>Churn</th>\n",
              "      <th>SeniorCitizen</th>\n",
              "      <th>Partner</th>\n",
              "      <th>Dependents</th>\n",
              "      <th>Contract_One year</th>\n",
              "      <th>Contract_Two year</th>\n",
              "      <th>PaymentMethod_Credit card (automatic)</th>\n",
              "      <th>...</th>\n",
              "      <th>DeviceProtection_Yes</th>\n",
              "      <th>TechSupport_No</th>\n",
              "      <th>TechSupport_Yes</th>\n",
              "      <th>StreamingTV_No</th>\n",
              "      <th>StreamingTV_Yes</th>\n",
              "      <th>StreamingMovies_No</th>\n",
              "      <th>StreamingMovies_Yes</th>\n",
              "      <th>tenure</th>\n",
              "      <th>MonthlyCharges</th>\n",
              "      <th>TotalCharges</th>\n",
              "    </tr>\n",
              "  </thead>\n",
              "  <tbody>\n",
              "    <tr>\n",
              "      <th>7038</th>\n",
              "      <td>6840-RESVB</td>\n",
              "      <td>1</td>\n",
              "      <td>1</td>\n",
              "      <td>0</td>\n",
              "      <td>0</td>\n",
              "      <td>1</td>\n",
              "      <td>1</td>\n",
              "      <td>1</td>\n",
              "      <td>0</td>\n",
              "      <td>0</td>\n",
              "      <td>...</td>\n",
              "      <td>1</td>\n",
              "      <td>0</td>\n",
              "      <td>1</td>\n",
              "      <td>0</td>\n",
              "      <td>1</td>\n",
              "      <td>0</td>\n",
              "      <td>1</td>\n",
              "      <td>-0.343113</td>\n",
              "      <td>0.664821</td>\n",
              "      <td>-0.129171</td>\n",
              "    </tr>\n",
              "    <tr>\n",
              "      <th>7039</th>\n",
              "      <td>2234-XADUH</td>\n",
              "      <td>1</td>\n",
              "      <td>1</td>\n",
              "      <td>0</td>\n",
              "      <td>0</td>\n",
              "      <td>1</td>\n",
              "      <td>1</td>\n",
              "      <td>1</td>\n",
              "      <td>0</td>\n",
              "      <td>1</td>\n",
              "      <td>...</td>\n",
              "      <td>1</td>\n",
              "      <td>1</td>\n",
              "      <td>0</td>\n",
              "      <td>0</td>\n",
              "      <td>1</td>\n",
              "      <td>0</td>\n",
              "      <td>1</td>\n",
              "      <td>1.612459</td>\n",
              "      <td>1.276402</td>\n",
              "      <td>2.240896</td>\n",
              "    </tr>\n",
              "    <tr>\n",
              "      <th>7040</th>\n",
              "      <td>4801-JZAZL</td>\n",
              "      <td>0</td>\n",
              "      <td>1</td>\n",
              "      <td>0</td>\n",
              "      <td>0</td>\n",
              "      <td>1</td>\n",
              "      <td>1</td>\n",
              "      <td>0</td>\n",
              "      <td>0</td>\n",
              "      <td>0</td>\n",
              "      <td>...</td>\n",
              "      <td>0</td>\n",
              "      <td>1</td>\n",
              "      <td>0</td>\n",
              "      <td>1</td>\n",
              "      <td>0</td>\n",
              "      <td>1</td>\n",
              "      <td>0</td>\n",
              "      <td>-0.872746</td>\n",
              "      <td>-1.169921</td>\n",
              "      <td>-0.854453</td>\n",
              "    </tr>\n",
              "    <tr>\n",
              "      <th>7041</th>\n",
              "      <td>8361-LTMKD</td>\n",
              "      <td>1</td>\n",
              "      <td>1</td>\n",
              "      <td>1</td>\n",
              "      <td>1</td>\n",
              "      <td>1</td>\n",
              "      <td>0</td>\n",
              "      <td>0</td>\n",
              "      <td>0</td>\n",
              "      <td>0</td>\n",
              "      <td>...</td>\n",
              "      <td>0</td>\n",
              "      <td>1</td>\n",
              "      <td>0</td>\n",
              "      <td>1</td>\n",
              "      <td>0</td>\n",
              "      <td>1</td>\n",
              "      <td>0</td>\n",
              "      <td>-1.157934</td>\n",
              "      <td>0.319145</td>\n",
              "      <td>-0.872033</td>\n",
              "    </tr>\n",
              "    <tr>\n",
              "      <th>7042</th>\n",
              "      <td>3186-AJIEK</td>\n",
              "      <td>1</td>\n",
              "      <td>1</td>\n",
              "      <td>0</td>\n",
              "      <td>0</td>\n",
              "      <td>0</td>\n",
              "      <td>0</td>\n",
              "      <td>0</td>\n",
              "      <td>1</td>\n",
              "      <td>0</td>\n",
              "      <td>...</td>\n",
              "      <td>1</td>\n",
              "      <td>0</td>\n",
              "      <td>1</td>\n",
              "      <td>0</td>\n",
              "      <td>1</td>\n",
              "      <td>0</td>\n",
              "      <td>1</td>\n",
              "      <td>1.368012</td>\n",
              "      <td>1.357835</td>\n",
              "      <td>2.012201</td>\n",
              "    </tr>\n",
              "  </tbody>\n",
              "</table>\n",
              "<p>5 rows × 32 columns</p>\n",
              "</div>"
            ],
            "text/plain": [
              "      customerID  PhoneService  PaperlessBilling  Churn  SeniorCitizen  \\\n",
              "7038  6840-RESVB             1                 1      0              0   \n",
              "7039  2234-XADUH             1                 1      0              0   \n",
              "7040  4801-JZAZL             0                 1      0              0   \n",
              "7041  8361-LTMKD             1                 1      1              1   \n",
              "7042  3186-AJIEK             1                 1      0              0   \n",
              "\n",
              "      Partner  Dependents  Contract_One year  Contract_Two year  \\\n",
              "7038        1           1                  1                  0   \n",
              "7039        1           1                  1                  0   \n",
              "7040        1           1                  0                  0   \n",
              "7041        1           0                  0                  0   \n",
              "7042        0           0                  0                  1   \n",
              "\n",
              "      PaymentMethod_Credit card (automatic)  ...  DeviceProtection_Yes  \\\n",
              "7038                                      0  ...                     1   \n",
              "7039                                      1  ...                     1   \n",
              "7040                                      0  ...                     0   \n",
              "7041                                      0  ...                     0   \n",
              "7042                                      0  ...                     1   \n",
              "\n",
              "      TechSupport_No  TechSupport_Yes  StreamingTV_No  StreamingTV_Yes  \\\n",
              "7038               0                1               0                1   \n",
              "7039               1                0               0                1   \n",
              "7040               1                0               1                0   \n",
              "7041               1                0               1                0   \n",
              "7042               0                1               0                1   \n",
              "\n",
              "      StreamingMovies_No  StreamingMovies_Yes    tenure  MonthlyCharges  \\\n",
              "7038                   0                    1 -0.343113        0.664821   \n",
              "7039                   0                    1  1.612459        1.276402   \n",
              "7040                   1                    0 -0.872746       -1.169921   \n",
              "7041                   1                    0 -1.157934        0.319145   \n",
              "7042                   0                    1  1.368012        1.357835   \n",
              "\n",
              "      TotalCharges  \n",
              "7038     -0.129171  \n",
              "7039      2.240896  \n",
              "7040     -0.854453  \n",
              "7041     -0.872033  \n",
              "7042      2.012201  \n",
              "\n",
              "[5 rows x 32 columns]"
            ]
          },
          "execution_count": 25,
          "metadata": {},
          "output_type": "execute_result"
        }
      ],
      "source": [
        "# print telecom tail\n",
        "\n"
      ]
    },
    {
      "cell_type": "markdown",
      "metadata": {
        "id": "gnVBlgxe1H3Z"
      },
      "source": [
        "### **`Checking the Churn Rate`**\n",
        "\n",
        "<p style='text-align: right;'> 2 points</p>\n"
      ]
    },
    {
      "cell_type": "code",
      "execution_count": null,
      "metadata": {
        "id": "22ZbF7uR1H3Z"
      },
      "outputs": [],
      "source": [
        "#caluclating total churn percentage in our master dataframe\n",
        "churn = \n"
      ]
    },
    {
      "cell_type": "code",
      "execution_count": null,
      "metadata": {
        "id": "_OTIzq7z1H3Z",
        "outputId": "53990c1e-af40-4cb9-f897-908c1d7fb7c3"
      },
      "outputs": [
        {
          "data": {
            "text/plain": [
              "26.578498293515356"
            ]
          },
          "execution_count": 27,
          "metadata": {},
          "output_type": "execute_result"
        }
      ],
      "source": [
        "# print churn\n",
        "\n"
      ]
    },
    {
      "cell_type": "markdown",
      "metadata": {
        "id": "pidpQ9eF1H3a"
      },
      "source": [
        "We have almost 27% churn rate"
      ]
    },
    {
      "cell_type": "markdown",
      "metadata": {
        "id": "ygZztFai1H3a"
      },
      "source": [
        "## **`Model Building`**\n",
        "\n",
        "<p style='text-align: right;'> 11 points</p>\n",
        "\n",
        "Let's start by splitting our data into a training set and a test set."
      ]
    },
    {
      "cell_type": "code",
      "execution_count": null,
      "metadata": {
        "id": "HL2Tr-Yq1H3a"
      },
      "outputs": [],
      "source": [
        "# Putting feature variable to X. drop 'customerID' from features as its not informative for our prediction\n",
        "X = \n",
        "\n",
        "\n",
        "# Putting response variable to y\n",
        "y = \n"
      ]
    },
    {
      "cell_type": "code",
      "execution_count": null,
      "metadata": {
        "id": "GS23q7i61H3b",
        "outputId": "725832cd-9f13-4b4a-bfa1-be1527ee14b6"
      },
      "outputs": [
        {
          "data": {
            "text/plain": [
              "0    0\n",
              "1    0\n",
              "2    1\n",
              "3    0\n",
              "4    1\n",
              "Name: Churn, dtype: int64"
            ]
          },
          "execution_count": 29,
          "metadata": {},
          "output_type": "execute_result"
        }
      ],
      "source": [
        "# print y head\n",
        "\n"
      ]
    },
    {
      "cell_type": "markdown",
      "metadata": {
        "id": "VH8SUUm81H3b"
      },
      "source": [
        "### **`Running Your First Training Model`**"
      ]
    },
    {
      "cell_type": "code",
      "execution_count": null,
      "metadata": {
        "id": "-zp-fMtU1H3b"
      },
      "outputs": [],
      "source": [
        "# import statsmodels api as sm\n",
        "\n"
      ]
    },
    {
      "cell_type": "markdown",
      "metadata": {
        "id": "ZWukvXe11H3c"
      },
      "source": [
        "Statsmodels provides a Logit() function for performing logistic regression. The Logit() function accepts y and X as parameters and returns the Logit object. The model is then fitted to the data.\n",
        "\n",
        "Reference:"
      ]
    },
    {
      "cell_type": "markdown",
      "source": [
        "## **`Watch Video 5, 6 : Logistic Regression by Statsmodel(Theory) + Practical`**\n",
        "- File Used: https://drive.google.com/file/d/1bGq_HqmXhQSSf9fuL6Duol7QCRI-xxvs/view?usp=sharing\n",
        "- Dataset: https://www.kaggle.com/datasets/saurabh00007/diabetescsv"
      ],
      "metadata": {
        "id": "1eSB8-FWoE2o"
      }
    },
    {
      "cell_type": "markdown",
      "metadata": {
        "id": "4DV7Il-s1H3c"
      },
      "source": [
        "### **`Splitting Data into Training and Test Sets`**"
      ]
    },
    {
      "cell_type": "code",
      "execution_count": null,
      "metadata": {
        "id": "SWwmspOs1H3c"
      },
      "outputs": [],
      "source": [
        "# import train_test_split module\n",
        "\n"
      ]
    },
    {
      "cell_type": "code",
      "execution_count": null,
      "metadata": {
        "id": "kpA1h2wG1H3c"
      },
      "outputs": [],
      "source": [
        "# adding constant to X\n",
        "X=\n",
        "\n",
        "# Splitting the data into train and test with train_size=0.7 and random_state=100\n",
        "X_train, X_test, y_train, y_test = \n",
        "\n"
      ]
    },
    {
      "cell_type": "code",
      "execution_count": null,
      "metadata": {
        "scrolled": false,
        "id": "QCZCppxA1H3d",
        "outputId": "ec59b0bf-94a3-415f-cd80-93b9c2d9037a"
      },
      "outputs": [
        {
          "name": "stdout",
          "output_type": "stream",
          "text": [
            "Warning: Maximum number of iterations has been exceeded.\n",
            "         Current function value: 0.407291\n",
            "         Iterations: 35\n"
          ]
        },
        {
          "name": "stderr",
          "output_type": "stream",
          "text": [
            "C:\\Users\\HP\\anaconda3\\lib\\site-packages\\statsmodels\\base\\model.py:566: ConvergenceWarning: Maximum Likelihood optimization failed to converge. Check mle_retvals\n",
            "  warnings.warn(\"Maximum Likelihood optimization failed to \"\n"
          ]
        },
        {
          "data": {
            "text/html": [
              "<table class=\"simpletable\">\n",
              "<caption>Logit Regression Results</caption>\n",
              "<tr>\n",
              "  <th>Dep. Variable:</th>         <td>Churn</td>      <th>  No. Observations:  </th>  <td>  4922</td> \n",
              "</tr>\n",
              "<tr>\n",
              "  <th>Model:</th>                 <td>Logit</td>      <th>  Df Residuals:      </th>  <td>  4897</td> \n",
              "</tr>\n",
              "<tr>\n",
              "  <th>Method:</th>                 <td>MLE</td>       <th>  Df Model:          </th>  <td>    24</td> \n",
              "</tr>\n",
              "<tr>\n",
              "  <th>Date:</th>            <td>Mon, 12 Jul 2021</td> <th>  Pseudo R-squ.:     </th>  <td>0.2912</td> \n",
              "</tr>\n",
              "<tr>\n",
              "  <th>Time:</th>                <td>13:04:39</td>     <th>  Log-Likelihood:    </th> <td> -2004.7</td>\n",
              "</tr>\n",
              "<tr>\n",
              "  <th>converged:</th>             <td>False</td>      <th>  LL-Null:           </th> <td> -2828.2</td>\n",
              "</tr>\n",
              "<tr>\n",
              "  <th>Covariance Type:</th>     <td>nonrobust</td>    <th>  LLR p-value:       </th>  <td> 0.000</td> \n",
              "</tr>\n",
              "</table>\n",
              "<table class=\"simpletable\">\n",
              "<tr>\n",
              "                    <td></td>                       <th>coef</th>     <th>std err</th>      <th>z</th>      <th>P>|z|</th>  <th>[0.025</th>    <th>0.975]</th>  \n",
              "</tr>\n",
              "<tr>\n",
              "  <th>const</th>                                 <td>   -6.6607</td> <td> 2.64e+06</td> <td>-2.53e-06</td> <td> 1.000</td> <td>-5.17e+06</td> <td> 5.17e+06</td>\n",
              "</tr>\n",
              "<tr>\n",
              "  <th>PhoneService</th>                          <td>    1.5894</td> <td>      nan</td> <td>      nan</td> <td>   nan</td> <td>      nan</td> <td>      nan</td>\n",
              "</tr>\n",
              "<tr>\n",
              "  <th>PaperlessBilling</th>                      <td>    0.3254</td> <td>    0.090</td> <td>    3.614</td> <td> 0.000</td> <td>    0.149</td> <td>    0.502</td>\n",
              "</tr>\n",
              "<tr>\n",
              "  <th>SeniorCitizen</th>                         <td>    0.3984</td> <td>    0.102</td> <td>    3.924</td> <td> 0.000</td> <td>    0.199</td> <td>    0.597</td>\n",
              "</tr>\n",
              "<tr>\n",
              "  <th>Partner</th>                               <td>    0.0374</td> <td>    0.094</td> <td>    0.399</td> <td> 0.690</td> <td>   -0.146</td> <td>    0.221</td>\n",
              "</tr>\n",
              "<tr>\n",
              "  <th>Dependents</th>                            <td>   -0.1430</td> <td>    0.107</td> <td>   -1.332</td> <td> 0.183</td> <td>   -0.353</td> <td>    0.067</td>\n",
              "</tr>\n",
              "<tr>\n",
              "  <th>Contract_One year</th>                     <td>   -0.6578</td> <td>    0.129</td> <td>   -5.106</td> <td> 0.000</td> <td>   -0.910</td> <td>   -0.405</td>\n",
              "</tr>\n",
              "<tr>\n",
              "  <th>Contract_Two year</th>                     <td>   -1.2455</td> <td>    0.212</td> <td>   -5.874</td> <td> 0.000</td> <td>   -1.661</td> <td>   -0.830</td>\n",
              "</tr>\n",
              "<tr>\n",
              "  <th>PaymentMethod_Credit card (automatic)</th> <td>   -0.2577</td> <td>    0.137</td> <td>   -1.883</td> <td> 0.060</td> <td>   -0.526</td> <td>    0.011</td>\n",
              "</tr>\n",
              "<tr>\n",
              "  <th>PaymentMethod_Electronic check</th>        <td>    0.1615</td> <td>    0.113</td> <td>    1.434</td> <td> 0.152</td> <td>   -0.059</td> <td>    0.382</td>\n",
              "</tr>\n",
              "<tr>\n",
              "  <th>PaymentMethod_Mailed check</th>            <td>   -0.2536</td> <td>    0.137</td> <td>   -1.845</td> <td> 0.065</td> <td>   -0.523</td> <td>    0.016</td>\n",
              "</tr>\n",
              "<tr>\n",
              "  <th>gender_Male</th>                           <td>   -0.0346</td> <td>    0.078</td> <td>   -0.442</td> <td> 0.658</td> <td>   -0.188</td> <td>    0.119</td>\n",
              "</tr>\n",
              "<tr>\n",
              "  <th>MultipleLines_No</th>                      <td>   -0.6387</td> <td>      nan</td> <td>      nan</td> <td>   nan</td> <td>      nan</td> <td>      nan</td>\n",
              "</tr>\n",
              "<tr>\n",
              "  <th>MultipleLines_Yes</th>                     <td>   -0.0764</td> <td>      nan</td> <td>      nan</td> <td>   nan</td> <td>      nan</td> <td>      nan</td>\n",
              "</tr>\n",
              "<tr>\n",
              "  <th>InternetService_Fiber optic</th>           <td>    2.5124</td> <td>    0.967</td> <td>    2.599</td> <td> 0.009</td> <td>    0.618</td> <td>    4.407</td>\n",
              "</tr>\n",
              "<tr>\n",
              "  <th>InternetService_No</th>                    <td>   -0.0524</td> <td> 2.63e+06</td> <td>-1.99e-08</td> <td> 1.000</td> <td>-5.15e+06</td> <td> 5.15e+06</td>\n",
              "</tr>\n",
              "<tr>\n",
              "  <th>OnlineSecurity_No</th>                     <td>    4.2407</td> <td>      nan</td> <td>      nan</td> <td>   nan</td> <td>      nan</td> <td>      nan</td>\n",
              "</tr>\n",
              "<tr>\n",
              "  <th>OnlineSecurity_Yes</th>                    <td>    4.2162</td> <td>      nan</td> <td>      nan</td> <td>   nan</td> <td>      nan</td> <td>      nan</td>\n",
              "</tr>\n",
              "<tr>\n",
              "  <th>OnlineBackup_No</th>                       <td>    0.2359</td> <td>      nan</td> <td>      nan</td> <td>   nan</td> <td>      nan</td> <td>      nan</td>\n",
              "</tr>\n",
              "<tr>\n",
              "  <th>OnlineBackup_Yes</th>                      <td>    0.4100</td> <td>      nan</td> <td>      nan</td> <td>   nan</td> <td>      nan</td> <td>      nan</td>\n",
              "</tr>\n",
              "<tr>\n",
              "  <th>DeviceProtection_No</th>                   <td>   -0.8715</td> <td> 1.61e+06</td> <td>-5.43e-07</td> <td> 1.000</td> <td>-3.15e+06</td> <td> 3.15e+06</td>\n",
              "</tr>\n",
              "<tr>\n",
              "  <th>DeviceProtection_Yes</th>                  <td>   -0.5486</td> <td> 1.74e+06</td> <td>-3.15e-07</td> <td> 1.000</td> <td>-3.42e+06</td> <td> 3.42e+06</td>\n",
              "</tr>\n",
              "<tr>\n",
              "  <th>TechSupport_No</th>                        <td>   -0.2541</td> <td>      nan</td> <td>      nan</td> <td>   nan</td> <td>      nan</td> <td>      nan</td>\n",
              "</tr>\n",
              "<tr>\n",
              "  <th>TechSupport_Yes</th>                       <td>   -0.2846</td> <td>      nan</td> <td>      nan</td> <td>   nan</td> <td>      nan</td> <td>      nan</td>\n",
              "</tr>\n",
              "<tr>\n",
              "  <th>StreamingTV_No</th>                        <td>   -0.2782</td> <td>      nan</td> <td>      nan</td> <td>   nan</td> <td>      nan</td> <td>      nan</td>\n",
              "</tr>\n",
              "<tr>\n",
              "  <th>StreamingTV_Yes</th>                       <td>    0.6816</td> <td>      nan</td> <td>      nan</td> <td>   nan</td> <td>      nan</td> <td>      nan</td>\n",
              "</tr>\n",
              "<tr>\n",
              "  <th>StreamingMovies_No</th>                    <td>   -0.3459</td> <td>      nan</td> <td>      nan</td> <td>   nan</td> <td>      nan</td> <td>      nan</td>\n",
              "</tr>\n",
              "<tr>\n",
              "  <th>StreamingMovies_Yes</th>                   <td>    0.5024</td> <td>      nan</td> <td>      nan</td> <td>   nan</td> <td>      nan</td> <td>      nan</td>\n",
              "</tr>\n",
              "<tr>\n",
              "  <th>tenure</th>                                <td>   -1.5198</td> <td>    0.190</td> <td>   -8.015</td> <td> 0.000</td> <td>   -1.891</td> <td>   -1.148</td>\n",
              "</tr>\n",
              "<tr>\n",
              "  <th>MonthlyCharges</th>                        <td>   -2.1817</td> <td>    1.160</td> <td>   -1.880</td> <td> 0.060</td> <td>   -4.456</td> <td>    0.092</td>\n",
              "</tr>\n",
              "<tr>\n",
              "  <th>TotalCharges</th>                          <td>    0.7329</td> <td>    0.198</td> <td>    3.705</td> <td> 0.000</td> <td>    0.345</td> <td>    1.121</td>\n",
              "</tr>\n",
              "</table>"
            ],
            "text/plain": [
              "<class 'statsmodels.iolib.summary.Summary'>\n",
              "\"\"\"\n",
              "                           Logit Regression Results                           \n",
              "==============================================================================\n",
              "Dep. Variable:                  Churn   No. Observations:                 4922\n",
              "Model:                          Logit   Df Residuals:                     4897\n",
              "Method:                           MLE   Df Model:                           24\n",
              "Date:                Mon, 12 Jul 2021   Pseudo R-squ.:                  0.2912\n",
              "Time:                        13:04:39   Log-Likelihood:                -2004.7\n",
              "converged:                      False   LL-Null:                       -2828.2\n",
              "Covariance Type:            nonrobust   LLR p-value:                     0.000\n",
              "=========================================================================================================\n",
              "                                            coef    std err          z      P>|z|      [0.025      0.975]\n",
              "---------------------------------------------------------------------------------------------------------\n",
              "const                                    -6.6607   2.64e+06  -2.53e-06      1.000   -5.17e+06    5.17e+06\n",
              "PhoneService                              1.5894        nan        nan        nan         nan         nan\n",
              "PaperlessBilling                          0.3254      0.090      3.614      0.000       0.149       0.502\n",
              "SeniorCitizen                             0.3984      0.102      3.924      0.000       0.199       0.597\n",
              "Partner                                   0.0374      0.094      0.399      0.690      -0.146       0.221\n",
              "Dependents                               -0.1430      0.107     -1.332      0.183      -0.353       0.067\n",
              "Contract_One year                        -0.6578      0.129     -5.106      0.000      -0.910      -0.405\n",
              "Contract_Two year                        -1.2455      0.212     -5.874      0.000      -1.661      -0.830\n",
              "PaymentMethod_Credit card (automatic)    -0.2577      0.137     -1.883      0.060      -0.526       0.011\n",
              "PaymentMethod_Electronic check            0.1615      0.113      1.434      0.152      -0.059       0.382\n",
              "PaymentMethod_Mailed check               -0.2536      0.137     -1.845      0.065      -0.523       0.016\n",
              "gender_Male                              -0.0346      0.078     -0.442      0.658      -0.188       0.119\n",
              "MultipleLines_No                         -0.6387        nan        nan        nan         nan         nan\n",
              "MultipleLines_Yes                        -0.0764        nan        nan        nan         nan         nan\n",
              "InternetService_Fiber optic               2.5124      0.967      2.599      0.009       0.618       4.407\n",
              "InternetService_No                       -0.0524   2.63e+06  -1.99e-08      1.000   -5.15e+06    5.15e+06\n",
              "OnlineSecurity_No                         4.2407        nan        nan        nan         nan         nan\n",
              "OnlineSecurity_Yes                        4.2162        nan        nan        nan         nan         nan\n",
              "OnlineBackup_No                           0.2359        nan        nan        nan         nan         nan\n",
              "OnlineBackup_Yes                          0.4100        nan        nan        nan         nan         nan\n",
              "DeviceProtection_No                      -0.8715   1.61e+06  -5.43e-07      1.000   -3.15e+06    3.15e+06\n",
              "DeviceProtection_Yes                     -0.5486   1.74e+06  -3.15e-07      1.000   -3.42e+06    3.42e+06\n",
              "TechSupport_No                           -0.2541        nan        nan        nan         nan         nan\n",
              "TechSupport_Yes                          -0.2846        nan        nan        nan         nan         nan\n",
              "StreamingTV_No                           -0.2782        nan        nan        nan         nan         nan\n",
              "StreamingTV_Yes                           0.6816        nan        nan        nan         nan         nan\n",
              "StreamingMovies_No                       -0.3459        nan        nan        nan         nan         nan\n",
              "StreamingMovies_Yes                       0.5024        nan        nan        nan         nan         nan\n",
              "tenure                                   -1.5198      0.190     -8.015      0.000      -1.891      -1.148\n",
              "MonthlyCharges                           -2.1817      1.160     -1.880      0.060      -4.456       0.092\n",
              "TotalCharges                              0.7329      0.198      3.705      0.000       0.345       1.121\n",
              "=========================================================================================================\n",
              "\"\"\""
            ]
          },
          "execution_count": 33,
          "metadata": {},
          "output_type": "execute_result"
        }
      ],
      "source": [
        "# Logistic regression model\n",
        "logm1 = \n",
        "\n",
        "\n"
      ]
    },
    {
      "cell_type": "markdown",
      "metadata": {
        "id": "KT5wCrDt1H3d"
      },
      "source": [
        "Hey buddy, from above you can see that there few statistically insignificant variables present in our dataset. Lets drop them off.\n",
        "\n",
        "Here drop those variables which has less than 70% confidence to reject the null hyposthesis looking into P values.\n",
        "\n",
        "Few insignificant variables we can see from above stats summary are:\n",
        " \n",
        "    partner\n",
        "    Dependents\t\n",
        "    PaymentMethod_Electronic check\t\n",
        "    gender_Male\n",
        "    InternetService_No\n",
        "    DeviceProtection_no\n",
        "    DeviceProtection_Yes\n",
        "    \n",
        "So lets drop them off from X\n",
        "\n",
        "Note: We are not dropping const variable as it is required for OLS model building"
      ]
    },
    {
      "cell_type": "code",
      "execution_count": null,
      "metadata": {
        "id": "xj4XnLzp1H3e"
      },
      "outputs": [],
      "source": [
        "\n"
      ]
    },
    {
      "cell_type": "markdown",
      "metadata": {
        "id": "30CVw0F71H3f"
      },
      "source": [
        "### **`Correlation Matrix`**\n",
        "\n",
        "<p style='text-align: right;'> 2 points</p>\n"
      ]
    },
    {
      "cell_type": "code",
      "execution_count": null,
      "metadata": {
        "id": "1MHpzxVj1H3f"
      },
      "outputs": [],
      "source": [
        "# Importing matplotlib and seaborn\n",
        "\n",
        "\n",
        "%matplotlib inline"
      ]
    },
    {
      "cell_type": "code",
      "execution_count": null,
      "metadata": {
        "id": "aD4eP2we1H3f",
        "outputId": "43534866-2770-435a-dd6f-0c63ec7996a5"
      },
      "outputs": [
        {
          "data": {
            "text/plain": [
              "<AxesSubplot:>"
            ]
          },
          "execution_count": 36,
          "metadata": {},
          "output_type": "execute_result"
        },
        {
          "data": {
            "image/png": "[encoded data removed]",
            "text/plain": [
              "<Figure size 1440x720 with 2 Axes>"
            ]
          },
          "metadata": {
            "needs_background": "light"
          },
          "output_type": "display_data"
        }
      ],
      "source": [
        "# Let's see the correlation matrix \n",
        "\n",
        "       # Size of the figure\n",
        "\n"
      ]
    },
    {
      "cell_type": "markdown",
      "metadata": {
        "id": "7ZW1asRD1H3g"
      },
      "source": [
        "### **`Dropping highly correlated variables.`**\n",
        "\n",
        "<p style='text-align: right;'> 4 points</p>\n",
        "\n",
        "\n",
        "Check video: \n",
        "## **`Watch Video 7 : Dropping Highly Correlated Variables`**\n"
      ]
    },
    {
      "cell_type": "code",
      "execution_count": null,
      "metadata": {
        "id": "NEIkIpKR1H3g"
      },
      "outputs": [],
      "source": [
        "# Write a correlation function to drop correlleation function to remove highly correlated variables (>70%)\n",
        "def correlation(dataset, threshold):\n",
        "    # Set of all the names of correlated columns\n",
        "    col_corr =\n",
        "    \n",
        "    # apply corr method on dataset\n",
        "    corr_matrix = \n",
        "    \n",
        "    for i in range(len(corr_matrix.columns)):\n",
        "        for j in range(i):\n",
        "\n",
        "            # we are interested in absolute coeff value \n",
        "            if # write condition here:\n",
        "                # getting the name of column\n",
        "                colname = \n",
        "                # add in col_corr \n",
        "                \n",
        "\n",
        "    # return col_corr\n",
        "    "
      ]
    },
    {
      "cell_type": "code",
      "execution_count": null,
      "metadata": {
        "id": "6juWpSar1H3g",
        "outputId": "1a4e9ba4-42ec-4052-ffb6-27298664edc6"
      },
      "outputs": [
        {
          "data": {
            "text/plain": [
              "3"
            ]
          },
          "execution_count": 38,
          "metadata": {},
          "output_type": "execute_result"
        }
      ],
      "source": [
        "# call the function with threshold\n",
        "corr_features = \n",
        "\n",
        "len(set(corr_features))"
      ]
    },
    {
      "cell_type": "code",
      "execution_count": null,
      "metadata": {
        "id": "FlQRlllq1H3h",
        "outputId": "a1665c81-894a-48eb-87c1-a0bf9ca72277"
      },
      "outputs": [
        {
          "data": {
            "text/plain": [
              "{'MonthlyCharges', 'MultipleLines_Yes', 'TotalCharges'}"
            ]
          },
          "execution_count": 39,
          "metadata": {},
          "output_type": "execute_result"
        }
      ],
      "source": [
        "# print corr_features\n",
        "\n",
        "\n"
      ]
    },
    {
      "cell_type": "code",
      "execution_count": null,
      "metadata": {
        "id": "p88T9pA11H3h"
      },
      "outputs": [],
      "source": [
        "# Lets drop the above variables from X\n",
        "\n",
        "\n"
      ]
    },
    {
      "cell_type": "markdown",
      "metadata": {
        "id": "EELjfVXY1H3h"
      },
      "source": [
        "## **`Dropping Variable with high VIF`**\n",
        "\n",
        "<p style='text-align: right;'> 5 points</p>\n",
        "\n",
        "\n",
        "Lets check multicollinearity using Variance inflation factor too!\n",
        "\n",
        "Reference:\n",
        "## **`Watch Video 8 : Variance Inflation Factor`**"
      ]
    },
    {
      "cell_type": "code",
      "execution_count": null,
      "metadata": {
        "id": "GYuOVzWL1H3i",
        "outputId": "a97fbf87-590d-414c-dbbd-9259b6c95bc7"
      },
      "outputs": [
        {
          "name": "stderr",
          "output_type": "stream",
          "text": [
            "C:\\Users\\HP\\anaconda3\\lib\\site-packages\\statsmodels\\stats\\outliers_influence.py:193: RuntimeWarning: divide by zero encountered in double_scalars\n",
            "  vif = 1. / (1. - r_squared_i)\n"
          ]
        }
      ],
      "source": [
        "# Import library for VIF\n",
        "\n",
        "\n",
        "# empyty dataframe\n",
        "vif = \n",
        "\n",
        "#variables names with all variables in column X\n",
        "\n",
        "\n",
        "# Vif scores for corresponding features\n",
        "\n"
      ]
    },
    {
      "cell_type": "code",
      "execution_count": null,
      "metadata": {
        "id": "fKlSd2LX1H3i",
        "outputId": "c1e16f14-44fd-4508-df11-5fd8e09ecc09"
      },
      "outputs": [
        {
          "data": {
            "text/html": [
              "<div>\n",
              "<style scoped>\n",
              "    .dataframe tbody tr th:only-of-type {\n",
              "        vertical-align: middle;\n",
              "    }\n",
              "\n",
              "    .dataframe tbody tr th {\n",
              "        vertical-align: top;\n",
              "    }\n",
              "\n",
              "    .dataframe thead th {\n",
              "        text-align: right;\n",
              "    }\n",
              "</style>\n",
              "<table border=\"1\" class=\"dataframe\">\n",
              "  <thead>\n",
              "    <tr style=\"text-align: right;\">\n",
              "      <th></th>\n",
              "      <th>variables</th>\n",
              "      <th>VIF</th>\n",
              "    </tr>\n",
              "  </thead>\n",
              "  <tbody>\n",
              "    <tr>\n",
              "      <th>3</th>\n",
              "      <td>SeniorCitizen</td>\n",
              "      <td>1.11</td>\n",
              "    </tr>\n",
              "    <tr>\n",
              "      <th>6</th>\n",
              "      <td>PaymentMethod_Credit card (automatic)</td>\n",
              "      <td>1.17</td>\n",
              "    </tr>\n",
              "    <tr>\n",
              "      <th>2</th>\n",
              "      <td>PaperlessBilling</td>\n",
              "      <td>1.21</td>\n",
              "    </tr>\n",
              "    <tr>\n",
              "      <th>7</th>\n",
              "      <td>PaymentMethod_Mailed check</td>\n",
              "      <td>1.37</td>\n",
              "    </tr>\n",
              "    <tr>\n",
              "      <th>1</th>\n",
              "      <td>PhoneService</td>\n",
              "      <td>1.45</td>\n",
              "    </tr>\n",
              "    <tr>\n",
              "      <th>8</th>\n",
              "      <td>MultipleLines_No</td>\n",
              "      <td>1.46</td>\n",
              "    </tr>\n",
              "    <tr>\n",
              "      <th>4</th>\n",
              "      <td>Contract_One year</td>\n",
              "      <td>1.60</td>\n",
              "    </tr>\n",
              "    <tr>\n",
              "      <th>9</th>\n",
              "      <td>InternetService_Fiber optic</td>\n",
              "      <td>1.99</td>\n",
              "    </tr>\n",
              "    <tr>\n",
              "      <th>5</th>\n",
              "      <td>Contract_Two year</td>\n",
              "      <td>2.59</td>\n",
              "    </tr>\n",
              "    <tr>\n",
              "      <th>20</th>\n",
              "      <td>tenure</td>\n",
              "      <td>2.63</td>\n",
              "    </tr>\n",
              "    <tr>\n",
              "      <th>0</th>\n",
              "      <td>const</td>\n",
              "      <td>26.32</td>\n",
              "    </tr>\n",
              "    <tr>\n",
              "      <th>11</th>\n",
              "      <td>OnlineSecurity_Yes</td>\n",
              "      <td>inf</td>\n",
              "    </tr>\n",
              "    <tr>\n",
              "      <th>12</th>\n",
              "      <td>OnlineBackup_No</td>\n",
              "      <td>inf</td>\n",
              "    </tr>\n",
              "    <tr>\n",
              "      <th>13</th>\n",
              "      <td>OnlineBackup_Yes</td>\n",
              "      <td>inf</td>\n",
              "    </tr>\n",
              "    <tr>\n",
              "      <th>14</th>\n",
              "      <td>TechSupport_No</td>\n",
              "      <td>inf</td>\n",
              "    </tr>\n",
              "    <tr>\n",
              "      <th>15</th>\n",
              "      <td>TechSupport_Yes</td>\n",
              "      <td>inf</td>\n",
              "    </tr>\n",
              "    <tr>\n",
              "      <th>16</th>\n",
              "      <td>StreamingTV_No</td>\n",
              "      <td>inf</td>\n",
              "    </tr>\n",
              "    <tr>\n",
              "      <th>17</th>\n",
              "      <td>StreamingTV_Yes</td>\n",
              "      <td>inf</td>\n",
              "    </tr>\n",
              "    <tr>\n",
              "      <th>18</th>\n",
              "      <td>StreamingMovies_No</td>\n",
              "      <td>inf</td>\n",
              "    </tr>\n",
              "    <tr>\n",
              "      <th>19</th>\n",
              "      <td>StreamingMovies_Yes</td>\n",
              "      <td>inf</td>\n",
              "    </tr>\n",
              "    <tr>\n",
              "      <th>10</th>\n",
              "      <td>OnlineSecurity_No</td>\n",
              "      <td>inf</td>\n",
              "    </tr>\n",
              "  </tbody>\n",
              "</table>\n",
              "</div>"
            ],
            "text/plain": [
              "                                variables    VIF\n",
              "3                           SeniorCitizen   1.11\n",
              "6   PaymentMethod_Credit card (automatic)   1.17\n",
              "2                        PaperlessBilling   1.21\n",
              "7              PaymentMethod_Mailed check   1.37\n",
              "1                            PhoneService   1.45\n",
              "8                        MultipleLines_No   1.46\n",
              "4                       Contract_One year   1.60\n",
              "9             InternetService_Fiber optic   1.99\n",
              "5                       Contract_Two year   2.59\n",
              "20                                 tenure   2.63\n",
              "0                                   const  26.32\n",
              "11                     OnlineSecurity_Yes    inf\n",
              "12                        OnlineBackup_No    inf\n",
              "13                       OnlineBackup_Yes    inf\n",
              "14                         TechSupport_No    inf\n",
              "15                        TechSupport_Yes    inf\n",
              "16                         StreamingTV_No    inf\n",
              "17                        StreamingTV_Yes    inf\n",
              "18                     StreamingMovies_No    inf\n",
              "19                    StreamingMovies_Yes    inf\n",
              "10                      OnlineSecurity_No    inf"
            ]
          },
          "execution_count": 42,
          "metadata": {},
          "output_type": "execute_result"
        }
      ],
      "source": [
        "# print vif\n",
        "\n"
      ]
    },
    {
      "cell_type": "markdown",
      "metadata": {
        "id": "6nretj_B1H3j"
      },
      "source": [
        "Lets drop variables which are having infinite vif scores.\n",
        "\n",
        "they are:\n",
        "    \n",
        "    OnlineSecurity_No\n",
        "    OnlineSecurity_Yes\n",
        "    OnlineBackup_No\n",
        "    OnlineBackup_Yes\n",
        "    TechSupport_No\n",
        "    TechSupport_Yes\n",
        "    StreamingTV_No\n",
        "    StreamingTV_Yes\n",
        "    StreamingMovies_No\n",
        "    StreamingMovies_Yes"
      ]
    },
    {
      "cell_type": "code",
      "execution_count": null,
      "metadata": {
        "id": "N6MKx85a1H3j"
      },
      "outputs": [],
      "source": [
        "# Lets drop above variables also from X\n",
        "\n",
        "\n"
      ]
    },
    {
      "cell_type": "markdown",
      "metadata": {
        "id": "eGgUVMtU1H3k"
      },
      "source": [
        "### **`Checking the Correlation Matrix again`**"
      ]
    },
    {
      "cell_type": "markdown",
      "metadata": {
        "id": "Lvq5A2d01H3k"
      },
      "source": [
        "After dropping highly correlated variables now let's check the correlation matrix again."
      ]
    },
    {
      "cell_type": "code",
      "execution_count": null,
      "metadata": {
        "id": "nVxaC9qu1H3k",
        "outputId": "a9f400db-11b5-4223-cc0a-569a618da4a5"
      },
      "outputs": [
        {
          "data": {
            "text/plain": [
              "<AxesSubplot:>"
            ]
          },
          "execution_count": 44,
          "metadata": {},
          "output_type": "execute_result"
        },
        {
          "data": {
            "image/png": "[encoded data removed]",
            "text/plain": [
              "<Figure size 1440x720 with 2 Axes>"
            ]
          },
          "metadata": {
            "needs_background": "light"
          },
          "output_type": "display_data"
        }
      ],
      "source": [
        "\n"
      ]
    },
    {
      "cell_type": "markdown",
      "metadata": {
        "id": "PXHfBp0r1H3l"
      },
      "source": [
        "### **`Re-Running the Model`**\n",
        "\n",
        "<p style='text-align: right;'> 3 points</p>\n"
      ]
    },
    {
      "cell_type": "markdown",
      "metadata": {
        "id": "epPRo8YU1H3l"
      },
      "source": [
        "Now let's run our model again after dropping highly correlated variables"
      ]
    },
    {
      "cell_type": "code",
      "execution_count": null,
      "metadata": {
        "id": "lNXBtlnx1H3l",
        "outputId": "65fb53b2-27a9-48a5-8988-f336190f88b9"
      },
      "outputs": [
        {
          "name": "stdout",
          "output_type": "stream",
          "text": [
            "Optimization terminated successfully.\n",
            "         Current function value: 0.417905\n",
            "         Iterations 8\n"
          ]
        },
        {
          "data": {
            "text/html": [
              "<table class=\"simpletable\">\n",
              "<caption>Logit Regression Results</caption>\n",
              "<tr>\n",
              "  <th>Dep. Variable:</th>         <td>Churn</td>      <th>  No. Observations:  </th>  <td>  4922</td> \n",
              "</tr>\n",
              "<tr>\n",
              "  <th>Model:</th>                 <td>Logit</td>      <th>  Df Residuals:      </th>  <td>  4911</td> \n",
              "</tr>\n",
              "<tr>\n",
              "  <th>Method:</th>                 <td>MLE</td>       <th>  Df Model:          </th>  <td>    10</td> \n",
              "</tr>\n",
              "<tr>\n",
              "  <th>Date:</th>            <td>Mon, 12 Jul 2021</td> <th>  Pseudo R-squ.:     </th>  <td>0.2727</td> \n",
              "</tr>\n",
              "<tr>\n",
              "  <th>Time:</th>                <td>13:18:35</td>     <th>  Log-Likelihood:    </th> <td> -2056.9</td>\n",
              "</tr>\n",
              "<tr>\n",
              "  <th>converged:</th>             <td>True</td>       <th>  LL-Null:           </th> <td> -2828.2</td>\n",
              "</tr>\n",
              "<tr>\n",
              "  <th>Covariance Type:</th>     <td>nonrobust</td>    <th>  LLR p-value:       </th>  <td> 0.000</td> \n",
              "</tr>\n",
              "</table>\n",
              "<table class=\"simpletable\">\n",
              "<tr>\n",
              "                    <td></td>                       <th>coef</th>     <th>std err</th>      <th>z</th>      <th>P>|z|</th>  <th>[0.025</th>    <th>0.975]</th>  \n",
              "</tr>\n",
              "<tr>\n",
              "  <th>const</th>                                 <td>   -1.2686</td> <td>    0.151</td> <td>   -8.421</td> <td> 0.000</td> <td>   -1.564</td> <td>   -0.973</td>\n",
              "</tr>\n",
              "<tr>\n",
              "  <th>PhoneService</th>                          <td>   -0.4334</td> <td>    0.156</td> <td>   -2.771</td> <td> 0.006</td> <td>   -0.740</td> <td>   -0.127</td>\n",
              "</tr>\n",
              "<tr>\n",
              "  <th>PaperlessBilling</th>                      <td>    0.4239</td> <td>    0.088</td> <td>    4.831</td> <td> 0.000</td> <td>    0.252</td> <td>    0.596</td>\n",
              "</tr>\n",
              "<tr>\n",
              "  <th>SeniorCitizen</th>                         <td>    0.4801</td> <td>    0.099</td> <td>    4.830</td> <td> 0.000</td> <td>    0.285</td> <td>    0.675</td>\n",
              "</tr>\n",
              "<tr>\n",
              "  <th>Contract_One year</th>                     <td>   -0.7379</td> <td>    0.124</td> <td>   -5.973</td> <td> 0.000</td> <td>   -0.980</td> <td>   -0.496</td>\n",
              "</tr>\n",
              "<tr>\n",
              "  <th>Contract_Two year</th>                     <td>   -1.4344</td> <td>    0.203</td> <td>   -7.076</td> <td> 0.000</td> <td>   -1.832</td> <td>   -1.037</td>\n",
              "</tr>\n",
              "<tr>\n",
              "  <th>PaymentMethod_Credit card (automatic)</th> <td>   -0.4385</td> <td>    0.112</td> <td>   -3.927</td> <td> 0.000</td> <td>   -0.657</td> <td>   -0.220</td>\n",
              "</tr>\n",
              "<tr>\n",
              "  <th>PaymentMethod_Mailed check</th>            <td>   -0.4864</td> <td>    0.107</td> <td>   -4.560</td> <td> 0.000</td> <td>   -0.695</td> <td>   -0.277</td>\n",
              "</tr>\n",
              "<tr>\n",
              "  <th>MultipleLines_No</th>                      <td>   -0.3268</td> <td>    0.094</td> <td>   -3.487</td> <td> 0.000</td> <td>   -0.511</td> <td>   -0.143</td>\n",
              "</tr>\n",
              "<tr>\n",
              "  <th>InternetService_Fiber optic</th>           <td>    1.2979</td> <td>    0.099</td> <td>   13.065</td> <td> 0.000</td> <td>    1.103</td> <td>    1.493</td>\n",
              "</tr>\n",
              "<tr>\n",
              "  <th>tenure</th>                                <td>   -0.9134</td> <td>    0.063</td> <td>  -14.468</td> <td> 0.000</td> <td>   -1.037</td> <td>   -0.790</td>\n",
              "</tr>\n",
              "</table>"
            ],
            "text/plain": [
              "<class 'statsmodels.iolib.summary.Summary'>\n",
              "\"\"\"\n",
              "                           Logit Regression Results                           \n",
              "==============================================================================\n",
              "Dep. Variable:                  Churn   No. Observations:                 4922\n",
              "Model:                          Logit   Df Residuals:                     4911\n",
              "Method:                           MLE   Df Model:                           10\n",
              "Date:                Mon, 12 Jul 2021   Pseudo R-squ.:                  0.2727\n",
              "Time:                        13:18:35   Log-Likelihood:                -2056.9\n",
              "converged:                       True   LL-Null:                       -2828.2\n",
              "Covariance Type:            nonrobust   LLR p-value:                     0.000\n",
              "=========================================================================================================\n",
              "                                            coef    std err          z      P>|z|      [0.025      0.975]\n",
              "---------------------------------------------------------------------------------------------------------\n",
              "const                                    -1.2686      0.151     -8.421      0.000      -1.564      -0.973\n",
              "PhoneService                             -0.4334      0.156     -2.771      0.006      -0.740      -0.127\n",
              "PaperlessBilling                          0.4239      0.088      4.831      0.000       0.252       0.596\n",
              "SeniorCitizen                             0.4801      0.099      4.830      0.000       0.285       0.675\n",
              "Contract_One year                        -0.7379      0.124     -5.973      0.000      -0.980      -0.496\n",
              "Contract_Two year                        -1.4344      0.203     -7.076      0.000      -1.832      -1.037\n",
              "PaymentMethod_Credit card (automatic)    -0.4385      0.112     -3.927      0.000      -0.657      -0.220\n",
              "PaymentMethod_Mailed check               -0.4864      0.107     -4.560      0.000      -0.695      -0.277\n",
              "MultipleLines_No                         -0.3268      0.094     -3.487      0.000      -0.511      -0.143\n",
              "InternetService_Fiber optic               1.2979      0.099     13.065      0.000       1.103       1.493\n",
              "tenure                                   -0.9134      0.063    -14.468      0.000      -1.037      -0.790\n",
              "=========================================================================================================\n",
              "\"\"\""
            ]
          },
          "execution_count": 47,
          "metadata": {},
          "output_type": "execute_result"
        }
      ],
      "source": [
        "# Splitting the data into train and test with train_size=0.7 and random_state=100 again\n",
        "X_train, X_test, y_train, y_test = \n",
        "\n",
        "# call logit method on sm and pass train data\n",
        "logm2 = \n",
        "\n",
        "# call fit and summary on logm2\n",
        "\n"
      ]
    },
    {
      "cell_type": "markdown",
      "metadata": {
        "id": "PXpR0xCX1H3l"
      },
      "source": [
        "Now you can see after removing all multicollinear features we got all P values to zero,  so now we can say that all features are statistically significant.\n",
        "\n",
        "### **`Feature Selection Using RFE`**\n",
        "\n",
        "<p style='text-align: right;'> 5 points</p>\n",
        "\n",
        "\n",
        "Lets do feature selection using LogisticRegression with RFE"
      ]
    },
    {
      "cell_type": "code",
      "execution_count": null,
      "metadata": {
        "id": "nWEc0C_61H3m",
        "outputId": "c292c26c-5fb0-4e09-ad7a-338284f83aea"
      },
      "outputs": [
        {
          "name": "stdout",
          "output_type": "stream",
          "text": [
            "[False  True False False  True  True False False False  True  True]\n",
            "[7 1 2 6 1 1 5 4 3 1 1]\n"
          ]
        }
      ],
      "source": [
        "# import RFE and LogisticRegression\n",
        "\n",
        "\n",
        "\n",
        "\n",
        "# Initiate LogisticRegression()\n",
        "logreg = \n",
        "\n",
        "\n",
        " # Initialise RFE \n",
        "rfe =\n",
        "           \n",
        "\n",
        "# fitting RFE \n",
        "rfe = \n",
        "\n",
        "\n",
        "# Printing the boolean results\n",
        "\n",
        "    \n",
        "# Printing the ranking\n",
        "\n",
        "           "
      ]
    },
    {
      "cell_type": "code",
      "execution_count": null,
      "metadata": {
        "id": "YChCL62I1H3m",
        "outputId": "7d83b4c6-4482-46c5-d25a-672339fbe696"
      },
      "outputs": [
        {
          "data": {
            "text/plain": [
              "Index(['PhoneService', 'Contract_One year', 'Contract_Two year',\n",
              "       'InternetService_Fiber optic', 'tenure'],\n",
              "      dtype='object')"
            ]
          },
          "execution_count": 49,
          "metadata": {},
          "output_type": "execute_result"
        }
      ],
      "source": [
        "# printing column names which were suppported by RFE\n",
        "\n"
      ]
    },
    {
      "cell_type": "code",
      "execution_count": null,
      "metadata": {
        "id": "eb2WtoHD1H3m"
      },
      "outputs": [],
      "source": [
        "# Variables selected by RFE \n",
        "col = \n"
      ]
    },
    {
      "cell_type": "code",
      "execution_count": null,
      "metadata": {
        "id": "ayk_X8eF1H3n",
        "outputId": "22ce0408-dfe0-4460-ffcb-abeccbe323e6"
      },
      "outputs": [
        {
          "data": {
            "text/plain": [
              "LogisticRegression()"
            ]
          },
          "execution_count": 51,
          "metadata": {},
          "output_type": "execute_result"
        }
      ],
      "source": [
        "# Let's run the model using the selected variables but this time we will use Logistic Regression\n",
        "# from sklearn import metrics\n",
        "\n",
        "#initialise Logistic Regression\n",
        "logsk =\n",
        "\n",
        "\n",
        "#fitting model using above columns as input\n",
        "\n"
      ]
    },
    {
      "cell_type": "code",
      "execution_count": null,
      "metadata": {
        "id": "PMd9onip1H3n",
        "outputId": "60850913-8674-43b3-ac38-c8091e3805da"
      },
      "outputs": [
        {
          "name": "stdout",
          "output_type": "stream",
          "text": [
            "Optimization terminated successfully.\n",
            "         Current function value: 0.435736\n",
            "         Iterations 8\n"
          ]
        },
        {
          "data": {
            "text/html": [
              "<table class=\"simpletable\">\n",
              "<caption>Logit Regression Results</caption>\n",
              "<tr>\n",
              "  <th>Dep. Variable:</th>         <td>Churn</td>      <th>  No. Observations:  </th>   <td>  4922</td>  \n",
              "</tr>\n",
              "<tr>\n",
              "  <th>Model:</th>                 <td>Logit</td>      <th>  Df Residuals:      </th>   <td>  4917</td>  \n",
              "</tr>\n",
              "<tr>\n",
              "  <th>Method:</th>                 <td>MLE</td>       <th>  Df Model:          </th>   <td>     4</td>  \n",
              "</tr>\n",
              "<tr>\n",
              "  <th>Date:</th>            <td>Mon, 12 Jul 2021</td> <th>  Pseudo R-squ.:     </th>   <td>0.2417</td>  \n",
              "</tr>\n",
              "<tr>\n",
              "  <th>Time:</th>                <td>13:20:48</td>     <th>  Log-Likelihood:    </th>  <td> -2144.7</td> \n",
              "</tr>\n",
              "<tr>\n",
              "  <th>converged:</th>             <td>True</td>       <th>  LL-Null:           </th>  <td> -2828.2</td> \n",
              "</tr>\n",
              "<tr>\n",
              "  <th>Covariance Type:</th>     <td>nonrobust</td>    <th>  LLR p-value:       </th> <td>1.009e-294</td>\n",
              "</tr>\n",
              "</table>\n",
              "<table class=\"simpletable\">\n",
              "<tr>\n",
              "               <td></td>                  <th>coef</th>     <th>std err</th>      <th>z</th>      <th>P>|z|</th>  <th>[0.025</th>    <th>0.975]</th>  \n",
              "</tr>\n",
              "<tr>\n",
              "  <th>PhoneService</th>                <td>   -1.6604</td> <td>    0.085</td> <td>  -19.428</td> <td> 0.000</td> <td>   -1.828</td> <td>   -1.493</td>\n",
              "</tr>\n",
              "<tr>\n",
              "  <th>Contract_One year</th>           <td>   -1.2033</td> <td>    0.115</td> <td>  -10.497</td> <td> 0.000</td> <td>   -1.428</td> <td>   -0.979</td>\n",
              "</tr>\n",
              "<tr>\n",
              "  <th>Contract_Two year</th>           <td>   -2.1243</td> <td>    0.192</td> <td>  -11.050</td> <td> 0.000</td> <td>   -2.501</td> <td>   -1.748</td>\n",
              "</tr>\n",
              "<tr>\n",
              "  <th>InternetService_Fiber optic</th> <td>    1.6316</td> <td>    0.089</td> <td>   18.334</td> <td> 0.000</td> <td>    1.457</td> <td>    1.806</td>\n",
              "</tr>\n",
              "<tr>\n",
              "  <th>tenure</th>                      <td>   -0.6128</td> <td>    0.053</td> <td>  -11.648</td> <td> 0.000</td> <td>   -0.716</td> <td>   -0.510</td>\n",
              "</tr>\n",
              "</table>"
            ],
            "text/plain": [
              "<class 'statsmodels.iolib.summary.Summary'>\n",
              "\"\"\"\n",
              "                           Logit Regression Results                           \n",
              "==============================================================================\n",
              "Dep. Variable:                  Churn   No. Observations:                 4922\n",
              "Model:                          Logit   Df Residuals:                     4917\n",
              "Method:                           MLE   Df Model:                            4\n",
              "Date:                Mon, 12 Jul 2021   Pseudo R-squ.:                  0.2417\n",
              "Time:                        13:20:48   Log-Likelihood:                -2144.7\n",
              "converged:                       True   LL-Null:                       -2828.2\n",
              "Covariance Type:            nonrobust   LLR p-value:                1.009e-294\n",
              "===============================================================================================\n",
              "                                  coef    std err          z      P>|z|      [0.025      0.975]\n",
              "-----------------------------------------------------------------------------------------------\n",
              "PhoneService                   -1.6604      0.085    -19.428      0.000      -1.828      -1.493\n",
              "Contract_One year              -1.2033      0.115    -10.497      0.000      -1.428      -0.979\n",
              "Contract_Two year              -2.1243      0.192    -11.050      0.000      -2.501      -1.748\n",
              "InternetService_Fiber optic     1.6316      0.089     18.334      0.000       1.457       1.806\n",
              "tenure                         -0.6128      0.053    -11.648      0.000      -0.716      -0.510\n",
              "===============================================================================================\n",
              "\"\"\""
            ]
          },
          "execution_count": 52,
          "metadata": {},
          "output_type": "execute_result"
        }
      ],
      "source": [
        "#recreating the model with StatsModels with RFE selecte columns\n",
        "\n",
        "logm3 = \n",
        "\n"
      ]
    },
    {
      "cell_type": "markdown",
      "metadata": {
        "id": "1znjQrQV1H3n"
      },
      "source": [
        "### **`Making Predictions`**\n",
        "\n",
        "<p style='text-align: right;'> 14 points</p>\n"
      ]
    },
    {
      "cell_type": "code",
      "execution_count": null,
      "metadata": {
        "id": "jKKiSDOw1H3o"
      },
      "outputs": [],
      "source": [
        "# Predicted probabilities\n",
        "y_pred = \n"
      ]
    },
    {
      "cell_type": "code",
      "execution_count": null,
      "metadata": {
        "id": "KtpTQ-sk1H3o"
      },
      "outputs": [],
      "source": [
        "# Converting y_pred to a dataframe which is an array\n",
        "y_pred_df = \n"
      ]
    },
    {
      "cell_type": "code",
      "execution_count": null,
      "metadata": {
        "id": "zkG_TQp61H3o"
      },
      "outputs": [],
      "source": [
        "# Converting to column dataframe\n",
        "y_pred_1 = \n"
      ]
    },
    {
      "cell_type": "code",
      "execution_count": null,
      "metadata": {
        "id": "_F_059Zu1H3p",
        "outputId": "3a55c29e-d525-4607-cd12-6eb638112102"
      },
      "outputs": [
        {
          "data": {
            "text/html": [
              "<div>\n",
              "<style scoped>\n",
              "    .dataframe tbody tr th:only-of-type {\n",
              "        vertical-align: middle;\n",
              "    }\n",
              "\n",
              "    .dataframe tbody tr th {\n",
              "        vertical-align: top;\n",
              "    }\n",
              "\n",
              "    .dataframe thead th {\n",
              "        text-align: right;\n",
              "    }\n",
              "</style>\n",
              "<table border=\"1\" class=\"dataframe\">\n",
              "  <thead>\n",
              "    <tr style=\"text-align: right;\">\n",
              "      <th></th>\n",
              "      <th>1</th>\n",
              "    </tr>\n",
              "  </thead>\n",
              "  <tbody>\n",
              "    <tr>\n",
              "      <th>0</th>\n",
              "      <td>0.534503</td>\n",
              "    </tr>\n",
              "    <tr>\n",
              "      <th>1</th>\n",
              "      <td>0.292735</td>\n",
              "    </tr>\n",
              "    <tr>\n",
              "      <th>2</th>\n",
              "      <td>0.013463</td>\n",
              "    </tr>\n",
              "    <tr>\n",
              "      <th>3</th>\n",
              "      <td>0.700441</td>\n",
              "    </tr>\n",
              "    <tr>\n",
              "      <th>4</th>\n",
              "      <td>0.022563</td>\n",
              "    </tr>\n",
              "  </tbody>\n",
              "</table>\n",
              "</div>"
            ],
            "text/plain": [
              "          1\n",
              "0  0.534503\n",
              "1  0.292735\n",
              "2  0.013463\n",
              "3  0.700441\n",
              "4  0.022563"
            ]
          },
          "execution_count": 60,
          "metadata": {},
          "output_type": "execute_result"
        }
      ],
      "source": [
        "# Let's see the head\n",
        "\n"
      ]
    },
    {
      "cell_type": "code",
      "execution_count": null,
      "metadata": {
        "id": "Of_15GfG1H3p"
      },
      "outputs": [],
      "source": [
        "# Converting y_test to dataframe\n",
        "y_test_df = \n"
      ]
    },
    {
      "cell_type": "code",
      "execution_count": null,
      "metadata": {
        "id": "9h9X1ZbJ1H3p"
      },
      "outputs": [],
      "source": [
        "# Putting CustID to index\n",
        "\n"
      ]
    },
    {
      "cell_type": "code",
      "execution_count": null,
      "metadata": {
        "id": "TXnsX8A_1H3q"
      },
      "outputs": [],
      "source": [
        "# Removing index for both dataframes to append them side by side \n",
        "\n",
        "\n"
      ]
    },
    {
      "cell_type": "code",
      "execution_count": null,
      "metadata": {
        "id": "u8cxefdw1H3q"
      },
      "outputs": [],
      "source": [
        "# Appending y_test_df and y_pred_1\n",
        "y_pred_final =\n"
      ]
    },
    {
      "cell_type": "code",
      "execution_count": null,
      "metadata": {
        "id": "ZUeXOxa21H3q"
      },
      "outputs": [],
      "source": [
        "# Renaming the column \n",
        "y_pred_final= \n"
      ]
    },
    {
      "cell_type": "code",
      "execution_count": null,
      "metadata": {
        "id": "TQ94ksul1H3r",
        "outputId": "fb221758-69d4-41a5-8bdc-197e1fd94914"
      },
      "outputs": [
        {
          "data": {
            "text/html": [
              "<div>\n",
              "<style scoped>\n",
              "    .dataframe tbody tr th:only-of-type {\n",
              "        vertical-align: middle;\n",
              "    }\n",
              "\n",
              "    .dataframe tbody tr th {\n",
              "        vertical-align: top;\n",
              "    }\n",
              "\n",
              "    .dataframe thead th {\n",
              "        text-align: right;\n",
              "    }\n",
              "</style>\n",
              "<table border=\"1\" class=\"dataframe\">\n",
              "  <thead>\n",
              "    <tr style=\"text-align: right;\">\n",
              "      <th></th>\n",
              "      <th>Churn</th>\n",
              "      <th>CustID</th>\n",
              "      <th>Churn_Prob</th>\n",
              "    </tr>\n",
              "  </thead>\n",
              "  <tbody>\n",
              "    <tr>\n",
              "      <th>0</th>\n",
              "      <td>0</td>\n",
              "      <td>942</td>\n",
              "      <td>0.534503</td>\n",
              "    </tr>\n",
              "    <tr>\n",
              "      <th>1</th>\n",
              "      <td>1</td>\n",
              "      <td>3730</td>\n",
              "      <td>0.292735</td>\n",
              "    </tr>\n",
              "    <tr>\n",
              "      <th>2</th>\n",
              "      <td>0</td>\n",
              "      <td>1761</td>\n",
              "      <td>0.013463</td>\n",
              "    </tr>\n",
              "    <tr>\n",
              "      <th>3</th>\n",
              "      <td>1</td>\n",
              "      <td>2283</td>\n",
              "      <td>0.700441</td>\n",
              "    </tr>\n",
              "    <tr>\n",
              "      <th>4</th>\n",
              "      <td>0</td>\n",
              "      <td>1872</td>\n",
              "      <td>0.022563</td>\n",
              "    </tr>\n",
              "    <tr>\n",
              "      <th>...</th>\n",
              "      <td>...</td>\n",
              "      <td>...</td>\n",
              "      <td>...</td>\n",
              "    </tr>\n",
              "    <tr>\n",
              "      <th>2105</th>\n",
              "      <td>0</td>\n",
              "      <td>1289</td>\n",
              "      <td>0.024736</td>\n",
              "    </tr>\n",
              "    <tr>\n",
              "      <th>2106</th>\n",
              "      <td>0</td>\n",
              "      <td>3508</td>\n",
              "      <td>0.049254</td>\n",
              "    </tr>\n",
              "    <tr>\n",
              "      <th>2107</th>\n",
              "      <td>0</td>\n",
              "      <td>6765</td>\n",
              "      <td>0.009619</td>\n",
              "    </tr>\n",
              "    <tr>\n",
              "      <th>2108</th>\n",
              "      <td>0</td>\n",
              "      <td>3598</td>\n",
              "      <td>0.298253</td>\n",
              "    </tr>\n",
              "    <tr>\n",
              "      <th>2109</th>\n",
              "      <td>0</td>\n",
              "      <td>4987</td>\n",
              "      <td>0.009047</td>\n",
              "    </tr>\n",
              "  </tbody>\n",
              "</table>\n",
              "<p>2110 rows × 3 columns</p>\n",
              "</div>"
            ],
            "text/plain": [
              "      Churn  CustID  Churn_Prob\n",
              "0         0     942    0.534503\n",
              "1         1    3730    0.292735\n",
              "2         0    1761    0.013463\n",
              "3         1    2283    0.700441\n",
              "4         0    1872    0.022563\n",
              "...     ...     ...         ...\n",
              "2105      0    1289    0.024736\n",
              "2106      0    3508    0.049254\n",
              "2107      0    6765    0.009619\n",
              "2108      0    3598    0.298253\n",
              "2109      0    4987    0.009047\n",
              "\n",
              "[2110 rows x 3 columns]"
            ]
          },
          "execution_count": 66,
          "metadata": {},
          "output_type": "execute_result"
        }
      ],
      "source": [
        "#print y_pred_final\n",
        "\n"
      ]
    },
    {
      "cell_type": "code",
      "execution_count": null,
      "metadata": {
        "id": "_f3enc511H3r"
      },
      "outputs": [],
      "source": [
        "# Rearranging the columns\n",
        "y_pred_final = \n"
      ]
    },
    {
      "cell_type": "code",
      "execution_count": null,
      "metadata": {
        "id": "YSbg8O-B1H3r",
        "outputId": "1c93040d-620f-4609-9fe3-c864ac76482e"
      },
      "outputs": [
        {
          "data": {
            "text/html": [
              "<div>\n",
              "<style scoped>\n",
              "    .dataframe tbody tr th:only-of-type {\n",
              "        vertical-align: middle;\n",
              "    }\n",
              "\n",
              "    .dataframe tbody tr th {\n",
              "        vertical-align: top;\n",
              "    }\n",
              "\n",
              "    .dataframe thead th {\n",
              "        text-align: right;\n",
              "    }\n",
              "</style>\n",
              "<table border=\"1\" class=\"dataframe\">\n",
              "  <thead>\n",
              "    <tr style=\"text-align: right;\">\n",
              "      <th></th>\n",
              "      <th>CustID</th>\n",
              "      <th>Churn</th>\n",
              "      <th>Churn_Prob</th>\n",
              "    </tr>\n",
              "  </thead>\n",
              "  <tbody>\n",
              "    <tr>\n",
              "      <th>0</th>\n",
              "      <td>942</td>\n",
              "      <td>0</td>\n",
              "      <td>0.534503</td>\n",
              "    </tr>\n",
              "    <tr>\n",
              "      <th>1</th>\n",
              "      <td>3730</td>\n",
              "      <td>1</td>\n",
              "      <td>0.292735</td>\n",
              "    </tr>\n",
              "    <tr>\n",
              "      <th>2</th>\n",
              "      <td>1761</td>\n",
              "      <td>0</td>\n",
              "      <td>0.013463</td>\n",
              "    </tr>\n",
              "    <tr>\n",
              "      <th>3</th>\n",
              "      <td>2283</td>\n",
              "      <td>1</td>\n",
              "      <td>0.700441</td>\n",
              "    </tr>\n",
              "    <tr>\n",
              "      <th>4</th>\n",
              "      <td>1872</td>\n",
              "      <td>0</td>\n",
              "      <td>0.022563</td>\n",
              "    </tr>\n",
              "  </tbody>\n",
              "</table>\n",
              "</div>"
            ],
            "text/plain": [
              "   CustID  Churn  Churn_Prob\n",
              "0     942      0    0.534503\n",
              "1    3730      1    0.292735\n",
              "2    1761      0    0.013463\n",
              "3    2283      1    0.700441\n",
              "4    1872      0    0.022563"
            ]
          },
          "execution_count": 68,
          "metadata": {},
          "output_type": "execute_result"
        }
      ],
      "source": [
        "# Let's see the head of y_pred_final\n",
        "\n"
      ]
    },
    {
      "cell_type": "code",
      "execution_count": null,
      "metadata": {
        "id": "HktHyogD1H3s"
      },
      "outputs": [],
      "source": [
        "# Creating new column 'predicted' with 1 if Churn_Prob>0.5 else 0\n",
        "\n"
      ]
    },
    {
      "cell_type": "code",
      "execution_count": null,
      "metadata": {
        "id": "kLiC_mFj1H3s",
        "outputId": "faf5e9ca-55db-4ef2-958c-ec15e229b20a"
      },
      "outputs": [
        {
          "data": {
            "text/html": [
              "<div>\n",
              "<style scoped>\n",
              "    .dataframe tbody tr th:only-of-type {\n",
              "        vertical-align: middle;\n",
              "    }\n",
              "\n",
              "    .dataframe tbody tr th {\n",
              "        vertical-align: top;\n",
              "    }\n",
              "\n",
              "    .dataframe thead th {\n",
              "        text-align: right;\n",
              "    }\n",
              "</style>\n",
              "<table border=\"1\" class=\"dataframe\">\n",
              "  <thead>\n",
              "    <tr style=\"text-align: right;\">\n",
              "      <th></th>\n",
              "      <th>CustID</th>\n",
              "      <th>Churn</th>\n",
              "      <th>Churn_Prob</th>\n",
              "      <th>predicted</th>\n",
              "    </tr>\n",
              "  </thead>\n",
              "  <tbody>\n",
              "    <tr>\n",
              "      <th>0</th>\n",
              "      <td>942</td>\n",
              "      <td>0</td>\n",
              "      <td>0.534503</td>\n",
              "      <td>1</td>\n",
              "    </tr>\n",
              "    <tr>\n",
              "      <th>1</th>\n",
              "      <td>3730</td>\n",
              "      <td>1</td>\n",
              "      <td>0.292735</td>\n",
              "      <td>0</td>\n",
              "    </tr>\n",
              "    <tr>\n",
              "      <th>2</th>\n",
              "      <td>1761</td>\n",
              "      <td>0</td>\n",
              "      <td>0.013463</td>\n",
              "      <td>0</td>\n",
              "    </tr>\n",
              "    <tr>\n",
              "      <th>3</th>\n",
              "      <td>2283</td>\n",
              "      <td>1</td>\n",
              "      <td>0.700441</td>\n",
              "      <td>1</td>\n",
              "    </tr>\n",
              "    <tr>\n",
              "      <th>4</th>\n",
              "      <td>1872</td>\n",
              "      <td>0</td>\n",
              "      <td>0.022563</td>\n",
              "      <td>0</td>\n",
              "    </tr>\n",
              "  </tbody>\n",
              "</table>\n",
              "</div>"
            ],
            "text/plain": [
              "   CustID  Churn  Churn_Prob  predicted\n",
              "0     942      0    0.534503          1\n",
              "1    3730      1    0.292735          0\n",
              "2    1761      0    0.013463          0\n",
              "3    2283      1    0.700441          1\n",
              "4    1872      0    0.022563          0"
            ]
          },
          "execution_count": 70,
          "metadata": {},
          "output_type": "execute_result"
        }
      ],
      "source": [
        "# Let's see the head\n",
        "\n"
      ]
    },
    {
      "cell_type": "markdown",
      "metadata": {
        "id": "cbDwtvrU1H3s"
      },
      "source": [
        "### **`Model Evaluation`**\n",
        "\n",
        "<p style='text-align: right;'> 11 points</p>\n",
        "\n",
        "\n",
        "Choosing the right metric is very important in any classification problem.\n",
        "To know about various metrics for classification model evaluation refer: \n",
        "\n",
        "\n"
      ]
    },
    {
      "cell_type": "markdown",
      "source": [
        "## **`Watch Video 9 & 10 : Performace Measure for Classification(theory + practical)`**"
      ],
      "metadata": {
        "id": "WhS154bvpLdI"
      }
    },
    {
      "cell_type": "markdown",
      "source": [
        "Lets check Confusion matrix for model evaluation:"
      ],
      "metadata": {
        "id": "22Pi9B5opQ8z"
      }
    },
    {
      "cell_type": "code",
      "execution_count": null,
      "metadata": {
        "id": "lwo8VRBu1H3t"
      },
      "outputs": [],
      "source": [
        "# import metrics \n",
        "\n"
      ]
    },
    {
      "cell_type": "code",
      "execution_count": null,
      "metadata": {
        "id": "z-K9JTfV1H3t",
        "outputId": "e054871b-1673-4fee-efc3-ba7a0c123f0b"
      },
      "outputs": [
        {
          "name": "stdout",
          "output_type": "stream",
          "text": [
            "Help on function confusion_matrix in module sklearn.metrics._classification:\n",
            "\n",
            "confusion_matrix(y_true, y_pred, *, labels=None, sample_weight=None, normalize=None)\n",
            "    Compute confusion matrix to evaluate the accuracy of a classification.\n",
            "    \n",
            "    By definition a confusion matrix :math:`C` is such that :math:`C_{i, j}`\n",
            "    is equal to the number of observations known to be in group :math:`i` and\n",
            "    predicted to be in group :math:`j`.\n",
            "    \n",
            "    Thus in binary classification, the count of true negatives is\n",
            "    :math:`C_{0,0}`, false negatives is :math:`C_{1,0}`, true positives is\n",
            "    :math:`C_{1,1}` and false positives is :math:`C_{0,1}`.\n",
            "    \n",
            "    Read more in the :ref:`User Guide <confusion_matrix>`.\n",
            "    \n",
            "    Parameters\n",
            "    ----------\n",
            "    y_true : array-like of shape (n_samples,)\n",
            "        Ground truth (correct) target values.\n",
            "    \n",
            "    y_pred : array-like of shape (n_samples,)\n",
            "        Estimated targets as returned by a classifier.\n",
            "    \n",
            "    labels : array-like of shape (n_classes), default=None\n",
            "        List of labels to index the matrix. This may be used to reorder\n",
            "        or select a subset of labels.\n",
            "        If ``None`` is given, those that appear at least once\n",
            "        in ``y_true`` or ``y_pred`` are used in sorted order.\n",
            "    \n",
            "    sample_weight : array-like of shape (n_samples,), default=None\n",
            "        Sample weights.\n",
            "    \n",
            "        .. versionadded:: 0.18\n",
            "    \n",
            "    normalize : {'true', 'pred', 'all'}, default=None\n",
            "        Normalizes confusion matrix over the true (rows), predicted (columns)\n",
            "        conditions or all the population. If None, confusion matrix will not be\n",
            "        normalized.\n",
            "    \n",
            "    Returns\n",
            "    -------\n",
            "    C : ndarray of shape (n_classes, n_classes)\n",
            "        Confusion matrix whose i-th row and j-th\n",
            "        column entry indicates the number of\n",
            "        samples with true label being i-th class\n",
            "        and prediced label being j-th class.\n",
            "    \n",
            "    References\n",
            "    ----------\n",
            "    .. [1] `Wikipedia entry for the Confusion matrix\n",
            "           <https://en.wikipedia.org/wiki/Confusion_matrix>`_\n",
            "           (Wikipedia and other references may use a different\n",
            "           convention for axes)\n",
            "    \n",
            "    Examples\n",
            "    --------\n",
            "    >>> from sklearn.metrics import confusion_matrix\n",
            "    >>> y_true = [2, 0, 2, 2, 0, 1]\n",
            "    >>> y_pred = [0, 0, 2, 2, 0, 2]\n",
            "    >>> confusion_matrix(y_true, y_pred)\n",
            "    array([[2, 0, 0],\n",
            "           [0, 0, 1],\n",
            "           [1, 0, 2]])\n",
            "    \n",
            "    >>> y_true = [\"cat\", \"ant\", \"cat\", \"cat\", \"ant\", \"bird\"]\n",
            "    >>> y_pred = [\"ant\", \"ant\", \"cat\", \"cat\", \"ant\", \"cat\"]\n",
            "    >>> confusion_matrix(y_true, y_pred, labels=[\"ant\", \"bird\", \"cat\"])\n",
            "    array([[2, 0, 0],\n",
            "           [0, 0, 1],\n",
            "           [1, 0, 2]])\n",
            "    \n",
            "    In the binary case, we can extract true positives, etc as follows:\n",
            "    \n",
            "    >>> tn, fp, fn, tp = confusion_matrix([0, 1, 0, 1], [1, 1, 1, 0]).ravel()\n",
            "    >>> (tn, fp, fn, tp)\n",
            "    (0, 2, 1, 1)\n",
            "\n"
          ]
        }
      ],
      "source": [
        "# Lets check what all things python provides us in confusion matrix using help function.\n",
        "\n"
      ]
    },
    {
      "cell_type": "code",
      "execution_count": null,
      "metadata": {
        "id": "N2gG2DZp1H3u",
        "outputId": "8f605c02-165a-4899-bfed-ff5af015ef00"
      },
      "outputs": [
        {
          "data": {
            "text/plain": [
              "array([[1363,  165],\n",
              "       [ 303,  279]], dtype=int64)"
            ]
          },
          "execution_count": 73,
          "metadata": {},
          "output_type": "execute_result"
        }
      ],
      "source": [
        "# get Confusion matrix \n",
        "confusion = \n"
      ]
    },
    {
      "cell_type": "code",
      "execution_count": null,
      "metadata": {
        "id": "4clwKBRm1H3u"
      },
      "outputs": [],
      "source": [
        "# meaning of above confusion matrix is\n",
        "\n",
        "# Predicted     not_churn    churn\n",
        "# Actual\n",
        "# not_churn        1363      165\n",
        "# churn            273       309"
      ]
    },
    {
      "cell_type": "code",
      "execution_count": null,
      "metadata": {
        "id": "CCLpWh1N1H3u",
        "outputId": "f6373d6a-465f-4d4f-df97-c3b945193c23"
      },
      "outputs": [
        {
          "data": {
            "text/plain": [
              "0.7781990521327015"
            ]
          },
          "execution_count": 75,
          "metadata": {},
          "output_type": "execute_result"
        }
      ],
      "source": [
        "#Let's check the overall accuracy.\n",
        "\n"
      ]
    },
    {
      "cell_type": "code",
      "execution_count": null,
      "metadata": {
        "id": "zSNRqJHr1H3v"
      },
      "outputs": [],
      "source": [
        "# Lets check true positive ,true negatives,false positives and false negatives\n",
        "\n",
        "TP =                # true positive \n",
        "TN =                # true negatives\n",
        "FP =                # false positives\n",
        "FN =                # false negatives"
      ]
    },
    {
      "cell_type": "code",
      "execution_count": null,
      "metadata": {
        "id": "PtHGFHO51H3v",
        "outputId": "1e6d1e79-7524-49f6-a09e-534024bbee37"
      },
      "outputs": [
        {
          "data": {
            "text/plain": [
              "0.4793814432989691"
            ]
          },
          "execution_count": 77,
          "metadata": {},
          "output_type": "execute_result"
        }
      ],
      "source": [
        "# Let's see the sensitivity of our logistic regression model\n",
        "\n"
      ]
    },
    {
      "cell_type": "code",
      "execution_count": null,
      "metadata": {
        "id": "ahBYnwy21H3v",
        "outputId": "54b3a122-1694-4617-c5ce-bc306edb6224"
      },
      "outputs": [
        {
          "data": {
            "text/plain": [
              "0.8920157068062827"
            ]
          },
          "execution_count": 78,
          "metadata": {},
          "output_type": "execute_result"
        }
      ],
      "source": [
        "# Let us calculate specificity\n",
        "\n"
      ]
    },
    {
      "cell_type": "code",
      "execution_count": null,
      "metadata": {
        "id": "8yUiu9wD1H3w",
        "outputId": "16a21596-be11-4a7c-94bb-5af8226dd021"
      },
      "outputs": [
        {
          "name": "stdout",
          "output_type": "stream",
          "text": [
            "0.10798429319371727\n"
          ]
        }
      ],
      "source": [
        "# Calculate false postive rate - predicting churn when customer does not have churned\n",
        "\n"
      ]
    },
    {
      "cell_type": "code",
      "execution_count": null,
      "metadata": {
        "id": "JQ1y9gL01H3w",
        "outputId": "b643154c-c000-49af-dcf0-f33dbd9f3a31"
      },
      "outputs": [
        {
          "name": "stdout",
          "output_type": "stream",
          "text": [
            "0.6283783783783784\n"
          ]
        }
      ],
      "source": [
        "# positive predictive value \n",
        "\n"
      ]
    },
    {
      "cell_type": "code",
      "execution_count": null,
      "metadata": {
        "id": "RjTXKBX41H3w",
        "outputId": "ab5cd7dc-ede3-49e3-eb27-990b6728425a"
      },
      "outputs": [
        {
          "name": "stdout",
          "output_type": "stream",
          "text": [
            "0.8181272509003601\n"
          ]
        }
      ],
      "source": [
        "# Negative predictive value\n",
        "\n"
      ]
    },
    {
      "cell_type": "markdown",
      "metadata": {
        "id": "4skjd4J41H3x"
      },
      "source": [
        "You can also use classification_report to get precision, recall, f1-score, support"
      ]
    },
    {
      "cell_type": "code",
      "execution_count": null,
      "metadata": {
        "id": "TDyES9EK1H3x",
        "outputId": "b6c6e420-8fbc-4f18-cb3d-8aa08c48646d"
      },
      "outputs": [
        {
          "name": "stdout",
          "output_type": "stream",
          "text": [
            "              precision    recall  f1-score   support\n",
            "\n",
            "           0       0.82      0.89      0.85      1528\n",
            "           1       0.63      0.48      0.54       582\n",
            "\n",
            "    accuracy                           0.78      2110\n",
            "   macro avg       0.72      0.69      0.70      2110\n",
            "weighted avg       0.77      0.78      0.77      2110\n",
            "\n"
          ]
        }
      ],
      "source": [
        "#  import classification_report\n",
        "\n",
        "# print classification_report\n",
        "\n"
      ]
    },
    {
      "cell_type": "markdown",
      "metadata": {
        "collapsed": true,
        "id": "G18zerc_1H3x"
      },
      "source": [
        "### **`ROC Curve`**\n",
        "\n",
        "<p style='text-align: right;'> 1 points</p>\n"
      ]
    },
    {
      "cell_type": "markdown",
      "metadata": {
        "collapsed": true,
        "id": "XpkqfuTj1H3y"
      },
      "source": [
        "An ROC curve demonstrates several things:\n",
        "\n",
        "- It shows the tradeoff between sensitivity and specificity (any increase in sensitivity will be accompanied by a decrease in specificity).\n",
        "- The closer the curve follows the left-hand border and then the top border of the ROC space, the more accurate the test.\n",
        "- The closer the curve comes to the 45-degree diagonal of the ROC space, the less accurate the test."
      ]
    },
    {
      "cell_type": "markdown",
      "source": [
        "## **`Watch Video 11 : ROC-AUC`**"
      ],
      "metadata": {
        "id": "WOfCawUQqoqH"
      }
    },
    {
      "cell_type": "code",
      "execution_count": null,
      "metadata": {
        "id": "V0NtSBGq1H3y"
      },
      "outputs": [],
      "source": [
        "# Here we have given you a function to plot ROC curve\n",
        "\n",
        "def draw_roc( actual, probs ):\n",
        "    fpr, tpr, thresholds = metrics.roc_curve( actual, probs,\n",
        "                                              drop_intermediate = False )\n",
        "    auc_score = metrics.roc_auc_score( actual, probs )\n",
        "    plt.figure(figsize=(6, 4))\n",
        "    plt.plot( fpr, tpr, label='ROC curve (area = %0.2f)' % auc_score )\n",
        "    plt.plot([0, 1], [0, 1], 'k--')\n",
        "    plt.xlim([0.0, 1.0])\n",
        "    plt.ylim([0.0, 1.05])\n",
        "    plt.xlabel('False Positive Rate or [1 - True Negative Rate]')\n",
        "    plt.ylabel('True Positive Rate')\n",
        "    plt.title('Receiver operating characteristic example')\n",
        "    plt.legend(loc=\"lower right\")\n",
        "    plt.show()\n",
        "\n",
        "    return fpr, tpr, thresholds"
      ]
    },
    {
      "cell_type": "code",
      "execution_count": null,
      "metadata": {
        "id": "aqnNBU601H3z",
        "outputId": "a339e6fd-35d4-4d5c-e1ff-9ae1d02868f6"
      },
      "outputs": [
        {
          "data": {
            "image/png": "[encoded data removed]",
            "text/plain": [
              "<Figure size 432x288 with 1 Axes>"
            ]
          },
          "metadata": {
            "needs_background": "light"
          },
          "output_type": "display_data"
        },
        {
          "data": {
            "text/plain": [
              "(array([0.        , 0.10798429, 1.        ]),\n",
              " array([0.        , 0.47938144, 1.        ]),\n",
              " array([2, 1, 0], dtype=int64))"
            ]
          },
          "execution_count": 84,
          "metadata": {},
          "output_type": "execute_result"
        }
      ],
      "source": [
        "# Use above function to plot ROC curve\n",
        "\n"
      ]
    },
    {
      "cell_type": "markdown",
      "metadata": {
        "id": "JArvbRkt1H3z"
      },
      "source": [
        "### **`Finding Optimal Cutoff Point`**\n",
        "\n",
        "<p style='text-align: right;'> 6 points</p>\n"
      ]
    },
    {
      "cell_type": "markdown",
      "metadata": {
        "id": "gfX_KYdc1H3z"
      },
      "source": [
        "Optimal cutoff probability is that probability where we get balanced sensitivity and specificity"
      ]
    },
    {
      "cell_type": "code",
      "execution_count": null,
      "metadata": {
        "id": "j12ZEeuy1H3z",
        "outputId": "cfb080b0-26c7-4618-dec1-4e4c9f92e9eb"
      },
      "outputs": [
        {
          "data": {
            "text/html": [
              "<div>\n",
              "<style scoped>\n",
              "    .dataframe tbody tr th:only-of-type {\n",
              "        vertical-align: middle;\n",
              "    }\n",
              "\n",
              "    .dataframe tbody tr th {\n",
              "        vertical-align: top;\n",
              "    }\n",
              "\n",
              "    .dataframe thead th {\n",
              "        text-align: right;\n",
              "    }\n",
              "</style>\n",
              "<table border=\"1\" class=\"dataframe\">\n",
              "  <thead>\n",
              "    <tr style=\"text-align: right;\">\n",
              "      <th></th>\n",
              "      <th>CustID</th>\n",
              "      <th>Churn</th>\n",
              "      <th>Churn_Prob</th>\n",
              "      <th>predicted</th>\n",
              "      <th>0.0</th>\n",
              "      <th>0.1</th>\n",
              "      <th>0.2</th>\n",
              "      <th>0.3</th>\n",
              "      <th>0.4</th>\n",
              "      <th>0.5</th>\n",
              "      <th>0.6</th>\n",
              "      <th>0.7</th>\n",
              "      <th>0.8</th>\n",
              "      <th>0.9</th>\n",
              "    </tr>\n",
              "  </thead>\n",
              "  <tbody>\n",
              "    <tr>\n",
              "      <th>0</th>\n",
              "      <td>942</td>\n",
              "      <td>0</td>\n",
              "      <td>0.534503</td>\n",
              "      <td>1</td>\n",
              "      <td>1</td>\n",
              "      <td>1</td>\n",
              "      <td>1</td>\n",
              "      <td>1</td>\n",
              "      <td>1</td>\n",
              "      <td>1</td>\n",
              "      <td>0</td>\n",
              "      <td>0</td>\n",
              "      <td>0</td>\n",
              "      <td>0</td>\n",
              "    </tr>\n",
              "    <tr>\n",
              "      <th>1</th>\n",
              "      <td>3730</td>\n",
              "      <td>1</td>\n",
              "      <td>0.292735</td>\n",
              "      <td>0</td>\n",
              "      <td>1</td>\n",
              "      <td>1</td>\n",
              "      <td>1</td>\n",
              "      <td>0</td>\n",
              "      <td>0</td>\n",
              "      <td>0</td>\n",
              "      <td>0</td>\n",
              "      <td>0</td>\n",
              "      <td>0</td>\n",
              "      <td>0</td>\n",
              "    </tr>\n",
              "    <tr>\n",
              "      <th>2</th>\n",
              "      <td>1761</td>\n",
              "      <td>0</td>\n",
              "      <td>0.013463</td>\n",
              "      <td>0</td>\n",
              "      <td>1</td>\n",
              "      <td>0</td>\n",
              "      <td>0</td>\n",
              "      <td>0</td>\n",
              "      <td>0</td>\n",
              "      <td>0</td>\n",
              "      <td>0</td>\n",
              "      <td>0</td>\n",
              "      <td>0</td>\n",
              "      <td>0</td>\n",
              "    </tr>\n",
              "    <tr>\n",
              "      <th>3</th>\n",
              "      <td>2283</td>\n",
              "      <td>1</td>\n",
              "      <td>0.700441</td>\n",
              "      <td>1</td>\n",
              "      <td>1</td>\n",
              "      <td>1</td>\n",
              "      <td>1</td>\n",
              "      <td>1</td>\n",
              "      <td>1</td>\n",
              "      <td>1</td>\n",
              "      <td>1</td>\n",
              "      <td>1</td>\n",
              "      <td>0</td>\n",
              "      <td>0</td>\n",
              "    </tr>\n",
              "    <tr>\n",
              "      <th>4</th>\n",
              "      <td>1872</td>\n",
              "      <td>0</td>\n",
              "      <td>0.022563</td>\n",
              "      <td>0</td>\n",
              "      <td>1</td>\n",
              "      <td>0</td>\n",
              "      <td>0</td>\n",
              "      <td>0</td>\n",
              "      <td>0</td>\n",
              "      <td>0</td>\n",
              "      <td>0</td>\n",
              "      <td>0</td>\n",
              "      <td>0</td>\n",
              "      <td>0</td>\n",
              "    </tr>\n",
              "  </tbody>\n",
              "</table>\n",
              "</div>"
            ],
            "text/plain": [
              "   CustID  Churn  Churn_Prob  predicted  0.0  0.1  0.2  0.3  0.4  0.5  0.6  \\\n",
              "0     942      0    0.534503          1    1    1    1    1    1    1    0   \n",
              "1    3730      1    0.292735          0    1    1    1    0    0    0    0   \n",
              "2    1761      0    0.013463          0    1    0    0    0    0    0    0   \n",
              "3    2283      1    0.700441          1    1    1    1    1    1    1    1   \n",
              "4    1872      0    0.022563          0    1    0    0    0    0    0    0   \n",
              "\n",
              "   0.7  0.8  0.9  \n",
              "0    0    0    0  \n",
              "1    0    0    0  \n",
              "2    0    0    0  \n",
              "3    1    0    0  \n",
              "4    0    0    0  "
            ]
          },
          "execution_count": 85,
          "metadata": {},
          "output_type": "execute_result"
        }
      ],
      "source": [
        "# Let's create columns with different probability cutoffs \n",
        "\n",
        "numbers = \n",
        "\n",
        "# loop numbers and append churn probability to y_pred_final for different prob cutoff \n",
        "for i in numbers:\n",
        "    y_pred_final[i]= # code here\n",
        "\n",
        "    \n",
        "# print  y_pred_final head\n",
        "\n"
      ]
    },
    {
      "cell_type": "markdown",
      "metadata": {
        "id": "zj_SRqh-1H30"
      },
      "source": [
        "Now let's calculate accuracy sensitivity and specificity for various probability cutoffs.\n"
      ]
    },
    {
      "cell_type": "code",
      "execution_count": null,
      "metadata": {
        "id": "Y7AOLAhU1H34",
        "outputId": "89ffc955-1578-4531-b2cc-54a45df1b7f5"
      },
      "outputs": [
        {
          "name": "stdout",
          "output_type": "stream",
          "text": [
            "     prob  accuracy     sensi     speci\n",
            "0.0   0.0  0.275829  1.000000  0.000000\n",
            "0.1   0.1  0.596209  0.951890  0.460733\n",
            "0.2   0.2  0.681991  0.878007  0.607330\n",
            "0.3   0.3  0.760190  0.661512  0.797775\n",
            "0.4   0.4  0.768720  0.594502  0.835079\n",
            "0.5   0.5  0.778199  0.479381  0.892016\n",
            "0.6   0.6  0.782938  0.384880  0.934555\n",
            "0.7   0.7  0.749763  0.108247  0.994110\n",
            "0.8   0.8  0.724171  0.000000  1.000000\n",
            "0.9   0.9  0.724171  0.000000  1.000000\n"
          ]
        }
      ],
      "source": [
        "# Create an empty dataframe with columns 'prob','accuracy','sensi' and 'speci'\n",
        "cutoff_df = \n",
        "\n",
        "num = [0.0,0.1,0.2,0.3,0.4,0.5,0.6,0.7,0.8,0.9]\n",
        "\n",
        "#iterate through num\n",
        "for i in num:\n",
        "    #calculate confusion metrics\n",
        "    cm1 = \n",
        "    \n",
        "    #total in cm1\n",
        "    total1=\n",
        "    \n",
        "    #Calculate accuracy\n",
        "    accuracy = \n",
        "    \n",
        "    #calculate specificity\n",
        "    speci = \n",
        "    \n",
        "    #calculate sensitivity\n",
        "    sensi = \n",
        "    \n",
        "    #append rows in cutoff_df with cutoff values, accuracy, sensitivity and specificity\n",
        "    cutoff_df.loc[i] =\n",
        "\n",
        "# print cutoff_df \n",
        "\n"
      ]
    },
    {
      "cell_type": "code",
      "execution_count": null,
      "metadata": {
        "id": "3chWtzbs1H34",
        "outputId": "7c0dffa9-2d47-4c50-bd6b-e7eaa22c68ba"
      },
      "outputs": [
        {
          "data": {
            "text/plain": [
              "<AxesSubplot:xlabel='prob'>"
            ]
          },
          "execution_count": 87,
          "metadata": {},
          "output_type": "execute_result"
        },
        {
          "data": {
            "image/png": "[encoded data removed]",
            "text/plain": [
              "<Figure size 432x288 with 1 Axes>"
            ]
          },
          "metadata": {
            "needs_background": "light"
          },
          "output_type": "display_data"
        }
      ],
      "source": [
        "# Let's plot accuracy sensitivity and specificity for various probabilities.\n",
        "\n"
      ]
    },
    {
      "cell_type": "markdown",
      "metadata": {
        "id": "RjIQ3J271H35"
      },
      "source": [
        "### **`From the curve above, 0.3 is the optimum point to take it as a cutoff probability.`**\n",
        "\n",
        "<p style='text-align: right;'> 4 points</p>\n"
      ]
    },
    {
      "cell_type": "code",
      "execution_count": null,
      "metadata": {
        "id": "zELSnMG91H35"
      },
      "outputs": [],
      "source": [
        "# Now lets get another column with final_predicted which has 0.3 cutoff probability\n",
        "\n",
        "\n"
      ]
    },
    {
      "cell_type": "code",
      "execution_count": null,
      "metadata": {
        "id": "KrIDIUxe1H36",
        "outputId": "7008807a-d119-4b6c-d925-801a6f5c8177"
      },
      "outputs": [
        {
          "data": {
            "text/html": [
              "<div>\n",
              "<style scoped>\n",
              "    .dataframe tbody tr th:only-of-type {\n",
              "        vertical-align: middle;\n",
              "    }\n",
              "\n",
              "    .dataframe tbody tr th {\n",
              "        vertical-align: top;\n",
              "    }\n",
              "\n",
              "    .dataframe thead th {\n",
              "        text-align: right;\n",
              "    }\n",
              "</style>\n",
              "<table border=\"1\" class=\"dataframe\">\n",
              "  <thead>\n",
              "    <tr style=\"text-align: right;\">\n",
              "      <th></th>\n",
              "      <th>CustID</th>\n",
              "      <th>Churn</th>\n",
              "      <th>Churn_Prob</th>\n",
              "      <th>predicted</th>\n",
              "      <th>0.0</th>\n",
              "      <th>0.1</th>\n",
              "      <th>0.2</th>\n",
              "      <th>0.3</th>\n",
              "      <th>0.4</th>\n",
              "      <th>0.5</th>\n",
              "      <th>0.6</th>\n",
              "      <th>0.7</th>\n",
              "      <th>0.8</th>\n",
              "      <th>0.9</th>\n",
              "      <th>final_predicted</th>\n",
              "    </tr>\n",
              "  </thead>\n",
              "  <tbody>\n",
              "    <tr>\n",
              "      <th>0</th>\n",
              "      <td>942</td>\n",
              "      <td>0</td>\n",
              "      <td>0.534503</td>\n",
              "      <td>1</td>\n",
              "      <td>1</td>\n",
              "      <td>1</td>\n",
              "      <td>1</td>\n",
              "      <td>1</td>\n",
              "      <td>1</td>\n",
              "      <td>1</td>\n",
              "      <td>0</td>\n",
              "      <td>0</td>\n",
              "      <td>0</td>\n",
              "      <td>0</td>\n",
              "      <td>1</td>\n",
              "    </tr>\n",
              "    <tr>\n",
              "      <th>1</th>\n",
              "      <td>3730</td>\n",
              "      <td>1</td>\n",
              "      <td>0.292735</td>\n",
              "      <td>0</td>\n",
              "      <td>1</td>\n",
              "      <td>1</td>\n",
              "      <td>1</td>\n",
              "      <td>0</td>\n",
              "      <td>0</td>\n",
              "      <td>0</td>\n",
              "      <td>0</td>\n",
              "      <td>0</td>\n",
              "      <td>0</td>\n",
              "      <td>0</td>\n",
              "      <td>0</td>\n",
              "    </tr>\n",
              "    <tr>\n",
              "      <th>2</th>\n",
              "      <td>1761</td>\n",
              "      <td>0</td>\n",
              "      <td>0.013463</td>\n",
              "      <td>0</td>\n",
              "      <td>1</td>\n",
              "      <td>0</td>\n",
              "      <td>0</td>\n",
              "      <td>0</td>\n",
              "      <td>0</td>\n",
              "      <td>0</td>\n",
              "      <td>0</td>\n",
              "      <td>0</td>\n",
              "      <td>0</td>\n",
              "      <td>0</td>\n",
              "      <td>0</td>\n",
              "    </tr>\n",
              "    <tr>\n",
              "      <th>3</th>\n",
              "      <td>2283</td>\n",
              "      <td>1</td>\n",
              "      <td>0.700441</td>\n",
              "      <td>1</td>\n",
              "      <td>1</td>\n",
              "      <td>1</td>\n",
              "      <td>1</td>\n",
              "      <td>1</td>\n",
              "      <td>1</td>\n",
              "      <td>1</td>\n",
              "      <td>1</td>\n",
              "      <td>1</td>\n",
              "      <td>0</td>\n",
              "      <td>0</td>\n",
              "      <td>1</td>\n",
              "    </tr>\n",
              "    <tr>\n",
              "      <th>4</th>\n",
              "      <td>1872</td>\n",
              "      <td>0</td>\n",
              "      <td>0.022563</td>\n",
              "      <td>0</td>\n",
              "      <td>1</td>\n",
              "      <td>0</td>\n",
              "      <td>0</td>\n",
              "      <td>0</td>\n",
              "      <td>0</td>\n",
              "      <td>0</td>\n",
              "      <td>0</td>\n",
              "      <td>0</td>\n",
              "      <td>0</td>\n",
              "      <td>0</td>\n",
              "      <td>0</td>\n",
              "    </tr>\n",
              "  </tbody>\n",
              "</table>\n",
              "</div>"
            ],
            "text/plain": [
              "   CustID  Churn  Churn_Prob  predicted  0.0  0.1  0.2  0.3  0.4  0.5  0.6  \\\n",
              "0     942      0    0.534503          1    1    1    1    1    1    1    0   \n",
              "1    3730      1    0.292735          0    1    1    1    0    0    0    0   \n",
              "2    1761      0    0.013463          0    1    0    0    0    0    0    0   \n",
              "3    2283      1    0.700441          1    1    1    1    1    1    1    1   \n",
              "4    1872      0    0.022563          0    1    0    0    0    0    0    0   \n",
              "\n",
              "   0.7  0.8  0.9  final_predicted  \n",
              "0    0    0    0                1  \n",
              "1    0    0    0                0  \n",
              "2    0    0    0                0  \n",
              "3    1    0    0                1  \n",
              "4    0    0    0                0  "
            ]
          },
          "execution_count": 89,
          "metadata": {},
          "output_type": "execute_result"
        }
      ],
      "source": [
        "\n"
      ]
    },
    {
      "cell_type": "code",
      "execution_count": null,
      "metadata": {
        "id": "afE_KklT1H36",
        "outputId": "9bd09030-d546-49df-b895-f9d06318411f"
      },
      "outputs": [
        {
          "data": {
            "text/plain": [
              "0.7601895734597156"
            ]
          },
          "execution_count": 90,
          "metadata": {},
          "output_type": "execute_result"
        }
      ],
      "source": [
        "#Let's check the overall accuracy now again\n",
        "\n"
      ]
    },
    {
      "cell_type": "code",
      "execution_count": null,
      "metadata": {
        "id": "PtH9OUDJ1H36",
        "outputId": "a700d795-8c6e-4dbe-db9e-76270f8e0eb1"
      },
      "outputs": [
        {
          "data": {
            "text/plain": [
              "array([[1219,  309],\n",
              "       [ 197,  385]], dtype=int64)"
            ]
          },
          "execution_count": 91,
          "metadata": {},
          "output_type": "execute_result"
        }
      ],
      "source": [
        "\n"
      ]
    },
    {
      "cell_type": "markdown",
      "metadata": {
        "id": "9tlv8EQT1H37"
      },
      "source": [
        "Though this approach of finding best cutoff probability is perfectly fine, but as you can see our error got increased when cutoff is 0.3. \n",
        "\n",
        "\n",
        "The reason may be the features which we used to predict. We need go back and check them again. Else we can even try out different classification problems. \n",
        "\n",
        "\n",
        "Lets try using all the features available before doing RFE. i.e consider all features in X\n",
        "\n",
        "\n"
      ]
    },
    {
      "cell_type": "code",
      "execution_count": null,
      "metadata": {
        "id": "yDT0XAzt1H38"
      },
      "outputs": [],
      "source": [
        "# Splitting the data into train and test with train_size=0.7 and random_state=100 again\n",
        "\n",
        "X_train, X_test, y_train, y_test = \n",
        "\n"
      ]
    },
    {
      "cell_type": "code",
      "execution_count": null,
      "metadata": {
        "id": "dV7RcYtl1H38"
      },
      "outputs": [],
      "source": [
        "#initialise Logistic Regression\n",
        "logs2 = \n",
        "\n",
        "\n",
        "#fitting model using above columns as input\n",
        "\n",
        "\n",
        "\n",
        "#prediction on test data\n",
        "\n"
      ]
    },
    {
      "cell_type": "code",
      "execution_count": null,
      "metadata": {
        "id": "kV9n1bDu1H39",
        "outputId": "16818b34-7664-450c-fa21-369edcd13a08"
      },
      "outputs": [
        {
          "name": "stdout",
          "output_type": "stream",
          "text": [
            "              precision    recall  f1-score   support\n",
            "\n",
            "           0       0.83      0.90      0.86      1528\n",
            "           1       0.66      0.52      0.58       582\n",
            "\n",
            "    accuracy                           0.79      2110\n",
            "   macro avg       0.74      0.71      0.72      2110\n",
            "weighted avg       0.78      0.79      0.78      2110\n",
            "\n"
          ]
        }
      ],
      "source": [
        "# print classification_report\n",
        "\n",
        "\n"
      ]
    },
    {
      "cell_type": "code",
      "execution_count": null,
      "metadata": {
        "id": "bLDMwQGI1H39",
        "outputId": "ab35c98a-c106-4936-d1be-5feea5dc702c"
      },
      "outputs": [
        {
          "data": {
            "text/plain": [
              "array([[1370,  158],\n",
              "       [ 281,  301]], dtype=int64)"
            ]
          },
          "execution_count": 249,
          "metadata": {},
          "output_type": "execute_result"
        }
      ],
      "source": [
        "#print confusion metrix\n",
        "\n"
      ]
    },
    {
      "cell_type": "markdown",
      "metadata": {
        "id": "Dfmi_XfZ1H3-"
      },
      "source": [
        "So from above result we can see that our results are improved slightly after using all the features in X"
      ]
    },
    {
      "cell_type": "markdown",
      "metadata": {
        "id": "HBpKIZTI1H3_"
      },
      "source": [
        "## **`Summary`**\n",
        "\n",
        "1. Logistic Regression is a Machine Learning classification algorithm that is used to predict the probability of a categorical dependent variable. \n",
        "2. In logistic regression, the dependent variable is a binary variable that contains data coded as 1 (yes, success, etc.) or 0 (no, failure, etc.)\n",
        "\n",
        "\n",
        "\n",
        "\n",
        "\n",
        "\n",
        "\n",
        "\n",
        "\n",
        "\n",
        "\n",
        "\n",
        "\n",
        "\n",
        "\n",
        "\n",
        "\n",
        "So in this assignment you learned when to use and how to use logistic regression and what all important metrics we can look for.\n",
        "\n",
        "Well done buddy. So far so good.!\n",
        "\n",
        "------------------------------\n",
        "\n",
        "# Oh yeah! Congratulations you have made your first classification alogorithm! Very well done.\n",
        "\n",
        "-------------------------------------\n",
        "\n",
        "# Its Feedback Time!\n",
        "\n",
        "We hope you’ve enjoyed this course so far. We’re committed to help you use \"AI for All\" course to its full potential, so that you have a great learning experience. And that’s why we need your help in form of a feedback here.\n",
        "\n",
        "**Please fill this feedback form**\n",
        " https://zfrmz.in/MtRG5oWXBdesm6rmSM7N"
      ]
    },
    {
      "cell_type": "markdown",
      "metadata": {
        "id": "joJ4wU1u1H4A"
      },
      "source": [
        "_______________________________"
      ]
    }
  ],
  "metadata": {
    "kernelspec": {
      "display_name": "Python 3",
      "language": "python",
      "name": "python3"
    },
    "language_info": {
      "codemirror_mode": {
        "name": "ipython",
        "version": 3
      },
      "file_extension": ".py",
      "mimetype": "text/x-python",
      "name": "python",
      "nbconvert_exporter": "python",
      "pygments_lexer": "ipython3",
      "version": "3.8.5"
    },
    "colab": {
      "provenance": [],
      "collapsed_sections": []
    }
  },
  "nbformat": 4,
  "nbformat_minor": 0
}