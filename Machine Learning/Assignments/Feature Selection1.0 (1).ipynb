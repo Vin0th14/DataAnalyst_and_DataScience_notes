{
  "cells": [
    {
      "cell_type": "markdown",
      "metadata": {
        "id": "NQpVgl_dUfUF"
      },
      "source": [
        "# <center> <u> Feature Selection </u> </center>"
      ]
    },
    {
      "cell_type": "markdown",
      "metadata": {
        "id": "HfxSOXqoMHO_"
      },
      "source": [
        "<h2>What's the Purpose of Feature Selection</h2>\n",
        "<p>Many learning algorithms perform poorly on high-dimensional data. This is known as the <b>curse of dimensionality</b>\n",
        "    <p>There are other reasons we may wish to reduce the number of features including:\n",
        "        <p>1. Reducing computational cost\n",
        "            <p>2. Reducing the cost associated with data collection\n",
        "                <p>3. Improving Interpretability"
      ]
    },
    {
      "cell_type": "markdown",
      "metadata": {
        "id": "GTT0QKabWO_L"
      },
      "source": [
        "# **`WATCH ALL VIDEOS IN THE PORTAL`**"
      ]
    },
    {
      "cell_type": "markdown",
      "metadata": {
        "id": "HJVOgiab8Xg9"
      },
      "source": [
        "## **`Watch Video 1: Feature Selection Techniques`**\n",
        "\n",
        "File used: https://drive.google.com/file/d/1no82-mhXD52sQEu6I7-I6K5HPyVBIBgz/view?usp=sharing\n",
        "\n",
        "Dataset : https://drive.google.com/file/d/1g3rLZpYb9BmBElDq_fo7F2nzpBuzaQYB/view?usp=sharing"
      ]
    },
    {
      "cell_type": "markdown",
      "metadata": {
        "id": "jLf6D_eaLCUy"
      },
      "source": [
        "**Problem Statement:**\n",
        "\n",
        "Can you build a machine learning model to accurately predict whether or not the patients in the dataset have diabetes or not?"
      ]
    },
    {
      "cell_type": "code",
      "execution_count": 27,
      "metadata": {
        "id": "vTBqacTEMHPF"
      },
      "outputs": [],
      "source": [
        "#import numpy, pandas \n",
        "\n",
        "import numpy as np \n",
        "import pandas as pd \n",
        "\n",
        "\n",
        "# import SelectFromModel, train_test_split, DecisionTreeClassifier, StandardScaler\n",
        "\n",
        "from sklearn.feature_selection import SelectFromModel\n",
        "from sklearn.model_selection import train_test_split\n",
        "from sklearn.preprocessing import StandardScaler,MinMaxScaler\n",
        "from sklearn.feature_selection import VarianceThreshold\n",
        "\n",
        "\n",
        "# import RandomForestClassifier, roc_auc_score, StandardScaler, make_pipeline, KFold, KNeighborsRegressor\n",
        "\n",
        "\n",
        "\n",
        "\n",
        "\n",
        "# import mean_squared_error, r2_score, cross_val_predict, LinearRegression, sqrt\n",
        "\n",
        "\n",
        "\n",
        "\n",
        "\n",
        "# Note: just have a look what all libraries you have imported"
      ]
    },
    {
      "cell_type": "markdown",
      "metadata": {
        "id": "fRhN8af1MHPJ"
      },
      "source": [
        "## 1.Filter Methods:\n",
        "\n",
        "\n",
        "\n",
        "Filter method applies a statistical measure to assign a scoring to each feature.Then we can decide to keep or remove those features based on those scores. The methods are often univariate and consider the feature independently, or with regard to the dependent variable.\n",
        "\n",
        "In this section we will cover below approaches:\n",
        "\n",
        "1. Missing Value Ratio Threshold\n",
        "2. Variance Threshold\n",
        "3. $Chi^2$ Test\n",
        "4. Anova Test"
      ]
    },
    {
      "cell_type": "markdown",
      "metadata": {
        "id": "u2HYKvwRMHPL"
      },
      "source": [
        "Download the dataset from https://github.com/arupbhunia/Data-Pre-processing/blob/master/datasets/diabetes.csv\n",
        "\n",
        "Dataset used - diabetes.csv\n",
        "\n",
        "Download instruction: go to the given link--->click raw button on top right corner---->Press Ctrl+S -->save it as .csv file."
      ]
    },
    {
      "cell_type": "markdown",
      "metadata": {
        "id": "TqsGT8I0MHPQ"
      },
      "source": [
        "## (a) Missing Value Ratio Threshold\n",
        "\n",
        "<p style='text-align: right;'> 20 points</p>\n",
        "\n",
        "\n",
        "Data Dict:\n",
        "---\n",
        "\n",
        "**Pregnancies:** Number of times pregnant <br>\n",
        "**Glucose:** Plasma glucose concentration a 2 hours in an oral glucose tolerance test.<br>\n",
        "**BloodPressure:** Diastolic blood pressure (mm Hg).<br>\n",
        "**SkinThickness:** Triceps skin fold thickness (mm).<br>\n",
        "**Insulin:** 2-Hour serum insulin (mu U/ml).<br>\n",
        "**BMI:** Body mass index (weight in kg/(height in m)^2). <br>\n",
        "**DiabetesPedigreeFunction:** A function which scores likelihood of diabetes based on family history<br>\n",
        "**Age:** Age (years)<br>\n",
        "**Outcome:** Class variable (0 or 1)\n",
        "\n",
        "\n"
      ]
    },
    {
      "cell_type": "code",
      "execution_count": 3,
      "metadata": {
        "id": "mTbQ0On3MHPS",
        "outputId": "4dc34611-5682-4523-bea4-5c780d15aadf"
      },
      "outputs": [
        {
          "data": {
            "text/html": [
              "<div>\n",
              "<style scoped>\n",
              "    .dataframe tbody tr th:only-of-type {\n",
              "        vertical-align: middle;\n",
              "    }\n",
              "\n",
              "    .dataframe tbody tr th {\n",
              "        vertical-align: top;\n",
              "    }\n",
              "\n",
              "    .dataframe thead th {\n",
              "        text-align: right;\n",
              "    }\n",
              "</style>\n",
              "<table border=\"1\" class=\"dataframe\">\n",
              "  <thead>\n",
              "    <tr style=\"text-align: right;\">\n",
              "      <th></th>\n",
              "      <th>Pregnancies</th>\n",
              "      <th>Glucose</th>\n",
              "      <th>BloodPressure</th>\n",
              "      <th>SkinThickness</th>\n",
              "      <th>Insulin</th>\n",
              "      <th>BMI</th>\n",
              "      <th>DiabetesPedigreeFunction</th>\n",
              "      <th>Age</th>\n",
              "      <th>Outcome</th>\n",
              "    </tr>\n",
              "  </thead>\n",
              "  <tbody>\n",
              "    <tr>\n",
              "      <th>0</th>\n",
              "      <td>6</td>\n",
              "      <td>148</td>\n",
              "      <td>72</td>\n",
              "      <td>35</td>\n",
              "      <td>0</td>\n",
              "      <td>33.6</td>\n",
              "      <td>0.627</td>\n",
              "      <td>50</td>\n",
              "      <td>1</td>\n",
              "    </tr>\n",
              "    <tr>\n",
              "      <th>1</th>\n",
              "      <td>1</td>\n",
              "      <td>85</td>\n",
              "      <td>66</td>\n",
              "      <td>29</td>\n",
              "      <td>0</td>\n",
              "      <td>26.6</td>\n",
              "      <td>0.351</td>\n",
              "      <td>31</td>\n",
              "      <td>0</td>\n",
              "    </tr>\n",
              "    <tr>\n",
              "      <th>2</th>\n",
              "      <td>8</td>\n",
              "      <td>183</td>\n",
              "      <td>64</td>\n",
              "      <td>0</td>\n",
              "      <td>0</td>\n",
              "      <td>23.3</td>\n",
              "      <td>0.672</td>\n",
              "      <td>32</td>\n",
              "      <td>1</td>\n",
              "    </tr>\n",
              "    <tr>\n",
              "      <th>3</th>\n",
              "      <td>1</td>\n",
              "      <td>89</td>\n",
              "      <td>66</td>\n",
              "      <td>23</td>\n",
              "      <td>94</td>\n",
              "      <td>28.1</td>\n",
              "      <td>0.167</td>\n",
              "      <td>21</td>\n",
              "      <td>0</td>\n",
              "    </tr>\n",
              "    <tr>\n",
              "      <th>4</th>\n",
              "      <td>0</td>\n",
              "      <td>137</td>\n",
              "      <td>40</td>\n",
              "      <td>35</td>\n",
              "      <td>168</td>\n",
              "      <td>43.1</td>\n",
              "      <td>2.288</td>\n",
              "      <td>33</td>\n",
              "      <td>1</td>\n",
              "    </tr>\n",
              "  </tbody>\n",
              "</table>\n",
              "</div>"
            ],
            "text/plain": [
              "   Pregnancies  Glucose  BloodPressure  SkinThickness  Insulin   BMI  \\\n",
              "0            6      148             72             35        0  33.6   \n",
              "1            1       85             66             29        0  26.6   \n",
              "2            8      183             64              0        0  23.3   \n",
              "3            1       89             66             23       94  28.1   \n",
              "4            0      137             40             35      168  43.1   \n",
              "\n",
              "   DiabetesPedigreeFunction  Age  Outcome  \n",
              "0                     0.627   50        1  \n",
              "1                     0.351   31        0  \n",
              "2                     0.672   32        1  \n",
              "3                     0.167   21        0  \n",
              "4                     2.288   33        1  "
            ]
          },
          "execution_count": 3,
          "metadata": {},
          "output_type": "execute_result"
        }
      ],
      "source": [
        "# create a data frame named diabetes and load the csv file\n",
        "\n",
        "diabetes = pd.read_csv(r\"E:/DataScience_and_DataAnalyst_Notes/Machine Learning/Feature Selection/dataset _ files/diabetes.csv\")\n",
        "#print the head \n",
        "diabetes.head()\n"
      ]
    },
    {
      "cell_type": "markdown",
      "metadata": {
        "id": "6d-WDUMjMHPV"
      },
      "source": [
        "We know that some features can not be zero(e.g. a person's blood pressure can not be 0) hence we will impute zeros with nan value in these features.\n",
        "\n",
        "Reference to impute: https://pandas.pydata.org/pandas-docs/version/0.23/generated/pandas.DataFrame.replace.html"
      ]
    },
    {
      "cell_type": "code",
      "execution_count": 6,
      "metadata": {
        "id": "TmeLF-grMHPX"
      },
      "outputs": [],
      "source": [
        "#Glucose BloodPressure, SkinThickness, Insulin, and BMI features cannot be zero ,we will impute zeros with nan value in these features.\n",
        "diabetes['Glucose'].replace(0,np.nan,inplace=True)\n",
        "diabetes['SkinThickness'].replace(0,np.nan,inplace=True)\n",
        "diabetes['BloodPressure'].replace(0,np.nan,inplace=True)\n",
        "diabetes['Insulin'].replace(0,np.nan,inplace=True)\n",
        "diabetes['BMI'].replace(0,np.nan,inplace=True)\n",
        "\n",
        "\n",
        "\n"
      ]
    },
    {
      "cell_type": "code",
      "execution_count": 7,
      "metadata": {
        "id": "5NfGlHuUMHPY",
        "outputId": "26587c55-5560-44fc-8427-f96965af76a7"
      },
      "outputs": [
        {
          "data": {
            "text/plain": [
              "Pregnancies                   0\n",
              "Glucose                       5\n",
              "BloodPressure                35\n",
              "SkinThickness               227\n",
              "Insulin                     374\n",
              "BMI                          11\n",
              "DiabetesPedigreeFunction      0\n",
              "Age                           0\n",
              "Outcome                       0\n",
              "dtype: int64"
            ]
          },
          "execution_count": 7,
          "metadata": {},
          "output_type": "execute_result"
        }
      ],
      "source": [
        "#display the no of null values in each feature\n",
        "\n",
        "diabetes.isnull().sum()"
      ]
    },
    {
      "cell_type": "markdown",
      "metadata": {
        "id": "SI68HkoyMHPa"
      },
      "source": [
        "Now let's see for each feature what is the percentage of having missing values."
      ]
    },
    {
      "cell_type": "code",
      "execution_count": 8,
      "metadata": {
        "id": "5O3lERtfMHPb",
        "outputId": "56eb4b1e-7325-49ec-9f94-6657dace17d7"
      },
      "outputs": [
        {
          "data": {
            "text/plain": [
              "0.6510416666666667"
            ]
          },
          "execution_count": 8,
          "metadata": {},
          "output_type": "execute_result"
        }
      ],
      "source": [
        "#percentage of missing values for Glucose(sum null values , divide by length and multiply by 100)\n",
        "diabetes['Glucose'].isnull().sum()/len(diabetes)*100\n",
        "\n"
      ]
    },
    {
      "cell_type": "code",
      "execution_count": 9,
      "metadata": {
        "id": "iVAJsiESMHPc",
        "outputId": "4eae235f-31da-43c2-af93-eeb970660e7d"
      },
      "outputs": [
        {
          "data": {
            "text/plain": [
              "4.557291666666666"
            ]
          },
          "execution_count": 9,
          "metadata": {},
          "output_type": "execute_result"
        }
      ],
      "source": [
        "# calculate the percentage for Bloodpressure\n",
        "\n",
        "diabetes['BloodPressure'].isnull().sum()/len(diabetes)*100\n"
      ]
    },
    {
      "cell_type": "code",
      "execution_count": 10,
      "metadata": {
        "id": "_wEcxRH4MHPe",
        "outputId": "fc765821-86c4-4243-def4-0caaabc4c419"
      },
      "outputs": [
        {
          "data": {
            "text/plain": [
              "29.557291666666668"
            ]
          },
          "execution_count": 10,
          "metadata": {},
          "output_type": "execute_result"
        }
      ],
      "source": [
        "# calculate the percentage for SkinThickness\n",
        "diabetes['SkinThickness'].isnull().sum()/len(diabetes)*100\n",
        "\n"
      ]
    },
    {
      "cell_type": "code",
      "execution_count": 11,
      "metadata": {
        "id": "jpLTL_uQMHPg",
        "outputId": "f2d0eedb-a18d-4378-faeb-df7fd8193651"
      },
      "outputs": [
        {
          "data": {
            "text/plain": [
              "48.69791666666667"
            ]
          },
          "execution_count": 11,
          "metadata": {},
          "output_type": "execute_result"
        }
      ],
      "source": [
        "# calculate the percentage for Insulin\n",
        "diabetes['Insulin'].isnull().sum()/len(diabetes)*100\n",
        "\n"
      ]
    },
    {
      "cell_type": "code",
      "execution_count": 12,
      "metadata": {
        "id": "NJ05SIKbMHPi",
        "outputId": "4adab44c-4b38-44d8-c7ae-fff9d61102be"
      },
      "outputs": [
        {
          "data": {
            "text/plain": [
              "1.4322916666666665"
            ]
          },
          "execution_count": 12,
          "metadata": {},
          "output_type": "execute_result"
        }
      ],
      "source": [
        "# calculate the percentage for BMI\n",
        "\n",
        "diabetes['BMI'].isnull().sum()/len(diabetes)*100\n"
      ]
    },
    {
      "cell_type": "markdown",
      "metadata": {
        "id": "-8YjVpvLMHPj"
      },
      "source": [
        "Hey can you see that a large number of data missing in SkinThickness and Insulin."
      ]
    },
    {
      "cell_type": "markdown",
      "metadata": {
        "id": "ZdTAUC-M9ATO"
      },
      "source": [
        "## **`Watch Video 2: Identify and Dropping Missing Values`**\n",
        "\n",
        "File used: https://drive.google.com/file/d/1xD7xnBXRYLGg5Qy8676lcj3QepoxmxMn/view?usp=sharing\n",
        "\n",
        "Dataset: https://drive.google.com/file/d/18iVghbe09MKOMc49imA1Phuw-dNvMm4X/view?usp=sharing"
      ]
    },
    {
      "cell_type": "markdown",
      "metadata": {
        "id": "BP8yR8nkMHPk"
      },
      "source": [
        "Here we will keep only those features which are having missing data less than 10% as our threshold.\n",
        "\n",
        "\n",
        "You can also check its document official: https://pandas.pydata.org/pandas-docs/stable/reference/api/pandas.DataFrame.dropna.html"
      ]
    },
    {
      "cell_type": "code",
      "execution_count": 13,
      "metadata": {
        "id": "qbaOM1BxMHPl",
        "outputId": "55a09bbc-23a0-4945-c427-77097279e667"
      },
      "outputs": [
        {
          "data": {
            "text/html": [
              "<div>\n",
              "<style scoped>\n",
              "    .dataframe tbody tr th:only-of-type {\n",
              "        vertical-align: middle;\n",
              "    }\n",
              "\n",
              "    .dataframe tbody tr th {\n",
              "        vertical-align: top;\n",
              "    }\n",
              "\n",
              "    .dataframe thead th {\n",
              "        text-align: right;\n",
              "    }\n",
              "</style>\n",
              "<table border=\"1\" class=\"dataframe\">\n",
              "  <thead>\n",
              "    <tr style=\"text-align: right;\">\n",
              "      <th></th>\n",
              "      <th>Pregnancies</th>\n",
              "      <th>Glucose</th>\n",
              "      <th>BloodPressure</th>\n",
              "      <th>BMI</th>\n",
              "      <th>DiabetesPedigreeFunction</th>\n",
              "      <th>Age</th>\n",
              "      <th>Outcome</th>\n",
              "    </tr>\n",
              "  </thead>\n",
              "  <tbody>\n",
              "    <tr>\n",
              "      <th>0</th>\n",
              "      <td>6</td>\n",
              "      <td>148.0</td>\n",
              "      <td>72.0</td>\n",
              "      <td>33.6</td>\n",
              "      <td>0.627</td>\n",
              "      <td>50</td>\n",
              "      <td>1</td>\n",
              "    </tr>\n",
              "    <tr>\n",
              "      <th>1</th>\n",
              "      <td>1</td>\n",
              "      <td>85.0</td>\n",
              "      <td>66.0</td>\n",
              "      <td>26.6</td>\n",
              "      <td>0.351</td>\n",
              "      <td>31</td>\n",
              "      <td>0</td>\n",
              "    </tr>\n",
              "    <tr>\n",
              "      <th>2</th>\n",
              "      <td>8</td>\n",
              "      <td>183.0</td>\n",
              "      <td>64.0</td>\n",
              "      <td>23.3</td>\n",
              "      <td>0.672</td>\n",
              "      <td>32</td>\n",
              "      <td>1</td>\n",
              "    </tr>\n",
              "    <tr>\n",
              "      <th>3</th>\n",
              "      <td>1</td>\n",
              "      <td>89.0</td>\n",
              "      <td>66.0</td>\n",
              "      <td>28.1</td>\n",
              "      <td>0.167</td>\n",
              "      <td>21</td>\n",
              "      <td>0</td>\n",
              "    </tr>\n",
              "    <tr>\n",
              "      <th>4</th>\n",
              "      <td>0</td>\n",
              "      <td>137.0</td>\n",
              "      <td>40.0</td>\n",
              "      <td>43.1</td>\n",
              "      <td>2.288</td>\n",
              "      <td>33</td>\n",
              "      <td>1</td>\n",
              "    </tr>\n",
              "    <tr>\n",
              "      <th>...</th>\n",
              "      <td>...</td>\n",
              "      <td>...</td>\n",
              "      <td>...</td>\n",
              "      <td>...</td>\n",
              "      <td>...</td>\n",
              "      <td>...</td>\n",
              "      <td>...</td>\n",
              "    </tr>\n",
              "    <tr>\n",
              "      <th>763</th>\n",
              "      <td>10</td>\n",
              "      <td>101.0</td>\n",
              "      <td>76.0</td>\n",
              "      <td>32.9</td>\n",
              "      <td>0.171</td>\n",
              "      <td>63</td>\n",
              "      <td>0</td>\n",
              "    </tr>\n",
              "    <tr>\n",
              "      <th>764</th>\n",
              "      <td>2</td>\n",
              "      <td>122.0</td>\n",
              "      <td>70.0</td>\n",
              "      <td>36.8</td>\n",
              "      <td>0.340</td>\n",
              "      <td>27</td>\n",
              "      <td>0</td>\n",
              "    </tr>\n",
              "    <tr>\n",
              "      <th>765</th>\n",
              "      <td>5</td>\n",
              "      <td>121.0</td>\n",
              "      <td>72.0</td>\n",
              "      <td>26.2</td>\n",
              "      <td>0.245</td>\n",
              "      <td>30</td>\n",
              "      <td>0</td>\n",
              "    </tr>\n",
              "    <tr>\n",
              "      <th>766</th>\n",
              "      <td>1</td>\n",
              "      <td>126.0</td>\n",
              "      <td>60.0</td>\n",
              "      <td>30.1</td>\n",
              "      <td>0.349</td>\n",
              "      <td>47</td>\n",
              "      <td>1</td>\n",
              "    </tr>\n",
              "    <tr>\n",
              "      <th>767</th>\n",
              "      <td>1</td>\n",
              "      <td>93.0</td>\n",
              "      <td>70.0</td>\n",
              "      <td>30.4</td>\n",
              "      <td>0.315</td>\n",
              "      <td>23</td>\n",
              "      <td>0</td>\n",
              "    </tr>\n",
              "  </tbody>\n",
              "</table>\n",
              "<p>768 rows × 7 columns</p>\n",
              "</div>"
            ],
            "text/plain": [
              "     Pregnancies  Glucose  BloodPressure   BMI  DiabetesPedigreeFunction  Age  \\\n",
              "0              6    148.0           72.0  33.6                     0.627   50   \n",
              "1              1     85.0           66.0  26.6                     0.351   31   \n",
              "2              8    183.0           64.0  23.3                     0.672   32   \n",
              "3              1     89.0           66.0  28.1                     0.167   21   \n",
              "4              0    137.0           40.0  43.1                     2.288   33   \n",
              "..           ...      ...            ...   ...                       ...  ...   \n",
              "763           10    101.0           76.0  32.9                     0.171   63   \n",
              "764            2    122.0           70.0  36.8                     0.340   27   \n",
              "765            5    121.0           72.0  26.2                     0.245   30   \n",
              "766            1    126.0           60.0  30.1                     0.349   47   \n",
              "767            1     93.0           70.0  30.4                     0.315   23   \n",
              "\n",
              "     Outcome  \n",
              "0          1  \n",
              "1          0  \n",
              "2          1  \n",
              "3          0  \n",
              "4          1  \n",
              "..       ...  \n",
              "763        0  \n",
              "764        0  \n",
              "765        0  \n",
              "766        1  \n",
              "767        0  \n",
              "\n",
              "[768 rows x 7 columns]"
            ]
          },
          "execution_count": 13,
          "metadata": {},
          "output_type": "execute_result"
        }
      ],
      "source": [
        "#we are keep only those features which are having missing data less than 10% \n",
        "diabetes_missing_value_threshold =diabetes.dropna(thresh=int(diabetes.shape[0]*.9),axis=1)\n",
        "\n",
        "\n",
        "# print diabetes_missing_value_threshold \n",
        "diabetes_missing_value_threshold\n"
      ]
    },
    {
      "cell_type": "markdown",
      "metadata": {
        "id": "VFd4f4IwMHPl"
      },
      "source": [
        "Let's now Seperate the data diabetes_missing_value_threshold into features and labels \n",
        "\n",
        "Hey buddy! label is something which is depen'dent on other features for its outcome. You can also called it as our Target variable which we predict using ML algorithms.\n",
        "\n",
        "Can you think which column would be considered as label.\n"
      ]
    },
    {
      "cell_type": "code",
      "execution_count": 14,
      "metadata": {
        "id": "sZc_1IVjMHPm"
      },
      "outputs": [],
      "source": [
        "\n",
        "diabetes_missing_value_threshold_features = diabetes_missing_value_threshold.drop('Outcome',axis=1)\n",
        "\n",
        "diabetes_missing_value_threshold_label= diabetes_missing_value_threshold['Outcome']\n"
      ]
    },
    {
      "cell_type": "code",
      "execution_count": 15,
      "metadata": {
        "id": "SShTR6LOMHPn",
        "outputId": "4533a44c-efd9-4e5c-a042-e42b20a50f94"
      },
      "outputs": [
        {
          "data": {
            "text/html": [
              "<div>\n",
              "<style scoped>\n",
              "    .dataframe tbody tr th:only-of-type {\n",
              "        vertical-align: middle;\n",
              "    }\n",
              "\n",
              "    .dataframe tbody tr th {\n",
              "        vertical-align: top;\n",
              "    }\n",
              "\n",
              "    .dataframe thead th {\n",
              "        text-align: right;\n",
              "    }\n",
              "</style>\n",
              "<table border=\"1\" class=\"dataframe\">\n",
              "  <thead>\n",
              "    <tr style=\"text-align: right;\">\n",
              "      <th></th>\n",
              "      <th>Pregnancies</th>\n",
              "      <th>Glucose</th>\n",
              "      <th>BloodPressure</th>\n",
              "      <th>BMI</th>\n",
              "      <th>DiabetesPedigreeFunction</th>\n",
              "      <th>Age</th>\n",
              "    </tr>\n",
              "  </thead>\n",
              "  <tbody>\n",
              "    <tr>\n",
              "      <th>0</th>\n",
              "      <td>6</td>\n",
              "      <td>148.0</td>\n",
              "      <td>72.0</td>\n",
              "      <td>33.6</td>\n",
              "      <td>0.627</td>\n",
              "      <td>50</td>\n",
              "    </tr>\n",
              "    <tr>\n",
              "      <th>1</th>\n",
              "      <td>1</td>\n",
              "      <td>85.0</td>\n",
              "      <td>66.0</td>\n",
              "      <td>26.6</td>\n",
              "      <td>0.351</td>\n",
              "      <td>31</td>\n",
              "    </tr>\n",
              "    <tr>\n",
              "      <th>2</th>\n",
              "      <td>8</td>\n",
              "      <td>183.0</td>\n",
              "      <td>64.0</td>\n",
              "      <td>23.3</td>\n",
              "      <td>0.672</td>\n",
              "      <td>32</td>\n",
              "    </tr>\n",
              "    <tr>\n",
              "      <th>3</th>\n",
              "      <td>1</td>\n",
              "      <td>89.0</td>\n",
              "      <td>66.0</td>\n",
              "      <td>28.1</td>\n",
              "      <td>0.167</td>\n",
              "      <td>21</td>\n",
              "    </tr>\n",
              "    <tr>\n",
              "      <th>4</th>\n",
              "      <td>0</td>\n",
              "      <td>137.0</td>\n",
              "      <td>40.0</td>\n",
              "      <td>43.1</td>\n",
              "      <td>2.288</td>\n",
              "      <td>33</td>\n",
              "    </tr>\n",
              "    <tr>\n",
              "      <th>...</th>\n",
              "      <td>...</td>\n",
              "      <td>...</td>\n",
              "      <td>...</td>\n",
              "      <td>...</td>\n",
              "      <td>...</td>\n",
              "      <td>...</td>\n",
              "    </tr>\n",
              "    <tr>\n",
              "      <th>763</th>\n",
              "      <td>10</td>\n",
              "      <td>101.0</td>\n",
              "      <td>76.0</td>\n",
              "      <td>32.9</td>\n",
              "      <td>0.171</td>\n",
              "      <td>63</td>\n",
              "    </tr>\n",
              "    <tr>\n",
              "      <th>764</th>\n",
              "      <td>2</td>\n",
              "      <td>122.0</td>\n",
              "      <td>70.0</td>\n",
              "      <td>36.8</td>\n",
              "      <td>0.340</td>\n",
              "      <td>27</td>\n",
              "    </tr>\n",
              "    <tr>\n",
              "      <th>765</th>\n",
              "      <td>5</td>\n",
              "      <td>121.0</td>\n",
              "      <td>72.0</td>\n",
              "      <td>26.2</td>\n",
              "      <td>0.245</td>\n",
              "      <td>30</td>\n",
              "    </tr>\n",
              "    <tr>\n",
              "      <th>766</th>\n",
              "      <td>1</td>\n",
              "      <td>126.0</td>\n",
              "      <td>60.0</td>\n",
              "      <td>30.1</td>\n",
              "      <td>0.349</td>\n",
              "      <td>47</td>\n",
              "    </tr>\n",
              "    <tr>\n",
              "      <th>767</th>\n",
              "      <td>1</td>\n",
              "      <td>93.0</td>\n",
              "      <td>70.0</td>\n",
              "      <td>30.4</td>\n",
              "      <td>0.315</td>\n",
              "      <td>23</td>\n",
              "    </tr>\n",
              "  </tbody>\n",
              "</table>\n",
              "<p>768 rows × 6 columns</p>\n",
              "</div>"
            ],
            "text/plain": [
              "     Pregnancies  Glucose  BloodPressure   BMI  DiabetesPedigreeFunction  Age\n",
              "0              6    148.0           72.0  33.6                     0.627   50\n",
              "1              1     85.0           66.0  26.6                     0.351   31\n",
              "2              8    183.0           64.0  23.3                     0.672   32\n",
              "3              1     89.0           66.0  28.1                     0.167   21\n",
              "4              0    137.0           40.0  43.1                     2.288   33\n",
              "..           ...      ...            ...   ...                       ...  ...\n",
              "763           10    101.0           76.0  32.9                     0.171   63\n",
              "764            2    122.0           70.0  36.8                     0.340   27\n",
              "765            5    121.0           72.0  26.2                     0.245   30\n",
              "766            1    126.0           60.0  30.1                     0.349   47\n",
              "767            1     93.0           70.0  30.4                     0.315   23\n",
              "\n",
              "[768 rows x 6 columns]"
            ]
          },
          "execution_count": 15,
          "metadata": {},
          "output_type": "execute_result"
        }
      ],
      "source": [
        "#print diabetes_missing_value_threshold_features\n",
        "\n",
        "diabetes_missing_value_threshold_features"
      ]
    },
    {
      "cell_type": "code",
      "execution_count": 16,
      "metadata": {
        "id": "P7LJ64OjMHPo",
        "outputId": "b347ee13-1243-4971-9ce6-d03af8f6e294"
      },
      "outputs": [
        {
          "data": {
            "text/plain": [
              "0      1\n",
              "1      0\n",
              "2      1\n",
              "3      0\n",
              "4      1\n",
              "      ..\n",
              "763    0\n",
              "764    0\n",
              "765    0\n",
              "766    1\n",
              "767    0\n",
              "Name: Outcome, Length: 768, dtype: int64"
            ]
          },
          "execution_count": 16,
          "metadata": {},
          "output_type": "execute_result"
        }
      ],
      "source": [
        "#print diabetes_missing_value_threshold_label\n",
        "\n",
        "diabetes_missing_value_threshold_label\n"
      ]
    },
    {
      "cell_type": "markdown",
      "metadata": {
        "id": "ltb1lRpOMHPp"
      },
      "source": [
        "## (b) Variance Threshold\n",
        "\n",
        "<p style='text-align: right;'> 20 points</p>\n",
        "\n",
        "If the variance is low or close to zero, then a feature is approximately constant and will not improve the performance of the model. In that case, it should be removed.\n",
        "\n",
        "Variance will also be very low for a feature if only a handful of observations of that feature differ from a constant value.\n"
      ]
    },
    {
      "cell_type": "markdown",
      "metadata": {
        "id": "DCUE4Q2H9sxP"
      },
      "source": [
        "## **`Watch Video 3: Variance Threshold Removal`**\n",
        "\n",
        "File used: https://drive.google.com/file/d/1aF_h1juJT6wY49ijjLh-7cMFxMkbXkt-/view?usp=sharing\n",
        "\n",
        "Dataset used: https://drive.google.com/file/d/1-Sx-VZwuUYH8O48aw5mWYEXPLrLRlKKK/view?usp=sharing"
      ]
    },
    {
      "cell_type": "markdown",
      "metadata": {
        "id": "IB4mZQxgMHPq"
      },
      "source": [
        "Are you ready to implement feature selection using variance threshold? Smile and download the dataset diabetes_cleaned.csv from https://github.com/arupbhunia/Data-Pre-processing/blob/master/datasets/diabetes_cleaned.csv\n",
        "\n",
        "Dataset used - diabetes_cleaned.csv"
      ]
    },
    {
      "cell_type": "code",
      "execution_count": 17,
      "metadata": {
        "id": "FwHrcDAaMHPq",
        "outputId": "37f0e3de-bcc2-4de0-916a-8e1b2608a37a"
      },
      "outputs": [
        {
          "data": {
            "text/html": [
              "<div>\n",
              "<style scoped>\n",
              "    .dataframe tbody tr th:only-of-type {\n",
              "        vertical-align: middle;\n",
              "    }\n",
              "\n",
              "    .dataframe tbody tr th {\n",
              "        vertical-align: top;\n",
              "    }\n",
              "\n",
              "    .dataframe thead th {\n",
              "        text-align: right;\n",
              "    }\n",
              "</style>\n",
              "<table border=\"1\" class=\"dataframe\">\n",
              "  <thead>\n",
              "    <tr style=\"text-align: right;\">\n",
              "      <th></th>\n",
              "      <th>Pregnancies</th>\n",
              "      <th>Glucose</th>\n",
              "      <th>BloodPressure</th>\n",
              "      <th>SkinThickness</th>\n",
              "      <th>Insulin</th>\n",
              "      <th>BMI</th>\n",
              "      <th>DiabetesPedigreeFunction</th>\n",
              "      <th>Age</th>\n",
              "      <th>Outcome</th>\n",
              "    </tr>\n",
              "  </thead>\n",
              "  <tbody>\n",
              "    <tr>\n",
              "      <th>0</th>\n",
              "      <td>6</td>\n",
              "      <td>148</td>\n",
              "      <td>72</td>\n",
              "      <td>35</td>\n",
              "      <td>0</td>\n",
              "      <td>33.6</td>\n",
              "      <td>0.627</td>\n",
              "      <td>50</td>\n",
              "      <td>1</td>\n",
              "    </tr>\n",
              "    <tr>\n",
              "      <th>1</th>\n",
              "      <td>1</td>\n",
              "      <td>85</td>\n",
              "      <td>66</td>\n",
              "      <td>29</td>\n",
              "      <td>0</td>\n",
              "      <td>26.6</td>\n",
              "      <td>0.351</td>\n",
              "      <td>31</td>\n",
              "      <td>0</td>\n",
              "    </tr>\n",
              "    <tr>\n",
              "      <th>2</th>\n",
              "      <td>8</td>\n",
              "      <td>183</td>\n",
              "      <td>64</td>\n",
              "      <td>0</td>\n",
              "      <td>0</td>\n",
              "      <td>23.3</td>\n",
              "      <td>0.672</td>\n",
              "      <td>32</td>\n",
              "      <td>1</td>\n",
              "    </tr>\n",
              "    <tr>\n",
              "      <th>3</th>\n",
              "      <td>1</td>\n",
              "      <td>89</td>\n",
              "      <td>66</td>\n",
              "      <td>23</td>\n",
              "      <td>94</td>\n",
              "      <td>28.1</td>\n",
              "      <td>0.167</td>\n",
              "      <td>21</td>\n",
              "      <td>0</td>\n",
              "    </tr>\n",
              "    <tr>\n",
              "      <th>4</th>\n",
              "      <td>0</td>\n",
              "      <td>137</td>\n",
              "      <td>40</td>\n",
              "      <td>35</td>\n",
              "      <td>168</td>\n",
              "      <td>43.1</td>\n",
              "      <td>2.288</td>\n",
              "      <td>33</td>\n",
              "      <td>1</td>\n",
              "    </tr>\n",
              "  </tbody>\n",
              "</table>\n",
              "</div>"
            ],
            "text/plain": [
              "   Pregnancies  Glucose  BloodPressure  SkinThickness  Insulin   BMI  \\\n",
              "0            6      148             72             35        0  33.6   \n",
              "1            1       85             66             29        0  26.6   \n",
              "2            8      183             64              0        0  23.3   \n",
              "3            1       89             66             23       94  28.1   \n",
              "4            0      137             40             35      168  43.1   \n",
              "\n",
              "   DiabetesPedigreeFunction  Age  Outcome  \n",
              "0                     0.627   50        1  \n",
              "1                     0.351   31        0  \n",
              "2                     0.672   32        1  \n",
              "3                     0.167   21        0  \n",
              "4                     2.288   33        1  "
            ]
          },
          "execution_count": 17,
          "metadata": {},
          "output_type": "execute_result"
        }
      ],
      "source": [
        "# load the csv to dataframe name \"diabetes\" and print the head values\n",
        "diabetes = pd.read_csv(r\"E:/DataScience_and_DataAnalyst_Notes/Machine Learning/Feature Selection/dataset _ files/diabetes.csv\")\n",
        "\n",
        "# print head\n",
        "diabetes.head()\n"
      ]
    },
    {
      "cell_type": "code",
      "execution_count": 18,
      "metadata": {
        "id": "rhbL6vkuMHPr"
      },
      "outputs": [],
      "source": [
        "# seperate the features and the target as x and y \n",
        "X = diabetes.drop(\"Outcome\",axis=1)\n",
        "Y =diabetes['Outcome']"
      ]
    },
    {
      "cell_type": "markdown",
      "metadata": {
        "id": "OhfrcXjzMHPs"
      },
      "source": [
        "If you have seen the video then Krish must have told you to use sklearn library to calculate variance threshold. But we will use var function to calculate our variance so that you understand the concept from base. "
      ]
    },
    {
      "cell_type": "code",
      "execution_count": 25,
      "metadata": {
        "id": "fdC0ZqqDMHPs",
        "outputId": "e15e7bb7-5ecd-47e6-de40-01a9d46347dc"
      },
      "outputs": [
        {
          "data": {
            "text/plain": [
              "Pregnancies                    11.354056\n",
              "Glucose                      1022.248314\n",
              "BloodPressure                 374.647271\n",
              "SkinThickness                 254.473245\n",
              "Insulin                     13281.180078\n",
              "BMI                            62.159984\n",
              "DiabetesPedigreeFunction        0.109779\n",
              "Age                           138.303046\n",
              "dtype: float64"
            ]
          },
          "execution_count": 25,
          "metadata": {},
          "output_type": "execute_result"
        }
      ],
      "source": [
        "# Return  the variance for X along the specified axis=0.\n",
        "X.var(axis=0)\n"
      ]
    },
    {
      "cell_type": "markdown",
      "metadata": {
        "id": "kDWBjqEoMHPt"
      },
      "source": [
        "Hey smarty! did you see that DiabetesPedigreeFunction variance is less so it brings almost no information because it is (almost) constant , this can be a justification to remove DiabetesPedigreeFunction column but before considering this we should scale these features because they are of different scales.\n",
        "    \n",
        "Reference for minmax scaling: https://scikit-learn.org/stable/modules/generated/sklearn.preprocessing.MinMaxScaler.html\n",
        "\n",
        "Lets use sklearn minmax scaler here.\n"
      ]
    },
    {
      "cell_type": "code",
      "execution_count": 28,
      "metadata": {
        "id": "SVBq2aOeMHPv"
      },
      "outputs": [],
      "source": [
        "# import minmax_scale\n",
        "from sklearn.preprocessing import minmax_scale\n",
        "\n",
        "# use minmax scale with feature_range=(0,10) and columns=X.columns,to scale the features of dataframe and store them into X_scaled_df \n",
        "X_scaled_df =pd.DataFrame(minmax_scale(X,feature_range=(0,10)),columns=X.columns)\n",
        "\n"
      ]
    },
    {
      "cell_type": "markdown",
      "metadata": {
        "id": "1pAWCngEMHPw"
      },
      "source": [
        "\n",
        "Wait a minute! whats minmax scaling?\n",
        "\n",
        "It is the simplest method and consists in rescaling the range of features to scale the range in [0, 1] or [−1, 1]\n",
        "\n",
        "hey hey heyieeee! Fun fact time:\n",
        "\n",
        "There is another scaling method called StandardScaler which follows Standard Normal Distribution (SND). Therefore, it makes mean = 0 and scales the data to unit variance. \n",
        "\n",
        "Cool right? :)"
      ]
    },
    {
      "cell_type": "code",
      "execution_count": 30,
      "metadata": {
        "id": "oOAV8MjQMHPx",
        "outputId": "162ea211-8711-4cce-efdf-fa2b49a5321c"
      },
      "outputs": [
        {
          "data": {
            "text/html": [
              "<div>\n",
              "<style scoped>\n",
              "    .dataframe tbody tr th:only-of-type {\n",
              "        vertical-align: middle;\n",
              "    }\n",
              "\n",
              "    .dataframe tbody tr th {\n",
              "        vertical-align: top;\n",
              "    }\n",
              "\n",
              "    .dataframe thead th {\n",
              "        text-align: right;\n",
              "    }\n",
              "</style>\n",
              "<table border=\"1\" class=\"dataframe\">\n",
              "  <thead>\n",
              "    <tr style=\"text-align: right;\">\n",
              "      <th></th>\n",
              "      <th>Pregnancies</th>\n",
              "      <th>Glucose</th>\n",
              "      <th>BloodPressure</th>\n",
              "      <th>SkinThickness</th>\n",
              "      <th>Insulin</th>\n",
              "      <th>BMI</th>\n",
              "      <th>DiabetesPedigreeFunction</th>\n",
              "      <th>Age</th>\n",
              "    </tr>\n",
              "  </thead>\n",
              "  <tbody>\n",
              "    <tr>\n",
              "      <th>0</th>\n",
              "      <td>3.529412</td>\n",
              "      <td>7.437186</td>\n",
              "      <td>5.901639</td>\n",
              "      <td>3.535354</td>\n",
              "      <td>0.000000</td>\n",
              "      <td>5.007452</td>\n",
              "      <td>2.344150</td>\n",
              "      <td>4.833333</td>\n",
              "    </tr>\n",
              "    <tr>\n",
              "      <th>1</th>\n",
              "      <td>0.588235</td>\n",
              "      <td>4.271357</td>\n",
              "      <td>5.409836</td>\n",
              "      <td>2.929293</td>\n",
              "      <td>0.000000</td>\n",
              "      <td>3.964232</td>\n",
              "      <td>1.165670</td>\n",
              "      <td>1.666667</td>\n",
              "    </tr>\n",
              "    <tr>\n",
              "      <th>2</th>\n",
              "      <td>4.705882</td>\n",
              "      <td>9.195980</td>\n",
              "      <td>5.245902</td>\n",
              "      <td>0.000000</td>\n",
              "      <td>0.000000</td>\n",
              "      <td>3.472429</td>\n",
              "      <td>2.536294</td>\n",
              "      <td>1.833333</td>\n",
              "    </tr>\n",
              "    <tr>\n",
              "      <th>3</th>\n",
              "      <td>0.588235</td>\n",
              "      <td>4.472362</td>\n",
              "      <td>5.409836</td>\n",
              "      <td>2.323232</td>\n",
              "      <td>1.111111</td>\n",
              "      <td>4.187779</td>\n",
              "      <td>0.380017</td>\n",
              "      <td>0.000000</td>\n",
              "    </tr>\n",
              "    <tr>\n",
              "      <th>4</th>\n",
              "      <td>0.000000</td>\n",
              "      <td>6.884422</td>\n",
              "      <td>3.278689</td>\n",
              "      <td>3.535354</td>\n",
              "      <td>1.985816</td>\n",
              "      <td>6.423249</td>\n",
              "      <td>9.436379</td>\n",
              "      <td>2.000000</td>\n",
              "    </tr>\n",
              "    <tr>\n",
              "      <th>...</th>\n",
              "      <td>...</td>\n",
              "      <td>...</td>\n",
              "      <td>...</td>\n",
              "      <td>...</td>\n",
              "      <td>...</td>\n",
              "      <td>...</td>\n",
              "      <td>...</td>\n",
              "      <td>...</td>\n",
              "    </tr>\n",
              "    <tr>\n",
              "      <th>763</th>\n",
              "      <td>5.882353</td>\n",
              "      <td>5.075377</td>\n",
              "      <td>6.229508</td>\n",
              "      <td>4.848485</td>\n",
              "      <td>2.127660</td>\n",
              "      <td>4.903130</td>\n",
              "      <td>0.397096</td>\n",
              "      <td>7.000000</td>\n",
              "    </tr>\n",
              "    <tr>\n",
              "      <th>764</th>\n",
              "      <td>1.176471</td>\n",
              "      <td>6.130653</td>\n",
              "      <td>5.737705</td>\n",
              "      <td>2.727273</td>\n",
              "      <td>0.000000</td>\n",
              "      <td>5.484352</td>\n",
              "      <td>1.118702</td>\n",
              "      <td>1.000000</td>\n",
              "    </tr>\n",
              "    <tr>\n",
              "      <th>765</th>\n",
              "      <td>2.941176</td>\n",
              "      <td>6.080402</td>\n",
              "      <td>5.901639</td>\n",
              "      <td>2.323232</td>\n",
              "      <td>1.323877</td>\n",
              "      <td>3.904620</td>\n",
              "      <td>0.713066</td>\n",
              "      <td>1.500000</td>\n",
              "    </tr>\n",
              "    <tr>\n",
              "      <th>766</th>\n",
              "      <td>0.588235</td>\n",
              "      <td>6.331658</td>\n",
              "      <td>4.918033</td>\n",
              "      <td>0.000000</td>\n",
              "      <td>0.000000</td>\n",
              "      <td>4.485842</td>\n",
              "      <td>1.157131</td>\n",
              "      <td>4.333333</td>\n",
              "    </tr>\n",
              "    <tr>\n",
              "      <th>767</th>\n",
              "      <td>0.588235</td>\n",
              "      <td>4.673367</td>\n",
              "      <td>5.737705</td>\n",
              "      <td>3.131313</td>\n",
              "      <td>0.000000</td>\n",
              "      <td>4.530551</td>\n",
              "      <td>1.011956</td>\n",
              "      <td>0.333333</td>\n",
              "    </tr>\n",
              "  </tbody>\n",
              "</table>\n",
              "<p>768 rows × 8 columns</p>\n",
              "</div>"
            ],
            "text/plain": [
              "     Pregnancies   Glucose  BloodPressure  SkinThickness   Insulin       BMI  \\\n",
              "0       3.529412  7.437186       5.901639       3.535354  0.000000  5.007452   \n",
              "1       0.588235  4.271357       5.409836       2.929293  0.000000  3.964232   \n",
              "2       4.705882  9.195980       5.245902       0.000000  0.000000  3.472429   \n",
              "3       0.588235  4.472362       5.409836       2.323232  1.111111  4.187779   \n",
              "4       0.000000  6.884422       3.278689       3.535354  1.985816  6.423249   \n",
              "..           ...       ...            ...            ...       ...       ...   \n",
              "763     5.882353  5.075377       6.229508       4.848485  2.127660  4.903130   \n",
              "764     1.176471  6.130653       5.737705       2.727273  0.000000  5.484352   \n",
              "765     2.941176  6.080402       5.901639       2.323232  1.323877  3.904620   \n",
              "766     0.588235  6.331658       4.918033       0.000000  0.000000  4.485842   \n",
              "767     0.588235  4.673367       5.737705       3.131313  0.000000  4.530551   \n",
              "\n",
              "     DiabetesPedigreeFunction       Age  \n",
              "0                    2.344150  4.833333  \n",
              "1                    1.165670  1.666667  \n",
              "2                    2.536294  1.833333  \n",
              "3                    0.380017  0.000000  \n",
              "4                    9.436379  2.000000  \n",
              "..                        ...       ...  \n",
              "763                  0.397096  7.000000  \n",
              "764                  1.118702  1.000000  \n",
              "765                  0.713066  1.500000  \n",
              "766                  1.157131  4.333333  \n",
              "767                  1.011956  0.333333  \n",
              "\n",
              "[768 rows x 8 columns]"
            ]
          },
          "execution_count": 30,
          "metadata": {},
          "output_type": "execute_result"
        }
      ],
      "source": [
        "# return X_scaled_df\n",
        "\n",
        "X_scaled_df"
      ]
    },
    {
      "cell_type": "code",
      "execution_count": 39,
      "metadata": {
        "id": "G8n33mgzMHPy",
        "outputId": "81525cf8-282d-4418-c71a-3a7b328e7779"
      },
      "outputs": [
        {
          "data": {
            "text/plain": [
              "Pregnancies                 3.928739\n",
              "Glucose                     2.581370\n",
              "BloodPressure               2.517114\n",
              "SkinThickness               2.596401\n",
              "Insulin                     1.855649\n",
              "BMI                         1.380594\n",
              "DiabetesPedigreeFunction    2.001447\n",
              "Age                         3.841751\n",
              "dtype: float64"
            ]
          },
          "execution_count": 39,
          "metadata": {},
          "output_type": "execute_result"
        }
      ],
      "source": [
        "# Again return  the variance for X along the specified axis=0 to check the scales after using minmax scaler.\n",
        "\n",
        "\n",
        "X_scaled_df.var(axis=0)\n"
      ]
    },
    {
      "cell_type": "markdown",
      "metadata": {
        "id": "Jt--WH2QMHPz"
      },
      "source": [
        "Now again you can check the previous video"
      ]
    },
    {
      "cell_type": "code",
      "execution_count": 40,
      "metadata": {
        "id": "vaUk69HIMHPz"
      },
      "outputs": [],
      "source": [
        "# import variancethreshold\n",
        "\n",
        "\n",
        "\n",
        "# set threshold=1 and define it to variable select_features\n",
        "select_features = VarianceThreshold(threshold=1.0)\n",
        "\n"
      ]
    },
    {
      "cell_type": "markdown",
      "metadata": {
        "id": "2zy_m0jxMHP0"
      },
      "source": [
        "   Impliment fit_transform on select_features passing X_scaled_df into it and save this result in variable X_variance_threshold_df\n"
      ]
    },
    {
      "cell_type": "code",
      "execution_count": 33,
      "metadata": {
        "id": "b_Ihi8qGMHP1"
      },
      "outputs": [],
      "source": [
        "X_variance_threshold_df = select_features.fit_transform(X_scaled_df)\n"
      ]
    },
    {
      "cell_type": "markdown",
      "metadata": {
        "id": "BMhb3aJZMHP1"
      },
      "source": [
        "Were you thinking of fit_transform? We are here to help you understand\n",
        "\n",
        "fit_transform() is used on the training data so that we can scale the training data and also learn the scaling parameters of that data. Here, the model built by us will learn the mean and variance of the features of the training set. These learned parameters are then used to scale our test data\n",
        "\n",
        "Don't worry you will get lot of challenges to use these things in our other assignments"
      ]
    },
    {
      "cell_type": "code",
      "execution_count": 35,
      "metadata": {
        "id": "xARwGTsEMHP2",
        "outputId": "c10a0891-6e68-4759-e4d0-502a33f80872"
      },
      "outputs": [
        {
          "data": {
            "text/plain": [
              "array([[3.52941176, 7.43718593, 5.90163934, ..., 5.00745156, 2.3441503 ,\n",
              "        4.83333333],\n",
              "       [0.58823529, 4.27135678, 5.40983607, ..., 3.96423249, 1.16567037,\n",
              "        1.66666667],\n",
              "       [4.70588235, 9.1959799 , 5.24590164, ..., 3.47242921, 2.53629377,\n",
              "        1.83333333],\n",
              "       ...,\n",
              "       [2.94117647, 6.08040201, 5.90163934, ..., 3.90461997, 0.71306576,\n",
              "        1.5       ],\n",
              "       [0.58823529, 6.33165829, 4.91803279, ..., 4.48584203, 1.15713066,\n",
              "        4.33333333],\n",
              "       [0.58823529, 4.67336683, 5.73770492, ..., 4.53055142, 1.01195559,\n",
              "        0.33333333]])"
            ]
          },
          "execution_count": 35,
          "metadata": {},
          "output_type": "execute_result"
        }
      ],
      "source": [
        "#print X_variance_threshold_df\n",
        "X_variance_threshold_df\n"
      ]
    },
    {
      "cell_type": "code",
      "execution_count": 36,
      "metadata": {
        "id": "IbpRLUeiMHP3"
      },
      "outputs": [],
      "source": [
        "#Convert X_variance_threshold_df into dataframe\n",
        "X_variance_threshold_df =pd.DataFrame(X_variance_threshold_df)\n"
      ]
    },
    {
      "cell_type": "code",
      "execution_count": 38,
      "metadata": {
        "id": "a_Ll0ozEMHP3",
        "outputId": "96939a48-60bd-4db0-84df-2e984e443150"
      },
      "outputs": [
        {
          "data": {
            "text/html": [
              "<div>\n",
              "<style scoped>\n",
              "    .dataframe tbody tr th:only-of-type {\n",
              "        vertical-align: middle;\n",
              "    }\n",
              "\n",
              "    .dataframe tbody tr th {\n",
              "        vertical-align: top;\n",
              "    }\n",
              "\n",
              "    .dataframe thead th {\n",
              "        text-align: right;\n",
              "    }\n",
              "</style>\n",
              "<table border=\"1\" class=\"dataframe\">\n",
              "  <thead>\n",
              "    <tr style=\"text-align: right;\">\n",
              "      <th></th>\n",
              "      <th>0</th>\n",
              "      <th>1</th>\n",
              "      <th>2</th>\n",
              "      <th>3</th>\n",
              "      <th>4</th>\n",
              "      <th>5</th>\n",
              "      <th>6</th>\n",
              "      <th>7</th>\n",
              "    </tr>\n",
              "  </thead>\n",
              "  <tbody>\n",
              "    <tr>\n",
              "      <th>0</th>\n",
              "      <td>3.529412</td>\n",
              "      <td>7.437186</td>\n",
              "      <td>5.901639</td>\n",
              "      <td>3.535354</td>\n",
              "      <td>0.000000</td>\n",
              "      <td>5.007452</td>\n",
              "      <td>2.344150</td>\n",
              "      <td>4.833333</td>\n",
              "    </tr>\n",
              "    <tr>\n",
              "      <th>1</th>\n",
              "      <td>0.588235</td>\n",
              "      <td>4.271357</td>\n",
              "      <td>5.409836</td>\n",
              "      <td>2.929293</td>\n",
              "      <td>0.000000</td>\n",
              "      <td>3.964232</td>\n",
              "      <td>1.165670</td>\n",
              "      <td>1.666667</td>\n",
              "    </tr>\n",
              "    <tr>\n",
              "      <th>2</th>\n",
              "      <td>4.705882</td>\n",
              "      <td>9.195980</td>\n",
              "      <td>5.245902</td>\n",
              "      <td>0.000000</td>\n",
              "      <td>0.000000</td>\n",
              "      <td>3.472429</td>\n",
              "      <td>2.536294</td>\n",
              "      <td>1.833333</td>\n",
              "    </tr>\n",
              "    <tr>\n",
              "      <th>3</th>\n",
              "      <td>0.588235</td>\n",
              "      <td>4.472362</td>\n",
              "      <td>5.409836</td>\n",
              "      <td>2.323232</td>\n",
              "      <td>1.111111</td>\n",
              "      <td>4.187779</td>\n",
              "      <td>0.380017</td>\n",
              "      <td>0.000000</td>\n",
              "    </tr>\n",
              "    <tr>\n",
              "      <th>4</th>\n",
              "      <td>0.000000</td>\n",
              "      <td>6.884422</td>\n",
              "      <td>3.278689</td>\n",
              "      <td>3.535354</td>\n",
              "      <td>1.985816</td>\n",
              "      <td>6.423249</td>\n",
              "      <td>9.436379</td>\n",
              "      <td>2.000000</td>\n",
              "    </tr>\n",
              "  </tbody>\n",
              "</table>\n",
              "</div>"
            ],
            "text/plain": [
              "          0         1         2         3         4         5         6  \\\n",
              "0  3.529412  7.437186  5.901639  3.535354  0.000000  5.007452  2.344150   \n",
              "1  0.588235  4.271357  5.409836  2.929293  0.000000  3.964232  1.165670   \n",
              "2  4.705882  9.195980  5.245902  0.000000  0.000000  3.472429  2.536294   \n",
              "3  0.588235  4.472362  5.409836  2.323232  1.111111  4.187779  0.380017   \n",
              "4  0.000000  6.884422  3.278689  3.535354  1.985816  6.423249  9.436379   \n",
              "\n",
              "          7  \n",
              "0  4.833333  \n",
              "1  1.666667  \n",
              "2  1.833333  \n",
              "3  0.000000  \n",
              "4  2.000000  "
            ]
          },
          "execution_count": 38,
          "metadata": {},
          "output_type": "execute_result"
        }
      ],
      "source": [
        "# print of head values of X_variance_threshold_df \n",
        "\n",
        "X_variance_threshold_df.head()"
      ]
    },
    {
      "cell_type": "markdown",
      "metadata": {
        "id": "-Tviru_EMHP4"
      },
      "source": [
        "Below mentioned is the function get_selected_features for returning selected_features to be used further "
      ]
    },
    {
      "cell_type": "code",
      "execution_count": 41,
      "metadata": {
        "id": "ymS8VB3YMHP4"
      },
      "outputs": [],
      "source": [
        "def get_selected_features(raw_df,processed_df):\n",
        "    selected_features=[]\n",
        "    for i in range(len(processed_df.columns)):\n",
        "        for j in range(len(raw_df.columns)):\n",
        "            if (processed_df.iloc[:,i].equals(raw_df.iloc[:,j])):\n",
        "                selected_features.append(raw_df.columns[j])\n",
        "    return selected_features"
      ]
    },
    {
      "cell_type": "code",
      "execution_count": 42,
      "metadata": {
        "id": "RONsxMl_MHP5",
        "outputId": "59e052c8-64ce-4039-a134-dc957d058878"
      },
      "outputs": [
        {
          "name": "stdout",
          "output_type": "stream",
          "text": [
            "['Pregnancies', 'Glucose', 'BloodPressure', 'SkinThickness', 'Insulin', 'BMI', 'DiabetesPedigreeFunction', 'Age']\n"
          ]
        }
      ],
      "source": [
        "# pass the X_scaled_df as raw_df and X_variance_threshold_df as processed_df inside get_selected_features function\n",
        "selected_features = get_selected_features(X_scaled_df,X_variance_threshold_df)\n",
        "\n",
        "# print selected_features\n",
        "print(selected_features)\n",
        "\n"
      ]
    },
    {
      "cell_type": "markdown",
      "metadata": {
        "id": "NT6NliBWMHP6"
      },
      "source": [
        "Super! you can see SkinThickness feature is not selected as its variance is less.\n",
        "\n",
        "Lets give column names to our X_variance_threshold_df"
      ]
    },
    {
      "cell_type": "code",
      "execution_count": 44,
      "metadata": {
        "id": "P2eDaXtEMHP7",
        "outputId": "164f6e1d-2da9-4a6e-df22-517d416aed0d"
      },
      "outputs": [
        {
          "data": {
            "text/html": [
              "<div>\n",
              "<style scoped>\n",
              "    .dataframe tbody tr th:only-of-type {\n",
              "        vertical-align: middle;\n",
              "    }\n",
              "\n",
              "    .dataframe tbody tr th {\n",
              "        vertical-align: top;\n",
              "    }\n",
              "\n",
              "    .dataframe thead th {\n",
              "        text-align: right;\n",
              "    }\n",
              "</style>\n",
              "<table border=\"1\" class=\"dataframe\">\n",
              "  <thead>\n",
              "    <tr style=\"text-align: right;\">\n",
              "      <th></th>\n",
              "      <th>Pregnancies</th>\n",
              "      <th>Glucose</th>\n",
              "      <th>BloodPressure</th>\n",
              "      <th>SkinThickness</th>\n",
              "      <th>Insulin</th>\n",
              "      <th>BMI</th>\n",
              "      <th>DiabetesPedigreeFunction</th>\n",
              "      <th>Age</th>\n",
              "    </tr>\n",
              "  </thead>\n",
              "  <tbody>\n",
              "    <tr>\n",
              "      <th>0</th>\n",
              "      <td>3.529412</td>\n",
              "      <td>7.437186</td>\n",
              "      <td>5.901639</td>\n",
              "      <td>3.535354</td>\n",
              "      <td>0.000000</td>\n",
              "      <td>5.007452</td>\n",
              "      <td>2.344150</td>\n",
              "      <td>4.833333</td>\n",
              "    </tr>\n",
              "    <tr>\n",
              "      <th>1</th>\n",
              "      <td>0.588235</td>\n",
              "      <td>4.271357</td>\n",
              "      <td>5.409836</td>\n",
              "      <td>2.929293</td>\n",
              "      <td>0.000000</td>\n",
              "      <td>3.964232</td>\n",
              "      <td>1.165670</td>\n",
              "      <td>1.666667</td>\n",
              "    </tr>\n",
              "    <tr>\n",
              "      <th>2</th>\n",
              "      <td>4.705882</td>\n",
              "      <td>9.195980</td>\n",
              "      <td>5.245902</td>\n",
              "      <td>0.000000</td>\n",
              "      <td>0.000000</td>\n",
              "      <td>3.472429</td>\n",
              "      <td>2.536294</td>\n",
              "      <td>1.833333</td>\n",
              "    </tr>\n",
              "    <tr>\n",
              "      <th>3</th>\n",
              "      <td>0.588235</td>\n",
              "      <td>4.472362</td>\n",
              "      <td>5.409836</td>\n",
              "      <td>2.323232</td>\n",
              "      <td>1.111111</td>\n",
              "      <td>4.187779</td>\n",
              "      <td>0.380017</td>\n",
              "      <td>0.000000</td>\n",
              "    </tr>\n",
              "    <tr>\n",
              "      <th>4</th>\n",
              "      <td>0.000000</td>\n",
              "      <td>6.884422</td>\n",
              "      <td>3.278689</td>\n",
              "      <td>3.535354</td>\n",
              "      <td>1.985816</td>\n",
              "      <td>6.423249</td>\n",
              "      <td>9.436379</td>\n",
              "      <td>2.000000</td>\n",
              "    </tr>\n",
              "    <tr>\n",
              "      <th>...</th>\n",
              "      <td>...</td>\n",
              "      <td>...</td>\n",
              "      <td>...</td>\n",
              "      <td>...</td>\n",
              "      <td>...</td>\n",
              "      <td>...</td>\n",
              "      <td>...</td>\n",
              "      <td>...</td>\n",
              "    </tr>\n",
              "    <tr>\n",
              "      <th>763</th>\n",
              "      <td>5.882353</td>\n",
              "      <td>5.075377</td>\n",
              "      <td>6.229508</td>\n",
              "      <td>4.848485</td>\n",
              "      <td>2.127660</td>\n",
              "      <td>4.903130</td>\n",
              "      <td>0.397096</td>\n",
              "      <td>7.000000</td>\n",
              "    </tr>\n",
              "    <tr>\n",
              "      <th>764</th>\n",
              "      <td>1.176471</td>\n",
              "      <td>6.130653</td>\n",
              "      <td>5.737705</td>\n",
              "      <td>2.727273</td>\n",
              "      <td>0.000000</td>\n",
              "      <td>5.484352</td>\n",
              "      <td>1.118702</td>\n",
              "      <td>1.000000</td>\n",
              "    </tr>\n",
              "    <tr>\n",
              "      <th>765</th>\n",
              "      <td>2.941176</td>\n",
              "      <td>6.080402</td>\n",
              "      <td>5.901639</td>\n",
              "      <td>2.323232</td>\n",
              "      <td>1.323877</td>\n",
              "      <td>3.904620</td>\n",
              "      <td>0.713066</td>\n",
              "      <td>1.500000</td>\n",
              "    </tr>\n",
              "    <tr>\n",
              "      <th>766</th>\n",
              "      <td>0.588235</td>\n",
              "      <td>6.331658</td>\n",
              "      <td>4.918033</td>\n",
              "      <td>0.000000</td>\n",
              "      <td>0.000000</td>\n",
              "      <td>4.485842</td>\n",
              "      <td>1.157131</td>\n",
              "      <td>4.333333</td>\n",
              "    </tr>\n",
              "    <tr>\n",
              "      <th>767</th>\n",
              "      <td>0.588235</td>\n",
              "      <td>4.673367</td>\n",
              "      <td>5.737705</td>\n",
              "      <td>3.131313</td>\n",
              "      <td>0.000000</td>\n",
              "      <td>4.530551</td>\n",
              "      <td>1.011956</td>\n",
              "      <td>0.333333</td>\n",
              "    </tr>\n",
              "  </tbody>\n",
              "</table>\n",
              "<p>768 rows × 8 columns</p>\n",
              "</div>"
            ],
            "text/plain": [
              "     Pregnancies   Glucose  BloodPressure  SkinThickness   Insulin       BMI  \\\n",
              "0       3.529412  7.437186       5.901639       3.535354  0.000000  5.007452   \n",
              "1       0.588235  4.271357       5.409836       2.929293  0.000000  3.964232   \n",
              "2       4.705882  9.195980       5.245902       0.000000  0.000000  3.472429   \n",
              "3       0.588235  4.472362       5.409836       2.323232  1.111111  4.187779   \n",
              "4       0.000000  6.884422       3.278689       3.535354  1.985816  6.423249   \n",
              "..           ...       ...            ...            ...       ...       ...   \n",
              "763     5.882353  5.075377       6.229508       4.848485  2.127660  4.903130   \n",
              "764     1.176471  6.130653       5.737705       2.727273  0.000000  5.484352   \n",
              "765     2.941176  6.080402       5.901639       2.323232  1.323877  3.904620   \n",
              "766     0.588235  6.331658       4.918033       0.000000  0.000000  4.485842   \n",
              "767     0.588235  4.673367       5.737705       3.131313  0.000000  4.530551   \n",
              "\n",
              "     DiabetesPedigreeFunction       Age  \n",
              "0                    2.344150  4.833333  \n",
              "1                    1.165670  1.666667  \n",
              "2                    2.536294  1.833333  \n",
              "3                    0.380017  0.000000  \n",
              "4                    9.436379  2.000000  \n",
              "..                        ...       ...  \n",
              "763                  0.397096  7.000000  \n",
              "764                  1.118702  1.000000  \n",
              "765                  0.713066  1.500000  \n",
              "766                  1.157131  4.333333  \n",
              "767                  1.011956  0.333333  \n",
              "\n",
              "[768 rows x 8 columns]"
            ]
          },
          "execution_count": 44,
          "metadata": {},
          "output_type": "execute_result"
        }
      ],
      "source": [
        "# define selected_features as columns and save it in variabe named X_variance_threshold_df\n",
        "X_variance_threshold_df.columns =selected_features\n",
        "\n",
        "#print X_variance_threshold_df\n",
        "\n",
        "X_variance_threshold_df"
      ]
    },
    {
      "cell_type": "markdown",
      "metadata": {
        "id": "4rsPWDxLMHP8"
      },
      "source": [
        "## (c) Chi-Squared statistical test (SelectKBest)\n",
        "\n",
        "<p style='text-align: right;'> 20 points</p>\n",
        "\n",
        "Chi2 is a measure of dependency between two variables. It gives us a goodness of fit measure because it measures how well an observed distribution of a particular feature fits with the distribution that is expected if two features are independent.\n",
        "\n",
        "Scikit-Learn offers a feature selection estimator named SelectKBest which select K numbers of features based on the statistical analysis.\n",
        "\n"
      ]
    },
    {
      "cell_type": "markdown",
      "metadata": {
        "id": "CNxWNGgkMHP8"
      },
      "source": [
        "Reference link: https://chrisalbon.com/machine_learning/feature_selection/chi-squared_for_feature_selection/\n",
        "\n",
        "The below mentioned function generate_feature_scores_df is used to get feature score for using it in  Chi-Squared statistical test explained below"
      ]
    },
    {
      "cell_type": "code",
      "execution_count": 45,
      "metadata": {
        "id": "xyAcii9RMHP9"
      },
      "outputs": [],
      "source": [
        "def generate_feature_scores_df(X,Score):\n",
        "    feature_score=pd.DataFrame()\n",
        "    for i in range(X.shape[1]):\n",
        "        new =pd.DataFrame({\"Features\":X.columns[i],\"Score\":Score[i]},index=[i])\n",
        "        feature_score=pd.concat([feature_score,new])\n",
        "    return feature_score"
      ]
    },
    {
      "cell_type": "markdown",
      "metadata": {
        "id": "sPdJo5PvMHP9"
      },
      "source": [
        "Hey coder! lets use dataset - diabetes.csv from below link\n",
        "\n",
        "https://github.com/arupbhunia/Data-Pre-processing/blob/master/datasets/diabetes.csv"
      ]
    },
    {
      "cell_type": "code",
      "execution_count": 46,
      "metadata": {
        "id": "KoseEiBWMHP-"
      },
      "outputs": [],
      "source": [
        "# create a data frame named diabetes and load the csv file again\n",
        "diabetes = pd.read_csv(r\"E:/DataScience_and_DataAnalyst_Notes/Machine Learning/Feature Selection/dataset _ files/diabetes.csv\")\n"
      ]
    },
    {
      "cell_type": "code",
      "execution_count": 47,
      "metadata": {
        "id": "yyWv56wRMHP_"
      },
      "outputs": [],
      "source": [
        "# assign features to X variable and 'outcome' to y variable from the dataframe diabetes\n",
        "X = diabetes.drop(\"Outcome\",axis=1)\n",
        "Y =diabetes['Outcome']"
      ]
    },
    {
      "cell_type": "markdown",
      "metadata": {
        "id": "C1CRSruSMHQB"
      },
      "source": [
        "Reference Doc: https://scikit-learn.org/stable/modules/generated/sklearn.feature_selection.SelectKBest.html"
      ]
    },
    {
      "cell_type": "code",
      "execution_count": 48,
      "metadata": {
        "id": "TK90AUSCMHQB"
      },
      "outputs": [],
      "source": [
        "#import chi2 and SelectKBest\n",
        "\n",
        "from sklearn.feature_selection import SelectKBest\n",
        "from sklearn.feature_selection import chi2"
      ]
    },
    {
      "cell_type": "code",
      "execution_count": 49,
      "metadata": {
        "id": "jguuyBmJMHQC"
      },
      "outputs": [],
      "source": [
        "# converting data cast to a float type.\n",
        "X =X.astype(np.float64)"
      ]
    },
    {
      "cell_type": "markdown",
      "metadata": {
        "id": "L1bBNhFFMHQD"
      },
      "source": [
        "Lets use SelectKBest to calculate the best feature score. Use Chi2 as Score Function and no.of feature i.e. k as 4\n"
      ]
    },
    {
      "cell_type": "code",
      "execution_count": 56,
      "metadata": {
        "id": "TjtRC2mtMHQE"
      },
      "outputs": [],
      "source": [
        "# Initialise SelectKBest with above parameters \n",
        "chi2_test =SelectKBest(score_func=chi2, k=4)\n",
        "\n",
        "# and fit it with X and Y\n",
        "chi2_model =chi2_test.fit(X,Y)\n",
        "\n",
        "\n",
        "scores=chi2_model.scores_\n"
      ]
    },
    {
      "cell_type": "code",
      "execution_count": 57,
      "metadata": {
        "id": "yfaOPx0IMHQF",
        "outputId": "4eb63178-b25b-4610-d38d-1d98c928ae2b"
      },
      "outputs": [
        {
          "data": {
            "text/plain": [
              "array([ 111.51969064, 1411.88704064,   17.60537322,   53.10803984,\n",
              "       2175.56527292,  127.66934333,    5.39268155,  181.30368904])"
            ]
          },
          "execution_count": 57,
          "metadata": {},
          "output_type": "execute_result"
        }
      ],
      "source": [
        "#print the scores of chi2_model\n",
        "scores"
      ]
    },
    {
      "cell_type": "code",
      "execution_count": 58,
      "metadata": {
        "id": "CX_WEDloMHQG",
        "outputId": "4b35cb19-d18a-4210-9005-04a8341af45e"
      },
      "outputs": [
        {
          "data": {
            "text/html": [
              "<div>\n",
              "<style scoped>\n",
              "    .dataframe tbody tr th:only-of-type {\n",
              "        vertical-align: middle;\n",
              "    }\n",
              "\n",
              "    .dataframe tbody tr th {\n",
              "        vertical-align: top;\n",
              "    }\n",
              "\n",
              "    .dataframe thead th {\n",
              "        text-align: right;\n",
              "    }\n",
              "</style>\n",
              "<table border=\"1\" class=\"dataframe\">\n",
              "  <thead>\n",
              "    <tr style=\"text-align: right;\">\n",
              "      <th></th>\n",
              "      <th>Features</th>\n",
              "      <th>Score</th>\n",
              "    </tr>\n",
              "  </thead>\n",
              "  <tbody>\n",
              "    <tr>\n",
              "      <th>0</th>\n",
              "      <td>Pregnancies</td>\n",
              "      <td>111.519691</td>\n",
              "    </tr>\n",
              "    <tr>\n",
              "      <th>1</th>\n",
              "      <td>Glucose</td>\n",
              "      <td>1411.887041</td>\n",
              "    </tr>\n",
              "    <tr>\n",
              "      <th>2</th>\n",
              "      <td>BloodPressure</td>\n",
              "      <td>17.605373</td>\n",
              "    </tr>\n",
              "    <tr>\n",
              "      <th>3</th>\n",
              "      <td>SkinThickness</td>\n",
              "      <td>53.108040</td>\n",
              "    </tr>\n",
              "    <tr>\n",
              "      <th>4</th>\n",
              "      <td>Insulin</td>\n",
              "      <td>2175.565273</td>\n",
              "    </tr>\n",
              "    <tr>\n",
              "      <th>5</th>\n",
              "      <td>BMI</td>\n",
              "      <td>127.669343</td>\n",
              "    </tr>\n",
              "    <tr>\n",
              "      <th>6</th>\n",
              "      <td>DiabetesPedigreeFunction</td>\n",
              "      <td>5.392682</td>\n",
              "    </tr>\n",
              "    <tr>\n",
              "      <th>7</th>\n",
              "      <td>Age</td>\n",
              "      <td>181.303689</td>\n",
              "    </tr>\n",
              "  </tbody>\n",
              "</table>\n",
              "</div>"
            ],
            "text/plain": [
              "                   Features        Score\n",
              "0               Pregnancies   111.519691\n",
              "1                   Glucose  1411.887041\n",
              "2             BloodPressure    17.605373\n",
              "3             SkinThickness    53.108040\n",
              "4                   Insulin  2175.565273\n",
              "5                       BMI   127.669343\n",
              "6  DiabetesPedigreeFunction     5.392682\n",
              "7                       Age   181.303689"
            ]
          },
          "execution_count": 58,
          "metadata": {},
          "output_type": "execute_result"
        }
      ],
      "source": [
        "# use generate_feature_scores_df function to get features and their respective scores passing X and chi2_model.scores_ as paramter\n",
        "feature_score_df = generate_feature_scores_df(X,chi2_model.scores_)\n",
        "\n",
        "\n",
        "\n",
        "# return feature_score_df\n",
        "feature_score_df\n"
      ]
    },
    {
      "cell_type": "markdown",
      "metadata": {
        "id": "Gn-bBpxxMHQH"
      },
      "source": [
        "Did you see the features and corresponding chi square scores? This is so easy right, higher the score better the feature. Just like higher the marks in assignment better the student of ours. "
      ]
    },
    {
      "cell_type": "code",
      "execution_count": 59,
      "metadata": {
        "id": "qrtw2aN8MHQI"
      },
      "outputs": [],
      "source": [
        "##Lets get X to the selected features of chi2_model using tranform function so we will have X_new\n",
        "\n",
        "X_new =chi2_model.transform(X)\n"
      ]
    },
    {
      "cell_type": "markdown",
      "metadata": {
        "id": "JkKRaSvgMHQJ"
      },
      "source": [
        "whaaaat! tranform()? , how is it different from fit_transform.You know buddy fit() can also confuse you. Hey you inquisitive learner we will tell you the difference.\n",
        "\n",
        "The fit() function calculates the values of these parameters. The transform function applies the values of the parameters on the actual data and gives the normalized value. The fit_transform() function performs both in the same step. Note that the same value is got whether we perform in 2 steps or in a single step.\n",
        "\n",
        "for more info on this refer below video"
      ]
    },
    {
      "cell_type": "markdown",
      "metadata": {
        "id": "4Gjvn8NR-VVr"
      },
      "source": [
        "## **`Watch Video 4: Difference between fit transform fit_transform predict`**\n",
        "\n",
        "File used: https://drive.google.com/file/d/1iD0XTSVo3DKdG5uO2H6MezvvmQ1TIm2B/view?usp=sharing\n",
        "\n",
        "Dataset used: https://drive.google.com/file/d/1IIVkOAP6HYD4rQ-dqx7tRaVNCWxvxyE7/view?usp=sharing"
      ]
    },
    {
      "cell_type": "code",
      "execution_count": 61,
      "metadata": {
        "id": "LWXq7JEmMHQJ"
      },
      "outputs": [
        {
          "data": {
            "text/html": [
              "<div>\n",
              "<style scoped>\n",
              "    .dataframe tbody tr th:only-of-type {\n",
              "        vertical-align: middle;\n",
              "    }\n",
              "\n",
              "    .dataframe tbody tr th {\n",
              "        vertical-align: top;\n",
              "    }\n",
              "\n",
              "    .dataframe thead th {\n",
              "        text-align: right;\n",
              "    }\n",
              "</style>\n",
              "<table border=\"1\" class=\"dataframe\">\n",
              "  <thead>\n",
              "    <tr style=\"text-align: right;\">\n",
              "      <th></th>\n",
              "      <th>0</th>\n",
              "      <th>1</th>\n",
              "      <th>2</th>\n",
              "      <th>3</th>\n",
              "    </tr>\n",
              "  </thead>\n",
              "  <tbody>\n",
              "    <tr>\n",
              "      <th>0</th>\n",
              "      <td>148.0</td>\n",
              "      <td>0.0</td>\n",
              "      <td>33.6</td>\n",
              "      <td>50.0</td>\n",
              "    </tr>\n",
              "    <tr>\n",
              "      <th>1</th>\n",
              "      <td>85.0</td>\n",
              "      <td>0.0</td>\n",
              "      <td>26.6</td>\n",
              "      <td>31.0</td>\n",
              "    </tr>\n",
              "    <tr>\n",
              "      <th>2</th>\n",
              "      <td>183.0</td>\n",
              "      <td>0.0</td>\n",
              "      <td>23.3</td>\n",
              "      <td>32.0</td>\n",
              "    </tr>\n",
              "    <tr>\n",
              "      <th>3</th>\n",
              "      <td>89.0</td>\n",
              "      <td>94.0</td>\n",
              "      <td>28.1</td>\n",
              "      <td>21.0</td>\n",
              "    </tr>\n",
              "    <tr>\n",
              "      <th>4</th>\n",
              "      <td>137.0</td>\n",
              "      <td>168.0</td>\n",
              "      <td>43.1</td>\n",
              "      <td>33.0</td>\n",
              "    </tr>\n",
              "    <tr>\n",
              "      <th>...</th>\n",
              "      <td>...</td>\n",
              "      <td>...</td>\n",
              "      <td>...</td>\n",
              "      <td>...</td>\n",
              "    </tr>\n",
              "    <tr>\n",
              "      <th>763</th>\n",
              "      <td>101.0</td>\n",
              "      <td>180.0</td>\n",
              "      <td>32.9</td>\n",
              "      <td>63.0</td>\n",
              "    </tr>\n",
              "    <tr>\n",
              "      <th>764</th>\n",
              "      <td>122.0</td>\n",
              "      <td>0.0</td>\n",
              "      <td>36.8</td>\n",
              "      <td>27.0</td>\n",
              "    </tr>\n",
              "    <tr>\n",
              "      <th>765</th>\n",
              "      <td>121.0</td>\n",
              "      <td>112.0</td>\n",
              "      <td>26.2</td>\n",
              "      <td>30.0</td>\n",
              "    </tr>\n",
              "    <tr>\n",
              "      <th>766</th>\n",
              "      <td>126.0</td>\n",
              "      <td>0.0</td>\n",
              "      <td>30.1</td>\n",
              "      <td>47.0</td>\n",
              "    </tr>\n",
              "    <tr>\n",
              "      <th>767</th>\n",
              "      <td>93.0</td>\n",
              "      <td>0.0</td>\n",
              "      <td>30.4</td>\n",
              "      <td>23.0</td>\n",
              "    </tr>\n",
              "  </tbody>\n",
              "</table>\n",
              "<p>768 rows × 4 columns</p>\n",
              "</div>"
            ],
            "text/plain": [
              "         0      1     2     3\n",
              "0    148.0    0.0  33.6  50.0\n",
              "1     85.0    0.0  26.6  31.0\n",
              "2    183.0    0.0  23.3  32.0\n",
              "3     89.0   94.0  28.1  21.0\n",
              "4    137.0  168.0  43.1  33.0\n",
              "..     ...    ...   ...   ...\n",
              "763  101.0  180.0  32.9  63.0\n",
              "764  122.0    0.0  36.8  27.0\n",
              "765  121.0  112.0  26.2  30.0\n",
              "766  126.0    0.0  30.1  47.0\n",
              "767   93.0    0.0  30.4  23.0\n",
              "\n",
              "[768 rows x 4 columns]"
            ]
          },
          "execution_count": 61,
          "metadata": {},
          "output_type": "execute_result"
        }
      ],
      "source": [
        "# create a dataframe using X_new\n",
        "X_new = pd.DataFrame(X_new)\n",
        "X_new\n"
      ]
    },
    {
      "cell_type": "code",
      "execution_count": 62,
      "metadata": {
        "id": "PRTenHciMHQK",
        "outputId": "1c94500c-f618-4d47-d42a-f2af9e40bcc5"
      },
      "outputs": [
        {
          "data": {
            "text/plain": [
              "['Glucose', 'Insulin', 'BMI', 'Age']"
            ]
          },
          "execution_count": 62,
          "metadata": {},
          "output_type": "execute_result"
        }
      ],
      "source": [
        "#repeat the previous steps of calling get_selected_features function( pass X and X_new as score in the function)\n",
        "selected_features =get_selected_features(X,X_new)\n",
        "\n",
        "# return selected_features\n",
        "selected_features\n"
      ]
    },
    {
      "cell_type": "markdown",
      "metadata": {
        "id": "Ut8wgAkgMHQL"
      },
      "source": [
        "Let have X with all features given in list selected_features and save this dataframe in variable chi2_best_features"
      ]
    },
    {
      "cell_type": "code",
      "execution_count": 64,
      "metadata": {
        "id": "aYpXOZvmMHQL",
        "outputId": "a1a8619c-3d01-4c56-bbf0-84f500acf91f"
      },
      "outputs": [
        {
          "data": {
            "text/html": [
              "<div>\n",
              "<style scoped>\n",
              "    .dataframe tbody tr th:only-of-type {\n",
              "        vertical-align: middle;\n",
              "    }\n",
              "\n",
              "    .dataframe tbody tr th {\n",
              "        vertical-align: top;\n",
              "    }\n",
              "\n",
              "    .dataframe thead th {\n",
              "        text-align: right;\n",
              "    }\n",
              "</style>\n",
              "<table border=\"1\" class=\"dataframe\">\n",
              "  <thead>\n",
              "    <tr style=\"text-align: right;\">\n",
              "      <th></th>\n",
              "      <th>Glucose</th>\n",
              "      <th>Insulin</th>\n",
              "      <th>BMI</th>\n",
              "      <th>Age</th>\n",
              "    </tr>\n",
              "  </thead>\n",
              "  <tbody>\n",
              "    <tr>\n",
              "      <th>0</th>\n",
              "      <td>148.0</td>\n",
              "      <td>0.0</td>\n",
              "      <td>33.6</td>\n",
              "      <td>50.0</td>\n",
              "    </tr>\n",
              "    <tr>\n",
              "      <th>1</th>\n",
              "      <td>85.0</td>\n",
              "      <td>0.0</td>\n",
              "      <td>26.6</td>\n",
              "      <td>31.0</td>\n",
              "    </tr>\n",
              "    <tr>\n",
              "      <th>2</th>\n",
              "      <td>183.0</td>\n",
              "      <td>0.0</td>\n",
              "      <td>23.3</td>\n",
              "      <td>32.0</td>\n",
              "    </tr>\n",
              "    <tr>\n",
              "      <th>3</th>\n",
              "      <td>89.0</td>\n",
              "      <td>94.0</td>\n",
              "      <td>28.1</td>\n",
              "      <td>21.0</td>\n",
              "    </tr>\n",
              "    <tr>\n",
              "      <th>4</th>\n",
              "      <td>137.0</td>\n",
              "      <td>168.0</td>\n",
              "      <td>43.1</td>\n",
              "      <td>33.0</td>\n",
              "    </tr>\n",
              "  </tbody>\n",
              "</table>\n",
              "</div>"
            ],
            "text/plain": [
              "   Glucose  Insulin   BMI   Age\n",
              "0    148.0      0.0  33.6  50.0\n",
              "1     85.0      0.0  26.6  31.0\n",
              "2    183.0      0.0  23.3  32.0\n",
              "3     89.0     94.0  28.1  21.0\n",
              "4    137.0    168.0  43.1  33.0"
            ]
          },
          "execution_count": 64,
          "metadata": {},
          "output_type": "execute_result"
        }
      ],
      "source": [
        "# X with all features given in list selected_features \n",
        "chi2_best_features =X[selected_features]\n",
        "\n",
        "# print chi2_best_features.head()\n",
        "chi2_best_features.head()\n"
      ]
    },
    {
      "cell_type": "markdown",
      "metadata": {
        "id": "y8wx1M60MHQM"
      },
      "source": [
        "As you can see chi-squared test helps us to select  important independent features out of the original features that have the strongest relationship with the target feature.\n",
        "\n",
        "You did it well!"
      ]
    },
    {
      "cell_type": "markdown",
      "metadata": {
        "id": "oGTkTmr8MHQN"
      },
      "source": [
        "## (d) Anova-F Test\n",
        "\n",
        "<p style='text-align: right;'> 20 points</p>\n",
        "\n",
        "The F-value scores examine the varaiance by grouping the numerical feature by the target vector, the means for each group are significantly different."
      ]
    },
    {
      "cell_type": "markdown",
      "metadata": {
        "id": "ngTjwjE8MHQN"
      },
      "source": [
        "## **`Watch Video 5: One Way ANOVA`**\n",
        "\n",
        "File used: https://drive.google.com/file/d/1myYGdzEfmUqoWc0A3YNuK0oaId1_CCnI/view?usp=sharing\n",
        "\n",
        "Dataset used: https://drive.google.com/file/d/1g50xZ7xqzHaXNoh0KuUyAaaui7i5ud8n/view?usp=sharing\n"
      ]
    },
    {
      "cell_type": "code",
      "execution_count": null,
      "metadata": {
        "id": "IPKp7QN6MHQO"
      },
      "outputs": [],
      "source": [
        "#import libraries f_classif,SelectPercentile from sklearn\n",
        "\n",
        "\n",
        "\n",
        "# Initialise SelectPercentile function with parameters f_classif and percentile as 80\n",
        "Anova_test =\n",
        "\n",
        "#Fit the above object to the features and target i.e X and Y\n",
        "Anova_model= \n"
      ]
    },
    {
      "cell_type": "markdown",
      "metadata": {
        "id": "yznQfn6HMHQS"
      },
      "source": [
        "here you have used f_classif for Anova-F test. To know more about this test you can check this artical.\n",
        "\n",
        "https://towardsdatascience.com/anova-for-feature-selection-in-machine-learning-d9305e228476\n",
        "\n"
      ]
    },
    {
      "cell_type": "code",
      "execution_count": null,
      "metadata": {
        "id": "Phsvj7uBMHQT",
        "outputId": "fd0124b7-39f3-4e21-e0bf-77c96308a937"
      },
      "outputs": [
        {
          "data": {
            "text/plain": [
              "array([ 39.67022739, 213.16175218,   3.2569504 ,   4.30438091,\n",
              "        13.28110753,  71.7720721 ,  23.8713002 ,  46.14061124])"
            ]
          },
          "execution_count": 44,
          "metadata": {},
          "output_type": "execute_result"
        }
      ],
      "source": [
        "# return scores of anova model\n",
        "\n"
      ]
    },
    {
      "cell_type": "code",
      "execution_count": null,
      "metadata": {
        "id": "yjwH37yrMHQU",
        "outputId": "5d3b9b1a-2daf-41f4-ceff-fde00a28202c"
      },
      "outputs": [
        {
          "data": {
            "text/html": [
              "<div>\n",
              "<style scoped>\n",
              "    .dataframe tbody tr th:only-of-type {\n",
              "        vertical-align: middle;\n",
              "    }\n",
              "\n",
              "    .dataframe tbody tr th {\n",
              "        vertical-align: top;\n",
              "    }\n",
              "\n",
              "    .dataframe thead th {\n",
              "        text-align: right;\n",
              "    }\n",
              "</style>\n",
              "<table border=\"1\" class=\"dataframe\">\n",
              "  <thead>\n",
              "    <tr style=\"text-align: right;\">\n",
              "      <th></th>\n",
              "      <th>Features</th>\n",
              "      <th>Score</th>\n",
              "    </tr>\n",
              "  </thead>\n",
              "  <tbody>\n",
              "    <tr>\n",
              "      <th>0</th>\n",
              "      <td>Pregnancies</td>\n",
              "      <td>39.670227</td>\n",
              "    </tr>\n",
              "    <tr>\n",
              "      <th>1</th>\n",
              "      <td>Glucose</td>\n",
              "      <td>213.161752</td>\n",
              "    </tr>\n",
              "    <tr>\n",
              "      <th>2</th>\n",
              "      <td>BloodPressure</td>\n",
              "      <td>3.256950</td>\n",
              "    </tr>\n",
              "    <tr>\n",
              "      <th>3</th>\n",
              "      <td>SkinThickness</td>\n",
              "      <td>4.304381</td>\n",
              "    </tr>\n",
              "    <tr>\n",
              "      <th>4</th>\n",
              "      <td>Insulin</td>\n",
              "      <td>13.281108</td>\n",
              "    </tr>\n",
              "    <tr>\n",
              "      <th>5</th>\n",
              "      <td>BMI</td>\n",
              "      <td>71.772072</td>\n",
              "    </tr>\n",
              "    <tr>\n",
              "      <th>6</th>\n",
              "      <td>DiabetesPedigreeFunction</td>\n",
              "      <td>23.871300</td>\n",
              "    </tr>\n",
              "    <tr>\n",
              "      <th>7</th>\n",
              "      <td>Age</td>\n",
              "      <td>46.140611</td>\n",
              "    </tr>\n",
              "  </tbody>\n",
              "</table>\n",
              "</div>"
            ],
            "text/plain": [
              "                   Features       Score\n",
              "0               Pregnancies   39.670227\n",
              "1                   Glucose  213.161752\n",
              "2             BloodPressure    3.256950\n",
              "3             SkinThickness    4.304381\n",
              "4                   Insulin   13.281108\n",
              "5                       BMI   71.772072\n",
              "6  DiabetesPedigreeFunction   23.871300\n",
              "7                       Age   46.140611"
            ]
          },
          "execution_count": 45,
          "metadata": {},
          "output_type": "execute_result"
        }
      ],
      "source": [
        "# use generate_feature_scores_df function to get features and their respective scores by passing X and Anova_model.scores_ as score in function \n",
        "feature_scores_df =\n",
        "\n"
      ]
    },
    {
      "cell_type": "code",
      "execution_count": null,
      "metadata": {
        "id": "kvj9Z8uXMHQV"
      },
      "outputs": [],
      "source": [
        "# Get all supported columns values in Anova_model with indices=True\n",
        "cols = \n",
        "# Reduce X to the selected features of anova model using tranform \n",
        "X_new = \n",
        "\n",
        "\n"
      ]
    },
    {
      "cell_type": "code",
      "execution_count": null,
      "metadata": {
        "id": "5WGGYppdMHQW",
        "outputId": "ab3f77e5-81ab-4c1b-e509-31a885e766bd"
      },
      "outputs": [
        {
          "data": {
            "text/html": [
              "<div>\n",
              "<style scoped>\n",
              "    .dataframe tbody tr th:only-of-type {\n",
              "        vertical-align: middle;\n",
              "    }\n",
              "\n",
              "    .dataframe tbody tr th {\n",
              "        vertical-align: top;\n",
              "    }\n",
              "\n",
              "    .dataframe thead th {\n",
              "        text-align: right;\n",
              "    }\n",
              "</style>\n",
              "<table border=\"1\" class=\"dataframe\">\n",
              "  <thead>\n",
              "    <tr style=\"text-align: right;\">\n",
              "      <th></th>\n",
              "      <th>Pregnancies</th>\n",
              "      <th>Glucose</th>\n",
              "      <th>Insulin</th>\n",
              "      <th>BMI</th>\n",
              "      <th>DiabetesPedigreeFunction</th>\n",
              "      <th>Age</th>\n",
              "    </tr>\n",
              "  </thead>\n",
              "  <tbody>\n",
              "    <tr>\n",
              "      <th>0</th>\n",
              "      <td>6.0</td>\n",
              "      <td>148.0</td>\n",
              "      <td>0.0</td>\n",
              "      <td>33.6</td>\n",
              "      <td>0.627</td>\n",
              "      <td>50.0</td>\n",
              "    </tr>\n",
              "    <tr>\n",
              "      <th>1</th>\n",
              "      <td>1.0</td>\n",
              "      <td>85.0</td>\n",
              "      <td>0.0</td>\n",
              "      <td>26.6</td>\n",
              "      <td>0.351</td>\n",
              "      <td>31.0</td>\n",
              "    </tr>\n",
              "    <tr>\n",
              "      <th>2</th>\n",
              "      <td>8.0</td>\n",
              "      <td>183.0</td>\n",
              "      <td>0.0</td>\n",
              "      <td>23.3</td>\n",
              "      <td>0.672</td>\n",
              "      <td>32.0</td>\n",
              "    </tr>\n",
              "    <tr>\n",
              "      <th>3</th>\n",
              "      <td>1.0</td>\n",
              "      <td>89.0</td>\n",
              "      <td>94.0</td>\n",
              "      <td>28.1</td>\n",
              "      <td>0.167</td>\n",
              "      <td>21.0</td>\n",
              "    </tr>\n",
              "    <tr>\n",
              "      <th>4</th>\n",
              "      <td>0.0</td>\n",
              "      <td>137.0</td>\n",
              "      <td>168.0</td>\n",
              "      <td>43.1</td>\n",
              "      <td>2.288</td>\n",
              "      <td>33.0</td>\n",
              "    </tr>\n",
              "  </tbody>\n",
              "</table>\n",
              "</div>"
            ],
            "text/plain": [
              "   Pregnancies  Glucose  Insulin   BMI  DiabetesPedigreeFunction   Age\n",
              "0          6.0    148.0      0.0  33.6                     0.627  50.0\n",
              "1          1.0     85.0      0.0  26.6                     0.351  31.0\n",
              "2          8.0    183.0      0.0  23.3                     0.672  32.0\n",
              "3          1.0     89.0     94.0  28.1                     0.167  21.0\n",
              "4          0.0    137.0    168.0  43.1                     2.288  33.0"
            ]
          },
          "execution_count": 47,
          "metadata": {},
          "output_type": "execute_result"
        }
      ],
      "source": [
        "#print X_new.head()\n",
        "\n"
      ]
    },
    {
      "cell_type": "markdown",
      "metadata": {
        "id": "tfCC6Sf8MHQX"
      },
      "source": [
        "Hey brighty! Hope you learned to implement Anova F-test method for feature selection. It has selected 6 best features as you can see in above output"
      ]
    },
    {
      "cell_type": "markdown",
      "metadata": {
        "id": "EkfvII_2MHQX"
      },
      "source": [
        "# 2. Wrapper Methods\n",
        "\n",
        "<p style='text-align: right;'> 30 points</p>\n"
      ]
    },
    {
      "cell_type": "markdown",
      "metadata": {
        "id": "NvE7FN_pMHQY"
      },
      "source": [
        "Wrapper methods are used to select a set of features by preparing where different combinations of features, then each combination is evaluated and compared to other combinations.Next a predictive model is used to assign a score based on model accuracy and to evaluate the combinations of these features."
      ]
    },
    {
      "cell_type": "code",
      "execution_count": null,
      "metadata": {
        "id": "meFFBPd-MHQZ",
        "outputId": "66bd5980-84a2-4d8d-d324-6aaf58237a18"
      },
      "outputs": [
        {
          "data": {
            "text/html": [
              "<div>\n",
              "<style scoped>\n",
              "    .dataframe tbody tr th:only-of-type {\n",
              "        vertical-align: middle;\n",
              "    }\n",
              "\n",
              "    .dataframe tbody tr th {\n",
              "        vertical-align: top;\n",
              "    }\n",
              "\n",
              "    .dataframe thead th {\n",
              "        text-align: right;\n",
              "    }\n",
              "</style>\n",
              "<table border=\"1\" class=\"dataframe\">\n",
              "  <thead>\n",
              "    <tr style=\"text-align: right;\">\n",
              "      <th></th>\n",
              "      <th>Pregnancies</th>\n",
              "      <th>Glucose</th>\n",
              "      <th>BloodPressure</th>\n",
              "      <th>SkinThickness</th>\n",
              "      <th>Insulin</th>\n",
              "      <th>BMI</th>\n",
              "      <th>DiabetesPedigreeFunction</th>\n",
              "      <th>Age</th>\n",
              "      <th>Outcome</th>\n",
              "    </tr>\n",
              "  </thead>\n",
              "  <tbody>\n",
              "    <tr>\n",
              "      <th>0</th>\n",
              "      <td>6</td>\n",
              "      <td>148</td>\n",
              "      <td>72</td>\n",
              "      <td>35</td>\n",
              "      <td>0</td>\n",
              "      <td>33.6</td>\n",
              "      <td>0.627</td>\n",
              "      <td>50</td>\n",
              "      <td>1</td>\n",
              "    </tr>\n",
              "    <tr>\n",
              "      <th>1</th>\n",
              "      <td>1</td>\n",
              "      <td>85</td>\n",
              "      <td>66</td>\n",
              "      <td>29</td>\n",
              "      <td>0</td>\n",
              "      <td>26.6</td>\n",
              "      <td>0.351</td>\n",
              "      <td>31</td>\n",
              "      <td>0</td>\n",
              "    </tr>\n",
              "    <tr>\n",
              "      <th>2</th>\n",
              "      <td>8</td>\n",
              "      <td>183</td>\n",
              "      <td>64</td>\n",
              "      <td>0</td>\n",
              "      <td>0</td>\n",
              "      <td>23.3</td>\n",
              "      <td>0.672</td>\n",
              "      <td>32</td>\n",
              "      <td>1</td>\n",
              "    </tr>\n",
              "    <tr>\n",
              "      <th>3</th>\n",
              "      <td>1</td>\n",
              "      <td>89</td>\n",
              "      <td>66</td>\n",
              "      <td>23</td>\n",
              "      <td>94</td>\n",
              "      <td>28.1</td>\n",
              "      <td>0.167</td>\n",
              "      <td>21</td>\n",
              "      <td>0</td>\n",
              "    </tr>\n",
              "    <tr>\n",
              "      <th>4</th>\n",
              "      <td>0</td>\n",
              "      <td>137</td>\n",
              "      <td>40</td>\n",
              "      <td>35</td>\n",
              "      <td>168</td>\n",
              "      <td>43.1</td>\n",
              "      <td>2.288</td>\n",
              "      <td>33</td>\n",
              "      <td>1</td>\n",
              "    </tr>\n",
              "  </tbody>\n",
              "</table>\n",
              "</div>"
            ],
            "text/plain": [
              "   Pregnancies  Glucose  BloodPressure  SkinThickness  Insulin   BMI  \\\n",
              "0            6      148             72             35        0  33.6   \n",
              "1            1       85             66             29        0  26.6   \n",
              "2            8      183             64              0        0  23.3   \n",
              "3            1       89             66             23       94  28.1   \n",
              "4            0      137             40             35      168  43.1   \n",
              "\n",
              "   DiabetesPedigreeFunction  Age  Outcome  \n",
              "0                     0.627   50        1  \n",
              "1                     0.351   31        0  \n",
              "2                     0.672   32        1  \n",
              "3                     0.167   21        0  \n",
              "4                     2.288   33        1  "
            ]
          },
          "execution_count": 48,
          "metadata": {},
          "output_type": "execute_result"
        }
      ],
      "source": [
        "# load and read the csv using pandas and print the head values\n",
        "diabetes =\n",
        "\n",
        "# print head\n",
        "diabetes.head()"
      ]
    },
    {
      "cell_type": "code",
      "execution_count": null,
      "metadata": {
        "id": "cocHEKxGMHQa",
        "outputId": "b1972f31-2fd6-41be-8ff3-b1800c283fbd"
      },
      "outputs": [
        {
          "data": {
            "text/plain": [
              "(     Pregnancies  Glucose  BloodPressure  SkinThickness  Insulin   BMI  \\\n",
              " 0              6      148             72             35        0  33.6   \n",
              " 1              1       85             66             29        0  26.6   \n",
              " 2              8      183             64              0        0  23.3   \n",
              " 3              1       89             66             23       94  28.1   \n",
              " 4              0      137             40             35      168  43.1   \n",
              " ..           ...      ...            ...            ...      ...   ...   \n",
              " 763           10      101             76             48      180  32.9   \n",
              " 764            2      122             70             27        0  36.8   \n",
              " 765            5      121             72             23      112  26.2   \n",
              " 766            1      126             60              0        0  30.1   \n",
              " 767            1       93             70             31        0  30.4   \n",
              " \n",
              "      DiabetesPedigreeFunction  Age  \n",
              " 0                       0.627   50  \n",
              " 1                       0.351   31  \n",
              " 2                       0.672   32  \n",
              " 3                       0.167   21  \n",
              " 4                       2.288   33  \n",
              " ..                        ...  ...  \n",
              " 763                     0.171   63  \n",
              " 764                     0.340   27  \n",
              " 765                     0.245   30  \n",
              " 766                     0.349   47  \n",
              " 767                     0.315   23  \n",
              " \n",
              " [768 rows x 8 columns],\n",
              " 0      1\n",
              " 1      0\n",
              " 2      1\n",
              " 3      0\n",
              " 4      1\n",
              "       ..\n",
              " 763    0\n",
              " 764    0\n",
              " 765    0\n",
              " 766    1\n",
              " 767    0\n",
              " Name: Outcome, Length: 768, dtype: int64)"
            ]
          },
          "execution_count": 49,
          "metadata": {},
          "output_type": "execute_result"
        }
      ],
      "source": [
        "# assign features to X and target 'outcome' to Y(Think why the 'outcome' column is taken as the target)\n",
        "X =\n",
        "Y = \n",
        "\n",
        "#return X,Y\n",
        "\n"
      ]
    },
    {
      "cell_type": "markdown",
      "metadata": {
        "id": "isu6p3VIMHQb"
      },
      "source": [
        "## (a) Recursive Feature Elemination\n",
        "\n",
        "<p style='text-align: right;'> 25 points</p>\n",
        "\n",
        "Recursive Feature Elimination selects features by recursively considering smaller subsets of features by pruning the least important feature at each step. Here models are created iteartively and in each iteration it determines the best and worst performing features and this process continues until all the features are explored.Next ranking is given on eah feature based on their elimination orde. In the worst case, if a dataset contains N number of features RFE will do a greedy search for $N^2$ combinations of features."
      ]
    },
    {
      "cell_type": "markdown",
      "metadata": {
        "id": "IT9bBLTCMHQb"
      },
      "source": [
        "\n",
        "## **`Watch Video 6: Recursive Feature Elimination`**\n",
        "\n",
        "Note: the video is using random forest classifier, but we are going to use logistic regression as our model.\n",
        "\n",
        "File used: https://drive.google.com/file/d/1NPomAlZP1g054xlRWUZ9_GE8pZxu2WFA/view?usp=sharing\n",
        "\n",
        "Dataset used: https://drive.google.com/file/d/1WC4UwIx56Muc5lX3io7UJK_Is6gIv4tM/view?usp=sharing"
      ]
    },
    {
      "cell_type": "code",
      "execution_count": null,
      "metadata": {
        "id": "N9j0lPmnMHQc"
      },
      "outputs": [],
      "source": [
        "# import required libraries RFE, LogisticRegression and dependencies\n",
        "\n",
        "\n"
      ]
    },
    {
      "cell_type": "code",
      "execution_count": null,
      "metadata": {
        "id": "f2JgmAVMMHQd"
      },
      "outputs": [],
      "source": [
        "# Initialise model variable with LogisticRegression function with solver = 'liblinear'\n",
        "model =\n",
        "\n",
        "# rfe variable has RFE instance with should have model and n_features_to_select=4 as parameters\n",
        "rfe = \n",
        "\n"
      ]
    },
    {
      "cell_type": "code",
      "execution_count": null,
      "metadata": {
        "id": "Yg32aCFjMHQd"
      },
      "outputs": [],
      "source": [
        "# fit rfe with X and Y\n",
        "fit ="
      ]
    },
    {
      "cell_type": "code",
      "execution_count": null,
      "metadata": {
        "id": "ZBUe7ghYMHQe",
        "outputId": "98accb63-0402-4d75-e136-ac112da8ee17"
      },
      "outputs": [
        {
          "name": "stdout",
          "output_type": "stream",
          "text": [
            "Number of selected features 4\n",
            "Selected Features [ True  True False False False  True  True False]\n",
            "Feature rankings [1 1 2 4 5 1 1 3]\n"
          ]
        }
      ],
      "source": [
        "# print fit.n_features_, fit.support_, fit.ranking_\n",
        "\n",
        "\n"
      ]
    },
    {
      "cell_type": "code",
      "execution_count": null,
      "metadata": {
        "id": "Dd-XfkdNMHQf"
      },
      "outputs": [],
      "source": [
        "# use below function to get ranks of all the features\n",
        "def feature_ranks(X,Rank,Support):\n",
        "    feature_rank=pd.DataFrame()\n",
        "    for i in range(X.shape[1]):\n",
        "        new =pd.DataFrame({\"Features\":X.columns[i],\"Rank\":Rank[i],'Selected':Support[i]},index=[i])\n",
        "        feature_rank=pd.concat([feature_rank,new])\n",
        "    return feature_rank\n"
      ]
    },
    {
      "cell_type": "code",
      "execution_count": null,
      "metadata": {
        "id": "vUXTbF7LMHQg",
        "outputId": "13bbc355-c2a6-4eed-c727-83309fa2f626"
      },
      "outputs": [
        {
          "data": {
            "text/html": [
              "<div>\n",
              "<style scoped>\n",
              "    .dataframe tbody tr th:only-of-type {\n",
              "        vertical-align: middle;\n",
              "    }\n",
              "\n",
              "    .dataframe tbody tr th {\n",
              "        vertical-align: top;\n",
              "    }\n",
              "\n",
              "    .dataframe thead th {\n",
              "        text-align: right;\n",
              "    }\n",
              "</style>\n",
              "<table border=\"1\" class=\"dataframe\">\n",
              "  <thead>\n",
              "    <tr style=\"text-align: right;\">\n",
              "      <th></th>\n",
              "      <th>Features</th>\n",
              "      <th>Rank</th>\n",
              "      <th>Selected</th>\n",
              "    </tr>\n",
              "  </thead>\n",
              "  <tbody>\n",
              "    <tr>\n",
              "      <th>0</th>\n",
              "      <td>Pregnancies</td>\n",
              "      <td>1</td>\n",
              "      <td>True</td>\n",
              "    </tr>\n",
              "    <tr>\n",
              "      <th>1</th>\n",
              "      <td>Glucose</td>\n",
              "      <td>1</td>\n",
              "      <td>True</td>\n",
              "    </tr>\n",
              "    <tr>\n",
              "      <th>2</th>\n",
              "      <td>BloodPressure</td>\n",
              "      <td>2</td>\n",
              "      <td>False</td>\n",
              "    </tr>\n",
              "    <tr>\n",
              "      <th>3</th>\n",
              "      <td>SkinThickness</td>\n",
              "      <td>4</td>\n",
              "      <td>False</td>\n",
              "    </tr>\n",
              "    <tr>\n",
              "      <th>4</th>\n",
              "      <td>Insulin</td>\n",
              "      <td>5</td>\n",
              "      <td>False</td>\n",
              "    </tr>\n",
              "    <tr>\n",
              "      <th>5</th>\n",
              "      <td>BMI</td>\n",
              "      <td>1</td>\n",
              "      <td>True</td>\n",
              "    </tr>\n",
              "    <tr>\n",
              "      <th>6</th>\n",
              "      <td>DiabetesPedigreeFunction</td>\n",
              "      <td>1</td>\n",
              "      <td>True</td>\n",
              "    </tr>\n",
              "    <tr>\n",
              "      <th>7</th>\n",
              "      <td>Age</td>\n",
              "      <td>3</td>\n",
              "      <td>False</td>\n",
              "    </tr>\n",
              "  </tbody>\n",
              "</table>\n",
              "</div>"
            ],
            "text/plain": [
              "                   Features  Rank  Selected\n",
              "0               Pregnancies     1      True\n",
              "1                   Glucose     1      True\n",
              "2             BloodPressure     2     False\n",
              "3             SkinThickness     4     False\n",
              "4                   Insulin     5     False\n",
              "5                       BMI     1      True\n",
              "6  DiabetesPedigreeFunction     1      True\n",
              "7                       Age     3     False"
            ]
          },
          "execution_count": 55,
          "metadata": {},
          "output_type": "execute_result"
        }
      ],
      "source": [
        "#Get all feature's ranks using feature_ranks function with suitable parameters in variable called feature_rank_df\n",
        "feature_rank_df =\n",
        "\n",
        "# print feature_rank_df\n",
        "\n"
      ]
    },
    {
      "cell_type": "markdown",
      "metadata": {
        "id": "eKgeg-_SMHQh"
      },
      "source": [
        "We can see there are four features with rank 1 ,RFE states that these are the most significant features."
      ]
    },
    {
      "cell_type": "code",
      "execution_count": null,
      "metadata": {
        "id": "CuIrYlxwMHQi",
        "outputId": "e2ba0131-95e2-46f2-dae5-77e74e18cbdb"
      },
      "outputs": [
        {
          "data": {
            "text/html": [
              "<div>\n",
              "<style scoped>\n",
              "    .dataframe tbody tr th:only-of-type {\n",
              "        vertical-align: middle;\n",
              "    }\n",
              "\n",
              "    .dataframe tbody tr th {\n",
              "        vertical-align: top;\n",
              "    }\n",
              "\n",
              "    .dataframe thead th {\n",
              "        text-align: right;\n",
              "    }\n",
              "</style>\n",
              "<table border=\"1\" class=\"dataframe\">\n",
              "  <thead>\n",
              "    <tr style=\"text-align: right;\">\n",
              "      <th></th>\n",
              "      <th>Features</th>\n",
              "      <th>Rank</th>\n",
              "      <th>Selected</th>\n",
              "    </tr>\n",
              "  </thead>\n",
              "  <tbody>\n",
              "    <tr>\n",
              "      <th>0</th>\n",
              "      <td>Pregnancies</td>\n",
              "      <td>1</td>\n",
              "      <td>True</td>\n",
              "    </tr>\n",
              "    <tr>\n",
              "      <th>1</th>\n",
              "      <td>Glucose</td>\n",
              "      <td>1</td>\n",
              "      <td>True</td>\n",
              "    </tr>\n",
              "    <tr>\n",
              "      <th>5</th>\n",
              "      <td>BMI</td>\n",
              "      <td>1</td>\n",
              "      <td>True</td>\n",
              "    </tr>\n",
              "    <tr>\n",
              "      <th>6</th>\n",
              "      <td>DiabetesPedigreeFunction</td>\n",
              "      <td>1</td>\n",
              "      <td>True</td>\n",
              "    </tr>\n",
              "  </tbody>\n",
              "</table>\n",
              "</div>"
            ],
            "text/plain": [
              "                   Features  Rank  Selected\n",
              "0               Pregnancies     1      True\n",
              "1                   Glucose     1      True\n",
              "5                       BMI     1      True\n",
              "6  DiabetesPedigreeFunction     1      True"
            ]
          },
          "execution_count": 56,
          "metadata": {},
          "output_type": "execute_result"
        }
      ],
      "source": [
        "# filter feature_rank_df  with selected column values as True and save it variable called recursive_feature_names \n",
        "recursive_feature_names =  \n",
        "\n",
        "# print recursive_feature_names\n",
        "\n"
      ]
    },
    {
      "cell_type": "code",
      "execution_count": null,
      "metadata": {
        "id": "zEJuYDVYMHQj",
        "outputId": "84fbb2f6-b02e-4ada-e445-7f8056f2c745"
      },
      "outputs": [
        {
          "data": {
            "text/html": [
              "<div>\n",
              "<style scoped>\n",
              "    .dataframe tbody tr th:only-of-type {\n",
              "        vertical-align: middle;\n",
              "    }\n",
              "\n",
              "    .dataframe tbody tr th {\n",
              "        vertical-align: top;\n",
              "    }\n",
              "\n",
              "    .dataframe thead th {\n",
              "        text-align: right;\n",
              "    }\n",
              "</style>\n",
              "<table border=\"1\" class=\"dataframe\">\n",
              "  <thead>\n",
              "    <tr style=\"text-align: right;\">\n",
              "      <th></th>\n",
              "      <th>Pregnancies</th>\n",
              "      <th>Glucose</th>\n",
              "      <th>BMI</th>\n",
              "      <th>DiabetesPedigreeFunction</th>\n",
              "    </tr>\n",
              "  </thead>\n",
              "  <tbody>\n",
              "    <tr>\n",
              "      <th>0</th>\n",
              "      <td>6</td>\n",
              "      <td>148</td>\n",
              "      <td>33.6</td>\n",
              "      <td>0.627</td>\n",
              "    </tr>\n",
              "    <tr>\n",
              "      <th>1</th>\n",
              "      <td>1</td>\n",
              "      <td>85</td>\n",
              "      <td>26.6</td>\n",
              "      <td>0.351</td>\n",
              "    </tr>\n",
              "    <tr>\n",
              "      <th>2</th>\n",
              "      <td>8</td>\n",
              "      <td>183</td>\n",
              "      <td>23.3</td>\n",
              "      <td>0.672</td>\n",
              "    </tr>\n",
              "    <tr>\n",
              "      <th>3</th>\n",
              "      <td>1</td>\n",
              "      <td>89</td>\n",
              "      <td>28.1</td>\n",
              "      <td>0.167</td>\n",
              "    </tr>\n",
              "    <tr>\n",
              "      <th>4</th>\n",
              "      <td>0</td>\n",
              "      <td>137</td>\n",
              "      <td>43.1</td>\n",
              "      <td>2.288</td>\n",
              "    </tr>\n",
              "  </tbody>\n",
              "</table>\n",
              "</div>"
            ],
            "text/plain": [
              "   Pregnancies  Glucose   BMI  DiabetesPedigreeFunction\n",
              "0            6      148  33.6                     0.627\n",
              "1            1       85  26.6                     0.351\n",
              "2            8      183  23.3                     0.672\n",
              "3            1       89  28.1                     0.167\n",
              "4            0      137  43.1                     2.288"
            ]
          },
          "execution_count": 57,
          "metadata": {},
          "output_type": "execute_result"
        }
      ],
      "source": [
        "# finally get all the features selected by RFE in dataframe X and this result in variable called RFE_selected_features\n",
        "RFE_selected_features =\n",
        "\n",
        "# print RFE head()\n",
        "\n"
      ]
    },
    {
      "cell_type": "markdown",
      "metadata": {
        "id": "Qwt8ipwDMHQk"
      },
      "source": [
        "# 3. Embedded Method using random forest\n",
        "\n",
        "<p style='text-align: right;'> 25 points</p>\n"
      ]
    },
    {
      "cell_type": "markdown",
      "metadata": {
        "id": "IM6DTwSL__O6"
      },
      "source": [
        "## **`Watch Video 7: Model based feature selection`**\n",
        "\n",
        "File used: https://drive.google.com/file/d/1Vfmyrbz4HzRMtgYwasrHeXS7Zuo3Yk1b/view?usp=sharing\n",
        "\n",
        "dataset : https://drive.google.com/file/d/1IyDpzY-9G5rO5sPsY0lN1o3hTzWNAPEY/view?usp=sharing"
      ]
    },
    {
      "cell_type": "markdown",
      "metadata": {
        "id": "8YBqFr29MHQm"
      },
      "source": [
        "Feature selection using Random forest comes under the category of Embedded methods. Embedded methods combine the qualities of filter and wrapper methods. They are implemented by algorithms that have their own built-in feature selection methods. Some of the benefits of embedded methods are :\n",
        "1. They are highly accurate.\n",
        "2. They generalize better.\n",
        "3. They are interpretable"
      ]
    },
    {
      "cell_type": "code",
      "execution_count": null,
      "metadata": {
        "id": "bTS-awu5MHQm"
      },
      "outputs": [],
      "source": [
        "#Importing libraries pd, RandomForestClassifier, SelectFromModel\n",
        "\n",
        "\n"
      ]
    },
    {
      "cell_type": "code",
      "execution_count": null,
      "metadata": {
        "id": "SW9oFvjBMHQn",
        "outputId": "dc06ff8d-f8ec-43ad-c844-2a12abde1327"
      },
      "outputs": [
        {
          "data": {
            "text/html": [
              "<div>\n",
              "<style scoped>\n",
              "    .dataframe tbody tr th:only-of-type {\n",
              "        vertical-align: middle;\n",
              "    }\n",
              "\n",
              "    .dataframe tbody tr th {\n",
              "        vertical-align: top;\n",
              "    }\n",
              "\n",
              "    .dataframe thead th {\n",
              "        text-align: right;\n",
              "    }\n",
              "</style>\n",
              "<table border=\"1\" class=\"dataframe\">\n",
              "  <thead>\n",
              "    <tr style=\"text-align: right;\">\n",
              "      <th></th>\n",
              "      <th>Pregnancies</th>\n",
              "      <th>Glucose</th>\n",
              "      <th>BloodPressure</th>\n",
              "      <th>SkinThickness</th>\n",
              "      <th>Insulin</th>\n",
              "      <th>BMI</th>\n",
              "      <th>DiabetesPedigreeFunction</th>\n",
              "      <th>Age</th>\n",
              "      <th>Outcome</th>\n",
              "    </tr>\n",
              "  </thead>\n",
              "  <tbody>\n",
              "    <tr>\n",
              "      <th>0</th>\n",
              "      <td>6</td>\n",
              "      <td>148</td>\n",
              "      <td>72</td>\n",
              "      <td>35</td>\n",
              "      <td>0</td>\n",
              "      <td>33.6</td>\n",
              "      <td>0.627</td>\n",
              "      <td>50</td>\n",
              "      <td>1</td>\n",
              "    </tr>\n",
              "    <tr>\n",
              "      <th>1</th>\n",
              "      <td>1</td>\n",
              "      <td>85</td>\n",
              "      <td>66</td>\n",
              "      <td>29</td>\n",
              "      <td>0</td>\n",
              "      <td>26.6</td>\n",
              "      <td>0.351</td>\n",
              "      <td>31</td>\n",
              "      <td>0</td>\n",
              "    </tr>\n",
              "    <tr>\n",
              "      <th>2</th>\n",
              "      <td>8</td>\n",
              "      <td>183</td>\n",
              "      <td>64</td>\n",
              "      <td>0</td>\n",
              "      <td>0</td>\n",
              "      <td>23.3</td>\n",
              "      <td>0.672</td>\n",
              "      <td>32</td>\n",
              "      <td>1</td>\n",
              "    </tr>\n",
              "    <tr>\n",
              "      <th>3</th>\n",
              "      <td>1</td>\n",
              "      <td>89</td>\n",
              "      <td>66</td>\n",
              "      <td>23</td>\n",
              "      <td>94</td>\n",
              "      <td>28.1</td>\n",
              "      <td>0.167</td>\n",
              "      <td>21</td>\n",
              "      <td>0</td>\n",
              "    </tr>\n",
              "    <tr>\n",
              "      <th>4</th>\n",
              "      <td>0</td>\n",
              "      <td>137</td>\n",
              "      <td>40</td>\n",
              "      <td>35</td>\n",
              "      <td>168</td>\n",
              "      <td>43.1</td>\n",
              "      <td>2.288</td>\n",
              "      <td>33</td>\n",
              "      <td>1</td>\n",
              "    </tr>\n",
              "  </tbody>\n",
              "</table>\n",
              "</div>"
            ],
            "text/plain": [
              "   Pregnancies  Glucose  BloodPressure  SkinThickness  Insulin   BMI  \\\n",
              "0            6      148             72             35        0  33.6   \n",
              "1            1       85             66             29        0  26.6   \n",
              "2            8      183             64              0        0  23.3   \n",
              "3            1       89             66             23       94  28.1   \n",
              "4            0      137             40             35      168  43.1   \n",
              "\n",
              "   DiabetesPedigreeFunction  Age  Outcome  \n",
              "0                     0.627   50        1  \n",
              "1                     0.351   31        0  \n",
              "2                     0.672   32        1  \n",
              "3                     0.167   21        0  \n",
              "4                     2.288   33        1  "
            ]
          },
          "execution_count": 59,
          "metadata": {},
          "output_type": "execute_result"
        }
      ],
      "source": [
        "# load the csv file using pandas and print the head values\n",
        "diabetes = \n",
        "\n",
        "# print head\n",
        "\n"
      ]
    },
    {
      "cell_type": "markdown",
      "metadata": {
        "id": "pvjJoITaMHQo"
      },
      "source": [
        "In all feature selection procedures, it is a good practice to select the features by examining only the training set. This is to avoid overfitting.\n",
        "So considering we have a train and a test dataset. We select the features from the train set and then transfer the changes to the test set later"
      ]
    },
    {
      "cell_type": "code",
      "execution_count": null,
      "metadata": {
        "id": "yYdInk8eMHQp"
      },
      "outputs": [],
      "source": [
        "# assign features to X and target 'outcome' to Y(Think why the 'outcome' column is taken as the target)\n",
        "X =\n",
        "Y = "
      ]
    },
    {
      "cell_type": "code",
      "execution_count": null,
      "metadata": {
        "id": "zIEwLzbRMHQp"
      },
      "outputs": [],
      "source": [
        "# import test_train_split module\n",
        "\n",
        "\n",
        "# splitting of dataset(test_size=0.3)\n",
        "X_train, X_test, y_train, y_test = \n"
      ]
    },
    {
      "cell_type": "markdown",
      "metadata": {
        "id": "q0qnyCpYMHQq"
      },
      "source": [
        "Here We will do the model fitting and feature selection altogether in one line of code.\n",
        "\n",
        "Firstly, specify the random forest instance, indicating the number of trees.\n",
        "\n",
        "Then use selectFromModel object from sklearn to automatically select the features. Simple right?. Don't worry trust your code. It helps.\n",
        "\n",
        "Reference link to use selectFromModel: https://scikit-learn.org/stable/modules/generated/sklearn.feature_selection.SelectFromModel.html"
      ]
    },
    {
      "cell_type": "code",
      "execution_count": null,
      "metadata": {
        "id": "o9LFHTPdMHQr",
        "outputId": "1c6424c9-048a-4d56-b8db-bf091eb1c159"
      },
      "outputs": [
        {
          "data": {
            "text/plain": [
              "SelectFromModel(estimator=RandomForestClassifier())"
            ]
          },
          "execution_count": 62,
          "metadata": {},
          "output_type": "execute_result"
        }
      ],
      "source": [
        "#create an instance of Select from Model. Pass an object of Random Forest Classifier with n_estimators=100 as argument. \n",
        "sel = \n",
        "\n",
        "\n",
        "# fit sel on X and y \n",
        "\n"
      ]
    },
    {
      "cell_type": "markdown",
      "metadata": {
        "id": "XAJ1crwbMHQs"
      },
      "source": [
        "SelectFromModel will select those features which importance is greater than the mean importance of all the features by default, but we can alter this threshold if we want.\n",
        "\n",
        " To see which features are important we can use get_support method on the fitted model."
      ]
    },
    {
      "cell_type": "code",
      "execution_count": null,
      "metadata": {
        "id": "k57-8SztMHQt",
        "outputId": "30b9c312-a36d-4c37-fac4-565cb893e2b2"
      },
      "outputs": [
        {
          "data": {
            "text/plain": [
              "array([False,  True, False, False, False,  True, False,  True])"
            ]
          },
          "execution_count": 63,
          "metadata": {},
          "output_type": "execute_result"
        }
      ],
      "source": [
        "# Using sel.get_support() print the boolean values for the features selected. \n",
        "\n",
        "\n"
      ]
    },
    {
      "cell_type": "code",
      "execution_count": null,
      "metadata": {
        "id": "CyTfmSrDMHQt",
        "outputId": "99fe8baf-8abf-45da-e41e-2495b76ae01e"
      },
      "outputs": [
        {
          "data": {
            "text/plain": [
              "3"
            ]
          },
          "execution_count": 64,
          "metadata": {},
          "output_type": "execute_result"
        }
      ],
      "source": [
        "#make a list named selected_feat with all columns which are True\n",
        "selected_feat = \n",
        "\n",
        "# print length of selected_feat\n",
        "len(selected_feat)"
      ]
    },
    {
      "cell_type": "code",
      "execution_count": null,
      "metadata": {
        "id": "lEMCQauqMHQu",
        "outputId": "826ef7c8-5c96-4b29-aad4-3aa038c3152b"
      },
      "outputs": [
        {
          "name": "stdout",
          "output_type": "stream",
          "text": [
            "Index(['Glucose', 'BMI', 'Age'], dtype='object')\n"
          ]
        }
      ],
      "source": [
        "# Print selected_feat\n",
        "print(selected_feat)"
      ]
    },
    {
      "cell_type": "markdown",
      "metadata": {
        "id": "7IQQ3HVnMHQv"
      },
      "source": [
        "Well done Champ!. Let us impliment SelectFromModel using LinearSVC model also"
      ]
    },
    {
      "cell_type": "markdown",
      "metadata": {
        "id": "CNTAyHSiMHQv"
      },
      "source": [
        "## Feature selection using SelectFromModel\n",
        "\n",
        "<p style='text-align: right;'> 25 points</p>\n",
        "\n",
        "\n",
        "SelectFromModel is a meta-transformer that can be used along with any estimator that has a coef_ or featureimportances attribute after fitting. The features are considered unimportant and removed, if the corresponding coef_ or featureimportances values are below the provided threshold parameter. Apart from specifying the threshold numerically, there are built-in heuristics for finding a threshold using a string argument. Available heuristics are “mean”, “median” and float multiples of these like “0.1*mean”.\n",
        "\n",
        "Lets use selectfrommodel again with LinearSVC"
      ]
    },
    {
      "cell_type": "code",
      "execution_count": null,
      "metadata": {
        "id": "tkipv-tnMHQx"
      },
      "outputs": [],
      "source": [
        "# import libraries LinearSVC, SelectFromModel , and dependencies\n",
        "\n",
        "from sklearn.svm import LinearSVC\n",
        "from sklearn.feature_selection import SelectFromModel"
      ]
    },
    {
      "cell_type": "code",
      "execution_count": null,
      "metadata": {
        "id": "eL9kkVRUMHQz",
        "outputId": "22027f7b-99d7-4791-e5c5-704e38108069"
      },
      "outputs": [
        {
          "name": "stderr",
          "output_type": "stream",
          "text": [
            "C:\\Users\\HP\\anaconda3\\lib\\site-packages\\sklearn\\svm\\_base.py:976: ConvergenceWarning: Liblinear failed to converge, increase the number of iterations.\n",
            "  warnings.warn(\"Liblinear failed to converge, increase \"\n"
          ]
        },
        {
          "data": {
            "text/plain": [
              "SelectFromModel(estimator=LinearSVC())"
            ]
          },
          "execution_count": 67,
          "metadata": {},
          "output_type": "execute_result"
        }
      ],
      "source": [
        "#Use SelectFromModel with LinearSVC() as its parameter and save it in variable 'm'\n",
        "\n",
        "m = \n",
        "\n",
        "# fit on X, y\n",
        "\n"
      ]
    },
    {
      "cell_type": "code",
      "execution_count": null,
      "metadata": {
        "id": "zZkc_x6_MHQ2",
        "outputId": "c2028d9b-21cd-4cc1-afb1-fe91b22258b0"
      },
      "outputs": [
        {
          "name": "stdout",
          "output_type": "stream",
          "text": [
            "Index(['Pregnancies', 'DiabetesPedigreeFunction'], dtype='object')\n"
          ]
        }
      ],
      "source": [
        "#make a list named selected_feat with all columns which are supported and count the selected features.\n",
        "\n",
        "selected_feat = \n",
        "\n",
        "# print selected_feat\n",
        "\n"
      ]
    },
    {
      "cell_type": "markdown",
      "metadata": {
        "id": "KLzj9PGDMHQ3"
      },
      "source": [
        " # 4. Handling Multicollinearity with VIF\n",
        " \n",
        " <p style='text-align: right;'> 15 points</p>\n"
      ]
    },
    {
      "cell_type": "markdown",
      "metadata": {
        "id": "hDu_mmXOMHQ3"
      },
      "source": [
        "Multicollinearity refers to a situation in which more than two explanatory variables in a multiple regression model are highly linearly related. We have perfect multicollinearity if, for example as in the equation above, the correlation between two independent variables is equal to 1 or −1."
      ]
    },
    {
      "cell_type": "markdown",
      "metadata": {
        "id": "t6C-P_w5MHQ4"
      },
      "source": [
        "Variance inflation factor measures how much the behavior (variance) of an independent variable is influenced, or inflated, by its interaction/correlation with the other independent variables.\n",
        "\n",
        "VIF has big defination but for now understand that:-\n",
        "Variance inflation factor (VIF) is a measure of the amount of multicollinearity in a set of multiple regression variables"
      ]
    },
    {
      "cell_type": "markdown",
      "metadata": {
        "id": "6kzR26KPMHQ4"
      },
      "source": [
        "## **`Watch Video 8: Variance Inflation Factor`**\n",
        "\n",
        "File : https://drive.google.com/file/d/1j1npRRM9iu_m61ElAdSHaP5mftNtGHQc/view?usp=sharing"
      ]
    },
    {
      "cell_type": "code",
      "execution_count": null,
      "metadata": {
        "id": "BBIwoSqbMHQ5",
        "outputId": "7f15a239-7670-419b-d0a1-dc0478bc5aa3"
      },
      "outputs": [
        {
          "data": {
            "text/html": [
              "<div>\n",
              "<style scoped>\n",
              "    .dataframe tbody tr th:only-of-type {\n",
              "        vertical-align: middle;\n",
              "    }\n",
              "\n",
              "    .dataframe tbody tr th {\n",
              "        vertical-align: top;\n",
              "    }\n",
              "\n",
              "    .dataframe thead th {\n",
              "        text-align: right;\n",
              "    }\n",
              "</style>\n",
              "<table border=\"1\" class=\"dataframe\">\n",
              "  <thead>\n",
              "    <tr style=\"text-align: right;\">\n",
              "      <th></th>\n",
              "      <th>Pregnancies</th>\n",
              "      <th>Glucose</th>\n",
              "      <th>BloodPressure</th>\n",
              "      <th>SkinThickness</th>\n",
              "      <th>Insulin</th>\n",
              "      <th>BMI</th>\n",
              "      <th>DiabetesPedigreeFunction</th>\n",
              "      <th>Age</th>\n",
              "      <th>Outcome</th>\n",
              "    </tr>\n",
              "  </thead>\n",
              "  <tbody>\n",
              "    <tr>\n",
              "      <th>0</th>\n",
              "      <td>6.0</td>\n",
              "      <td>148.0</td>\n",
              "      <td>72.0</td>\n",
              "      <td>35.0</td>\n",
              "      <td>218.937760</td>\n",
              "      <td>33.6</td>\n",
              "      <td>0.627</td>\n",
              "      <td>50.0</td>\n",
              "      <td>1</td>\n",
              "    </tr>\n",
              "    <tr>\n",
              "      <th>1</th>\n",
              "      <td>1.0</td>\n",
              "      <td>85.0</td>\n",
              "      <td>66.0</td>\n",
              "      <td>29.0</td>\n",
              "      <td>70.189298</td>\n",
              "      <td>26.6</td>\n",
              "      <td>0.351</td>\n",
              "      <td>31.0</td>\n",
              "      <td>0</td>\n",
              "    </tr>\n",
              "    <tr>\n",
              "      <th>2</th>\n",
              "      <td>8.0</td>\n",
              "      <td>183.0</td>\n",
              "      <td>64.0</td>\n",
              "      <td>29.0</td>\n",
              "      <td>269.968908</td>\n",
              "      <td>23.3</td>\n",
              "      <td>0.672</td>\n",
              "      <td>32.0</td>\n",
              "      <td>1</td>\n",
              "    </tr>\n",
              "    <tr>\n",
              "      <th>3</th>\n",
              "      <td>1.0</td>\n",
              "      <td>89.0</td>\n",
              "      <td>66.0</td>\n",
              "      <td>23.0</td>\n",
              "      <td>94.000000</td>\n",
              "      <td>28.1</td>\n",
              "      <td>0.167</td>\n",
              "      <td>21.0</td>\n",
              "      <td>0</td>\n",
              "    </tr>\n",
              "    <tr>\n",
              "      <th>4</th>\n",
              "      <td>0.0</td>\n",
              "      <td>137.0</td>\n",
              "      <td>40.0</td>\n",
              "      <td>35.0</td>\n",
              "      <td>168.000000</td>\n",
              "      <td>43.1</td>\n",
              "      <td>2.288</td>\n",
              "      <td>33.0</td>\n",
              "      <td>1</td>\n",
              "    </tr>\n",
              "  </tbody>\n",
              "</table>\n",
              "</div>"
            ],
            "text/plain": [
              "   Pregnancies  Glucose  BloodPressure  SkinThickness     Insulin   BMI  \\\n",
              "0          6.0    148.0           72.0           35.0  218.937760  33.6   \n",
              "1          1.0     85.0           66.0           29.0   70.189298  26.6   \n",
              "2          8.0    183.0           64.0           29.0  269.968908  23.3   \n",
              "3          1.0     89.0           66.0           23.0   94.000000  28.1   \n",
              "4          0.0    137.0           40.0           35.0  168.000000  43.1   \n",
              "\n",
              "   DiabetesPedigreeFunction   Age  Outcome  \n",
              "0                     0.627  50.0        1  \n",
              "1                     0.351  31.0        0  \n",
              "2                     0.672  32.0        1  \n",
              "3                     0.167  21.0        0  \n",
              "4                     2.288  33.0        1  "
            ]
          },
          "execution_count": 69,
          "metadata": {},
          "output_type": "execute_result"
        }
      ],
      "source": [
        "#load and read the diabetes_cleaned.csv file using pandas and print the head values\n",
        "dia_df =\n",
        "\n",
        "# print dia_df\n",
        "\n"
      ]
    },
    {
      "cell_type": "code",
      "execution_count": null,
      "metadata": {
        "id": "8VH4dimBMHQ6",
        "outputId": "8ff166ac-d214-42a4-ce8f-5001e407a27f"
      },
      "outputs": [
        {
          "data": {
            "text/html": [
              "<div>\n",
              "<style scoped>\n",
              "    .dataframe tbody tr th:only-of-type {\n",
              "        vertical-align: middle;\n",
              "    }\n",
              "\n",
              "    .dataframe tbody tr th {\n",
              "        vertical-align: top;\n",
              "    }\n",
              "\n",
              "    .dataframe thead th {\n",
              "        text-align: right;\n",
              "    }\n",
              "</style>\n",
              "<table border=\"1\" class=\"dataframe\">\n",
              "  <thead>\n",
              "    <tr style=\"text-align: right;\">\n",
              "      <th></th>\n",
              "      <th>Pregnancies</th>\n",
              "      <th>Glucose</th>\n",
              "      <th>BloodPressure</th>\n",
              "      <th>SkinThickness</th>\n",
              "      <th>Insulin</th>\n",
              "      <th>BMI</th>\n",
              "      <th>DiabetesPedigreeFunction</th>\n",
              "      <th>Age</th>\n",
              "      <th>Outcome</th>\n",
              "    </tr>\n",
              "  </thead>\n",
              "  <tbody>\n",
              "    <tr>\n",
              "      <th>count</th>\n",
              "      <td>768.000000</td>\n",
              "      <td>768.000000</td>\n",
              "      <td>768.000000</td>\n",
              "      <td>768.000000</td>\n",
              "      <td>768.000000</td>\n",
              "      <td>768.000000</td>\n",
              "      <td>768.000000</td>\n",
              "      <td>768.000000</td>\n",
              "      <td>768.000000</td>\n",
              "    </tr>\n",
              "    <tr>\n",
              "      <th>mean</th>\n",
              "      <td>3.845052</td>\n",
              "      <td>121.539062</td>\n",
              "      <td>72.405184</td>\n",
              "      <td>29.108073</td>\n",
              "      <td>152.222767</td>\n",
              "      <td>32.307682</td>\n",
              "      <td>0.471876</td>\n",
              "      <td>33.240885</td>\n",
              "      <td>0.348958</td>\n",
              "    </tr>\n",
              "    <tr>\n",
              "      <th>std</th>\n",
              "      <td>3.369578</td>\n",
              "      <td>30.490660</td>\n",
              "      <td>12.096346</td>\n",
              "      <td>8.791221</td>\n",
              "      <td>97.387162</td>\n",
              "      <td>6.986674</td>\n",
              "      <td>0.331329</td>\n",
              "      <td>11.760232</td>\n",
              "      <td>0.476951</td>\n",
              "    </tr>\n",
              "    <tr>\n",
              "      <th>min</th>\n",
              "      <td>0.000000</td>\n",
              "      <td>44.000000</td>\n",
              "      <td>24.000000</td>\n",
              "      <td>7.000000</td>\n",
              "      <td>-17.757186</td>\n",
              "      <td>18.200000</td>\n",
              "      <td>0.078000</td>\n",
              "      <td>21.000000</td>\n",
              "      <td>0.000000</td>\n",
              "    </tr>\n",
              "    <tr>\n",
              "      <th>25%</th>\n",
              "      <td>1.000000</td>\n",
              "      <td>99.000000</td>\n",
              "      <td>64.000000</td>\n",
              "      <td>25.000000</td>\n",
              "      <td>89.647494</td>\n",
              "      <td>27.300000</td>\n",
              "      <td>0.243750</td>\n",
              "      <td>24.000000</td>\n",
              "      <td>0.000000</td>\n",
              "    </tr>\n",
              "    <tr>\n",
              "      <th>50%</th>\n",
              "      <td>3.000000</td>\n",
              "      <td>117.000000</td>\n",
              "      <td>72.202592</td>\n",
              "      <td>29.000000</td>\n",
              "      <td>130.000000</td>\n",
              "      <td>32.000000</td>\n",
              "      <td>0.372500</td>\n",
              "      <td>29.000000</td>\n",
              "      <td>0.000000</td>\n",
              "    </tr>\n",
              "    <tr>\n",
              "      <th>75%</th>\n",
              "      <td>6.000000</td>\n",
              "      <td>140.250000</td>\n",
              "      <td>80.000000</td>\n",
              "      <td>32.000000</td>\n",
              "      <td>188.448695</td>\n",
              "      <td>36.600000</td>\n",
              "      <td>0.626250</td>\n",
              "      <td>41.000000</td>\n",
              "      <td>1.000000</td>\n",
              "    </tr>\n",
              "    <tr>\n",
              "      <th>max</th>\n",
              "      <td>17.000000</td>\n",
              "      <td>199.000000</td>\n",
              "      <td>122.000000</td>\n",
              "      <td>99.000000</td>\n",
              "      <td>846.000000</td>\n",
              "      <td>67.100000</td>\n",
              "      <td>2.420000</td>\n",
              "      <td>81.000000</td>\n",
              "      <td>1.000000</td>\n",
              "    </tr>\n",
              "  </tbody>\n",
              "</table>\n",
              "</div>"
            ],
            "text/plain": [
              "       Pregnancies     Glucose  BloodPressure  SkinThickness     Insulin  \\\n",
              "count   768.000000  768.000000     768.000000     768.000000  768.000000   \n",
              "mean      3.845052  121.539062      72.405184      29.108073  152.222767   \n",
              "std       3.369578   30.490660      12.096346       8.791221   97.387162   \n",
              "min       0.000000   44.000000      24.000000       7.000000  -17.757186   \n",
              "25%       1.000000   99.000000      64.000000      25.000000   89.647494   \n",
              "50%       3.000000  117.000000      72.202592      29.000000  130.000000   \n",
              "75%       6.000000  140.250000      80.000000      32.000000  188.448695   \n",
              "max      17.000000  199.000000     122.000000      99.000000  846.000000   \n",
              "\n",
              "              BMI  DiabetesPedigreeFunction         Age     Outcome  \n",
              "count  768.000000                768.000000  768.000000  768.000000  \n",
              "mean    32.307682                  0.471876   33.240885    0.348958  \n",
              "std      6.986674                  0.331329   11.760232    0.476951  \n",
              "min     18.200000                  0.078000   21.000000    0.000000  \n",
              "25%     27.300000                  0.243750   24.000000    0.000000  \n",
              "50%     32.000000                  0.372500   29.000000    0.000000  \n",
              "75%     36.600000                  0.626250   41.000000    1.000000  \n",
              "max     67.100000                  2.420000   81.000000    1.000000  "
            ]
          },
          "execution_count": 70,
          "metadata": {},
          "output_type": "execute_result"
        }
      ],
      "source": [
        "# describe the dataframe using .describe()\n",
        "\n"
      ]
    },
    {
      "cell_type": "markdown",
      "metadata": {
        "id": "3l7IF5QMMHQ7"
      },
      "source": [
        "As we can see range of these features are very different that means they all are in different scales so lets standardize the features using sklearn's scale function.\n",
        "\n",
        "reference doc: https://scikit-learn.org/stable/modules/generated/sklearn.preprocessing.scale.html"
      ]
    },
    {
      "cell_type": "code",
      "execution_count": null,
      "metadata": {
        "id": "MoFF4ya6MHQ8"
      },
      "outputs": [],
      "source": [
        "# import preprocessing\n",
        "from sklearn import preprocessing\n",
        "\n",
        "#iterate over all features in dia_df and scale\n",
        "\n",
        "for i in dia_df:\n",
        "    dia_df[[i]]= # code here"
      ]
    },
    {
      "cell_type": "code",
      "execution_count": null,
      "metadata": {
        "id": "dmUsZhOUMHQ8",
        "outputId": "e0069998-7a9f-451a-c145-7b1e273c39fc"
      },
      "outputs": [
        {
          "data": {
            "text/html": [
              "<div>\n",
              "<style scoped>\n",
              "    .dataframe tbody tr th:only-of-type {\n",
              "        vertical-align: middle;\n",
              "    }\n",
              "\n",
              "    .dataframe tbody tr th {\n",
              "        vertical-align: top;\n",
              "    }\n",
              "\n",
              "    .dataframe thead th {\n",
              "        text-align: right;\n",
              "    }\n",
              "</style>\n",
              "<table border=\"1\" class=\"dataframe\">\n",
              "  <thead>\n",
              "    <tr style=\"text-align: right;\">\n",
              "      <th></th>\n",
              "      <th>Pregnancies</th>\n",
              "      <th>Glucose</th>\n",
              "      <th>BloodPressure</th>\n",
              "      <th>SkinThickness</th>\n",
              "      <th>Insulin</th>\n",
              "      <th>BMI</th>\n",
              "      <th>DiabetesPedigreeFunction</th>\n",
              "      <th>Age</th>\n",
              "      <th>Outcome</th>\n",
              "    </tr>\n",
              "  </thead>\n",
              "  <tbody>\n",
              "    <tr>\n",
              "      <th>count</th>\n",
              "      <td>7.680000e+02</td>\n",
              "      <td>7.680000e+02</td>\n",
              "      <td>7.680000e+02</td>\n",
              "      <td>7.680000e+02</td>\n",
              "      <td>7.680000e+02</td>\n",
              "      <td>7.680000e+02</td>\n",
              "      <td>7.680000e+02</td>\n",
              "      <td>7.680000e+02</td>\n",
              "      <td>7.680000e+02</td>\n",
              "    </tr>\n",
              "    <tr>\n",
              "      <th>mean</th>\n",
              "      <td>6.013708e-17</td>\n",
              "      <td>-7.517135e-18</td>\n",
              "      <td>1.163710e-17</td>\n",
              "      <td>-2.352719e-17</td>\n",
              "      <td>-4.192248e-18</td>\n",
              "      <td>8.745898e-18</td>\n",
              "      <td>3.715199e-17</td>\n",
              "      <td>-9.107298e-18</td>\n",
              "      <td>2.353442e-16</td>\n",
              "    </tr>\n",
              "    <tr>\n",
              "      <th>std</th>\n",
              "      <td>1.000652e+00</td>\n",
              "      <td>1.000652e+00</td>\n",
              "      <td>1.000652e+00</td>\n",
              "      <td>1.000652e+00</td>\n",
              "      <td>1.000652e+00</td>\n",
              "      <td>1.000652e+00</td>\n",
              "      <td>1.000652e+00</td>\n",
              "      <td>1.000652e+00</td>\n",
              "      <td>1.000652e+00</td>\n",
              "    </tr>\n",
              "    <tr>\n",
              "      <th>min</th>\n",
              "      <td>-1.141852e+00</td>\n",
              "      <td>-2.544700e+00</td>\n",
              "      <td>-4.004245e+00</td>\n",
              "      <td>-2.516429e+00</td>\n",
              "      <td>-1.746542e+00</td>\n",
              "      <td>-2.020543e+00</td>\n",
              "      <td>-1.189553e+00</td>\n",
              "      <td>-1.041549e+00</td>\n",
              "      <td>-7.321202e-01</td>\n",
              "    </tr>\n",
              "    <tr>\n",
              "      <th>25%</th>\n",
              "      <td>-8.448851e-01</td>\n",
              "      <td>-7.396938e-01</td>\n",
              "      <td>-6.953060e-01</td>\n",
              "      <td>-4.675972e-01</td>\n",
              "      <td>-6.429600e-01</td>\n",
              "      <td>-7.172147e-01</td>\n",
              "      <td>-6.889685e-01</td>\n",
              "      <td>-7.862862e-01</td>\n",
              "      <td>-7.321202e-01</td>\n",
              "    </tr>\n",
              "    <tr>\n",
              "      <th>50%</th>\n",
              "      <td>-2.509521e-01</td>\n",
              "      <td>-1.489643e-01</td>\n",
              "      <td>-1.675912e-02</td>\n",
              "      <td>-1.230129e-02</td>\n",
              "      <td>-2.283386e-01</td>\n",
              "      <td>-4.406715e-02</td>\n",
              "      <td>-3.001282e-01</td>\n",
              "      <td>-3.608474e-01</td>\n",
              "      <td>-7.321202e-01</td>\n",
              "    </tr>\n",
              "    <tr>\n",
              "      <th>75%</th>\n",
              "      <td>6.399473e-01</td>\n",
              "      <td>6.140612e-01</td>\n",
              "      <td>6.282695e-01</td>\n",
              "      <td>3.291706e-01</td>\n",
              "      <td>3.722209e-01</td>\n",
              "      <td>6.147581e-01</td>\n",
              "      <td>4.662269e-01</td>\n",
              "      <td>6.602056e-01</td>\n",
              "      <td>1.365896e+00</td>\n",
              "    </tr>\n",
              "    <tr>\n",
              "      <th>max</th>\n",
              "      <td>3.906578e+00</td>\n",
              "      <td>2.542136e+00</td>\n",
              "      <td>4.102655e+00</td>\n",
              "      <td>7.955377e+00</td>\n",
              "      <td>7.128551e+00</td>\n",
              "      <td>4.983056e+00</td>\n",
              "      <td>5.883565e+00</td>\n",
              "      <td>4.063716e+00</td>\n",
              "      <td>1.365896e+00</td>\n",
              "    </tr>\n",
              "  </tbody>\n",
              "</table>\n",
              "</div>"
            ],
            "text/plain": [
              "        Pregnancies       Glucose  BloodPressure  SkinThickness       Insulin  \\\n",
              "count  7.680000e+02  7.680000e+02   7.680000e+02   7.680000e+02  7.680000e+02   \n",
              "mean   6.013708e-17 -7.517135e-18   1.163710e-17  -2.352719e-17 -4.192248e-18   \n",
              "std    1.000652e+00  1.000652e+00   1.000652e+00   1.000652e+00  1.000652e+00   \n",
              "min   -1.141852e+00 -2.544700e+00  -4.004245e+00  -2.516429e+00 -1.746542e+00   \n",
              "25%   -8.448851e-01 -7.396938e-01  -6.953060e-01  -4.675972e-01 -6.429600e-01   \n",
              "50%   -2.509521e-01 -1.489643e-01  -1.675912e-02  -1.230129e-02 -2.283386e-01   \n",
              "75%    6.399473e-01  6.140612e-01   6.282695e-01   3.291706e-01  3.722209e-01   \n",
              "max    3.906578e+00  2.542136e+00   4.102655e+00   7.955377e+00  7.128551e+00   \n",
              "\n",
              "                BMI  DiabetesPedigreeFunction           Age       Outcome  \n",
              "count  7.680000e+02              7.680000e+02  7.680000e+02  7.680000e+02  \n",
              "mean   8.745898e-18              3.715199e-17 -9.107298e-18  2.353442e-16  \n",
              "std    1.000652e+00              1.000652e+00  1.000652e+00  1.000652e+00  \n",
              "min   -2.020543e+00             -1.189553e+00 -1.041549e+00 -7.321202e-01  \n",
              "25%   -7.172147e-01             -6.889685e-01 -7.862862e-01 -7.321202e-01  \n",
              "50%   -4.406715e-02             -3.001282e-01 -3.608474e-01 -7.321202e-01  \n",
              "75%    6.147581e-01              4.662269e-01  6.602056e-01  1.365896e+00  \n",
              "max    4.983056e+00              5.883565e+00  4.063716e+00  1.365896e+00  "
            ]
          },
          "execution_count": 76,
          "metadata": {},
          "output_type": "execute_result"
        }
      ],
      "source": [
        "# describe dataframe using .describe()\n",
        "\n"
      ]
    },
    {
      "cell_type": "code",
      "execution_count": null,
      "metadata": {
        "id": "9nf5wTgtMHQ9"
      },
      "outputs": [],
      "source": [
        "# import train_test_split\n",
        "\n"
      ]
    },
    {
      "cell_type": "code",
      "execution_count": null,
      "metadata": {
        "id": "UHCDNivaMHQ-"
      },
      "outputs": [],
      "source": [
        "#import variance inflation factor \n",
        "\n"
      ]
    },
    {
      "cell_type": "code",
      "execution_count": null,
      "metadata": {
        "id": "RueZuvBkMHQ_"
      },
      "outputs": [],
      "source": [
        "# assign features to X and target to Y by analyzing which columns to be dropped and which is to be considered as target\n",
        "X = \n",
        "Y =\n",
        "\n",
        "\n",
        "\n",
        "# split the data to test and train with test_size=0.2\n",
        "x_train,x_test,y_train,y_test = \n"
      ]
    },
    {
      "cell_type": "code",
      "execution_count": null,
      "metadata": {
        "id": "tzCpnRfyMHQ_"
      },
      "outputs": [],
      "source": [
        "#assign an empty dataframe to variable vif\n",
        "vif =\n",
        "\n",
        "# make a new column 'VIF Factor' in vif dataframe and calculate the variance_inflation_factor for each X \n",
        "vif['VIF Factor'] = \n"
      ]
    },
    {
      "cell_type": "code",
      "execution_count": null,
      "metadata": {
        "id": "7InWjMbjMHRA"
      },
      "outputs": [],
      "source": [
        "# define vif['Features'] with columns names in X\n",
        "\n"
      ]
    },
    {
      "cell_type": "code",
      "execution_count": null,
      "metadata": {
        "id": "_E0_gizIMHRJ",
        "outputId": "88de3ff6-5b49-4209-aeb6-b168332d5a67"
      },
      "outputs": [
        {
          "data": {
            "text/html": [
              "<div>\n",
              "<style scoped>\n",
              "    .dataframe tbody tr th:only-of-type {\n",
              "        vertical-align: middle;\n",
              "    }\n",
              "\n",
              "    .dataframe tbody tr th {\n",
              "        vertical-align: top;\n",
              "    }\n",
              "\n",
              "    .dataframe thead th {\n",
              "        text-align: right;\n",
              "    }\n",
              "</style>\n",
              "<table border=\"1\" class=\"dataframe\">\n",
              "  <thead>\n",
              "    <tr style=\"text-align: right;\">\n",
              "      <th></th>\n",
              "      <th>VIF Factor</th>\n",
              "      <th>Features</th>\n",
              "    </tr>\n",
              "  </thead>\n",
              "  <tbody>\n",
              "    <tr>\n",
              "      <th>0</th>\n",
              "      <td>1.43</td>\n",
              "      <td>Pregnancies</td>\n",
              "    </tr>\n",
              "    <tr>\n",
              "      <th>1</th>\n",
              "      <td>2.07</td>\n",
              "      <td>Glucose</td>\n",
              "    </tr>\n",
              "    <tr>\n",
              "      <th>2</th>\n",
              "      <td>1.24</td>\n",
              "      <td>BloodPressure</td>\n",
              "    </tr>\n",
              "    <tr>\n",
              "      <th>3</th>\n",
              "      <td>1.43</td>\n",
              "      <td>SkinThickness</td>\n",
              "    </tr>\n",
              "    <tr>\n",
              "      <th>4</th>\n",
              "      <td>2.04</td>\n",
              "      <td>Insulin</td>\n",
              "    </tr>\n",
              "    <tr>\n",
              "      <th>5</th>\n",
              "      <td>1.58</td>\n",
              "      <td>BMI</td>\n",
              "    </tr>\n",
              "    <tr>\n",
              "      <th>6</th>\n",
              "      <td>1.05</td>\n",
              "      <td>DiabetesPedigreeFunction</td>\n",
              "    </tr>\n",
              "    <tr>\n",
              "      <th>7</th>\n",
              "      <td>1.62</td>\n",
              "      <td>Age</td>\n",
              "    </tr>\n",
              "  </tbody>\n",
              "</table>\n",
              "</div>"
            ],
            "text/plain": [
              "   VIF Factor                  Features\n",
              "0        1.43               Pregnancies\n",
              "1        2.07                   Glucose\n",
              "2        1.24             BloodPressure\n",
              "3        1.43             SkinThickness\n",
              "4        2.04                   Insulin\n",
              "5        1.58                       BMI\n",
              "6        1.05  DiabetesPedigreeFunction\n",
              "7        1.62                       Age"
            ]
          },
          "execution_count": 82,
          "metadata": {},
          "output_type": "execute_result"
        }
      ],
      "source": [
        "#  round off all the decimal values in the dataframe to 2 decimal places for VIF dataframe\n",
        "\n",
        "\n"
      ]
    },
    {
      "cell_type": "markdown",
      "metadata": {
        "id": "LMkhXJKEMHRK"
      },
      "source": [
        "* VIF = 1: Not correlated\n",
        "* VIF =1-5: Moderately correlated\n",
        "* VIF >5: Highly correlated\n",
        "\n",
        "Glucose, Insulin, and Age are having large VIF scores, so lets drop it.\n",
        "\n"
      ]
    },
    {
      "cell_type": "code",
      "execution_count": null,
      "metadata": {
        "id": "aFENoS7rMHRL"
      },
      "outputs": [],
      "source": [
        "# according to above observation , drop  'Glucose', 'Insulin' and 'Age' from X\n",
        "X = \n",
        "\n"
      ]
    },
    {
      "cell_type": "markdown",
      "metadata": {
        "id": "d0HdIEf-MHRL"
      },
      "source": [
        "Now again we calculate the VIF for the rest of the features\n",
        "\n",
        "Again repeat the previous steps to assign an empty dataframe() to vif and make a new column 'VIF Factor' and calculate the variance_inflation_factorfor each X \n"
      ]
    },
    {
      "cell_type": "code",
      "execution_count": null,
      "metadata": {
        "id": "_JLBA6mpMHRM"
      },
      "outputs": [],
      "source": [
        "# create an empty df\n",
        "vif =\n",
        "\n",
        "# make a new column 'VIF Factor' and calculate the variance_inflation_factorfor each X\n",
        "vif['VIF Factor'] = \n",
        "\n",
        "\n"
      ]
    },
    {
      "cell_type": "code",
      "execution_count": null,
      "metadata": {
        "id": "ACdYaQNbMHRN",
        "outputId": "98c45cc8-28ef-4b97-aade-37ed9400be77"
      },
      "outputs": [
        {
          "data": {
            "text/html": [
              "<div>\n",
              "<style scoped>\n",
              "    .dataframe tbody tr th:only-of-type {\n",
              "        vertical-align: middle;\n",
              "    }\n",
              "\n",
              "    .dataframe tbody tr th {\n",
              "        vertical-align: top;\n",
              "    }\n",
              "\n",
              "    .dataframe thead th {\n",
              "        text-align: right;\n",
              "    }\n",
              "</style>\n",
              "<table border=\"1\" class=\"dataframe\">\n",
              "  <thead>\n",
              "    <tr style=\"text-align: right;\">\n",
              "      <th></th>\n",
              "      <th>VIF Factor</th>\n",
              "      <th>Features</th>\n",
              "    </tr>\n",
              "  </thead>\n",
              "  <tbody>\n",
              "    <tr>\n",
              "      <th>0</th>\n",
              "      <td>1.05</td>\n",
              "      <td>Pregnancies</td>\n",
              "    </tr>\n",
              "    <tr>\n",
              "      <th>1</th>\n",
              "      <td>1.13</td>\n",
              "      <td>BloodPressure</td>\n",
              "    </tr>\n",
              "    <tr>\n",
              "      <th>2</th>\n",
              "      <td>1.42</td>\n",
              "      <td>SkinThickness</td>\n",
              "    </tr>\n",
              "    <tr>\n",
              "      <th>3</th>\n",
              "      <td>1.50</td>\n",
              "      <td>BMI</td>\n",
              "    </tr>\n",
              "    <tr>\n",
              "      <th>4</th>\n",
              "      <td>1.03</td>\n",
              "      <td>DiabetesPedigreeFunction</td>\n",
              "    </tr>\n",
              "  </tbody>\n",
              "</table>\n",
              "</div>"
            ],
            "text/plain": [
              "   VIF Factor                  Features\n",
              "0        1.05               Pregnancies\n",
              "1        1.13             BloodPressure\n",
              "2        1.42             SkinThickness\n",
              "3        1.50                       BMI\n",
              "4        1.03  DiabetesPedigreeFunction"
            ]
          },
          "execution_count": 85,
          "metadata": {},
          "output_type": "execute_result"
        }
      ],
      "source": [
        "#define vif['Features'] as columns of X and return vif with round off to 2 decimal places\n",
        "vif['Features'] = \n",
        "vif['Features'] = \n",
        "\n",
        "# round up to 2 \n",
        "vif.round(2)"
      ]
    },
    {
      "cell_type": "markdown",
      "metadata": {
        "id": "y_CdpWIJMHRN"
      },
      "source": [
        "So now colinearity of features has been reduced using VIF."
      ]
    },
    {
      "cell_type": "markdown",
      "metadata": {
        "id": "61l5v_ZwMHRO"
      },
      "source": [
        "\n",
        "The need to fix multicollinearity depends primarily on the below reasons:\n",
        "---\n",
        "\n",
        "1. When you care more about how much each individual feature rather than a group of features affects the target variable, then removing multicollinearity may be a good option\n",
        "\n",
        "2. If multicollinearity is not present in the features you are interested in, then multicollinearity may not be a problem."
      ]
    },
    {
      "cell_type": "markdown",
      "metadata": {
        "id": "G04Y2du3xCVK"
      },
      "source": [
        "## **`Summary:`**\n",
        "\n",
        "1. In the feature selection assignment, we learnt the methods which we use to find best features i.e. filter methods, wrapper methods and embedded methods.\n",
        "\n",
        "2. In the filter methods, we learnt Chi2 test, Anova test, variance threshold and missing value ratio threshold.\n",
        "\n",
        "3. In the wrapper method, we learnt forward selection, backward elimination and recursive feature elimination techniques.\n",
        "\n",
        "4. In the embedded method, we create subsets of features and choose the best subset to train the model."
      ]
    },
    {
      "cell_type": "markdown",
      "metadata": {
        "id": "rBxfVL6U13wa"
      },
      "source": [
        "## **`Conclusion:`**\n",
        "Feature selection is a very important step in the construction of Machine Learning models. <br>\n",
        "\n",
        "It can speed up training time, make our models simpler, easier to debug, and reduce the time to market of Machine Learning products. "
      ]
    },
    {
      "cell_type": "markdown",
      "metadata": {
        "id": "Lqet-w8dMHRO"
      },
      "source": [
        "------------------------------\n",
        "\n",
        "# Hip Hip Hurray! Congratulations you have completed the 7th assignment too! Very well done.\n",
        "\n",
        "-------------------------------------"
      ]
    },
    {
      "cell_type": "markdown",
      "metadata": {
        "id": "TPECQHqGMHRP"
      },
      "source": [
        "# Its Feedback Time!\n",
        "\n",
        "We hope you’ve enjoyed this course so far. We’re committed to help you use \"AI for All\" course to its full potential, so that you have a great learning experience. And that’s why we need your help in form of a feedback here.\n",
        "\n",
        "\n",
        "---\n",
        "**Please fill this feedback form**<br>\n",
        "\n",
        "https://forms.gle/VfxaKpjnmim8m4Yv8"
      ]
    },
    {
      "cell_type": "markdown",
      "metadata": {
        "id": "nrq60SOuMHRP"
      },
      "source": [
        "------------------------------"
      ]
    }
  ],
  "metadata": {
    "colab": {
      "collapsed_sections": [],
      "provenance": []
    },
    "kernelspec": {
      "display_name": "Python 3",
      "language": "python",
      "name": "python3"
    },
    "language_info": {
      "codemirror_mode": {
        "name": "ipython",
        "version": 3
      },
      "file_extension": ".py",
      "mimetype": "text/x-python",
      "name": "python",
      "nbconvert_exporter": "python",
      "pygments_lexer": "ipython3",
      "version": "3.11.4"
    }
  },
  "nbformat": 4,
  "nbformat_minor": 0
}
