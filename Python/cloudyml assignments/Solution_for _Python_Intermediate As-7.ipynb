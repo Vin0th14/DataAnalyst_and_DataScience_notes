{
  "cells": [
    {
      "cell_type": "markdown",
      "metadata": {
        "id": "4GtRwPajWtgH"
      },
      "source": [
        "# <center><u> Python-Intermediate </u></center>\n"
      ]
    },
    {
      "cell_type": "markdown",
      "metadata": {
        "id": "qnfR62KaWtgM"
      },
      "source": [
        "Here you can start digging into our intermediate-level programming questions that will teach you new Python concepts. This category is for intermediate Python developers who already know the basics of Python development and want to expand their knowledge.\n",
        "\n",
        "\n",
        "\n",
        "Becoming a Python expert takes time, but over time you’ll master this beautiful programming language. It’s worth it! \n",
        "\n",
        "\n",
        "So lets get started!"
      ]
    },
    {
      "cell_type": "markdown",
      "metadata": {
        "id": "aKVNKhLP9W8E"
      },
      "source": [
        "## **`WATCH VIDEOS IN THE PORTAL`**"
      ]
    },
    {
      "cell_type": "markdown",
      "metadata": {
        "id": "3ay5QkyG9Ay2"
      },
      "source": [
        "### **`Watch Video 15: Python Intermediate Tutorial`**"
      ]
    },
    {
      "cell_type": "markdown",
      "metadata": {
        "id": "hBV6jA72WtgM"
      },
      "source": [
        "1.Lets remove duplicates from list names=['A','B','C','A','D','E','F','G','H','E','D']\n",
        "\n"
      ]
    },
    {
      "cell_type": "code",
      "execution_count": 26,
      "metadata": {
        "id": "A32nJBGHWtgN",
        "outputId": "12f6a820-828c-4f16-a258-03db3728ec18"
      },
      "outputs": [
        {
          "data": {
            "text/plain": [
              "['A', 'B', 'C', 'D', 'E', 'F', 'G', 'H']"
            ]
          },
          "execution_count": 26,
          "metadata": {},
          "output_type": "execute_result"
        }
      ],
      "source": [
        "list1=['A','B','C','A','D','E','F','G','H','E','D']\n",
        "list1=list(set(list1))\n",
        "list1.sort()\n",
        "list1\n",
        "\n"
      ]
    },
    {
      "cell_type": "markdown",
      "metadata": {
        "id": "3vs-MwqhWtgO"
      },
      "source": [
        "2. Good! Shall we try solving above problem in shhorter way using list comprehention? It will be amazing. Here we go!\n"
      ]
    },
    {
      "cell_type": "code",
      "execution_count": 27,
      "metadata": {
        "id": "ngy_ypU2WtgP",
        "outputId": "1bd12296-1677-4f28-d444-0e707f1be6a3"
      },
      "outputs": [
        {
          "name": "stdout",
          "output_type": "stream",
          "text": [
            "['A', 'B', 'C', 'D', 'E', 'F', 'G', 'H']\n"
          ]
        }
      ],
      "source": [
        "lst=[]\n",
        "list1=['A','B','C','A','D','E','F','G','H','E','D']\n",
        "[lst.append(element) for element in list1 if element not in lst]\n",
        "print(lst)\n"
      ]
    },
    {
      "cell_type": "markdown",
      "metadata": {
        "id": "kuBGT9n5WtgP"
      },
      "source": [
        "3. define a funtion 'occurence' which takes 2 inputs, one list 'lst' and another one a number 'n' and count the number of occurrences of n in your list lst."
      ]
    },
    {
      "cell_type": "code",
      "execution_count": 28,
      "metadata": {
        "id": "W8SL5qfUWtgQ",
        "outputId": "1edf5081-4a50-4857-f1e6-05ad8ea4d4b5"
      },
      "outputs": [
        {
          "name": "stdout",
          "output_type": "stream",
          "text": [
            "4\n"
          ]
        }
      ],
      "source": [
        "#your code\n",
        "def occurence(a,b):\n",
        "    lst=a\n",
        "    num=b\n",
        "    count=0\n",
        "    for i in lst:\n",
        "        if i==num:\n",
        "            count+=1\n",
        "    print(count)\n",
        "\n",
        " \n",
        "#lets use your function\n",
        "occurence([2,3,4,8,1,3,5,2,1,3,1,2,2], 2)"
      ]
    },
    {
      "cell_type": "markdown",
      "metadata": {
        "id": "vzaaHEIwWtgQ"
      },
      "source": [
        "4. Calculate factorial of a number ( Here number=3) using while loop"
      ]
    },
    {
      "cell_type": "code",
      "execution_count": 29,
      "metadata": {
        "id": "3zjPibDmWtgR",
        "outputId": "ede6a1c7-bf80-4923-85da-2d680f5e34a2"
      },
      "outputs": [
        {
          "name": "stdout",
          "output_type": "stream",
          "text": [
            "6\n"
          ]
        }
      ],
      "source": [
        "number = 3\n",
        "i=1\n",
        "while number>0:\n",
        "    i=i*number\n",
        "    number-=1\n",
        "print(i)\n",
        "\n",
        "\n",
        "\n",
        "\n",
        "\n"
      ]
    },
    {
      "cell_type": "markdown",
      "metadata": {
        "id": "8d4D4cJpWtgR"
      },
      "source": [
        "5. Reverse a given integer number num = 47594038222 and display the count of total number of digits in your revered number using while loop."
      ]
    },
    {
      "cell_type": "code",
      "execution_count": 30,
      "metadata": {
        "id": "L5Vs4xTtWtgR",
        "outputId": "0ab87e7c-17d5-45d2-8509-9c5295fa3c62"
      },
      "outputs": [
        {
          "name": "stdout",
          "output_type": "stream",
          "text": [
            "22283049574\n"
          ]
        }
      ],
      "source": [
        "#code here\n",
        "\n",
        "n=47594038222\n",
        "rev=0\n",
        "while (n>0):\n",
        "    a=n%10\n",
        "    rev=rev*10+a\n",
        "    n=n//10\n",
        "print(rev)\n",
        "\n"
      ]
    },
    {
      "cell_type": "markdown",
      "metadata": {
        "id": "9qtxFvU2WtgR"
      },
      "source": [
        "6. Can you reverse you given num without using loop in just one line?\n",
        "\n",
        "Hint: apply some slicing trick to do it."
      ]
    },
    {
      "cell_type": "code",
      "execution_count": 31,
      "metadata": {
        "id": "p1eS62ecWtgS",
        "outputId": "f78f5888-362f-4e9c-da11-2071f635414b"
      },
      "outputs": [
        {
          "name": "stdout",
          "output_type": "stream",
          "text": [
            "22283049574\n"
          ]
        }
      ],
      "source": [
        "num = 47594038222\n",
        "\n",
        "print(str(num)[::-1])\n",
        "\n",
        "\n"
      ]
    },
    {
      "cell_type": "markdown",
      "metadata": {
        "id": "hurM8KcSWtgS"
      },
      "source": [
        "7. Write a function that checks whether a given sequence of number is IP address or not and print all valid possible IP from a given digit. If not an IP then it prints empty list\n",
        "\n",
        "**Note:** According to Wikipedia, IPv4 addresses are canonically represented in dot-decimal notation, which consists of four decimal numbers, each ranging from 0 to 255, separated by dots, e.g., 172.16.254.1"
      ]
    },
    {
      "cell_type": "markdown",
      "metadata": {
        "id": "_7itjOoi9hII"
      },
      "source": [
        "### **`WATCH VIDEO 16: IP Address Problem`**"
      ]
    },
    {
      "cell_type": "code",
      "execution_count": 32,
      "metadata": {
        "id": "oNIW7VyFWtgS",
        "outputId": "0bce6af6-36bb-4a75-9c9d-13c7bd589291"
      },
      "outputs": [
        {
          "name": "stdout",
          "output_type": "stream",
          "text": [
            "['255.255.11.135', '255.255.111.35']\n",
            "[]\n"
          ]
        }
      ],
      "source": [
        "#Code here\n",
        "def is_valid(ip):\n",
        "    ip=ip.split('.')\n",
        "\n",
        "    for i in ip:\n",
        "        if (len(i)>3 and int(i)<0 or int(i)>255):\n",
        "            return False\n",
        "        if len(i)>1 and int(i)==0:\n",
        "            return False\n",
        "        if (len(i)>1 and int(i)!=0 and i[0]=='0'):\n",
        "            return False\n",
        "    return True\n",
        "def convert(s):\n",
        "    s2=len(s)\n",
        "    if s2>12:\n",
        "        return[]\n",
        "    snew=s\n",
        "    l=[]\n",
        "    for i in range(1,s2-2):\n",
        "        for j in range(i+1,s2-1):\n",
        "            for k in range(j+1,s2):\n",
        "                snew=snew[:k]+'.'+snew[k:]\n",
        "                snew=snew[:j]+'.'+snew[j:]\n",
        "                snew=snew[:i]+'.'+snew[i:]\n",
        "\n",
        "                if is_valid(snew):\n",
        "                    l.append(snew)\n",
        "\n",
        "                snew=s\n",
        "\n",
        "    return l \n",
        "# Check your code with below numbers    \n",
        "A = \"25525511135\"\n",
        "B = \"25505011536\"\n",
        " \n",
        "print(convert(A))\n",
        "print(convert(B))"
      ]
    },
    {
      "cell_type": "markdown",
      "metadata": {
        "id": "FukrdAXMWtgT"
      },
      "source": [
        "8. Solve the quadratic equation ax**2 + bx + c = 0 where a =4, b=6, c=2"
      ]
    },
    {
      "cell_type": "code",
      "execution_count": 33,
      "metadata": {
        "id": "wL1sWuYLWtgT",
        "outputId": "dc612942-4179-4f08-ff96-9ff8318109f3"
      },
      "outputs": [
        {
          "name": "stdout",
          "output_type": "stream",
          "text": [
            "The solution are -1.0 and -0.5\n"
          ]
        }
      ],
      "source": [
        "#code here\n",
        "import math\n",
        "a=4\n",
        "b=6\n",
        "c=2\n",
        "\n",
        "d=(b**2)-(4*a*c)\n",
        "\n",
        "sol1=(-b-math.sqrt(d))/(2*a)\n",
        "sol2=(-b+math.sqrt(d))/(2*a)\n",
        "\n",
        "print('The solution are {} and {}'.format(sol1,sol2))\n",
        "\n",
        "\n",
        "\n",
        "\n",
        "\n"
      ]
    },
    {
      "cell_type": "markdown",
      "metadata": {
        "id": "6vngA60DWtgT"
      },
      "source": [
        "9. Write a program to Remove Punctuations From a String \n",
        "\n",
        "s=\"Wow!!!, we are going ahead with our course to learn *machine learning* ---are'nt you excited? :)\""
      ]
    },
    {
      "cell_type": "code",
      "execution_count": 34,
      "metadata": {
        "id": "gvQfy5kQWtgT",
        "outputId": "377ba105-858a-47b6-b2a8-06035f840a89"
      },
      "outputs": [
        {
          "name": "stdout",
          "output_type": "stream",
          "text": [
            "Wow we are going ahead with our course to learn machine learning arent you excited \n"
          ]
        }
      ],
      "source": [
        "# code here\n",
        "punctuation='''`~!@#$%^&*-(){}[];:'\"<,>.?/'''\n",
        "\n",
        "s=\"Wow!!!, we are going ahead with our course to learn *machine learning* ---are'nt you excited? :)\"\n",
        "\n",
        "for char in s:\n",
        "    if char in punctuation:\n",
        "        s=s.replace(char,\"\")\n",
        "\n",
        "print(s)\n",
        "\n",
        "\n",
        "\n"
      ]
    },
    {
      "cell_type": "markdown",
      "metadata": {
        "id": "aCJgsvWKWtgU"
      },
      "source": [
        "10. Write a program which takes 2 digits, X,Y as input and generates a 2-dimensional array. The element value in the i-th row and j-th column of the array should be i*j.\n",
        "\n",
        "Note: i=0,1.., X-1; j=0,1,i^Y-1."
      ]
    },
    {
      "cell_type": "code",
      "execution_count": 35,
      "metadata": {
        "id": "BAh26WXlWtgU",
        "outputId": "64185e74-a436-4fe9-e519-0f43b5a9e1f2"
      },
      "outputs": [
        {
          "name": "stdout",
          "output_type": "stream",
          "text": [
            "[[0, 0, 0, 0], [0, 1, 2, 3], [0, 2, 4, 6]]\n"
          ]
        }
      ],
      "source": [
        "digit1=3\n",
        "digit2=4\n",
        "\n",
        "#code here\n",
        "multilist=[[0 for col in range(digit2)] for row in range(digit1)]\n",
        "for row in range(digit1):\n",
        "    for col in range(digit2):\n",
        "        multilist[row][col]=row*col\n",
        "\n",
        "print(multilist)\n",
        "\n",
        "\n",
        "\n",
        "\n"
      ]
    },
    {
      "cell_type": "markdown",
      "metadata": {
        "id": "sZrc0--VWtgV"
      },
      "source": [
        "11. For given string S and integers P and Q, which denotes the cost of removal of substrings “he” and “lo” respectively from S, the task is to find the maximum cost of removing all occurrences of substrings “he” and “lo”.\n",
        "\n",
        "example if S = “hellohellohellohellohello”, P = 6, Q = 4, then cost to remove 'he' and 'lo' is 50"
      ]
    },
    {
      "cell_type": "code",
      "execution_count": 36,
      "metadata": {
        "id": "79BMmuVHWtgV",
        "outputId": "92a03381-e5b5-4392-b026-ee2344e93477"
      },
      "outputs": [
        {
          "name": "stdout",
          "output_type": "stream",
          "text": [
            "30\n"
          ]
        }
      ],
      "source": [
        "\n",
        "def MaxCollection(S,P,Q):\n",
        "    maxstr=[i for i in ('he' if P>=Q else 'lo')]\n",
        "    minstr=[i for i in ('lo' if P>=Q else 'he')]\n",
        "    maxp=max(P,Q)\n",
        "    minp=min(P,Q)\n",
        "    cost = 0\n",
        "    stack1=[]\n",
        "    s=[i for i in S]\n",
        "\n",
        "    for ch in s:\n",
        "        if (len(stack1)>0 and (stack1[-1]==maxstr[0] and ch==maxstr[1])):\n",
        "            del stack1[-1]\n",
        "            cost+=maxp\n",
        "        else:\n",
        "            stack1.append(ch)\n",
        "\n",
        "    sb=''\n",
        "    while (len(stack1)>0):\n",
        "        sb+=stack1[-1]\n",
        "        del stack1[-1]\n",
        "\n",
        "    sb=sb[::-1]\n",
        "    remstr=sb\n",
        "\n",
        "    for ch in remstr:\n",
        "        if(len(stack1)>0 and (stack[-1]==minstr[0] and ch==minstr[1])):\n",
        "            del stack[-1]\n",
        "            cost+=minp\n",
        "\n",
        "    else:\n",
        "        stack1.append(ch)\n",
        "\n",
        "    return cost\n",
        "\n",
        "\n",
        "if __name__=='__main__':\n",
        "    S = \"hellohellohellohellohello\"\n",
        "\n",
        "    P = 6;\n",
        "    Q = 4;\n",
        "    \n",
        "    print(MaxCollection(S, P, Q))"
      ]
    },
    {
      "cell_type": "markdown",
      "metadata": {
        "id": "tElaaNPNWtgV"
      },
      "source": [
        "12. Given a binary string S , the task is to find the smallest string possible by removing all occurrences of substrings “01” and “11”. After removal of any substring, concatenate the remaining parts of the string.\n",
        "\n",
        "Example\n",
        "    \n",
        "    Input: S = “0010110”\n",
        "    Output: String = 0\n",
        "    \n",
        "    Explanation: String can be transformed by the following steps: \n",
        "    0010110 → 00110 → 010 → 0. \n",
        "    Since no occurrence of substrings 01 and 11 are remaining, the string “0” is of minimum possible length 1."
      ]
    },
    {
      "cell_type": "code",
      "execution_count": 37,
      "metadata": {
        "id": "i9OIbWhoWtgV",
        "outputId": "2bf8df68-e064-4645-e0ad-4bbeded53525"
      },
      "outputs": [
        {
          "name": "stdout",
          "output_type": "stream",
          "text": [
            "The final string is :  0\n",
            "The final string size is :  1\n"
          ]
        }
      ],
      "source": [
        "#code here\n",
        "def finalstring(s):\n",
        "    while len(s)>=2:\n",
        "        for i in range(len(s)):\n",
        "            if (s[i:i+2]=='01')|(s[i:i+2]=='11'):\n",
        "                s=s.replace((s[i:i+2]),\"\")\n",
        "    return s\n",
        "\n",
        "\n",
        "\n",
        "#check code here\n",
        "    \n",
        "s=\"0010110\"\n",
        "print('The final string is : ',finalstring(s))\n",
        "print('The final string size is : ',len(finalstring(s)))\n",
        "\n",
        "\n",
        "\n"
      ]
    },
    {
      "cell_type": "markdown",
      "metadata": {
        "id": "BYeCBfFUWtgV"
      },
      "source": [
        "13. Write a function such that it accepts two integers n, m as arguments Find the sum of all numbers in range from 1 to m(both inclusive) that are not divisible by n. Return difference between sum of integers not divisible by n with sum of numbers divisible by n\n",
        "\n",
        "Example\n",
        "\n",
        "    Input\n",
        "    n:4\n",
        "    m:20\n",
        "    Output\n",
        "    90"
      ]
    },
    {
      "cell_type": "code",
      "execution_count": 38,
      "metadata": {
        "id": "KgO9ShzPWtgV",
        "outputId": "a28e86fb-bf00-4182-84fe-432927211c79"
      },
      "outputs": [
        {
          "name": "stdout",
          "output_type": "stream",
          "text": [
            "60 and 150\n",
            "90\n"
          ]
        }
      ],
      "source": [
        "#code here\n",
        "n,m=4,20\n",
        "sum1=0\n",
        "sum2=0\n",
        "for i in range(1,m+1):\n",
        "    if i%n==0:\n",
        "        sum1+=i\n",
        "    else:\n",
        "        sum2+=i\n",
        "\n",
        "print(f'{sum1} and {sum2}')\n",
        "print(abs(sum2-sum1))\n",
        "\n",
        "\n"
      ]
    },
    {
      "cell_type": "markdown",
      "metadata": {
        "id": "GMjx2bfxWtgW"
      },
      "source": [
        "14. Write a function count_code that return the number of times that the string \"code\" appears anywhere in the given string, except we'll accept any letter for the 'd', so \"cope\" and \"cooe\" count.\n",
        "\n",
        "\n",
        "    count_code('aaacodebbb') → 1\n",
        "    count_code('codexxcode') → 2\n",
        "    count_code('cozexxcope') → 2"
      ]
    },
    {
      "cell_type": "code",
      "execution_count": 39,
      "metadata": {
        "id": "7G1E7BewWtgW",
        "outputId": "83135aa0-09a5-4bd0-bb2b-ede2b1863a11"
      },
      "outputs": [
        {
          "name": "stdout",
          "output_type": "stream",
          "text": [
            "1\n",
            "2\n",
            "2\n"
          ]
        }
      ],
      "source": [
        "#code here\n",
        "def count_code(s):\n",
        "    alphabet='abcdefghijklmnopqrstuvwxyz'\n",
        "    total=0\n",
        "    for letter in alphabet:\n",
        "        total+=s.count('co'+letter+'e')\n",
        "    return total\n",
        "\n",
        "\n",
        "\n",
        "\n",
        "#check your code \n",
        "print(count_code('aaacodebbb'))\n",
        "print(count_code('codexxcode'))\n",
        "print(count_code('cozexxcope'))\n"
      ]
    },
    {
      "cell_type": "markdown",
      "metadata": {
        "id": "wqFNSGkCWtgW"
      },
      "source": [
        "15. Lets have one moderate level question for you. \n",
        "\n",
        "Find the sum of the series 4 +44 + 444 + 4444 + .. n terms\n",
        "\n",
        "here keep n=5"
      ]
    },
    {
      "cell_type": "code",
      "execution_count": 40,
      "metadata": {
        "id": "U4qRCUQFWtgW",
        "outputId": "8ba89e1f-0955-4f45-bf14-37d265710241"
      },
      "outputs": [
        {
          "name": "stdout",
          "output_type": "stream",
          "text": [
            "4+44+444+4444\n"
          ]
        },
        {
          "data": {
            "text/plain": [
              "4936"
            ]
          },
          "execution_count": 40,
          "metadata": {},
          "output_type": "execute_result"
        }
      ],
      "source": [
        "#code here\n",
        "def degit(x):\n",
        "    lst=[str(x)*i for i in range(1,x+1)]\n",
        "    print('+'.join(lst))\n",
        "    return sum(map(int,lst))\n",
        "\n",
        "degit(4)\n",
        "\n",
        "\n"
      ]
    },
    {
      "cell_type": "markdown",
      "metadata": {
        "id": "XH_ocrNWWtgY"
      },
      "source": [
        "16. Assume s is a string of lower case characters.\n",
        "<br>\n",
        "Write a program that counts up the number of vowels contained in the string s. Valid vowels are: 'a', 'e', 'i', 'o', and 'u'. For example, if s = 'azcbobobegghakl', your program should print:<br>\n",
        "```Number of vowels: 5```"
      ]
    },
    {
      "cell_type": "code",
      "execution_count": 41,
      "metadata": {
        "id": "7uCQTExKWtgY",
        "outputId": "0072b79d-2e7d-43d8-fcc7-4a945ee59e87"
      },
      "outputs": [
        {
          "name": "stdout",
          "output_type": "stream",
          "text": [
            "Number of vowels : 5\n"
          ]
        }
      ],
      "source": [
        "#code here\n",
        "s='azcbobobegghakl'\n",
        "count=0\n",
        "vowels=list('aeiou')\n",
        "for i in s:\n",
        "    if i in vowels:\n",
        "        count+=1\n",
        "\n",
        "print(\"Number of vowels :\",count)\n",
        "\n",
        "\n",
        "\n"
      ]
    },
    {
      "cell_type": "markdown",
      "metadata": {
        "id": "ENqZvqo0WtgY"
      },
      "source": [
        "17. well done. Now we want you to solve above question in just one line. have faith in your, you can do it. "
      ]
    },
    {
      "cell_type": "code",
      "execution_count": 42,
      "metadata": {
        "id": "SQaBwDqNWtgY",
        "outputId": "83c9d20a-e738-463b-ea9f-04753ccfded6"
      },
      "outputs": [
        {
          "data": {
            "text/plain": [
              "5"
            ]
          },
          "execution_count": 42,
          "metadata": {},
          "output_type": "execute_result"
        }
      ],
      "source": [
        "sum([1 for i in s if i in vowels])\n",
        "\n",
        "\n",
        "\n"
      ]
    },
    {
      "cell_type": "markdown",
      "metadata": {
        "id": "qGWdX37AWtgY"
      },
      "source": [
        "18. Assume s is a string of lower case characters.\n",
        "\n",
        "Write a program that prints the number of times the string 'bob' occurs in s. For example, if s = 'azcbobobegghakl', then your program should print\n",
        "\n",
        "```Number of times bob occurs is: 2```"
      ]
    },
    {
      "cell_type": "code",
      "execution_count": 43,
      "metadata": {
        "id": "BfY-AJBOWtgZ",
        "outputId": "99f40895-5738-4bb1-e561-41e6fc68c743"
      },
      "outputs": [
        {
          "data": {
            "text/plain": [
              "2"
            ]
          },
          "execution_count": 43,
          "metadata": {},
          "output_type": "execute_result"
        }
      ],
      "source": [
        "#code here\n",
        "\n",
        "from re import findall\n",
        "\n",
        "len(findall('(?=bob)',s))\n",
        "\n"
      ]
    },
    {
      "cell_type": "markdown",
      "metadata": {
        "id": "z7Phv1OxWtgZ"
      },
      "source": [
        "19. Assume s is a string of lower case characters.\n",
        "\n",
        "Write a program that prints the longest substring of s in which the letters occur in alphabetical order. For example, if s = 'azcbobobegghakl', then your program should print\n",
        "\n",
        "```Longest substring in alphabetical order is: beggh```<br><br>\n",
        "In the case of ties, print the first substring. For example, if s = 'abcbcd', then your program should print\n",
        "\n",
        "```Longest substring in alphabetical order is: abc```"
      ]
    },
    {
      "cell_type": "code",
      "execution_count": 44,
      "metadata": {
        "id": "v2UD_kZDWtgZ",
        "outputId": "26093eba-c07c-49be-eb04-4d4cdeb6ae6e"
      },
      "outputs": [
        {
          "name": "stdout",
          "output_type": "stream",
          "text": [
            "['a', 'z']\n",
            "[]\n",
            "['o']\n",
            "['o']\n",
            "['e', 'g', 'g', 'h']\n",
            "Final  ['k', 'l']\n"
          ]
        },
        {
          "data": {
            "text/plain": [
              "'eggh'"
            ]
          },
          "execution_count": 44,
          "metadata": {},
          "output_type": "execute_result"
        }
      ],
      "source": [
        "s = 'azcbobobegghakl'\n",
        "\n",
        "def alpha_substr(word):\n",
        "    current_sequence=[]\n",
        "    last_letter=''\n",
        "    for letter in word:\n",
        "        if letter>=last_letter:\n",
        "            current_sequence.append(letter)\n",
        "        else:\n",
        "            print(current_sequence)\n",
        "            yield''.join(current_sequence)\n",
        "            current_sequence=[]\n",
        "        last_letter=letter\n",
        "    print(\"Final \",current_sequence)\n",
        "    if current_sequence:\n",
        "        yield\"\".join(current_sequence)\n",
        "    \n",
        "def longest_substr_in_alp(word):\n",
        "    return max(alpha_substr(word),key=len)\n",
        "\n",
        "longest_substr_in_alp(s)\n",
        "\n",
        "\n",
        "\n",
        "\n"
      ]
    },
    {
      "cell_type": "markdown",
      "metadata": {
        "id": "O03DVclUWtgZ"
      },
      "source": [
        "Awsesome! Great job so far. Hope you fell in love with python now.\n",
        "\n",
        "\n",
        "But wait we want to give a treat..:) We have a surprise for you in form of one of the task, in this task you have to create a game in python. You can take up this task as a mini project of your's in python. Hmm.. Sounds good. Isn't it?\n",
        "\n",
        "So lets gets started.. we have given the instructions below for the task in detail \n",
        "\n",
        "# Hangman Game\n",
        "## In this project we are going to create Hangman Game using python\n",
        "\n",
        "\n",
        "**Q. What is the hangman game?**<br>\n",
        "A:- Hangman is a guessing game. The player will tries to guess a word picked by the computer, by suggesting letters within a certain number of guesses\n",
        "\n",
        "\n",
        "# Task 1\n",
        "Create a function **is_word_guessed** that takes in two arguments :- <br> **secret_word**, **letters_guessed** <br>**returns True** if all of the letter of secret_word are in letters_guessed, **returns False** if not\n",
        "\n",
        "\n",
        "**Assumptions**<br>\n",
        "**secret_word**: string, the word the user is guessing; assumes all letters are lowercase<br>\n",
        "**letters_guessed**: list (of letters), which letters have been guessed so far; assumes that all letters are lowercase<br>\n",
        "\n",
        "**Example**:-<br> \n",
        "secret_word = 'apple'<br>\n",
        "letters_guessed = ['e', 'a', 'k', 'p', 'l', 's']<br>\n",
        "is_word_guessed() will return True.<br><br> \n",
        "secret_word = 'apple'<br>\n",
        "letters_guessed = ['e', 'i', 'k', 'p', 'r', 's']<br>\n",
        "is_word_guessed() will return False.<br><br> \n",
        "\n",
        "\n",
        "\n"
      ]
    },
    {
      "cell_type": "markdown",
      "metadata": {
        "id": "3cr3up4t-bZv"
      },
      "source": [
        "### **`Watch Video 17: Hangman Tutorial`**"
      ]
    },
    {
      "cell_type": "code",
      "execution_count": 45,
      "metadata": {
        "id": "f20UadoKWtgZ"
      },
      "outputs": [
        {
          "name": "stdout",
          "output_type": "stream",
          "text": [
            "False\n"
          ]
        }
      ],
      "source": [
        "def is_word_guessed(secret_word, letters_guessed):\n",
        "    \n",
        "    count=0\n",
        "    lenght=len(secret_word)\n",
        "    for i in secret_word:\n",
        "        if i in letters_guessed:\n",
        "            count+=1\n",
        "    if count==lenght:\n",
        "        return True\n",
        "    else:\n",
        "        return False\n",
        "\n",
        "    \n",
        "secret_word = 'apple'\n",
        "letters_guessed = ['e', 'i', 'k', 'p', 'r', 's']\n",
        "print(is_word_guessed(secret_word,letters_guessed))\n",
        "    \n",
        "\n",
        "\n",
        "   \n",
        "\n",
        "\n"
      ]
    },
    {
      "cell_type": "markdown",
      "metadata": {
        "id": "fuaxxaOYWtgZ"
      },
      "source": [
        "# Task 2\n",
        "Create a function **get_guessed_word** that takes in two arguments :-<br> **secret_word**, **letters_guessed** <br>**returns** string, comprised of known letters, and unknown letters represented by an underscore and a space (_ )<br>\n",
        "\n",
        "**Assumptions**<br>\n",
        "**secret_word**: string, the word the user is guessing;<br>\n",
        "**letters_guessed**: list (of letters), which letters have been guessed so far<br>\n",
        "\n",
        "**Example**:-<br>\n",
        "secret_word = 'apple'<br>\n",
        "letters_guessed = ['e', 'i', 'k', 'p', 'r', 's']<br>\n",
        "get_guessed_word() will return '_ pp_ e'\n",
        "\n",
        "```\n",
        "You want something like a_ _ _ d_ j and Not a___d_j,\n",
        "which might make it hard for the user to know how many characters are there to be guessed, \n",
        "that's why you want to use '_ ' instead of '_'\n",
        "```"
      ]
    },
    {
      "cell_type": "code",
      "execution_count": 46,
      "metadata": {
        "id": "lgZOCOV7Wtga"
      },
      "outputs": [
        {
          "name": "stdout",
          "output_type": "stream",
          "text": [
            "_ pp_ e\n"
          ]
        }
      ],
      "source": [
        "# importing modules needed for the project\n",
        "import random\n",
        "import string\n",
        "\n",
        "def get_guessed_word(secret_word, letters_guessed):\n",
        "    for i in secret_word:\n",
        "        if i not in letters_guessed:\n",
        "            secret_word=secret_word.replace(i,\"_ \")\n",
        "    return secret_word\n",
        "\n",
        "secret_word = 'apple'\n",
        "letters_guessed = ['e', 'i', 'k', 'p', 'r', 's']\n",
        "print(get_guessed_word(secret_word,letters_guessed))\n",
        "    \n",
        "    \n"
      ]
    },
    {
      "cell_type": "markdown",
      "metadata": {
        "id": "n-FFgeOXWtga"
      },
      "source": [
        "# Task 3\n",
        "\n",
        "Create a function **get_available_letter** that takes in one arguments <br> **letters_guessed** <br>**returns** string (of letters), comprised of letters that represents which letters have not yet been guessed.\n",
        "\n",
        "**Assumptions**<br>\n",
        "**letters_guessed**: list (of letters), which letters have been guessed so far;<br>\n",
        "\n",
        "**Example**:-<br>\n",
        "letters_guessed = [’a’, ’l’, ’m’]<br>\n",
        "get_available_letter() will return 'bcdefghijknopqrstuvwxyz'<br>\n",
        "```\n",
        "You might want to consider using string.ascii_lowercase :=\n",
        "\n",
        "import string\n",
        "print(string.ascii_lowercase)\n",
        "output:- abcdefghijklmnopqrstuvwxyz\n",
        "```"
      ]
    },
    {
      "cell_type": "code",
      "execution_count": 47,
      "metadata": {
        "id": "O0Ru7FUsWtga"
      },
      "outputs": [
        {
          "name": "stdout",
          "output_type": "stream",
          "text": [
            "abcdfghjlmnoqtuvwxyz\n"
          ]
        }
      ],
      "source": [
        "\n",
        "def get_available_letters(letters_guessed):\n",
        "    \n",
        "    '''\n",
        "    letters_guessed: list (of letters), which letters have been guessed so far\n",
        "    returns: string (of letters), comprised of letters that represents which letters have not\n",
        "      yet been guessed.\n",
        "    '''\n",
        "    available_letters=string.ascii_lowercase\n",
        "    for i in letters_guessed:\n",
        "        available_letters=available_letters.replace(i,\"\")\n",
        "    return available_letters"
      ]
    },
    {
      "cell_type": "markdown",
      "metadata": {
        "id": "jQJszStcWtga"
      },
      "source": [
        "### Great, We have created all of the Helper functions, now let's start our work on the actual Hangman Game\n",
        "\n",
        "# Hangman Game\n",
        "\n",
        "Create a function **hangman** that takes in one argument<br>\n",
        "**secret_word** :- string, the secret word to guess.<br>\n",
        "\n",
        "**The function should do the following**:-<br>\n",
        "Starts up an interactive game of Hangman.\n",
        "\n",
        "* At the start of the game, let the user know how many letters the secret_word contains and how many guesses s/he starts with.\n",
        "\n",
        "* The user should start with 6 guesses\n",
        "\n",
        "* Before each round, you should display to the user how many guesses s/he has left and the letters that the user has not yet guessed.\n",
        "\n",
        "* Ask the user to supply one guess per round. Remember to make sure that the user puts in a letter!\n",
        "\n",
        "* The user should receive feedback immediately after each guess about whether their guess appears in the computer's word.\n",
        "\n",
        "* After each guess, you should display to the user the partially guessed word so far.\n",
        "\n",
        "* If the user inputs a letter that hasn’t been guessed before and the letter is in the secret word, the user loses no guesses.\n",
        "\n",
        "* Consonants: If the user inputs a consonant that hasn’t been guessed and the consonant is not in the secret word, the user loses one guess if it’s a consonant.\n",
        "* Vowels: If the vowel hasn’t been guessed and the vowel is not in the secret word, the user loses two guesses. Vowels are a, e, i, o, and u. y does not count as a vowel.\n",
        "\n",
        "* The game should end when the user constructs the full word or runs out of guesses.\n",
        "* If the player runs out of guesses before completing the word, tell them they lost and reveal the word to the user when the game ends.\n",
        "* If the user wins, print a congratulatory message and tell the user their score.\n",
        "* The total score is the number of guesses_remaining once the user has guessed the secret_word times the number of unique letters in secret_word.\n",
        "```\n",
        "Total score = guesses_remaining * number unique letters in secret_word\n",
        "```"
      ]
    },
    {
      "cell_type": "markdown",
      "metadata": {
        "id": "NLlYCU26Wtga"
      },
      "source": [
        "## Demo Game 1\n",
        "```\n",
        "Welcome to the game Hangman!\n",
        "I am thinking of a word that is 4 letters long.\n",
        "-------------\n",
        "You have 6 guesses left.\n",
        "Available letters: abcdefghijklmnopqrstuvwxyz\n",
        "Please guess a letter: ​a\n",
        "Good guess: _ a_ _\n",
        "------------\n",
        "You have 6 guesses left.\n",
        "Available letters: bcdefghijklmnopqrstuvwxyz\n",
        "Please guess a letter: ​s\n",
        "Oops! That letter is not in my word.\n",
        "Please guess a letter: _ a_ _\n",
        "------------\n",
        "You have 5 guesses left.\n",
        "Available letters: bcdefghijklmnopqrtuvwxyz\n",
        "Please guess a letter: ​t\n",
        "Good guess: ta_ t\n",
        "------------\n",
        "You have 5 guesses left.\n",
        "Available letters: bcdefghijklmnopqrtuvwxyz\n",
        "Please guess a letter: ​e\n",
        "Oops! That letter is not in my word: ta_ t\n",
        "------------\n",
        "You have 3 guesses left.\n",
        "Available letters: bcdfghijklnopquvwxyz Please guess a letter: ​c\n",
        "Good guess: tact\n",
        "------------\n",
        "Congratulations, you won!\n",
        "Your total score for this game is: 6\n",
        "```"
      ]
    },
    {
      "cell_type": "markdown",
      "metadata": {
        "id": "LvPe95WxWtga"
      },
      "source": [
        "## Demo Game 2\n",
        "```\n",
        "Welcome to the game Hangman!\n",
        "I am thinking of a word that is 4 letters long\n",
        "-----------\n",
        "You have 6 guesses left\n",
        "Available Letters: abcdefghijklmnopqrstuvwxyz\n",
        "Please guess a letter: ​a\n",
        "Oops! That letter is not in my word: _ _ _ _\n",
        "-----------\n",
        "You have 4 guesses left\n",
        "Available Letters: bcdefghijklmnopqrstuvwxyz\n",
        "Please guess a letter: ​b\n",
        "Oops! That letter is not in my word: _ _ _ _\n",
        "-----------\n",
        "You have 3 guesses left\n",
        "Available Letters: cdefghijklmnopqrstuvwxyz\n",
        "Please guess a letter: ​c\n",
        "Oops! That letter is not in my word: _ _ _ _\n",
        "-----------\n",
        "You have 2 guesses left\n",
        "Available Letters: defghijklmnopqrstuvwxyz\n",
        "Please guess a letter: ​d\n",
        "Oops! That letter is not in my word: _ _ _ _\n",
        "-----------\n",
        "You have 1 guesses left\n",
        "Available Letters: efghijklmnopqrstuvwxyz\n",
        "Please guess a letter: ​e\n",
        "Good guess: e_ _ e\n",
        "-----------\n",
        "You have 1 guesses left\n",
        "Available Letters: fghijklmnopqrstuvwxyz\n",
        "Please guess a letter: ​f\n",
        "Oops! That letter is not in my word: e_ _ e\n",
        "-----------\n",
        "Sorry, you ran out of guesses. The word was else.\n",
        "```"
      ]
    },
    {
      "cell_type": "markdown",
      "metadata": {
        "id": "oFs3nV8AWtgb"
      },
      "source": [
        "## Hints\n",
        "**Try to keep the output as similar to the one's above**<br>\n",
        "**Hints:-**\n",
        "```\n",
        "1. Consider writing additional helper functions if you need them.\n",
        "2. There are four important pieces of information you may wish to store:\n",
        "a. secret_word​: The word to guess. This is already used as the parameter name for the ​hangman​ function.\n",
        "b. letters_guessed​: The letters that have been guessed so far. If they guess a letter that is already in ​letters_guessed​, you should print a message telling them they've already guessed that but do not penalize them for it.\n",
        "c. guesses_remaining​: The number of guesses the user has left. Note that in our example game, the penalty for choosing an incorrect vowel is different than the penalty for choosing an incorrect consonant.\n",
        "```"
      ]
    },
    {
      "cell_type": "code",
      "execution_count": 48,
      "metadata": {
        "id": "IlkkRBPFWtgb"
      },
      "outputs": [],
      "source": [
        "\n",
        "def no_of_unique_words(string):\n",
        "    list=[]\n",
        "    c=0\n",
        "    for s in string:\n",
        "        if s not in list:\n",
        "            c+=1\n",
        "            list.append(s)\n",
        "    return c\n",
        "    \n",
        "def hangman(secret_word):\n",
        "    guess=6\n",
        "    letters_guessed=[]\n",
        "    total_score=0\n",
        "\n",
        "    print(\"Welcome to game Hangman !!\")\n",
        "    print(f\"I am thinking of a word that is {len(secret_word)} letters long .\")\n",
        "    print(\"_________________________________________\")\n",
        "    while True:\n",
        "        \n",
        "        if (guess==0 and is_word_guessed(secret_word,letters_guessed)==False)or is_word_guessed(secret_word,letters_guessed):\n",
        "            if is_word_guessed(secret_word,letters_guessed):\n",
        "                total_score=guess*no_of_unique_words(secret_word)\n",
        "                print(\"Congratulations you won !!!\")\n",
        "                print(\"Your total score for the game is :\",total_score)\n",
        "            elif (guess==0 and is_word_guessed(secret_word,letters_guessed)==False):\n",
        "                print(\"Sorry You ran out of guesses .The word was \",secret_word)\n",
        "            \n",
        "        else:\n",
        "            available_letter=get_available_letters(letters_guessed)\n",
        "            print(f\"You have {guess} guesses remaining \")\n",
        "            print(\"Available letters \",available_letter)\n",
        "            letter_guessed=input(\"Please guess a letter :\")\n",
        "\n",
        "            if (letter_guessed.isalpha==False):\n",
        "                print(\"That is not a valid letter \")\n",
        "                print(\"______________________________________________\")\n",
        "            elif (letter_guessed in letters_guessed):\n",
        "                print(\"You already guessed the letter \")\n",
        "                print(\"______________________________________________\")\n",
        "            \n",
        "            letter_guessed=letter_guessed.lower()\n",
        "            letters_guessed.append(letter_guessed)\n",
        "            \n",
        "            if letter_guessed in secret_word:\n",
        "                print(f\"Good guess {get_guessed_word(secret_word,letters_guessed)}\")\n",
        "            elif letter_guessed in ['a','e','i','o','u']:\n",
        "                print(f'Oops that letter is not in word {get_guessed_word(secret_word,letters_guessed)}')\n",
        "                guess-=2\n",
        "            else:\n",
        "                print(f'Oops that letter is not in word {get_guessed_word(secret_word,letters_guessed)}')\n",
        "                guess-=1\n",
        "            print(\"______________________________________________\")\n",
        "            continue\n",
        "        break"
      ]
    },
    {
      "cell_type": "code",
      "execution_count": 49,
      "metadata": {
        "id": "rqr36B-BWtgb",
        "outputId": "395d6dda-1293-4455-8043-e179778634e9"
      },
      "outputs": [],
      "source": [
        "# When you've completed your hangman function, test it out to see it is working fine\n",
        "# (hint: you might want to pick your own\n",
        "# secret_word while you're doing your own testing by changing 'apple' to any other string)\n",
        "hangman('apple')"
      ]
    },
    {
      "cell_type": "markdown",
      "metadata": {
        "id": "ayutll31Wtgc"
      },
      "source": [
        "## Congratulations all of your hardwork paid of, you have just created the Hangman Game<br>\n",
        "**now go ahead and play the game you created, run the cell below**\n",
        "\n"
      ]
    },
    {
      "cell_type": "code",
      "execution_count": 52,
      "metadata": {
        "id": "OXfcylbvWtgc",
        "outputId": "cc0f524a-37cc-4cda-a9c6-63122a662f87"
      },
      "outputs": [
        {
          "name": "stdout",
          "output_type": "stream",
          "text": [
            "Welcome to game Hangman !!\n",
            "I am thinking of a word that is 9 letters long .\n",
            "_________________________________________\n",
            "You have 6 guesses remaining \n",
            "Available letters  abcdefghijklmnopqrstuvwxyz\n",
            "Good guess _ _ a_ _ _ _ _ _ \n",
            "______________________________________________\n",
            "You have 6 guesses remaining \n",
            "Available letters  bcdefghijklmnopqrstuvwxyz\n",
            "Oops that letter is not in word _ _ a_ _ _ _ _ _ \n",
            "______________________________________________\n",
            "You have 5 guesses remaining \n",
            "Available letters  bcdefghijklmnopqrtuvwxyz\n",
            "Oops that letter is not in word _ _ a_ _ _ _ _ _ \n",
            "______________________________________________\n",
            "You have 4 guesses remaining \n",
            "Available letters  bcdefghijklmopqrtuvwxyz\n",
            "Good guess _ ea_ _ _ _ _ _ \n",
            "______________________________________________\n",
            "You have 4 guesses remaining \n",
            "Available letters  bcdfghijklmopqrtuvwxyz\n",
            "Oops that letter is not in word _ ea_ _ _ _ _ _ \n",
            "______________________________________________\n",
            "You have 3 guesses remaining \n",
            "Available letters  bdfghijklmopqrtuvwxyz\n",
            "Oops that letter is not in word _ ea_ _ _ _ _ _ \n",
            "______________________________________________\n",
            "You have 2 guesses remaining \n",
            "Available letters  bdfghijklmoqrtuvwxyz\n",
            "Oops that letter is not in word _ ea_ _ _ _ _ _ \n",
            "______________________________________________\n",
            "You have 1 guesses remaining \n",
            "Available letters  bdfhijklmoqrtuvwxyz\n",
            "Good guess _ ea_ _ _ f_ _ \n",
            "______________________________________________\n",
            "You have 1 guesses remaining \n",
            "Available letters  bdhijklmoqrtuvwxyz\n",
            "Good guess _ ea_ _ if_ _ \n",
            "______________________________________________\n",
            "You have 1 guesses remaining \n",
            "Available letters  bdhjklmoqrtuvwxyz\n",
            "Oops that letter is not in word _ ea_ _ if_ _ \n",
            "______________________________________________\n"
          ]
        }
      ],
      "source": [
        "words = ['army', 'beautiful', 'became', 'if', 'actually', 'beside', 'between','come','eye','five','fur','imposter', 'problem' ,'revenge' ,'few' ,'circle' ,'district','trade','quota','stop','depressed','disorder','dentist']\n",
        "\n",
        "#choose a random word from list using random.choice() function\n",
        "random_word = random.choice(words)\n",
        "\n",
        "#check you function\n",
        "hangman(random_word)"
      ]
    },
    {
      "cell_type": "markdown",
      "metadata": {
        "id": "62faCBcTWtgc"
      },
      "source": [
        "--------------------------------------\n",
        "Wohooo! You did a really good job. We hope you enjoyed your first mini python project here. \n",
        "\n",
        "We understand it was bit challenging and time taking, but it's worth it, coz here you are to achieve your goal and this course will help you in all posible way to make your dreams come true.\n",
        "\n"
      ]
    },
    {
      "cell_type": "markdown",
      "metadata": {
        "id": "8p3Ruyw6Wtgc"
      },
      "source": [
        "\n",
        "\n",
        "----------------------------------------------------------------------"
      ]
    },
    {
      "cell_type": "markdown",
      "metadata": {
        "id": "JiGSsuwaWtgd"
      },
      "source": [
        "# Bam!, you completed the second milestone challenge too:)!! "
      ]
    },
    {
      "cell_type": "markdown",
      "metadata": {
        "id": "ME6IJ3pOWtgd"
      },
      "source": [
        "# FeedBack\n",
        "We hope you’ve enjoyed this course so far. We’re committed to help you use \"AI for All\" course to its full potential, so that you have a great learning experience. And that’s why we need your help in form of a feedback here.\n",
        "\n",
        "Please fill this feedback form https://docs.google.com/forms/d/e/1FAIpQLSfjBmH0yJSSA34IhSVx4h2eDMgOAeG4Dk-yHid__NMTk3Hq5g/viewform"
      ]
    }
  ],
  "metadata": {
    "colab": {
      "collapsed_sections": [],
      "provenance": []
    },
    "kernelspec": {
      "display_name": "Python 3",
      "language": "python",
      "name": "python3"
    },
    "language_info": {
      "codemirror_mode": {
        "name": "ipython",
        "version": 3
      },
      "file_extension": ".py",
      "mimetype": "text/x-python",
      "name": "python",
      "nbconvert_exporter": "python",
      "pygments_lexer": "ipython3",
      "version": "3.11.0"
    }
  },
  "nbformat": 4,
  "nbformat_minor": 0
}
