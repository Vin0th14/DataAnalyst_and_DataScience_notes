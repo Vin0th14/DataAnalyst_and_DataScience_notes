{
 "cells": [
  {
   "attachments": {},
   "cell_type": "markdown",
   "metadata": {},
   "source": [
    "## <center><u>Python Intermediate Challenge-1</u></center>\n",
    "\n",
    "\n",
    "54% of the respondents from the O'Reilly Data Science Salary Survey indicated that they used Python as a data science tool. Nobody can deny that Python has been on the rise in the data science industry and it certainly seems that it's here to stay.\n",
    "This rise in popularity in the industry, the long gone infancy of Python packages for data analysis, the low and gradual learning curve and the fact that it is a fully fledged programming language are only a couple of reasons that make Python an exceptional tool for data science.\n",
    "Although Python is a very readable language, you might still be able to use some help.\n",
    "\n",
    "You will be facing some challenging questions on python in this assignment. Below following steps would help you to complete this assignment:\n",
    "\n",
    "`1. Read the question\n",
    "2. Go to the link given under the question\n",
    "3. You will land on Hakerrank page, if not then create your Hakerrank account.\n",
    "4. Once you land on hankerank page mentioned under question, go through the given problem carefully.\n",
    "5. Solve it in the editor given in the page. Select python3 as your language in the editor and click 'Run Code' Button\n",
    "6. Once you have passed all the sample test cases, write your solution in this assignment against each question.`\n",
    "\n",
    "\n",
    "If you need any assistence on python, then please refer below cheatsheets:\n",
    "\n",
    "Cheatsheet reference: http://datacamp-community-prod.s3.amazonaws.com/0eff0330-e87d-4c34-88d5-73e80cb955f2\n",
    "\n",
    "\n",
    "\n",
    "    "
   ]
  },
  {
   "attachments": {},
   "cell_type": "markdown",
   "metadata": {},
   "source": [
    "#### Q1 Python If-Else\n",
    "\n",
    "link - https://www.hackerrank.com/challenges/py-if-else/problem"
   ]
  },
  {
   "cell_type": "code",
   "execution_count": 1,
   "metadata": {},
   "outputs": [
    {
     "name": "stdout",
     "output_type": "stream",
     "text": [
      "Not Weird\n"
     ]
    }
   ],
   "source": [
    "\n",
    "n=24\n",
    "if n%2!=0:\n",
    "    print('Weird')\n",
    "elif n%2==0 & 2<=n<=5:\n",
    "    print('Not Weird')\n",
    "elif n%2==0 & 6<=n<=20:\n",
    "    print('Weird')\n",
    "else:\n",
    "    print('Not Weird')\n",
    "\n",
    "\n",
    "\n",
    "\n",
    "\n",
    "\n",
    "\n",
    "\n"
   ]
  },
  {
   "attachments": {},
   "cell_type": "markdown",
   "metadata": {},
   "source": [
    "#### Q2 Arithmetic Operators\n",
    "\n",
    "link - https://www.hackerrank.com/challenges/python-arithmetic-operators/problem"
   ]
  },
  {
   "cell_type": "code",
   "execution_count": 2,
   "metadata": {},
   "outputs": [
    {
     "ename": "ValueError",
     "evalue": "invalid literal for int() with base 10: '1 2 3 4 5'",
     "output_type": "error",
     "traceback": [
      "\u001b[1;31m---------------------------------------------------------------------------\u001b[0m",
      "\u001b[1;31mValueError\u001b[0m                                Traceback (most recent call last)",
      "Cell \u001b[1;32mIn[2], line 2\u001b[0m\n\u001b[0;32m      1\u001b[0m a \u001b[39m=\u001b[39m \u001b[39mint\u001b[39m(\u001b[39minput\u001b[39m())\n\u001b[1;32m----> 2\u001b[0m b \u001b[39m=\u001b[39m \u001b[39mint\u001b[39;49m(\u001b[39minput\u001b[39;49m())\n\u001b[0;32m      3\u001b[0m \u001b[39mprint\u001b[39m(a\u001b[39m+\u001b[39mb)\n\u001b[0;32m      4\u001b[0m \u001b[39mprint\u001b[39m(a\u001b[39m-\u001b[39mb)\n",
      "\u001b[1;31mValueError\u001b[0m: invalid literal for int() with base 10: '1 2 3 4 5'"
     ]
    }
   ],
   "source": [
    "a = int(input())\n",
    "b = int(input())\n",
    "print(a+b)\n",
    "print(a-b)\n",
    "print(a*b)\n",
    "\n",
    "\n",
    "\n",
    "\n",
    "\n",
    "\n",
    "\n",
    "\n",
    "\n"
   ]
  },
  {
   "attachments": {},
   "cell_type": "markdown",
   "metadata": {},
   "source": [
    "#### Q3 Print Function\n",
    "\n",
    "link - https://www.hackerrank.com/challenges/python-print/problem"
   ]
  },
  {
   "cell_type": "code",
   "execution_count": null,
   "metadata": {},
   "outputs": [
    {
     "name": "stdout",
     "output_type": "stream",
     "text": [
      "12345"
     ]
    }
   ],
   "source": [
    "\n",
    "\n",
    "n = int(input())\n",
    "for i in range(1,n+1):\n",
    "    print(i,end=\"\")\n",
    "\n",
    "\n",
    "\n",
    "\n",
    "\n",
    "\n",
    "\n",
    "\n"
   ]
  },
  {
   "attachments": {},
   "cell_type": "markdown",
   "metadata": {},
   "source": [
    "#### Q4 Write a function\n",
    "\n",
    "link - https://www.hackerrank.com/challenges/write-a-function/problem"
   ]
  },
  {
   "cell_type": "code",
   "execution_count": null,
   "metadata": {},
   "outputs": [],
   "source": [
    "def is_leap(year):\n",
    "    leap = False\n",
    "    if (year<=100000 and year>=1900):\n",
    "        leap=False\n",
    "        if (year%4==0 and year%400==0 and year%100!=0):\n",
    "            leap=True\n",
    "            \n",
    "    \n",
    "    return leap\n",
    "\n",
    "year = int(input())\n",
    "\n",
    "\n",
    "\n",
    "\n",
    "\n",
    "\n",
    "\n",
    "\n",
    "\n",
    "\n",
    "\n"
   ]
  },
  {
   "attachments": {},
   "cell_type": "markdown",
   "metadata": {},
   "source": [
    "#### Q5 List Comprehensions\n",
    "\n",
    "link - https://www.hackerrank.com/challenges/list-comprehensions/problem"
   ]
  },
  {
   "cell_type": "code",
   "execution_count": null,
   "metadata": {},
   "outputs": [
    {
     "name": "stdout",
     "output_type": "stream",
     "text": [
      "[[0, 0, 0], [0, 0, 1], [0, 1, 0], [1, 0, 0], [1, 1, 1]]\n"
     ]
    }
   ],
   "source": [
    "\n",
    "\n",
    "\n",
    "x = int(input())\n",
    "y = int(input())\n",
    "z = int(input())\n",
    "n = int(input())\n",
    "    \n",
    "print([[a,b,c] for a in range(0,x+1) for b in range(0,y+1) for c in range(0,z+1) if (a+b+c)!=n ])\n",
    "\n",
    "\n",
    "\n",
    "\n",
    "\n",
    "\n",
    "\n",
    "\n"
   ]
  },
  {
   "attachments": {},
   "cell_type": "markdown",
   "metadata": {},
   "source": [
    "#### Q6 Find the Runner-Up Score!\n",
    "\n",
    "link - https://www.hackerrank.com/challenges/find-second-maximum-number-in-a-list/problem"
   ]
  },
  {
   "cell_type": "code",
   "execution_count": null,
   "metadata": {},
   "outputs": [
    {
     "name": "stdout",
     "output_type": "stream",
     "text": [
      "4\n"
     ]
    }
   ],
   "source": [
    "n = int(input())\n",
    "arr = map(int, input().split())\n",
    "    \n",
    "print(sorted(list(set(arr)))[-2])\n",
    "\n",
    "\n",
    "\n",
    "\n",
    "\n",
    "\n",
    "\n",
    "\n",
    "\n",
    "\n"
   ]
  },
  {
   "attachments": {},
   "cell_type": "markdown",
   "metadata": {},
   "source": [
    "#### Q7 Nested Lists\n",
    "\n",
    "link - https://www.hackerrank.com/challenges/nested-list/problem"
   ]
  },
  {
   "cell_type": "code",
   "execution_count": null,
   "metadata": {},
   "outputs": [],
   "source": [
    "\n",
    "\n",
    "lst1=[]\n",
    "for _ in range(int(input())):\n",
    "    name = input()\n",
    "    score = float(input())\n",
    "    lst1.append([name,score])\n",
    "scndlw=sorted(list(set([score for  name,score in lst1])))[1]\n",
    "print('\\n'.join([name for name,score in sorted(lst1) if score==scndlw]))\n",
    "\n",
    "\n",
    "\n",
    "\n",
    "\n",
    "\n",
    "\n",
    "\n",
    "\n",
    "\n"
   ]
  },
  {
   "attachments": {},
   "cell_type": "markdown",
   "metadata": {},
   "source": [
    "#### Q8 Finding the percentage\n",
    "\n",
    "link - https://www.hackerrank.com/challenges/finding-the-percentage/problem"
   ]
  },
  {
   "cell_type": "code",
   "execution_count": null,
   "metadata": {},
   "outputs": [],
   "source": [
    "n = int(input())\n",
    "student_marks = {}\n",
    "for _ in range(n):\n",
    "    name, *line = input().split()\n",
    "    scores = list(map(float, line))\n",
    "    student_marks[name] = scores\n",
    "query_name = input()\n",
    "\n",
    "\n",
    "avg=sum(student_marks[query_name])/len(student_marks[query_name])\n",
    "print('{0:.2f}'.format(avg))\n",
    "\n",
    "\n",
    "\n",
    "\n",
    "\n",
    "\n",
    "\n",
    "\n",
    "\n",
    "\n",
    "\n",
    "\n",
    "\n",
    "\n",
    "\n"
   ]
  },
  {
   "attachments": {},
   "cell_type": "markdown",
   "metadata": {},
   "source": [
    "#### Q9 Lists\n",
    "\n",
    "link - https://www.hackerrank.com/challenges/python-lists/problem"
   ]
  },
  {
   "cell_type": "code",
   "execution_count": null,
   "metadata": {},
   "outputs": [],
   "source": [
    "N = int(input())\n",
    "lst=[]\n",
    "for i in range(N):\n",
    "    \n",
    "    a=input().split(' ')\n",
    "    if a[0]=='insert':\n",
    "        lst.insert(int(a[1]),int(a[2]))\n",
    "    elif a[0]=='remove':\n",
    "        lst.remove(int(a[1]))\n",
    "    elif a[0]=='append':\n",
    "        lst.append(int(a[1]))\n",
    "    elif a[0]=='sort':\n",
    "        lst.sort()\n",
    "    elif a[0]=='pop':\n",
    "        lst.pop()\n",
    "    elif a[0]=='reverse':\n",
    "        lst.reverse()\n",
    "    elif a[0]=='print':\n",
    "        print(lst)\n",
    "\n",
    "    "
   ]
  },
  {
   "attachments": {},
   "cell_type": "markdown",
   "metadata": {},
   "source": [
    "#### Q10 Tuples\n",
    "\n",
    "\n",
    "link - https://www.hackerrank.com/challenges/python-tuples/problem"
   ]
  },
  {
   "cell_type": "code",
   "execution_count": null,
   "metadata": {},
   "outputs": [],
   "source": [
    "n=int(input())\n",
    "lst=map(int,input().split())\n",
    "lst=tuple(lst)\n",
    "hashed=hash(lst)\n",
    "print(hashed)\n",
    "\n",
    "\n",
    "\n",
    "\n",
    "\n",
    "\n",
    "\n",
    "\n",
    "\n"
   ]
  },
  {
   "attachments": {},
   "cell_type": "markdown",
   "metadata": {},
   "source": [
    "#### Q11 The Minion Game\n",
    "\n",
    "link - https://www.hackerrank.com/challenges/the-minion-game/problem"
   ]
  },
  {
   "cell_type": "code",
   "execution_count": null,
   "metadata": {},
   "outputs": [],
   "source": [
    "\n",
    "def minion_game(string):\n",
    "    vowel=['A','E','I','O','U']\n",
    "    K=0\n",
    "    S=0\n",
    "    for i in range(len(string)):\n",
    "        if string[i] in vowel:\n",
    "            K+=len(string)-i\n",
    "        else:\n",
    "            S+=len(string)-i\n",
    "    if K>S:\n",
    "        print('Kevin',K)\n",
    "    elif S>K:\n",
    "        print('Stuart',S)\n",
    "    else:\n",
    "        print('Draw')\n",
    "    \n",
    "\n",
    "if __name__ == '__main__':\n",
    "    s = input()\n",
    "    minion_game(s)\n",
    "\n",
    "\n",
    "\n",
    "\n",
    "\n",
    "\n",
    "\n",
    "\n",
    "\n",
    "\n"
   ]
  },
  {
   "attachments": {},
   "cell_type": "markdown",
   "metadata": {},
   "source": [
    "#### Q12 Designer door mat\n",
    "\n",
    "link - https://www.hackerrank.com/challenges/designer-door-mat/problem"
   ]
  },
  {
   "cell_type": "code",
   "execution_count": 1,
   "metadata": {},
   "outputs": [
    {
     "name": "stdout",
     "output_type": "stream",
     "text": [
      "---------.|.---------\n",
      "------.|..|..|.------\n",
      "---.|..|..|..|..|.---\n",
      ".|..|..|..|..|..|..|.\n",
      "-------WELCOME-------\n",
      ".|..|..|..|..|..|..|.\n",
      "---.|..|..|..|..|.---\n",
      "------.|..|..|.------\n",
      "---------.|.---------\n"
     ]
    }
   ],
   "source": [
    "\n",
    "n,m=map(int,input().split())\n",
    "pattern=[('.|.'*(2*i+1)).center(m,'-') for i in range(n//2)]\n",
    "print('\\n'.join(pattern + ['WELCOME'.center(m,'-')]+pattern[::-1]))\n",
    "\n",
    "\n",
    "\n",
    "\n",
    "\n",
    "\n",
    "\n",
    "\n"
   ]
  },
  {
   "attachments": {},
   "cell_type": "markdown",
   "metadata": {},
   "source": [
    "#### Q13 Merge the tools\n",
    "\n",
    "link - https://www.hackerrank.com/challenges/merge-the-tools/problem"
   ]
  },
  {
   "cell_type": "code",
   "execution_count": null,
   "metadata": {},
   "outputs": [],
   "source": [
    "def merge_the_tools(string, k):\n",
    "    for i in range(0,len(string),k):\n",
    "        unique=''\n",
    "        for c in string[i:i+k]:\n",
    "            if (c not in unique):\n",
    "                unique+=c\n",
    "        print(unique)\n",
    "\n",
    "if __name__ == '__main__':\n",
    "    string, k = input(), int(input())\n",
    "    merge_the_tools(string, k)\n",
    "\n",
    "\n",
    "\n",
    "\n",
    "\n",
    "\n",
    "\n",
    "\n",
    "\n",
    "\n"
   ]
  },
  {
   "attachments": {},
   "cell_type": "markdown",
   "metadata": {},
   "source": [
    "#### Q14 find a string\n",
    "\n",
    "link - https://www.hackerrank.com/challenges/find-a-string/problem"
   ]
  },
  {
   "cell_type": "code",
   "execution_count": null,
   "metadata": {},
   "outputs": [],
   "source": [
    "def count_substring(string, sub_string):\n",
    "    count=0\n",
    "    for i in range(0,len(string)):\n",
    "        if string[i:].startswith(sub_string):\n",
    "            count+=1\n",
    "            \n",
    "    return count\n",
    "\n",
    "if __name__ == '__main__':\n",
    "    string = input().strip()\n",
    "    sub_string = input().strip()\n",
    "    \n",
    "    count = count_substring(string, sub_string)\n",
    "    print(count)\n",
    "\n",
    "\n",
    "\n",
    "\n",
    "\n",
    "\n",
    "\n",
    "\n",
    "\n"
   ]
  },
  {
   "attachments": {},
   "cell_type": "markdown",
   "metadata": {},
   "source": [
    "#### Q15 no idea\n",
    "\n",
    "link - https://www.hackerrank.com/challenges/no-idea/problem"
   ]
  },
  {
   "cell_type": "code",
   "execution_count": null,
   "metadata": {},
   "outputs": [],
   "source": [
    "\n",
    "array=input().split()\n",
    "like=set(input().split())\n",
    "dislike=set(input().split())\n",
    "print(sum((i in like)-(i in dislike) for i in array))\n",
    "\n",
    "\n",
    "\n",
    "\n",
    "\n",
    "\n"
   ]
  },
  {
   "attachments": {},
   "cell_type": "markdown",
   "metadata": {},
   "source": [
    "#### Q16 Symmetric difference set\n",
    "\n",
    "link - https://www.hackerrank.com/challenges/py-set-symmetric-difference-operation/problem\n"
   ]
  },
  {
   "cell_type": "code",
   "execution_count": null,
   "metadata": {},
   "outputs": [],
   "source": [
    "num1=int(input())\n",
    "eng=set(input().split())\n",
    "num2=int(input())\n",
    "fren=set(input().split())\n",
    "print(len(eng.symmetric_difference(fren)))\n",
    "\n",
    "\n",
    "\n",
    "\n",
    "\n",
    "\n",
    "\n",
    "\n",
    "\n"
   ]
  },
  {
   "attachments": {},
   "cell_type": "markdown",
   "metadata": {},
   "source": [
    "#### Q17 lambda map expression\n",
    "\n",
    "link - https://www.hackerrank.com/challenges/map-and-lambda-expression/problem"
   ]
  },
  {
   "cell_type": "code",
   "execution_count": null,
   "metadata": {},
   "outputs": [],
   "source": [
    "cube = lambda x: x**3\n",
    "\n",
    "def fibonacci(n):\n",
    "    a,b=0,1\n",
    "    for i in range(n):\n",
    "        yield a\n",
    "        a,b=b,a+b\n",
    "\n",
    "if __name__ == '__main__':\n",
    "    n = int(input())\n",
    "    print(list(map(cube, fibonacci(n))))\n",
    "\n",
    "\n",
    "\n",
    "\n",
    "\n",
    "\n",
    "\n"
   ]
  },
  {
   "attachments": {},
   "cell_type": "markdown",
   "metadata": {},
   "source": [
    "#### Q18. validate list of email address\n",
    "\n",
    "link - https://www.hackerrank.com/challenges/validate-list-of-email-address-with-filter/problem\n"
   ]
  },
  {
   "cell_type": "code",
   "execution_count": null,
   "metadata": {},
   "outputs": [],
   "source": [
    "import re\n",
    "def fun(s):\n",
    "    pattern=re.compile('^[\\w-]+@[0-9a-zA-Z]+\\.[a-zA-Z]{1,3}$')\n",
    "    return pattern.match(s)\n",
    "    # return True if s is a valid email, else return False\n",
    "\n",
    "def filter_mail(emails):\n",
    "    return list(filter(fun, emails))\n",
    "\n",
    "if __name__ == '__main__':\n",
    "    n = int(input())\n",
    "    emails = []\n",
    "    for _ in range(n):\n",
    "        emails.append(input())\n",
    "\n",
    "filtered_emails = filter_mail(emails)\n",
    "filtered_emails.sort()\n",
    "print(filtered_emails)\n",
    "\n",
    "\n",
    "\n",
    "\n",
    "\n",
    "\n",
    "\n",
    "\n",
    "\n"
   ]
  },
  {
   "attachments": {},
   "cell_type": "markdown",
   "metadata": {},
   "source": [
    "#### Q19 reduce function problem\n",
    "\n",
    "link - https://www.hackerrank.com/challenges/reduce-function/problem\n"
   ]
  },
  {
   "cell_type": "code",
   "execution_count": null,
   "metadata": {},
   "outputs": [],
   "source": [
    "from fractions import Fraction\n",
    "from functools import reduce\n",
    "from functools import reduce\n",
    "def product(fracs):\n",
    "    t = reduce(lambda x,y:x*y,fracs)\n",
    "    return t.numerator, t.denominator\n",
    "\n",
    "if __name__ == '__main__':\n",
    "    fracs = []\n",
    "    for _ in range(int(input())):\n",
    "        fracs.append(Fraction(*map(int, input().split())))\n",
    "    result = product(fracs)\n",
    "    print(*result)\n",
    "\n",
    "\n",
    "\n",
    "\n",
    "\n",
    "\n",
    "\n",
    "\n"
   ]
  },
  {
   "attachments": {},
   "cell_type": "markdown",
   "metadata": {},
   "source": [
    "#### Q20 collection counter problem\n",
    "\n",
    "link - https://www.hackerrank.com/challenges/collections-counter/problem\n"
   ]
  },
  {
   "cell_type": "code",
   "execution_count": null,
   "metadata": {},
   "outputs": [],
   "source": [
    "import collections\n",
    "num=int(input())\n",
    "shoes=collections.Counter(map(int,input().split()))\n",
    "numofcust=int(input())\n",
    "income=0\n",
    "\n",
    "for i in range(numofcust):\n",
    "    size,price=map(int,input().split())\n",
    "    if shoes[size]:\n",
    "       income+=price \n",
    "       shoes[size]-=1\n",
    "print(income)\n",
    "\n",
    "\n",
    "\n",
    "\n",
    "\n",
    "\n",
    "\n",
    "\n",
    "\n"
   ]
  },
  {
   "attachments": {},
   "cell_type": "markdown",
   "metadata": {},
   "source": [
    "#### Q21 collections namedtuple\n",
    "\n",
    "link - https://www.hackerrank.com/challenges/py-collections-namedtuple/problem\n"
   ]
  },
  {
   "cell_type": "code",
   "execution_count": null,
   "metadata": {},
   "outputs": [],
   "source": [
    "\n",
    "from collections import namedtuple\n",
    "\n",
    "n=int(input())\n",
    "Info=namedtuple('Info',input())\n",
    "s=''\n",
    "sum=0\n",
    "\n",
    "for x in range(n):\n",
    "    a,b,c,d=input().split()\n",
    "    s=Info(a,b,c,d)\n",
    "    sum+=int(s.MARKS)\n",
    "print(round(sum/float(n),2))\n",
    "\n",
    "\n",
    "\n",
    "\n",
    "\n"
   ]
  },
  {
   "attachments": {},
   "cell_type": "markdown",
   "metadata": {},
   "source": [
    "#### Q22 default dict \n",
    "\n",
    "link - \n",
    "https://www.hackerrank.com/challenges/defaultdict-tutorial/problem\n"
   ]
  },
  {
   "cell_type": "code",
   "execution_count": null,
   "metadata": {},
   "outputs": [],
   "source": [
    "\n",
    "from collections import defaultdict\n",
    "\n",
    "n,m=map(int,input().split())\n",
    "d=defaultdict(lambda:-1)\n",
    "\n",
    "for i in range(1,n+1):\n",
    "    word=input()\n",
    "    d[word]=d[word]+' '+str(i) if word in d else str(i)\n",
    "    \n",
    "for _ in range(m):\n",
    "    print(d[input()])\n",
    "\n",
    "\n",
    "\n",
    "\n",
    "\n",
    "\n"
   ]
  },
  {
   "attachments": {},
   "cell_type": "markdown",
   "metadata": {},
   "source": [
    "#### Q23 Ordered dict\n",
    "\n",
    "link - https://www.hackerrank.com/challenges/py-collections-ordereddict/problem\n"
   ]
  },
  {
   "cell_type": "code",
   "execution_count": null,
   "metadata": {},
   "outputs": [],
   "source": [
    "\n",
    "from collections import OrderedDict\n",
    "d=OrderedDict()\n",
    "\n",
    "for _ in range(int(input())):\n",
    "    item,space,quantity=input().rpartition(' ')\n",
    "    d[item]=d.get(item,0)+int(quantity)\n",
    "for item,quantity in d.items():\n",
    "    print(item,quantity)\n",
    "\n",
    "\n",
    "\n",
    "\n",
    "\n",
    "\n"
   ]
  },
  {
   "attachments": {},
   "cell_type": "markdown",
   "metadata": {},
   "source": [
    "#### Q24 word order\n",
    "\n",
    "link - https://www.hackerrank.com/challenges/word-order/problem\n"
   ]
  },
  {
   "cell_type": "code",
   "execution_count": null,
   "metadata": {},
   "outputs": [],
   "source": [
    "from collections import OrderedDict\n",
    "words=OrderedDict()\n",
    "\n",
    "for _ in range(int(input())):\n",
    "    word=input()\n",
    "    words.setdefault(word,0)\n",
    "    words[word]+=1\n",
    "    \n",
    "print(len(words))\n",
    "print(*words.values())\n",
    "\n",
    "\n",
    "\n",
    "\n",
    "\n",
    "\n",
    "\n"
   ]
  },
  {
   "attachments": {},
   "cell_type": "markdown",
   "metadata": {},
   "source": [
    "#### Q25 Company logo\n",
    "\n",
    "link - https://www.hackerrank.com/challenges/most-commons/problem\n"
   ]
  },
  {
   "cell_type": "code",
   "execution_count": null,
   "metadata": {},
   "outputs": [],
   "source": [
    "\n",
    "from collections import Counter\n",
    "\n",
    "\n",
    "chars=Counter(input()).items()\n",
    "\n",
    "for char,n in sorted(chars,key=lambda c: (-c[1],c[0]))[0:3]:\n",
    "    print(char,n)\n",
    "\n",
    "\n",
    "\n",
    "\n",
    "\n",
    "\n"
   ]
  },
  {
   "attachments": {},
   "cell_type": "markdown",
   "metadata": {},
   "source": [
    "#### Q26 itertools product\n",
    "\n",
    "link - https://www.hackerrank.com/challenges/itertools-product/problem\n",
    " "
   ]
  },
  {
   "cell_type": "code",
   "execution_count": null,
   "metadata": {},
   "outputs": [],
   "source": [
    "from itertools import product\n",
    "\n",
    "a=list(map(int,input().split()))\n",
    "b=list(map(int,input().split()))\n",
    "print(*product(a,b))\n",
    "\n",
    "\n",
    "\n",
    "\n"
   ]
  },
  {
   "attachments": {},
   "cell_type": "markdown",
   "metadata": {},
   "source": [
    "#### Q27 itertools permutation\n",
    "\n",
    "link - https://www.hackerrank.com/challenges/itertools-permutations/problem\n"
   ]
  },
  {
   "cell_type": "code",
   "execution_count": null,
   "metadata": {},
   "outputs": [],
   "source": [
    "from itertools import permutations\n",
    "s,n=input().split()\n",
    "\n",
    "print(*[''.join(i) for i in permutations(sorted(s),int(n))],sep='\\n')\n",
    "\n",
    "\n",
    "\n",
    "\n"
   ]
  },
  {
   "attachments": {},
   "cell_type": "markdown",
   "metadata": {},
   "source": [
    "#### Q28 itertools combination\n",
    "\n",
    "link - https://www.hackerrank.com/challenges/itertools-combinations/problem\n"
   ]
  },
  {
   "cell_type": "code",
   "execution_count": null,
   "metadata": {},
   "outputs": [],
   "source": [
    "from itertools import combinations\n",
    "s,k =input().split()\n",
    "for l in range(1,int(k)+1):\n",
    "    for c in combinations(sorted(s),l):\n",
    "        print(\"\".join(c))\n",
    "\n",
    "\n",
    "\n",
    "\n",
    "\n",
    "\n"
   ]
  },
  {
   "attachments": {},
   "cell_type": "markdown",
   "metadata": {},
   "source": [
    "#### Q29 itertools combination\n",
    "\n",
    "link - https://www.hackerrank.com/challenges/itertools-combinations-with-replacement/problem\n"
   ]
  },
  {
   "cell_type": "code",
   "execution_count": null,
   "metadata": {},
   "outputs": [],
   "source": [
    "from itertools import combinations_with_replacement\n",
    "\n",
    "s,k=input().split()\n",
    "for c in combinations_with_replacement(sorted(s),int(k)):\n",
    "    print(\"\".join(c))\n",
    "\n",
    "\n",
    "\n",
    "\n",
    "\n",
    "\n",
    "\n",
    "\n"
   ]
  },
  {
   "attachments": {},
   "cell_type": "markdown",
   "metadata": {},
   "source": [
    "#### Q30 compress the string\n",
    "\n",
    "link - https://www.hackerrank.com/challenges/compress-the-string/problem\n"
   ]
  },
  {
   "cell_type": "code",
   "execution_count": null,
   "metadata": {},
   "outputs": [],
   "source": [
    "from itertools import groupby\n",
    "\n",
    "print(*[(len(list(c)),int(k)) for k,c in groupby(input())])\n",
    "\n",
    "\n",
    "\n"
   ]
  },
  {
   "attachments": {},
   "cell_type": "markdown",
   "metadata": {},
   "source": [
    "#### Q31 iterables and iterators\n",
    "\n",
    "link - https://www.hackerrank.com/challenges/iterables-and-iterators/problem\n"
   ]
  },
  {
   "cell_type": "code",
   "execution_count": null,
   "metadata": {},
   "outputs": [],
   "source": [
    "from itertools import combinations\n",
    "\n",
    "n = int(input())\n",
    "letters = input().split()\n",
    "k = int(input())\n",
    "\n",
    "combs = list(combinations(letters, k))\n",
    "a_count = sum('a' in comb for comb in combs)\n",
    "\n",
    "probability = a_count / len(combs)\n",
    "print(round(probability, 3))\n",
    "\n",
    "\n",
    "\n",
    "\n",
    "\n"
   ]
  },
  {
   "attachments": {},
   "cell_type": "markdown",
   "metadata": {},
   "source": [
    "#### Q32 Maximize it\n",
    "\n",
    "link - https://www.hackerrank.com/challenges/maximize-it/problem\n"
   ]
  },
  {
   "cell_type": "code",
   "execution_count": null,
   "metadata": {},
   "outputs": [],
   "source": [
    "from itertools import product\n",
    "\n",
    "K,M=map(int,input().split())\n",
    "N=(list(map(int,input().split()))[1:] for _ in range(K))\n",
    "results=map(lambda x: sum(i**2 for i in x)%M,product(*N))\n",
    "print(max(results))\n",
    "\n",
    "\n",
    "\n",
    "\n",
    "\n"
   ]
  },
  {
   "attachments": {},
   "cell_type": "markdown",
   "metadata": {},
   "source": [
    "---------------------------------\n",
    "\n",
    "# \"Cheers\":) Congratulations! you have completed the Python Intermediate challenge. \n",
    "\n",
    "--------------------------------\n",
    "\n",
    "# FeedBack\n",
    "We hope you’ve enjoyed this course so far. We’re committed to help you use \"AI for All\" course to its full potential, so that you have a great learning experience. And that’s why we need your help in form of a feedback here.\n",
    "\n",
    "Please fill this feedback form  https://zfrmz.in/MtRG5oWXBdesm6rmSM7N"
   ]
  }
 ],
 "metadata": {
  "kernelspec": {
   "display_name": "Python 3",
   "language": "python",
   "name": "python3"
  },
  "language_info": {
   "codemirror_mode": {
    "name": "ipython",
    "version": 3
   },
   "file_extension": ".py",
   "mimetype": "text/x-python",
   "name": "python",
   "nbconvert_exporter": "python",
   "pygments_lexer": "ipython3",
   "version": "3.11.0"
  }
 },
 "nbformat": 4,
 "nbformat_minor": 4
}
