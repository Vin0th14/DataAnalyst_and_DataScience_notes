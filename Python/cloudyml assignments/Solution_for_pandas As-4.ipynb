{
  "cells": [
    {
      "attachments": {},
      "cell_type": "markdown",
      "id": "XHvoVqK5mYA-",
      "metadata": {
        "id": "XHvoVqK5mYA-"
      },
      "source": [
        "# <center><u>Pandas <u></center>"
      ]
    },
    {
      "attachments": {},
      "cell_type": "markdown",
      "id": "Qo-oPl0jmYBD",
      "metadata": {
        "id": "Qo-oPl0jmYBD"
      },
      "source": [
        "## 1.[Pandas Series](https://pandas.pydata.org/pandas-docs/stable/reference/series.html)"
      ]
    },
    {
      "attachments": {},
      "cell_type": "markdown",
      "id": "SKahU4hEmYBE",
      "metadata": {
        "id": "SKahU4hEmYBE"
      },
      "source": [
        "## **`WATCH VIDEOS IN THE PORTAL`**\n",
        "\n",
        "### **`Watch Video 1: Pandas Series`**"
      ]
    },
    {
      "attachments": {},
      "cell_type": "markdown",
      "id": "t24UcEl0mYBE",
      "metadata": {
        "id": "t24UcEl0mYBE"
      },
      "source": [
        "<p style='text-align: right;'> 1*4=4 points</p>\n"
      ]
    },
    {
      "attachments": {},
      "cell_type": "markdown",
      "id": "v9Qb2_aumYBF",
      "metadata": {
        "id": "v9Qb2_aumYBF"
      },
      "source": [
        "Import pandas and numpy with their aliases"
      ]
    },
    {
      "cell_type": "code",
      "execution_count": 71,
      "id": "ihFP1wXZmYBF",
      "metadata": {
        "id": "ihFP1wXZmYBF"
      },
      "outputs": [],
      "source": [
        "import numpy as np\n",
        "import pandas as pd\n",
        "\n"
      ]
    },
    {
      "attachments": {},
      "cell_type": "markdown",
      "id": "0b8hUBhTmYBG",
      "metadata": {
        "id": "0b8hUBhTmYBG"
      },
      "source": [
        "Create a variable a = pd.Series([ 100, 200, 300, 400])"
      ]
    },
    {
      "cell_type": "code",
      "execution_count": 72,
      "id": "hzvzkbNYmYBH",
      "metadata": {
        "id": "hzvzkbNYmYBH"
      },
      "outputs": [],
      "source": [
        "a = pd.Series([100,200,300,400])\n",
        "\n",
        "\n"
      ]
    },
    {
      "attachments": {},
      "cell_type": "markdown",
      "id": "BSyNFbitmYBH",
      "metadata": {
        "id": "BSyNFbitmYBH"
      },
      "source": [
        "Print a, and data type"
      ]
    },
    {
      "cell_type": "code",
      "execution_count": 73,
      "id": "GMmFsjPamYBH",
      "metadata": {
        "id": "GMmFsjPamYBH",
        "outputId": "e21bf8f8-3d7a-4ec6-ea93-7885f9b0a648"
      },
      "outputs": [
        {
          "name": "stdout",
          "output_type": "stream",
          "text": [
            "0    100\n",
            "1    200\n",
            "2    300\n",
            "3    400\n",
            "dtype: int64\n",
            "<class 'pandas.core.series.Series'>\n"
          ]
        }
      ],
      "source": [
        "print(a)\n",
        "print(type(a))\n",
        "\n",
        "\n"
      ]
    },
    {
      "attachments": {},
      "cell_type": "markdown",
      "id": "z0FryxOXmYBI",
      "metadata": {
        "id": "z0FryxOXmYBI"
      },
      "source": [
        "Using indexing access the element 300 from the series a."
      ]
    },
    {
      "cell_type": "code",
      "execution_count": 74,
      "id": "wERTsh-4mYBJ",
      "metadata": {
        "id": "wERTsh-4mYBJ",
        "outputId": "de60a58f-c084-4955-ab6e-b453f6280c98"
      },
      "outputs": [
        {
          "data": {
            "text/plain": [
              "300"
            ]
          },
          "execution_count": 74,
          "metadata": {},
          "output_type": "execute_result"
        }
      ],
      "source": [
        "a[2]\n"
      ]
    },
    {
      "attachments": {},
      "cell_type": "markdown",
      "id": "HHEKyOtemYBJ",
      "metadata": {
        "id": "HHEKyOtemYBJ"
      },
      "source": [
        "What are the values of index for series a?"
      ]
    },
    {
      "attachments": {},
      "cell_type": "markdown",
      "id": "PQLuzZ8FmYBJ",
      "metadata": {
        "id": "PQLuzZ8FmYBJ"
      },
      "source": [
        "<p style='text-align: right;'> 2*4 = 8 points</p>\n"
      ]
    },
    {
      "cell_type": "code",
      "execution_count": 75,
      "id": "uQOnSJQ4mYBJ",
      "metadata": {
        "id": "uQOnSJQ4mYBJ",
        "outputId": "de695171-b817-4495-bf3b-be91ade7c7c4"
      },
      "outputs": [
        {
          "data": {
            "text/plain": [
              "RangeIndex(start=0, stop=4, step=1)"
            ]
          },
          "execution_count": 75,
          "metadata": {},
          "output_type": "execute_result"
        }
      ],
      "source": [
        "\n",
        "a.index\n"
      ]
    },
    {
      "attachments": {},
      "cell_type": "markdown",
      "id": "EuFjG74wmYBJ",
      "metadata": {
        "id": "EuFjG74wmYBJ"
      },
      "source": [
        "Change the index to  ['c', 'a', 'b', 'd']"
      ]
    },
    {
      "cell_type": "code",
      "execution_count": 76,
      "id": "1ueAAFiJmYBK",
      "metadata": {
        "id": "1ueAAFiJmYBK",
        "outputId": "cc9737be-1c56-4b92-febb-ad609f07e14a"
      },
      "outputs": [
        {
          "name": "stdout",
          "output_type": "stream",
          "text": [
            "c    100\n",
            "a    200\n",
            "b    300\n",
            "d    400\n",
            "dtype: int64\n"
          ]
        }
      ],
      "source": [
        "a.index=['c','a','b','d']\n",
        "print(a)\n",
        "\n",
        "\n"
      ]
    },
    {
      "attachments": {},
      "cell_type": "markdown",
      "id": "ZdZLyRO7mYBK",
      "metadata": {
        "id": "ZdZLyRO7mYBK"
      },
      "source": [
        "Access the value in the series with index 'd'"
      ]
    },
    {
      "cell_type": "code",
      "execution_count": 77,
      "id": "oN1ce3GymYBK",
      "metadata": {
        "id": "oN1ce3GymYBK",
        "outputId": "cba39f6a-cd4d-4934-b5cf-49cafd4ddc31"
      },
      "outputs": [
        {
          "data": {
            "text/plain": [
              "400"
            ]
          },
          "execution_count": 77,
          "metadata": {},
          "output_type": "execute_result"
        }
      ],
      "source": [
        "a.loc['d']\n",
        "\n"
      ]
    },
    {
      "attachments": {},
      "cell_type": "markdown",
      "id": "eQSGwKtFmYBK",
      "metadata": {
        "id": "eQSGwKtFmYBK"
      },
      "source": [
        "Sort the values wrt to the index and print it"
      ]
    },
    {
      "cell_type": "code",
      "execution_count": 78,
      "id": "-arvricBmYBL",
      "metadata": {
        "id": "-arvricBmYBL",
        "outputId": "f1286103-c02c-4ee2-e25f-f8b0d8215198"
      },
      "outputs": [
        {
          "data": {
            "text/plain": [
              "a    200\n",
              "b    300\n",
              "c    100\n",
              "d    400\n",
              "dtype: int64"
            ]
          },
          "execution_count": 78,
          "metadata": {},
          "output_type": "execute_result"
        }
      ],
      "source": [
        "\n",
        "a=a.sort_index()\n",
        "a\n",
        "\n"
      ]
    },
    {
      "attachments": {},
      "cell_type": "markdown",
      "id": "g-fXVSK2mYBL",
      "metadata": {
        "id": "g-fXVSK2mYBL"
      },
      "source": [
        "Create a new Pandas Series b having index as 'e', 'f', and 'g' and value 800,450,100 and print it"
      ]
    },
    {
      "attachments": {},
      "cell_type": "markdown",
      "id": "dC6jYa3dmYBL",
      "metadata": {
        "id": "dC6jYa3dmYBL"
      },
      "source": [
        "<p style='text-align: right;'> 4*2=8 points</p>\n"
      ]
    },
    {
      "cell_type": "code",
      "execution_count": 79,
      "id": "fAg_rI3hmYBL",
      "metadata": {
        "id": "fAg_rI3hmYBL",
        "outputId": "0bf9ddea-64c2-402a-f129-cd640ffec5b2"
      },
      "outputs": [
        {
          "data": {
            "text/plain": [
              "e    800\n",
              "f    450\n",
              "g    100\n",
              "dtype: int64"
            ]
          },
          "execution_count": 79,
          "metadata": {},
          "output_type": "execute_result"
        }
      ],
      "source": [
        "b = pd.Series([800,450,100],index=('e','f','g'))\n",
        "b\n",
        "\n",
        "\n",
        "\n",
        "\n"
      ]
    },
    {
      "attachments": {},
      "cell_type": "markdown",
      "id": "jWhRRtF1mYBL",
      "metadata": {
        "id": "jWhRRtF1mYBL"
      },
      "source": [
        "Append b series at the end of a series"
      ]
    },
    {
      "cell_type": "code",
      "execution_count": 80,
      "id": "TBV8hkRXmYBL",
      "metadata": {
        "id": "TBV8hkRXmYBL"
      },
      "outputs": [
        {
          "data": {
            "text/plain": [
              "a    200\n",
              "b    300\n",
              "c    100\n",
              "d    400\n",
              "e    800\n",
              "f    450\n",
              "g    100\n",
              "dtype: int64"
            ]
          },
          "execution_count": 80,
          "metadata": {},
          "output_type": "execute_result"
        }
      ],
      "source": [
        "# c = a.append(b)\n",
        "\n",
        "a=pd.concat([a,b])\n",
        "a\n"
      ]
    },
    {
      "cell_type": "code",
      "execution_count": 81,
      "id": "Xfm5WgBYmYBM",
      "metadata": {
        "id": "Xfm5WgBYmYBM",
        "outputId": "45dbeb71-cdd2-46ac-8b76-947f9e4eab54"
      },
      "outputs": [
        {
          "data": {
            "text/plain": [
              "a    200\n",
              "b    300\n",
              "c    100\n",
              "d    400\n",
              "e    800\n",
              "f    450\n",
              "g    100\n",
              "dtype: int64"
            ]
          },
          "execution_count": 81,
          "metadata": {},
          "output_type": "execute_result"
        }
      ],
      "source": [
        "#print a again after appending b into it\n",
        "a"
      ]
    },
    {
      "attachments": {},
      "cell_type": "markdown",
      "id": "6lz_BR0umYBM",
      "metadata": {
        "id": "6lz_BR0umYBM"
      },
      "source": [
        "Sort the values in descending order of a and print the index of the sorted series"
      ]
    },
    {
      "cell_type": "code",
      "execution_count": 82,
      "id": "5srJV0y0mYBM",
      "metadata": {
        "id": "5srJV0y0mYBM"
      },
      "outputs": [
        {
          "data": {
            "text/plain": [
              "e    800\n",
              "f    450\n",
              "d    400\n",
              "b    300\n",
              "a    200\n",
              "c    100\n",
              "g    100\n",
              "dtype: int64"
            ]
          },
          "execution_count": 82,
          "metadata": {},
          "output_type": "execute_result"
        }
      ],
      "source": [
        "a = a.sort_values(ascending=False)\n",
        "\n",
        "a"
      ]
    },
    {
      "cell_type": "code",
      "execution_count": 83,
      "id": "9OxmwQRAmYBM",
      "metadata": {
        "id": "9OxmwQRAmYBM",
        "outputId": "d5a2ecdc-aca2-42da-ed66-18102af915bc"
      },
      "outputs": [
        {
          "data": {
            "text/plain": [
              "Index(['e', 'f', 'd', 'b', 'a', 'c', 'g'], dtype='object')"
            ]
          },
          "execution_count": 83,
          "metadata": {},
          "output_type": "execute_result"
        }
      ],
      "source": [
        "\n",
        "a.index\n"
      ]
    },
    {
      "attachments": {},
      "cell_type": "markdown",
      "id": "OQ5gj4romYBM",
      "metadata": {
        "id": "OQ5gj4romYBM"
      },
      "source": [
        "## 2. [Pandas DataFrame](https://pandas.pydata.org/pandas-docs/stable/reference/api/pandas.DataFrame.html)\n",
        "\n",
        "\n",
        "### **`Watch Videos 2: Pandas Dataframe`**"
      ]
    },
    {
      "attachments": {},
      "cell_type": "markdown",
      "id": "lJ_-0Nc1mYBM",
      "metadata": {
        "id": "lJ_-0Nc1mYBM"
      },
      "source": [
        "<p style='text-align: right;'> 8*2 = 16 points</p>\n"
      ]
    },
    {
      "attachments": {},
      "cell_type": "markdown",
      "id": "tD7de_2amYBM",
      "metadata": {
        "id": "tD7de_2amYBM"
      },
      "source": [
        "### Part 1"
      ]
    },
    {
      "attachments": {},
      "cell_type": "markdown",
      "id": "z_nAQa4BmYBN",
      "metadata": {
        "id": "z_nAQa4BmYBN"
      },
      "source": [
        "Create a pandas dataframe df from the series 'a' that we used in the last section, print the dataframe"
      ]
    },
    {
      "cell_type": "code",
      "execution_count": 84,
      "id": "ojD-B6FvmYBN",
      "metadata": {
        "id": "ojD-B6FvmYBN",
        "outputId": "628c307e-fe67-471b-9ff6-e1167f0e9529"
      },
      "outputs": [
        {
          "name": "stdout",
          "output_type": "stream",
          "text": [
            "     0\n",
            "e  800\n",
            "f  450\n",
            "d  400\n",
            "b  300\n",
            "a  200\n",
            "c  100\n",
            "g  100\n"
          ]
        }
      ],
      "source": [
        "df = pd.DataFrame(a)\n",
        "print(df)\n",
        "\n",
        "\n",
        "\n",
        "\n"
      ]
    },
    {
      "attachments": {},
      "cell_type": "markdown",
      "id": "FerZdgCbmYBN",
      "metadata": {
        "id": "FerZdgCbmYBN"
      },
      "source": [
        "Point to ponder! Don't you think series a and dataframe df looks alike? But there must be some difference between them. Hey buddy think and write your thoughts below."
      ]
    },
    {
      "attachments": {},
      "cell_type": "markdown",
      "id": "KDMbMmdnmYBN",
      "metadata": {
        "id": "KDMbMmdnmYBN"
      },
      "source": [
        "<p style='text-align: right;'> 5 points</p>\n"
      ]
    },
    {
      "cell_type": "code",
      "execution_count": null,
      "id": "2r2SyCYNmYBN",
      "metadata": {
        "id": "2r2SyCYNmYBN"
      },
      "outputs": [],
      "source": []
    },
    {
      "attachments": {},
      "cell_type": "markdown",
      "id": "r54CiOOlmYBN",
      "metadata": {
        "id": "r54CiOOlmYBN"
      },
      "source": [
        "<p style='text-align: right;'> 2 + 1*4 = 6 points</p>\n"
      ]
    },
    {
      "attachments": {},
      "cell_type": "markdown",
      "id": "yzrIH3irmYBN",
      "metadata": {
        "id": "yzrIH3irmYBN"
      },
      "source": [
        "What is the shape of the datafarme <br>\n",
        "(also, what does it imply?)"
      ]
    },
    {
      "cell_type": "code",
      "execution_count": 85,
      "id": "aFo5tNrVmYBN",
      "metadata": {
        "id": "aFo5tNrVmYBN",
        "outputId": "f3145f5e-75b2-4bf0-87f3-07c405845ad4"
      },
      "outputs": [
        {
          "data": {
            "text/plain": [
              "(7, 1)"
            ]
          },
          "execution_count": 85,
          "metadata": {},
          "output_type": "execute_result"
        }
      ],
      "source": [
        "df.shape\n",
        "\n",
        "\n"
      ]
    },
    {
      "attachments": {},
      "cell_type": "markdown",
      "id": "Dl0Hr0LSmYBO",
      "metadata": {
        "id": "Dl0Hr0LSmYBO"
      },
      "source": [
        "Hey! remember shape (7,1) implies dataframe has 7 rows and 1 column. "
      ]
    },
    {
      "attachments": {},
      "cell_type": "markdown",
      "id": "hwcaXl43mYBO",
      "metadata": {
        "id": "hwcaXl43mYBO"
      },
      "source": [
        "What is the index of the dataframe, is it same as the series 'a' "
      ]
    },
    {
      "cell_type": "code",
      "execution_count": 86,
      "id": "1-gMxT-emYBO",
      "metadata": {
        "id": "1-gMxT-emYBO",
        "outputId": "25df79a2-b1c6-45af-b179-53b79fe23fcd"
      },
      "outputs": [
        {
          "data": {
            "text/plain": [
              "Index(['e', 'f', 'd', 'b', 'a', 'c', 'g'], dtype='object')"
            ]
          },
          "execution_count": 86,
          "metadata": {},
          "output_type": "execute_result"
        }
      ],
      "source": [
        "# yep its same as the series.\n",
        "\n",
        "df.index"
      ]
    },
    {
      "attachments": {},
      "cell_type": "markdown",
      "id": "C5wadnBymYBO",
      "metadata": {
        "id": "C5wadnBymYBO"
      },
      "source": [
        "print the head and tail of the dataframe. <br>\n",
        "Additional - (what does head and tali represent?)"
      ]
    },
    {
      "cell_type": "code",
      "execution_count": 87,
      "id": "U2vxYrPnmYBO",
      "metadata": {
        "id": "U2vxYrPnmYBO",
        "outputId": "7f439669-2345-46f9-f46e-d134fb09bbd7"
      },
      "outputs": [
        {
          "data": {
            "text/html": [
              "<div>\n",
              "<style scoped>\n",
              "    .dataframe tbody tr th:only-of-type {\n",
              "        vertical-align: middle;\n",
              "    }\n",
              "\n",
              "    .dataframe tbody tr th {\n",
              "        vertical-align: top;\n",
              "    }\n",
              "\n",
              "    .dataframe thead th {\n",
              "        text-align: right;\n",
              "    }\n",
              "</style>\n",
              "<table border=\"1\" class=\"dataframe\">\n",
              "  <thead>\n",
              "    <tr style=\"text-align: right;\">\n",
              "      <th></th>\n",
              "      <th>0</th>\n",
              "    </tr>\n",
              "  </thead>\n",
              "  <tbody>\n",
              "    <tr>\n",
              "      <th>e</th>\n",
              "      <td>800</td>\n",
              "    </tr>\n",
              "    <tr>\n",
              "      <th>f</th>\n",
              "      <td>450</td>\n",
              "    </tr>\n",
              "    <tr>\n",
              "      <th>d</th>\n",
              "      <td>400</td>\n",
              "    </tr>\n",
              "    <tr>\n",
              "      <th>b</th>\n",
              "      <td>300</td>\n",
              "    </tr>\n",
              "    <tr>\n",
              "      <th>a</th>\n",
              "      <td>200</td>\n",
              "    </tr>\n",
              "  </tbody>\n",
              "</table>\n",
              "</div>"
            ],
            "text/plain": [
              "     0\n",
              "e  800\n",
              "f  450\n",
              "d  400\n",
              "b  300\n",
              "a  200"
            ]
          },
          "execution_count": 87,
          "metadata": {},
          "output_type": "execute_result"
        }
      ],
      "source": [
        "\n",
        "df.head()\n",
        "\n"
      ]
    },
    {
      "cell_type": "code",
      "execution_count": 88,
      "id": "nikOdGC_mYBO",
      "metadata": {
        "id": "nikOdGC_mYBO",
        "outputId": "2ab575b8-468b-4fbe-a6fa-80a607a83857"
      },
      "outputs": [
        {
          "data": {
            "text/html": [
              "<div>\n",
              "<style scoped>\n",
              "    .dataframe tbody tr th:only-of-type {\n",
              "        vertical-align: middle;\n",
              "    }\n",
              "\n",
              "    .dataframe tbody tr th {\n",
              "        vertical-align: top;\n",
              "    }\n",
              "\n",
              "    .dataframe thead th {\n",
              "        text-align: right;\n",
              "    }\n",
              "</style>\n",
              "<table border=\"1\" class=\"dataframe\">\n",
              "  <thead>\n",
              "    <tr style=\"text-align: right;\">\n",
              "      <th></th>\n",
              "      <th>0</th>\n",
              "    </tr>\n",
              "  </thead>\n",
              "  <tbody>\n",
              "    <tr>\n",
              "      <th>d</th>\n",
              "      <td>400</td>\n",
              "    </tr>\n",
              "    <tr>\n",
              "      <th>b</th>\n",
              "      <td>300</td>\n",
              "    </tr>\n",
              "    <tr>\n",
              "      <th>a</th>\n",
              "      <td>200</td>\n",
              "    </tr>\n",
              "    <tr>\n",
              "      <th>c</th>\n",
              "      <td>100</td>\n",
              "    </tr>\n",
              "    <tr>\n",
              "      <th>g</th>\n",
              "      <td>100</td>\n",
              "    </tr>\n",
              "  </tbody>\n",
              "</table>\n",
              "</div>"
            ],
            "text/plain": [
              "     0\n",
              "d  400\n",
              "b  300\n",
              "a  200\n",
              "c  100\n",
              "g  100"
            ]
          },
          "execution_count": 88,
          "metadata": {},
          "output_type": "execute_result"
        }
      ],
      "source": [
        "\n",
        "\n",
        "df.tail()"
      ]
    },
    {
      "attachments": {},
      "cell_type": "markdown",
      "id": "Ci2tiwbBmYBO",
      "metadata": {
        "id": "Ci2tiwbBmYBO"
      },
      "source": [
        "Rename the column of the dataframe as 'points'"
      ]
    },
    {
      "attachments": {},
      "cell_type": "markdown",
      "id": "rCtjS-AqmYBP",
      "metadata": {
        "id": "rCtjS-AqmYBP"
      },
      "source": [
        "<p style='text-align: right;'> 2 points</p>\n"
      ]
    },
    {
      "cell_type": "code",
      "execution_count": 89,
      "id": "K3OsbVD3mYBP",
      "metadata": {
        "id": "K3OsbVD3mYBP",
        "outputId": "f49057a3-e48a-4124-c1f9-3ccdf264dbf3"
      },
      "outputs": [
        {
          "data": {
            "text/html": [
              "<div>\n",
              "<style scoped>\n",
              "    .dataframe tbody tr th:only-of-type {\n",
              "        vertical-align: middle;\n",
              "    }\n",
              "\n",
              "    .dataframe tbody tr th {\n",
              "        vertical-align: top;\n",
              "    }\n",
              "\n",
              "    .dataframe thead th {\n",
              "        text-align: right;\n",
              "    }\n",
              "</style>\n",
              "<table border=\"1\" class=\"dataframe\">\n",
              "  <thead>\n",
              "    <tr style=\"text-align: right;\">\n",
              "      <th></th>\n",
              "      <th>points</th>\n",
              "    </tr>\n",
              "  </thead>\n",
              "  <tbody>\n",
              "    <tr>\n",
              "      <th>e</th>\n",
              "      <td>800</td>\n",
              "    </tr>\n",
              "    <tr>\n",
              "      <th>f</th>\n",
              "      <td>450</td>\n",
              "    </tr>\n",
              "    <tr>\n",
              "      <th>d</th>\n",
              "      <td>400</td>\n",
              "    </tr>\n",
              "    <tr>\n",
              "      <th>b</th>\n",
              "      <td>300</td>\n",
              "    </tr>\n",
              "    <tr>\n",
              "      <th>a</th>\n",
              "      <td>200</td>\n",
              "    </tr>\n",
              "    <tr>\n",
              "      <th>c</th>\n",
              "      <td>100</td>\n",
              "    </tr>\n",
              "    <tr>\n",
              "      <th>g</th>\n",
              "      <td>100</td>\n",
              "    </tr>\n",
              "  </tbody>\n",
              "</table>\n",
              "</div>"
            ],
            "text/plain": [
              "   points\n",
              "e     800\n",
              "f     450\n",
              "d     400\n",
              "b     300\n",
              "a     200\n",
              "c     100\n",
              "g     100"
            ]
          },
          "execution_count": 89,
          "metadata": {},
          "output_type": "execute_result"
        }
      ],
      "source": [
        "df.columns=['points']\n",
        "df\n",
        "\n",
        "\n"
      ]
    },
    {
      "attachments": {},
      "cell_type": "markdown",
      "id": "bBV0VfzzmYBP",
      "metadata": {
        "id": "bBV0VfzzmYBP"
      },
      "source": [
        "Create another Series 'fruits', which contains random names of fruits from ['orange','mango','apple']. The series should contain 7 elements, randomly selected from ['orange','mango','apple']"
      ]
    },
    {
      "attachments": {},
      "cell_type": "markdown",
      "id": "xzR8AxbumYBP",
      "metadata": {
        "id": "xzR8AxbumYBP"
      },
      "source": [
        "<p style='text-align: right;'> 5 points</p>\n"
      ]
    },
    {
      "cell_type": "code",
      "execution_count": 90,
      "id": "baUmpsuhmYBP",
      "metadata": {
        "id": "baUmpsuhmYBP",
        "outputId": "8cbe922c-d257-4587-a7ff-93de58af7c0e"
      },
      "outputs": [
        {
          "data": {
            "text/plain": [
              "array(['mango', 'mango', 'apple', 'orange', 'apple', 'orange', 'apple'],\n",
              "      dtype='<U6')"
            ]
          },
          "execution_count": 90,
          "metadata": {},
          "output_type": "execute_result"
        }
      ],
      "source": [
        "#Create fruits array\n",
        "\n",
        "fruits =np.array(['mango', 'mango', 'apple', 'orange', 'apple', 'orange', 'apple'])\n",
        "\n",
        "fruits\n",
        "\n"
      ]
    },
    {
      "cell_type": "code",
      "execution_count": 91,
      "id": "QrbnjM8FmYBP",
      "metadata": {
        "id": "QrbnjM8FmYBP",
        "outputId": "f7d318ae-c463-4a03-fb32-466034a5073b"
      },
      "outputs": [
        {
          "data": {
            "text/plain": [
              "0     mango\n",
              "1     mango\n",
              "2     apple\n",
              "3    orange\n",
              "4     apple\n",
              "5    orange\n",
              "6     apple\n",
              "dtype: object"
            ]
          },
          "execution_count": 91,
          "metadata": {},
          "output_type": "execute_result"
        }
      ],
      "source": [
        "#Create series fruits out of fruits array\n",
        "\n",
        "fruits =pd.Series(fruits)\n",
        "fruits\n",
        "\n",
        "\n"
      ]
    },
    {
      "attachments": {},
      "cell_type": "markdown",
      "id": "20slMbq5mYBP",
      "metadata": {
        "id": "20slMbq5mYBP"
      },
      "source": [
        "Change the index of fruits to the index of dataframe df"
      ]
    },
    {
      "attachments": {},
      "cell_type": "markdown",
      "id": "G8LA7ZjXmYBQ",
      "metadata": {
        "id": "G8LA7ZjXmYBQ"
      },
      "source": [
        "<p style='text-align: right;'> 5 points</p>\n"
      ]
    },
    {
      "cell_type": "code",
      "execution_count": 92,
      "id": "1n4THBgkmYBQ",
      "metadata": {
        "id": "1n4THBgkmYBQ",
        "outputId": "6ca845e1-a58b-4a40-d18d-8a59a62a7f8f"
      },
      "outputs": [
        {
          "data": {
            "text/plain": [
              "e     mango\n",
              "f     mango\n",
              "d     apple\n",
              "b    orange\n",
              "a     apple\n",
              "c    orange\n",
              "g     apple\n",
              "dtype: object"
            ]
          },
          "execution_count": 92,
          "metadata": {},
          "output_type": "execute_result"
        }
      ],
      "source": [
        "\n",
        "fruits.index=df.index\n",
        "fruits\n",
        "\n",
        "\n",
        "\n"
      ]
    },
    {
      "attachments": {},
      "cell_type": "markdown",
      "id": "oPv8dJ_2mYBQ",
      "metadata": {
        "id": "oPv8dJ_2mYBQ"
      },
      "source": [
        "Add this fruits series as a new column to the dataframe df with its column name as 'fruits'\n",
        "<br>print the head of the dataframe to verify"
      ]
    },
    {
      "cell_type": "code",
      "execution_count": 93,
      "id": "tit_GDscmYBQ",
      "metadata": {
        "id": "tit_GDscmYBQ",
        "outputId": "a2d0549f-2846-4331-c159-2f76af6fe9e2"
      },
      "outputs": [
        {
          "data": {
            "text/html": [
              "<div>\n",
              "<style scoped>\n",
              "    .dataframe tbody tr th:only-of-type {\n",
              "        vertical-align: middle;\n",
              "    }\n",
              "\n",
              "    .dataframe tbody tr th {\n",
              "        vertical-align: top;\n",
              "    }\n",
              "\n",
              "    .dataframe thead th {\n",
              "        text-align: right;\n",
              "    }\n",
              "</style>\n",
              "<table border=\"1\" class=\"dataframe\">\n",
              "  <thead>\n",
              "    <tr style=\"text-align: right;\">\n",
              "      <th></th>\n",
              "      <th>points</th>\n",
              "      <th>Fruits</th>\n",
              "    </tr>\n",
              "  </thead>\n",
              "  <tbody>\n",
              "    <tr>\n",
              "      <th>e</th>\n",
              "      <td>800</td>\n",
              "      <td>mango</td>\n",
              "    </tr>\n",
              "    <tr>\n",
              "      <th>f</th>\n",
              "      <td>450</td>\n",
              "      <td>mango</td>\n",
              "    </tr>\n",
              "    <tr>\n",
              "      <th>d</th>\n",
              "      <td>400</td>\n",
              "      <td>apple</td>\n",
              "    </tr>\n",
              "    <tr>\n",
              "      <th>b</th>\n",
              "      <td>300</td>\n",
              "      <td>orange</td>\n",
              "    </tr>\n",
              "    <tr>\n",
              "      <th>a</th>\n",
              "      <td>200</td>\n",
              "      <td>apple</td>\n",
              "    </tr>\n",
              "  </tbody>\n",
              "</table>\n",
              "</div>"
            ],
            "text/plain": [
              "   points  Fruits\n",
              "e     800   mango\n",
              "f     450   mango\n",
              "d     400   apple\n",
              "b     300  orange\n",
              "a     200   apple"
            ]
          },
          "execution_count": 93,
          "metadata": {},
          "output_type": "execute_result"
        }
      ],
      "source": [
        "\n",
        "df['Fruits']=fruits\n",
        "df.head()\n",
        "\n",
        "\n"
      ]
    },
    {
      "attachments": {},
      "cell_type": "markdown",
      "id": "iJszrVdAmYBQ",
      "metadata": {
        "id": "iJszrVdAmYBQ"
      },
      "source": [
        "Bonus optional question:\n",
        "What if we had to changed the index of the dataframe?\n",
        "Try to add any series to the dataframe with the origianl index (when index of series is not same as to the index of dataframe)\n",
        "\n",
        "Use series as pd.Series([100,200,300,400,500,600,700]) and try to add it to df with column name Bonus_number.\n",
        "\n",
        "Bonus marks: 5 points"
      ]
    },
    {
      "cell_type": "code",
      "execution_count": 94,
      "id": "X3A6oKUXmYBQ",
      "metadata": {
        "id": "X3A6oKUXmYBQ",
        "outputId": "230256fe-9ef4-413a-913f-bd389ac35402"
      },
      "outputs": [
        {
          "data": {
            "text/html": [
              "<div>\n",
              "<style scoped>\n",
              "    .dataframe tbody tr th:only-of-type {\n",
              "        vertical-align: middle;\n",
              "    }\n",
              "\n",
              "    .dataframe tbody tr th {\n",
              "        vertical-align: top;\n",
              "    }\n",
              "\n",
              "    .dataframe thead th {\n",
              "        text-align: right;\n",
              "    }\n",
              "</style>\n",
              "<table border=\"1\" class=\"dataframe\">\n",
              "  <thead>\n",
              "    <tr style=\"text-align: right;\">\n",
              "      <th></th>\n",
              "      <th>points</th>\n",
              "      <th>Fruits</th>\n",
              "      <th>Bonus_number</th>\n",
              "    </tr>\n",
              "  </thead>\n",
              "  <tbody>\n",
              "    <tr>\n",
              "      <th>e</th>\n",
              "      <td>800</td>\n",
              "      <td>mango</td>\n",
              "      <td>NaN</td>\n",
              "    </tr>\n",
              "    <tr>\n",
              "      <th>f</th>\n",
              "      <td>450</td>\n",
              "      <td>mango</td>\n",
              "      <td>NaN</td>\n",
              "    </tr>\n",
              "    <tr>\n",
              "      <th>d</th>\n",
              "      <td>400</td>\n",
              "      <td>apple</td>\n",
              "      <td>NaN</td>\n",
              "    </tr>\n",
              "    <tr>\n",
              "      <th>b</th>\n",
              "      <td>300</td>\n",
              "      <td>orange</td>\n",
              "      <td>NaN</td>\n",
              "    </tr>\n",
              "    <tr>\n",
              "      <th>a</th>\n",
              "      <td>200</td>\n",
              "      <td>apple</td>\n",
              "      <td>NaN</td>\n",
              "    </tr>\n",
              "    <tr>\n",
              "      <th>c</th>\n",
              "      <td>100</td>\n",
              "      <td>orange</td>\n",
              "      <td>NaN</td>\n",
              "    </tr>\n",
              "    <tr>\n",
              "      <th>g</th>\n",
              "      <td>100</td>\n",
              "      <td>apple</td>\n",
              "      <td>NaN</td>\n",
              "    </tr>\n",
              "  </tbody>\n",
              "</table>\n",
              "</div>"
            ],
            "text/plain": [
              "   points  Fruits  Bonus_number\n",
              "e     800   mango           NaN\n",
              "f     450   mango           NaN\n",
              "d     400   apple           NaN\n",
              "b     300  orange           NaN\n",
              "a     200   apple           NaN\n",
              "c     100  orange           NaN\n",
              "g     100   apple           NaN"
            ]
          },
          "execution_count": 94,
          "metadata": {},
          "output_type": "execute_result"
        }
      ],
      "source": [
        "df['Bonus_number']=pd.Series([100,200,300,400,5000,600,700])\n",
        "df\n",
        "\n",
        "\n",
        "\n"
      ]
    },
    {
      "attachments": {},
      "cell_type": "markdown",
      "id": "ACsvenslmYBQ",
      "metadata": {
        "id": "ACsvenslmYBQ"
      },
      "source": [
        "### Part 2\n",
        "\n",
        "### **`Watch Video 3: Pandas Concatenation`**"
      ]
    },
    {
      "attachments": {},
      "cell_type": "markdown",
      "id": "cwgg82N0mYBQ",
      "metadata": {
        "id": "cwgg82N0mYBQ"
      },
      "source": [
        "Create a dataframe  d1 where the cols are  ‘city’ : [‘Chandigarh’, ‘Delhi’, ‘Kanpur’, ‘Chennai’, ‘Manali’ ] and ‘Temperature’ : [15, 22, 20, 26,-2] "
      ]
    },
    {
      "attachments": {},
      "cell_type": "markdown",
      "id": "_Yj7WDLZmYBR",
      "metadata": {
        "id": "_Yj7WDLZmYBR"
      },
      "source": [
        "<p style='text-align: right;'> 2*5=10 points</p>\n"
      ]
    },
    {
      "cell_type": "code",
      "execution_count": 95,
      "id": "09tWwU18mYBR",
      "metadata": {
        "id": "09tWwU18mYBR"
      },
      "outputs": [],
      "source": [
        "d1 = pd.DataFrame({'city' :['Chandigarh', 'Delhi', 'Kanpur', 'Chennai', 'Manali'], 'Temperature' :[15,22,20,26,-2]})\n",
        "\n",
        "\n",
        "\n"
      ]
    },
    {
      "attachments": {},
      "cell_type": "markdown",
      "id": "XAquuUx_mYBR",
      "metadata": {
        "id": "XAquuUx_mYBR"
      },
      "source": [
        "Print(d1)"
      ]
    },
    {
      "cell_type": "code",
      "execution_count": 96,
      "id": "tEaf6dUVmYBR",
      "metadata": {
        "id": "tEaf6dUVmYBR",
        "outputId": "02dd1795-381a-4d83-c8cc-37e15c066de8"
      },
      "outputs": [
        {
          "name": "stdout",
          "output_type": "stream",
          "text": [
            "         city  Temperature\n",
            "0  Chandigarh           15\n",
            "1       Delhi           22\n",
            "2      Kanpur           20\n",
            "3     Chennai           26\n",
            "4      Manali           -2\n"
          ]
        }
      ],
      "source": [
        "\n",
        "print(d1)\n",
        "\n"
      ]
    },
    {
      "attachments": {},
      "cell_type": "markdown",
      "id": "YmZ9u-4FmYBR",
      "metadata": {
        "id": "YmZ9u-4FmYBR"
      },
      "source": [
        "What is the shape of d1."
      ]
    },
    {
      "cell_type": "code",
      "execution_count": 97,
      "id": "upPyfWR7mYBR",
      "metadata": {
        "id": "upPyfWR7mYBR",
        "outputId": "578b226c-493a-4e62-eb42-f29196452acf"
      },
      "outputs": [
        {
          "data": {
            "text/plain": [
              "(5, 2)"
            ]
          },
          "execution_count": 97,
          "metadata": {},
          "output_type": "execute_result"
        }
      ],
      "source": [
        "\n",
        "d1.shape\n",
        "\n"
      ]
    },
    {
      "attachments": {},
      "cell_type": "markdown",
      "id": "JtBQ5SLtmYBS",
      "metadata": {
        "id": "JtBQ5SLtmYBS"
      },
      "source": [
        "Set city = d1['city']"
      ]
    },
    {
      "cell_type": "code",
      "execution_count": 98,
      "id": "mzE78QzrmYBS",
      "metadata": {
        "id": "mzE78QzrmYBS"
      },
      "outputs": [],
      "source": [
        "\n",
        "city=d1['city']\n",
        "\n"
      ]
    },
    {
      "attachments": {},
      "cell_type": "markdown",
      "id": "WubWnFIcmYBS",
      "metadata": {
        "id": "WubWnFIcmYBS"
      },
      "source": [
        "print city <br>\n",
        "What is the type of city."
      ]
    },
    {
      "cell_type": "code",
      "execution_count": 99,
      "id": "6d4EjYTemYBS",
      "metadata": {
        "id": "6d4EjYTemYBS",
        "outputId": "013b3d5f-4f17-45ca-bdbc-7c4f5166df33"
      },
      "outputs": [
        {
          "name": "stdout",
          "output_type": "stream",
          "text": [
            "0    Chandigarh\n",
            "1         Delhi\n",
            "2        Kanpur\n",
            "3       Chennai\n",
            "4        Manali\n",
            "Name: city, dtype: object\n"
          ]
        }
      ],
      "source": [
        "\n",
        "print(city)\n",
        "\n"
      ]
    },
    {
      "attachments": {},
      "cell_type": "markdown",
      "id": "uUdrLgg6mYBS",
      "metadata": {
        "id": "uUdrLgg6mYBS"
      },
      "source": [
        "Create another datafeame 'd2' where the columns are <br>\n",
        "'city' - ['Bengalaru','Coimbatore','Srirangam','Pondicherry'] <br>\n",
        "'Temperature' - [24,35,36,39]"
      ]
    },
    {
      "attachments": {},
      "cell_type": "markdown",
      "id": "A5LN5QuqmYBS",
      "metadata": {
        "id": "A5LN5QuqmYBS"
      },
      "source": [
        "<p style='text-align: right;'> 3+2+5 = 10 points</p>\n"
      ]
    },
    {
      "cell_type": "code",
      "execution_count": 100,
      "id": "CFBCGcvhmYBS",
      "metadata": {
        "id": "CFBCGcvhmYBS",
        "outputId": "fc5089d3-dfb0-438a-b654-920f5d5dac5d"
      },
      "outputs": [
        {
          "name": "stdout",
          "output_type": "stream",
          "text": [
            "          city  Temperature\n",
            "0    Bengaluru           24\n",
            "1   Coimbatore           35\n",
            "2    Srirangam           36\n",
            "3  Pondicherry           39\n"
          ]
        }
      ],
      "source": [
        "d2 = pd.DataFrame({'city' :['Bengaluru', 'Coimbatore', 'Srirangam', 'Pondicherry'], 'Temperature' :[24,35,36,39]})\n",
        "print(d2)\n",
        "\n",
        "\n"
      ]
    },
    {
      "attachments": {},
      "cell_type": "markdown",
      "id": "HivVdLN5mYBT",
      "metadata": {
        "id": "HivVdLN5mYBT"
      },
      "source": [
        "print the shape of this dataframe"
      ]
    },
    {
      "cell_type": "code",
      "execution_count": 101,
      "id": "9FFgtQJhmYBT",
      "metadata": {
        "id": "9FFgtQJhmYBT",
        "outputId": "e2f88a69-e913-4b37-c118-8e6b3f9153c7"
      },
      "outputs": [
        {
          "data": {
            "text/plain": [
              "(4, 2)"
            ]
          },
          "execution_count": 101,
          "metadata": {},
          "output_type": "execute_result"
        }
      ],
      "source": [
        "d2.shape\n"
      ]
    },
    {
      "attachments": {},
      "cell_type": "markdown",
      "id": "UK38h5ktmYBT",
      "metadata": {
        "id": "UK38h5ktmYBT"
      },
      "source": [
        "merge the two dataframes together, save it in a new dataframe named 'd3'"
      ]
    },
    {
      "cell_type": "code",
      "execution_count": 102,
      "id": "GMbOPfjCmYBT",
      "metadata": {
        "id": "GMbOPfjCmYBT",
        "outputId": "66c2b828-c00a-4393-c49c-68057f447fb2"
      },
      "outputs": [
        {
          "data": {
            "text/html": [
              "<div>\n",
              "<style scoped>\n",
              "    .dataframe tbody tr th:only-of-type {\n",
              "        vertical-align: middle;\n",
              "    }\n",
              "\n",
              "    .dataframe tbody tr th {\n",
              "        vertical-align: top;\n",
              "    }\n",
              "\n",
              "    .dataframe thead th {\n",
              "        text-align: right;\n",
              "    }\n",
              "</style>\n",
              "<table border=\"1\" class=\"dataframe\">\n",
              "  <thead>\n",
              "    <tr style=\"text-align: right;\">\n",
              "      <th></th>\n",
              "      <th>city</th>\n",
              "      <th>Temperature</th>\n",
              "    </tr>\n",
              "  </thead>\n",
              "  <tbody>\n",
              "    <tr>\n",
              "      <th>0</th>\n",
              "      <td>Chandigarh</td>\n",
              "      <td>15</td>\n",
              "    </tr>\n",
              "    <tr>\n",
              "      <th>1</th>\n",
              "      <td>Delhi</td>\n",
              "      <td>22</td>\n",
              "    </tr>\n",
              "    <tr>\n",
              "      <th>2</th>\n",
              "      <td>Kanpur</td>\n",
              "      <td>20</td>\n",
              "    </tr>\n",
              "    <tr>\n",
              "      <th>3</th>\n",
              "      <td>Chennai</td>\n",
              "      <td>26</td>\n",
              "    </tr>\n",
              "    <tr>\n",
              "      <th>4</th>\n",
              "      <td>Manali</td>\n",
              "      <td>-2</td>\n",
              "    </tr>\n",
              "    <tr>\n",
              "      <th>0</th>\n",
              "      <td>Bengaluru</td>\n",
              "      <td>24</td>\n",
              "    </tr>\n",
              "    <tr>\n",
              "      <th>1</th>\n",
              "      <td>Coimbatore</td>\n",
              "      <td>35</td>\n",
              "    </tr>\n",
              "    <tr>\n",
              "      <th>2</th>\n",
              "      <td>Srirangam</td>\n",
              "      <td>36</td>\n",
              "    </tr>\n",
              "    <tr>\n",
              "      <th>3</th>\n",
              "      <td>Pondicherry</td>\n",
              "      <td>39</td>\n",
              "    </tr>\n",
              "  </tbody>\n",
              "</table>\n",
              "</div>"
            ],
            "text/plain": [
              "          city  Temperature\n",
              "0   Chandigarh           15\n",
              "1        Delhi           22\n",
              "2       Kanpur           20\n",
              "3      Chennai           26\n",
              "4       Manali           -2\n",
              "0    Bengaluru           24\n",
              "1   Coimbatore           35\n",
              "2    Srirangam           36\n",
              "3  Pondicherry           39"
            ]
          },
          "execution_count": 102,
          "metadata": {},
          "output_type": "execute_result"
        }
      ],
      "source": [
        "d3 = pd.concat([d1,d2])\n",
        "d3\n",
        "\n",
        "\n",
        "\n"
      ]
    },
    {
      "attachments": {},
      "cell_type": "markdown",
      "id": "eDAmyaNAmYBT",
      "metadata": {
        "id": "eDAmyaNAmYBT"
      },
      "source": [
        "# fun fact at high level\n",
        "\n",
        "1. .concat() simply stacks multiple DataFrame together either vertically, or stitches horizontally after aligning on index\n",
        "2. .merge() first aligns two DataFrame' selected common column(s) or index, and then pick up the remaining columns from the aligned rows of each DataFrame\n",
        "\n",
        "Do you know about join function? This interesting quest we give to you to find. "
      ]
    },
    {
      "attachments": {},
      "cell_type": "markdown",
      "id": "1dGlNGzjmYBT",
      "metadata": {
        "id": "1dGlNGzjmYBT"
      },
      "source": [
        "Select the part of the dataframe such that it contains cities wherer temp is less then or equal to 20 <br>\n",
        "How many cities are there? "
      ]
    },
    {
      "attachments": {},
      "cell_type": "markdown",
      "id": "E4SwXV71mYBT",
      "metadata": {
        "id": "E4SwXV71mYBT"
      },
      "source": [
        "<p style='text-align: right;'> 5+5=10 points</p>\n"
      ]
    },
    {
      "cell_type": "code",
      "execution_count": 103,
      "id": "1vtC2UkgmYBT",
      "metadata": {
        "id": "1vtC2UkgmYBT",
        "outputId": "629b26f6-140b-4f57-c794-2202d80300b2"
      },
      "outputs": [
        {
          "data": {
            "text/html": [
              "<div>\n",
              "<style scoped>\n",
              "    .dataframe tbody tr th:only-of-type {\n",
              "        vertical-align: middle;\n",
              "    }\n",
              "\n",
              "    .dataframe tbody tr th {\n",
              "        vertical-align: top;\n",
              "    }\n",
              "\n",
              "    .dataframe thead th {\n",
              "        text-align: right;\n",
              "    }\n",
              "</style>\n",
              "<table border=\"1\" class=\"dataframe\">\n",
              "  <thead>\n",
              "    <tr style=\"text-align: right;\">\n",
              "      <th></th>\n",
              "      <th>city</th>\n",
              "      <th>Temperature</th>\n",
              "    </tr>\n",
              "  </thead>\n",
              "  <tbody>\n",
              "    <tr>\n",
              "      <th>0</th>\n",
              "      <td>Chandigarh</td>\n",
              "      <td>15</td>\n",
              "    </tr>\n",
              "    <tr>\n",
              "      <th>2</th>\n",
              "      <td>Kanpur</td>\n",
              "      <td>20</td>\n",
              "    </tr>\n",
              "    <tr>\n",
              "      <th>4</th>\n",
              "      <td>Manali</td>\n",
              "      <td>-2</td>\n",
              "    </tr>\n",
              "  </tbody>\n",
              "</table>\n",
              "</div>"
            ],
            "text/plain": [
              "         city  Temperature\n",
              "0  Chandigarh           15\n",
              "2      Kanpur           20\n",
              "4      Manali           -2"
            ]
          },
          "execution_count": 103,
          "metadata": {},
          "output_type": "execute_result"
        }
      ],
      "source": [
        "d3[d3['Temperature']<=20]\n",
        "\n",
        "\n"
      ]
    },
    {
      "attachments": {},
      "cell_type": "markdown",
      "id": "82QIQRQUmYBT",
      "metadata": {
        "id": "82QIQRQUmYBT"
      },
      "source": [
        "Select the part of the dataframe such that it contains the cities where tempearature greater than or equal to 35"
      ]
    },
    {
      "cell_type": "code",
      "execution_count": 104,
      "id": "Ea_hMtyGmYBU",
      "metadata": {
        "id": "Ea_hMtyGmYBU",
        "outputId": "540b5d81-ad25-4408-927f-0919887a8100"
      },
      "outputs": [
        {
          "data": {
            "text/html": [
              "<div>\n",
              "<style scoped>\n",
              "    .dataframe tbody tr th:only-of-type {\n",
              "        vertical-align: middle;\n",
              "    }\n",
              "\n",
              "    .dataframe tbody tr th {\n",
              "        vertical-align: top;\n",
              "    }\n",
              "\n",
              "    .dataframe thead th {\n",
              "        text-align: right;\n",
              "    }\n",
              "</style>\n",
              "<table border=\"1\" class=\"dataframe\">\n",
              "  <thead>\n",
              "    <tr style=\"text-align: right;\">\n",
              "      <th></th>\n",
              "      <th>city</th>\n",
              "      <th>Temperature</th>\n",
              "    </tr>\n",
              "  </thead>\n",
              "  <tbody>\n",
              "    <tr>\n",
              "      <th>1</th>\n",
              "      <td>Coimbatore</td>\n",
              "      <td>35</td>\n",
              "    </tr>\n",
              "    <tr>\n",
              "      <th>2</th>\n",
              "      <td>Srirangam</td>\n",
              "      <td>36</td>\n",
              "    </tr>\n",
              "    <tr>\n",
              "      <th>3</th>\n",
              "      <td>Pondicherry</td>\n",
              "      <td>39</td>\n",
              "    </tr>\n",
              "  </tbody>\n",
              "</table>\n",
              "</div>"
            ],
            "text/plain": [
              "          city  Temperature\n",
              "1   Coimbatore           35\n",
              "2    Srirangam           36\n",
              "3  Pondicherry           39"
            ]
          },
          "execution_count": 104,
          "metadata": {},
          "output_type": "execute_result"
        }
      ],
      "source": [
        "d3[d3['Temperature']>=35]\n",
        "\n",
        "\n"
      ]
    },
    {
      "attachments": {},
      "cell_type": "markdown",
      "id": "BrYscXpWmYBU",
      "metadata": {
        "id": "BrYscXpWmYBU"
      },
      "source": [
        "## 3. Applying functions to columns and creating new columns\n",
        "\n",
        "### **`VIdeo 4: Top Pandas Commands in Data Science`**\n",
        "\n",
        "**Note: You can watch full video for more learning or only from timestamp 17:00-20:00**"
      ]
    },
    {
      "attachments": {},
      "cell_type": "markdown",
      "id": "MjhU5ecro0Dm",
      "metadata": {
        "id": "MjhU5ecro0Dm"
      },
      "source": [
        "#### **`Additional Reference:`** https://www.geeksforgeeks.org/python-pandas-apply/"
      ]
    },
    {
      "attachments": {},
      "cell_type": "markdown",
      "id": "7fFrLB7MmYBU",
      "metadata": {
        "id": "7fFrLB7MmYBU"
      },
      "source": [
        "<p style='text-align: right;'> 20 points</p>\n"
      ]
    },
    {
      "attachments": {},
      "cell_type": "markdown",
      "id": "7Z4ioDxtmYBU",
      "metadata": {
        "id": "7Z4ioDxtmYBU"
      },
      "source": [
        "We need to create another column in d3, which contains  a boolean value for each city to indicate whether it's a union territory or not. \n",
        "- HINT: Chandigarh, Pondicherry and Delhi are only 3 union territories here. \n"
      ]
    },
    {
      "cell_type": "code",
      "execution_count": 105,
      "id": "FR2wgv6tmYBU",
      "metadata": {
        "id": "FR2wgv6tmYBU"
      },
      "outputs": [],
      "source": [
        "# write function here\n",
        "\n",
        "def is_ut(x):\n",
        "    \n",
        "    if x=='Chandigarh' or x =='Delhi' or x =='Pondicherry':\n",
        "        return True\n",
        "    else:\n",
        "        return False\n",
        "\n",
        "    \n",
        "d3['is_ut'] = d3['city'].apply(is_ut)\n",
        "\n"
      ]
    },
    {
      "cell_type": "code",
      "execution_count": 106,
      "id": "0hd7QjComYBU",
      "metadata": {
        "id": "0hd7QjComYBU",
        "outputId": "8a788eef-b933-48b0-d1f0-fdaa5b25d102"
      },
      "outputs": [
        {
          "data": {
            "text/html": [
              "<div>\n",
              "<style scoped>\n",
              "    .dataframe tbody tr th:only-of-type {\n",
              "        vertical-align: middle;\n",
              "    }\n",
              "\n",
              "    .dataframe tbody tr th {\n",
              "        vertical-align: top;\n",
              "    }\n",
              "\n",
              "    .dataframe thead th {\n",
              "        text-align: right;\n",
              "    }\n",
              "</style>\n",
              "<table border=\"1\" class=\"dataframe\">\n",
              "  <thead>\n",
              "    <tr style=\"text-align: right;\">\n",
              "      <th></th>\n",
              "      <th>city</th>\n",
              "      <th>Temperature</th>\n",
              "      <th>is_ut</th>\n",
              "    </tr>\n",
              "  </thead>\n",
              "  <tbody>\n",
              "    <tr>\n",
              "      <th>0</th>\n",
              "      <td>Chandigarh</td>\n",
              "      <td>15</td>\n",
              "      <td>True</td>\n",
              "    </tr>\n",
              "    <tr>\n",
              "      <th>1</th>\n",
              "      <td>Delhi</td>\n",
              "      <td>22</td>\n",
              "      <td>True</td>\n",
              "    </tr>\n",
              "    <tr>\n",
              "      <th>2</th>\n",
              "      <td>Kanpur</td>\n",
              "      <td>20</td>\n",
              "      <td>False</td>\n",
              "    </tr>\n",
              "    <tr>\n",
              "      <th>3</th>\n",
              "      <td>Chennai</td>\n",
              "      <td>26</td>\n",
              "      <td>False</td>\n",
              "    </tr>\n",
              "    <tr>\n",
              "      <th>4</th>\n",
              "      <td>Manali</td>\n",
              "      <td>-2</td>\n",
              "      <td>False</td>\n",
              "    </tr>\n",
              "    <tr>\n",
              "      <th>0</th>\n",
              "      <td>Bengaluru</td>\n",
              "      <td>24</td>\n",
              "      <td>False</td>\n",
              "    </tr>\n",
              "    <tr>\n",
              "      <th>1</th>\n",
              "      <td>Coimbatore</td>\n",
              "      <td>35</td>\n",
              "      <td>False</td>\n",
              "    </tr>\n",
              "    <tr>\n",
              "      <th>2</th>\n",
              "      <td>Srirangam</td>\n",
              "      <td>36</td>\n",
              "      <td>False</td>\n",
              "    </tr>\n",
              "    <tr>\n",
              "      <th>3</th>\n",
              "      <td>Pondicherry</td>\n",
              "      <td>39</td>\n",
              "      <td>True</td>\n",
              "    </tr>\n",
              "  </tbody>\n",
              "</table>\n",
              "</div>"
            ],
            "text/plain": [
              "          city  Temperature  is_ut\n",
              "0   Chandigarh           15   True\n",
              "1        Delhi           22   True\n",
              "2       Kanpur           20  False\n",
              "3      Chennai           26  False\n",
              "4       Manali           -2  False\n",
              "0    Bengaluru           24  False\n",
              "1   Coimbatore           35  False\n",
              "2    Srirangam           36  False\n",
              "3  Pondicherry           39   True"
            ]
          },
          "execution_count": 106,
          "metadata": {},
          "output_type": "execute_result"
        }
      ],
      "source": [
        "# print d3\n",
        "\n",
        "d3\n"
      ]
    },
    {
      "attachments": {},
      "cell_type": "markdown",
      "id": "z88YETlMmYBU",
      "metadata": {
        "id": "z88YETlMmYBU"
      },
      "source": [
        "The temperatures mentioned in ‘Temperature’ column are mentioned in Celsius, we need another column which contains the same in Fahrenheit. "
      ]
    },
    {
      "attachments": {},
      "cell_type": "markdown",
      "id": "ywp07m-xmYBU",
      "metadata": {
        "id": "ywp07m-xmYBU"
      },
      "source": [
        "HINT - \n",
        "- Define a function c_to_f which takes input temp in celsius and returns a value with temperature in Fahrenheit.\n",
        "- To check: c_to_f(10) should return 50. \n"
      ]
    },
    {
      "cell_type": "code",
      "execution_count": 107,
      "id": "V0x_0IAAmYBV",
      "metadata": {
        "id": "V0x_0IAAmYBV"
      },
      "outputs": [],
      "source": [
        "# write function here\n",
        "\n",
        "def c_to_f(temp):\n",
        "    f=(temp*1.8)+32\n",
        "    return f\n",
        "\n",
        "\n",
        "\n"
      ]
    },
    {
      "cell_type": "code",
      "execution_count": 108,
      "id": "Wc9meranmYBV",
      "metadata": {
        "id": "Wc9meranmYBV",
        "outputId": "d83f0f45-482d-48a6-9226-2ea5ccac4e55"
      },
      "outputs": [
        {
          "name": "stdout",
          "output_type": "stream",
          "text": [
            "50.0\n"
          ]
        }
      ],
      "source": [
        "# check function c_to_f(10)\n",
        "\n",
        "print(c_to_f(10))\n",
        "\n"
      ]
    },
    {
      "cell_type": "code",
      "execution_count": 109,
      "id": "H79GUcoImYBV",
      "metadata": {
        "id": "H79GUcoImYBV",
        "outputId": "834607ff-0221-45b5-d5b0-64b13a3acdfa"
      },
      "outputs": [
        {
          "data": {
            "text/html": [
              "<div>\n",
              "<style scoped>\n",
              "    .dataframe tbody tr th:only-of-type {\n",
              "        vertical-align: middle;\n",
              "    }\n",
              "\n",
              "    .dataframe tbody tr th {\n",
              "        vertical-align: top;\n",
              "    }\n",
              "\n",
              "    .dataframe thead th {\n",
              "        text-align: right;\n",
              "    }\n",
              "</style>\n",
              "<table border=\"1\" class=\"dataframe\">\n",
              "  <thead>\n",
              "    <tr style=\"text-align: right;\">\n",
              "      <th></th>\n",
              "      <th>city</th>\n",
              "      <th>Temperature</th>\n",
              "      <th>is_ut</th>\n",
              "      <th>temp_farenhiet</th>\n",
              "    </tr>\n",
              "  </thead>\n",
              "  <tbody>\n",
              "    <tr>\n",
              "      <th>0</th>\n",
              "      <td>Chandigarh</td>\n",
              "      <td>15</td>\n",
              "      <td>True</td>\n",
              "      <td>59.0</td>\n",
              "    </tr>\n",
              "    <tr>\n",
              "      <th>1</th>\n",
              "      <td>Delhi</td>\n",
              "      <td>22</td>\n",
              "      <td>True</td>\n",
              "      <td>71.6</td>\n",
              "    </tr>\n",
              "    <tr>\n",
              "      <th>2</th>\n",
              "      <td>Kanpur</td>\n",
              "      <td>20</td>\n",
              "      <td>False</td>\n",
              "      <td>68.0</td>\n",
              "    </tr>\n",
              "    <tr>\n",
              "      <th>3</th>\n",
              "      <td>Chennai</td>\n",
              "      <td>26</td>\n",
              "      <td>False</td>\n",
              "      <td>78.8</td>\n",
              "    </tr>\n",
              "    <tr>\n",
              "      <th>4</th>\n",
              "      <td>Manali</td>\n",
              "      <td>-2</td>\n",
              "      <td>False</td>\n",
              "      <td>28.4</td>\n",
              "    </tr>\n",
              "    <tr>\n",
              "      <th>0</th>\n",
              "      <td>Bengaluru</td>\n",
              "      <td>24</td>\n",
              "      <td>False</td>\n",
              "      <td>75.2</td>\n",
              "    </tr>\n",
              "    <tr>\n",
              "      <th>1</th>\n",
              "      <td>Coimbatore</td>\n",
              "      <td>35</td>\n",
              "      <td>False</td>\n",
              "      <td>95.0</td>\n",
              "    </tr>\n",
              "    <tr>\n",
              "      <th>2</th>\n",
              "      <td>Srirangam</td>\n",
              "      <td>36</td>\n",
              "      <td>False</td>\n",
              "      <td>96.8</td>\n",
              "    </tr>\n",
              "    <tr>\n",
              "      <th>3</th>\n",
              "      <td>Pondicherry</td>\n",
              "      <td>39</td>\n",
              "      <td>True</td>\n",
              "      <td>102.2</td>\n",
              "    </tr>\n",
              "  </tbody>\n",
              "</table>\n",
              "</div>"
            ],
            "text/plain": [
              "          city  Temperature  is_ut  temp_farenhiet\n",
              "0   Chandigarh           15   True            59.0\n",
              "1        Delhi           22   True            71.6\n",
              "2       Kanpur           20  False            68.0\n",
              "3      Chennai           26  False            78.8\n",
              "4       Manali           -2  False            28.4\n",
              "0    Bengaluru           24  False            75.2\n",
              "1   Coimbatore           35  False            95.0\n",
              "2    Srirangam           36  False            96.8\n",
              "3  Pondicherry           39   True           102.2"
            ]
          },
          "execution_count": 109,
          "metadata": {},
          "output_type": "execute_result"
        }
      ],
      "source": [
        "# apply function c_to_f to d3 to create a column 'temp_farenhiet'\n",
        "\n",
        "\n",
        "d3['temp_farenhiet']=d3['Temperature'].apply(c_to_f)\n",
        "d3\n"
      ]
    },
    {
      "attachments": {},
      "cell_type": "markdown",
      "id": "Wj0p6JKHmYBV",
      "metadata": {
        "id": "Wj0p6JKHmYBV"
      },
      "source": [
        "## 4. Indexing and selecting rows in DataFrame\n",
        "\n",
        "### Reference: **`Video 5: Indexing DataFrame`**"
      ]
    },
    {
      "attachments": {},
      "cell_type": "markdown",
      "id": "-A9yKp_UmYBV",
      "metadata": {
        "id": "-A9yKp_UmYBV"
      },
      "source": [
        "<p style='text-align: right;'> 20 points</p>\n"
      ]
    },
    {
      "attachments": {},
      "cell_type": "markdown",
      "id": "fFitRJy2mYBV",
      "metadata": {
        "id": "fFitRJy2mYBV"
      },
      "source": [
        "Select subset of the dataframe d1 such that it contains the cities which are union territories."
      ]
    },
    {
      "cell_type": "code",
      "execution_count": 110,
      "id": "Kg8OSVz0mYBV",
      "metadata": {
        "id": "Kg8OSVz0mYBV",
        "outputId": "686083a4-3b1f-4c7d-8fb8-d26aac318e52"
      },
      "outputs": [
        {
          "data": {
            "text/html": [
              "<div>\n",
              "<style scoped>\n",
              "    .dataframe tbody tr th:only-of-type {\n",
              "        vertical-align: middle;\n",
              "    }\n",
              "\n",
              "    .dataframe tbody tr th {\n",
              "        vertical-align: top;\n",
              "    }\n",
              "\n",
              "    .dataframe thead th {\n",
              "        text-align: right;\n",
              "    }\n",
              "</style>\n",
              "<table border=\"1\" class=\"dataframe\">\n",
              "  <thead>\n",
              "    <tr style=\"text-align: right;\">\n",
              "      <th></th>\n",
              "      <th>city</th>\n",
              "      <th>Temperature</th>\n",
              "      <th>is_ut</th>\n",
              "      <th>temp_farenhiet</th>\n",
              "    </tr>\n",
              "  </thead>\n",
              "  <tbody>\n",
              "    <tr>\n",
              "      <th>0</th>\n",
              "      <td>Chandigarh</td>\n",
              "      <td>15</td>\n",
              "      <td>True</td>\n",
              "      <td>59.0</td>\n",
              "    </tr>\n",
              "    <tr>\n",
              "      <th>1</th>\n",
              "      <td>Delhi</td>\n",
              "      <td>22</td>\n",
              "      <td>True</td>\n",
              "      <td>71.6</td>\n",
              "    </tr>\n",
              "    <tr>\n",
              "      <th>3</th>\n",
              "      <td>Pondicherry</td>\n",
              "      <td>39</td>\n",
              "      <td>True</td>\n",
              "      <td>102.2</td>\n",
              "    </tr>\n",
              "  </tbody>\n",
              "</table>\n",
              "</div>"
            ],
            "text/plain": [
              "          city  Temperature  is_ut  temp_farenhiet\n",
              "0   Chandigarh           15   True            59.0\n",
              "1        Delhi           22   True            71.6\n",
              "3  Pondicherry           39   True           102.2"
            ]
          },
          "execution_count": 110,
          "metadata": {},
          "output_type": "execute_result"
        }
      ],
      "source": [
        "d4=d3[d3['is_ut']==True]\n",
        "d4\n",
        "\n"
      ]
    },
    {
      "attachments": {},
      "cell_type": "markdown",
      "id": "XnxQl4ZPmYBV",
      "metadata": {
        "id": "XnxQl4ZPmYBV"
      },
      "source": [
        "Select a subset of the dataframe d1 such that it contains the cities which only have temperature above 90 Farenhiet."
      ]
    },
    {
      "cell_type": "code",
      "execution_count": 111,
      "id": "9o62VSn7mYBV",
      "metadata": {
        "id": "9o62VSn7mYBV",
        "outputId": "0cf73a78-2dfc-4be7-9bea-43fd0318b657"
      },
      "outputs": [
        {
          "data": {
            "text/html": [
              "<div>\n",
              "<style scoped>\n",
              "    .dataframe tbody tr th:only-of-type {\n",
              "        vertical-align: middle;\n",
              "    }\n",
              "\n",
              "    .dataframe tbody tr th {\n",
              "        vertical-align: top;\n",
              "    }\n",
              "\n",
              "    .dataframe thead th {\n",
              "        text-align: right;\n",
              "    }\n",
              "</style>\n",
              "<table border=\"1\" class=\"dataframe\">\n",
              "  <thead>\n",
              "    <tr style=\"text-align: right;\">\n",
              "      <th></th>\n",
              "      <th>city</th>\n",
              "      <th>Temperature</th>\n",
              "      <th>is_ut</th>\n",
              "      <th>temp_farenhiet</th>\n",
              "    </tr>\n",
              "  </thead>\n",
              "  <tbody>\n",
              "    <tr>\n",
              "      <th>1</th>\n",
              "      <td>Coimbatore</td>\n",
              "      <td>35</td>\n",
              "      <td>False</td>\n",
              "      <td>95.0</td>\n",
              "    </tr>\n",
              "    <tr>\n",
              "      <th>2</th>\n",
              "      <td>Srirangam</td>\n",
              "      <td>36</td>\n",
              "      <td>False</td>\n",
              "      <td>96.8</td>\n",
              "    </tr>\n",
              "    <tr>\n",
              "      <th>3</th>\n",
              "      <td>Pondicherry</td>\n",
              "      <td>39</td>\n",
              "      <td>True</td>\n",
              "      <td>102.2</td>\n",
              "    </tr>\n",
              "  </tbody>\n",
              "</table>\n",
              "</div>"
            ],
            "text/plain": [
              "          city  Temperature  is_ut  temp_farenhiet\n",
              "1   Coimbatore           35  False            95.0\n",
              "2    Srirangam           36  False            96.8\n",
              "3  Pondicherry           39   True           102.2"
            ]
          },
          "execution_count": 111,
          "metadata": {},
          "output_type": "execute_result"
        }
      ],
      "source": [
        "d4=d3[d3['temp_farenhiet']>=90]\n",
        "d4\n",
        "\n",
        "\n"
      ]
    },
    {
      "attachments": {},
      "cell_type": "markdown",
      "id": "IQq7K2EtmYBW",
      "metadata": {
        "id": "IQq7K2EtmYBW"
      },
      "source": [
        "Select only the first three rows of the dataframe d1. \n"
      ]
    },
    {
      "cell_type": "code",
      "execution_count": 112,
      "id": "PlmVOyAAmYBW",
      "metadata": {
        "id": "PlmVOyAAmYBW",
        "outputId": "2c1d6ad5-1e08-4f31-d0c0-c1fbf8289d32"
      },
      "outputs": [
        {
          "data": {
            "text/html": [
              "<div>\n",
              "<style scoped>\n",
              "    .dataframe tbody tr th:only-of-type {\n",
              "        vertical-align: middle;\n",
              "    }\n",
              "\n",
              "    .dataframe tbody tr th {\n",
              "        vertical-align: top;\n",
              "    }\n",
              "\n",
              "    .dataframe thead th {\n",
              "        text-align: right;\n",
              "    }\n",
              "</style>\n",
              "<table border=\"1\" class=\"dataframe\">\n",
              "  <thead>\n",
              "    <tr style=\"text-align: right;\">\n",
              "      <th></th>\n",
              "      <th>city</th>\n",
              "      <th>Temperature</th>\n",
              "      <th>is_ut</th>\n",
              "      <th>temp_farenhiet</th>\n",
              "    </tr>\n",
              "  </thead>\n",
              "  <tbody>\n",
              "    <tr>\n",
              "      <th>0</th>\n",
              "      <td>Chandigarh</td>\n",
              "      <td>15</td>\n",
              "      <td>True</td>\n",
              "      <td>59.0</td>\n",
              "    </tr>\n",
              "    <tr>\n",
              "      <th>1</th>\n",
              "      <td>Delhi</td>\n",
              "      <td>22</td>\n",
              "      <td>True</td>\n",
              "      <td>71.6</td>\n",
              "    </tr>\n",
              "    <tr>\n",
              "      <th>2</th>\n",
              "      <td>Kanpur</td>\n",
              "      <td>20</td>\n",
              "      <td>False</td>\n",
              "      <td>68.0</td>\n",
              "    </tr>\n",
              "  </tbody>\n",
              "</table>\n",
              "</div>"
            ],
            "text/plain": [
              "         city  Temperature  is_ut  temp_farenhiet\n",
              "0  Chandigarh           15   True            59.0\n",
              "1       Delhi           22   True            71.6\n",
              "2      Kanpur           20  False            68.0"
            ]
          },
          "execution_count": 112,
          "metadata": {},
          "output_type": "execute_result"
        }
      ],
      "source": [
        "d3.iloc[:3]"
      ]
    },
    {
      "attachments": {},
      "cell_type": "markdown",
      "id": "MKNIbwW2mYBW",
      "metadata": {
        "id": "MKNIbwW2mYBW"
      },
      "source": [
        "Select all the rows and last two columns in the dataframe.\n",
        "\n",
        "\n"
      ]
    },
    {
      "cell_type": "code",
      "execution_count": 113,
      "id": "WfQasVJImYBW",
      "metadata": {
        "id": "WfQasVJImYBW",
        "outputId": "c157a66e-61b9-4a9a-e7f1-6ee392ccfe3a"
      },
      "outputs": [
        {
          "data": {
            "text/html": [
              "<div>\n",
              "<style scoped>\n",
              "    .dataframe tbody tr th:only-of-type {\n",
              "        vertical-align: middle;\n",
              "    }\n",
              "\n",
              "    .dataframe tbody tr th {\n",
              "        vertical-align: top;\n",
              "    }\n",
              "\n",
              "    .dataframe thead th {\n",
              "        text-align: right;\n",
              "    }\n",
              "</style>\n",
              "<table border=\"1\" class=\"dataframe\">\n",
              "  <thead>\n",
              "    <tr style=\"text-align: right;\">\n",
              "      <th></th>\n",
              "      <th>is_ut</th>\n",
              "      <th>temp_farenhiet</th>\n",
              "    </tr>\n",
              "  </thead>\n",
              "  <tbody>\n",
              "    <tr>\n",
              "      <th>0</th>\n",
              "      <td>True</td>\n",
              "      <td>59.0</td>\n",
              "    </tr>\n",
              "    <tr>\n",
              "      <th>1</th>\n",
              "      <td>True</td>\n",
              "      <td>71.6</td>\n",
              "    </tr>\n",
              "    <tr>\n",
              "      <th>2</th>\n",
              "      <td>False</td>\n",
              "      <td>68.0</td>\n",
              "    </tr>\n",
              "    <tr>\n",
              "      <th>3</th>\n",
              "      <td>False</td>\n",
              "      <td>78.8</td>\n",
              "    </tr>\n",
              "    <tr>\n",
              "      <th>4</th>\n",
              "      <td>False</td>\n",
              "      <td>28.4</td>\n",
              "    </tr>\n",
              "    <tr>\n",
              "      <th>0</th>\n",
              "      <td>False</td>\n",
              "      <td>75.2</td>\n",
              "    </tr>\n",
              "    <tr>\n",
              "      <th>1</th>\n",
              "      <td>False</td>\n",
              "      <td>95.0</td>\n",
              "    </tr>\n",
              "    <tr>\n",
              "      <th>2</th>\n",
              "      <td>False</td>\n",
              "      <td>96.8</td>\n",
              "    </tr>\n",
              "    <tr>\n",
              "      <th>3</th>\n",
              "      <td>True</td>\n",
              "      <td>102.2</td>\n",
              "    </tr>\n",
              "  </tbody>\n",
              "</table>\n",
              "</div>"
            ],
            "text/plain": [
              "   is_ut  temp_farenhiet\n",
              "0   True            59.0\n",
              "1   True            71.6\n",
              "2  False            68.0\n",
              "3  False            78.8\n",
              "4  False            28.4\n",
              "0  False            75.2\n",
              "1  False            95.0\n",
              "2  False            96.8\n",
              "3   True           102.2"
            ]
          },
          "execution_count": 113,
          "metadata": {},
          "output_type": "execute_result"
        }
      ],
      "source": [
        "d3.iloc[:,-2:]"
      ]
    },
    {
      "attachments": {},
      "cell_type": "markdown",
      "id": "LQ9xspkHmYBW",
      "metadata": {
        "id": "LQ9xspkHmYBW"
      },
      "source": [
        "## 5. Reading csv file and group by\n",
        "\n",
        "### Reference: **`Video 6: Reading CSV Files in Colab`**\n",
        "\n",
        "### **`Video 7: Pandas group by`**"
      ]
    },
    {
      "attachments": {},
      "cell_type": "markdown",
      "id": "uiFK-ZHImYBW",
      "metadata": {
        "id": "uiFK-ZHImYBW"
      },
      "source": [
        "<p style='text-align: right;'> 2*2=4 points</p>\n"
      ]
    },
    {
      "attachments": {},
      "cell_type": "markdown",
      "id": "jvtVVnw_mYBW",
      "metadata": {
        "id": "jvtVVnw_mYBW"
      },
      "source": [
        "Read the file 'weather_data.csv' and store it in a pandas dataframe 'df' "
      ]
    },
    {
      "cell_type": "code",
      "execution_count": 114,
      "id": "Gi1bnyUYmYBW",
      "metadata": {
        "id": "Gi1bnyUYmYBW"
      },
      "outputs": [],
      "source": [
        "df = pd.read_csv(r'weather_data.csv')\n"
      ]
    },
    {
      "attachments": {},
      "cell_type": "markdown",
      "id": "8IHtK8VCmYBW",
      "metadata": {
        "id": "8IHtK8VCmYBW"
      },
      "source": [
        "print the shape and head of the dataframe"
      ]
    },
    {
      "cell_type": "code",
      "execution_count": 115,
      "id": "cGhSCb9ymYBX",
      "metadata": {
        "id": "cGhSCb9ymYBX",
        "outputId": "a8ae3b9d-df66-48ed-8035-c6728972ad43"
      },
      "outputs": [
        {
          "name": "stdout",
          "output_type": "stream",
          "text": [
            "(6, 4)\n",
            "        day  temperature  windspeed  event\n",
            "0  1/1/2017           32          6   Rain\n",
            "1  1/2/2017           35          7  Sunny\n",
            "2  1/3/2017           28          2   Snow\n",
            "3  1/4/2017           24          7   Snow\n",
            "4  1/5/2017           32          4   Rain\n"
          ]
        }
      ],
      "source": [
        "print(df.shape)\n",
        "print(df.head())\n",
        "\n",
        "\n"
      ]
    },
    {
      "attachments": {},
      "cell_type": "markdown",
      "id": "RCfZrH2HmYBX",
      "metadata": {
        "id": "RCfZrH2HmYBX"
      },
      "source": [
        "Group the dataframe wrt to 'event' and save the resulting output in a variable named 'g'"
      ]
    },
    {
      "attachments": {},
      "cell_type": "markdown",
      "id": "fH7ZmEOymYBX",
      "metadata": {
        "id": "fH7ZmEOymYBX"
      },
      "source": [
        "<p style='text-align: right;'> 5*3 = 15 points</p>\n"
      ]
    },
    {
      "cell_type": "code",
      "execution_count": 116,
      "id": "fUr9pnPkmYBX",
      "metadata": {
        "id": "fUr9pnPkmYBX"
      },
      "outputs": [],
      "source": [
        "g=df.groupby('event')\n",
        "\n"
      ]
    },
    {
      "attachments": {},
      "cell_type": "markdown",
      "id": "zmI9MJC_mYBX",
      "metadata": {
        "id": "zmI9MJC_mYBX"
      },
      "source": [
        "Print g and  type(g)"
      ]
    },
    {
      "cell_type": "code",
      "execution_count": 117,
      "id": "OMghEs8ZmYBX",
      "metadata": {
        "id": "OMghEs8ZmYBX",
        "outputId": "9d128a9d-8f3a-4a9e-d7a4-96565cceed2a"
      },
      "outputs": [
        {
          "name": "stdout",
          "output_type": "stream",
          "text": [
            "<pandas.core.groupby.generic.DataFrameGroupBy object at 0x0000014ED6CB16D0>\n",
            "<class 'pandas.core.groupby.generic.DataFrameGroupBy'>\n"
          ]
        }
      ],
      "source": [
        "print(g)\n",
        "print(type(g))\n",
        "\n"
      ]
    },
    {
      "attachments": {},
      "cell_type": "markdown",
      "id": "JfkiJO94mYBX",
      "metadata": {
        "id": "JfkiJO94mYBX"
      },
      "source": [
        "Iterate over all the temperatures in g and print them "
      ]
    },
    {
      "cell_type": "code",
      "execution_count": 118,
      "id": "wVlRzIgOmYBX",
      "metadata": {
        "id": "wVlRzIgOmYBX",
        "outputId": "85bc943b-f5b7-4519-985a-cd6c070d690f"
      },
      "outputs": [
        {
          "name": "stdout",
          "output_type": "stream",
          "text": [
            "('Rain',         day  temperature  windspeed event\n",
            "0  1/1/2017           32          6  Rain\n",
            "4  1/5/2017           32          4  Rain)\n",
            "('Snow',         day  temperature  windspeed event\n",
            "2  1/3/2017           28          2  Snow\n",
            "3  1/4/2017           24          7  Snow)\n",
            "('Sunny',         day  temperature  windspeed  event\n",
            "1  1/2/2017           35          7  Sunny\n",
            "5  1/6/2017           31          2  Sunny)\n"
          ]
        }
      ],
      "source": [
        "for temp in g:\n",
        "    print(temp)\n",
        "\n"
      ]
    },
    {
      "attachments": {},
      "cell_type": "markdown",
      "id": "X6LoFMGrmYBY",
      "metadata": {
        "id": "X6LoFMGrmYBY"
      },
      "source": [
        "Use the describle method on g to get the complete description on it."
      ]
    },
    {
      "cell_type": "code",
      "execution_count": 119,
      "id": "1OyEbkkhmYBY",
      "metadata": {
        "id": "1OyEbkkhmYBY",
        "outputId": "6f2a6ce6-4d02-41cd-b889-42dddbc6a181"
      },
      "outputs": [
        {
          "data": {
            "text/html": [
              "<div>\n",
              "<style scoped>\n",
              "    .dataframe tbody tr th:only-of-type {\n",
              "        vertical-align: middle;\n",
              "    }\n",
              "\n",
              "    .dataframe tbody tr th {\n",
              "        vertical-align: top;\n",
              "    }\n",
              "\n",
              "    .dataframe thead tr th {\n",
              "        text-align: left;\n",
              "    }\n",
              "\n",
              "    .dataframe thead tr:last-of-type th {\n",
              "        text-align: right;\n",
              "    }\n",
              "</style>\n",
              "<table border=\"1\" class=\"dataframe\">\n",
              "  <thead>\n",
              "    <tr>\n",
              "      <th></th>\n",
              "      <th colspan=\"8\" halign=\"left\">temperature</th>\n",
              "      <th colspan=\"8\" halign=\"left\">windspeed</th>\n",
              "    </tr>\n",
              "    <tr>\n",
              "      <th></th>\n",
              "      <th>count</th>\n",
              "      <th>mean</th>\n",
              "      <th>std</th>\n",
              "      <th>min</th>\n",
              "      <th>25%</th>\n",
              "      <th>50%</th>\n",
              "      <th>75%</th>\n",
              "      <th>max</th>\n",
              "      <th>count</th>\n",
              "      <th>mean</th>\n",
              "      <th>std</th>\n",
              "      <th>min</th>\n",
              "      <th>25%</th>\n",
              "      <th>50%</th>\n",
              "      <th>75%</th>\n",
              "      <th>max</th>\n",
              "    </tr>\n",
              "    <tr>\n",
              "      <th>event</th>\n",
              "      <th></th>\n",
              "      <th></th>\n",
              "      <th></th>\n",
              "      <th></th>\n",
              "      <th></th>\n",
              "      <th></th>\n",
              "      <th></th>\n",
              "      <th></th>\n",
              "      <th></th>\n",
              "      <th></th>\n",
              "      <th></th>\n",
              "      <th></th>\n",
              "      <th></th>\n",
              "      <th></th>\n",
              "      <th></th>\n",
              "      <th></th>\n",
              "    </tr>\n",
              "  </thead>\n",
              "  <tbody>\n",
              "    <tr>\n",
              "      <th>Rain</th>\n",
              "      <td>2.0</td>\n",
              "      <td>32.0</td>\n",
              "      <td>0.000000</td>\n",
              "      <td>32.0</td>\n",
              "      <td>32.0</td>\n",
              "      <td>32.0</td>\n",
              "      <td>32.0</td>\n",
              "      <td>32.0</td>\n",
              "      <td>2.0</td>\n",
              "      <td>5.0</td>\n",
              "      <td>1.414214</td>\n",
              "      <td>4.0</td>\n",
              "      <td>4.50</td>\n",
              "      <td>5.0</td>\n",
              "      <td>5.50</td>\n",
              "      <td>6.0</td>\n",
              "    </tr>\n",
              "    <tr>\n",
              "      <th>Snow</th>\n",
              "      <td>2.0</td>\n",
              "      <td>26.0</td>\n",
              "      <td>2.828427</td>\n",
              "      <td>24.0</td>\n",
              "      <td>25.0</td>\n",
              "      <td>26.0</td>\n",
              "      <td>27.0</td>\n",
              "      <td>28.0</td>\n",
              "      <td>2.0</td>\n",
              "      <td>4.5</td>\n",
              "      <td>3.535534</td>\n",
              "      <td>2.0</td>\n",
              "      <td>3.25</td>\n",
              "      <td>4.5</td>\n",
              "      <td>5.75</td>\n",
              "      <td>7.0</td>\n",
              "    </tr>\n",
              "    <tr>\n",
              "      <th>Sunny</th>\n",
              "      <td>2.0</td>\n",
              "      <td>33.0</td>\n",
              "      <td>2.828427</td>\n",
              "      <td>31.0</td>\n",
              "      <td>32.0</td>\n",
              "      <td>33.0</td>\n",
              "      <td>34.0</td>\n",
              "      <td>35.0</td>\n",
              "      <td>2.0</td>\n",
              "      <td>4.5</td>\n",
              "      <td>3.535534</td>\n",
              "      <td>2.0</td>\n",
              "      <td>3.25</td>\n",
              "      <td>4.5</td>\n",
              "      <td>5.75</td>\n",
              "      <td>7.0</td>\n",
              "    </tr>\n",
              "  </tbody>\n",
              "</table>\n",
              "</div>"
            ],
            "text/plain": [
              "      temperature                                               windspeed  \\\n",
              "            count  mean       std   min   25%   50%   75%   max     count   \n",
              "event                                                                       \n",
              "Rain          2.0  32.0  0.000000  32.0  32.0  32.0  32.0  32.0       2.0   \n",
              "Snow          2.0  26.0  2.828427  24.0  25.0  26.0  27.0  28.0       2.0   \n",
              "Sunny         2.0  33.0  2.828427  31.0  32.0  33.0  34.0  35.0       2.0   \n",
              "\n",
              "                                                 \n",
              "      mean       std  min   25%  50%   75%  max  \n",
              "event                                            \n",
              "Rain   5.0  1.414214  4.0  4.50  5.0  5.50  6.0  \n",
              "Snow   4.5  3.535534  2.0  3.25  4.5  5.75  7.0  \n",
              "Sunny  4.5  3.535534  2.0  3.25  4.5  5.75  7.0  "
            ]
          },
          "execution_count": 119,
          "metadata": {},
          "output_type": "execute_result"
        }
      ],
      "source": [
        "\n",
        "g.describe()\n"
      ]
    },
    {
      "attachments": {},
      "cell_type": "markdown",
      "id": "SKKjfy9xmYBY",
      "metadata": {
        "id": "SKKjfy9xmYBY"
      },
      "source": [
        "Create a new column in the dataframe df, named 'hot_temp' which contains True if temp is above 30, else False"
      ]
    },
    {
      "attachments": {},
      "cell_type": "markdown",
      "id": "eLAFDOtJmYBY",
      "metadata": {
        "id": "eLAFDOtJmYBY"
      },
      "source": [
        "<p style='text-align: right;'> 5 points</p>\n"
      ]
    },
    {
      "cell_type": "code",
      "execution_count": 120,
      "id": "FAbrAzhNmYBY",
      "metadata": {
        "id": "FAbrAzhNmYBY"
      },
      "outputs": [],
      "source": [
        "#code here to filter df with above condition\n",
        "df['hot_temp'] = df['temperature']>30\n",
        "\n"
      ]
    },
    {
      "cell_type": "code",
      "execution_count": 121,
      "id": "h0SJIzixmYBY",
      "metadata": {
        "id": "h0SJIzixmYBY",
        "outputId": "ee5df960-88b6-4ff1-e309-ba9bc15f425b"
      },
      "outputs": [
        {
          "name": "stdout",
          "output_type": "stream",
          "text": [
            "        day  temperature  windspeed  event  hot_temp\n",
            "0  1/1/2017           32          6   Rain      True\n",
            "1  1/2/2017           35          7  Sunny      True\n",
            "2  1/3/2017           28          2   Snow     False\n",
            "3  1/4/2017           24          7   Snow     False\n",
            "4  1/5/2017           32          4   Rain      True\n",
            "5  1/6/2017           31          2  Sunny      True\n"
          ]
        }
      ],
      "source": [
        "# print df\n",
        "\n",
        "print(df)"
      ]
    },
    {
      "attachments": {},
      "cell_type": "markdown",
      "id": "goEgED0xmYBY",
      "metadata": {
        "id": "goEgED0xmYBY"
      },
      "source": [
        "## Data Range\n",
        "\n",
        "### Reference:-**`Video 8: Pandas Date Range`**"
      ]
    },
    {
      "attachments": {},
      "cell_type": "markdown",
      "id": "bHsjHWvpmYBY",
      "metadata": {
        "id": "bHsjHWvpmYBY"
      },
      "source": [
        "<p style='text-align: right;'> 5*3 = 15 points</p>\n"
      ]
    },
    {
      "attachments": {},
      "cell_type": "markdown",
      "id": "jJOxVdLemYBY",
      "metadata": {
        "id": "jJOxVdLemYBY"
      },
      "source": [
        "Create a pandas daterange where starting date is 1st of January,2020 and end date is 1st of April 2021, store it in a new variable named 'a'"
      ]
    },
    {
      "cell_type": "code",
      "execution_count": 122,
      "id": "Nvx8f5GTmYBZ",
      "metadata": {
        "id": "Nvx8f5GTmYBZ"
      },
      "outputs": [],
      "source": [
        "a = pd.date_range('2020-01-01','2021-04-01',freq='D')\n",
        "\n"
      ]
    },
    {
      "attachments": {},
      "cell_type": "markdown",
      "id": "ybvAMVSzmYBZ",
      "metadata": {
        "id": "ybvAMVSzmYBZ"
      },
      "source": [
        "print a"
      ]
    },
    {
      "cell_type": "code",
      "execution_count": 123,
      "id": "TOe-Alj8mYBZ",
      "metadata": {
        "id": "TOe-Alj8mYBZ",
        "outputId": "a0e830f7-6826-4082-98c4-cc02bcfe43f3"
      },
      "outputs": [
        {
          "name": "stdout",
          "output_type": "stream",
          "text": [
            "DatetimeIndex(['2020-01-01', '2020-01-02', '2020-01-03', '2020-01-04',\n",
            "               '2020-01-05', '2020-01-06', '2020-01-07', '2020-01-08',\n",
            "               '2020-01-09', '2020-01-10',\n",
            "               ...\n",
            "               '2021-03-23', '2021-03-24', '2021-03-25', '2021-03-26',\n",
            "               '2021-03-27', '2021-03-28', '2021-03-29', '2021-03-30',\n",
            "               '2021-03-31', '2021-04-01'],\n",
            "              dtype='datetime64[ns]', length=457, freq='D')\n"
          ]
        }
      ],
      "source": [
        "\n",
        "print(a)\n"
      ]
    },
    {
      "attachments": {},
      "cell_type": "markdown",
      "id": "vI1gctGmmYBZ",
      "metadata": {
        "id": "vI1gctGmmYBZ"
      },
      "source": [
        "What is the len of a?"
      ]
    },
    {
      "cell_type": "code",
      "execution_count": 124,
      "id": "D66uR7vDmYBZ",
      "metadata": {
        "id": "D66uR7vDmYBZ",
        "outputId": "c3fcbc58-7b57-4cf8-bc44-85303b525c6e"
      },
      "outputs": [
        {
          "name": "stdout",
          "output_type": "stream",
          "text": [
            "457\n"
          ]
        }
      ],
      "source": [
        "print(len(a))\n",
        "\n"
      ]
    },
    {
      "attachments": {},
      "cell_type": "markdown",
      "id": "MQvcL-SImYBZ",
      "metadata": {
        "id": "MQvcL-SImYBZ"
      },
      "source": [
        "What is the type of a?"
      ]
    },
    {
      "cell_type": "code",
      "execution_count": 125,
      "id": "cnb8Z0CXmYBZ",
      "metadata": {
        "id": "cnb8Z0CXmYBZ",
        "outputId": "a72dc4cd-5225-4098-8084-900f69caeb81"
      },
      "outputs": [
        {
          "data": {
            "text/plain": [
              "pandas.core.indexes.datetimes.DatetimeIndex"
            ]
          },
          "execution_count": 125,
          "metadata": {},
          "output_type": "execute_result"
        }
      ],
      "source": [
        "type(a)\n",
        "\n",
        "\n"
      ]
    },
    {
      "attachments": {},
      "cell_type": "markdown",
      "id": "uvdNe1lVmYBZ",
      "metadata": {
        "id": "uvdNe1lVmYBZ"
      },
      "source": [
        "________________\n",
        "# Hey high five! You solved the 4th milestone challenge too! Pawri to banti hai ;)\n",
        "________________"
      ]
    }
  ],
  "metadata": {
    "colab": {
      "collapsed_sections": [],
      "provenance": []
    },
    "kernelspec": {
      "display_name": "Python 3",
      "language": "python",
      "name": "python3"
    },
    "language_info": {
      "codemirror_mode": {
        "name": "ipython",
        "version": 3
      },
      "file_extension": ".py",
      "mimetype": "text/x-python",
      "name": "python",
      "nbconvert_exporter": "python",
      "pygments_lexer": "ipython3",
      "version": "3.11.0"
    }
  },
  "nbformat": 4,
  "nbformat_minor": 5
}
