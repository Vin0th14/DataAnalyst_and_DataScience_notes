{
  "cells": [
    {
      "attachments": {},
      "cell_type": "markdown",
      "metadata": {
        "id": "31TVqzSyrP3-"
      },
      "source": [
        "\n",
        "<center> <h1 style=\"background-color:orange; color:white\"><br>Python Python Everywhere<br></h1></center>"
      ]
    },
    {
      "attachments": {},
      "cell_type": "markdown",
      "metadata": {
        "id": "Bc3xJTPCrP4C"
      },
      "source": [
        "# `What you can do with Python?`\n",
        "<h1>fields where you can use Python with Libraries & Frameworks</h1>\n",
        "\n",
        "|OpenCV| Web Scrapping | Machine Learning | Automation Testing | Web Development | Game Devlopment |\n",
        "| --- | --- | --- | --- | --- | --- | \n",
        "|* Sciki-image |* Selenium |* Pandas |* PyUnit |* Flask |* Pand3d\n",
        "|* OpenCV |* Beautiful Soup|* Numpy |* PyTest |* Django |* Arcade\n",
        "|* Pillow |* Requests|* Matplotlib |* Behave |* Web2Py |* PyGlet \n",
        "|* Mahotas |* Lxml|* Seaborn |* Robot |* Cheerypy |* PyOpenGl\n",
        "|* SimpleITK|* Scrapy |* Scikit-learn |* Splinter |* Bottle|* PyGame\n",
        "|*** |*** |* Scipy |*** |* Pyramid |***\n",
        "|*** |*** |* Keras |*** |* CubicWeb |***\n",
        "|*** |*** |* TensorFlow |*** |* Dash |***\n",
        "|*** |*** |* PyTorch |*** |* Falcon |***\n",
        "|*** |*** |* Theano |*** |* TurboGears |***\n",
        "\n",
        "\n"
      ]
    },
    {
      "attachments": {},
      "cell_type": "markdown",
      "metadata": {
        "id": "kcBChyR-rP4D"
      },
      "source": [
        "📌 In above table you can see fields like `OpenCV`, `Web Scrapping`, **`Machine Learning`**, `Automation Testing`, `Web Development`, `Game Development`, these are the all field where you can use Python. <br>\n",
        "Yes application of Python are huge and wide <br>\n"
      ]
    },
    {
      "attachments": {},
      "cell_type": "markdown",
      "metadata": {
        "id": "L2OHN1WrrP4D"
      },
      "source": [
        "<center><h5 style=\"background-color:orange;\"><br>Important Libraries for ML and Data Science<br></h5></center>"
      ]
    },
    {
      "attachments": {},
      "cell_type": "markdown",
      "metadata": {
        "id": "bwA3tk3PrP4E"
      },
      "source": [
        "📌 These are the must know libraryies\n",
        "* **`Numpy`** - Efficient n-dimensional arrays, Linear Algebra, Random Number capabilities\n",
        "* **`Scipy`** - Scientifiv computing tools like Calculus, Signal Processing\n",
        "* **`Pandas`** - Data Reading(multiple formats), manipulation and Cleaning in python\n",
        "* **`Seaborn`** - Built on top of Matplotlib, provides a high-level interface for drawing attractive and informative charts\n",
        "* **`Matplotlib`** - Fundamental library for Data Visualization \n",
        "* **`StatsModel`** - Statistical models, Statical tests, Statical data exploration\n",
        "* **`Scikit-learn`** - Basic Data Preprocessing, Machine Learning Library"
      ]
    },
    {
      "attachments": {},
      "cell_type": "markdown",
      "metadata": {
        "id": "eOIX7LfVNVZn"
      },
      "source": [
        "### **`NOTE: REVISE Previous Python Videos And Watch Videos in The Portal Whenever Suggested in The Assignment`**"
      ]
    },
    {
      "attachments": {},
      "cell_type": "markdown",
      "metadata": {
        "id": "yVE7L7dorP4H"
      },
      "source": [
        "<a id='1'></a><center> <h3 style=\"background-color:orange; color:white\" ><br>Hi, there<br></h3>"
      ]
    },
    {
      "cell_type": "code",
      "execution_count": null,
      "metadata": {
        "colab": {
          "base_uri": "https://localhost:8080/"
        },
        "execution": {
          "iopub.execute_input": "2021-12-13T05:20:57.005459Z",
          "iopub.status.busy": "2021-12-13T05:20:57.005028Z",
          "iopub.status.idle": "2021-12-13T05:20:57.039904Z",
          "shell.execute_reply": "2021-12-13T05:20:57.038882Z",
          "shell.execute_reply.started": "2021-12-13T05:20:57.005334Z"
        },
        "id": "kOtDhbwWrP4I",
        "outputId": "9eb6735c-a4aa-4146-93ce-80536a6d77f6",
        "trusted": true
      },
      "outputs": [],
      "source": [
        "# What is your name! Want to print your name! \n",
        "name=input(\"What is your name: \")\n",
        "print(\"Hi {} welcome \".format(name))\n"
      ]
    },
    {
      "attachments": {},
      "cell_type": "markdown",
      "metadata": {
        "id": "kJxHTHrVrP4I"
      },
      "source": [
        "* `()` <= `Parentheses`\n",
        "* `''` <= `Single Quotes`\n",
        "* `\"\"` <= `Double Quotes`\n",
        "* `\\n` <= `New_line `\n",
        "* `#` <= `Used to comment inside code`"
      ]
    },
    {
      "cell_type": "code",
      "execution_count": null,
      "metadata": {
        "colab": {
          "base_uri": "https://localhost:8080/"
        },
        "execution": {
          "iopub.execute_input": "2021-12-13T05:35:13.151658Z",
          "iopub.status.busy": "2021-12-13T05:35:13.151084Z",
          "iopub.status.idle": "2021-12-13T05:35:13.156858Z",
          "shell.execute_reply": "2021-12-13T05:35:13.155917Z",
          "shell.execute_reply.started": "2021-12-13T05:35:13.151622Z"
        },
        "id": "zzmSYJDLrP4I",
        "outputId": "e99145c4-2375-4574-dd93-65bfa74b9f85",
        "trusted": true
      },
      "outputs": [],
      "source": [
        "# Only use one print function\n",
        "# \\n <= it will break current line \n",
        "print(\"Hi {} welcome \".format(name))"
      ]
    },
    {
      "attachments": {},
      "cell_type": "markdown",
      "metadata": {
        "id": "W23eDrScrP4I"
      },
      "source": [
        "<a id='2'></a><center> <h3 style=\"background-color:orange; color:white\" ><br>Variables<br></h3>"
      ]
    },
    {
      "cell_type": "code",
      "execution_count": null,
      "metadata": {
        "execution": {
          "iopub.execute_input": "2021-12-13T05:40:01.121499Z",
          "iopub.status.busy": "2021-12-13T05:40:01.12116Z",
          "iopub.status.idle": "2021-12-13T05:40:01.126402Z",
          "shell.execute_reply": "2021-12-13T05:40:01.125708Z",
          "shell.execute_reply.started": "2021-12-13T05:40:01.121464Z"
        },
        "id": "hqiWhz6srP4K",
        "trusted": true
      },
      "outputs": [],
      "source": [
        "# define variables named as with values: mukesh 7, z 6, rohan 5, longitude 4,\n",
        "mukesh =7\n",
        "z=6\n",
        "rohan=5\n",
        "longtitude=4"
      ]
    },
    {
      "cell_type": "code",
      "execution_count": null,
      "metadata": {
        "colab": {
          "base_uri": "https://localhost:8080/"
        },
        "execution": {
          "iopub.execute_input": "2021-12-13T05:40:18.616711Z",
          "iopub.status.busy": "2021-12-13T05:40:18.615837Z",
          "iopub.status.idle": "2021-12-13T05:40:18.625081Z",
          "shell.execute_reply": "2021-12-13T05:40:18.624216Z",
          "shell.execute_reply.started": "2021-12-13T05:40:18.616672Z"
        },
        "id": "W77FFVIqrP4K",
        "outputId": "cf4ab741-3257-4600-b001-640f62879305",
        "trusted": true
      },
      "outputs": [],
      "source": [
        "# print required variable\n",
        "print(mukesh)\n",
        "print(z)\n",
        "print(rohan)\n",
        "print(longtitude)"
      ]
    },
    {
      "attachments": {},
      "cell_type": "markdown",
      "metadata": {
        "id": "89kwQhu5rP4K"
      },
      "source": [
        "Variable Assignment:\n",
        "**`Variable_Name = Value`**\n",
        "\n",
        "Variables Naming Rules:\n",
        "* `Python is case-senstive` => x=5 is different from X=5 (one is lowe and other is upper case)\n",
        "* `var name can't start with special character except underscore(_)` => _X = 7 is `valid`, @X = 7 is `invalid`\n",
        "* `var name can't start with number` => 9X = 7 is `invalid`, X9 = 7 is `valid`\n",
        "* can't use `keywords` as a variable name\n",
        "    * "
      ]
    },
    {
      "attachments": {},
      "cell_type": "markdown",
      "metadata": {
        "id": "hiYt4qiJrP4K"
      },
      "source": [
        "# * **`Declaring a Variable`** <br>\n"
      ]
    },
    {
      "cell_type": "code",
      "execution_count": 87,
      "metadata": {
        "execution": {
          "iopub.execute_input": "2021-12-13T05:47:55.408175Z",
          "iopub.status.busy": "2021-12-13T05:47:55.407825Z",
          "iopub.status.idle": "2021-12-13T05:47:55.413447Z",
          "shell.execute_reply": "2021-12-13T05:47:55.412668Z",
          "shell.execute_reply.started": "2021-12-13T05:47:55.40814Z"
        },
        "id": "5pomjoc_rP4L",
        "trusted": true
      },
      "outputs": [
        {
          "name": "stdout",
          "output_type": "stream",
          "text": [
            "False\n"
          ]
        }
      ],
      "source": [
        "# declare 4 variables with values as: ur_age 21,ur_weight 50.6, ur_first_name = 'Mukesh',ur_last_name = \"Manral\", TrueOrFalse compare if  ur_last_name == ur_first_name\n",
        "ur_age=21\n",
        "ur_weight=50.6\n",
        "ur_first_name=\"Mukesh\"\n",
        "ur_last_name=\"Manral\"\n",
        "if ur_first_name == ur_last_name:\n",
        "    print(True)\n",
        "else:\n",
        "    print(False)\n"
      ]
    },
    {
      "attachments": {},
      "cell_type": "markdown",
      "metadata": {
        "id": "aD6_WvkKrP4L"
      },
      "source": [
        "# * **`Data Type(Type of variable)`**"
      ]
    },
    {
      "attachments": {},
      "cell_type": "markdown",
      "metadata": {
        "id": "snzoPkD3rP4L"
      },
      "source": [
        "| Name | Type | Description |\n",
        "| ---- | ---- | ----| \n",
        "|Integers | int | Integer number, like 34,-56 ...|\n",
        "|Float | float | Decimal number, like 3.4,-5.6 ...|\n",
        "|String| str | Ordered sequence of characters, like 'your name' |\n",
        "|Boolean |bool |Logical values indicating True or False only |"
      ]
    },
    {
      "cell_type": "code",
      "execution_count": 90,
      "metadata": {
        "colab": {
          "base_uri": "https://localhost:8080/"
        },
        "execution": {
          "iopub.execute_input": "2021-12-13T05:48:10.44207Z",
          "iopub.status.busy": "2021-12-13T05:48:10.441594Z",
          "iopub.status.idle": "2021-12-13T05:48:10.449074Z",
          "shell.execute_reply": "2021-12-13T05:48:10.448114Z",
          "shell.execute_reply.started": "2021-12-13T05:48:10.442018Z"
        },
        "id": "Bb_fmhaOrP4L",
        "outputId": "6bca97e1-0501-4cc3-fde2-7753f1ccbb1e",
        "trusted": true
      },
      "outputs": [
        {
          "name": "stdout",
          "output_type": "stream",
          "text": [
            "<class 'int'>\n",
            "<class 'float'>\n",
            "<class 'str'>\n",
            "<class 'str'>\n"
          ]
        }
      ],
      "source": [
        "# print type of ur_age,ur_weight,ur_first_name,ur_last_name variables\n",
        "print(type(ur_age))\n",
        "print(type(ur_weight))\n",
        "print(type(ur_first_name))\n",
        "print(type(ur_last_name))"
      ]
    },
    {
      "cell_type": "code",
      "execution_count": 92,
      "metadata": {
        "colab": {
          "base_uri": "https://localhost:8080/"
        },
        "execution": {
          "iopub.execute_input": "2021-12-13T05:49:37.869716Z",
          "iopub.status.busy": "2021-12-13T05:49:37.86939Z",
          "iopub.status.idle": "2021-12-13T05:49:37.875995Z",
          "shell.execute_reply": "2021-12-13T05:49:37.875066Z",
          "shell.execute_reply.started": "2021-12-13T05:49:37.869681Z"
        },
        "id": "iaADKqUwrP4L",
        "outputId": "b9ad6169-2218-45a0-aa88-dd710eafda97",
        "trusted": true
      },
      "outputs": [
        {
          "name": "stdout",
          "output_type": "stream",
          "text": [
            "21\n",
            "50.6\n",
            "Mukesh\n",
            "Manral\n"
          ]
        }
      ],
      "source": [
        "# print values of ur_age,ur_weight,ur_first_name,ur_last_name variables\n",
        "print(ur_age)\n",
        "print(ur_weight)\n",
        "print(ur_first_name)\n",
        "print(ur_last_name)"
      ]
    },
    {
      "cell_type": "code",
      "execution_count": 93,
      "metadata": {
        "colab": {
          "base_uri": "https://localhost:8080/"
        },
        "execution": {
          "iopub.execute_input": "2021-12-13T05:50:49.32591Z",
          "iopub.status.busy": "2021-12-13T05:50:49.325048Z",
          "iopub.status.idle": "2021-12-13T05:50:49.332343Z",
          "shell.execute_reply": "2021-12-13T05:50:49.331287Z",
          "shell.execute_reply.started": "2021-12-13T05:50:49.325858Z"
        },
        "id": "Hde3D2uQrP4L",
        "outputId": "c1a16b4e-14d9-402d-c994-a26d2bde4a50",
        "trusted": true
      },
      "outputs": [
        {
          "name": "stdout",
          "output_type": "stream",
          "text": [
            "False\n"
          ]
        }
      ],
      "source": [
        "# make 2 variables with values as: ur_first_name 'Mukesh',ur_last_name'Mukesh' \n",
        "\n",
        "# make a variable TrueOrFalse which will have comparison of variables ur_last_name == ur_first_name \n",
        "if ur_first_name == ur_last_name:\n",
        "    print(True)\n",
        "else:\n",
        "    print(False)"
      ]
    },
    {
      "cell_type": "code",
      "execution_count": 97,
      "metadata": {
        "colab": {
          "base_uri": "https://localhost:8080/"
        },
        "execution": {
          "iopub.execute_input": "2021-12-13T05:51:34.885949Z",
          "iopub.status.busy": "2021-12-13T05:51:34.885484Z",
          "iopub.status.idle": "2021-12-13T05:51:34.891761Z",
          "shell.execute_reply": "2021-12-13T05:51:34.890717Z",
          "shell.execute_reply.started": "2021-12-13T05:51:34.885913Z"
        },
        "id": "XvFvwpEQrP4L",
        "outputId": "b5852d9d-3f96-4094-9c3f-f0eaa5563a31",
        "trusted": true
      },
      "outputs": [
        {
          "name": "stdout",
          "output_type": "stream",
          "text": [
            "Your name = Mukesh\n",
            "Your age =  21\n"
          ]
        }
      ],
      "source": [
        "# print variables named as (your name and your age)\n",
        "print(\"Your name = {}\".format(ur_first_name))\n",
        "print(\"Your age = \",ur_age)"
      ]
    },
    {
      "attachments": {},
      "cell_type": "markdown",
      "metadata": {
        "id": "SLTS9twurP4L"
      },
      "source": [
        "# *How Variables works in Python\n",
        "[To see how python code is being executed internally](https://pythontutor.com/visualize.html#mode=display)"
      ]
    },
    {
      "cell_type": "code",
      "execution_count": 98,
      "metadata": {
        "colab": {
          "base_uri": "https://localhost:8080/"
        },
        "execution": {
          "iopub.execute_input": "2021-12-13T06:26:21.636531Z",
          "iopub.status.busy": "2021-12-13T06:26:21.636233Z",
          "iopub.status.idle": "2021-12-13T06:26:21.642175Z",
          "shell.execute_reply": "2021-12-13T06:26:21.641262Z",
          "shell.execute_reply.started": "2021-12-13T06:26:21.636499Z"
        },
        "id": "2XCoERjmrP4L",
        "outputId": "6aff9785-0cd2-4904-c682-ecbee81b01b4",
        "trusted": true
      },
      "outputs": [
        {
          "name": "stdout",
          "output_type": "stream",
          "text": [
            "3 10\n"
          ]
        }
      ],
      "source": [
        "# quick variables swap\n",
        "# define 3 variables with values as :x 10, y = x,x 3 \n",
        "x=10\n",
        "y=x\n",
        "x=3\n",
        "# print x,y\n",
        "print(x,y)\n"
      ]
    },
    {
      "attachments": {},
      "cell_type": "markdown",
      "metadata": {
        "id": "kpSfcblGrP4M"
      },
      "source": [
        "\n",
        "<a id='3'></a><center> <h3 style=\"background-color:orange; color:white\" ><br>Assignment Variables & Data Types<br></h3>"
      ]
    },
    {
      "attachments": {},
      "cell_type": "markdown",
      "metadata": {
        "id": "mrQh_aU8rP4M"
      },
      "source": [
        "📌 `When you create a variable you keep some space in memory. These memory locations are then used to store values`"
      ]
    },
    {
      "cell_type": "code",
      "execution_count": 99,
      "metadata": {
        "execution": {
          "iopub.execute_input": "2021-12-13T06:51:26.536827Z",
          "iopub.status.busy": "2021-12-13T06:51:26.536555Z",
          "iopub.status.idle": "2021-12-13T06:51:26.540484Z",
          "shell.execute_reply": "2021-12-13T06:51:26.539662Z",
          "shell.execute_reply.started": "2021-12-13T06:51:26.536795Z"
        },
        "id": "39JWxM7KrP4M",
        "trusted": true
      },
      "outputs": [],
      "source": [
        "# define a variable name \"x\" and assign value 777 to it\n",
        "x=777"
      ]
    },
    {
      "attachments": {},
      "cell_type": "markdown",
      "metadata": {
        "id": "QXnovK7lrP4M"
      },
      "source": [
        "* To view some data on screen, python have `print` function\n",
        "    * Using `print` function we can control view on output screen\n"
      ]
    },
    {
      "cell_type": "code",
      "execution_count": 100,
      "metadata": {
        "colab": {
          "base_uri": "https://localhost:8080/"
        },
        "execution": {
          "iopub.execute_input": "2021-12-13T06:51:37.038441Z",
          "iopub.status.busy": "2021-12-13T06:51:37.038136Z",
          "iopub.status.idle": "2021-12-13T06:51:37.043423Z",
          "shell.execute_reply": "2021-12-13T06:51:37.04243Z",
          "shell.execute_reply.started": "2021-12-13T06:51:37.038407Z"
        },
        "id": "vhpXKHMkrP4M",
        "outputId": "a336a908-1fb6-4cf8-ba49-ee9eb01d43d3",
        "trusted": true
      },
      "outputs": [
        {
          "name": "stdout",
          "output_type": "stream",
          "text": [
            "777\n"
          ]
        }
      ],
      "source": [
        "# print value of variable x\n",
        "print(x)"
      ]
    },
    {
      "attachments": {},
      "cell_type": "markdown",
      "metadata": {
        "id": "slh282AprP4M"
      },
      "source": [
        "# *Identifiers in Python\n",
        "* Like Variables, we have to define `Functions`, `Classes` etc in python\n",
        "    * Naming them helps to differentiate one entity from another\n",
        "* All these names given to these entities are known as `Identifiers`. \n",
        "* Python have some rules to define Identifiers\n",
        "\n",
        "\n",
        "***Rules of Writing Identifiers***\n",
        "\n",
        "* Python is case sensitive language.\n",
        "* Identifiers can be a combination of letters in lowercase (a to z) or uppercase (A to Z) or digits (0 to 9) or an underscore _. \n",
        "    * Names like myVariable, var_1 and print_this, all are valid example.\n",
        "* An identifier cannot start with a digit\n",
        "* `1variable` is invalid, but `variable1` is perfectly fine\n",
        "* We cannot use special symbols like !, @, #, $, % etc. in our identifier. `_` is allowed\n",
        "* ***`Keywords` cannot be used as identifiers =>  `Keywords` are the reserved words in Python***\n",
        "\n",
        "---\n",
        "***Keywords in Python***\n",
        "\n",
        "---\n",
        "\n",
        "* `False`\n",
        "* `class`\n",
        "* `finally`\n",
        "* `is`\n",
        "* `return`\n",
        "* `None`\n",
        "* `continue`\n",
        "* `for`\n",
        "* `lambda`\n",
        "* `try`\n",
        "* `True`.. etc\n"
      ]
    },
    {
      "attachments": {},
      "cell_type": "markdown",
      "metadata": {
        "id": "SrryZ3enrP4N"
      },
      "source": [
        "# 📌 Type Conversion\n",
        "\n",
        "\n",
        "***Python defines type conversion functions to directly convert one data type to another.***"
      ]
    },
    {
      "cell_type": "code",
      "execution_count": 101,
      "metadata": {
        "colab": {
          "base_uri": "https://localhost:8080/"
        },
        "execution": {
          "iopub.execute_input": "2021-12-13T06:53:09.525961Z",
          "iopub.status.busy": "2021-12-13T06:53:09.525149Z",
          "iopub.status.idle": "2021-12-13T06:53:09.531427Z",
          "shell.execute_reply": "2021-12-13T06:53:09.530796Z",
          "shell.execute_reply.started": "2021-12-13T06:53:09.525923Z"
        },
        "id": "yeQ9bxJtrP4N",
        "outputId": "1a996f30-5420-4328-9dbb-7b26801b3e7e",
        "trusted": true
      },
      "outputs": [
        {
          "name": "stdout",
          "output_type": "stream",
          "text": [
            "<class 'float'>\n",
            "<class 'int'>\n",
            "26\n",
            "26.33333\n"
          ]
        }
      ],
      "source": [
        "#convert float to integer\n",
        "\n",
        "#1. make a variable named as my_weight_float with datatype float and value 26.33333\n",
        "#2. make another var named as my_weight_int change above variable datatype to int \n",
        "#3. print data type of my_weight_float and my_weight_int\n",
        "#4. print my_weight_float and my_weight_int\n",
        "my_weight_float = 26.33333\n",
        "my_weight_int=int(my_weight_float)\n",
        "print(type(my_weight_float))\n",
        "print(type(my_weight_int))\n",
        "print(my_weight_int)\n",
        "print(my_weight_float)\n"
      ]
    },
    {
      "attachments": {},
      "cell_type": "markdown",
      "metadata": {
        "id": "cx_jl2V9rP4N"
      },
      "source": [
        " ➕ if we try to add string and integer number, it will give an error"
      ]
    },
    {
      "cell_type": "code",
      "execution_count": 103,
      "metadata": {
        "colab": {
          "base_uri": "https://localhost:8080/",
          "height": 166
        },
        "execution": {
          "iopub.execute_input": "2021-12-13T06:54:05.196633Z",
          "iopub.status.busy": "2021-12-13T06:54:05.196028Z",
          "iopub.status.idle": "2021-12-13T06:54:05.210193Z",
          "shell.execute_reply": "2021-12-13T06:54:05.209093Z",
          "shell.execute_reply.started": "2021-12-13T06:54:05.196593Z"
        },
        "id": "uap3_C2JrP4N",
        "outputId": "c9591833-94df-4411-9eff-c0e370c26a97",
        "trusted": true
      },
      "outputs": [],
      "source": [
        "# make a variable name with value as: adding_string_and_number '3' + 7\n",
        "adding_string_add_number=int('3')+7"
      ]
    },
    {
      "cell_type": "code",
      "execution_count": 104,
      "metadata": {
        "colab": {
          "base_uri": "https://localhost:8080/"
        },
        "execution": {
          "iopub.execute_input": "2021-12-13T06:54:35.120497Z",
          "iopub.status.busy": "2021-12-13T06:54:35.120169Z",
          "iopub.status.idle": "2021-12-13T06:54:35.128054Z",
          "shell.execute_reply": "2021-12-13T06:54:35.127418Z",
          "shell.execute_reply.started": "2021-12-13T06:54:35.120468Z"
        },
        "id": "cJoissQsrP4N",
        "outputId": "69dc47c4-d251-447f-a632-a976c32f792d",
        "trusted": true
      },
      "outputs": [
        {
          "name": "stdout",
          "output_type": "stream",
          "text": [
            "10\n"
          ]
        }
      ],
      "source": [
        "# convert above string '3' to integer and then add both '3' and 7 and save in variable named as  adding_string_and_number\n",
        "# called type conversion: string to int\n",
        "adding_string_add_number=int('3')+7\n",
        "\n",
        "# print variable adding_string_and_number\n",
        "print(adding_string_add_number)"
      ]
    },
    {
      "cell_type": "code",
      "execution_count": 114,
      "metadata": {
        "colab": {
          "base_uri": "https://localhost:8080/"
        },
        "execution": {
          "iopub.execute_input": "2021-12-13T06:55:34.559173Z",
          "iopub.status.busy": "2021-12-13T06:55:34.558333Z",
          "iopub.status.idle": "2021-12-13T06:55:34.564574Z",
          "shell.execute_reply": "2021-12-13T06:55:34.563731Z",
          "shell.execute_reply.started": "2021-12-13T06:55:34.559128Z"
        },
        "id": "a4Wu-bO8rP4N",
        "outputId": "06078d3f-60e1-4f35-a6bf-4221ba05f65f",
        "trusted": true
      },
      "outputs": [
        {
          "name": "stdout",
          "output_type": "stream",
          "text": [
            "Your Money = 18 Frd Money = 21\n"
          ]
        }
      ],
      "source": [
        "# make two variables with values as: ur_money 18 and frnd_money 21 \n",
        "ur_money =18\n",
        "frnd_money=21\n",
        "# now use f string in print to see how much mony you and your friend have\n",
        "print(f'Your Money = {ur_money} Frd Money = {frnd_money}')"
      ]
    },
    {
      "cell_type": "code",
      "execution_count": 115,
      "metadata": {
        "colab": {
          "base_uri": "https://localhost:8080/"
        },
        "execution": {
          "iopub.execute_input": "2021-12-13T06:56:35.5304Z",
          "iopub.status.busy": "2021-12-13T06:56:35.530114Z",
          "iopub.status.idle": "2021-12-13T06:56:35.535706Z",
          "shell.execute_reply": "2021-12-13T06:56:35.534886Z",
          "shell.execute_reply.started": "2021-12-13T06:56:35.530371Z"
        },
        "id": "oQqq8x-MrP4N",
        "outputId": "94f46305-be67-4ada-a00a-0d28f611402a",
        "trusted": true
      },
      "outputs": [
        {
          "name": "stdout",
          "output_type": "stream",
          "text": [
            "Your Money = 21 Frd Money = 18\n"
          ]
        }
      ],
      "source": [
        "# swap your money with friend money values\n",
        "\n",
        "temp1=ur_money\n",
        "ur_money=frnd_money\n",
        "frnd_money=temp1\n",
        "# now use f string in print to see how much mony you and your friend have now after swap\n",
        "print(f'Your Money = {ur_money} Frd Money = {frnd_money}')"
      ]
    },
    {
      "attachments": {},
      "cell_type": "markdown",
      "metadata": {
        "id": "HhJfWRpjrP4N"
      },
      "source": [
        "# *Python Data Structures"
      ]
    },
    {
      "attachments": {},
      "cell_type": "markdown",
      "metadata": {
        "id": "O5yhDZLmrP4O"
      },
      "source": [
        "| Name | Type | Description |\n",
        "| ---- | ---- | ----| \n",
        "|List | list | Ordered sequence of various data types, like [34,'name',3.4]|\n",
        "|Dictionary | dict | Unordered sequence of `key-values pair`, like {'age':34,'age1:56'}|\n",
        "|Tuples | tup | Non-mutable sequence of data type, like (34,56,'name')|\n",
        "|Set |set | Collection of unique elements, like ('id','last_name')|"
      ]
    },
    {
      "attachments": {},
      "cell_type": "markdown",
      "metadata": {
        "id": "bhaTCL9trP4O"
      },
      "source": [
        "|Type|Mutability|Comments|\n",
        "|----|----|----|\n",
        "int |immutable|\n",
        "float|immutable|\n",
        "string|immutable|\n",
        "bool |immutable|\n",
        "frozenset|immutable|immutable version of set\n",
        "tuple|immutable|immutable version of list\n",
        "list|mutable|\n",
        "set |mutable|\n",
        "dict|mutable|\n",
        "\n"
      ]
    },
    {
      "attachments": {},
      "cell_type": "markdown",
      "metadata": {
        "id": "5zCDIkJJrP4O"
      },
      "source": [
        "💫 `immutable` => `can't be changed` <br>\n",
        "💫 `mutable` => `can be changed`"
      ]
    },
    {
      "attachments": {},
      "cell_type": "markdown",
      "metadata": {
        "id": "hABElii_rP4O"
      },
      "source": [
        "---\n",
        "### Proof that string is immutable"
      ]
    },
    {
      "cell_type": "code",
      "execution_count": 118,
      "metadata": {
        "colab": {
          "base_uri": "https://localhost:8080/",
          "height": 218
        },
        "execution": {
          "iopub.execute_input": "2021-12-14T06:23:01.639893Z",
          "iopub.status.busy": "2021-12-14T06:23:01.639413Z",
          "iopub.status.idle": "2021-12-14T06:23:01.715374Z",
          "shell.execute_reply": "2021-12-14T06:23:01.71365Z",
          "shell.execute_reply.started": "2021-12-14T06:23:01.63985Z"
        },
        "id": "Bh7K7FPCrP4O",
        "outputId": "81af0d23-dd7d-4330-a7d2-283821447e61",
        "trusted": true
      },
      "outputs": [
        {
          "name": "stdout",
          "output_type": "stream",
          "text": [
            "<class 'str'>\n"
          ]
        }
      ],
      "source": [
        "# can't reassign  \n",
        "\n",
        "# make a varible with value as: where_to_learn_MLandDL 'CloudyML'\n",
        "where_to_learn_MLandDL='CloudyML'\n",
        "# print type of variable\n",
        "print(type(where_to_learn_MLandDL))\n",
        "# acess Letter M\n",
        "where_to_learn_MLandDL[-1]=\"M\"\n"
      ]
    },
    {
      "cell_type": "code",
      "execution_count": 122,
      "metadata": {
        "colab": {
          "base_uri": "https://localhost:8080/"
        },
        "execution": {
          "iopub.execute_input": "2021-12-14T06:25:18.517274Z",
          "iopub.status.busy": "2021-12-14T06:25:18.516942Z",
          "iopub.status.idle": "2021-12-14T06:25:18.527458Z",
          "shell.execute_reply": "2021-12-14T06:25:18.52641Z",
          "shell.execute_reply.started": "2021-12-14T06:25:18.517237Z"
        },
        "id": "b3IB3yQbrP4O",
        "outputId": "424448b4-2c62-4825-8688-a5ad018eb409",
        "trusted": true
      },
      "outputs": [
        {
          "name": "stdout",
          "output_type": "stream",
          "text": [
            "C  =  140711437107312\n",
            "l  =  140711437109608\n",
            "o  =  140711437109776\n",
            "u  =  140711437110112\n",
            "d  =  140711437109160\n",
            "y  =  140711437110336\n",
            "M  =  140711437107872\n",
            "L  =  140711437107816\n",
            "D  =  140711437107368\n",
            "L  =  140711437107816\n"
          ]
        }
      ],
      "source": [
        "# make a variable with value as: where_to_learn_MLandDL  'CloudyMLDL'\n",
        "where_to_learn_MLandDL='CloudyMLDL'\n",
        "\n",
        "# try to loop in range of (0,10) and try to see memory location of letter-L of string-'CloudyMLDL' is same\n",
        "for id1 in range(0,10):\n",
        "    print(where_to_learn_MLandDL[id1], \" = \" , id(where_to_learn_MLandDL[id1]))\n",
        "# If you dont know loop go throug videos first then do this"
      ]
    },
    {
      "attachments": {},
      "cell_type": "markdown",
      "metadata": {
        "id": "1Yau-6lcrP4O"
      },
      "source": [
        "---"
      ]
    },
    {
      "attachments": {},
      "cell_type": "markdown",
      "metadata": {
        "id": "7NhOTXbMrP4P"
      },
      "source": [
        "**`List`** (ordered datastructure)\n",
        "* Ordered collection of values, each element is seprated by a comma, use of square bracket for denotion of list\n",
        "Ordered property is the most important aspect of list, lets see how:\n",
        "* Python remembers the order of elements of a list\n",
        "Data type connot store different kind of values in it, but list can"
      ]
    },
    {
      "cell_type": "code",
      "execution_count": 127,
      "metadata": {
        "execution": {
          "iopub.execute_input": "2021-12-13T06:35:13.990546Z",
          "iopub.status.busy": "2021-12-13T06:35:13.990207Z",
          "iopub.status.idle": "2021-12-13T06:35:13.995431Z",
          "shell.execute_reply": "2021-12-13T06:35:13.994825Z",
          "shell.execute_reply.started": "2021-12-13T06:35:13.990514Z"
        },
        "id": "h8DvPJKUrP4P",
        "trusted": true
      },
      "outputs": [],
      "source": [
        "# declare a list named as ur_data_Lis having variables age,weight,name with values as 21,50.6,'Mukesh Manral'\n",
        "ur_data_Lis =[('age',21),('weight',50.6),('name','Mukesh Manral')]\n",
        "\n",
        "\n",
        "# declare a dictionary named as ur_data_dictionary having keys as age,weight, first_name values as 21, 50, Mukesh\n",
        "ur_data_dictionary={'age':21,'weight':50.6,'name':'Mukesh Manral'}\n",
        "\n",
        "# declare a tuple named as ur_data_tuples having values 21,50.6,'first_name'\n",
        "ur_data_tuples =(21,50.6,'first_name')\n",
        "\n",
        "# declare a set named as ur_data_set having value as Mukesh\n",
        "ur_data_set={'Mukesh'}"
      ]
    },
    {
      "cell_type": "code",
      "execution_count": 128,
      "metadata": {
        "colab": {
          "base_uri": "https://localhost:8080/"
        },
        "id": "BjybhpkprP4P",
        "outputId": "eee9e585-9a88-48d0-8f63-9e94c137f9c7"
      },
      "outputs": [
        {
          "name": "stdout",
          "output_type": "stream",
          "text": [
            "<class 'list'>\n",
            "<class 'dict'>\n",
            "<class 'tuple'>\n",
            "<class 'set'>\n"
          ]
        }
      ],
      "source": [
        "# see datatype of ur_data_List, ur_data_dictionary, ur_data_tuples , ur_data_set variables\n",
        "print(type(ur_data_Lis))\n",
        "print(type(ur_data_dictionary))\n",
        "print(type(ur_data_tuples))\n",
        "print(type(ur_data_set))"
      ]
    },
    {
      "attachments": {},
      "cell_type": "markdown",
      "metadata": {
        "id": "DONZzh6OrP4P"
      },
      "source": [
        "<a id='4'></a><center> <h3 style=\"background-color:orange; color:white\" ><br>Operators<br></h3>"
      ]
    },
    {
      "attachments": {},
      "cell_type": "markdown",
      "metadata": {
        "id": "4Wfm35b4rP4P"
      },
      "source": [
        "`Operators`: Symbols that represent mathematical or logical tasks \n",
        "\n",
        "Example:<br>\n",
        "`700` `+` `77`<br>\n",
        "* `+` <= Operator\n",
        "* `700` & `77` <= Operands\n"
      ]
    },
    {
      "attachments": {},
      "cell_type": "markdown",
      "metadata": {
        "execution": {
          "iopub.execute_input": "2021-12-10T06:38:34.676668Z",
          "iopub.status.busy": "2021-12-10T06:38:34.676365Z",
          "iopub.status.idle": "2021-12-10T06:38:34.749862Z",
          "shell.execute_reply": "2021-12-10T06:38:34.748973Z",
          "shell.execute_reply.started": "2021-12-10T06:38:34.676636Z"
        },
        "id": "W-7tOm5CrP4P"
      },
      "source": [
        "# Types of Operators\n",
        "1. `Arithmetic Operators`\n",
        "2. `Comparison Operators`\n",
        "3. `Logical Operators`"
      ]
    },
    {
      "attachments": {},
      "cell_type": "markdown",
      "metadata": {
        "id": "7OAVQ6EsrP4P"
      },
      "source": [
        "# **1. `Arithmetic Operators`**"
      ]
    },
    {
      "attachments": {},
      "cell_type": "markdown",
      "metadata": {
        "id": "_QNg2gk7rP4Q"
      },
      "source": [
        "|Task | Symbol|Example|\n",
        "|---|---|----|\n",
        "|Addition | + | 700 + 77 = 777|\n",
        "|Substraction | - | 778 - 1 = 777|\n",
        "|Multiplication | * | 1 * 777 = 777|\n",
        "|Division | / | 13 / 2 = 6.5|\n",
        "|Floor Division(ignores decimal \\ gives quotient) | // | 13 // 2 = 6|\n",
        "|Modulo(gives remainder)| % | 13 % 2 = 1|\n",
        "|Exponent(raise to the power) | ** | 13**2 = 169 |"
      ]
    },
    {
      "attachments": {},
      "cell_type": "markdown",
      "metadata": {
        "id": "FyxOlaQmrP4Q"
      },
      "source": [
        "# **2. `Comparison Operators`**"
      ]
    },
    {
      "attachments": {},
      "cell_type": "markdown",
      "metadata": {
        "id": "8V4gqwnBrP4Q"
      },
      "source": [
        "|Task | Symbol|\n",
        "|---|---|\n",
        "|Less than | < |\n",
        "|Less than or equall to | <= | \n",
        "|Equall to | == | \n",
        "|Greater than | > | \n",
        "|Greater than or equall to | >=|\n",
        "|Not equall to | != | \n"
      ]
    },
    {
      "attachments": {},
      "cell_type": "markdown",
      "metadata": {
        "id": "m7-BVTnhrP4Q"
      },
      "source": [
        "# **3. `Logical Operators`**"
      ]
    },
    {
      "attachments": {},
      "cell_type": "markdown",
      "metadata": {
        "id": "pHm4Yt2NrP4Q"
      },
      "source": [
        "|Task | Symbol|Description|\n",
        "|---|---|---|\n",
        "|and | 1 < 2 and 2 < 3 => True |True only if both comparison are true |\n",
        "|or | 1 < 2 or 2 > 3 => True|True if either of the comparison are true  |\n",
        "|not | not 1 > 2 => True|(flips results)True if comparison is False and so on.. |\n"
      ]
    },
    {
      "attachments": {},
      "cell_type": "markdown",
      "metadata": {
        "id": "IEkQ9PGArP4Q"
      },
      "source": [
        "<a id='5'></a><center> <h3 style=\"background-color:orange; color:white\" ><br>Assignment Operators<br></h3>"
      ]
    },
    {
      "cell_type": "code",
      "execution_count": 132,
      "metadata": {
        "execution": {
          "iopub.execute_input": "2021-12-13T11:16:12.878107Z",
          "iopub.status.busy": "2021-12-13T11:16:12.87742Z",
          "iopub.status.idle": "2021-12-13T11:16:12.88218Z",
          "shell.execute_reply": "2021-12-13T11:16:12.881502Z",
          "shell.execute_reply.started": "2021-12-13T11:16:12.878061Z"
        },
        "id": "9eHULNrarP4Q",
        "trusted": true
      },
      "outputs": [],
      "source": [
        "# Initialize variables [x,y,z,zz] with values \n",
        "## x as 7 =>int ,\n",
        "## y as 77 =>int, \n",
        "## z as 77.7 => float, \n",
        "## zz as 'Hi' => string\n",
        "\n",
        "x=7\n",
        "y=77\n",
        "z=77.7\n",
        "zz='Hi'"
      ]
    },
    {
      "attachments": {},
      "cell_type": "markdown",
      "metadata": {
        "id": "kMGlbyturP4Q"
      },
      "source": [
        "# **1. `Arithmetic Operators`**"
      ]
    },
    {
      "cell_type": "code",
      "execution_count": 133,
      "metadata": {
        "colab": {
          "base_uri": "https://localhost:8080/"
        },
        "execution": {
          "iopub.execute_input": "2021-12-13T11:16:16.831632Z",
          "iopub.status.busy": "2021-12-13T11:16:16.831361Z",
          "iopub.status.idle": "2021-12-13T11:16:16.837568Z",
          "shell.execute_reply": "2021-12-13T11:16:16.836727Z",
          "shell.execute_reply.started": "2021-12-13T11:16:16.831606Z"
        },
        "id": "_7X7ChdtrP4Q",
        "outputId": "1dbd8902-3386-49a7-b7ab-77cab5607148",
        "trusted": true
      },
      "outputs": [
        {
          "name": "stdout",
          "output_type": "stream",
          "text": [
            "84\n"
          ]
        }
      ],
      "source": [
        "# add x and z\n",
        "add=x+y\n",
        "print(add)"
      ]
    },
    {
      "cell_type": "code",
      "execution_count": 134,
      "metadata": {
        "colab": {
          "base_uri": "https://localhost:8080/"
        },
        "execution": {
          "iopub.execute_input": "2021-12-13T11:16:30.203003Z",
          "iopub.status.busy": "2021-12-13T11:16:30.20271Z",
          "iopub.status.idle": "2021-12-13T11:16:30.208385Z",
          "shell.execute_reply": "2021-12-13T11:16:30.207581Z",
          "shell.execute_reply.started": "2021-12-13T11:16:30.20297Z"
        },
        "id": "VWA9vqXbrP4R",
        "outputId": "745699ba-9525-4db1-e9bf-73270a08ec54",
        "trusted": true
      },
      "outputs": [
        {
          "name": "stdout",
          "output_type": "stream",
          "text": [
            "0.7000000000000028\n"
          ]
        }
      ],
      "source": [
        "# subtract z and y\n",
        "sub=z-y\n",
        "print(sub)"
      ]
    },
    {
      "cell_type": "code",
      "execution_count": 135,
      "metadata": {
        "colab": {
          "base_uri": "https://localhost:8080/"
        },
        "execution": {
          "iopub.execute_input": "2021-12-13T11:16:33.722854Z",
          "iopub.status.busy": "2021-12-13T11:16:33.722346Z",
          "iopub.status.idle": "2021-12-13T11:16:33.727832Z",
          "shell.execute_reply": "2021-12-13T11:16:33.726714Z",
          "shell.execute_reply.started": "2021-12-13T11:16:33.722819Z"
        },
        "id": "Xs-S0MhCrP4R",
        "outputId": "ee8c602f-13fd-4a63-d9b4-d93fe416f6b7",
        "trusted": true
      },
      "outputs": [
        {
          "name": "stdout",
          "output_type": "stream",
          "text": [
            "543.9\n"
          ]
        }
      ],
      "source": [
        "# Multiply x and z\n",
        "mul=x*z\n",
        "print(mul)\n"
      ]
    },
    {
      "cell_type": "code",
      "execution_count": 136,
      "metadata": {
        "colab": {
          "base_uri": "https://localhost:8080/"
        },
        "execution": {
          "iopub.status.busy": "2021-12-11T05:18:03.351545Z",
          "iopub.status.idle": "2021-12-11T05:18:03.351958Z",
          "shell.execute_reply": "2021-12-11T05:18:03.351816Z",
          "shell.execute_reply.started": "2021-12-11T05:18:03.3518Z"
        },
        "id": "QTAL9jikrP4R",
        "outputId": "27632a7c-1571-4fc3-fb53-40b5804319b6",
        "trusted": true
      },
      "outputs": [
        {
          "name": "stdout",
          "output_type": "stream",
          "text": [
            "118181386580595879976868414312001964434038548836769923458287039207\n"
          ]
        }
      ],
      "source": [
        "# Exponent (raise the power or times) x times z\n",
        "exp=x**y\n",
        "print(exp)"
      ]
    },
    {
      "cell_type": "code",
      "execution_count": 137,
      "metadata": {
        "colab": {
          "base_uri": "https://localhost:8080/"
        },
        "execution": {
          "iopub.execute_input": "2021-12-13T11:16:54.593185Z",
          "iopub.status.busy": "2021-12-13T11:16:54.592323Z",
          "iopub.status.idle": "2021-12-13T11:16:54.599677Z",
          "shell.execute_reply": "2021-12-13T11:16:54.598843Z",
          "shell.execute_reply.started": "2021-12-13T11:16:54.593129Z"
        },
        "id": "veuOn9YcrP4R",
        "outputId": "1bf677bd-5b4a-49e0-f0a6-f93ea487ccf6",
        "trusted": true
      },
      "outputs": [
        {
          "name": "stdout",
          "output_type": "stream",
          "text": [
            "0.09090909090909091\n"
          ]
        }
      ],
      "source": [
        "# division on x and z\n",
        "div=x/y\n",
        "print(div)"
      ]
    },
    {
      "attachments": {},
      "cell_type": "markdown",
      "metadata": {
        "id": "lPSllBVYrP4R"
      },
      "source": [
        "`//` => divides and returns integer value of quotient\n",
        "* It will dump digits after decimal"
      ]
    },
    {
      "cell_type": "code",
      "execution_count": 138,
      "metadata": {
        "colab": {
          "base_uri": "https://localhost:8080/"
        },
        "execution": {
          "iopub.execute_input": "2021-12-13T11:17:43.712052Z",
          "iopub.status.busy": "2021-12-13T11:17:43.711764Z",
          "iopub.status.idle": "2021-12-13T11:17:43.717685Z",
          "shell.execute_reply": "2021-12-13T11:17:43.716923Z",
          "shell.execute_reply.started": "2021-12-13T11:17:43.712021Z"
        },
        "id": "LjvFNdDHrP4R",
        "outputId": "74247edc-70c0-4860-d3ec-fd38c9fc6ff1",
        "trusted": true
      },
      "outputs": [
        {
          "name": "stdout",
          "output_type": "stream",
          "text": [
            "0\n"
          ]
        }
      ],
      "source": [
        "# floor division(ignores decimal) on x and z (gives quotient)\n",
        "flr=x//y\n",
        "print(flr)"
      ]
    },
    {
      "cell_type": "code",
      "execution_count": 139,
      "metadata": {
        "colab": {
          "base_uri": "https://localhost:8080/"
        },
        "execution": {
          "iopub.execute_input": "2021-12-13T11:18:23.768814Z",
          "iopub.status.busy": "2021-12-13T11:18:23.768469Z",
          "iopub.status.idle": "2021-12-13T11:18:23.774541Z",
          "shell.execute_reply": "2021-12-13T11:18:23.773825Z",
          "shell.execute_reply.started": "2021-12-13T11:18:23.768775Z"
        },
        "id": "prGaXfI2rP4R",
        "outputId": "ffdfa431-8d36-40b1-a2d6-3a428e3b1e2d",
        "trusted": true
      },
      "outputs": [
        {
          "name": "stdout",
          "output_type": "stream",
          "text": [
            "7.0\n"
          ]
        }
      ],
      "source": [
        "# Modulo(gives remainder) on x and z\n",
        "mod=x%z\n",
        "print(mod)"
      ]
    },
    {
      "attachments": {},
      "cell_type": "markdown",
      "metadata": {
        "id": "BqiZFRnxrP4R"
      },
      "source": [
        "# **2. `Comparison Operators`**"
      ]
    },
    {
      "cell_type": "code",
      "execution_count": 141,
      "metadata": {
        "colab": {
          "base_uri": "https://localhost:8080/"
        },
        "execution": {
          "iopub.execute_input": "2021-12-13T11:18:53.671899Z",
          "iopub.status.busy": "2021-12-13T11:18:53.671588Z",
          "iopub.status.idle": "2021-12-13T11:18:53.677758Z",
          "shell.execute_reply": "2021-12-13T11:18:53.676944Z",
          "shell.execute_reply.started": "2021-12-13T11:18:53.671852Z"
        },
        "id": "cZTjTlksrP4S",
        "outputId": "338815ee-53ee-42f3-80b6-59933758768b",
        "trusted": true
      },
      "outputs": [
        {
          "name": "stdout",
          "output_type": "stream",
          "text": [
            "True\n"
          ]
        }
      ],
      "source": [
        "# comapre and see if x is less then z \n",
        "# can use '<' symbol\n",
        "comp=x<z\n",
        "print(comp)\n"
      ]
    },
    {
      "cell_type": "code",
      "execution_count": 142,
      "metadata": {
        "colab": {
          "base_uri": "https://localhost:8080/"
        },
        "execution": {
          "iopub.execute_input": "2021-12-13T11:18:56.585807Z",
          "iopub.status.busy": "2021-12-13T11:18:56.585406Z",
          "iopub.status.idle": "2021-12-13T11:18:56.591392Z",
          "shell.execute_reply": "2021-12-13T11:18:56.590675Z",
          "shell.execute_reply.started": "2021-12-13T11:18:56.585775Z"
        },
        "id": "ugLB8T4zrP4S",
        "outputId": "4cf49f24-87d6-4d8e-dee3-4301e9d554f7",
        "trusted": true
      },
      "outputs": [
        {
          "name": "stdout",
          "output_type": "stream",
          "text": [
            "<class 'bool'>\n"
          ]
        }
      ],
      "source": [
        "# check the type of above comaprison where it says comapre and see if x is less then z \n",
        "print(type(comp))"
      ]
    },
    {
      "attachments": {},
      "cell_type": "markdown",
      "metadata": {
        "id": "JvyfWt8NrP4S"
      },
      "source": [
        "* `Bool` => takes two values, either `True` or `False`"
      ]
    },
    {
      "cell_type": "code",
      "execution_count": 144,
      "metadata": {
        "colab": {
          "base_uri": "https://localhost:8080/"
        },
        "execution": {
          "iopub.execute_input": "2021-12-13T11:20:21.121906Z",
          "iopub.status.busy": "2021-12-13T11:20:21.121593Z",
          "iopub.status.idle": "2021-12-13T11:20:21.128235Z",
          "shell.execute_reply": "2021-12-13T11:20:21.127415Z",
          "shell.execute_reply.started": "2021-12-13T11:20:21.121858Z"
        },
        "id": "qrLXc7h8rP4S",
        "outputId": "1106e876-fae9-461d-f44d-605e0be52441",
        "trusted": true
      },
      "outputs": [
        {
          "name": "stdout",
          "output_type": "stream",
          "text": [
            "True\n"
          ]
        }
      ],
      "source": [
        "# compare and see if x is less then or equall to z\n",
        "# can use '<=' symbol\n",
        "comp1=x<=z\n",
        "print(comp1)\n"
      ]
    },
    {
      "cell_type": "code",
      "execution_count": 145,
      "metadata": {
        "colab": {
          "base_uri": "https://localhost:8080/"
        },
        "execution": {
          "iopub.execute_input": "2021-12-13T11:21:03.964669Z",
          "iopub.status.busy": "2021-12-13T11:21:03.964122Z",
          "iopub.status.idle": "2021-12-13T11:21:03.970529Z",
          "shell.execute_reply": "2021-12-13T11:21:03.969911Z",
          "shell.execute_reply.started": "2021-12-13T11:21:03.964617Z"
        },
        "id": "QITa8mAorP4S",
        "outputId": "ec6dc405-eb0e-46a3-c167-da700179af34",
        "trusted": true
      },
      "outputs": [
        {
          "name": "stdout",
          "output_type": "stream",
          "text": [
            "False\n"
          ]
        }
      ],
      "source": [
        "# comapre and see if x equall to z\n",
        "# can use '==' symbol\n",
        "comp2=x==z\n",
        "print(comp2)"
      ]
    },
    {
      "cell_type": "code",
      "execution_count": 146,
      "metadata": {
        "colab": {
          "base_uri": "https://localhost:8080/"
        },
        "execution": {
          "iopub.execute_input": "2021-12-13T11:21:17.56085Z",
          "iopub.status.busy": "2021-12-13T11:21:17.560326Z",
          "iopub.status.idle": "2021-12-13T11:21:17.566991Z",
          "shell.execute_reply": "2021-12-13T11:21:17.566308Z",
          "shell.execute_reply.started": "2021-12-13T11:21:17.560801Z"
        },
        "id": "to09wf4lrP4S",
        "outputId": "592d9cad-2331-44fe-b199-92bd286aef93",
        "trusted": true
      },
      "outputs": [
        {
          "name": "stdout",
          "output_type": "stream",
          "text": [
            "False\n"
          ]
        }
      ],
      "source": [
        "# comapre and see if x is greater than z\n",
        "# can use '>' symbol\n",
        "comp1=x>z\n",
        "print(comp1)"
      ]
    },
    {
      "cell_type": "code",
      "execution_count": 147,
      "metadata": {
        "colab": {
          "base_uri": "https://localhost:8080/"
        },
        "execution": {
          "iopub.status.busy": "2021-12-11T05:18:03.366407Z",
          "iopub.status.idle": "2021-12-11T05:18:03.366829Z",
          "shell.execute_reply": "2021-12-11T05:18:03.366687Z",
          "shell.execute_reply.started": "2021-12-11T05:18:03.36667Z"
        },
        "id": "3XjJEvQmrP4S",
        "outputId": "2ec0ecc4-ca4e-4aab-e8a0-565cc4ffcf9d",
        "trusted": true
      },
      "outputs": [
        {
          "name": "stdout",
          "output_type": "stream",
          "text": [
            "False\n"
          ]
        }
      ],
      "source": [
        "# comapre and see if x is greater than or equall to z\n",
        "# can use '>=' symbol\n",
        "comp1=x>=z\n",
        "print(comp1)"
      ]
    },
    {
      "cell_type": "code",
      "execution_count": 148,
      "metadata": {
        "colab": {
          "base_uri": "https://localhost:8080/"
        },
        "execution": {
          "iopub.execute_input": "2021-12-13T11:21:27.087849Z",
          "iopub.status.busy": "2021-12-13T11:21:27.087572Z",
          "iopub.status.idle": "2021-12-13T11:21:27.094348Z",
          "shell.execute_reply": "2021-12-13T11:21:27.093707Z",
          "shell.execute_reply.started": "2021-12-13T11:21:27.087821Z"
        },
        "id": "U3R4NtLUrP4S",
        "outputId": "8139031e-7e45-4a66-96f6-ebcf85df150b",
        "trusted": true
      },
      "outputs": [
        {
          "name": "stdout",
          "output_type": "stream",
          "text": [
            "True\n"
          ]
        }
      ],
      "source": [
        "# comapre and see if x is Not equall to z\n",
        "# can use '!=' symbol\n",
        "comp1=x!=z\n",
        "print(comp1)\n"
      ]
    },
    {
      "attachments": {},
      "cell_type": "markdown",
      "metadata": {
        "id": "i1cSXmgbrP4T"
      },
      "source": [
        "# **3. `Logical Operators`**"
      ]
    },
    {
      "cell_type": "code",
      "execution_count": 4,
      "metadata": {
        "colab": {
          "base_uri": "https://localhost:8080/"
        },
        "execution": {
          "iopub.execute_input": "2021-12-13T11:22:13.637837Z",
          "iopub.status.busy": "2021-12-13T11:22:13.637267Z",
          "iopub.status.idle": "2021-12-13T11:22:13.644724Z",
          "shell.execute_reply": "2021-12-13T11:22:13.643893Z",
          "shell.execute_reply.started": "2021-12-13T11:22:13.637786Z"
        },
        "id": "qrf5nOLerP4T",
        "outputId": "5b5bad4d-6568-4e8a-f606-fa5850986071",
        "trusted": true
      },
      "outputs": [
        {
          "data": {
            "text/plain": [
              "True"
            ]
          },
          "execution_count": 4,
          "metadata": {},
          "output_type": "execute_result"
        }
      ],
      "source": [
        "# compare if 108 is equall to 108, 21 is equall to 21 using logical and \n",
        "# equall to => '=='\n",
        "# logical and => and\n",
        "(108==108)and(21==21)\n",
        "  # in and both condition must be True to get a True"
      ]
    },
    {
      "cell_type": "code",
      "execution_count": 5,
      "metadata": {
        "colab": {
          "base_uri": "https://localhost:8080/"
        },
        "execution": {
          "iopub.execute_input": "2021-12-13T11:22:24.56808Z",
          "iopub.status.busy": "2021-12-13T11:22:24.567356Z",
          "iopub.status.idle": "2021-12-13T11:22:24.576075Z",
          "shell.execute_reply": "2021-12-13T11:22:24.574969Z",
          "shell.execute_reply.started": "2021-12-13T11:22:24.56804Z"
        },
        "id": "Zp51tX7NrP4T",
        "outputId": "613342d8-4d42-4d16-b44e-c1751f71b01a",
        "trusted": true
      },
      "outputs": [
        {
          "data": {
            "text/plain": [
              "False"
            ]
          },
          "execution_count": 5,
          "metadata": {},
          "output_type": "execute_result"
        }
      ],
      "source": [
        "# how above condition can give False as output show all thouse conditions\n",
        " # in and both condition must be True to get a True\n",
        "(108==108)and(21==20)"
      ]
    },
    {
      "cell_type": "code",
      "execution_count": 6,
      "metadata": {
        "colab": {
          "base_uri": "https://localhost:8080/"
        },
        "execution": {
          "iopub.execute_input": "2021-12-13T11:22:39.576213Z",
          "iopub.status.busy": "2021-12-13T11:22:39.575636Z",
          "iopub.status.idle": "2021-12-13T11:22:39.58328Z",
          "shell.execute_reply": "2021-12-13T11:22:39.582673Z",
          "shell.execute_reply.started": "2021-12-13T11:22:39.576179Z"
        },
        "id": "TRMHLAHkrP4T",
        "outputId": "f6e7a8a2-395e-405c-9669-b6c7238ad97a",
        "trusted": true
      },
      "outputs": [
        {
          "data": {
            "text/plain": [
              "True"
            ]
          },
          "execution_count": 6,
          "metadata": {},
          "output_type": "execute_result"
        }
      ],
      "source": [
        "# compare if 108 is equall to 108, 21 is equall to 11 using logical or\n",
        "# equall to => '=='\n",
        "# logical or => or\n",
        "(108==108)or(21==11)\n",
        " # in or Only one condition need to be True to get a True"
      ]
    },
    {
      "cell_type": "code",
      "execution_count": 7,
      "metadata": {
        "colab": {
          "base_uri": "https://localhost:8080/"
        },
        "execution": {
          "iopub.execute_input": "2021-12-13T11:22:58.998022Z",
          "iopub.status.busy": "2021-12-13T11:22:58.997422Z",
          "iopub.status.idle": "2021-12-13T11:22:59.004662Z",
          "shell.execute_reply": "2021-12-13T11:22:59.003884Z",
          "shell.execute_reply.started": "2021-12-13T11:22:58.997978Z"
        },
        "id": "QQRfWOkzrP4T",
        "outputId": "69a82d41-b61d-4183-ca01-c3550b5553f0",
        "trusted": true
      },
      "outputs": [
        {
          "data": {
            "text/plain": [
              "True"
            ]
          },
          "execution_count": 7,
          "metadata": {},
          "output_type": "execute_result"
        }
      ],
      "source": [
        "# this is for you understand it\n",
        "(108 == 108) or (21 == 11) or (108 <= 11)"
      ]
    },
    {
      "attachments": {},
      "cell_type": "markdown",
      "metadata": {
        "id": "FYchA77BrP4T"
      },
      "source": [
        "\n",
        "<a id='6'></a><center> <h3 style=\"background-color:orange; color:white\" ><br>Conditional Statements<br></h3>"
      ]
    },
    {
      "attachments": {},
      "cell_type": "markdown",
      "metadata": {
        "id": "r5LWKR-irP4T"
      },
      "source": [
        "# 1. **`if`--- `else`** => to handle single condition <br>\n",
        "# 2. **`if`--- `elif`--- `else`** => to handle Multiple condition"
      ]
    },
    {
      "attachments": {},
      "cell_type": "markdown",
      "metadata": {
        "id": "4l8YdB1orP4T"
      },
      "source": [
        "`Why do we need conditional Statements?` <br>\n",
        "Say you want to buy a ML course and to decided you buy it or not to by it based on some condition,=> if you have more then 2k buy, if you dont have more then 2k dont buy!! \n",
        "\n",
        "* Two Variable you will use `ML course` and `money` \n",
        "* One comparison `money > 2k`\n",
        "For ML course if `money > 2k` => you have more money then 2k => condition is True => buy course => if condition is False i.e. you have less money then 2k then dont buy the course\n"
      ]
    },
    {
      "attachments": {},
      "cell_type": "markdown",
      "metadata": {
        "id": "FWFgSro3rP4U"
      },
      "source": [
        "|Pseudo Code for above will be| Python Code for Pseudo code|\n",
        "|----|----|\n",
        "Check if money > 2k | if money > 2000:\n",
        "then ML course = 'buy' |....  ML course = 'buy'\n",
        "else Ml course = 'dont buy'| else:\n",
        " --  | ....ML course = 'dont buy'"
      ]
    },
    {
      "cell_type": "code",
      "execution_count": null,
      "metadata": {
        "colab": {
          "base_uri": "https://localhost:8080/",
          "height": 38
        },
        "id": "eD6N8d4JrP4U",
        "outputId": "df998f96-081a-41e8-a7ba-eb5bb24b96cc"
      },
      "outputs": [],
      "source": [
        "\"\"\"\n",
        "if condition:\n",
        "    statement\n",
        "else:\n",
        "    statement\"\"\""
      ]
    },
    {
      "attachments": {},
      "cell_type": "markdown",
      "metadata": {
        "id": "_7lo_XpYrP4U"
      },
      "source": [
        "`Observe in Python code:` \n",
        "* `if` => statement in python\n",
        "* `else` => statement in python\n",
        "* `:` => colon => denotes start of if block i.e. any line written after colon belong to if condition\n",
        "* `....` => see then as indentation i.e. 4 spaces => indentation indicates all code belong to only if and then another indentation indicates code for only else block "
      ]
    },
    {
      "cell_type": "code",
      "execution_count": 10,
      "metadata": {
        "colab": {
          "base_uri": "https://localhost:8080/"
        },
        "execution": {
          "iopub.execute_input": "2021-12-13T12:04:09.255152Z",
          "iopub.status.busy": "2021-12-13T12:04:09.254359Z",
          "iopub.status.idle": "2021-12-13T12:04:09.301228Z",
          "shell.execute_reply": "2021-12-13T12:04:09.300137Z",
          "shell.execute_reply.started": "2021-12-13T12:04:09.254985Z"
        },
        "id": "e2SpODuorP4U",
        "outputId": "c32da32f-2a21-4e62-dc8a-ac11e9d307f7",
        "trusted": true
      },
      "outputs": [
        {
          "name": "stdout",
          "output_type": "stream",
          "text": [
            "True\n"
          ]
        }
      ],
      "source": [
        "# make variable with value as : money 100000\n",
        "money=100000\n",
        "# see output of money > 2000 \n",
        "if money>2000:\n",
        "    print(True)\n"
      ]
    },
    {
      "cell_type": "code",
      "execution_count": 11,
      "metadata": {
        "colab": {
          "base_uri": "https://localhost:8080/"
        },
        "execution": {
          "iopub.execute_input": "2021-12-13T12:04:41.020917Z",
          "iopub.status.busy": "2021-12-13T12:04:41.020562Z",
          "iopub.status.idle": "2021-12-13T12:04:41.027788Z",
          "shell.execute_reply": "2021-12-13T12:04:41.026428Z",
          "shell.execute_reply.started": "2021-12-13T12:04:41.020881Z"
        },
        "id": "8rLKbxCqrP4U",
        "outputId": "51aa49a6-d403-4292-8190-e23354ccda3b",
        "trusted": true
      },
      "outputs": [
        {
          "name": "stdout",
          "output_type": "stream",
          "text": [
            "buy ML course\n"
          ]
        }
      ],
      "source": [
        "# see above Python code for Pseudo code and write that into python code\n",
        "\n",
        "# assign money variable value of 100000 \n",
        "##### say you have this much ammount in your account\n",
        "\n",
        "# start of if condition\n",
        "if money>2000:\n",
        "    print('buy ML course')\n",
        "else:\n",
        "    print(\"You have less money then 2000 in your account\") # if money > 2000 is false i.e. you have less money then 2000 in your account then else will work for now only if is working\n"
      ]
    },
    {
      "cell_type": "code",
      "execution_count": 14,
      "metadata": {
        "colab": {
          "base_uri": "https://localhost:8080/"
        },
        "execution": {
          "iopub.execute_input": "2021-12-13T12:05:41.659409Z",
          "iopub.status.busy": "2021-12-13T12:05:41.659081Z",
          "iopub.status.idle": "2021-12-13T12:05:41.667758Z",
          "shell.execute_reply": "2021-12-13T12:05:41.66659Z",
          "shell.execute_reply.started": "2021-12-13T12:05:41.659376Z"
        },
        "id": "-J44V8LNrP4U",
        "outputId": "f4726e0f-875b-439f-a5ef-907dad4f5e8d",
        "trusted": true
      },
      "outputs": [
        {
          "name": "stdout",
          "output_type": "stream",
          "text": [
            "False\n"
          ]
        }
      ],
      "source": [
        "# make variable with value as : money 100\n",
        "money =100\n",
        "# see output of money > 2000\n",
        "if(money>2000):\n",
        "    print(\"True\")\n",
        "else:\n",
        "    print(\"False\")"
      ]
    },
    {
      "cell_type": "code",
      "execution_count": 15,
      "metadata": {
        "colab": {
          "base_uri": "https://localhost:8080/"
        },
        "execution": {
          "iopub.execute_input": "2021-12-13T12:05:59.423116Z",
          "iopub.status.busy": "2021-12-13T12:05:59.422112Z",
          "iopub.status.idle": "2021-12-13T12:05:59.42974Z",
          "shell.execute_reply": "2021-12-13T12:05:59.428841Z",
          "shell.execute_reply.started": "2021-12-13T12:05:59.423062Z"
        },
        "id": "eQGaPvuRrP4U",
        "outputId": "e895aadb-0b33-4e24-ac42-bd47cd763810",
        "trusted": true
      },
      "outputs": [
        {
          "name": "stdout",
          "output_type": "stream",
          "text": [
            "You have 100 in your account\n",
            "You have less money then 2000 in your account\n"
          ]
        }
      ],
      "source": [
        "# assign money variable value of 100\n",
        "#### say you have this much ammount in your account\n",
        "print(\"You have {} in your account\".format(money))\n",
        "# start of if condition\n",
        "if(money>2000):           # if money is greater then 2000 which is ML course free \n",
        "    print('buy ML course')\n",
        "else:\n",
        "    print(\"You have less money then 2000 in your account\") # if money > 2000 is false i.e. you have less money then 2000 in your account then else will work for now only if is working\n"
      ]
    },
    {
      "attachments": {},
      "cell_type": "markdown",
      "metadata": {
        "id": "nVugaqcErP4U"
      },
      "source": [
        "# 2. `Multiple Condition` i.e. use of **`if`--- `elif`--- `else`**\n",
        "Say you have bought ML course, but now you want certification and internship here includes more then 1 condition maybe 2 or 3, lets see for conditions:\n",
        "* if your test score more then 80 then you will get certification of A grade\n",
        "* if your test score more then 60 then you will get certification of B grade\n",
        "* for rest not get anything"
      ]
    },
    {
      "attachments": {},
      "cell_type": "markdown",
      "metadata": {
        "id": "KLJjdItrrP4U"
      },
      "source": [
        "|Pseudo Code for above will be\n",
        "|----|\n",
        "Check if score > 80\n",
        "if yes print('A grade')\n",
        "Otherwise check if score > 60\n",
        "if yes print('B grade')\n",
        "For every other situation print('not getting anything')"
      ]
    },
    {
      "cell_type": "code",
      "execution_count": 23,
      "metadata": {
        "colab": {
          "base_uri": "https://localhost:8080/"
        },
        "execution": {
          "iopub.execute_input": "2021-12-13T12:12:40.145964Z",
          "iopub.status.busy": "2021-12-13T12:12:40.145355Z",
          "iopub.status.idle": "2021-12-13T12:12:45.469908Z",
          "shell.execute_reply": "2021-12-13T12:12:45.469259Z",
          "shell.execute_reply.started": "2021-12-13T12:12:40.145915Z"
        },
        "id": "UkSB0BDKrP4V",
        "outputId": "95379bf8-12f8-49a8-abbe-412385fa278c",
        "trusted": true
      },
      "outputs": [
        {
          "name": "stdout",
          "output_type": "stream",
          "text": [
            "Nothing for you\n"
          ]
        }
      ],
      "source": [
        "# python code for above Pseudo Code will be\n",
        "your_test_score = input('What is your test score(check for 10, 70, 90):') #taking input from you use of input()\n",
        "your_test_score =int(your_test_score)  #as input is in string changing it to int as to make comparison possible\n",
        "\n",
        "if your_test_score>80: # if your_test_score greater then 80\n",
        "    print('A grade')\n",
        "elif your_test_score>60 and your_test_score<80: # elif your_test_score greater then 60 and your_test_score leass then 80\n",
        "    print('B grade')\n",
        "else:\n",
        "    print('Nothing for you')"
      ]
    },
    {
      "attachments": {},
      "cell_type": "markdown",
      "metadata": {
        "id": "5fSzijCErP4V"
      },
      "source": [
        "`Understand above Flow`:\n",
        "* check for if statement if true close, if not true\n",
        "* check for elif, if elif condition is true go close, if not true\n",
        "* go ot else any way\n",
        "* [See how this code is being executed internally](https://pythontutor.com/visualize.html#mode=display)\n",
        "* copy above code there "
      ]
    },
    {
      "attachments": {},
      "cell_type": "markdown",
      "metadata": {
        "id": "f-c4s81KrP4V"
      },
      "source": [
        "\n",
        "<a id='7'></a><center> <h3 style=\"background-color:orange; color:white\" ><br>Assignment Conditional Statements<br></h3>"
      ]
    },
    {
      "attachments": {},
      "cell_type": "markdown",
      "metadata": {
        "id": "qutzAWNFrP4V"
      },
      "source": [
        "# 📌📌 Indentation in Python\n",
        "\n",
        "***Before we start Conditional Statements, let's have a look at `indentation` in Python.***\n",
        "\n",
        "## `INDENTATION`\n",
        "* Indentation means `(spaces and tabs)` that are used at beginning of any statement\n",
        "* Statements with same indentation belong to same group also called as `suite`. \n"
      ]
    },
    {
      "cell_type": "code",
      "execution_count": 17,
      "metadata": {
        "colab": {
          "base_uri": "https://localhost:8080/",
          "height": 131
        },
        "execution": {
          "iopub.status.busy": "2021-12-11T05:18:03.376487Z",
          "iopub.status.idle": "2021-12-11T05:18:03.376791Z",
          "shell.execute_reply": "2021-12-11T05:18:03.376652Z",
          "shell.execute_reply.started": "2021-12-11T05:18:03.376636Z"
        },
        "id": "CK1s7-BxrP4V",
        "outputId": "2a017631-9a02-4e8d-e965-a66b10bf2a57",
        "trusted": true
      },
      "outputs": [
        {
          "name": "stdout",
          "output_type": "stream",
          "text": [
            "True Statement\n"
          ]
        }
      ],
      "source": [
        "# this is how wrong indentation gives you error  (commet can be written by using => #)\n",
        "if (2 == 2):\n",
        "    print('True Statement') # IndentationError\n"
      ]
    },
    {
      "attachments": {},
      "cell_type": "markdown",
      "metadata": {
        "id": "pT2IKbixrP4V"
      },
      "source": [
        "**`Take an input from a user in variable input_ and print \"Even\" if number is divisible by 2, otherwise print \"Odd\"`**"
      ]
    },
    {
      "cell_type": "code",
      "execution_count": 18,
      "metadata": {
        "colab": {
          "base_uri": "https://localhost:8080/",
          "height": 253
        },
        "execution": {
          "iopub.status.busy": "2021-12-11T05:18:03.377643Z",
          "iopub.status.idle": "2021-12-11T05:18:03.377926Z",
          "shell.execute_reply": "2021-12-11T05:18:03.377792Z",
          "shell.execute_reply.started": "2021-12-11T05:18:03.377777Z"
        },
        "id": "zF-6vc9HrP4V",
        "outputId": "1b3e6bb4-3538-4129-a70f-eb94c3d5b760",
        "trusted": true
      },
      "outputs": [
        {
          "name": "stdout",
          "output_type": "stream",
          "text": [
            "Odd\n"
          ]
        }
      ],
      "source": [
        "# take input from user by using input function in variable named as input_\n",
        " \n",
        "\n",
        "# by default type is string, so we need to convert type first into int\n",
        "input_ = int(input(\"Enter any number : \"))\n",
        "\n",
        "if input_%2==0: # if input_ modulo 2 compared to 0 id true \n",
        "    print(\"Even\")\n",
        "else:\n",
        "    print(\"Odd\")"
      ]
    },
    {
      "attachments": {},
      "cell_type": "markdown",
      "metadata": {
        "id": "Wm_-Ao43rP4W"
      },
      "source": [
        "**`Take input from user in variable x and print \"`Grade A`\" if y is greater than 90, \"`Grade B`\" if y is greater than 60 but less than or equal to 90 and \"`Grade F`\" Otherwise`**"
      ]
    },
    {
      "cell_type": "code",
      "execution_count": 22,
      "metadata": {
        "colab": {
          "base_uri": "https://localhost:8080/"
        },
        "execution": {
          "iopub.execute_input": "2021-12-11T05:18:03.382211Z",
          "iopub.status.busy": "2021-12-11T05:18:03.381965Z",
          "iopub.status.idle": "2021-12-11T05:18:11.226671Z",
          "shell.execute_reply": "2021-12-11T05:18:11.224518Z",
          "shell.execute_reply.started": "2021-12-11T05:18:03.382183Z"
        },
        "id": "iY9UVHpOrP4W",
        "outputId": "2b0afc0b-9b40-4540-b7eb-29cc32fb6e53",
        "trusted": true
      },
      "outputs": [
        {
          "name": "stdout",
          "output_type": "stream",
          "text": [
            "Grade F\n"
          ]
        }
      ],
      "source": [
        "# take input from user by using input function\n",
        "x = input(\"Enter Mark :\")\n",
        "\n",
        "# by default type is string, so we need to convert type first\n",
        "x = int(x)\n",
        "\n",
        "if x>80: # if x is greater then 90\n",
        "    print(\"Grade A\")\n",
        "\n",
        "elif x>60 and x<80:# elif x is greater then 60\n",
        "    print(\"Grade B\")\n",
        "\n",
        "else:\n",
        "    print(\"Grade F\")"
      ]
    },
    {
      "attachments": {},
      "cell_type": "markdown",
      "metadata": {
        "id": "Ifzx69_srP4W"
      },
      "source": [
        "\n",
        "<a id='8'></a><center> <h3 style=\"background-color:orange; color:white\" ><br>Loops<br></h3>"
      ]
    },
    {
      "cell_type": "code",
      "execution_count": null,
      "metadata": {
        "colab": {
          "base_uri": "https://localhost:8080/",
          "height": 38
        },
        "id": "Jeln_5cCrP4W",
        "outputId": "b7686a87-77ac-4fc8-91f2-62f80c89b098"
      },
      "outputs": [],
      "source": [
        "\"\"\"\n",
        "for iterating_variable in sequence:\n",
        "    statement(s)\n",
        "\"\"\""
      ]
    },
    {
      "attachments": {},
      "cell_type": "markdown",
      "metadata": {
        "id": "zKF8RVOJrP4W"
      },
      "source": [
        "|Loop Type|Description|\n",
        "|----|-----|\n",
        "|`for in` loop | repeats a statement or group of statements finite number of time |\n",
        "|`while` loop | tests condition before executing loop body, repeats a statement or group of statements while a given condition is true |\n",
        "|`nested` loop  | loop inside a loop |"
      ]
    },
    {
      "attachments": {},
      "cell_type": "markdown",
      "metadata": {
        "id": "7Mo7XNVNrP4W"
      },
      "source": [
        "# **When to use `while` or `for` loops??** <br>\n",
        "Say your Girlfriend or Boyfriend is mad at you and they asked you to say sorry, but there are two more condition here given by them:\n",
        "* say sorry 1000 times, now you know end point i.e. 1000 => `use for loop`\n",
        "* say sorry untill I say I love you, now you dont know end point, maybe she/he will never say I love you. => `use while loop` it will stop saying sorry untill condition is not met\n",
        "\n",
        "1. `We use for loop when we want to run a block of code certain number of times`\n",
        "2. `Code in while clause will be executed as long as while statement’s condition is True`"
      ]
    },
    {
      "attachments": {},
      "cell_type": "markdown",
      "metadata": {
        "id": "LQwybYuNrP4X"
      },
      "source": [
        "# `Why we need Loops?` <br>\n",
        "Say your Girfriend/Boyfriend is Mad at you and she want you to write sorry 1000 times. What to do now????? Write a `for loop`"
      ]
    },
    {
      "attachments": {},
      "cell_type": "markdown",
      "metadata": {
        "id": "yGTJuxZarP4X"
      },
      "source": [
        "|Pseudo Code for above will be\n",
        "|----|\n",
        "print 'Sorry My love' (repeat 1000 times)"
      ]
    },
    {
      "cell_type": "code",
      "execution_count": null,
      "metadata": {
        "colab": {
          "base_uri": "https://localhost:8080/",
          "height": 38
        },
        "id": "UsOavUkNrP4X",
        "outputId": "6a576f4b-5655-4091-e59b-722ecdd3f3fb"
      },
      "outputs": [],
      "source": [
        "\"\"\"\n",
        "for iterating_variable in sequence:\n",
        "    statement(s)\n",
        "\"\"\""
      ]
    },
    {
      "cell_type": "code",
      "execution_count": 24,
      "metadata": {
        "colab": {
          "base_uri": "https://localhost:8080/"
        },
        "execution": {
          "iopub.execute_input": "2021-12-14T05:27:42.974824Z",
          "iopub.status.busy": "2021-12-14T05:27:42.973933Z",
          "iopub.status.idle": "2021-12-14T05:27:42.981157Z",
          "shell.execute_reply": "2021-12-14T05:27:42.980185Z",
          "shell.execute_reply.started": "2021-12-14T05:27:42.97478Z"
        },
        "id": "v3DtstO3rP4X",
        "outputId": "3138dfad-be46-49d8-a0aa-8e74c8855a9d",
        "trusted": true
      },
      "outputs": [
        {
          "name": "stdout",
          "output_type": "stream",
          "text": [
            "0\n",
            "1\n",
            "2\n",
            "3\n",
            "4\n",
            "5\n",
            "6\n",
            "7\n",
            "8\n",
            "9\n"
          ]
        }
      ],
      "source": [
        "for iterating_variable in range(10):\n",
        "    print(iterating_variable)"
      ]
    },
    {
      "cell_type": "code",
      "execution_count": 25,
      "metadata": {
        "colab": {
          "base_uri": "https://localhost:8080/"
        },
        "execution": {
          "iopub.execute_input": "2021-12-14T05:29:31.818786Z",
          "iopub.status.busy": "2021-12-14T05:29:31.818325Z",
          "iopub.status.idle": "2021-12-14T05:29:31.825965Z",
          "shell.execute_reply": "2021-12-14T05:29:31.82532Z",
          "shell.execute_reply.started": "2021-12-14T05:29:31.818752Z"
        },
        "id": "nD9f1mMwrP4X",
        "outputId": "a087b7d8-d4b9-4f11-8d45-f3c460ea562e",
        "trusted": true
      },
      "outputs": [
        {
          "name": "stdout",
          "output_type": "stream",
          "text": [
            "🔥 Sorry My Love🔥\n",
            "🔥 Sorry My Love🔥\n",
            "🔥 Sorry My Love🔥\n",
            "🔥 Sorry My Love🔥\n",
            "🔥 Sorry My Love🔥\n",
            "🔥 Sorry My Love🔥\n",
            "🔥 Sorry My Love🔥\n",
            "🔥 Sorry My Love🔥\n",
            "🔥 Sorry My Love🔥\n",
            "🔥 Sorry My Love🔥\n"
          ]
        }
      ],
      "source": [
        "# print '🔥 Sorry My Love🔥' 10 times using for loop\n",
        "\n",
        "# for now i am giving range of 10 you can give any number you want\n",
        "for i in range(10):\n",
        "    print('🔥 Sorry My Love🔥')\n",
        "    "
      ]
    },
    {
      "attachments": {},
      "cell_type": "markdown",
      "metadata": {
        "id": "F10cQq2RrP4X"
      },
      "source": [
        "`10` => `stoping criteria` of, for loop"
      ]
    },
    {
      "cell_type": "code",
      "execution_count": null,
      "metadata": {
        "colab": {
          "base_uri": "https://localhost:8080/",
          "height": 38
        },
        "execution": {
          "iopub.status.busy": "2021-12-11T05:18:11.228902Z",
          "iopub.status.idle": "2021-12-11T05:18:11.229189Z",
          "shell.execute_reply": "2021-12-11T05:18:11.229034Z",
          "shell.execute_reply.started": "2021-12-11T05:18:11.229019Z"
        },
        "id": "uCzvC6tnrP4X",
        "outputId": "b5be09b0-02ef-4dbb-e886-590c7cf1a265",
        "trusted": true
      },
      "outputs": [],
      "source": [
        "# Syntax of for loop\n",
        "\"\"\"\n",
        "for iterating_variable in sequence:\n",
        "    statements(s)\n",
        "\"\"\""
      ]
    },
    {
      "attachments": {},
      "cell_type": "markdown",
      "metadata": {
        "id": "sYmBZqXkrP4X"
      },
      "source": [
        "* `in` => keyword\n",
        "* `sequence` => on which to itterate\n",
        "* `:` => colon , start of for loop"
      ]
    },
    {
      "attachments": {},
      "cell_type": "markdown",
      "metadata": {
        "id": "kKybOmM2rP4X"
      },
      "source": [
        "|Pseudo Code `while` loop|\n",
        "|---|\n",
        "while reply != 'I love you':\n",
        "....keep repeating until\n",
        "....caparison gives False "
      ]
    },
    {
      "attachments": {},
      "cell_type": "markdown",
      "metadata": {
        "id": "nR0WJpXwrP4X"
      },
      "source": [
        "`!=` = not equall to => `behaves as a stoping criteria`"
      ]
    },
    {
      "cell_type": "code",
      "execution_count": null,
      "metadata": {
        "colab": {
          "base_uri": "https://localhost:8080/",
          "height": 38
        },
        "execution": {
          "iopub.status.busy": "2021-12-11T05:18:11.230229Z",
          "iopub.status.idle": "2021-12-11T05:18:11.230505Z",
          "shell.execute_reply": "2021-12-11T05:18:11.230373Z",
          "shell.execute_reply.started": "2021-12-11T05:18:11.230358Z"
        },
        "id": "vYJsdLnerP4Y",
        "outputId": "44686682-2f3a-4522-bdf4-84215e4a8f17",
        "trusted": true
      },
      "outputs": [],
      "source": [
        "# Syntax of while loop\n",
        "\"\"\"\n",
        "while comparison:\n",
        "    statements(s)\n",
        "\"\"\""
      ]
    },
    {
      "cell_type": "code",
      "execution_count": 27,
      "metadata": {
        "colab": {
          "base_uri": "https://localhost:8080/"
        },
        "execution": {
          "iopub.execute_input": "2021-12-14T05:32:44.799916Z",
          "iopub.status.busy": "2021-12-14T05:32:44.799592Z",
          "iopub.status.idle": "2021-12-14T05:32:44.807523Z",
          "shell.execute_reply": "2021-12-14T05:32:44.806458Z",
          "shell.execute_reply.started": "2021-12-14T05:32:44.799882Z"
        },
        "id": "No1lV66XrP4Y",
        "outputId": "6d6d01cd-2c11-499b-e593-ac9fa8dcc629",
        "trusted": true
      },
      "outputs": [
        {
          "name": "stdout",
          "output_type": "stream",
          "text": [
            "0\n",
            "1\n",
            "2\n",
            "3\n",
            "4\n",
            "5\n",
            "6\n"
          ]
        }
      ],
      "source": [
        "# while loop\n",
        "\n",
        "# save 0 in variable number\n",
        "number = 0\n",
        "\n",
        "# print bellow result using while loop\n",
        "while(number<=6):\n",
        "    print(number)\n",
        "    number+=1"
      ]
    },
    {
      "attachments": {},
      "cell_type": "markdown",
      "metadata": {
        "id": "9oFT7qEjrP4Y"
      },
      "source": [
        "* Initialized variable `number = 0` and then increment it's value in each iteration\n",
        "* Loop will only continue to run only if value is less than 7"
      ]
    },
    {
      "attachments": {},
      "cell_type": "markdown",
      "metadata": {
        "execution": {
          "iopub.execute_input": "2021-12-10T09:38:54.720729Z",
          "iopub.status.busy": "2021-12-10T09:38:54.720379Z",
          "iopub.status.idle": "2021-12-10T09:38:54.729647Z",
          "shell.execute_reply": "2021-12-10T09:38:54.728479Z",
          "shell.execute_reply.started": "2021-12-10T09:38:54.720691Z"
        },
        "id": "8510bIUSrP4Y"
      },
      "source": [
        "# 3. **`Nested loop`**"
      ]
    },
    {
      "cell_type": "code",
      "execution_count": 28,
      "metadata": {
        "colab": {
          "base_uri": "https://localhost:8080/"
        },
        "execution": {
          "iopub.execute_input": "2021-12-14T05:43:57.128724Z",
          "iopub.status.busy": "2021-12-14T05:43:57.12841Z",
          "iopub.status.idle": "2021-12-14T05:43:57.134926Z",
          "shell.execute_reply": "2021-12-14T05:43:57.1341Z",
          "shell.execute_reply.started": "2021-12-14T05:43:57.128693Z"
        },
        "id": "SaYaNtm_rP4Y",
        "outputId": "18eef661-2153-48f3-ed3a-095e21a895a5",
        "trusted": true
      },
      "outputs": [
        {
          "name": "stdout",
          "output_type": "stream",
          "text": [
            "1\n",
            "2\n"
          ]
        }
      ],
      "source": [
        "# run it see the output\n",
        "for outer_loop_number in range(1,3):\n",
        "    print(outer_loop_number)"
      ]
    },
    {
      "cell_type": "code",
      "execution_count": 29,
      "metadata": {
        "colab": {
          "base_uri": "https://localhost:8080/"
        },
        "execution": {
          "iopub.execute_input": "2021-12-14T05:44:39.129675Z",
          "iopub.status.busy": "2021-12-14T05:44:39.12929Z",
          "iopub.status.idle": "2021-12-14T05:44:39.137127Z",
          "shell.execute_reply": "2021-12-14T05:44:39.135798Z",
          "shell.execute_reply.started": "2021-12-14T05:44:39.129641Z"
        },
        "id": "8E_8V-_3rP4Y",
        "outputId": "ee0d38ac-821c-4e05-97ca-2227e68a3ed5",
        "trusted": true
      },
      "outputs": [
        {
          "name": "stdout",
          "output_type": "stream",
          "text": [
            "C\n",
            "l\n",
            "o\n",
            "u\n",
            "d\n",
            "y\n",
            "M\n",
            "L\n"
          ]
        }
      ],
      "source": [
        "# run it see the output\n",
        "for inner_loop_character in \"CloudyML\":\n",
        "    print(inner_loop_character)"
      ]
    },
    {
      "cell_type": "code",
      "execution_count": 34,
      "metadata": {
        "colab": {
          "base_uri": "https://localhost:8080/"
        },
        "execution": {
          "iopub.execute_input": "2021-12-14T05:45:07.376594Z",
          "iopub.status.busy": "2021-12-14T05:45:07.376268Z",
          "iopub.status.idle": "2021-12-14T05:45:07.387369Z",
          "shell.execute_reply": "2021-12-14T05:45:07.385704Z",
          "shell.execute_reply.started": "2021-12-14T05:45:07.376561Z"
        },
        "id": "VYeJ7UT3rP4Y",
        "outputId": "6d1b417c-24fc-4c47-b53e-8f1f853c8f70",
        "trusted": true
      },
      "outputs": [
        {
          "name": "stdout",
          "output_type": "stream",
          "text": [
            "1 C\n",
            "1 l\n",
            "1 o\n",
            "1 u\n",
            "1 d\n",
            "1 y\n",
            "1 M\n",
            "1 L\n",
            "2 C\n",
            "2 l\n",
            "2 o\n",
            "2 u\n",
            "2 d\n",
            "2 y\n",
            "2 M\n",
            "2 L\n"
          ]
        }
      ],
      "source": [
        "# print this patern using outer and inner loop \n",
        "for outer_loop_number in range(1,3):\n",
        "    for inner_loop_character in \"CloudyML\":\n",
        "        print(outer_loop_number,inner_loop_character)\n",
        "        \n",
        "        \n",
        "    "
      ]
    },
    {
      "attachments": {},
      "cell_type": "markdown",
      "metadata": {
        "id": "VDXKoxndrP4Y"
      },
      "source": [
        "`See For each step in outer loop, inner loop exectues completely`"
      ]
    },
    {
      "cell_type": "code",
      "execution_count": 35,
      "metadata": {
        "colab": {
          "base_uri": "https://localhost:8080/"
        },
        "execution": {
          "iopub.status.busy": "2021-12-11T05:18:11.234623Z",
          "iopub.status.idle": "2021-12-11T05:18:11.234923Z",
          "shell.execute_reply": "2021-12-11T05:18:11.234789Z",
          "shell.execute_reply.started": "2021-12-11T05:18:11.234773Z"
        },
        "id": "wY98D_7BrP4Y",
        "outputId": "02a22cbd-de75-44b1-8f4d-80bdea7b5421",
        "trusted": true
      },
      "outputs": [
        {
          "name": "stdout",
          "output_type": "stream",
          "text": [
            "m lxm uxdxyxmxlx"
          ]
        }
      ],
      "source": [
        "# think what will be the output of this code and then run it\n",
        "# comment why this out is the way it is \n",
        "\n",
        "for letter in 'cloudyml':\n",
        "    if (letter == 'c') or (letter == 'o'):\n",
        "        print('m', end= ' ')\n",
        "    else:\n",
        "        print(letter,end= 'x')"
      ]
    },
    {
      "attachments": {},
      "cell_type": "markdown",
      "metadata": {
        "id": "AiELZ4y9jaYG"
      },
      "source": [
        "Your Comment: in if condition if letter c or o comes it willbe changed to m and space and for remaining it will print l and x i.e if letter is l then lx"
      ]
    },
    {
      "cell_type": "code",
      "execution_count": 36,
      "metadata": {
        "colab": {
          "base_uri": "https://localhost:8080/"
        },
        "execution": {
          "iopub.status.busy": "2021-12-11T05:18:11.235984Z",
          "iopub.status.idle": "2021-12-11T05:18:11.236307Z",
          "shell.execute_reply": "2021-12-11T05:18:11.236156Z",
          "shell.execute_reply.started": "2021-12-11T05:18:11.23614Z"
        },
        "id": "n8YN-ajLrP4Z",
        "outputId": "036e75fa-0a47-4f90-95eb-d1036cc9f2c3",
        "trusted": true
      },
      "outputs": [
        {
          "name": "stdout",
          "output_type": "stream",
          "text": [
            "10 9 "
          ]
        }
      ],
      "source": [
        "# think what will be the output of this code and then run it\n",
        "# comment why this out is the way it is \n",
        "\n",
        "num = 10\n",
        "\n",
        "while num > 5:\n",
        "    print(num,end= ' ')\n",
        "    \n",
        "    num = num - 1\n",
        "    if num == 8:\n",
        "        num = 2"
      ]
    },
    {
      "attachments": {},
      "cell_type": "markdown",
      "metadata": {
        "id": "tpJnrvlnjwHf"
      },
      "source": [
        "Your Comment: num is initialsed as 10 so it will pass the condition and enter while statement and print will be executed and it will be decremented to 9 and 9 wont pass the if condition then 9 again enters while loop and print the 9 in next step and it will decresed to 8 and it will pass the if condition and num value is assigned as 2 and it wont pass the while condition and loop ends."
      ]
    },
    {
      "attachments": {},
      "cell_type": "markdown",
      "metadata": {
        "id": "CsIxN6mUrP4Z"
      },
      "source": [
        "<a id='9'></a><center> <h3 style=\"background-color:orange; color:white\" ><br>Jump Statements<br></h3>"
      ]
    },
    {
      "attachments": {},
      "cell_type": "markdown",
      "metadata": {
        "id": "ZFHHxSeqrP4Z"
      },
      "source": [
        "# **`Type of Jump Statements`** <br>\n",
        "1. `Break Statement`\n",
        "2. `Continue Statement`\n",
        "3. `Pass Statement`"
      ]
    },
    {
      "attachments": {},
      "cell_type": "markdown",
      "metadata": {
        "id": "Mai0WKJ7rP4Z"
      },
      "source": [
        "Using for loops and while loops in Python allow you to automate and repeat tasks in an efficient manner.\n",
        "\n",
        "* But sometimes, an external factor may influence the way your program runs. When this occurs, you may want your program to `exit a loop completely`, `skip part of a loop before continuing`, or `ignore that external factor` \n",
        "\n",
        "`You can do these actions with **Break** and **Continue** Statements`"
      ]
    },
    {
      "cell_type": "code",
      "execution_count": null,
      "metadata": {
        "colab": {
          "base_uri": "https://localhost:8080/",
          "height": 38
        },
        "id": "0bu4vLAJrP4Z",
        "outputId": "7e0aa30e-916c-436a-f7e1-d24a5e586564"
      },
      "outputs": [],
      "source": [
        "'''\n",
        "pass\n",
        "\n",
        "break\n",
        "\n",
        "continue\n",
        "'''"
      ]
    },
    {
      "attachments": {},
      "cell_type": "markdown",
      "metadata": {
        "id": "2TlMjfJVrP4a"
      },
      "source": [
        "# 1. **`Break Statement`**\n"
      ]
    },
    {
      "cell_type": "code",
      "execution_count": 37,
      "metadata": {
        "colab": {
          "base_uri": "https://localhost:8080/"
        },
        "execution": {
          "iopub.execute_input": "2021-12-14T08:27:20.070741Z",
          "iopub.status.busy": "2021-12-14T08:27:20.070203Z",
          "iopub.status.idle": "2021-12-14T08:27:20.077102Z",
          "shell.execute_reply": "2021-12-14T08:27:20.076404Z",
          "shell.execute_reply.started": "2021-12-14T08:27:20.070699Z"
        },
        "id": "MYsORtlrrP4a",
        "outputId": "c7a67df0-dec4-44b6-de0d-23fc744e861f",
        "trusted": true
      },
      "outputs": [
        {
          "name": "stdout",
          "output_type": "stream",
          "text": [
            "0\n",
            "1\n",
            "2\n",
            "3\n",
            "4\n",
            "5\n",
            "6\n",
            "7\n",
            "8\n",
            "9\n"
          ]
        }
      ],
      "source": [
        "# observe the output\n",
        "for num in range(10):\n",
        "    print(num)"
      ]
    },
    {
      "cell_type": "code",
      "execution_count": 41,
      "metadata": {
        "colab": {
          "base_uri": "https://localhost:8080/"
        },
        "execution": {
          "iopub.execute_input": "2021-12-14T09:25:34.60943Z",
          "iopub.status.busy": "2021-12-14T09:25:34.609121Z",
          "iopub.status.idle": "2021-12-14T09:25:34.617876Z",
          "shell.execute_reply": "2021-12-14T09:25:34.616894Z",
          "shell.execute_reply.started": "2021-12-14T09:25:34.609398Z"
        },
        "id": "9E-BFzqUrP4a",
        "outputId": "785d296c-e195-4af8-ce70-784cc9bd2447",
        "trusted": true
      },
      "outputs": [
        {
          "name": "stdout",
          "output_type": "stream",
          "text": [
            "The number is0\n",
            "The number is1\n",
            "The number is2\n",
            "The number is3\n",
            "The number is4\n",
            "Out of loop\n"
          ]
        }
      ],
      "source": [
        "# example that uses break statement in a for loop\n",
        "\n",
        "num = 0\n",
        "for num in range(10):\n",
        "    if num == 5:\n",
        "        break#break when num == 5\n",
        "    print('The number is' + str(num))\n",
        "\n",
        "print('Out of loop')\n",
        "\n",
        "\n",
        "# Explain Why the output is the way it is "
      ]
    },
    {
      "attachments": {},
      "cell_type": "markdown",
      "metadata": {
        "id": "-OvOEgwGkGh1"
      },
      "source": [
        "Your Comment: =>loop get terminated after reaching break command"
      ]
    },
    {
      "attachments": {},
      "cell_type": "markdown",
      "metadata": {
        "id": "oPN-KW8ErP4a"
      },
      "source": [
        "# 2. **`Continue Statement`**\n"
      ]
    },
    {
      "cell_type": "code",
      "execution_count": 42,
      "metadata": {
        "colab": {
          "base_uri": "https://localhost:8080/"
        },
        "execution": {
          "iopub.execute_input": "2021-12-14T06:14:44.160916Z",
          "iopub.status.busy": "2021-12-14T06:14:44.160579Z",
          "iopub.status.idle": "2021-12-14T06:14:44.169578Z",
          "shell.execute_reply": "2021-12-14T06:14:44.168622Z",
          "shell.execute_reply.started": "2021-12-14T06:14:44.160884Z"
        },
        "id": "I7RGHGcDrP4a",
        "outputId": "1623dadf-25b1-4d43-e696-0b7afb26703b",
        "trusted": true
      },
      "outputs": [
        {
          "name": "stdout",
          "output_type": "stream",
          "text": [
            "The number is0\n",
            "The number is1\n",
            "The number is2\n",
            "The number is3\n",
            "The number is4\n",
            "The number is6\n",
            "The number is7\n",
            "The number is8\n",
            "The number is9\n",
            "Out of loop\n"
          ]
        }
      ],
      "source": [
        "# Using same `for loop program` as in Break Statement section above, we’ll use a continue statement rather than a break statement\n",
        "num = 0\n",
        "\n",
        "for num in range(10):\n",
        "    if num == 5:\n",
        "        continue #keep running if num == 5\n",
        "    print('The number is' + str(num))\n",
        "\n",
        "print('Out of loop')\n",
        "\n",
        "\n",
        "# Explain Why the output is the way it is "
      ]
    },
    {
      "attachments": {},
      "cell_type": "markdown",
      "metadata": {
        "id": "FqKoSmjUkfSc"
      },
      "source": [
        "Your Comment: => Continue command will skip the current iteration"
      ]
    },
    {
      "cell_type": "code",
      "execution_count": 43,
      "metadata": {
        "colab": {
          "base_uri": "https://localhost:8080/"
        },
        "execution": {
          "iopub.execute_input": "2021-12-14T08:11:16.489676Z",
          "iopub.status.busy": "2021-12-14T08:11:16.489389Z",
          "iopub.status.idle": "2021-12-14T08:11:16.496652Z",
          "shell.execute_reply": "2021-12-14T08:11:16.495911Z",
          "shell.execute_reply.started": "2021-12-14T08:11:16.489646Z"
        },
        "id": "QOW1z0udrP4b",
        "outputId": "b0cda0f0-55fb-4d3d-91b8-52150bad9f6b",
        "trusted": true
      },
      "outputs": [
        {
          "name": "stdout",
          "output_type": "stream",
          "text": [
            "Number is 0\n",
            "Number is 1\n",
            "Number is 2\n",
            "Number is 3\n",
            "Number is 4\n",
            "Number is 5\n",
            "Number is 6\n",
            "Number is 7\n",
            "Number is 8\n",
            "Number is 9\n",
            "Out of loop\n"
          ]
        }
      ],
      "source": [
        "# Using same code block as above, let’s replace break or continue statement with a pass statement\n",
        "num = 0\n",
        "\n",
        "for num in range(10):\n",
        "    if num == 5:\n",
        "        pass    # pass then\n",
        "    print('Number is ' + str(num))\n",
        "print('Out of loop')\n",
        "\n",
        "\n",
        "# Explain Why the output is the way it is"
      ]
    },
    {
      "attachments": {},
      "cell_type": "markdown",
      "metadata": {
        "id": "tAreE2KtrP4b"
      },
      "source": [
        "Your Comment: => pass comand do nothing it is also called placeholder for future code "
      ]
    },
    {
      "attachments": {},
      "cell_type": "markdown",
      "metadata": {
        "id": "z7Mr7CDerP4b"
      },
      "source": [
        "<a id='10'></a><center> <h3 style=\"background-color:orange; color:white\" ><br>Assignment Loops and Jump Statements<br></h3>\n"
      ]
    },
    {
      "attachments": {},
      "cell_type": "markdown",
      "metadata": {
        "id": "0nJZ8yTqrP4b"
      },
      "source": [
        "# 💬 ***Problem Statement-1:***\n",
        "\n",
        "* User will enter password which is set to be `qwert`\n",
        "* If password matches, print ***`Welcome to CloudyML Course!!`*** else print ***`Wrong Password!!`*** and user will re-enter password\n",
        "* In `fourth` trial, it will print ***`One Last Trial left!!!`***\n",
        "\n",
        "Hint: `Break Statement` can be used"
      ]
    },
    {
      "cell_type": "code",
      "execution_count": 2,
      "metadata": {
        "colab": {
          "base_uri": "https://localhost:8080/"
        },
        "execution": {
          "iopub.status.busy": "2021-12-11T05:18:11.242989Z",
          "iopub.status.idle": "2021-12-11T05:18:11.243372Z",
          "shell.execute_reply": "2021-12-11T05:18:11.243211Z",
          "shell.execute_reply.started": "2021-12-11T05:18:11.243182Z"
        },
        "id": "3TfEntL3rP4b",
        "outputId": "5724ab37-47ab-4614-e503-2edbaf662ec5",
        "trusted": true
      },
      "outputs": [
        {
          "name": "stdout",
          "output_type": "stream",
          "text": [
            "Wrong password\n",
            "Wrong password\n",
            "Wrong password\n",
            "Wrong password\n",
            "One last trial\n",
            "Welcome to CloudyMl course\n"
          ]
        }
      ],
      "source": [
        "password = \"qwert\"\n",
        "trial=1\n",
        "\n",
        "while(trial<6):\n",
        "    entry=input(\"Enter password :\")\n",
        "    if entry==password:\n",
        "        print(\"Welcome to CloudyMl course\")\n",
        "        break\n",
        "    elif (trial==4):\n",
        "        print(\"One last trial\")\n",
        "    elif (trial==5):\n",
        "        break\n",
        "    else:\n",
        "        print(\"Wrong password\")\n",
        "    trial+=1\n",
        "\n",
        "\n",
        "\n"
      ]
    },
    {
      "attachments": {},
      "cell_type": "markdown",
      "metadata": {
        "id": "D7sqvuiNrP4b"
      },
      "source": [
        "....."
      ]
    },
    {
      "attachments": {},
      "cell_type": "markdown",
      "metadata": {
        "id": "hNE2e0YBrP4b"
      },
      "source": [
        "# 💬 ***Problem Statement-2:***\n",
        "\n",
        "* Enter password which is an OTP set to be `1008`\n",
        "* If OTP matches, It will ask user to provide details like ***`Enter Your Name:`*** and ***`Enter Your City:`*** and user will re-enter OTP\n",
        "* In `fourth` trial, it will print ***`One Last Trial left!!!`***\n",
        "\n",
        "`Hint:` Continue Statement can be used"
      ]
    },
    {
      "cell_type": "code",
      "execution_count": 3,
      "metadata": {
        "colab": {
          "base_uri": "https://localhost:8080/"
        },
        "execution": {
          "iopub.status.busy": "2021-12-11T05:18:11.245219Z",
          "iopub.status.idle": "2021-12-11T05:18:11.245617Z",
          "shell.execute_reply": "2021-12-11T05:18:11.245478Z",
          "shell.execute_reply.started": "2021-12-11T05:18:11.245461Z"
        },
        "id": "PI9ZTGG6rP4b",
        "outputId": "ab4df7fb-a632-4788-88a6-4913800b62ae",
        "trusted": true
      },
      "outputs": [
        {
          "name": "stdout",
          "output_type": "stream",
          "text": [
            "Re enter OTP\n",
            "Re enter OTP\n",
            "Re enter OTP\n",
            "One last trial\n",
            "vk\n",
            "tup\n"
          ]
        }
      ],
      "source": [
        "OTP = \"1008\"\n",
        "trial = 1\n",
        "\n",
        "while(trial<6):\n",
        "    entry=input(\"Enter OTP :\")\n",
        "    if entry==OTP:\n",
        "        name=print(input(\"Enter your Name\"))\n",
        "        city=print(input(\"Enter your city\"))\n",
        "        break\n",
        "    elif (trial==4):\n",
        "        print(\"One last trial\")\n",
        "    elif (trial==5):\n",
        "        break\n",
        "    else:\n",
        "        print(\"Re enter OTP\")\n",
        "    trial+=1\n",
        "\n",
        "\n",
        "\n",
        "\n"
      ]
    },
    {
      "attachments": {},
      "cell_type": "markdown",
      "metadata": {
        "id": "mepQLZjcrP4b"
      },
      "source": [
        "<a id='11'></a><center> <h3 style=\"background-color:orange; color:white\" ><br>Python Data Structures<br></h3>\n",
        "\n"
      ]
    },
    {
      "attachments": {},
      "cell_type": "markdown",
      "metadata": {
        "id": "1A84HNVLrP4c"
      },
      "source": [
        "Existing Data Type: int, float, bool, str\n",
        "\n",
        "Problem with Existing Data Type:\n",
        "* Only single data type can be stored in a variable i.e. either int or decimal or str\n",
        "* To store more data we need more variables\n",
        "    * Eg: You have 100 name and age then you have to make 200 variables, valid for condition if you are not using DataStructure\n",
        "    \n",
        "    \n",
        "`Data Structure Solves` above problem\n",
        "\n",
        "# **`Properties of Data Structure:`**\n",
        "* Efficient Storage for large data\n",
        "* Should allow Manipulation/Operations on data\n",
        "* Should mantain underlying relationship of data\n",
        "If these three properties are available then you can call it a Data Structure\n",
        "\n",
        "\n",
        "# `Types of Data Structures:`\n",
        "* `List` => ordered => elements seprated by comma => enclosed with square brackets-[]\n",
        "* `Tuple`\n",
        "* `Set`\n",
        "* `Dictionary`"
      ]
    },
    {
      "attachments": {},
      "cell_type": "markdown",
      "metadata": {
        "id": "2mYBzcjXrP4c"
      },
      "source": [
        "|Data Structures type|Mutable|Comments|Indexing|Ordered|Duplicacy|\n",
        "|----|----|----|----|----|----|\n",
        "frozenset|immutable|immutable version of set|- |- |- |\n",
        "tuple ()|immutable|immutable version of list| possible|yes |allowed |\n",
        "list []|mutable|-|possible |yes | allowed |\n",
        "set {}|mutable| -|not |no |not |\n",
        "dict {key:value}|mutable|-|possible |no |not  |"
      ]
    },
    {
      "attachments": {},
      "cell_type": "markdown",
      "metadata": {
        "id": "XbJv8WOprP4c"
      },
      "source": [
        "💫 `immutable` => `can't be changed` <br>\n",
        "💫 `mutable` => `can be changed`"
      ]
    },
    {
      "attachments": {},
      "cell_type": "markdown",
      "metadata": {
        "id": "hxNFx7omrP4c"
      },
      "source": [
        "---"
      ]
    },
    {
      "attachments": {},
      "cell_type": "markdown",
      "metadata": {
        "id": "1WlRcrHGrP4c"
      },
      "source": [
        "\n",
        "# **`List`**"
      ]
    },
    {
      "cell_type": "code",
      "execution_count": 4,
      "metadata": {
        "execution": {
          "iopub.execute_input": "2021-12-13T08:21:05.502988Z",
          "iopub.status.busy": "2021-12-13T08:21:05.502536Z",
          "iopub.status.idle": "2021-12-13T08:21:05.510594Z",
          "shell.execute_reply": "2021-12-13T08:21:05.50956Z",
          "shell.execute_reply.started": "2021-12-13T08:21:05.502944Z"
        },
        "id": "7SFfVkH0rP4c",
        "trusted": true
      },
      "outputs": [],
      "source": [
        "# make a list, name it as names with values ram','ohm','da','ada','asdasd'\n",
        "values=['ram','ohm','da','ada','asdasd']\n",
        "# make a list, name it as roll_no with values 21,23,435,65,565,656\n",
        "roll_no =[21,23,435,65,565,656]\n",
        "# make a list, name it as scores  with values 23,2323,2323,234324,3423\n",
        "scores=[23,2323,2323,234324,3423]"
      ]
    },
    {
      "cell_type": "code",
      "execution_count": 24,
      "metadata": {
        "colab": {
          "base_uri": "https://localhost:8080/"
        },
        "execution": {
          "iopub.execute_input": "2021-12-11T12:31:37.80606Z",
          "iopub.status.busy": "2021-12-11T12:31:37.805778Z",
          "iopub.status.idle": "2021-12-11T12:31:37.812504Z",
          "shell.execute_reply": "2021-12-11T12:31:37.811545Z",
          "shell.execute_reply.started": "2021-12-11T12:31:37.806032Z"
        },
        "id": "dyF1sb1jrP4c",
        "outputId": "abfbec96-e246-4e23-baf0-49d9f536bc5a",
        "trusted": true
      },
      "outputs": [
        {
          "name": "stdout",
          "output_type": "stream",
          "text": [
            "<class 'list'>\n"
          ]
        }
      ],
      "source": [
        "# make a list with Single data type - str\n",
        "# name of list names_list with values as 'krishna','mahadev','surya'\n",
        "names_list=['krishna','mahadev','surya']\n",
        "# print type of names_list\n",
        "print(type(names_list))\n",
        "\n",
        "\n"
      ]
    },
    {
      "cell_type": "code",
      "execution_count": 25,
      "metadata": {
        "colab": {
          "base_uri": "https://localhost:8080/"
        },
        "execution": {
          "iopub.execute_input": "2021-12-13T08:23:29.204419Z",
          "iopub.status.busy": "2021-12-13T08:23:29.204091Z",
          "iopub.status.idle": "2021-12-13T08:23:29.211906Z",
          "shell.execute_reply": "2021-12-13T08:23:29.211239Z",
          "shell.execute_reply.started": "2021-12-13T08:23:29.20439Z"
        },
        "id": "1psLdZcUrP4d",
        "outputId": "529f473b-ddbf-4577-ccc1-1fd5cd266955",
        "trusted": true
      },
      "outputs": [
        {
          "name": "stdout",
          "output_type": "stream",
          "text": [
            "<class 'list'>\n"
          ]
        }
      ],
      "source": [
        "# make a list with Mixed data type - str and int\n",
        "# name of list names_list with values as 'krishna','mahadev','surya'108,11,21,\n",
        "names_list=['krishna','mahadev','surya',108,11,21]\n",
        "# print type of names_list\n",
        "print(type(names_list))\n",
        "\n",
        "\n"
      ]
    },
    {
      "cell_type": "code",
      "execution_count": 26,
      "metadata": {
        "colab": {
          "base_uri": "https://localhost:8080/",
          "height": 38
        },
        "execution": {
          "iopub.execute_input": "2021-12-13T08:26:53.759352Z",
          "iopub.status.busy": "2021-12-13T08:26:53.758993Z",
          "iopub.status.idle": "2021-12-13T08:26:53.76578Z",
          "shell.execute_reply": "2021-12-13T08:26:53.764799Z",
          "shell.execute_reply.started": "2021-12-13T08:26:53.759315Z"
        },
        "id": "m5_fowfPrP4d",
        "outputId": "3435e29e-4633-4d1b-e899-fcc0594fb77b",
        "trusted": true
      },
      "outputs": [
        {
          "data": {
            "text/plain": [
              "'mahadev'"
            ]
          },
          "execution_count": 26,
          "metadata": {},
          "output_type": "execute_result"
        }
      ],
      "source": [
        "# access output element \n",
        "names_list[1]"
      ]
    },
    {
      "attachments": {},
      "cell_type": "markdown",
      "metadata": {
        "id": "J1ipDEgCrP4d"
      },
      "source": [
        "`List Indexing:`\n",
        "\n",
        "\n",
        "|`Values`|1|2|3|4|5|6|7|8|9|10|\n",
        "|---|---|---|---|---|---|---|---|---|---|---|\n",
        "|`Indexing` |0 |1 |2 |3 |4 |5 |6 |7 |8|9|\n",
        "|`Negative Indexing`| -10 |-9 |-8 |-7 |-6 |-5 |-4 |-3 |-2 |-1|"
      ]
    },
    {
      "cell_type": "code",
      "execution_count": 27,
      "metadata": {
        "colab": {
          "base_uri": "https://localhost:8080/"
        },
        "execution": {
          "iopub.execute_input": "2021-12-13T08:27:25.217447Z",
          "iopub.status.busy": "2021-12-13T08:27:25.21688Z",
          "iopub.status.idle": "2021-12-13T08:27:25.223883Z",
          "shell.execute_reply": "2021-12-13T08:27:25.22327Z",
          "shell.execute_reply.started": "2021-12-13T08:27:25.21741Z"
        },
        "id": "TStBmS8jrP4d",
        "outputId": "e7134ac8-4cd7-4063-9e22-a3d7da34bae2",
        "trusted": true
      },
      "outputs": [
        {
          "data": {
            "text/plain": [
              "21"
            ]
          },
          "execution_count": 27,
          "metadata": {},
          "output_type": "execute_result"
        }
      ],
      "source": [
        "# extract single element i.e. last one using Negative Index (first element)\n",
        "names_list[-1]"
      ]
    },
    {
      "cell_type": "code",
      "execution_count": 28,
      "metadata": {
        "colab": {
          "base_uri": "https://localhost:8080/",
          "height": 38
        },
        "execution": {
          "iopub.execute_input": "2021-12-13T08:27:33.441996Z",
          "iopub.status.busy": "2021-12-13T08:27:33.441702Z",
          "iopub.status.idle": "2021-12-13T08:27:33.448369Z",
          "shell.execute_reply": "2021-12-13T08:27:33.44729Z",
          "shell.execute_reply.started": "2021-12-13T08:27:33.441956Z"
        },
        "id": "wJIKlcwkrP4d",
        "outputId": "671390ab-a554-42ff-8f16-e462f0b5a947",
        "trusted": true
      },
      "outputs": [
        {
          "data": {
            "text/plain": [
              "'krishna'"
            ]
          },
          "execution_count": 28,
          "metadata": {},
          "output_type": "execute_result"
        }
      ],
      "source": [
        "# extract single element using Index (first element)\n",
        "names_list[0]"
      ]
    },
    {
      "cell_type": "code",
      "execution_count": 29,
      "metadata": {
        "colab": {
          "base_uri": "https://localhost:8080/"
        },
        "execution": {
          "iopub.execute_input": "2021-12-13T08:27:55.214857Z",
          "iopub.status.busy": "2021-12-13T08:27:55.214558Z",
          "iopub.status.idle": "2021-12-13T08:27:55.22238Z",
          "shell.execute_reply": "2021-12-13T08:27:55.221262Z",
          "shell.execute_reply.started": "2021-12-13T08:27:55.214827Z"
        },
        "id": "w-9l5PkXrP4d",
        "outputId": "093767e8-8e37-4454-81fd-19a192eb261d",
        "trusted": true
      },
      "outputs": [
        {
          "data": {
            "text/plain": [
              "['krishna', 'mahadev', 'surya']"
            ]
          },
          "execution_count": 29,
          "metadata": {},
          "output_type": "execute_result"
        }
      ],
      "source": [
        "# extract sequence of elements using Index (first 3 elements)\n",
        "names_list[:3]\n",
        "  #=> [start index:end index] => exclude end index"
      ]
    },
    {
      "attachments": {},
      "cell_type": "markdown",
      "metadata": {
        "id": "COPpT8hQrP4d"
      },
      "source": [
        "## Membership Operators\n",
        "To check if particular element is present in list or not\n",
        "* Using `in` or `not in` to get answers of these type of queries "
      ]
    },
    {
      "cell_type": "code",
      "execution_count": 30,
      "metadata": {
        "colab": {
          "base_uri": "https://localhost:8080/"
        },
        "execution": {
          "iopub.execute_input": "2021-12-13T08:30:00.341103Z",
          "iopub.status.busy": "2021-12-13T08:30:00.340688Z",
          "iopub.status.idle": "2021-12-13T08:30:00.347279Z",
          "shell.execute_reply": "2021-12-13T08:30:00.346359Z",
          "shell.execute_reply.started": "2021-12-13T08:30:00.341069Z"
        },
        "id": "Y_8SDN1SrP4d",
        "outputId": "98b3f42c-bd35-4068-9030-f605da939fa5",
        "trusted": true
      },
      "outputs": [
        {
          "name": "stdout",
          "output_type": "stream",
          "text": [
            "['krishna', 'mahadev', 'surya', 108, 11, 21]\n"
          ]
        }
      ],
      "source": [
        "# see names_list data\n",
        "print(names_list)"
      ]
    },
    {
      "cell_type": "code",
      "execution_count": 31,
      "metadata": {
        "colab": {
          "base_uri": "https://localhost:8080/"
        },
        "execution": {
          "iopub.execute_input": "2021-12-13T08:30:23.983164Z",
          "iopub.status.busy": "2021-12-13T08:30:23.982521Z",
          "iopub.status.idle": "2021-12-13T08:30:23.988855Z",
          "shell.execute_reply": "2021-12-13T08:30:23.987976Z",
          "shell.execute_reply.started": "2021-12-13T08:30:23.983128Z"
        },
        "id": "zAhq9WqsrP4d",
        "outputId": "5ecbe90b-6da0-471a-9060-6712e8d85ea5",
        "trusted": true
      },
      "outputs": [
        {
          "name": "stdout",
          "output_type": "stream",
          "text": [
            "False\n"
          ]
        }
      ],
      "source": [
        "# see if 'mukesh' is in  names_list\n",
        "print('mukesh' in names_list)"
      ]
    },
    {
      "cell_type": "code",
      "execution_count": 32,
      "metadata": {
        "colab": {
          "base_uri": "https://localhost:8080/"
        },
        "execution": {
          "iopub.execute_input": "2021-12-13T08:30:33.933979Z",
          "iopub.status.busy": "2021-12-13T08:30:33.933573Z",
          "iopub.status.idle": "2021-12-13T08:30:33.93938Z",
          "shell.execute_reply": "2021-12-13T08:30:33.938604Z",
          "shell.execute_reply.started": "2021-12-13T08:30:33.933949Z"
        },
        "id": "0LjgT08NrP4d",
        "outputId": "365b85e0-06dd-4956-e2e6-ce0b69a56b99",
        "trusted": true
      },
      "outputs": [
        {
          "name": "stdout",
          "output_type": "stream",
          "text": [
            "True\n"
          ]
        }
      ],
      "source": [
        "# see if 'rawan' is notin names_list\n",
        "print('rawan' not in names_list)"
      ]
    },
    {
      "attachments": {},
      "cell_type": "markdown",
      "metadata": {
        "id": "_jF5-7_PrP4e"
      },
      "source": [
        "## Adding to List\n",
        "* Adding a single element: `append()` => add at the end of the list\n",
        "* Adding multiple elements (adding list in list): `extend()`"
      ]
    },
    {
      "attachments": {},
      "cell_type": "markdown",
      "metadata": {
        "id": "Onk48j8xrP4e"
      },
      "source": [
        "# Use of .append()"
      ]
    },
    {
      "cell_type": "code",
      "execution_count": 33,
      "metadata": {
        "colab": {
          "base_uri": "https://localhost:8080/"
        },
        "execution": {
          "iopub.execute_input": "2021-12-13T08:31:08.016806Z",
          "iopub.status.busy": "2021-12-13T08:31:08.016526Z",
          "iopub.status.idle": "2021-12-13T08:31:08.023252Z",
          "shell.execute_reply": "2021-12-13T08:31:08.022472Z",
          "shell.execute_reply.started": "2021-12-13T08:31:08.016776Z"
        },
        "id": "ZEo63rVKrP4e",
        "outputId": "f022080d-c809-4910-e801-c9944cfc2814",
        "trusted": true
      },
      "outputs": [
        {
          "name": "stdout",
          "output_type": "stream",
          "text": [
            "['krishna', 'mahadev', 'surya', 108, 11, 21]\n"
          ]
        }
      ],
      "source": [
        "#see again names_list elements\n",
        "print(names_list)"
      ]
    },
    {
      "cell_type": "code",
      "execution_count": 34,
      "metadata": {
        "colab": {
          "base_uri": "https://localhost:8080/"
        },
        "execution": {
          "iopub.execute_input": "2021-12-13T08:31:48.35115Z",
          "iopub.status.busy": "2021-12-13T08:31:48.35089Z",
          "iopub.status.idle": "2021-12-13T08:31:48.35939Z",
          "shell.execute_reply": "2021-12-13T08:31:48.358505Z",
          "shell.execute_reply.started": "2021-12-13T08:31:48.351123Z"
        },
        "id": "JWztwD_PrP4e",
        "outputId": "ba1d0ec2-a270-4efc-dc94-602f8a71e1ac",
        "trusted": true
      },
      "outputs": [
        {
          "name": "stdout",
          "output_type": "stream",
          "text": [
            "['krishna', 'mahadev', 'surya', 108, 11, 21]\n",
            "['krishna', 'mahadev', 'surya', 108, 11, 21, 'bhagawan']\n",
            "['krishna', 'mahadev', 'surya', 108, 11, 21, 'bhagawan', [3, 'ok']]\n"
          ]
        }
      ],
      "source": [
        "# #see again names_list list elements\n",
        "print(names_list)\n",
        "\n",
        "#appending 'bhagwan' to list names_list\n",
        "#using append()\n",
        "names_list.append('bhagawan')\n",
        "\n",
        "\n",
        "# print list after appending\n",
        "print(names_list)\n",
        "\n",
        "# append 3,'ok' values as a list of list\n",
        " #<= it will append a list inside a list\n",
        "names_list.append([3,'ok'])\n",
        "# print names_list\n",
        "print(names_list)"
      ]
    },
    {
      "attachments": {},
      "cell_type": "markdown",
      "metadata": {
        "id": "L6_5O9xcrP4e"
      },
      "source": [
        "# Use of .extend()"
      ]
    },
    {
      "cell_type": "code",
      "execution_count": 35,
      "metadata": {
        "colab": {
          "base_uri": "https://localhost:8080/"
        },
        "execution": {
          "iopub.execute_input": "2021-12-13T08:32:56.378121Z",
          "iopub.status.busy": "2021-12-13T08:32:56.377806Z",
          "iopub.status.idle": "2021-12-13T08:32:56.384032Z",
          "shell.execute_reply": "2021-12-13T08:32:56.38291Z",
          "shell.execute_reply.started": "2021-12-13T08:32:56.378087Z"
        },
        "id": "chB2CoWqrP4e",
        "outputId": "dbcb4f45-5fdc-492d-b3e5-34d5c1409300",
        "trusted": true
      },
      "outputs": [
        {
          "name": "stdout",
          "output_type": "stream",
          "text": [
            "['krishna', 'mahadev', 'surya', 108, 11, 21, 'bhagawan', [3, 'ok'], 6, 'one more']\n"
          ]
        }
      ],
      "source": [
        "\n",
        "# extend names_list with values 6,'one more'\n",
        "names_list.extend([6,'one more'])\n",
        "# print list after .extend()\n",
        "print(names_list)"
      ]
    },
    {
      "attachments": {},
      "cell_type": "markdown",
      "metadata": {
        "id": "fI6TbJ9IrP4e"
      },
      "source": [
        "## Deleting from list\n",
        "* `.remove()` => delete element by its value\n",
        "* `del` => delete element by index : indexing start from 0"
      ]
    },
    {
      "attachments": {},
      "cell_type": "markdown",
      "metadata": {
        "id": "iwcbBZfrrP4e"
      },
      "source": [
        "# Use of .remove()"
      ]
    },
    {
      "cell_type": "code",
      "execution_count": 36,
      "metadata": {
        "colab": {
          "base_uri": "https://localhost:8080/"
        },
        "execution": {
          "iopub.execute_input": "2021-12-13T08:35:24.870142Z",
          "iopub.status.busy": "2021-12-13T08:35:24.869868Z",
          "iopub.status.idle": "2021-12-13T08:35:24.876688Z",
          "shell.execute_reply": "2021-12-13T08:35:24.875739Z",
          "shell.execute_reply.started": "2021-12-13T08:35:24.870115Z"
        },
        "id": "xYy-KNKxrP4e",
        "outputId": "d8ca16db-82f0-4e75-8b28-a0df2a817409",
        "trusted": true
      },
      "outputs": [
        {
          "name": "stdout",
          "output_type": "stream",
          "text": [
            "['krishna', 'mahadev', 'surya', 108, 11, 21, 'bhagawan', [3, 'ok'], 6, 'one more']\n"
          ]
        }
      ],
      "source": [
        "# see names_list\n",
        "print(names_list)"
      ]
    },
    {
      "cell_type": "code",
      "execution_count": 38,
      "metadata": {
        "colab": {
          "base_uri": "https://localhost:8080/"
        },
        "execution": {
          "iopub.execute_input": "2021-12-13T08:35:35.977782Z",
          "iopub.status.busy": "2021-12-13T08:35:35.976582Z",
          "iopub.status.idle": "2021-12-13T08:35:35.982445Z",
          "shell.execute_reply": "2021-12-13T08:35:35.981775Z",
          "shell.execute_reply.started": "2021-12-13T08:35:35.977713Z"
        },
        "id": "8UfKI7MYrP4e",
        "outputId": "bb230368-2dad-415a-fbbc-6751f7ccf5d7",
        "trusted": true
      },
      "outputs": [
        {
          "name": "stdout",
          "output_type": "stream",
          "text": [
            "['krishna', 'mahadev', 'surya', 108, 11, 21, 'bhagawan', [3, 'ok'], 6]\n"
          ]
        }
      ],
      "source": [
        "# remove one more from names_list\n",
        "names_list.remove('one more')\n",
        "# print names_list\n",
        "print(names_list)"
      ]
    },
    {
      "attachments": {},
      "cell_type": "markdown",
      "metadata": {
        "id": "P7mXoDiprP4f"
      },
      "source": [
        "# Use of del"
      ]
    },
    {
      "cell_type": "code",
      "execution_count": 39,
      "metadata": {
        "colab": {
          "base_uri": "https://localhost:8080/"
        },
        "execution": {
          "iopub.execute_input": "2021-12-13T08:35:52.107924Z",
          "iopub.status.busy": "2021-12-13T08:35:52.10741Z",
          "iopub.status.idle": "2021-12-13T08:35:52.114855Z",
          "shell.execute_reply": "2021-12-13T08:35:52.11401Z",
          "shell.execute_reply.started": "2021-12-13T08:35:52.107873Z"
        },
        "id": "AvQDPc_hrP4f",
        "outputId": "c9892133-d330-4123-90a8-8862bddd3976",
        "trusted": true
      },
      "outputs": [
        {
          "name": "stdout",
          "output_type": "stream",
          "text": [
            "['krishna', 'mahadev', 'surya', 108, 11, 21, 'bhagawan', [3, 'ok'], 6]\n"
          ]
        }
      ],
      "source": [
        "# see names_list\n",
        "print(names_list)"
      ]
    },
    {
      "cell_type": "code",
      "execution_count": 45,
      "metadata": {
        "colab": {
          "base_uri": "https://localhost:8080/"
        },
        "execution": {
          "iopub.execute_input": "2021-12-13T08:35:57.308409Z",
          "iopub.status.busy": "2021-12-13T08:35:57.307742Z",
          "iopub.status.idle": "2021-12-13T08:35:57.312802Z",
          "shell.execute_reply": "2021-12-13T08:35:57.311834Z",
          "shell.execute_reply.started": "2021-12-13T08:35:57.308377Z"
        },
        "id": "oOyXUP0HrP4f",
        "outputId": "578b5043-895d-4b54-8ea3-86d0cc245df7",
        "trusted": true
      },
      "outputs": [
        {
          "name": "stdout",
          "output_type": "stream",
          "text": [
            "['krishna', 'mahadev', 'surya', 108, 11, 21, 'bhagawan', 6]\n"
          ]
        }
      ],
      "source": [
        "# del 7 from names_list\n",
        "del names_list[7]\n",
        "# print names_list\n",
        "print(names_list)"
      ]
    },
    {
      "attachments": {},
      "cell_type": "markdown",
      "metadata": {
        "id": "EPu0UxWCrP4f"
      },
      "source": [
        "## Iterate through list"
      ]
    },
    {
      "cell_type": "code",
      "execution_count": 46,
      "metadata": {
        "colab": {
          "base_uri": "https://localhost:8080/"
        },
        "execution": {
          "iopub.execute_input": "2021-12-13T08:37:14.63231Z",
          "iopub.status.busy": "2021-12-13T08:37:14.631538Z",
          "iopub.status.idle": "2021-12-13T08:37:14.638126Z",
          "shell.execute_reply": "2021-12-13T08:37:14.637474Z",
          "shell.execute_reply.started": "2021-12-13T08:37:14.632274Z"
        },
        "id": "R8Xgr9-BrP4f",
        "outputId": "88a452c1-5a7f-4f7e-977c-340c0758c79d",
        "trusted": true
      },
      "outputs": [
        {
          "name": "stdout",
          "output_type": "stream",
          "text": [
            "krishna\n",
            "mahadev\n",
            "surya\n",
            "108\n",
            "11\n",
            "21\n",
            "bhagawan\n",
            "6\n"
          ]
        }
      ],
      "source": [
        "# interate through list elements \n",
        "for i in names_list:\n",
        "    print(i)\n",
        "  # print element"
      ]
    },
    {
      "attachments": {},
      "cell_type": "markdown",
      "metadata": {
        "id": "q7tmRtqYrP4f"
      },
      "source": [
        "## Some pre-defined method on List\n"
      ]
    },
    {
      "cell_type": "code",
      "execution_count": 47,
      "metadata": {
        "colab": {
          "base_uri": "https://localhost:8080/"
        },
        "execution": {
          "iopub.execute_input": "2021-12-13T08:37:49.527524Z",
          "iopub.status.busy": "2021-12-13T08:37:49.527228Z",
          "iopub.status.idle": "2021-12-13T08:37:49.533884Z",
          "shell.execute_reply": "2021-12-13T08:37:49.532894Z",
          "shell.execute_reply.started": "2021-12-13T08:37:49.527488Z"
        },
        "id": "7xHmcCStrP4f",
        "outputId": "4c1c71ad-56c7-4b97-f8db-7f5ac3cccbbc",
        "trusted": true
      },
      "outputs": [
        {
          "name": "stdout",
          "output_type": "stream",
          "text": [
            "['krishna', 'mahadev', 'surya', 108, 11, 21, 'bhagawan', 6]\n"
          ]
        }
      ],
      "source": [
        "# see names_list\n",
        "print(names_list)"
      ]
    },
    {
      "cell_type": "code",
      "execution_count": 48,
      "metadata": {
        "colab": {
          "base_uri": "https://localhost:8080/"
        },
        "execution": {
          "iopub.execute_input": "2021-12-13T08:37:37.260228Z",
          "iopub.status.busy": "2021-12-13T08:37:37.259131Z",
          "iopub.status.idle": "2021-12-13T08:37:37.265686Z",
          "shell.execute_reply": "2021-12-13T08:37:37.2651Z",
          "shell.execute_reply.started": "2021-12-13T08:37:37.260147Z"
        },
        "id": "hfmxSI0yrP4f",
        "outputId": "87beb8b3-ea6e-4151-ce23-6ae62e20d308",
        "trusted": true
      },
      "outputs": [
        {
          "data": {
            "text/plain": [
              "8"
            ]
          },
          "execution_count": 48,
          "metadata": {},
          "output_type": "execute_result"
        }
      ],
      "source": [
        "# find length of list nam\n",
        "len(names_list)"
      ]
    },
    {
      "cell_type": "code",
      "execution_count": 49,
      "metadata": {
        "colab": {
          "base_uri": "https://localhost:8080/"
        },
        "execution": {
          "iopub.execute_input": "2021-12-13T08:38:29.087211Z",
          "iopub.status.busy": "2021-12-13T08:38:29.086638Z",
          "iopub.status.idle": "2021-12-13T08:38:29.093655Z",
          "shell.execute_reply": "2021-12-13T08:38:29.092331Z",
          "shell.execute_reply.started": "2021-12-13T08:38:29.087163Z"
        },
        "id": "6u--oITYrP4f",
        "outputId": "6907cbe0-0376-465f-ed1a-d435442b925c",
        "trusted": true
      },
      "outputs": [
        {
          "name": "stdout",
          "output_type": "stream",
          "text": [
            "[6, 'bhagawan', 21, 11, 108, 'surya', 'mahadev', 'krishna']\n"
          ]
        }
      ],
      "source": [
        "# reverse a list names_list\n",
        "names_list.reverse()\n",
        "# see names_list()\n",
        "print(names_list)"
      ]
    },
    {
      "cell_type": "code",
      "execution_count": 51,
      "metadata": {
        "colab": {
          "base_uri": "https://localhost:8080/",
          "height": 201
        },
        "execution": {
          "iopub.execute_input": "2021-12-13T08:38:36.562239Z",
          "iopub.status.busy": "2021-12-13T08:38:36.561875Z",
          "iopub.status.idle": "2021-12-13T08:38:36.578288Z",
          "shell.execute_reply": "2021-12-13T08:38:36.577247Z",
          "shell.execute_reply.started": "2021-12-13T08:38:36.562208Z"
        },
        "id": "JnGHTVmBrP4f",
        "outputId": "1d305b31-497e-492f-d79b-c483d15aa0a6",
        "trusted": true
      },
      "outputs": [],
      "source": [
        "# sort a list see condition when it is not possible\n",
        "names_list.sort()\n",
        "names_list"
      ]
    },
    {
      "cell_type": "code",
      "execution_count": 52,
      "metadata": {
        "execution": {
          "iopub.execute_input": "2021-12-13T08:39:03.298835Z",
          "iopub.status.busy": "2021-12-13T08:39:03.298535Z",
          "iopub.status.idle": "2021-12-13T08:39:03.305099Z",
          "shell.execute_reply": "2021-12-13T08:39:03.304468Z",
          "shell.execute_reply.started": "2021-12-13T08:39:03.298805Z"
        },
        "id": "pkHLORxmrP4g",
        "trusted": true
      },
      "outputs": [
        {
          "data": {
            "text/plain": [
              "[11, 21, 51, 101]"
            ]
          },
          "execution_count": 52,
          "metadata": {},
          "output_type": "execute_result"
        }
      ],
      "source": [
        "# make a list named as numbers_list with values as [51,101,11,21]\n",
        "numbers_list=[51,101,11,21]\n",
        "# sort list numbers_list\n",
        "numbers_list.sort()\n",
        "# see numbers_list output\n",
        "numbers_list"
      ]
    },
    {
      "cell_type": "code",
      "execution_count": 58,
      "metadata": {
        "colab": {
          "base_uri": "https://localhost:8080/"
        },
        "execution": {
          "iopub.execute_input": "2021-12-13T08:39:19.768779Z",
          "iopub.status.busy": "2021-12-13T08:39:19.768469Z",
          "iopub.status.idle": "2021-12-13T08:39:19.774375Z",
          "shell.execute_reply": "2021-12-13T08:39:19.773639Z",
          "shell.execute_reply.started": "2021-12-13T08:39:19.768743Z"
        },
        "id": "SrfzuBccrP4g",
        "outputId": "5ed807b6-35a5-44af-a0d3-1d3ca01baccc",
        "trusted": true
      },
      "outputs": [
        {
          "data": {
            "text/plain": [
              "[11, 21, 51, 101]"
            ]
          },
          "execution_count": 58,
          "metadata": {},
          "output_type": "execute_result"
        }
      ],
      "source": [
        "# another way of sorting list\n",
        "sample_list=sorted(numbers_list)\n",
        "# use sorted to short list named as sample_list with values as [51,101,11,21]\n",
        "sample_list"
      ]
    },
    {
      "attachments": {},
      "cell_type": "markdown",
      "metadata": {
        "id": "o8uqyHe6rP4g"
      },
      "source": [
        "# Nested List"
      ]
    },
    {
      "cell_type": "code",
      "execution_count": 53,
      "metadata": {
        "colab": {
          "base_uri": "https://localhost:8080/"
        },
        "execution": {
          "iopub.execute_input": "2021-12-13T08:40:26.429416Z",
          "iopub.status.busy": "2021-12-13T08:40:26.42915Z",
          "iopub.status.idle": "2021-12-13T08:40:26.435432Z",
          "shell.execute_reply": "2021-12-13T08:40:26.434598Z",
          "shell.execute_reply.started": "2021-12-13T08:40:26.429387Z"
        },
        "id": "1XQjdGSCrP4g",
        "outputId": "9c8f0d8d-f683-4d33-afe9-cb3810422d9a",
        "trusted": true
      },
      "outputs": [
        {
          "data": {
            "text/plain": [
              "[111,\n",
              " 201,\n",
              " [11, 21, 121],\n",
              " ['Aman', 'Bobo', 'Canada'],\n",
              " 'Wangu',\n",
              " ['Aanaya', 'Annu', 'Amanda']]"
            ]
          },
          "execution_count": 53,
          "metadata": {},
          "output_type": "execute_result"
        }
      ],
      "source": [
        "# defining a sample nested list named as list_of_list and values  [111, 201, [11, 21, 121], ['Aman', 'Bobo', 'Canada'], 'Wangu', ['Aanaya', 'Annu', 'Amanda']]\n",
        "list_of_list=[111, 201, [11, 21, 121], ['Aman', 'Bobo', 'Canada'], 'Wangu', ['Aanaya', 'Annu', 'Amanda']]\n",
        "# print list_of_list\n",
        "list_of_list"
      ]
    },
    {
      "cell_type": "code",
      "execution_count": 54,
      "metadata": {
        "colab": {
          "base_uri": "https://localhost:8080/"
        },
        "execution": {
          "iopub.execute_input": "2021-12-13T08:40:32.646942Z",
          "iopub.status.busy": "2021-12-13T08:40:32.646388Z",
          "iopub.status.idle": "2021-12-13T08:40:32.653548Z",
          "shell.execute_reply": "2021-12-13T08:40:32.652533Z",
          "shell.execute_reply.started": "2021-12-13T08:40:32.646904Z"
        },
        "id": "__2KBqwOrP4g",
        "outputId": "48903313-d0c8-4fc7-9d8e-a1f05d292dd5",
        "trusted": true
      },
      "outputs": [
        {
          "data": {
            "text/plain": [
              "6"
            ]
          },
          "execution_count": 54,
          "metadata": {},
          "output_type": "execute_result"
        }
      ],
      "source": [
        "# find length of nested list\n",
        "len(list_of_list)"
      ]
    },
    {
      "cell_type": "code",
      "execution_count": 55,
      "metadata": {
        "colab": {
          "base_uri": "https://localhost:8080/"
        },
        "execution": {
          "iopub.execute_input": "2021-12-13T08:41:15.630511Z",
          "iopub.status.busy": "2021-12-13T08:41:15.630168Z",
          "iopub.status.idle": "2021-12-13T08:41:15.637418Z",
          "shell.execute_reply": "2021-12-13T08:41:15.636383Z",
          "shell.execute_reply.started": "2021-12-13T08:41:15.630477Z"
        },
        "id": "yLnuvuLerP4g",
        "outputId": "c7916001-df77-468d-910e-d87fbc941650",
        "trusted": true
      },
      "outputs": [
        {
          "data": {
            "text/plain": [
              "['Aman', 'Bobo', 'Canada']"
            ]
          },
          "execution_count": 55,
          "metadata": {},
          "output_type": "execute_result"
        }
      ],
      "source": [
        "# aces third element of list_of_list\n",
        "list_of_list[3]"
      ]
    },
    {
      "cell_type": "code",
      "execution_count": 57,
      "metadata": {
        "colab": {
          "base_uri": "https://localhost:8080/"
        },
        "execution": {
          "iopub.execute_input": "2021-12-13T08:41:43.777576Z",
          "iopub.status.busy": "2021-12-13T08:41:43.777085Z",
          "iopub.status.idle": "2021-12-13T08:41:43.784972Z",
          "shell.execute_reply": "2021-12-13T08:41:43.78417Z",
          "shell.execute_reply.started": "2021-12-13T08:41:43.777528Z"
        },
        "id": "hind6UyKrP4g",
        "outputId": "164f81fd-a101-4651-8e2f-ef3e4b8e91c6",
        "trusted": true
      },
      "outputs": [
        {
          "data": {
            "text/plain": [
              "'Bobo'"
            ]
          },
          "execution_count": 57,
          "metadata": {},
          "output_type": "execute_result"
        }
      ],
      "source": [
        "# accessing 2nd element of the third element of the primary list named  as list_of_list\n",
        "list_of_list[3][1]"
      ]
    },
    {
      "attachments": {},
      "cell_type": "markdown",
      "metadata": {
        "id": "YxKiQW5frP4g"
      },
      "source": [
        "<a id='12'></a><center> <h3 style=\"background-color:orange; color:white\" ><br>Assignment Python Data Structures List<br></h3>"
      ]
    },
    {
      "attachments": {},
      "cell_type": "markdown",
      "metadata": {
        "id": "E8-7E8mTrP4h"
      },
      "source": [
        "# 💬 **List Problem Statement:**\n",
        "\n",
        "Say CloudyML conducted an assessment test to hire a Data Scientist <br>\n",
        "Candidates were evaluated on 5 different subject `Statistics`, `Python`, `SQL`, `ML`, and `DeepLearning` <br> \n",
        "`Help CloudyML team to find out answers of following questions` <br>\n",
        "\n",
        "💡 `Find out Who scored highest marks in Python?`\n",
        "* Step1: Select name of student and marks in Python\n",
        "* Step2: Store filtered name and marks in another list\n",
        "* Step3: Sort list. (Kept marks as first index)\n",
        "* Step4: Get final index of sorted list"
      ]
    },
    {
      "cell_type": "code",
      "execution_count": 60,
      "metadata": {
        "execution": {
          "iopub.execute_input": "2021-12-11T05:18:24.8457Z",
          "iopub.status.busy": "2021-12-11T05:18:24.845176Z",
          "iopub.status.idle": "2021-12-11T05:18:24.852835Z",
          "shell.execute_reply": "2021-12-11T05:18:24.852031Z",
          "shell.execute_reply.started": "2021-12-11T05:18:24.845665Z"
        },
        "id": "vwDSOqA7rP4h",
        "trusted": true
      },
      "outputs": [],
      "source": [
        "#### Marks of 5 different subjects out of 100 are as ####\n",
        "\n",
        "# make student marks nested list\n",
        "student_marks = [['Name', ['Statistics', 'Python', 'SQL', 'ML', 'DeepLearning']],\n",
        " ['Ananya', [41, 34, 45, 55, 63]],\n",
        " ['Akash', [42, 23, 34, 44, 53]],\n",
        " ['Rahul', [32, 23, 13, 54, 67]],\n",
        " ['Mukesh', [23, 82, 23, 63, 34]],\n",
        " ['Pranav', [21, 23, 25, 56, 56]]]\n"
      ]
    },
    {
      "cell_type": "code",
      "execution_count": 61,
      "metadata": {
        "colab": {
          "base_uri": "https://localhost:8080/"
        },
        "execution": {
          "iopub.execute_input": "2021-12-11T05:18:25.304684Z",
          "iopub.status.busy": "2021-12-11T05:18:25.303946Z",
          "iopub.status.idle": "2021-12-11T05:18:25.313298Z",
          "shell.execute_reply": "2021-12-11T05:18:25.312419Z",
          "shell.execute_reply.started": "2021-12-11T05:18:25.304637Z"
        },
        "id": "Q7ZkPsYtrP4h",
        "outputId": "ca0f15ff-82f2-48da-9191-a0c8885bdb60",
        "trusted": true
      },
      "outputs": [
        {
          "name": "stdout",
          "output_type": "stream",
          "text": [
            "[['Name', ['Statistics', 'Python', 'SQL', 'ML', 'DeepLearning']], ['Ananya', [41, 34, 45, 55, 63]], ['Akash', [42, 23, 34, 44, 53]], ['Rahul', [32, 23, 13, 54, 67]], ['Mukesh', [23, 82, 23, 63, 34]], ['Pranav', [21, 23, 25, 56, 56]]]\n"
          ]
        }
      ],
      "source": [
        "# print student_marks\n",
        "print(student_marks)"
      ]
    },
    {
      "cell_type": "code",
      "execution_count": 62,
      "metadata": {
        "colab": {
          "base_uri": "https://localhost:8080/"
        },
        "execution": {
          "iopub.execute_input": "2021-12-11T05:18:25.944893Z",
          "iopub.status.busy": "2021-12-11T05:18:25.944133Z",
          "iopub.status.idle": "2021-12-11T05:18:25.950026Z",
          "shell.execute_reply": "2021-12-11T05:18:25.949155Z",
          "shell.execute_reply.started": "2021-12-11T05:18:25.944856Z"
        },
        "id": "VT7znIVKrP4h",
        "outputId": "210f49d9-2c5f-4fbe-f37a-e35edf2fcf7b",
        "trusted": true
      },
      "outputs": [
        {
          "name": "stdout",
          "output_type": "stream",
          "text": [
            "['Name', ['Statistics', 'Python', 'SQL', 'ML', 'DeepLearning']]\n"
          ]
        }
      ],
      "source": [
        "# access first index of list student_marks\n",
        "print(student_marks[0])"
      ]
    },
    {
      "attachments": {},
      "cell_type": "markdown",
      "metadata": {
        "id": "3u3-dfkVrP4h"
      },
      "source": [
        "* Slice list from second element"
      ]
    },
    {
      "cell_type": "code",
      "execution_count": 64,
      "metadata": {
        "colab": {
          "base_uri": "https://localhost:8080/"
        },
        "execution": {
          "iopub.execute_input": "2021-12-11T05:18:28.949697Z",
          "iopub.status.busy": "2021-12-11T05:18:28.949117Z",
          "iopub.status.idle": "2021-12-11T05:18:28.95532Z",
          "shell.execute_reply": "2021-12-11T05:18:28.95457Z",
          "shell.execute_reply.started": "2021-12-11T05:18:28.94966Z"
        },
        "id": "LPRZOoR6rP4h",
        "outputId": "448d015c-dda2-4156-d481-b03b2cd03270",
        "trusted": true
      },
      "outputs": [
        {
          "name": "stdout",
          "output_type": "stream",
          "text": [
            "['Ananya', [41, 34, 45, 55, 63]]\n"
          ]
        }
      ],
      "source": [
        "# access first index of list student_marks[1]\n",
        "print(student_marks[1])"
      ]
    },
    {
      "attachments": {},
      "cell_type": "markdown",
      "metadata": {
        "id": "PitdZQvErP4h"
      },
      "source": [
        "See, each element in list from Index-1 contains 2 elements\n",
        "* first is `Name` \n",
        "* second is `list of marks`"
      ]
    },
    {
      "cell_type": "code",
      "execution_count": 65,
      "metadata": {
        "colab": {
          "base_uri": "https://localhost:8080/",
          "height": 38
        },
        "execution": {
          "iopub.execute_input": "2021-12-11T05:18:54.137742Z",
          "iopub.status.busy": "2021-12-11T05:18:54.137328Z",
          "iopub.status.idle": "2021-12-11T05:18:54.142584Z",
          "shell.execute_reply": "2021-12-11T05:18:54.142014Z",
          "shell.execute_reply.started": "2021-12-11T05:18:54.137713Z"
        },
        "id": "NoA0T3VRrP4h",
        "outputId": "8c0b8c94-7347-402a-8517-38c6d929bfa7",
        "trusted": true
      },
      "outputs": [
        {
          "name": "stdout",
          "output_type": "stream",
          "text": [
            "Ananya\n"
          ]
        }
      ],
      "source": [
        "# acess first student name\n",
        "print(student_marks[1][0])"
      ]
    },
    {
      "cell_type": "code",
      "execution_count": 66,
      "metadata": {
        "colab": {
          "base_uri": "https://localhost:8080/"
        },
        "execution": {
          "iopub.execute_input": "2021-12-11T05:19:31.890553Z",
          "iopub.status.busy": "2021-12-11T05:19:31.890129Z",
          "iopub.status.idle": "2021-12-11T05:19:31.895735Z",
          "shell.execute_reply": "2021-12-11T05:19:31.894943Z",
          "shell.execute_reply.started": "2021-12-11T05:19:31.890522Z"
        },
        "id": "WII68GgKrP4h",
        "outputId": "c0a15850-bead-4a5c-9f58-5ce75a7bf6e6",
        "trusted": true
      },
      "outputs": [
        {
          "name": "stdout",
          "output_type": "stream",
          "text": [
            "[41, 34, 45, 55, 63]\n"
          ]
        }
      ],
      "source": [
        "# acess ananya marks\n",
        "print(student_marks[1][1])"
      ]
    },
    {
      "attachments": {},
      "cell_type": "markdown",
      "metadata": {
        "id": "vDPny7O1rP4h"
      },
      "source": [
        "Now, student marks are in order **`Statistics`**, **`Python`**, **`SQL`**, **`ML`** and **`DeepLearning`**. and we need to access value at Index-1 to get marks in subject => **`Python`** "
      ]
    },
    {
      "cell_type": "code",
      "execution_count": 67,
      "metadata": {
        "colab": {
          "base_uri": "https://localhost:8080/"
        },
        "execution": {
          "iopub.execute_input": "2021-12-11T05:21:26.548879Z",
          "iopub.status.busy": "2021-12-11T05:21:26.548134Z",
          "iopub.status.idle": "2021-12-11T05:21:26.554956Z",
          "shell.execute_reply": "2021-12-11T05:21:26.553864Z",
          "shell.execute_reply.started": "2021-12-11T05:21:26.548833Z"
        },
        "id": "5H7QGuDxrP4i",
        "outputId": "b88beecf-b586-4b51-9960-eb31c8792807",
        "trusted": true
      },
      "outputs": [
        {
          "data": {
            "text/plain": [
              "34"
            ]
          },
          "execution_count": 67,
          "metadata": {},
          "output_type": "execute_result"
        }
      ],
      "source": [
        "# observe the output commend why this is the way it is\n",
        "student_marks[1][1][1]"
      ]
    },
    {
      "attachments": {},
      "cell_type": "markdown",
      "metadata": {
        "id": "7rsQ1IkmrP4i"
      },
      "source": [
        "See above `Ananya` Python marks"
      ]
    },
    {
      "attachments": {},
      "cell_type": "markdown",
      "metadata": {
        "id": "TTBeJoDarP4i"
      },
      "source": [
        "***Now Solving Problem step after step***\n",
        "* `Who scored highest marks in subject Python? `  \n",
        "\n",
        "\n",
        "***Step1: Select name of student and marks in subject Python***"
      ]
    },
    {
      "cell_type": "code",
      "execution_count": 76,
      "metadata": {
        "colab": {
          "base_uri": "https://localhost:8080/"
        },
        "execution": {
          "iopub.execute_input": "2021-12-11T05:25:24.612102Z",
          "iopub.status.busy": "2021-12-11T05:25:24.611262Z",
          "iopub.status.idle": "2021-12-11T05:25:24.620706Z",
          "shell.execute_reply": "2021-12-11T05:25:24.619653Z",
          "shell.execute_reply.started": "2021-12-11T05:25:24.612019Z"
        },
        "id": "gs5ozIK6rP4i",
        "outputId": "edb1b321-8e88-4f3e-dd6a-34de84153d35",
        "trusted": true
      },
      "outputs": [
        {
          "name": "stdout",
          "output_type": "stream",
          "text": [
            "Ananya 34\n",
            "Akash 23\n",
            "Rahul 23\n",
            "Mukesh 82\n",
            "Pranav 23\n"
          ]
        }
      ],
      "source": [
        "for student in student_marks[1:]:\n",
        "\n",
        "    name=student[0]\n",
        "    marks=student[1][1]\n",
        "    print(name,marks)"
      ]
    },
    {
      "attachments": {},
      "cell_type": "markdown",
      "metadata": {
        "id": "bVk9RoafrP4i"
      },
      "source": [
        "***Step2: Store filtered Name and Marks in another list***"
      ]
    },
    {
      "cell_type": "code",
      "execution_count": 79,
      "metadata": {
        "colab": {
          "base_uri": "https://localhost:8080/"
        },
        "execution": {
          "iopub.execute_input": "2021-12-11T05:27:02.350541Z",
          "iopub.status.busy": "2021-12-11T05:27:02.35026Z",
          "iopub.status.idle": "2021-12-11T05:27:02.357152Z",
          "shell.execute_reply": "2021-12-11T05:27:02.356437Z",
          "shell.execute_reply.started": "2021-12-11T05:27:02.350512Z"
        },
        "id": "syCySARFrP4i",
        "outputId": "a2bb411d-0ef6-4fc8-b220-bcbc5a0ae3b3",
        "trusted": true
      },
      "outputs": [
        {
          "name": "stdout",
          "output_type": "stream",
          "text": [
            "[[34, 'Ananya'], [23, 'Akash'], [23, 'Rahul'], [82, 'Mukesh'], [23, 'Pranav']]\n"
          ]
        }
      ],
      "source": [
        "list=[]\n",
        "for student in student_marks[1:]:\n",
        "\n",
        "    name=student[0]\n",
        "    marks=student[1][1]\n",
        "    list.append([marks,name])\n",
        "print(list)\n"
      ]
    },
    {
      "attachments": {},
      "cell_type": "markdown",
      "metadata": {
        "id": "EK2lofCarP4i"
      },
      "source": [
        "***Step3: Sort list (Keep marks as first index)***"
      ]
    },
    {
      "cell_type": "code",
      "execution_count": 80,
      "metadata": {
        "colab": {
          "base_uri": "https://localhost:8080/"
        },
        "execution": {
          "iopub.execute_input": "2021-12-11T05:27:57.054536Z",
          "iopub.status.busy": "2021-12-11T05:27:57.053964Z",
          "iopub.status.idle": "2021-12-11T05:27:57.059563Z",
          "shell.execute_reply": "2021-12-11T05:27:57.058936Z",
          "shell.execute_reply.started": "2021-12-11T05:27:57.054501Z"
        },
        "id": "76Ld6yVxrP4i",
        "outputId": "70626986-15f8-481f-f01b-880f581d067e",
        "trusted": true
      },
      "outputs": [
        {
          "name": "stdout",
          "output_type": "stream",
          "text": [
            "[[23, 'Akash'], [23, 'Pranav'], [23, 'Rahul'], [34, 'Ananya'], [82, 'Mukesh']]\n"
          ]
        }
      ],
      "source": [
        "list.sort()\n",
        "print(list)\n"
      ]
    },
    {
      "attachments": {},
      "cell_type": "markdown",
      "metadata": {
        "id": "W8QJHOwarP4i"
      },
      "source": [
        "***Step4: Get final index of sorted list with student name having max marks in Python subject***"
      ]
    },
    {
      "cell_type": "code",
      "execution_count": 81,
      "metadata": {
        "colab": {
          "base_uri": "https://localhost:8080/",
          "height": 38
        },
        "execution": {
          "iopub.execute_input": "2021-12-11T05:28:38.167787Z",
          "iopub.status.busy": "2021-12-11T05:28:38.167215Z",
          "iopub.status.idle": "2021-12-11T05:28:38.172981Z",
          "shell.execute_reply": "2021-12-11T05:28:38.172162Z",
          "shell.execute_reply.started": "2021-12-11T05:28:38.167744Z"
        },
        "id": "Zha0IrK5rP4i",
        "outputId": "8a1ebfff-061d-448f-be8e-1c0b1414174b",
        "trusted": true
      },
      "outputs": [
        {
          "name": "stdout",
          "output_type": "stream",
          "text": [
            "[82, 'Mukesh']\n"
          ]
        }
      ],
      "source": [
        "print(list[-1])"
      ]
    },
    {
      "attachments": {},
      "cell_type": "markdown",
      "metadata": {
        "id": "_zTy7qCPrP4i"
      },
      "source": [
        "Got answer of first question. Mukesh has scored highest marks in subject Python\n",
        "* You can also do it using loop do it if you want to"
      ]
    },
    {
      "attachments": {},
      "cell_type": "markdown",
      "metadata": {
        "id": "qOrSdhg0rP4j"
      },
      "source": [
        "-----"
      ]
    },
    {
      "attachments": {},
      "cell_type": "markdown",
      "metadata": {
        "id": "OemzDS2WrP4j"
      },
      "source": [
        "# **`Tuple`** <br>\n",
        "\n",
        "Benefit of using tuples:<br>\n",
        "* Faster then list\n",
        "* Provide security over updation => once created cannot be modefyied like list\n",
        "* Can be used as key for dictionarie\n",
        "* We generally use tuple for heterogeneous(different) datatypes and list for homogeneous (similar) datatypes\n",
        "* Since tuples are immutable, iterating through tuple is faster than with list. So there is a slight performance boost\n",
        "* Tuples that contain immutable elements can be used as a key for a dictionary. With lists, this is not possible\n",
        "* If you have data that doesn't change, implementing it as tuple will guarantee that it remains write-protected\n",
        "* We cannot edit/update or delete elements from the tuple"
      ]
    },
    {
      "attachments": {},
      "cell_type": "markdown",
      "metadata": {
        "id": "4unafjdndJTu"
      },
      "source": [
        "### **`Watch Video 22: Tuple `**"
      ]
    },
    {
      "cell_type": "code",
      "execution_count": 82,
      "metadata": {
        "colab": {
          "base_uri": "https://localhost:8080/"
        },
        "execution": {
          "iopub.execute_input": "2021-12-13T09:25:57.996935Z",
          "iopub.status.busy": "2021-12-13T09:25:57.996637Z",
          "iopub.status.idle": "2021-12-13T09:25:58.003016Z",
          "shell.execute_reply": "2021-12-13T09:25:58.002305Z",
          "shell.execute_reply.started": "2021-12-13T09:25:57.996901Z"
        },
        "id": "Xpd2kVRirP4j",
        "outputId": "6158cd3d-d3d1-4def-edc0-c939e418aeb6",
        "trusted": true
      },
      "outputs": [
        {
          "name": "stdout",
          "output_type": "stream",
          "text": [
            "('krishna', 'mahadev', 'surya', 108, 11, 21, 'bhagwan', 6)\n",
            "<class 'tuple'>\n"
          ]
        }
      ],
      "source": [
        "# make a variable names as data_tuple with values 'krishna', 'mahadev', 'surya', 108, 11, 21, 'bhagwan', 6\n",
        "data_tuple=('krishna', 'mahadev', 'surya', 108, 11, 21, 'bhagwan', 6)\n",
        "# print data_tuple\n",
        "print(data_tuple)\n",
        "# print type of data_tuple\n",
        "print(type(data_tuple))"
      ]
    },
    {
      "cell_type": "code",
      "execution_count": 84,
      "metadata": {
        "colab": {
          "base_uri": "https://localhost:8080/"
        },
        "execution": {
          "iopub.execute_input": "2021-12-13T09:27:06.135979Z",
          "iopub.status.busy": "2021-12-13T09:27:06.135652Z",
          "iopub.status.idle": "2021-12-13T09:27:06.141415Z",
          "shell.execute_reply": "2021-12-13T09:27:06.140855Z",
          "shell.execute_reply.started": "2021-12-13T09:27:06.13594Z"
        },
        "id": "qFKzjV8DrP4j",
        "outputId": "9def8315-b12a-4ecd-eef0-8e3ef6530725",
        "trusted": true
      },
      "outputs": [
        {
          "data": {
            "text/plain": [
              "(1, 2)"
            ]
          },
          "execution_count": 84,
          "metadata": {},
          "output_type": "execute_result"
        }
      ],
      "source": [
        "# make a variable named as data_tuple with values as 1,2,3,4,5\n",
        "data_tuple=(1,2,3,4,5)\n",
        "# Acess element at 2nd Index of data_tuple  #<= indexing work same as list as tuple is ordered data structure\n",
        "data_tuple[:2]"
      ]
    },
    {
      "cell_type": "code",
      "execution_count": 85,
      "metadata": {
        "colab": {
          "base_uri": "https://localhost:8080/"
        },
        "execution": {
          "iopub.execute_input": "2021-12-13T09:28:08.921542Z",
          "iopub.status.busy": "2021-12-13T09:28:08.921138Z",
          "iopub.status.idle": "2021-12-13T09:28:08.927847Z",
          "shell.execute_reply": "2021-12-13T09:28:08.926915Z",
          "shell.execute_reply.started": "2021-12-13T09:28:08.921511Z"
        },
        "id": "jdK6gHwprP4j",
        "outputId": "5ff5a454-32b0-4f82-9c27-7faab9babb5c",
        "trusted": true
      },
      "outputs": [
        {
          "data": {
            "text/plain": [
              "(8, 9)"
            ]
          },
          "execution_count": 85,
          "metadata": {},
          "output_type": "execute_result"
        }
      ],
      "source": [
        "# think what will be the output of this code then run it\n",
        "data_tuple = ( (1,2,3,4,5),\n",
        "             (4,5,3,4,5),\n",
        "             (3,7,8,9,6) )\n",
        "\n",
        "data_tuple[2][2:4]\n",
        "\n",
        "\n",
        "\n",
        "# Views on why the output is the way it is\n",
        "# in the array from first value 2 index row is selected an from 2 nd value and 8,9 is selected "
      ]
    },
    {
      "cell_type": "code",
      "execution_count": 88,
      "metadata": {
        "colab": {
          "base_uri": "https://localhost:8080/"
        },
        "execution": {
          "iopub.execute_input": "2021-12-13T09:30:54.043384Z",
          "iopub.status.busy": "2021-12-13T09:30:54.043064Z",
          "iopub.status.idle": "2021-12-13T09:30:54.049414Z",
          "shell.execute_reply": "2021-12-13T09:30:54.048781Z",
          "shell.execute_reply.started": "2021-12-13T09:30:54.043336Z"
        },
        "id": "AClKJufdrP4j",
        "outputId": "939adcfd-9c5b-47d8-a433-e2693071a52f",
        "trusted": true
      },
      "outputs": [
        {
          "data": {
            "text/plain": [
              "2"
            ]
          },
          "execution_count": 88,
          "metadata": {},
          "output_type": "execute_result"
        }
      ],
      "source": [
        "# find Index of any element, here index of 3 \n",
        "data_tuple = (1,2,3,4,5)\n",
        "   # <= 3 is at 2nd index as indexing start at one\n",
        "data_tuple.index(3)"
      ]
    },
    {
      "cell_type": "code",
      "execution_count": 91,
      "metadata": {
        "colab": {
          "base_uri": "https://localhost:8080/"
        },
        "execution": {
          "iopub.execute_input": "2021-12-13T09:31:11.760542Z",
          "iopub.status.busy": "2021-12-13T09:31:11.759923Z",
          "iopub.status.idle": "2021-12-13T09:31:11.767097Z",
          "shell.execute_reply": "2021-12-13T09:31:11.766314Z",
          "shell.execute_reply.started": "2021-12-13T09:31:11.760505Z"
        },
        "id": "xCtcvhjIrP4j",
        "outputId": "6ebfc2b1-2b73-4acf-9032-77c23ffa4b10",
        "trusted": true
      },
      "outputs": [
        {
          "name": "stdout",
          "output_type": "stream",
          "text": [
            "1\n",
            "3\n"
          ]
        }
      ],
      "source": [
        "# count of an element \n",
        "data_tuple = (1,2,3,4,5)\n",
        "# print how many time 4 have come \n",
        "print(data_tuple.count(4))\n",
        "\n",
        "data_tuple = (7,2,7,4,7)\n",
        "# print how many time 7 have come \n",
        "print(data_tuple.count(7))"
      ]
    },
    {
      "cell_type": "code",
      "execution_count": 93,
      "metadata": {
        "colab": {
          "base_uri": "https://localhost:8080/"
        },
        "execution": {
          "iopub.execute_input": "2021-12-13T09:32:03.156908Z",
          "iopub.status.busy": "2021-12-13T09:32:03.156111Z",
          "iopub.status.idle": "2021-12-13T09:32:03.162462Z",
          "shell.execute_reply": "2021-12-13T09:32:03.161615Z",
          "shell.execute_reply.started": "2021-12-13T09:32:03.156827Z"
        },
        "id": "4xAMDPSnrP4j",
        "outputId": "fcfb1003-c973-4a3d-e126-18fac7721483",
        "trusted": true
      },
      "outputs": [
        {
          "name": "stdout",
          "output_type": "stream",
          "text": [
            "7\n",
            "2\n",
            "7\n",
            "4\n",
            "7\n"
          ]
        }
      ],
      "source": [
        "# iterate through elements of tuple similar to list using for \n",
        "data_tuple = (7,2,7,4,7)\n",
        "for i in  data_tuple:\n",
        "    print(i)\n"
      ]
    },
    {
      "cell_type": "code",
      "execution_count": 115,
      "metadata": {
        "colab": {
          "base_uri": "https://localhost:8080/"
        },
        "execution": {
          "iopub.execute_input": "2021-12-13T09:32:27.691011Z",
          "iopub.status.busy": "2021-12-13T09:32:27.690197Z",
          "iopub.status.idle": "2021-12-13T09:32:27.698429Z",
          "shell.execute_reply": "2021-12-13T09:32:27.697623Z",
          "shell.execute_reply.started": "2021-12-13T09:32:27.690955Z"
        },
        "id": "90Fc9IK3rP4k",
        "outputId": "1c24c8f7-198c-40dd-e5a8-994769b88a2f",
        "trusted": true
      },
      "outputs": [
        {
          "name": "stdout",
          "output_type": "stream",
          "text": [
            "(5, 2)\n",
            "(2, 7, 4)\n",
            "1\n",
            "0\n"
          ]
        }
      ],
      "source": [
        "# slicing in tuple\n",
        "data_tuple = (5,2,7,4,6)\n",
        "\n",
        "# slice and print first 2 element\n",
        "#<= exclude 2nd Index\n",
        "print(data_tuple[:2])\n",
        "# defining start pont as 2 and end poin as 4 to slice\n",
        "print(data_tuple[1:4])\n",
        "\n",
        "\n",
        "# by using count method on slice see how many time 2 comes\n",
        "#<= count of 2 if present\n",
        "print(data_tuple[1:4].count(2))\n",
        "\n",
        "# index method on slice\n",
        "print(   data_tuple[1:4].index(2)   ) #<= index of 2"
      ]
    },
    {
      "cell_type": "code",
      "execution_count": 100,
      "metadata": {
        "colab": {
          "base_uri": "https://localhost:8080/",
          "height": 201
        },
        "execution": {
          "iopub.execute_input": "2021-12-13T09:34:00.566648Z",
          "iopub.status.busy": "2021-12-13T09:34:00.565926Z",
          "iopub.status.idle": "2021-12-13T09:34:00.58237Z",
          "shell.execute_reply": "2021-12-13T09:34:00.58128Z",
          "shell.execute_reply.started": "2021-12-13T09:34:00.566613Z"
        },
        "id": "SYHssmIhrP4k",
        "outputId": "ec2bfafe-3601-474b-cc7f-9a205f62bdfd",
        "trusted": true
      },
      "outputs": [],
      "source": [
        "# Tuple immutable (cant update or delete elements from tuples)\n",
        "## this is one of the reasons it is fast in comparison to list\n",
        "data_tuple[2] = 1 #<= update at index-2 with 1, it will give error"
      ]
    },
    {
      "cell_type": "code",
      "execution_count": 101,
      "metadata": {
        "colab": {
          "base_uri": "https://localhost:8080/"
        },
        "execution": {
          "iopub.execute_input": "2021-12-13T09:34:18.357129Z",
          "iopub.status.busy": "2021-12-13T09:34:18.356785Z",
          "iopub.status.idle": "2021-12-13T09:34:18.363026Z",
          "shell.execute_reply": "2021-12-13T09:34:18.361949Z",
          "shell.execute_reply.started": "2021-12-13T09:34:18.357068Z"
        },
        "id": "Z2biiRsirP4k",
        "outputId": "8b0aace0-b409-4008-c015-17ae40689e82",
        "trusted": true
      },
      "outputs": [
        {
          "data": {
            "text/plain": [
              "(5, 2, 7, 4, 6)"
            ]
          },
          "execution_count": 101,
          "metadata": {},
          "output_type": "execute_result"
        }
      ],
      "source": [
        "data_tuple"
      ]
    },
    {
      "cell_type": "code",
      "execution_count": 103,
      "metadata": {
        "colab": {
          "base_uri": "https://localhost:8080/",
          "height": 166
        },
        "execution": {
          "iopub.execute_input": "2021-12-13T09:34:27.001712Z",
          "iopub.status.busy": "2021-12-13T09:34:27.000985Z",
          "iopub.status.idle": "2021-12-13T09:34:27.016464Z",
          "shell.execute_reply": "2021-12-13T09:34:27.015451Z",
          "shell.execute_reply.started": "2021-12-13T09:34:27.001669Z"
        },
        "id": "KGFbjOiWrP4k",
        "outputId": "d17e373b-0866-40e3-acff-79f964c56816",
        "trusted": true
      },
      "outputs": [],
      "source": [
        "del data_tuple[0] #<= del at index-0, again error\n"
      ]
    },
    {
      "attachments": {},
      "cell_type": "markdown",
      "metadata": {
        "id": "Mx7xKlWErP4k"
      },
      "source": [
        "<a id='13'></a><center> <h3 style=\"background-color:orange; color:white\" ><br>Assignment Python Data Structures List&Set<br></h3>"
      ]
    },
    {
      "attachments": {},
      "cell_type": "markdown",
      "metadata": {
        "id": "WvTU5e5QrP4k"
      },
      "source": [
        "# 💬 **List Problem Statement:**\n",
        "\n",
        "Say CloudyML conducted an assessment test to hire a Data Scientist <br>\n",
        "Candidates were evaluated on 5 different subject `Statistics`, `Python`, `SQL`, `ML`, and `DeepLearning` <br> \n",
        "`Help CloudyML team to find out answers of following questions` <br>\n",
        "\n",
        "💡 `Find out Who scored highest marks in Python?` <br>\n",
        "💡 `Find out average marks scored in subject SQL?` <br>\n",
        "💡 `Find out scored highest percentage of marks?` <br>\n",
        "💡 `If considered only top-4 subjects of a candidate, then who scored highest percentage of marks?` <br>\n"
      ]
    },
    {
      "cell_type": "code",
      "execution_count": 107,
      "metadata": {
        "colab": {
          "base_uri": "https://localhost:8080/"
        },
        "execution": {
          "iopub.execute_input": "2021-12-11T07:48:04.967742Z",
          "iopub.status.busy": "2021-12-11T07:48:04.967414Z",
          "iopub.status.idle": "2021-12-11T07:48:04.979905Z",
          "shell.execute_reply": "2021-12-11T07:48:04.979017Z",
          "shell.execute_reply.started": "2021-12-11T07:48:04.96771Z"
        },
        "id": "Dz8vLyD8rP4k",
        "outputId": "6ac3fb21-cf12-434f-920d-0b6b41edeeca",
        "trusted": true
      },
      "outputs": [
        {
          "name": "stdout",
          "output_type": "stream",
          "text": [
            "[[34, 'Ananya'], [23, 'Akash'], [23, 'Rahul'], [82, 'Gyan'], [23, 'Pranav']]\n",
            "[82, 'Gyan']\n"
          ]
        }
      ],
      "source": [
        "### Find out Who scored highest marks in Python? ###\n",
        "# student marks nested list\n",
        "student_marks = [['Name',['Statistics','Python','SQL','ML','DeepLearning']],\n",
        "                 ['Ananya',[41, 34, 45, 55, 63]],\n",
        "                 ['Akash',[42, 23, 34, 44, 53]],\n",
        "                 ['Rahul',[32, 23, 13, 54, 67]],\n",
        "                 ['Gyan',[23, 82, 23, 63, 34]],\n",
        "                 ['Pranav',[21, 23, 25, 56, 56]] ]\n",
        "\n",
        "# Find out Who scored highest marks in Python? using for loop, soorted and slicing\n",
        "list=[]\n",
        "for student in student_marks[1:]:\n",
        "\n",
        "    name=student[0]\n",
        "    marks=student[1][1]\n",
        "    list.append([marks,name])\n",
        "print(list)\n",
        "list.sort()\n",
        "print(list[-1])\n",
        "\n"
      ]
    },
    {
      "cell_type": "code",
      "execution_count": 113,
      "metadata": {
        "colab": {
          "base_uri": "https://localhost:8080/"
        },
        "execution": {
          "iopub.execute_input": "2021-12-11T07:50:08.48356Z",
          "iopub.status.busy": "2021-12-11T07:50:08.483261Z",
          "iopub.status.idle": "2021-12-11T07:50:08.490736Z",
          "shell.execute_reply": "2021-12-11T07:50:08.490115Z",
          "shell.execute_reply.started": "2021-12-11T07:50:08.483531Z"
        },
        "id": "4RNm9UT0rP4k",
        "outputId": "a9d9bb23-35bf-4973-e9f9-6036f547c6b0",
        "trusted": true
      },
      "outputs": [
        {
          "name": "stdout",
          "output_type": "stream",
          "text": [
            "[45, 34, 13, 23, 25]\n",
            "avg_of_SQL_marks: 28.0\n"
          ]
        }
      ],
      "source": [
        "### Find out average marks scored in subject SQL? ###\n",
        "sql_marks=[]\n",
        "for student in student_marks[1:]:\n",
        "    marks=student[1][2]\n",
        "    sql_marks.append(marks)\n",
        "print(sql_marks)\n",
        "# Extracted col= name with SQL_data=marks\n",
        "\n",
        "\n",
        "# Extracted only SQL_data=marks\n",
        "\n",
        "# mathematical operation\n",
        "avg_of_SQL_marks = sum(sql_marks)/len(sql_marks)\n",
        "\n",
        "print('avg_of_SQL_marks:',avg_of_SQL_marks)"
      ]
    },
    {
      "cell_type": "code",
      "execution_count": 114,
      "metadata": {
        "colab": {
          "base_uri": "https://localhost:8080/"
        },
        "execution": {
          "iopub.execute_input": "2021-12-11T07:51:33.252381Z",
          "iopub.status.busy": "2021-12-11T07:51:33.25188Z",
          "iopub.status.idle": "2021-12-11T07:55:09.52883Z",
          "shell.execute_reply": "2021-12-11T07:55:09.527987Z",
          "shell.execute_reply.started": "2021-12-11T07:51:33.252342Z"
        },
        "id": "wz8BshX9rP4k",
        "outputId": "43181b10-d09f-4f13-de12-47904d7670bb",
        "trusted": true
      },
      "outputs": [
        {
          "name": "stdout",
          "output_type": "stream",
          "text": [
            "34\n"
          ]
        }
      ],
      "source": [
        "### Find out scored highest percentage of marks? ###\n",
        "sql_marks.sort()\n",
        "print(sql_marks[-2])\n",
        "\n",
        "\n",
        "\n"
      ]
    },
    {
      "cell_type": "code",
      "execution_count": 57,
      "metadata": {
        "colab": {
          "base_uri": "https://localhost:8080/"
        },
        "execution": {
          "iopub.execute_input": "2021-12-11T07:58:52.945655Z",
          "iopub.status.busy": "2021-12-11T07:58:52.945371Z",
          "iopub.status.idle": "2021-12-11T07:58:58.969944Z",
          "shell.execute_reply": "2021-12-11T07:58:58.96934Z",
          "shell.execute_reply.started": "2021-12-11T07:58:52.945623Z"
        },
        "id": "5iPh1wnDrP4k",
        "outputId": "51bfd4ae-36d5-4491-b531-b4c9b99d0484",
        "trusted": true
      },
      "outputs": [
        {
          "name": "stdout",
          "output_type": "stream",
          "text": [
            "Name :Ananya\n",
            "Marks :[41, 34, 45, 55, 63]\n",
            "Name :Akash\n",
            "Marks :[42, 23, 34, 44, 53]\n",
            "Name :Rahul\n",
            "Marks :[32, 23, 13, 54, 67]\n",
            "Name :Gyan\n",
            "Marks :[23, 82, 23, 63, 34]\n",
            "Name :Pranav\n",
            "Marks :[21, 23, 25, 56, 56]\n",
            "[[238, 'Ananya'], [196, 'Akash'], [189, 'Rahul'], [225, 'Gyan'], [181, 'Pranav']]\n",
            "[['Pranav', 45], ['Rahul', 47], ['Akash', 49], ['Gyan', 56], ['Ananya', 60]]\n",
            "Topper name : Ananya\n",
            "Topper average : 60\n"
          ]
        }
      ],
      "source": [
        "### solv for `If considered only top-4 subjects of a candidate, then who scored the highest percentage of marks?` ###\n",
        "\n",
        "NamewithMark=[]\n",
        "maxmark=int(input(\"Enter max mark :\"))\n",
        "count=int(input(\"Number of subjects :\"))\n",
        "\n",
        "for i in student_marks[1:]:\n",
        "    name=i[0]\n",
        "    marks=i[1]\n",
        "    print(f\"Name :{name}\")\n",
        "    print(f'Marks :{marks}')\n",
        "    NamewithMark.append([sum(marks),name])\n",
        "\n",
        "print(NamewithMark)\n",
        "N2=sorted(NamewithMark)\n",
        "\n",
        "Topper_percentage=[]\n",
        "for j in N2[:]:\n",
        "    sorted_mark=j[0]\n",
        "    sorted_name=j[1]\n",
        "    Topper_percentage.append([sorted_name,round(sorted_mark/(count*maxmark)*100)])\n",
        "\n",
        "print(Topper_percentage)\n",
        "\n",
        "print(\"Topper name : {}\".format(Topper_percentage[-1][0]))\n",
        "print(\"Topper average : {}\".format(Topper_percentage[-1][1]))\n",
        "\n",
        "\n",
        "\n",
        "\n",
        "\n",
        "\n"
      ]
    },
    {
      "attachments": {},
      "cell_type": "markdown",
      "metadata": {
        "id": "BM93iUT5rP4l"
      },
      "source": [
        "----"
      ]
    },
    {
      "attachments": {},
      "cell_type": "markdown",
      "metadata": {
        "id": "XsNXA8nhrP4l"
      },
      "source": [
        "# **`Sets`**\n",
        "* Unordered collection of elements (if you put some data in order inside  set it will discard order)\n",
        "    * It shorts elements by itself (see below example)\n",
        "* No duplicates only unique values\n",
        "    * Put duplicates in set it will auto remove them\n",
        "* Mutable can add, remove values\n",
        "* Set Theory operations are possible like Union,Intersection etc...\n",
        "    * `intersection` of 2 sets => set_1.intersection(set_2)\n",
        "    * `union` of 2 sets => set_1.union(set_2) .."
      ]
    },
    {
      "attachments": {},
      "cell_type": "markdown",
      "metadata": {
        "id": "gIWj5Sgwden1"
      },
      "source": [
        "### **`Watch Video 20: Sets`**"
      ]
    },
    {
      "cell_type": "code",
      "execution_count": 116,
      "metadata": {
        "colab": {
          "base_uri": "https://localhost:8080/"
        },
        "execution": {
          "iopub.execute_input": "2021-12-13T10:35:08.133731Z",
          "iopub.status.busy": "2021-12-13T10:35:08.133473Z",
          "iopub.status.idle": "2021-12-13T10:35:08.139556Z",
          "shell.execute_reply": "2021-12-13T10:35:08.138794Z",
          "shell.execute_reply.started": "2021-12-13T10:35:08.133703Z"
        },
        "id": "DLSJiWUSrP4l",
        "outputId": "0136d5e4-5f98-43c3-e1b4-975c91fb5ac1",
        "trusted": true
      },
      "outputs": [
        {
          "name": "stdout",
          "output_type": "stream",
          "text": [
            "{'a', 'z', 'c', 'b'}\n"
          ]
        }
      ],
      "source": [
        "# define set named as set_ with values 'b','c','a','z'\n",
        "set_ ={'b','c','a','z'}\n",
        "# print set\n",
        "print(set_)\n",
        "\n"
      ]
    },
    {
      "cell_type": "code",
      "execution_count": 117,
      "metadata": {
        "colab": {
          "base_uri": "https://localhost:8080/"
        },
        "execution": {
          "iopub.execute_input": "2021-12-13T10:34:31.33395Z",
          "iopub.status.busy": "2021-12-13T10:34:31.333664Z",
          "iopub.status.idle": "2021-12-13T10:34:31.340853Z",
          "shell.execute_reply": "2021-12-13T10:34:31.339951Z",
          "shell.execute_reply.started": "2021-12-13T10:34:31.333921Z"
        },
        "id": "ifReR9qIrP4l",
        "outputId": "75726f08-f495-4f5d-fea9-c6ae74acade2",
        "trusted": true
      },
      "outputs": [
        {
          "name": "stdout",
          "output_type": "stream",
          "text": [
            "{'banana', 'mango'}\n"
          ]
        }
      ],
      "source": [
        "# define list namead as frt with elements as 'mango','banana','mango','banana'\n",
        "frt=['mango','banana','mango','banana']\n",
        "# define a set named as set_ with elements as 'mango','banana','mango','banana'\n",
        "set_={'mango','banana','mango','banana'}\n",
        "# print set\n",
        "print(set_)\n"
      ]
    },
    {
      "cell_type": "code",
      "execution_count": 118,
      "metadata": {
        "colab": {
          "base_uri": "https://localhost:8080/"
        },
        "execution": {
          "iopub.execute_input": "2021-12-13T10:35:53.059133Z",
          "iopub.status.busy": "2021-12-13T10:35:53.058813Z",
          "iopub.status.idle": "2021-12-13T10:35:53.065121Z",
          "shell.execute_reply": "2021-12-13T10:35:53.064528Z",
          "shell.execute_reply.started": "2021-12-13T10:35:53.0591Z"
        },
        "id": "14_MnlmYrP4l",
        "outputId": "d642e7ad-615c-41b4-eb12-3dbe22867f5f",
        "trusted": true
      },
      "outputs": [
        {
          "name": "stdout",
          "output_type": "stream",
          "text": [
            "{1, 4, 5, 'L', 'A', 'V'}\n"
          ]
        }
      ],
      "source": [
        "# make a set named as set_data and values as 4,'A',5,1,'V','L'\n",
        "set_data={4,'A',5,1,'V','L'}\n",
        "# print set_data #<= results are shorted\n",
        "print(set_data)\n",
        "\n"
      ]
    },
    {
      "cell_type": "code",
      "execution_count": 119,
      "metadata": {
        "colab": {
          "base_uri": "https://localhost:8080/"
        },
        "execution": {
          "iopub.execute_input": "2021-12-13T10:36:04.201965Z",
          "iopub.status.busy": "2021-12-13T10:36:04.201399Z",
          "iopub.status.idle": "2021-12-13T10:36:04.207641Z",
          "shell.execute_reply": "2021-12-13T10:36:04.206918Z",
          "shell.execute_reply.started": "2021-12-13T10:36:04.201927Z"
        },
        "id": "HxKlhWFIrP4l",
        "outputId": "d9a6d066-e841-4632-907a-93f2f47c57c7",
        "trusted": true
      },
      "outputs": [
        {
          "name": "stdout",
          "output_type": "stream",
          "text": [
            "{1, 4, 5, 'V'}\n"
          ]
        }
      ],
      "source": [
        "# No duplicates only unique values\n",
        "# make a set named as set_data and values as 4,4,5,1,'V','V'\n",
        "set_data={4,4,5,1,'V','V'}\n",
        "# print set_data\n",
        "print(set_data)\n",
        "\n",
        "\n"
      ]
    },
    {
      "cell_type": "code",
      "execution_count": 120,
      "metadata": {
        "colab": {
          "base_uri": "https://localhost:8080/"
        },
        "execution": {
          "iopub.execute_input": "2021-12-13T10:37:15.539051Z",
          "iopub.status.busy": "2021-12-13T10:37:15.538461Z",
          "iopub.status.idle": "2021-12-13T10:37:15.544971Z",
          "shell.execute_reply": "2021-12-13T10:37:15.544206Z",
          "shell.execute_reply.started": "2021-12-13T10:37:15.539016Z"
        },
        "id": "EMm2IUSSrP4l",
        "outputId": "7f92c4ab-8923-434e-b3aa-61fbf06dc962",
        "trusted": true
      },
      "outputs": [
        {
          "name": "stdout",
          "output_type": "stream",
          "text": [
            "{1, 2, 'B', 'A'}\n"
          ]
        }
      ],
      "source": [
        "# make tuple named  as tuple_data with values as 'A', 'B', 1, 2, 'B', 'A'\n",
        "tuple_data=('A', 'B', 1, 2, 'B', 'A')\n",
        "# make a variable names as var_1 and convert it into set \n",
        "var_1=set(tuple_data)\n",
        "# peint var_1\n",
        "print(var_1)\n",
        "\n",
        "\n",
        "\n"
      ]
    },
    {
      "cell_type": "code",
      "execution_count": 133,
      "metadata": {
        "colab": {
          "base_uri": "https://localhost:8080/"
        },
        "execution": {
          "iopub.execute_input": "2021-12-13T10:36:12.493797Z",
          "iopub.status.busy": "2021-12-13T10:36:12.493525Z",
          "iopub.status.idle": "2021-12-13T10:36:12.500748Z",
          "shell.execute_reply": "2021-12-13T10:36:12.499845Z",
          "shell.execute_reply.started": "2021-12-13T10:36:12.493769Z"
        },
        "id": "Qs0Fw69SrP4l",
        "outputId": "560d36ec-21af-4d64-9f86-4b9771c1fb3a",
        "trusted": true
      },
      "outputs": [
        {
          "name": "stdout",
          "output_type": "stream",
          "text": [
            "{1, 4, 5, 'V'}\n",
            "{1, 2, 'B', 'A'}\n"
          ]
        }
      ],
      "source": [
        "# Defining a set using a List \n",
        "# define a list named as list_data with values as  'A', 'B', 1, 2, 'B', 'A'] # this is a list with duplicate data\n",
        "list_data=['A', 'B', 1, 2, 'B', 'A']\n",
        "# change set_from_list to  set # set will remove duplicates\n",
        "set_from_list=set(list_data)\n",
        "# print set_from_list)\n",
        "print(set_data)\n",
        "\n",
        "# Defining a set using a Tuple named as tuple_data with values as 'A', 'B', 1, 2, 'B', 'A'\n",
        "tuple_data=('A', 'B', 1, 2, 'B', 'A')\n",
        "# make variable named as set_from_tuple, change tuple_data into set\n",
        "set_from_tuple=set(tuple_data)\n",
        "# print set_from_tuple)\n",
        "print(set_from_tuple)\n",
        "\n"
      ]
    },
    {
      "cell_type": "code",
      "execution_count": 134,
      "metadata": {
        "colab": {
          "base_uri": "https://localhost:8080/"
        },
        "execution": {
          "iopub.execute_input": "2021-12-13T10:37:33.379859Z",
          "iopub.status.busy": "2021-12-13T10:37:33.379214Z",
          "iopub.status.idle": "2021-12-13T10:37:33.385068Z",
          "shell.execute_reply": "2021-12-13T10:37:33.383741Z",
          "shell.execute_reply.started": "2021-12-13T10:37:33.379825Z"
        },
        "id": "-zK2B4EVrP4m",
        "outputId": "845c35ce-84fc-498b-d910-4e41d20cc367",
        "trusted": true
      },
      "outputs": [
        {
          "name": "stdout",
          "output_type": "stream",
          "text": [
            "{1, 2, 'B', 'A'}\n"
          ]
        }
      ],
      "source": [
        "# see set_from_tuple output\n",
        "print(set_from_tuple)\n",
        "\n"
      ]
    },
    {
      "cell_type": "code",
      "execution_count": 135,
      "metadata": {
        "colab": {
          "base_uri": "https://localhost:8080/"
        },
        "execution": {
          "iopub.execute_input": "2021-12-13T10:37:50.051518Z",
          "iopub.status.busy": "2021-12-13T10:37:50.051093Z",
          "iopub.status.idle": "2021-12-13T10:37:50.056057Z",
          "shell.execute_reply": "2021-12-13T10:37:50.055307Z",
          "shell.execute_reply.started": "2021-12-13T10:37:50.051475Z"
        },
        "id": "IbTLUsjZrP4m",
        "outputId": "45fbfb13-06f8-4c88-d01a-f41b52a4fd8e",
        "trusted": true
      },
      "outputs": [
        {
          "name": "stdout",
          "output_type": "stream",
          "text": [
            "{0, 1, 2, 'A', 'B'}\n"
          ]
        }
      ],
      "source": [
        "# add 0 to set_from_tuple\n",
        "set_from_tuple.add(0)\n",
        "# print set_from_tuple\n",
        "print(set_from_tuple)\n",
        "\n"
      ]
    },
    {
      "cell_type": "code",
      "execution_count": 125,
      "metadata": {
        "colab": {
          "base_uri": "https://localhost:8080/"
        },
        "execution": {
          "iopub.execute_input": "2021-12-13T10:38:42.235906Z",
          "iopub.status.busy": "2021-12-13T10:38:42.235458Z",
          "iopub.status.idle": "2021-12-13T10:38:42.241784Z",
          "shell.execute_reply": "2021-12-13T10:38:42.241004Z",
          "shell.execute_reply.started": "2021-12-13T10:38:42.235854Z"
        },
        "id": "1UvNVglBrP4m",
        "outputId": "a72e6407-7431-4b02-cafb-161a1446b78c",
        "trusted": true
      },
      "outputs": [
        {
          "name": "stdout",
          "output_type": "stream",
          "text": [
            "{'a', 'z', 'c', 'b'}\n"
          ]
        }
      ],
      "source": [
        "# make variable named as set_ with values as 'b','c','a','z'\n",
        "# print set_\n",
        "set_={'b','c','a','z'}\n",
        "print(set_)\n",
        "\n",
        "\n"
      ]
    },
    {
      "cell_type": "code",
      "execution_count": 127,
      "metadata": {
        "colab": {
          "base_uri": "https://localhost:8080/"
        },
        "execution": {
          "iopub.execute_input": "2021-12-13T10:39:16.170247Z",
          "iopub.status.busy": "2021-12-13T10:39:16.169691Z",
          "iopub.status.idle": "2021-12-13T10:39:16.176298Z",
          "shell.execute_reply": "2021-12-13T10:39:16.175352Z",
          "shell.execute_reply.started": "2021-12-13T10:39:16.170208Z"
        },
        "id": "AtqlCQhwrP4m",
        "outputId": "1036c20c-4060-4194-f7de-4114cda62551",
        "trusted": true
      },
      "outputs": [
        {
          "name": "stdout",
          "output_type": "stream",
          "text": [
            "{'a', 'z', 'x', 'b', 'c'}\n"
          ]
        }
      ],
      "source": [
        "# add x to set_\n",
        "# print set_\n",
        "set_.add('x')\n",
        "print(set_)\n",
        "\n"
      ]
    },
    {
      "cell_type": "code",
      "execution_count": 136,
      "metadata": {
        "colab": {
          "base_uri": "https://localhost:8080/"
        },
        "execution": {
          "iopub.execute_input": "2021-12-11T06:15:31.956351Z",
          "iopub.status.busy": "2021-12-11T06:15:31.956065Z",
          "iopub.status.idle": "2021-12-11T06:15:31.960879Z",
          "shell.execute_reply": "2021-12-11T06:15:31.960304Z",
          "shell.execute_reply.started": "2021-12-11T06:15:31.956323Z"
        },
        "id": "cDyIT-tlrP4m",
        "outputId": "b99b1590-9219-4a98-9f51-47203f70495b",
        "trusted": true
      },
      "outputs": [
        {
          "name": "stdout",
          "output_type": "stream",
          "text": [
            "{0, 1, 2, 'A', 'B'}\n",
            "{0, 1, 2, 'A', 'C', 'B'}\n"
          ]
        }
      ],
      "source": [
        "# Add 0 to set set_from_tuple\n",
        "# print set_from_tuple # 0 is added at the starting of set, as set orders by itself\n",
        "set_from_tuple.add(0)\n",
        "print(set_from_tuple)\n",
        "\n",
        "\n",
        "\n",
        "# adding C to set set_from_tuple\n",
        "# print set_from_tuple # c is added at the last of set, as set orders by itself\n",
        "set_from_tuple.add('C')\n",
        "print(set_from_tuple)\n",
        "\n",
        "\n",
        "\n"
      ]
    },
    {
      "attachments": {},
      "cell_type": "markdown",
      "metadata": {
        "id": "EDd-kK1ZrP4m"
      },
      "source": [
        "# delete element from set"
      ]
    },
    {
      "cell_type": "code",
      "execution_count": 137,
      "metadata": {
        "colab": {
          "base_uri": "https://localhost:8080/"
        },
        "execution": {
          "iopub.execute_input": "2021-12-13T10:39:44.118756Z",
          "iopub.status.busy": "2021-12-13T10:39:44.118476Z",
          "iopub.status.idle": "2021-12-13T10:39:44.124827Z",
          "shell.execute_reply": "2021-12-13T10:39:44.123926Z",
          "shell.execute_reply.started": "2021-12-13T10:39:44.118721Z"
        },
        "id": "aN2nrR1arP4m",
        "outputId": "1dfd07e5-1941-45cd-b171-364727c5fa3f",
        "trusted": true
      },
      "outputs": [
        {
          "name": "stdout",
          "output_type": "stream",
          "text": [
            "{0, 1, 2, 'A', 'C', 'B'}\n"
          ]
        }
      ],
      "source": [
        "# see output of set_from_tuple\n",
        "\n",
        "print(set_from_tuple)\n"
      ]
    },
    {
      "cell_type": "code",
      "execution_count": 145,
      "metadata": {
        "colab": {
          "base_uri": "https://localhost:8080/"
        },
        "execution": {
          "iopub.execute_input": "2021-12-13T10:40:23.456723Z",
          "iopub.status.busy": "2021-12-13T10:40:23.456412Z",
          "iopub.status.idle": "2021-12-13T10:40:23.464155Z",
          "shell.execute_reply": "2021-12-13T10:40:23.46307Z",
          "shell.execute_reply.started": "2021-12-13T10:40:23.456685Z"
        },
        "id": "j6igfM8nrP4m",
        "outputId": "c5783257-7d36-4155-f7cf-a9f757ff0507",
        "trusted": true
      },
      "outputs": [
        {
          "name": "stdout",
          "output_type": "stream",
          "text": [
            "{1, 2, 'A', 'B'}\n"
          ]
        }
      ],
      "source": [
        "# use discard to remove 0 from set_from_tuple\n",
        "# see output of set_from_tuple\n",
        "set_from_tuple.discard(0)\n",
        "print(set_from_tuple)\n",
        "\n"
      ]
    },
    {
      "cell_type": "code",
      "execution_count": 146,
      "metadata": {
        "colab": {
          "base_uri": "https://localhost:8080/"
        },
        "execution": {
          "iopub.execute_input": "2021-12-13T10:40:39.372555Z",
          "iopub.status.busy": "2021-12-13T10:40:39.372293Z",
          "iopub.status.idle": "2021-12-13T10:40:39.378787Z",
          "shell.execute_reply": "2021-12-13T10:40:39.377808Z",
          "shell.execute_reply.started": "2021-12-13T10:40:39.372528Z"
        },
        "id": "1nehzTjkrP4m",
        "outputId": "0542ef03-6150-4646-dc1d-eb3eab997987",
        "trusted": true
      },
      "outputs": [
        {
          "name": "stdout",
          "output_type": "stream",
          "text": [
            "{1, 2, 'A', 'B'}\n"
          ]
        }
      ],
      "source": [
        "# from set_from_tuple discard 9 \n",
        "# print set_from_tuple\n",
        "\n",
        "set_from_tuple.discard(9)\n",
        "print(set_from_tuple)\n"
      ]
    },
    {
      "cell_type": "code",
      "execution_count": 147,
      "metadata": {
        "execution": {
          "iopub.execute_input": "2021-12-11T06:18:45.979547Z",
          "iopub.status.busy": "2021-12-11T06:18:45.978965Z",
          "iopub.status.idle": "2021-12-11T06:18:45.983234Z",
          "shell.execute_reply": "2021-12-11T06:18:45.982497Z",
          "shell.execute_reply.started": "2021-12-11T06:18:45.979512Z"
        },
        "id": "aMvJSw36rP4m",
        "trusted": true
      },
      "outputs": [],
      "source": [
        "# delete element from set (two methods are as)\n",
        "## discard() : if element not in set, it will not show error\n",
        "## remove() : if element not in set, it will show error\n",
        "set_from_tuple.discard(0.0)\n",
        "\n",
        "\n",
        "\n"
      ]
    },
    {
      "attachments": {},
      "cell_type": "markdown",
      "metadata": {
        "id": "GzSBD7aarP4n"
      },
      "source": [
        "# Difference b/w two set (set_1 - set_2)"
      ]
    },
    {
      "cell_type": "code",
      "execution_count": 149,
      "metadata": {
        "colab": {
          "base_uri": "https://localhost:8080/"
        },
        "execution": {
          "iopub.execute_input": "2021-12-13T10:43:00.404461Z",
          "iopub.status.busy": "2021-12-13T10:43:00.403679Z",
          "iopub.status.idle": "2021-12-13T10:43:00.411534Z",
          "shell.execute_reply": "2021-12-13T10:43:00.410581Z",
          "shell.execute_reply.started": "2021-12-13T10:43:00.404418Z"
        },
        "id": "yUJSP6ggrP4n",
        "outputId": "cd3f6dd6-9bbb-4667-c4a9-cc24d43b9e58",
        "trusted": true
      },
      "outputs": [
        {
          "data": {
            "text/plain": [
              "{1, 2, 'B'}"
            ]
          },
          "execution_count": 149,
          "metadata": {},
          "output_type": "execute_result"
        }
      ],
      "source": [
        "# set_1 - set_2 => states that, collect every element of set_1 after removing thouse element which are common in set_1 and set_2 \n",
        "\n",
        "# define a set named as set_1 with elements as 1,2,3,'A','B'\n",
        "# define a set named as set_2 with elements as 3,'A'\n",
        "# difference of set_1 and set_2\n",
        "# see difference between set_1 and set_2)\n",
        "# print set_1\n",
        "set_1={1,2,3,'A','B'}\n",
        "set_2={3,'A'}\n",
        "set_1.difference(set_2)\n",
        "\n",
        "\n",
        "\n",
        "\n",
        "\n"
      ]
    },
    {
      "cell_type": "code",
      "execution_count": 151,
      "metadata": {
        "colab": {
          "base_uri": "https://localhost:8080/"
        },
        "execution": {
          "iopub.execute_input": "2021-12-13T10:43:13.854716Z",
          "iopub.status.busy": "2021-12-13T10:43:13.85441Z",
          "iopub.status.idle": "2021-12-13T10:43:13.860912Z",
          "shell.execute_reply": "2021-12-13T10:43:13.860085Z",
          "shell.execute_reply.started": "2021-12-13T10:43:13.85468Z"
        },
        "id": "2iJJJttErP4n",
        "outputId": "68c59dab-7466-40d2-e3ba-bffeeda61c12",
        "trusted": true
      },
      "outputs": [
        {
          "name": "stdout",
          "output_type": "stream",
          "text": [
            "{1, 2, 'B'}\n"
          ]
        }
      ],
      "source": [
        "# if you want ot update set_1 by difference\n",
        "\n",
        "# using difference_update update set_1 and set_2\n",
        "# print set_1\n",
        "set_1.difference_update(set_2)\n",
        "print(set_1)\n",
        "\n",
        "\n",
        "\n"
      ]
    },
    {
      "attachments": {},
      "cell_type": "markdown",
      "metadata": {
        "id": "M-ocEPqmrP4n"
      },
      "source": [
        "# Intersection b/w two set (set_1 - set_2)"
      ]
    },
    {
      "cell_type": "code",
      "execution_count": 152,
      "metadata": {
        "colab": {
          "base_uri": "https://localhost:8080/"
        },
        "execution": {
          "iopub.execute_input": "2021-12-13T10:43:58.377355Z",
          "iopub.status.busy": "2021-12-13T10:43:58.377047Z",
          "iopub.status.idle": "2021-12-13T10:43:58.384648Z",
          "shell.execute_reply": "2021-12-13T10:43:58.383813Z",
          "shell.execute_reply.started": "2021-12-13T10:43:58.377316Z"
        },
        "id": "o25pTFa5rP4n",
        "outputId": "738f078d-c476-457b-eedd-4b26f58680dd",
        "trusted": true
      },
      "outputs": [
        {
          "data": {
            "text/plain": [
              "{1, 2, 3, 'A', 'B'}"
            ]
          },
          "execution_count": 152,
          "metadata": {},
          "output_type": "execute_result"
        }
      ],
      "source": [
        "# collect only elements which are common b/w both sets\n",
        "set_1 = {1,2,3,'A','B'}\n",
        "set_2 = {3,'A'}\n",
        "set_1.intersection(set_2)\n",
        "set_1"
      ]
    },
    {
      "cell_type": "code",
      "execution_count": 153,
      "metadata": {
        "colab": {
          "base_uri": "https://localhost:8080/"
        },
        "execution": {
          "iopub.execute_input": "2021-12-13T10:44:04.443196Z",
          "iopub.status.busy": "2021-12-13T10:44:04.442569Z",
          "iopub.status.idle": "2021-12-13T10:44:04.449452Z",
          "shell.execute_reply": "2021-12-13T10:44:04.448782Z",
          "shell.execute_reply.started": "2021-12-13T10:44:04.44314Z"
        },
        "id": "ONav5Mx6rP4n",
        "outputId": "8fbbf265-60be-4515-bd3e-e5ffe4841622",
        "trusted": true
      },
      "outputs": [
        {
          "data": {
            "text/plain": [
              "{3, 'A'}"
            ]
          },
          "execution_count": 153,
          "metadata": {},
          "output_type": "execute_result"
        }
      ],
      "source": [
        "# if you want ot update set_1 by intersection\n",
        "set_1.intersection_update(set_2)\n",
        "set_1"
      ]
    },
    {
      "attachments": {},
      "cell_type": "markdown",
      "metadata": {
        "id": "1F9jH1x7rP4n"
      },
      "source": [
        "----"
      ]
    },
    {
      "attachments": {},
      "cell_type": "markdown",
      "metadata": {
        "id": "1jNZ_aKnrP4n"
      },
      "source": [
        "# **`Dictionary`** => `key:value`\n",
        "* Unordered data structure\n",
        "* Collection of multiple lists can say, looks like set{} but have {key:value} pairs for storing elements\n",
        "    * student_information is a dictionay and it have name,age,email,adress etc store in form of list how see bellow example\n",
        "* `Element of dictionary can only be acessed by using key not Index`\n",
        "* Every key must be unique\n",
        "\n",
        "`{} -> curly brac`"
      ]
    },
    {
      "attachments": {},
      "cell_type": "markdown",
      "metadata": {
        "id": "b0gQZ2v1dm5t"
      },
      "source": [
        "### **`Watch Video 21: Dictionary`**"
      ]
    },
    {
      "cell_type": "code",
      "execution_count": 154,
      "metadata": {
        "execution": {
          "iopub.execute_input": "2021-12-13T09:55:55.008155Z",
          "iopub.status.busy": "2021-12-13T09:55:55.007857Z",
          "iopub.status.idle": "2021-12-13T09:55:55.016151Z",
          "shell.execute_reply": "2021-12-13T09:55:55.015078Z",
          "shell.execute_reply.started": "2021-12-13T09:55:55.008123Z"
        },
        "id": "vhdeUMEarP4n",
        "trusted": true
      },
      "outputs": [],
      "source": [
        "# student details\n",
        "names = ['Viranda','Sandhu','Rama','Yoga']\n",
        "height = [120,130,140,150]\n",
        "weight = [56,60,45,90]\n",
        "age = [23,34,56,55]\n",
        "\n",
        "\"\"\"\n",
        "dict = { key:values }\n",
        "\"\"\"\n",
        "\n",
        "### storing all these 4 lists in a dict using key:value  # once data structure inside other\n",
        "student_details_dict = {\n",
        "    'names' : ['Viranda','Sandhu','Rama','Yoga'],\n",
        "    'height' : [120,130,140,150],\n",
        "    'weight' : [56,60,45,90],\n",
        "    'age' : [23,34,56,55]\n",
        "}"
      ]
    },
    {
      "attachments": {},
      "cell_type": "markdown",
      "metadata": {
        "id": "FFiDiI_PrP4o"
      },
      "source": [
        "* Above name,height are the `key` and list's data are the `value pair` associated with the key\n",
        "    * can say each key is mapped to multiple values\n",
        "* Above is the representation of advanced data structure as you can see list inside a dictionary"
      ]
    },
    {
      "cell_type": "code",
      "execution_count": 156,
      "metadata": {
        "colab": {
          "base_uri": "https://localhost:8080/",
          "height": 201
        },
        "execution": {
          "iopub.execute_input": "2021-12-13T09:57:01.9233Z",
          "iopub.status.busy": "2021-12-13T09:57:01.923008Z",
          "iopub.status.idle": "2021-12-13T09:57:01.940278Z",
          "shell.execute_reply": "2021-12-13T09:57:01.939181Z",
          "shell.execute_reply.started": "2021-12-13T09:57:01.92327Z"
        },
        "id": "E-Fr1AeJrP4o",
        "outputId": "0eb07a28-f5f0-4c34-f6ac-9e4ca82b6483",
        "trusted": true
      },
      "outputs": [],
      "source": [
        "### Acessing elements of dict ###\n",
        "student_details_dict = {\n",
        "    'names' : ['Ohm','Sandhu','Rama','Yoga'],\n",
        "    'height' : [120,130,140,150],\n",
        "    'weight' : [56,60,45,90],\n",
        "    'age' : [23,34,56,55]\n",
        "}\n",
        "\n",
        "# trying to acess using index will give error\n",
        "student_details_dict[0]"
      ]
    },
    {
      "cell_type": "code",
      "execution_count": 157,
      "metadata": {
        "execution": {
          "iopub.execute_input": "2021-12-13T09:58:13.100392Z",
          "iopub.status.busy": "2021-12-13T09:58:13.100091Z",
          "iopub.status.idle": "2021-12-13T09:58:13.106757Z",
          "shell.execute_reply": "2021-12-13T09:58:13.105836Z",
          "shell.execute_reply.started": "2021-12-13T09:58:13.100356Z"
        },
        "id": "yBZ4q0E2rP4o",
        "trusted": true
      },
      "outputs": [
        {
          "data": {
            "text/plain": [
              "[23, 34, 56, 55]"
            ]
          },
          "execution_count": 157,
          "metadata": {},
          "output_type": "execute_result"
        }
      ],
      "source": [
        "student_details_dict['age']"
      ]
    },
    {
      "cell_type": "code",
      "execution_count": 158,
      "metadata": {
        "colab": {
          "base_uri": "https://localhost:8080/"
        },
        "execution": {
          "iopub.execute_input": "2021-12-13T09:58:55.922743Z",
          "iopub.status.busy": "2021-12-13T09:58:55.922327Z",
          "iopub.status.idle": "2021-12-13T09:58:55.928051Z",
          "shell.execute_reply": "2021-12-13T09:58:55.927326Z",
          "shell.execute_reply.started": "2021-12-13T09:58:55.92271Z"
        },
        "id": "82I92AVerP4o",
        "outputId": "58507641-5d10-47ff-da0e-0cdc6d82c878",
        "trusted": true
      },
      "outputs": [
        {
          "data": {
            "text/plain": [
              "{'names': ['Ohm', 'Sandhu', 'Rama', 'Yoga'],\n",
              " 'height': [120, 130, 140, 150],\n",
              " 'weight': [56, 60, 45, 90],\n",
              " 'age': [23, 34, 56, 55]}"
            ]
          },
          "execution_count": 158,
          "metadata": {},
          "output_type": "execute_result"
        }
      ],
      "source": [
        "student_details_dict"
      ]
    },
    {
      "cell_type": "code",
      "execution_count": 159,
      "metadata": {
        "colab": {
          "base_uri": "https://localhost:8080/",
          "height": 38
        },
        "execution": {
          "iopub.execute_input": "2021-12-13T10:00:03.888355Z",
          "iopub.status.busy": "2021-12-13T10:00:03.888062Z",
          "iopub.status.idle": "2021-12-13T10:00:03.894125Z",
          "shell.execute_reply": "2021-12-13T10:00:03.8932Z",
          "shell.execute_reply.started": "2021-12-13T10:00:03.888323Z"
        },
        "id": "fTkrcNdCrP4o",
        "outputId": "09a165bf-1647-4fe3-e52e-8b372950749f",
        "trusted": true
      },
      "outputs": [
        {
          "data": {
            "text/plain": [
              "'Yoga'"
            ]
          },
          "execution_count": 159,
          "metadata": {},
          "output_type": "execute_result"
        }
      ],
      "source": [
        "student_details_dict['names'][-1]"
      ]
    },
    {
      "cell_type": "code",
      "execution_count": 160,
      "metadata": {
        "colab": {
          "base_uri": "https://localhost:8080/"
        },
        "execution": {
          "iopub.execute_input": "2021-12-13T09:57:39.804977Z",
          "iopub.status.busy": "2021-12-13T09:57:39.804262Z",
          "iopub.status.idle": "2021-12-13T09:57:39.810231Z",
          "shell.execute_reply": "2021-12-13T09:57:39.809595Z",
          "shell.execute_reply.started": "2021-12-13T09:57:39.804939Z"
        },
        "id": "5HnJNpSVrP4o",
        "outputId": "c7e94aaa-6340-48ad-f9f5-26e6d63717ab",
        "trusted": true
      },
      "outputs": [
        {
          "name": "stdout",
          "output_type": "stream",
          "text": [
            "['Ohm', 'Sandhu', 'Rama', 'Yoga'] \n",
            "\n",
            "['Sandhu', 'Rama', 'Yoga']\n"
          ]
        }
      ],
      "source": [
        "# trying to acess using key will give error\n",
        "\n",
        "print(student_details_dict['names'],'\\n')\n",
        "\n",
        "#getting into name key values\n",
        "print(student_details_dict['names'][1:])"
      ]
    },
    {
      "cell_type": "code",
      "execution_count": 161,
      "metadata": {
        "colab": {
          "base_uri": "https://localhost:8080/"
        },
        "execution": {
          "iopub.execute_input": "2021-12-13T10:00:32.522566Z",
          "iopub.status.busy": "2021-12-13T10:00:32.522274Z",
          "iopub.status.idle": "2021-12-13T10:00:32.528149Z",
          "shell.execute_reply": "2021-12-13T10:00:32.527394Z",
          "shell.execute_reply.started": "2021-12-13T10:00:32.522535Z"
        },
        "id": "MkV-hbCLrP4o",
        "outputId": "9fbee366-f38e-49f6-8744-74000eda9b2c",
        "trusted": true
      },
      "outputs": [
        {
          "data": {
            "text/plain": [
              "dict_keys(['names', 'height', 'weight', 'age'])"
            ]
          },
          "execution_count": 161,
          "metadata": {},
          "output_type": "execute_result"
        }
      ],
      "source": [
        "### Acessing keys ###\n",
        "student_details_dict.keys()"
      ]
    },
    {
      "cell_type": "code",
      "execution_count": 162,
      "metadata": {
        "colab": {
          "base_uri": "https://localhost:8080/"
        },
        "execution": {
          "iopub.execute_input": "2021-12-13T10:00:42.766841Z",
          "iopub.status.busy": "2021-12-13T10:00:42.766539Z",
          "iopub.status.idle": "2021-12-13T10:00:42.772659Z",
          "shell.execute_reply": "2021-12-13T10:00:42.771701Z",
          "shell.execute_reply.started": "2021-12-13T10:00:42.766808Z"
        },
        "id": "sxApYLKkrP4o",
        "outputId": "c74d25b5-0491-4b9e-e633-109805f35d32",
        "trusted": true
      },
      "outputs": [
        {
          "data": {
            "text/plain": [
              "dict_values([['Ohm', 'Sandhu', 'Rama', 'Yoga'], [120, 130, 140, 150], [56, 60, 45, 90], [23, 34, 56, 55]])"
            ]
          },
          "execution_count": 162,
          "metadata": {},
          "output_type": "execute_result"
        }
      ],
      "source": [
        "### Acessing values ###\n",
        "student_details_dict.values()"
      ]
    },
    {
      "attachments": {},
      "cell_type": "markdown",
      "metadata": {
        "id": "PpsBjTaVrP4o"
      },
      "source": [
        "# Adding single element to dictionary"
      ]
    },
    {
      "cell_type": "code",
      "execution_count": 163,
      "metadata": {
        "colab": {
          "base_uri": "https://localhost:8080/"
        },
        "execution": {
          "iopub.execute_input": "2021-12-13T10:01:17.756917Z",
          "iopub.status.busy": "2021-12-13T10:01:17.756443Z",
          "iopub.status.idle": "2021-12-13T10:01:17.762487Z",
          "shell.execute_reply": "2021-12-13T10:01:17.761665Z",
          "shell.execute_reply.started": "2021-12-13T10:01:17.756852Z"
        },
        "id": "_FBTPjTZrP4p",
        "outputId": "62c79263-6a1c-492a-cb37-d2307ae1cf9b",
        "trusted": true
      },
      "outputs": [
        {
          "data": {
            "text/plain": [
              "{'names': ['Ohm', 'Sandhu', 'Rama', 'Yoga'],\n",
              " 'height': [120, 130, 140, 150],\n",
              " 'weight': [56, 60, 45, 90],\n",
              " 'age': [23, 34, 56, 55]}"
            ]
          },
          "execution_count": 163,
          "metadata": {},
          "output_type": "execute_result"
        }
      ],
      "source": [
        "student_details_dict"
      ]
    },
    {
      "cell_type": "code",
      "execution_count": 164,
      "metadata": {
        "colab": {
          "base_uri": "https://localhost:8080/"
        },
        "execution": {
          "iopub.execute_input": "2021-12-13T10:01:41.411494Z",
          "iopub.status.busy": "2021-12-13T10:01:41.410772Z",
          "iopub.status.idle": "2021-12-13T10:01:41.417072Z",
          "shell.execute_reply": "2021-12-13T10:01:41.416524Z",
          "shell.execute_reply.started": "2021-12-13T10:01:41.411448Z"
        },
        "id": "0wKUkHGFrP4p",
        "outputId": "8e9a65b4-dfcb-40f5-bbb3-8403075f407b",
        "trusted": true
      },
      "outputs": [
        {
          "data": {
            "text/plain": [
              "{'names': ['Ohm', 'Sandhu', 'Rama', 'Yoga'],\n",
              " 'height': [120, 130, 140, 150],\n",
              " 'weight': [56, 60, 45, 90],\n",
              " 'age': [23, 34, 56, 55],\n",
              " 'emails': ['as@gmail.com', 'asd@gmail.com', 'd@gmail.com', 'sd@gmail.com']}"
            ]
          },
          "execution_count": 164,
          "metadata": {},
          "output_type": "execute_result"
        }
      ],
      "source": [
        "# dict_name['key_name'] = [values to update]\n",
        "student_details_dict['emails'] = ['as@gmail.com','asd@gmail.com','d@gmail.com','sd@gmail.com']\n",
        "\n",
        "student_details_dict"
      ]
    },
    {
      "attachments": {},
      "cell_type": "markdown",
      "metadata": {
        "id": "WmJ6exLbrP4p"
      },
      "source": [
        "# Adding multiple element to dictionary "
      ]
    },
    {
      "cell_type": "code",
      "execution_count": 165,
      "metadata": {
        "colab": {
          "base_uri": "https://localhost:8080/"
        },
        "execution": {
          "iopub.execute_input": "2021-12-13T10:02:34.603596Z",
          "iopub.status.busy": "2021-12-13T10:02:34.602964Z",
          "iopub.status.idle": "2021-12-13T10:02:34.609421Z",
          "shell.execute_reply": "2021-12-13T10:02:34.608851Z",
          "shell.execute_reply.started": "2021-12-13T10:02:34.603556Z"
        },
        "id": "EA49XnzsrP4p",
        "outputId": "007b3a9b-1b3e-4818-891a-103c5e77bae0",
        "trusted": true
      },
      "outputs": [
        {
          "data": {
            "text/plain": [
              "{'names': ['Ohm', 'Sandhu', 'Rama', 'Yoga'],\n",
              " 'height': [120, 130, 140, 150],\n",
              " 'weight': [56, 60, 45, 90],\n",
              " 'age': [23, 34, 56, 55],\n",
              " 'emails': ['as@gmail.com', 'asd@gmail.com', 'd@gmail.com', 'sd@gmail.com']}"
            ]
          },
          "execution_count": 165,
          "metadata": {},
          "output_type": "execute_result"
        }
      ],
      "source": [
        "student_details_dict"
      ]
    },
    {
      "cell_type": "code",
      "execution_count": 166,
      "metadata": {
        "colab": {
          "base_uri": "https://localhost:8080/"
        },
        "execution": {
          "iopub.execute_input": "2021-12-13T10:02:45.620076Z",
          "iopub.status.busy": "2021-12-13T10:02:45.619188Z",
          "iopub.status.idle": "2021-12-13T10:02:45.627322Z",
          "shell.execute_reply": "2021-12-13T10:02:45.626391Z",
          "shell.execute_reply.started": "2021-12-13T10:02:45.620025Z"
        },
        "id": "VO6IrvskrP4p",
        "outputId": "53952eb7-29dd-45d8-cdb9-2c97957fc670",
        "trusted": true
      },
      "outputs": [
        {
          "data": {
            "text/plain": [
              "{'names': ['Ohm', 'Sandhu', 'Rama', 'Yoga'],\n",
              " 'height': [120, 130, 140, 150],\n",
              " 'weight': [56, 60, 45, 90],\n",
              " 'age': [23, 34, 56, 55],\n",
              " 'emails': ['as@gmail.com', 'asd@gmail.com', 'd@gmail.com', 'sd@gmail.com'],\n",
              " 'adress': ['ana', 'dasd', 'asdad', 'adasd'],\n",
              " 'sex': ['m', 'm', 'm', 'm']}"
            ]
          },
          "execution_count": 166,
          "metadata": {},
          "output_type": "execute_result"
        }
      ],
      "source": [
        "# use of .update({'key':[value],'key1':[value1]})\n",
        "\n",
        "student_details_dict.update({'adress':['ana','dasd','asdad','adasd'],'sex':['m','m','m','m']})\n",
        "student_details_dict"
      ]
    },
    {
      "attachments": {},
      "cell_type": "markdown",
      "metadata": {
        "id": "pPXUz271rP4p"
      },
      "source": [
        "# Deleting element of dictionary"
      ]
    },
    {
      "cell_type": "code",
      "execution_count": 167,
      "metadata": {
        "colab": {
          "base_uri": "https://localhost:8080/"
        },
        "execution": {
          "iopub.execute_input": "2021-12-13T10:03:17.732961Z",
          "iopub.status.busy": "2021-12-13T10:03:17.732651Z",
          "iopub.status.idle": "2021-12-13T10:03:17.739801Z",
          "shell.execute_reply": "2021-12-13T10:03:17.738946Z",
          "shell.execute_reply.started": "2021-12-13T10:03:17.732932Z"
        },
        "id": "tdOxfYdCrP4p",
        "outputId": "0be3c5df-13a2-4525-a6d1-414193202285",
        "trusted": true
      },
      "outputs": [
        {
          "data": {
            "text/plain": [
              "{'names': ['Ohm', 'Sandhu', 'Rama', 'Yoga'],\n",
              " 'height': [120, 130, 140, 150],\n",
              " 'weight': [56, 60, 45, 90],\n",
              " 'age': [23, 34, 56, 55],\n",
              " 'emails': ['as@gmail.com', 'asd@gmail.com', 'd@gmail.com', 'sd@gmail.com'],\n",
              " 'adress': ['ana', 'dasd', 'asdad', 'adasd'],\n",
              " 'sex': ['m', 'm', 'm', 'm']}"
            ]
          },
          "execution_count": 167,
          "metadata": {},
          "output_type": "execute_result"
        }
      ],
      "source": [
        "student_details_dict"
      ]
    },
    {
      "cell_type": "code",
      "execution_count": 168,
      "metadata": {
        "colab": {
          "base_uri": "https://localhost:8080/"
        },
        "execution": {
          "iopub.execute_input": "2021-12-13T10:03:34.612505Z",
          "iopub.status.busy": "2021-12-13T10:03:34.61224Z",
          "iopub.status.idle": "2021-12-13T10:03:34.619065Z",
          "shell.execute_reply": "2021-12-13T10:03:34.618374Z",
          "shell.execute_reply.started": "2021-12-13T10:03:34.612477Z"
        },
        "id": "Iu1l27PNrP4p",
        "outputId": "0e180056-5f67-4d5c-e56c-80ae69f5eacf",
        "trusted": true
      },
      "outputs": [
        {
          "data": {
            "text/plain": [
              "{'names': ['Ohm', 'Sandhu', 'Rama', 'Yoga'],\n",
              " 'height': [120, 130, 140, 150],\n",
              " 'weight': [56, 60, 45, 90],\n",
              " 'age': [23, 34, 56, 55],\n",
              " 'emails': ['as@gmail.com', 'asd@gmail.com', 'd@gmail.com', 'sd@gmail.com'],\n",
              " 'adress': ['ana', 'dasd', 'asdad', 'adasd']}"
            ]
          },
          "execution_count": 168,
          "metadata": {},
          "output_type": "execute_result"
        }
      ],
      "source": [
        "# use of del\n",
        "del student_details_dict['sex'] #<= removing sex key totaly from key\n",
        "student_details_dict"
      ]
    },
    {
      "attachments": {},
      "cell_type": "markdown",
      "metadata": {
        "id": "VrRk_bhJrP4p"
      },
      "source": [
        "# Updating dict with dicts"
      ]
    },
    {
      "cell_type": "code",
      "execution_count": 169,
      "metadata": {
        "colab": {
          "base_uri": "https://localhost:8080/"
        },
        "execution": {
          "iopub.execute_input": "2021-12-13T10:04:32.718812Z",
          "iopub.status.busy": "2021-12-13T10:04:32.718516Z",
          "iopub.status.idle": "2021-12-13T10:04:32.726459Z",
          "shell.execute_reply": "2021-12-13T10:04:32.725624Z",
          "shell.execute_reply.started": "2021-12-13T10:04:32.718775Z"
        },
        "id": "1v2BgiPUrP4p",
        "outputId": "024fb376-bf65-4927-c49f-aea9d069c6b6",
        "trusted": true
      },
      "outputs": [
        {
          "data": {
            "text/plain": [
              "{'age': 21,\n",
              " 'attendance': 74,\n",
              " 'city': 'Gurugram',\n",
              " 'country': 'India',\n",
              " 'name': 'Vany',\n",
              " 'percentage': 85,\n",
              " 'roll_no': 'CSE100'}"
            ]
          },
          "execution_count": 169,
          "metadata": {},
          "output_type": "execute_result"
        }
      ],
      "source": [
        "# Make a dict named as student_data_dictionary  with value which are given bellow as output\n",
        "student_data_dictionary = {'age': 21,\n",
        " 'attendance': 74,\n",
        " 'city': 'Gurugram',\n",
        " 'country': 'India',\n",
        " 'name': 'Vany',\n",
        " 'percentage': 85,\n",
        " 'roll_no': 'CSE100'}\n",
        "\n",
        "\n",
        "# print student_data_dictionary\n",
        "student_data_dictionary\n",
        "\n"
      ]
    },
    {
      "cell_type": "code",
      "execution_count": 179,
      "metadata": {
        "colab": {
          "base_uri": "https://localhost:8080/"
        },
        "execution": {
          "iopub.execute_input": "2021-12-13T10:04:55.19956Z",
          "iopub.status.busy": "2021-12-13T10:04:55.199263Z",
          "iopub.status.idle": "2021-12-13T10:04:55.205958Z",
          "shell.execute_reply": "2021-12-13T10:04:55.205314Z",
          "shell.execute_reply.started": "2021-12-13T10:04:55.199526Z"
        },
        "id": "2GhXVhlFrP4q",
        "outputId": "11da83c6-c6eb-44f7-b4a0-b7d794a5fa09",
        "trusted": true
      },
      "outputs": [
        {
          "data": {
            "text/plain": [
              "{'age': 21,\n",
              " 'attendance': 74,\n",
              " 'city': 'Gurugram',\n",
              " 'country': 'India',\n",
              " 'name': 'Vany',\n",
              " 'percentage': 85,\n",
              " 'roll_no': 'CSE100',\n",
              " 'PINCODE': 345345,\n",
              " 'last_name': 'Unicorn'}"
            ]
          },
          "execution_count": 179,
          "metadata": {},
          "output_type": "execute_result"
        }
      ],
      "source": [
        "# update student_data_dictionary by observing output \n",
        "student_data_dictionary.update({\"PINCODE\":345345})\n",
        "student_data_dictionary.update({'last_name': 'Unicorn'})\n",
        "# print student_data_dictionary\n",
        "student_data_dictionary\n",
        "\n",
        "\n",
        "\n"
      ]
    },
    {
      "attachments": {},
      "cell_type": "markdown",
      "metadata": {
        "id": "w7yMNpcArP4q"
      },
      "source": [
        "# Updating dict with list of tuples"
      ]
    },
    {
      "cell_type": "code",
      "execution_count": 173,
      "metadata": {
        "colab": {
          "base_uri": "https://localhost:8080/"
        },
        "execution": {
          "iopub.execute_input": "2021-12-13T10:05:27.964104Z",
          "iopub.status.busy": "2021-12-13T10:05:27.96382Z",
          "iopub.status.idle": "2021-12-13T10:05:27.969942Z",
          "shell.execute_reply": "2021-12-13T10:05:27.96922Z",
          "shell.execute_reply.started": "2021-12-13T10:05:27.964075Z"
        },
        "id": "z9a5hByPrP4q",
        "outputId": "6df79425-ed84-4d35-ee4b-0dd9f0b86841",
        "trusted": true
      },
      "outputs": [
        {
          "data": {
            "text/plain": [
              "{'age': 21,\n",
              " 'attendance': 74,\n",
              " 'city': 'Gurugram',\n",
              " 'country': 'India',\n",
              " 'name': 'Vany',\n",
              " 'percentage': 85,\n",
              " 'roll_no': 'CSE100',\n",
              " 'PINCODE': 345345}"
            ]
          },
          "execution_count": 173,
          "metadata": {},
          "output_type": "execute_result"
        }
      ],
      "source": [
        "# print student_data_dictionary\n",
        "\n",
        "student_data_dictionary\n",
        "\n",
        "\n"
      ]
    },
    {
      "cell_type": "code",
      "execution_count": 180,
      "metadata": {
        "colab": {
          "base_uri": "https://localhost:8080/"
        },
        "execution": {
          "iopub.execute_input": "2021-12-13T10:05:55.922063Z",
          "iopub.status.busy": "2021-12-13T10:05:55.921547Z",
          "iopub.status.idle": "2021-12-13T10:05:55.929415Z",
          "shell.execute_reply": "2021-12-13T10:05:55.928555Z",
          "shell.execute_reply.started": "2021-12-13T10:05:55.922011Z"
        },
        "id": "VTT_BZycrP4q",
        "outputId": "133a33e5-a4d5-44b0-af54-93927f8e0adc",
        "trusted": true
      },
      "outputs": [
        {
          "data": {
            "text/plain": [
              "{'age': 21,\n",
              " 'attendance': 74,\n",
              " 'city': 'Gurugram',\n",
              " 'country': 'India',\n",
              " 'name': 'Vany',\n",
              " 'percentage': 85,\n",
              " 'roll_no': 'CSE100',\n",
              " 'PINCODE': 345345,\n",
              " 'last_name': 'Unicorn_777'}"
            ]
          },
          "execution_count": 180,
          "metadata": {},
          "output_type": "execute_result"
        }
      ],
      "source": [
        "# update student_data_dictionary by observing output \n",
        "\n",
        "\n",
        "student_data_dictionary.update({'last_name': 'Unicorn_777',})\n",
        "\n",
        "# print student_data_dictionary\n",
        "\n",
        "student_data_dictionary\n"
      ]
    },
    {
      "cell_type": "code",
      "execution_count": 181,
      "metadata": {
        "colab": {
          "base_uri": "https://localhost:8080/"
        },
        "execution": {
          "iopub.execute_input": "2021-12-13T10:06:27.959221Z",
          "iopub.status.busy": "2021-12-13T10:06:27.958345Z",
          "iopub.status.idle": "2021-12-13T10:06:27.965493Z",
          "shell.execute_reply": "2021-12-13T10:06:27.964809Z",
          "shell.execute_reply.started": "2021-12-13T10:06:27.959177Z"
        },
        "id": "6YtALcserP4q",
        "outputId": "14eb3cd9-fa81-4148-f669-ed32aef13347",
        "trusted": true
      },
      "outputs": [
        {
          "data": {
            "text/plain": [
              "dict_keys(['string', 777, 777.77, False])"
            ]
          },
          "execution_count": 181,
          "metadata": {},
          "output_type": "execute_result"
        }
      ],
      "source": [
        "# observe this code\n",
        "### dictionary key can be anything string,integer,float,boolean ###\n",
        "dict_sample = {\n",
        "    'string' : 'string can be used as key',\n",
        "    777 : 'interger can be used as key',\n",
        "    777.77 : 'float can be used as key',\n",
        "    False : 'boolean can be used as key'\n",
        "}\n",
        "\n",
        "dict_sample.keys()"
      ]
    },
    {
      "attachments": {},
      "cell_type": "markdown",
      "metadata": {
        "id": "fb2iby4NrP4q"
      },
      "source": [
        "Mostly String and Integer are used as key"
      ]
    },
    {
      "cell_type": "code",
      "execution_count": 182,
      "metadata": {
        "colab": {
          "base_uri": "https://localhost:8080/",
          "height": 38
        },
        "execution": {
          "iopub.execute_input": "2021-12-13T10:06:55.138726Z",
          "iopub.status.busy": "2021-12-13T10:06:55.138268Z",
          "iopub.status.idle": "2021-12-13T10:06:55.145072Z",
          "shell.execute_reply": "2021-12-13T10:06:55.144269Z",
          "shell.execute_reply.started": "2021-12-13T10:06:55.138678Z"
        },
        "id": "RKwzFxeyrP4q",
        "outputId": "95f47ee5-a20a-4b34-c275-b4037df86adc",
        "trusted": true
      },
      "outputs": [
        {
          "data": {
            "text/plain": [
              "'float can be used as key'"
            ]
          },
          "execution_count": 182,
          "metadata": {},
          "output_type": "execute_result"
        }
      ],
      "source": [
        "dict_sample[777.77]"
      ]
    },
    {
      "cell_type": "code",
      "execution_count": 2,
      "metadata": {
        "colab": {
          "base_uri": "https://localhost:8080/"
        },
        "execution": {
          "iopub.execute_input": "2021-12-13T10:07:55.651142Z",
          "iopub.status.busy": "2021-12-13T10:07:55.65068Z",
          "iopub.status.idle": "2021-12-13T10:07:55.658826Z",
          "shell.execute_reply": "2021-12-13T10:07:55.65794Z",
          "shell.execute_reply.started": "2021-12-13T10:07:55.651108Z"
        },
        "id": "l532yInzrP4q",
        "outputId": "df174d22-43d7-42bf-ba7b-9516e3f1eca7",
        "trusted": true
      },
      "outputs": [
        {
          "data": {
            "text/plain": [
              "{'a': 23, 'b': 2, 'c': 3}"
            ]
          },
          "execution_count": 2,
          "metadata": {},
          "output_type": "execute_result"
        }
      ],
      "source": [
        "# observe this code\n",
        "### Duplicate keys ###\n",
        "# every key must be unique\n",
        "dict_sample = {\n",
        "    'a':1,\n",
        "    'b':2,\n",
        "    'c':3,\n",
        "    'a':23\n",
        "}\n",
        "\n",
        "dict_sample"
      ]
    },
    {
      "attachments": {},
      "cell_type": "markdown",
      "metadata": {
        "id": "xI9wusR1rP4q"
      },
      "source": [
        "`If we add duplicate keys, it will not throw an error instead it will overwrite value which is added at last`"
      ]
    },
    {
      "attachments": {},
      "cell_type": "markdown",
      "metadata": {
        "id": "bmvif_zLrP4q"
      },
      "source": [
        "# Iterating through key:value pair"
      ]
    },
    {
      "cell_type": "code",
      "execution_count": 3,
      "metadata": {
        "colab": {
          "base_uri": "https://localhost:8080/"
        },
        "execution": {
          "iopub.execute_input": "2021-12-13T10:09:28.180905Z",
          "iopub.status.busy": "2021-12-13T10:09:28.18039Z",
          "iopub.status.idle": "2021-12-13T10:09:28.186513Z",
          "shell.execute_reply": "2021-12-13T10:09:28.185948Z",
          "shell.execute_reply.started": "2021-12-13T10:09:28.180849Z"
        },
        "id": "pOOp6yYGrP4q",
        "outputId": "c16812a6-eabb-499e-b3f0-cbbdf26d330a",
        "trusted": true
      },
      "outputs": [
        {
          "data": {
            "text/plain": [
              "dict_items([('a', 23), ('b', 2), ('c', 3)])"
            ]
          },
          "execution_count": 3,
          "metadata": {},
          "output_type": "execute_result"
        }
      ],
      "source": [
        "dict_sample.items()"
      ]
    },
    {
      "cell_type": "code",
      "execution_count": 4,
      "metadata": {
        "colab": {
          "base_uri": "https://localhost:8080/"
        },
        "execution": {
          "iopub.execute_input": "2021-12-13T10:09:14.520808Z",
          "iopub.status.busy": "2021-12-13T10:09:14.519994Z",
          "iopub.status.idle": "2021-12-13T10:09:14.52646Z",
          "shell.execute_reply": "2021-12-13T10:09:14.525536Z",
          "shell.execute_reply.started": "2021-12-13T10:09:14.520766Z"
        },
        "id": "5UvSJz_3rP4r",
        "outputId": "6774b5e2-fa17-45fe-f37c-78f81aedfbfa",
        "trusted": true
      },
      "outputs": [
        {
          "name": "stdout",
          "output_type": "stream",
          "text": [
            "a 23\n",
            "b 2\n",
            "c 3\n"
          ]
        }
      ],
      "source": [
        "for key,value in dict_sample.items():\n",
        "    print(key,value)"
      ]
    },
    {
      "cell_type": "code",
      "execution_count": 9,
      "metadata": {
        "colab": {
          "base_uri": "https://localhost:8080/",
          "height": 184
        },
        "execution": {
          "iopub.execute_input": "2021-12-13T10:09:51.898107Z",
          "iopub.status.busy": "2021-12-13T10:09:51.897343Z",
          "iopub.status.idle": "2021-12-13T10:09:51.916454Z",
          "shell.execute_reply": "2021-12-13T10:09:51.915316Z",
          "shell.execute_reply.started": "2021-12-13T10:09:51.898047Z"
        },
        "id": "Oml0jnO3rP4r",
        "outputId": "b62c9fdc-37d7-4e52-eacc-e2c865b0779d",
        "trusted": true
      },
      "outputs": [
        {
          "name": "stdout",
          "output_type": "stream",
          "text": [
            "a 23\n",
            "b 2\n",
            "c 3\n"
          ]
        }
      ],
      "source": [
        "for key,value in dict_sample.items():\n",
        "  print(key,value)"
      ]
    },
    {
      "attachments": {},
      "cell_type": "markdown",
      "metadata": {
        "id": "ew5FtqDsrP4r"
      },
      "source": [
        "# sorting a dictionary based on keys"
      ]
    },
    {
      "cell_type": "code",
      "execution_count": 8,
      "metadata": {
        "colab": {
          "base_uri": "https://localhost:8080/"
        },
        "execution": {
          "iopub.execute_input": "2021-12-13T10:10:06.684854Z",
          "iopub.status.busy": "2021-12-13T10:10:06.684311Z",
          "iopub.status.idle": "2021-12-13T10:10:06.69042Z",
          "shell.execute_reply": "2021-12-13T10:10:06.689667Z",
          "shell.execute_reply.started": "2021-12-13T10:10:06.684817Z"
        },
        "id": "qwC2NSGYrP4r",
        "outputId": "38f660c5-5751-4a96-c98c-307cc7682719",
        "trusted": true
      },
      "outputs": [
        {
          "data": {
            "text/plain": [
              "[('a', 23), ('b', 2), ('c', 3)]"
            ]
          },
          "execution_count": 8,
          "metadata": {},
          "output_type": "execute_result"
        }
      ],
      "source": [
        "sorted(dict_sample.items())"
      ]
    },
    {
      "cell_type": "code",
      "execution_count": 58,
      "metadata": {
        "execution": {
          "iopub.execute_input": "2021-12-11T13:32:34.935219Z",
          "iopub.status.busy": "2021-12-11T13:32:34.934905Z",
          "iopub.status.idle": "2021-12-11T13:32:34.938482Z",
          "shell.execute_reply": "2021-12-11T13:32:34.937905Z",
          "shell.execute_reply.started": "2021-12-11T13:32:34.935186Z"
        },
        "id": "DGpnyumDrP4r",
        "trusted": true
      },
      "outputs": [],
      "source": [
        "# sorting a dictionary based on values\n",
        "# it requires concept of lambda expression \n",
        "\n"
      ]
    },
    {
      "attachments": {},
      "cell_type": "markdown",
      "metadata": {
        "id": "be3IXjFNrP4r"
      },
      "source": [
        "---"
      ]
    },
    {
      "attachments": {},
      "cell_type": "markdown",
      "metadata": {
        "id": "PMmen0JyrP4r"
      },
      "source": [
        "# **`String Manipulation`** [More Resources](https://docs.python.org/3.7/library/stdtypes.html#text-sequence-type-str)"
      ]
    },
    {
      "attachments": {},
      "cell_type": "markdown",
      "metadata": {
        "id": "kXsEjLZ03YnR"
      },
      "source": [
        "# observe bellow code"
      ]
    },
    {
      "cell_type": "code",
      "execution_count": 14,
      "metadata": {
        "id": "8J1dpy6rrP4r"
      },
      "outputs": [],
      "source": [
        "string_ = '' or \"\" or \"\"\" \"\"\""
      ]
    },
    {
      "cell_type": "code",
      "execution_count": 15,
      "metadata": {
        "colab": {
          "base_uri": "https://localhost:8080/",
          "height": 38
        },
        "execution": {
          "iopub.execute_input": "2021-12-13T11:01:34.238451Z",
          "iopub.status.busy": "2021-12-13T11:01:34.238169Z",
          "iopub.status.idle": "2021-12-13T11:01:34.244158Z",
          "shell.execute_reply": "2021-12-13T11:01:34.243186Z",
          "shell.execute_reply.started": "2021-12-13T11:01:34.238418Z"
        },
        "id": "P4TiJEQCrP4s",
        "outputId": "bae75f24-20d2-4366-8444-4613f8d1a8b5",
        "trusted": true
      },
      "outputs": [
        {
          "data": {
            "text/plain": [
              "'We are creating next generation data science eco-system at CloudyML'"
            ]
          },
          "execution_count": 15,
          "metadata": {},
          "output_type": "execute_result"
        }
      ],
      "source": [
        "# defining a string\n",
        "string = \"We are creating next generation data science eco-system at CloudyML\"\n",
        "string"
      ]
    },
    {
      "cell_type": "code",
      "execution_count": 16,
      "metadata": {
        "colab": {
          "base_uri": "https://localhost:8080/"
        },
        "execution": {
          "iopub.execute_input": "2021-12-13T11:01:34.958307Z",
          "iopub.status.busy": "2021-12-13T11:01:34.957656Z",
          "iopub.status.idle": "2021-12-13T11:01:34.963401Z",
          "shell.execute_reply": "2021-12-13T11:01:34.96252Z",
          "shell.execute_reply.started": "2021-12-13T11:01:34.958266Z"
        },
        "id": "Ujfo-CHZrP4s",
        "outputId": "5f2290e3-5b15-440b-f412-61a6dd5dbccb",
        "trusted": true
      },
      "outputs": [
        {
          "data": {
            "text/plain": [
              "67"
            ]
          },
          "execution_count": 16,
          "metadata": {},
          "output_type": "execute_result"
        }
      ],
      "source": [
        "# length of string including spaces\n",
        "len(string)"
      ]
    },
    {
      "cell_type": "code",
      "execution_count": 17,
      "metadata": {
        "colab": {
          "base_uri": "https://localhost:8080/",
          "height": 38
        },
        "execution": {
          "iopub.execute_input": "2021-12-13T11:01:42.029037Z",
          "iopub.status.busy": "2021-12-13T11:01:42.028477Z",
          "iopub.status.idle": "2021-12-13T11:01:42.035886Z",
          "shell.execute_reply": "2021-12-13T11:01:42.035025Z",
          "shell.execute_reply.started": "2021-12-13T11:01:42.02899Z"
        },
        "id": "huRY2kW4rP4s",
        "outputId": "ea32d5f3-a346-4215-bf42-717e42861884",
        "trusted": true
      },
      "outputs": [
        {
          "data": {
            "text/plain": [
              "'W'"
            ]
          },
          "execution_count": 17,
          "metadata": {},
          "output_type": "execute_result"
        }
      ],
      "source": [
        "# Accessing characters in a string\n",
        "string[0]"
      ]
    },
    {
      "cell_type": "code",
      "execution_count": 18,
      "metadata": {
        "colab": {
          "base_uri": "https://localhost:8080/",
          "height": 38
        },
        "execution": {
          "iopub.execute_input": "2021-12-13T11:01:54.758166Z",
          "iopub.status.busy": "2021-12-13T11:01:54.757886Z",
          "iopub.status.idle": "2021-12-13T11:01:54.76332Z",
          "shell.execute_reply": "2021-12-13T11:01:54.762662Z",
          "shell.execute_reply.started": "2021-12-13T11:01:54.758136Z"
        },
        "id": "ynPqdSYdrP4s",
        "outputId": "11749250-e549-4b7f-b1c2-0c99b592e87d",
        "trusted": true
      },
      "outputs": [
        {
          "data": {
            "text/plain": [
              "'L'"
            ]
          },
          "execution_count": 18,
          "metadata": {},
          "output_type": "execute_result"
        }
      ],
      "source": [
        "# Accessing characters with negative indexing\n",
        "string[-1]"
      ]
    },
    {
      "attachments": {},
      "cell_type": "markdown",
      "metadata": {
        "id": "O9VaefTGrP4s"
      },
      "source": [
        "# String Slicing"
      ]
    },
    {
      "cell_type": "code",
      "execution_count": 19,
      "metadata": {
        "colab": {
          "base_uri": "https://localhost:8080/",
          "height": 38
        },
        "execution": {
          "iopub.execute_input": "2021-12-13T11:02:05.078251Z",
          "iopub.status.busy": "2021-12-13T11:02:05.077467Z",
          "iopub.status.idle": "2021-12-13T11:02:05.08393Z",
          "shell.execute_reply": "2021-12-13T11:02:05.083137Z",
          "shell.execute_reply.started": "2021-12-13T11:02:05.078214Z"
        },
        "id": "ry8spVYHrP4s",
        "outputId": "02cd607c-eeb6-4add-fac5-4b9ffcfb5f65",
        "trusted": true
      },
      "outputs": [
        {
          "data": {
            "text/plain": [
              "'We are'"
            ]
          },
          "execution_count": 19,
          "metadata": {},
          "output_type": "execute_result"
        }
      ],
      "source": [
        "string[:6]"
      ]
    },
    {
      "cell_type": "code",
      "execution_count": 20,
      "metadata": {
        "colab": {
          "base_uri": "https://localhost:8080/",
          "height": 38
        },
        "execution": {
          "iopub.execute_input": "2021-12-13T11:02:17.092026Z",
          "iopub.status.busy": "2021-12-13T11:02:17.091514Z",
          "iopub.status.idle": "2021-12-13T11:02:17.098478Z",
          "shell.execute_reply": "2021-12-13T11:02:17.097041Z",
          "shell.execute_reply.started": "2021-12-13T11:02:17.091993Z"
        },
        "id": "9yyS6grLrP4s",
        "outputId": "6f90465e-e6b4-4d86-e6bf-a7ffbe2f515c",
        "trusted": true
      },
      "outputs": [
        {
          "data": {
            "text/plain": [
              "'creating next generation data science eco-system a'"
            ]
          },
          "execution_count": 20,
          "metadata": {},
          "output_type": "execute_result"
        }
      ],
      "source": [
        "string[7:-10]"
      ]
    },
    {
      "attachments": {},
      "cell_type": "markdown",
      "metadata": {
        "id": "IE-m76lwrP4s"
      },
      "source": [
        "# Count of a particular `character` in a string"
      ]
    },
    {
      "cell_type": "code",
      "execution_count": 21,
      "metadata": {
        "colab": {
          "base_uri": "https://localhost:8080/"
        },
        "execution": {
          "iopub.execute_input": "2021-12-13T11:02:32.813513Z",
          "iopub.status.busy": "2021-12-13T11:02:32.813226Z",
          "iopub.status.idle": "2021-12-13T11:02:32.820308Z",
          "shell.execute_reply": "2021-12-13T11:02:32.819443Z",
          "shell.execute_reply.started": "2021-12-13T11:02:32.813481Z"
        },
        "id": "036-jd2TrP4s",
        "outputId": "87deaa1f-d531-4a3c-924f-d6c520bda3fb",
        "trusted": true
      },
      "outputs": [
        {
          "name": "stdout",
          "output_type": "stream",
          "text": [
            "We are creating next generation data science eco-system at CloudyML\n"
          ]
        },
        {
          "data": {
            "text/plain": [
              "10"
            ]
          },
          "execution_count": 21,
          "metadata": {},
          "output_type": "execute_result"
        }
      ],
      "source": [
        "print(string)\n",
        "\n",
        "string.count('e')"
      ]
    },
    {
      "attachments": {},
      "cell_type": "markdown",
      "metadata": {
        "id": "6BhlvAFmrP4s"
      },
      "source": [
        "# Count of a particular `sub-string` in a string "
      ]
    },
    {
      "cell_type": "code",
      "execution_count": 22,
      "metadata": {
        "colab": {
          "base_uri": "https://localhost:8080/"
        },
        "execution": {
          "iopub.execute_input": "2021-12-13T11:02:46.68983Z",
          "iopub.status.busy": "2021-12-13T11:02:46.689548Z",
          "iopub.status.idle": "2021-12-13T11:02:46.696782Z",
          "shell.execute_reply": "2021-12-13T11:02:46.69582Z",
          "shell.execute_reply.started": "2021-12-13T11:02:46.6898Z"
        },
        "id": "pzaxuLCarP4s",
        "outputId": "ac1e0ef0-348c-4787-9dc5-1b8bf6ba6bac",
        "trusted": true
      },
      "outputs": [
        {
          "name": "stdout",
          "output_type": "stream",
          "text": [
            "creating next generation data science eco-system a\n"
          ]
        },
        {
          "data": {
            "text/plain": [
              "1"
            ]
          },
          "execution_count": 22,
          "metadata": {},
          "output_type": "execute_result"
        }
      ],
      "source": [
        "print(string[7:-10])\n",
        "string.count('ea')"
      ]
    },
    {
      "attachments": {},
      "cell_type": "markdown",
      "metadata": {
        "id": "gbyWCeAwrP4s"
      },
      "source": [
        "# Find a substring in string using `find` and `index` function"
      ]
    },
    {
      "cell_type": "code",
      "execution_count": 23,
      "metadata": {
        "colab": {
          "base_uri": "https://localhost:8080/",
          "height": 38
        },
        "execution": {
          "iopub.execute_input": "2021-12-13T11:03:20.049531Z",
          "iopub.status.busy": "2021-12-13T11:03:20.048474Z",
          "iopub.status.idle": "2021-12-13T11:03:20.055836Z",
          "shell.execute_reply": "2021-12-13T11:03:20.055006Z",
          "shell.execute_reply.started": "2021-12-13T11:03:20.049443Z"
        },
        "id": "08PNFmYPrP4s",
        "outputId": "86004d09-b596-4887-f6cd-77b3a8a894e2",
        "trusted": true
      },
      "outputs": [
        {
          "data": {
            "text/plain": [
              "'We are creating next generation data science eco-system at CloudyML'"
            ]
          },
          "execution_count": 23,
          "metadata": {},
          "output_type": "execute_result"
        }
      ],
      "source": [
        "string"
      ]
    },
    {
      "cell_type": "code",
      "execution_count": 24,
      "metadata": {
        "colab": {
          "base_uri": "https://localhost:8080/"
        },
        "execution": {
          "iopub.execute_input": "2021-12-13T11:03:44.010815Z",
          "iopub.status.busy": "2021-12-13T11:03:44.010507Z",
          "iopub.status.idle": "2021-12-13T11:03:44.017299Z",
          "shell.execute_reply": "2021-12-13T11:03:44.016185Z",
          "shell.execute_reply.started": "2021-12-13T11:03:44.010781Z"
        },
        "id": "tfFcaCXxrP4t",
        "outputId": "d9ca9ec0-fc58-4a22-d3ef-59323a72349a",
        "trusted": true
      },
      "outputs": [
        {
          "data": {
            "text/plain": [
              "-1"
            ]
          },
          "execution_count": 24,
          "metadata": {},
          "output_type": "execute_result"
        }
      ],
      "source": [
        "# .find() => if present it will return starting index, not found then it will return -1\n",
        "# .index() => if present it will return starting index, not found then it will give error\n",
        "\n",
        "\n",
        "string.find('eaq') "
      ]
    },
    {
      "cell_type": "code",
      "execution_count": 59,
      "metadata": {
        "colab": {
          "base_uri": "https://localhost:8080/",
          "height": 166
        },
        "execution": {
          "iopub.execute_input": "2021-12-13T11:03:59.412482Z",
          "iopub.status.busy": "2021-12-13T11:03:59.411717Z",
          "iopub.status.idle": "2021-12-13T11:03:59.428379Z",
          "shell.execute_reply": "2021-12-13T11:03:59.427526Z",
          "shell.execute_reply.started": "2021-12-13T11:03:59.412439Z"
        },
        "id": "tZd5IH_DrP4t",
        "outputId": "c7c1a03f-95ef-4a5e-accb-8eb8378d1286",
        "trusted": true
      },
      "outputs": [],
      "source": [
        "string.index('eaq')"
      ]
    },
    {
      "cell_type": "code",
      "execution_count": 26,
      "metadata": {
        "colab": {
          "base_uri": "https://localhost:8080/",
          "height": 38
        },
        "execution": {
          "iopub.execute_input": "2021-12-13T11:04:25.2175Z",
          "iopub.status.busy": "2021-12-13T11:04:25.216906Z",
          "iopub.status.idle": "2021-12-13T11:04:25.223138Z",
          "shell.execute_reply": "2021-12-13T11:04:25.222063Z",
          "shell.execute_reply.started": "2021-12-13T11:04:25.217463Z"
        },
        "id": "foaVXpRQrP4t",
        "outputId": "81d94317-3d8b-468e-c32b-6d996c70a8fe",
        "trusted": true
      },
      "outputs": [
        {
          "data": {
            "text/plain": [
              "'We are creating next generation data science eco-system at CloudyML'"
            ]
          },
          "execution_count": 26,
          "metadata": {},
          "output_type": "execute_result"
        }
      ],
      "source": [
        "string"
      ]
    },
    {
      "cell_type": "code",
      "execution_count": 27,
      "metadata": {
        "colab": {
          "base_uri": "https://localhost:8080/"
        },
        "execution": {
          "iopub.execute_input": "2021-12-13T11:04:48.605999Z",
          "iopub.status.busy": "2021-12-13T11:04:48.605575Z",
          "iopub.status.idle": "2021-12-13T11:04:48.611854Z",
          "shell.execute_reply": "2021-12-13T11:04:48.611143Z",
          "shell.execute_reply.started": "2021-12-13T11:04:48.605962Z"
        },
        "id": "QK6TfpWyrP4t",
        "outputId": "d4d21a10-c677-425a-e880-95126ef89695",
        "trusted": true
      },
      "outputs": [
        {
          "data": {
            "text/plain": [
              "True"
            ]
          },
          "execution_count": 27,
          "metadata": {},
          "output_type": "execute_result"
        }
      ],
      "source": [
        "### Checking whether string `startswith` or `endswith` a particular substring or not ###\n",
        "string.endswith('CloudyML')"
      ]
    },
    {
      "cell_type": "code",
      "execution_count": 28,
      "metadata": {
        "colab": {
          "base_uri": "https://localhost:8080/"
        },
        "execution": {
          "iopub.execute_input": "2021-12-13T11:05:06.532097Z",
          "iopub.status.busy": "2021-12-13T11:05:06.531667Z",
          "iopub.status.idle": "2021-12-13T11:05:06.53704Z",
          "shell.execute_reply": "2021-12-13T11:05:06.536136Z",
          "shell.execute_reply.started": "2021-12-13T11:05:06.532065Z"
        },
        "id": "KEUqKWYqrP4t",
        "outputId": "77bf32e4-0c32-4bd2-b01c-e1995ff51a11",
        "trusted": true
      },
      "outputs": [
        {
          "data": {
            "text/plain": [
              "True"
            ]
          },
          "execution_count": 28,
          "metadata": {},
          "output_type": "execute_result"
        }
      ],
      "source": [
        "string.startswith('We')"
      ]
    },
    {
      "cell_type": "code",
      "execution_count": 29,
      "metadata": {
        "colab": {
          "base_uri": "https://localhost:8080/",
          "height": 38
        },
        "execution": {
          "iopub.execute_input": "2021-12-13T11:05:27.880521Z",
          "iopub.status.busy": "2021-12-13T11:05:27.880252Z",
          "iopub.status.idle": "2021-12-13T11:05:27.88631Z",
          "shell.execute_reply": "2021-12-13T11:05:27.885395Z",
          "shell.execute_reply.started": "2021-12-13T11:05:27.880493Z"
        },
        "id": "Rh26zLoUrP4t",
        "outputId": "12b16f82-cd6e-4a52-fb7b-7d38fd4f958f",
        "trusted": true
      },
      "outputs": [
        {
          "data": {
            "text/plain": [
              "'We are creating next generation data science eco-system at CloudyML'"
            ]
          },
          "execution_count": 29,
          "metadata": {},
          "output_type": "execute_result"
        }
      ],
      "source": [
        "string"
      ]
    },
    {
      "cell_type": "code",
      "execution_count": 30,
      "metadata": {
        "colab": {
          "base_uri": "https://localhost:8080/",
          "height": 38
        },
        "execution": {
          "iopub.execute_input": "2021-12-13T11:05:29.695055Z",
          "iopub.status.busy": "2021-12-13T11:05:29.694529Z",
          "iopub.status.idle": "2021-12-13T11:05:29.700213Z",
          "shell.execute_reply": "2021-12-13T11:05:29.699432Z",
          "shell.execute_reply.started": "2021-12-13T11:05:29.695023Z"
        },
        "id": "LpEf2Vi_rP4t",
        "outputId": "885d6b8b-acc3-4b51-ea88-9244f2885a2e",
        "trusted": true
      },
      "outputs": [
        {
          "data": {
            "text/plain": [
              "'WE ARE CREATING NEXT GENERATION DATA SCIENCE ECO-SYSTEM AT CLOUDYML'"
            ]
          },
          "execution_count": 30,
          "metadata": {},
          "output_type": "execute_result"
        }
      ],
      "source": [
        "### Converting string to upper case ###\n",
        "string.upper()"
      ]
    },
    {
      "cell_type": "code",
      "execution_count": 31,
      "metadata": {
        "colab": {
          "base_uri": "https://localhost:8080/",
          "height": 38
        },
        "execution": {
          "iopub.execute_input": "2021-12-13T11:05:43.600499Z",
          "iopub.status.busy": "2021-12-13T11:05:43.599994Z",
          "iopub.status.idle": "2021-12-13T11:05:43.605902Z",
          "shell.execute_reply": "2021-12-13T11:05:43.604859Z",
          "shell.execute_reply.started": "2021-12-13T11:05:43.600462Z"
        },
        "id": "C-lc1BM5rP4t",
        "outputId": "9bab07c7-6456-4d62-b004-ba3ddc6df27d",
        "trusted": true
      },
      "outputs": [
        {
          "data": {
            "text/plain": [
              "'We are creating next generation data science eco-system at cloudyml'"
            ]
          },
          "execution_count": 31,
          "metadata": {},
          "output_type": "execute_result"
        }
      ],
      "source": [
        "### Converting only first character of string to upper case ###\n",
        "string.capitalize()"
      ]
    },
    {
      "cell_type": "code",
      "execution_count": 32,
      "metadata": {
        "colab": {
          "base_uri": "https://localhost:8080/",
          "height": 38
        },
        "execution": {
          "iopub.execute_input": "2021-12-13T11:06:42.096011Z",
          "iopub.status.busy": "2021-12-13T11:06:42.095694Z",
          "iopub.status.idle": "2021-12-13T11:06:42.101516Z",
          "shell.execute_reply": "2021-12-13T11:06:42.100946Z",
          "shell.execute_reply.started": "2021-12-13T11:06:42.095976Z"
        },
        "id": "nzVmwn0nrP4t",
        "outputId": "392854a5-4334-4a29-f221-58bbfbfa9de0",
        "trusted": true
      },
      "outputs": [
        {
          "data": {
            "text/plain": [
              "'We are creating next generation data science eco-system at CloudyML'"
            ]
          },
          "execution_count": 32,
          "metadata": {},
          "output_type": "execute_result"
        }
      ],
      "source": [
        "string"
      ]
    },
    {
      "cell_type": "code",
      "execution_count": 33,
      "metadata": {
        "colab": {
          "base_uri": "https://localhost:8080/"
        },
        "execution": {
          "iopub.execute_input": "2021-12-13T11:06:19.800912Z",
          "iopub.status.busy": "2021-12-13T11:06:19.800396Z",
          "iopub.status.idle": "2021-12-13T11:06:19.806627Z",
          "shell.execute_reply": "2021-12-13T11:06:19.805745Z",
          "shell.execute_reply.started": "2021-12-13T11:06:19.800858Z"
        },
        "id": "eUfso5gHrP4t",
        "outputId": "1886034d-ab70-49d6-d45f-6e516d623412",
        "trusted": true
      },
      "outputs": [
        {
          "data": {
            "text/plain": [
              "False"
            ]
          },
          "execution_count": 33,
          "metadata": {},
          "output_type": "execute_result"
        }
      ],
      "source": [
        "### Checking if string is in lower case or upper case ###\n",
        "string.islower()"
      ]
    },
    {
      "cell_type": "code",
      "execution_count": 34,
      "metadata": {
        "colab": {
          "base_uri": "https://localhost:8080/"
        },
        "execution": {
          "iopub.execute_input": "2021-12-13T11:07:00.135958Z",
          "iopub.status.busy": "2021-12-13T11:07:00.135595Z",
          "iopub.status.idle": "2021-12-13T11:07:00.141703Z",
          "shell.execute_reply": "2021-12-13T11:07:00.140776Z",
          "shell.execute_reply.started": "2021-12-13T11:07:00.135922Z"
        },
        "id": "oQKoh8lZrP4t",
        "outputId": "912353fd-46be-4fef-dfd1-94f97930ff4f",
        "trusted": true
      },
      "outputs": [
        {
          "data": {
            "text/plain": [
              "False"
            ]
          },
          "execution_count": 34,
          "metadata": {},
          "output_type": "execute_result"
        }
      ],
      "source": [
        "string.isupper()"
      ]
    },
    {
      "cell_type": "code",
      "execution_count": 35,
      "metadata": {
        "colab": {
          "base_uri": "https://localhost:8080/"
        },
        "execution": {
          "iopub.execute_input": "2021-12-13T11:07:14.639468Z",
          "iopub.status.busy": "2021-12-13T11:07:14.639007Z",
          "iopub.status.idle": "2021-12-13T11:07:14.645717Z",
          "shell.execute_reply": "2021-12-13T11:07:14.644712Z",
          "shell.execute_reply.started": "2021-12-13T11:07:14.639422Z"
        },
        "id": "4KJ8oYacrP4t",
        "outputId": "e4675c2e-e4ce-4e7b-94c4-9b4ae7f6f46b",
        "trusted": true
      },
      "outputs": [
        {
          "data": {
            "text/plain": [
              "True"
            ]
          },
          "execution_count": 35,
          "metadata": {},
          "output_type": "execute_result"
        }
      ],
      "source": [
        "### Checking if string is digit, alpabetic, alpha-numeric ###\n",
        "\"1\".isnumeric()"
      ]
    },
    {
      "cell_type": "code",
      "execution_count": 36,
      "metadata": {
        "colab": {
          "base_uri": "https://localhost:8080/"
        },
        "execution": {
          "iopub.execute_input": "2021-12-13T11:07:27.40006Z",
          "iopub.status.busy": "2021-12-13T11:07:27.399606Z",
          "iopub.status.idle": "2021-12-13T11:07:27.406609Z",
          "shell.execute_reply": "2021-12-13T11:07:27.405918Z",
          "shell.execute_reply.started": "2021-12-13T11:07:27.400026Z"
        },
        "id": "MQf-h42zrP4u",
        "outputId": "b4df789e-2be7-4ade-bb7f-2803000c3a50",
        "trusted": true
      },
      "outputs": [
        {
          "data": {
            "text/plain": [
              "False"
            ]
          },
          "execution_count": 36,
          "metadata": {},
          "output_type": "execute_result"
        }
      ],
      "source": [
        "\"1s\".isnumeric()"
      ]
    },
    {
      "cell_type": "code",
      "execution_count": 37,
      "metadata": {
        "colab": {
          "base_uri": "https://localhost:8080/"
        },
        "execution": {
          "iopub.execute_input": "2021-12-13T11:07:35.333175Z",
          "iopub.status.busy": "2021-12-13T11:07:35.332841Z",
          "iopub.status.idle": "2021-12-13T11:07:35.33955Z",
          "shell.execute_reply": "2021-12-13T11:07:35.338458Z",
          "shell.execute_reply.started": "2021-12-13T11:07:35.333132Z"
        },
        "id": "eDfyzQXRrP4u",
        "outputId": "0d2e70b6-9759-40b5-d567-ea55e497e29c",
        "trusted": true
      },
      "outputs": [
        {
          "data": {
            "text/plain": [
              "True"
            ]
          },
          "execution_count": 37,
          "metadata": {},
          "output_type": "execute_result"
        }
      ],
      "source": [
        "\"name\".isalpha()"
      ]
    },
    {
      "cell_type": "code",
      "execution_count": 38,
      "metadata": {
        "colab": {
          "base_uri": "https://localhost:8080/"
        },
        "execution": {
          "iopub.execute_input": "2021-12-13T11:07:41.412261Z",
          "iopub.status.busy": "2021-12-13T11:07:41.411144Z",
          "iopub.status.idle": "2021-12-13T11:07:41.417409Z",
          "shell.execute_reply": "2021-12-13T11:07:41.416764Z",
          "shell.execute_reply.started": "2021-12-13T11:07:41.412215Z"
        },
        "id": "mfQwti3VrP4u",
        "outputId": "69f0d860-b638-452a-c0fd-bc94f1b33ae1",
        "trusted": true
      },
      "outputs": [
        {
          "data": {
            "text/plain": [
              "False"
            ]
          },
          "execution_count": 38,
          "metadata": {},
          "output_type": "execute_result"
        }
      ],
      "source": [
        "\"name777\".isalpha()"
      ]
    },
    {
      "cell_type": "code",
      "execution_count": 39,
      "metadata": {
        "colab": {
          "base_uri": "https://localhost:8080/"
        },
        "execution": {
          "iopub.execute_input": "2021-12-13T11:07:53.778573Z",
          "iopub.status.busy": "2021-12-13T11:07:53.77645Z",
          "iopub.status.idle": "2021-12-13T11:07:53.785577Z",
          "shell.execute_reply": "2021-12-13T11:07:53.784799Z",
          "shell.execute_reply.started": "2021-12-13T11:07:53.77853Z"
        },
        "id": "ib584RVBrP4u",
        "outputId": "06a58277-03a1-40fe-a24b-ff1c97ecb811",
        "trusted": true
      },
      "outputs": [
        {
          "data": {
            "text/plain": [
              "True"
            ]
          },
          "execution_count": 39,
          "metadata": {},
          "output_type": "execute_result"
        }
      ],
      "source": [
        "\"name777\".isalnum()"
      ]
    },
    {
      "cell_type": "code",
      "execution_count": 40,
      "metadata": {
        "colab": {
          "base_uri": "https://localhost:8080/"
        },
        "execution": {
          "iopub.execute_input": "2021-12-13T11:08:16.523252Z",
          "iopub.status.busy": "2021-12-13T11:08:16.522815Z",
          "iopub.status.idle": "2021-12-13T11:08:16.528809Z",
          "shell.execute_reply": "2021-12-13T11:08:16.527918Z",
          "shell.execute_reply.started": "2021-12-13T11:08:16.523221Z"
        },
        "id": "nYARRCJ7rP4u",
        "outputId": "6635e05e-1712-4739-d361-5ab9e6c54784",
        "trusted": true
      },
      "outputs": [
        {
          "data": {
            "text/plain": [
              "False"
            ]
          },
          "execution_count": 40,
          "metadata": {},
          "output_type": "execute_result"
        }
      ],
      "source": [
        "string = 'Cloudy ML'\n",
        "string.isalpha()"
      ]
    },
    {
      "cell_type": "code",
      "execution_count": 41,
      "metadata": {
        "colab": {
          "base_uri": "https://localhost:8080/"
        },
        "execution": {
          "iopub.execute_input": "2021-12-13T11:08:23.657281Z",
          "iopub.status.busy": "2021-12-13T11:08:23.656846Z",
          "iopub.status.idle": "2021-12-13T11:08:23.662296Z",
          "shell.execute_reply": "2021-12-13T11:08:23.661419Z",
          "shell.execute_reply.started": "2021-12-13T11:08:23.657249Z"
        },
        "id": "YsjZDgA8rP4u",
        "outputId": "29da6d4b-6cf4-4093-9539-3db3469a5bd4",
        "trusted": true
      },
      "outputs": [
        {
          "data": {
            "text/plain": [
              "True"
            ]
          },
          "execution_count": 41,
          "metadata": {},
          "output_type": "execute_result"
        }
      ],
      "source": [
        "string = 'CloudyML'\n",
        "string.isalpha()"
      ]
    },
    {
      "cell_type": "code",
      "execution_count": 42,
      "metadata": {
        "colab": {
          "base_uri": "https://localhost:8080/",
          "height": 38
        },
        "execution": {
          "iopub.execute_input": "2021-12-13T11:08:59.303427Z",
          "iopub.status.busy": "2021-12-13T11:08:59.302982Z",
          "iopub.status.idle": "2021-12-13T11:08:59.310259Z",
          "shell.execute_reply": "2021-12-13T11:08:59.309168Z",
          "shell.execute_reply.started": "2021-12-13T11:08:59.303392Z"
        },
        "id": "SGBdMJeurP4u",
        "outputId": "53684928-4589-4c57-c4d1-8e5a5fdee906",
        "trusted": true
      },
      "outputs": [
        {
          "data": {
            "text/plain": [
              "'C++ is easy to learn'"
            ]
          },
          "execution_count": 42,
          "metadata": {},
          "output_type": "execute_result"
        }
      ],
      "source": [
        "str_ = \"C++ is easy to learn\"\n",
        "str_"
      ]
    },
    {
      "cell_type": "code",
      "execution_count": 43,
      "metadata": {
        "colab": {
          "base_uri": "https://localhost:8080/",
          "height": 38
        },
        "execution": {
          "iopub.execute_input": "2021-12-13T11:09:12.005822Z",
          "iopub.status.busy": "2021-12-13T11:09:12.005323Z",
          "iopub.status.idle": "2021-12-13T11:09:12.012082Z",
          "shell.execute_reply": "2021-12-13T11:09:12.011148Z",
          "shell.execute_reply.started": "2021-12-13T11:09:12.005782Z"
        },
        "id": "o3IMBWfqrP4u",
        "outputId": "d8ee05d3-46f4-4ace-ba07-1d373042c797",
        "trusted": true
      },
      "outputs": [
        {
          "data": {
            "text/plain": [
              "'Python is easy to learn'"
            ]
          },
          "execution_count": 43,
          "metadata": {},
          "output_type": "execute_result"
        }
      ],
      "source": [
        "### Replacing substrings ###\n",
        "str_.replace('C++', 'Python')"
      ]
    },
    {
      "cell_type": "code",
      "execution_count": 44,
      "metadata": {
        "colab": {
          "base_uri": "https://localhost:8080/"
        },
        "execution": {
          "iopub.execute_input": "2021-12-13T11:09:37.127736Z",
          "iopub.status.busy": "2021-12-13T11:09:37.127294Z",
          "iopub.status.idle": "2021-12-13T11:09:37.133848Z",
          "shell.execute_reply": "2021-12-13T11:09:37.133093Z",
          "shell.execute_reply.started": "2021-12-13T11:09:37.127695Z"
        },
        "id": "himKDrvcrP4u",
        "outputId": "16f98642-acfc-4073-d09e-8fbd71125740",
        "trusted": true
      },
      "outputs": [
        {
          "data": {
            "text/plain": [
              "['Python', 'is', 'easy', 'to', 'learn']"
            ]
          },
          "execution_count": 44,
          "metadata": {},
          "output_type": "execute_result"
        }
      ],
      "source": [
        "### using Split function ###\n",
        "'Python is easy to learn'.split()"
      ]
    },
    {
      "cell_type": "code",
      "execution_count": 45,
      "metadata": {
        "colab": {
          "base_uri": "https://localhost:8080/"
        },
        "execution": {
          "iopub.execute_input": "2021-12-13T11:09:45.285163Z",
          "iopub.status.busy": "2021-12-13T11:09:45.284668Z",
          "iopub.status.idle": "2021-12-13T11:09:45.291474Z",
          "shell.execute_reply": "2021-12-13T11:09:45.290548Z",
          "shell.execute_reply.started": "2021-12-13T11:09:45.285128Z"
        },
        "id": "cCDcaUzHrP4u",
        "outputId": "26c9046b-e3f3-41c5-ab4a-051bbf4bf5f5",
        "trusted": true
      },
      "outputs": [
        {
          "data": {
            "text/plain": [
              "['Python is ', ' to learn']"
            ]
          },
          "execution_count": 45,
          "metadata": {},
          "output_type": "execute_result"
        }
      ],
      "source": [
        "'Python is easy to learn'.split('easy')"
      ]
    },
    {
      "attachments": {},
      "cell_type": "markdown",
      "metadata": {
        "id": "1RMWovf4rP4u"
      },
      "source": [
        "<a id='14'></a><center> <h3 style=\"background-color:orange; color:white\" ><br>Functions<br></h3>"
      ]
    },
    {
      "attachments": {},
      "cell_type": "markdown",
      "metadata": {
        "id": "7w6F0GNErP4v"
      },
      "source": [
        "* `Purpose of functions is to group some particular lines of code that needs to be executed multiple times`\n",
        "    * keyword `def` introduces a function definition and it must be followed by function name\n",
        "* Function is Reusable piece of code\n",
        "* We create function to solve specific problem"
      ]
    },
    {
      "cell_type": "code",
      "execution_count": 219,
      "metadata": {
        "colab": {
          "base_uri": "https://localhost:8080/",
          "height": 38
        },
        "execution": {
          "iopub.execute_input": "2021-12-14T10:18:36.097257Z",
          "iopub.status.busy": "2021-12-14T10:18:36.096956Z",
          "iopub.status.idle": "2021-12-14T10:18:36.102958Z",
          "shell.execute_reply": "2021-12-14T10:18:36.102283Z",
          "shell.execute_reply.started": "2021-12-14T10:18:36.097225Z"
        },
        "id": "4jqkxfNdrP4z",
        "outputId": "a232eae4-3829-4a38-cb4f-bc0e36d3ecf2",
        "trusted": true
      },
      "outputs": [
        {
          "data": {
            "text/plain": [
              "'\\ndef function_name():\\n    stetement(s)\\n'"
            ]
          },
          "execution_count": 219,
          "metadata": {},
          "output_type": "execute_result"
        }
      ],
      "source": [
        "\"\"\"\n",
        "def function_name():\n",
        "    stetement(s)\n",
        "\"\"\""
      ]
    },
    {
      "cell_type": "code",
      "execution_count": 60,
      "metadata": {
        "execution": {
          "iopub.execute_input": "2021-12-14T10:41:22.778938Z",
          "iopub.status.busy": "2021-12-14T10:41:22.778217Z",
          "iopub.status.idle": "2021-12-14T10:41:22.783295Z",
          "shell.execute_reply": "2021-12-14T10:41:22.782386Z",
          "shell.execute_reply.started": "2021-12-14T10:41:22.778903Z"
        },
        "id": "L8OCfOyPrP4z",
        "trusted": true
      },
      "outputs": [],
      "source": [
        "# define a function\n",
        "def welcome_message(name):\n",
        "\n",
        "    \"\"\"\n",
        "    This is to represent docstring, \n",
        "    optionsl documentation is a good \n",
        "    programming practice\n",
        "    \"\"\"\n",
        "    return ('Welcome to Python !! {}'.format(name))\n",
        " "
      ]
    },
    {
      "cell_type": "code",
      "execution_count": 2,
      "metadata": {
        "colab": {
          "base_uri": "https://localhost:8080/"
        },
        "execution": {
          "iopub.execute_input": "2021-12-14T10:41:28.898798Z",
          "iopub.status.busy": "2021-12-14T10:41:28.89826Z",
          "iopub.status.idle": "2021-12-14T10:41:28.902844Z",
          "shell.execute_reply": "2021-12-14T10:41:28.902223Z",
          "shell.execute_reply.started": "2021-12-14T10:41:28.898763Z"
        },
        "id": "asBr2ewErP4z",
        "outputId": "b9c9380d-f45e-4d68-8099-a0c72f40f180",
        "trusted": true
      },
      "outputs": [
        {
          "data": {
            "text/plain": [
              "'Welcome to Python !! Mukesh'"
            ]
          },
          "execution_count": 2,
          "metadata": {},
          "output_type": "execute_result"
        }
      ],
      "source": [
        "# call a function with Mukesh and input\n",
        "welcome_message(\"Mukesh\")"
      ]
    },
    {
      "cell_type": "code",
      "execution_count": 61,
      "metadata": {
        "colab": {
          "base_uri": "https://localhost:8080/"
        },
        "execution": {
          "iopub.execute_input": "2021-12-14T10:42:10.098566Z",
          "iopub.status.busy": "2021-12-14T10:42:10.098273Z",
          "iopub.status.idle": "2021-12-14T10:42:10.103854Z",
          "shell.execute_reply": "2021-12-14T10:42:10.103098Z",
          "shell.execute_reply.started": "2021-12-14T10:42:10.098536Z"
        },
        "id": "EaWRKsE6rP4z",
        "outputId": "fba1ff87-2ea8-4baa-bb3a-d6d42cbfe1cc",
        "trusted": true
      },
      "outputs": [
        {
          "name": "stdout",
          "output_type": "stream",
          "text": [
            "\n",
            "    This is to represent docstring, \n",
            "    optionsl documentation is a good \n",
            "    programming practice\n",
            "    \n"
          ]
        }
      ],
      "source": [
        "#obseve the output\n",
        "print(welcome_message.__doc__)"
      ]
    },
    {
      "cell_type": "code",
      "execution_count": 62,
      "metadata": {
        "colab": {
          "base_uri": "https://localhost:8080/"
        },
        "execution": {
          "iopub.execute_input": "2021-12-14T10:43:46.234449Z",
          "iopub.status.busy": "2021-12-14T10:43:46.233989Z",
          "iopub.status.idle": "2021-12-14T10:43:46.238798Z",
          "shell.execute_reply": "2021-12-14T10:43:46.237995Z",
          "shell.execute_reply.started": "2021-12-14T10:43:46.234401Z"
        },
        "id": "Ht8XXDzfrP4z",
        "outputId": "422f09c7-a4e7-4e79-969a-7e0c67c5e725",
        "trusted": true
      },
      "outputs": [
        {
          "name": "stdout",
          "output_type": "stream",
          "text": [
            "Prints the values to a stream, or to sys.stdout by default.\n",
            "\n",
            "  sep\n",
            "    string inserted between values, default a space.\n",
            "  end\n",
            "    string appended after the last value, default a newline.\n",
            "  file\n",
            "    a file-like object (stream); defaults to the current sys.stdout.\n",
            "  flush\n",
            "    whether to forcibly flush the stream.\n"
          ]
        }
      ],
      "source": [
        "#obseve the output\n",
        "print(print.__doc__)"
      ]
    },
    {
      "attachments": {},
      "cell_type": "markdown",
      "metadata": {
        "id": "YKfp2X2irP4z"
      },
      "source": [
        "* `def` Keyword marking start of function\n",
        "* `function name` to uniquely identify function\n",
        "    * `function naming` follows same `rules of writing identifiers`\n",
        "* `parameters`(arguments) to pass values to a function => totally optional\n",
        "* `()` paranthesis\n",
        "* `colon (:)` start of function\n",
        "* `documentation string`(docstring) describe's what function does => totally optional\n",
        "* `return statement` returns a value from function => totally optional\n",
        "* inside colon is `function definition` it should always be present before function call or get an error"
      ]
    },
    {
      "attachments": {},
      "cell_type": "markdown",
      "metadata": {
        "id": "hpC8Bl5arP4z"
      },
      "source": [
        "# `Type of Functions`\n",
        "|Built-in|User-Defined|Lambda Functions|Recursion Function\n",
        "|----|----|---|---|\n",
        "|`print()` | `add_two_number(defined by user i.e. you)`|``|``|\n",
        "|`range()` | ``|``|``|\n",
        "| `append()`|`` |``|``|\n",
        "| `extend()`|`` |``|``|"
      ]
    },
    {
      "cell_type": "code",
      "execution_count": 213,
      "metadata": {
        "execution": {
          "iopub.execute_input": "2021-12-14T10:46:10.134296Z",
          "iopub.status.busy": "2021-12-14T10:46:10.133283Z",
          "iopub.status.idle": "2021-12-14T10:46:10.138594Z",
          "shell.execute_reply": "2021-12-14T10:46:10.137987Z",
          "shell.execute_reply.started": "2021-12-14T10:46:10.134236Z"
        },
        "id": "TbWL-gm-rP4z",
        "trusted": true
      },
      "outputs": [],
      "source": [
        "### using print ###\n",
        "# function to add two number which are as 3 and 4\n",
        "def two_number_addition():\n",
        "    total=3+4\n",
        "    print(total)"
      ]
    },
    {
      "cell_type": "code",
      "execution_count": 214,
      "metadata": {
        "execution": {
          "iopub.execute_input": "2021-12-14T10:46:07.389537Z",
          "iopub.status.busy": "2021-12-14T10:46:07.38924Z",
          "iopub.status.idle": "2021-12-14T10:46:07.394356Z",
          "shell.execute_reply": "2021-12-14T10:46:07.393771Z",
          "shell.execute_reply.started": "2021-12-14T10:46:07.389508Z"
        },
        "id": "4a3G3_cDrP40",
        "trusted": true
      },
      "outputs": [
        {
          "name": "stdout",
          "output_type": "stream",
          "text": [
            "7\n"
          ]
        }
      ],
      "source": [
        "### using return ###\n",
        "def two_number_addition_with_return():\n",
        "    total = 3 + 4\n",
        "    return (total) #returning value of total\n",
        "\n",
        "\n",
        "# observe output\n",
        "print(two_number_addition_with_return())"
      ]
    },
    {
      "cell_type": "code",
      "execution_count": 215,
      "metadata": {
        "colab": {
          "base_uri": "https://localhost:8080/"
        },
        "execution": {
          "iopub.execute_input": "2021-12-14T10:46:33.509914Z",
          "iopub.status.busy": "2021-12-14T10:46:33.509633Z",
          "iopub.status.idle": "2021-12-14T10:46:33.515225Z",
          "shell.execute_reply": "2021-12-14T10:46:33.514366Z",
          "shell.execute_reply.started": "2021-12-14T10:46:33.509886Z"
        },
        "id": "hrVwYigOrP40",
        "outputId": "420d99cf-0b09-4197-b300-43bf9c7551a4",
        "trusted": true
      },
      "outputs": [
        {
          "name": "stdout",
          "output_type": "stream",
          "text": [
            "7\n"
          ]
        }
      ],
      "source": [
        "print_output = two_number_addition()"
      ]
    },
    {
      "cell_type": "code",
      "execution_count": 216,
      "metadata": {
        "execution": {
          "iopub.execute_input": "2021-12-14T10:46:48.459242Z",
          "iopub.status.busy": "2021-12-14T10:46:48.458961Z",
          "iopub.status.idle": "2021-12-14T10:46:48.463459Z",
          "shell.execute_reply": "2021-12-14T10:46:48.462708Z",
          "shell.execute_reply.started": "2021-12-14T10:46:48.459212Z"
        },
        "id": "1I6kqwXcrP40",
        "trusted": true
      },
      "outputs": [],
      "source": [
        "# see this variable cannot store above value as value was not saved\n",
        "print_output"
      ]
    },
    {
      "attachments": {},
      "cell_type": "markdown",
      "metadata": {
        "id": "SHvIgCE6rP40"
      },
      "source": [
        "See above variable cannot store above value as return was not used in fucntion, so every calculation is being done inside the function two_number_addition() and if you come out of function thouse value do not exist, to solv this problem we use `return`, after using return we can store output of function for other use in our program"
      ]
    },
    {
      "cell_type": "code",
      "execution_count": 217,
      "metadata": {
        "execution": {
          "iopub.execute_input": "2021-12-14T10:47:38.817507Z",
          "iopub.status.busy": "2021-12-14T10:47:38.817248Z",
          "iopub.status.idle": "2021-12-14T10:47:38.82225Z",
          "shell.execute_reply": "2021-12-14T10:47:38.821109Z",
          "shell.execute_reply.started": "2021-12-14T10:47:38.817481Z"
        },
        "id": "-fBWnS8-rP40",
        "trusted": true
      },
      "outputs": [],
      "source": [
        "return_output = two_number_addition_with_return()"
      ]
    },
    {
      "cell_type": "code",
      "execution_count": 218,
      "metadata": {
        "colab": {
          "base_uri": "https://localhost:8080/"
        },
        "execution": {
          "iopub.execute_input": "2021-12-14T10:47:43.959868Z",
          "iopub.status.busy": "2021-12-14T10:47:43.959551Z",
          "iopub.status.idle": "2021-12-14T10:47:43.966393Z",
          "shell.execute_reply": "2021-12-14T10:47:43.965352Z",
          "shell.execute_reply.started": "2021-12-14T10:47:43.959839Z"
        },
        "id": "LbZu9vBprP40",
        "outputId": "0c5605be-c1de-4729-d138-06f88e793834",
        "trusted": true
      },
      "outputs": [
        {
          "data": {
            "text/plain": [
              "7"
            ]
          },
          "execution_count": 218,
          "metadata": {},
          "output_type": "execute_result"
        }
      ],
      "source": [
        "# as return was used in two_number_addition_with_return() function so we can take out value \n",
        "return_output"
      ]
    },
    {
      "attachments": {},
      "cell_type": "markdown",
      "metadata": {
        "id": "qy_mlgUorP40"
      },
      "source": [
        "Here in above code value to funtion is being returned and we are saving that returned value to a variable return_output for maybee any other further use. "
      ]
    },
    {
      "attachments": {},
      "cell_type": "markdown",
      "metadata": {
        "id": "06kIfiPsrP40"
      },
      "source": [
        "# **`Passing Parameters to function`**"
      ]
    },
    {
      "cell_type": "code",
      "execution_count": 210,
      "metadata": {
        "colab": {
          "base_uri": "https://localhost:8080/",
          "height": 38
        },
        "execution": {
          "iopub.execute_input": "2021-12-11T10:14:43.448529Z",
          "iopub.status.busy": "2021-12-11T10:14:43.448272Z",
          "iopub.status.idle": "2021-12-11T10:14:43.453987Z",
          "shell.execute_reply": "2021-12-11T10:14:43.453125Z",
          "shell.execute_reply.started": "2021-12-11T10:14:43.448498Z"
        },
        "id": "5AnZuBkLrP40",
        "outputId": "1430d666-8e22-41b1-d60b-3a260daaf0b9",
        "trusted": true
      },
      "outputs": [
        {
          "data": {
            "text/plain": [
              "'Welcome to Python Funcions!! Akash'"
            ]
          },
          "execution_count": 210,
          "metadata": {},
          "output_type": "execute_result"
        }
      ],
      "source": [
        "# defining a function\n",
        "def welcome_message(name):\n",
        "    return 'Welcome to Python Funcions!! ' + name\n",
        "    \n",
        "# calling function in python with name Akash\n",
        "welcome_message('Akash')"
      ]
    },
    {
      "cell_type": "code",
      "execution_count": 209,
      "metadata": {
        "colab": {
          "base_uri": "https://localhost:8080/",
          "height": 38
        },
        "execution": {
          "iopub.execute_input": "2021-12-11T10:15:25.291791Z",
          "iopub.status.busy": "2021-12-11T10:15:25.291359Z",
          "iopub.status.idle": "2021-12-11T10:15:25.297224Z",
          "shell.execute_reply": "2021-12-11T10:15:25.296648Z",
          "shell.execute_reply.started": "2021-12-11T10:15:25.291745Z"
        },
        "id": "QWOG3EOBrP40",
        "outputId": "2e2f0810-6e54-4886-d0ae-575ba128c156",
        "trusted": true
      },
      "outputs": [
        {
          "data": {
            "text/plain": [
              "'Welcome to Python Funcions!! Krishna'"
            ]
          },
          "execution_count": 209,
          "metadata": {},
          "output_type": "execute_result"
        }
      ],
      "source": [
        "# reusing above function (see it as a login windo of a website)\n",
        "welcome_message('Krishna')"
      ]
    },
    {
      "attachments": {},
      "cell_type": "markdown",
      "metadata": {
        "id": "TI0CMNN3rP41"
      },
      "source": [
        "# ***`Passing Default Parameter value to function`*** <br>\n",
        "Works in case you dont provide any value to the required parameter\n",
        "* This is good practice to provide default value to a parameter\n",
        "    * As it reduces many errors"
      ]
    },
    {
      "cell_type": "code",
      "execution_count": 206,
      "metadata": {
        "colab": {
          "base_uri": "https://localhost:8080/",
          "height": 38
        },
        "execution": {
          "iopub.execute_input": "2021-12-11T10:18:28.863195Z",
          "iopub.status.busy": "2021-12-11T10:18:28.862638Z",
          "iopub.status.idle": "2021-12-11T10:18:28.869209Z",
          "shell.execute_reply": "2021-12-11T10:18:28.868493Z",
          "shell.execute_reply.started": "2021-12-11T10:18:28.863152Z"
        },
        "id": "nSw9ggNCrP41",
        "outputId": "b169d7cc-12b9-4baf-d844-f56e1891068c",
        "trusted": true
      },
      "outputs": [
        {
          "data": {
            "text/plain": [
              "'Welcome to Python Funcions!! Akash'"
            ]
          },
          "execution_count": 206,
          "metadata": {},
          "output_type": "execute_result"
        }
      ],
      "source": [
        "def welcome_message(name='Learner'):\n",
        "    return 'Welcome to Python Funcions!! ' + name\n",
        "    \n",
        "# calling function in python\n",
        "welcome_message('Akash')"
      ]
    },
    {
      "cell_type": "code",
      "execution_count": 207,
      "metadata": {
        "colab": {
          "base_uri": "https://localhost:8080/",
          "height": 38
        },
        "execution": {
          "iopub.execute_input": "2021-12-11T10:19:14.334172Z",
          "iopub.status.busy": "2021-12-11T10:19:14.333861Z",
          "iopub.status.idle": "2021-12-11T10:19:14.34035Z",
          "shell.execute_reply": "2021-12-11T10:19:14.339723Z",
          "shell.execute_reply.started": "2021-12-11T10:19:14.334138Z"
        },
        "id": "JPOpKKy5rP41",
        "outputId": "53e0ae06-5bad-4782-decb-98f0a6b3018c",
        "trusted": true
      },
      "outputs": [
        {
          "data": {
            "text/plain": [
              "'Welcome to Python Funcions!! Learner'"
            ]
          },
          "execution_count": 207,
          "metadata": {},
          "output_type": "execute_result"
        }
      ],
      "source": [
        "# not providing parameter value, now it will take default one i.e. Learner\n",
        "welcome_message()"
      ]
    },
    {
      "attachments": {},
      "cell_type": "markdown",
      "metadata": {
        "id": "JzTJaFZirP41"
      },
      "source": [
        "# ***`Positional Arguments`*** \n",
        "Most arguments are identified by their position in function call\n",
        "* Say `print(x,y)` will give different results from `print(y,x)`\n",
        "\n",
        "What ever sequence is given while defining a function values must be taken in that sequence only\n",
        "* Otherwise use argument name **`(keyword arguments)`** to take values\n",
        "* We first define `positional argument` and then `keyword arguments`\n"
      ]
    },
    {
      "cell_type": "code",
      "execution_count": 199,
      "metadata": {
        "execution": {
          "iopub.execute_input": "2021-12-11T10:24:26.570469Z",
          "iopub.status.busy": "2021-12-11T10:24:26.570183Z",
          "iopub.status.idle": "2021-12-11T10:24:26.574882Z",
          "shell.execute_reply": "2021-12-11T10:24:26.574072Z",
          "shell.execute_reply.started": "2021-12-11T10:24:26.570434Z"
        },
        "id": "LpgDIWcYrP41",
        "trusted": true
      },
      "outputs": [],
      "source": [
        "#### Observe every output from here onwords #####\n",
        "\n",
        "def substraction_function(small_number,large_number):\n",
        "    difference = large_number - small_number\n",
        "    return difference"
      ]
    },
    {
      "cell_type": "code",
      "execution_count": 200,
      "metadata": {
        "colab": {
          "base_uri": "https://localhost:8080/"
        },
        "execution": {
          "iopub.execute_input": "2021-12-11T10:26:55.88569Z",
          "iopub.status.busy": "2021-12-11T10:26:55.88516Z",
          "iopub.status.idle": "2021-12-11T10:26:55.890293Z",
          "shell.execute_reply": "2021-12-11T10:26:55.889589Z",
          "shell.execute_reply.started": "2021-12-11T10:26:55.885652Z"
        },
        "id": "AX6Ku1j9rP41",
        "outputId": "06533fff-deb9-4d44-b464-7b5969d061af",
        "trusted": true
      },
      "outputs": [
        {
          "data": {
            "text/plain": [
              "77"
            ]
          },
          "execution_count": 200,
          "metadata": {},
          "output_type": "execute_result"
        }
      ],
      "source": [
        "# passing arguments in right order\n",
        "substraction_function(7,84)"
      ]
    },
    {
      "cell_type": "code",
      "execution_count": 201,
      "metadata": {
        "colab": {
          "base_uri": "https://localhost:8080/"
        },
        "execution": {
          "iopub.execute_input": "2021-12-11T10:27:15.453063Z",
          "iopub.status.busy": "2021-12-11T10:27:15.452368Z",
          "iopub.status.idle": "2021-12-11T10:27:15.458033Z",
          "shell.execute_reply": "2021-12-11T10:27:15.457478Z",
          "shell.execute_reply.started": "2021-12-11T10:27:15.453022Z"
        },
        "id": "9Vzlfk4frP41",
        "outputId": "00c56386-15a8-404e-e643-e2aa6e1f2aa8",
        "trusted": true
      },
      "outputs": [
        {
          "data": {
            "text/plain": [
              "-77"
            ]
          },
          "execution_count": 201,
          "metadata": {},
          "output_type": "execute_result"
        }
      ],
      "source": [
        "# passing arguments in wrong order (produces negative result)\n",
        "substraction_function(84,7)"
      ]
    },
    {
      "cell_type": "code",
      "execution_count": 202,
      "metadata": {
        "colab": {
          "base_uri": "https://localhost:8080/"
        },
        "execution": {
          "iopub.execute_input": "2021-12-11T10:27:51.964287Z",
          "iopub.status.busy": "2021-12-11T10:27:51.963803Z",
          "iopub.status.idle": "2021-12-11T10:27:51.969195Z",
          "shell.execute_reply": "2021-12-11T10:27:51.968619Z",
          "shell.execute_reply.started": "2021-12-11T10:27:51.964251Z"
        },
        "id": "zSWT96GurP41",
        "outputId": "a3f76fb0-3f28-416a-dc4a-394e58e18c6d",
        "trusted": true
      },
      "outputs": [
        {
          "data": {
            "text/plain": [
              "77"
            ]
          },
          "execution_count": 202,
          "metadata": {},
          "output_type": "execute_result"
        }
      ],
      "source": [
        "# always pass arguments using there name(keyword arguments) then order does not matter\n",
        "substraction_function(large_number=84,small_number=7)"
      ]
    },
    {
      "cell_type": "code",
      "execution_count": 203,
      "metadata": {
        "colab": {
          "base_uri": "https://localhost:8080/"
        },
        "execution": {
          "iopub.execute_input": "2021-12-11T10:39:36.008176Z",
          "iopub.status.busy": "2021-12-11T10:39:36.00778Z",
          "iopub.status.idle": "2021-12-11T10:39:36.01423Z",
          "shell.execute_reply": "2021-12-11T10:39:36.013192Z",
          "shell.execute_reply.started": "2021-12-11T10:39:36.008129Z"
        },
        "id": "fkwtjVwGrP41",
        "outputId": "b56a9cc8-b9f1-4155-be07-a9e1f6add51c",
        "trusted": true
      },
      "outputs": [
        {
          "data": {
            "text/plain": [
              "77"
            ]
          },
          "execution_count": 203,
          "metadata": {},
          "output_type": "execute_result"
        }
      ],
      "source": [
        "# defining positional argument and then keyword arguments => valid in python\n",
        "substraction_function(7,large_number=84)"
      ]
    },
    {
      "cell_type": "code",
      "execution_count": 205,
      "metadata": {
        "colab": {
          "base_uri": "https://localhost:8080/",
          "height": 131
        },
        "execution": {
          "iopub.execute_input": "2021-12-11T10:40:23.885814Z",
          "iopub.status.busy": "2021-12-11T10:40:23.884999Z",
          "iopub.status.idle": "2021-12-11T10:40:23.891881Z",
          "shell.execute_reply": "2021-12-11T10:40:23.890735Z",
          "shell.execute_reply.started": "2021-12-11T10:40:23.885757Z"
        },
        "id": "Or_Jf_6KrP41",
        "outputId": "b96cb9e9-4bfe-4542-e6c1-a8b50a568126",
        "trusted": true
      },
      "outputs": [
        {
          "data": {
            "text/plain": [
              "77"
            ]
          },
          "execution_count": 205,
          "metadata": {},
          "output_type": "execute_result"
        }
      ],
      "source": [
        "# defining keyword arguments and then positional argument => not vaid in python\n",
        "substraction_function(large_number=84,7)"
      ]
    },
    {
      "attachments": {},
      "cell_type": "markdown",
      "metadata": {
        "id": "Y5UrdLZlrP41"
      },
      "source": [
        "# ***`Variable Length Arguments`***\n",
        "Used when we need more flexibility while defining functions like we don't know in advance fixed number of arguments\n",
        "* Python allows us to make function calls with variable length arguments\n",
        "* In argument use an **(*)** astrick sign before argument"
      ]
    },
    {
      "cell_type": "code",
      "execution_count": 195,
      "metadata": {
        "execution": {
          "iopub.execute_input": "2021-12-11T10:54:19.850114Z",
          "iopub.status.busy": "2021-12-11T10:54:19.849737Z",
          "iopub.status.idle": "2021-12-11T10:54:19.853423Z",
          "shell.execute_reply": "2021-12-11T10:54:19.852892Z",
          "shell.execute_reply.started": "2021-12-11T10:54:19.850085Z"
        },
        "id": "6-Sm8XtorP42",
        "trusted": true
      },
      "outputs": [],
      "source": [
        "##### Observe code from here ######\n",
        "\n",
        "# defining a randome function using (*args)\n",
        "def arguments_function(*args):  # => used for positional arguments will variable lengths\n",
        "    for i in args:\n",
        "        print(i)"
      ]
    },
    {
      "cell_type": "code",
      "execution_count": 196,
      "metadata": {
        "colab": {
          "base_uri": "https://localhost:8080/"
        },
        "execution": {
          "iopub.execute_input": "2021-12-11T10:54:20.094689Z",
          "iopub.status.busy": "2021-12-11T10:54:20.094285Z",
          "iopub.status.idle": "2021-12-11T10:54:20.099439Z",
          "shell.execute_reply": "2021-12-11T10:54:20.098625Z",
          "shell.execute_reply.started": "2021-12-11T10:54:20.094658Z"
        },
        "id": "aGg6U4SCrP42",
        "outputId": "c2e76a77-6f7b-4c4a-ca72-82a7abe09a6d",
        "trusted": true
      },
      "outputs": [
        {
          "name": "stdout",
          "output_type": "stream",
          "text": [
            "1\n",
            "2\n",
            "3\n",
            "4\n",
            "5\n"
          ]
        }
      ],
      "source": [
        "# passing n-number of positional arguments to fucntion as we are using (*args)\n",
        "arguments_function(1,2,3,4,5)"
      ]
    },
    {
      "attachments": {},
      "cell_type": "markdown",
      "metadata": {
        "id": "yKxx6-FIrP42"
      },
      "source": [
        "* Everything given to function if it is using *args, arguments will be saved as `tuples`"
      ]
    },
    {
      "cell_type": "code",
      "execution_count": 197,
      "metadata": {
        "execution": {
          "iopub.execute_input": "2021-12-11T10:52:56.976171Z",
          "iopub.status.busy": "2021-12-11T10:52:56.975291Z",
          "iopub.status.idle": "2021-12-11T10:52:56.980446Z",
          "shell.execute_reply": "2021-12-11T10:52:56.979797Z",
          "shell.execute_reply.started": "2021-12-11T10:52:56.976118Z"
        },
        "id": "qE5Zn3ZnrP42",
        "trusted": true
      },
      "outputs": [],
      "source": [
        "#### Observe every output from here onwords #####\n",
        "# defining a randome function using (**kwargs)\n",
        "\n",
        "def keyword_arguments_function(**kwargs): # => used for keyword arguments will variable lengths\n",
        "    for key,value in kwargs.items():\n",
        "        print(key,value)"
      ]
    },
    {
      "cell_type": "code",
      "execution_count": 198,
      "metadata": {
        "colab": {
          "base_uri": "https://localhost:8080/"
        },
        "execution": {
          "iopub.execute_input": "2021-12-11T10:54:10.89681Z",
          "iopub.status.busy": "2021-12-11T10:54:10.896266Z",
          "iopub.status.idle": "2021-12-11T10:54:10.902543Z",
          "shell.execute_reply": "2021-12-11T10:54:10.90162Z",
          "shell.execute_reply.started": "2021-12-11T10:54:10.896756Z"
        },
        "id": "m-EYKFbvrP42",
        "outputId": "d5f41f1b-c7f3-45aa-8fab-cc4586a88c1e",
        "trusted": true
      },
      "outputs": [
        {
          "name": "stdout",
          "output_type": "stream",
          "text": [
            "a 1\n",
            "b 2\n",
            "c 3\n",
            "d 4\n",
            "e 5\n"
          ]
        }
      ],
      "source": [
        "# passing n-number of keyword arguments to fucntion as we are using (*args)\n",
        "keyword_arguments_function(a=1,b=2,c=3,d=4,e=5)"
      ]
    },
    {
      "attachments": {},
      "cell_type": "markdown",
      "metadata": {
        "id": "ACo85WuXrP42"
      },
      "source": [
        "* Everything given to function if it is using *kwargs, arguments will be saved as `dict`"
      ]
    },
    {
      "attachments": {},
      "cell_type": "markdown",
      "metadata": {
        "id": "_NUdf1OsrP42"
      },
      "source": [
        "# ***`Scope of Variables`*** means that part of program where we can access particular variable\n",
        "* `Local Variable` => variables defined inside a function and can be only accessed from inside of that particular function\n",
        "* `Global Variable` => variables defined outside a function and can be accessed throughout program\n",
        "\n",
        "Let's define a global variable, `\"global_variable\"` outside function\n",
        "* We will return its value using a function `\"randome_function\"` and see that we would be able to access its value using that function also"
      ]
    },
    {
      "cell_type": "code",
      "execution_count": 193,
      "metadata": {
        "execution": {
          "iopub.execute_input": "2021-12-11T11:00:38.758741Z",
          "iopub.status.busy": "2021-12-11T11:00:38.758474Z",
          "iopub.status.idle": "2021-12-11T11:00:38.762182Z",
          "shell.execute_reply": "2021-12-11T11:00:38.761618Z",
          "shell.execute_reply.started": "2021-12-11T11:00:38.758716Z"
        },
        "id": "e0BDQ-ccrP42",
        "trusted": true
      },
      "outputs": [],
      "source": [
        "#### Observe every output from here onwords #####\n",
        "# defining a global variable\n",
        "global_variable = 'variable outside of function'\n",
        "\n",
        "# defining function\n",
        "def random_function():\n",
        "    # accessing variable which is outside of this function\n",
        "    return global_variable"
      ]
    },
    {
      "cell_type": "code",
      "execution_count": 194,
      "metadata": {
        "colab": {
          "base_uri": "https://localhost:8080/",
          "height": 38
        },
        "execution": {
          "iopub.execute_input": "2021-12-11T11:00:58.33357Z",
          "iopub.status.busy": "2021-12-11T11:00:58.33313Z",
          "iopub.status.idle": "2021-12-11T11:00:58.337597Z",
          "shell.execute_reply": "2021-12-11T11:00:58.337038Z",
          "shell.execute_reply.started": "2021-12-11T11:00:58.333513Z"
        },
        "id": "2hYmUr5BrP42",
        "outputId": "409967fa-7156-418e-c19d-4b9eec029fd9",
        "trusted": true
      },
      "outputs": [
        {
          "data": {
            "text/plain": [
              "'variable outside of function'"
            ]
          },
          "execution_count": 194,
          "metadata": {},
          "output_type": "execute_result"
        }
      ],
      "source": [
        "random_function()"
      ]
    },
    {
      "attachments": {},
      "cell_type": "markdown",
      "metadata": {
        "id": "w7AB55isrP42"
      },
      "source": [
        "`See we can acess the data of golbal variable from Inside of the Function`\n",
        "\n",
        "# **`=> Let's see what will happen if we try to change value of global variable from Inside of the Function`**"
      ]
    },
    {
      "cell_type": "code",
      "execution_count": 191,
      "metadata": {
        "execution": {
          "iopub.execute_input": "2021-12-11T11:08:27.657115Z",
          "iopub.status.busy": "2021-12-11T11:08:27.656836Z",
          "iopub.status.idle": "2021-12-11T11:08:27.661916Z",
          "shell.execute_reply": "2021-12-11T11:08:27.661004Z",
          "shell.execute_reply.started": "2021-12-11T11:08:27.657086Z"
        },
        "id": "1cOFox6FrP43",
        "trusted": true
      },
      "outputs": [],
      "source": [
        "#### Observe every output from here onwords #####\n",
        "# defining a global variable\n",
        "global_variable = 'variable outside of function'\n",
        "\n",
        "# defining function\n",
        "def random_function():\n",
        "    # changing value of global variable from inside of the function\n",
        "    global_variable = 'changing variable outside of function from inside of function'\n",
        "    # accessing variable which is outside of this function\n",
        "    return global_variable"
      ]
    },
    {
      "cell_type": "code",
      "execution_count": 192,
      "metadata": {
        "colab": {
          "base_uri": "https://localhost:8080/"
        },
        "execution": {
          "iopub.execute_input": "2021-12-11T11:32:36.29647Z",
          "iopub.status.busy": "2021-12-11T11:32:36.296167Z",
          "iopub.status.idle": "2021-12-11T11:32:36.300653Z",
          "shell.execute_reply": "2021-12-11T11:32:36.30002Z",
          "shell.execute_reply.started": "2021-12-11T11:32:36.29644Z"
        },
        "id": "8ScwL6OUrP43",
        "outputId": "e26b52e1-1627-493b-b808-64c656e91562",
        "trusted": true
      },
      "outputs": [
        {
          "name": "stdout",
          "output_type": "stream",
          "text": [
            "changing variable outside of function from inside of function\n",
            "variable outside of function\n"
          ]
        }
      ],
      "source": [
        "print(random_function())\n",
        "print(global_variable)"
      ]
    },
    {
      "attachments": {},
      "cell_type": "markdown",
      "metadata": {
        "id": "ePWwQg-ErP43"
      },
      "source": [
        "It does not mean that we can change global variable from inside the function but this is somthing different story going on here:\n",
        "* function named as random_function()'s, global_variable have limited scope which is only of inside its function, that is why when we print function it returns the local variable value not the changed global variable value \n",
        "* variable defined locally is taking precedence over variable defined globally as there name are same\n",
        "\n",
        "The only shortcomming with local variable is it stayes inside the function, the minute you come out of function you dont get the updated value <br>\n",
        "So in above code we are not abble to change global variable locally, but we have made a new variable which is only working inside of the function. <br>\n",
        "Approach we shoudl follow is given bellow:"
      ]
    },
    {
      "attachments": {},
      "cell_type": "markdown",
      "metadata": {
        "id": "ySj5UsYdrP43"
      },
      "source": [
        "# **`Updating value of global variable from inside of any user_defined function using  Global Keyword`** <br>\n",
        "`global` keyword tells program that there is no need to make a new variable locally but the variable we are using locally is a global variable, which has benn defined"
      ]
    },
    {
      "cell_type": "code",
      "execution_count": 189,
      "metadata": {
        "execution": {
          "iopub.execute_input": "2021-12-11T11:44:42.576513Z",
          "iopub.status.busy": "2021-12-11T11:44:42.576243Z",
          "iopub.status.idle": "2021-12-11T11:44:42.58185Z",
          "shell.execute_reply": "2021-12-11T11:44:42.580668Z",
          "shell.execute_reply.started": "2021-12-11T11:44:42.57648Z"
        },
        "id": "mGro89w7rP43",
        "trusted": true
      },
      "outputs": [],
      "source": [
        "#### Observe every output from here onwords #####\n",
        "# defining a global variable\n",
        "global_variable = 'variable outside of function'\n",
        "\n",
        "# defining function\n",
        "def random_function():\n",
        "    # telling function which variables is/are global\n",
        "    global global_variable\n",
        "    # changing value of global variable from inside of the function\n",
        "    global_variable = 'changing variable outside of function from inside of function'\n",
        "    # accessing variable which is outside of this function\n",
        "    return global_variable"
      ]
    },
    {
      "cell_type": "code",
      "execution_count": 190,
      "metadata": {
        "colab": {
          "base_uri": "https://localhost:8080/"
        },
        "execution": {
          "iopub.execute_input": "2021-12-11T11:44:50.853721Z",
          "iopub.status.busy": "2021-12-11T11:44:50.853448Z",
          "iopub.status.idle": "2021-12-11T11:44:50.858786Z",
          "shell.execute_reply": "2021-12-11T11:44:50.857754Z",
          "shell.execute_reply.started": "2021-12-11T11:44:50.853693Z"
        },
        "id": "kE3EOtIfrP43",
        "outputId": "858886a5-5952-4abd-9a1b-3393a8b927fb",
        "trusted": true
      },
      "outputs": [
        {
          "name": "stdout",
          "output_type": "stream",
          "text": [
            "changing variable outside of function from inside of function\n",
            "changing variable outside of function from inside of function\n"
          ]
        }
      ],
      "source": [
        "print(random_function())\n",
        "print(global_variable)"
      ]
    },
    {
      "attachments": {},
      "cell_type": "markdown",
      "metadata": {
        "id": "rcFgfqTwrP43"
      },
      "source": [
        "<a id='15'></a><center> <h3 style=\"background-color:orange; color:white\" ><br>Lambda Expressions<br></h3>"
      ]
    },
    {
      "attachments": {},
      "cell_type": "markdown",
      "metadata": {
        "id": "WEq89rm1rP43"
      },
      "source": [
        "`Lambda function can have any number of arguments but only one expression, which is evaluated and returned`\n",
        "* `Lambda Functions` are syntactically restricted to a single expression\n",
        "* More efficient than function when task of  function is small\n",
        "* Do not use Lambda functions when task is complex\n",
        "* It works best when you have to call a function more of times but execution task is simple\n",
        "\n",
        "`Write a regular function instead of a lambda when function is to be used multiple times`\n",
        "* `Key`= Lambda must be used once\n",
        "* Lambdas are supposed to be used for just once and thus there is no reason to assign a lambda to a variable.\n",
        "* Major reason for avoiding assigning a lambda to a variable is for debugging/maintainability purposes, especially in a production/teamwork environment\n",
        "\n",
        "\n",
        "* Use of function is good choice when assignment of variable is compulsary \n",
        "* While debugging if any error accurs it will point out to the function creating error\n",
        "* In case of lambda function it will throw `lambda error` and ther can be many lambda in out code which makes is difficult to debug error "
      ]
    },
    {
      "cell_type": "code",
      "execution_count": null,
      "metadata": {
        "id": "xg6eKbLRaRJH"
      },
      "outputs": [],
      "source": []
    },
    {
      "cell_type": "code",
      "execution_count": 185,
      "metadata": {
        "colab": {
          "base_uri": "https://localhost:8080/"
        },
        "execution": {
          "iopub.execute_input": "2021-12-11T12:00:22.685235Z",
          "iopub.status.busy": "2021-12-11T12:00:22.684948Z",
          "iopub.status.idle": "2021-12-11T12:00:22.690396Z",
          "shell.execute_reply": "2021-12-11T12:00:22.689805Z",
          "shell.execute_reply.started": "2021-12-11T12:00:22.685204Z"
        },
        "id": "VXxZTJZirP43",
        "outputId": "1604684d-4380-42ce-c37b-13a05b50b79f",
        "trusted": true
      },
      "outputs": [
        {
          "name": "stdout",
          "output_type": "stream",
          "text": [
            "110\n"
          ]
        }
      ],
      "source": [
        "# define a function that adds 100 to number that is passed as an argument\n",
        "num=(lambda x: x+100)\n",
        "print(num(10))"
      ]
    },
    {
      "cell_type": "code",
      "execution_count": 188,
      "metadata": {
        "colab": {
          "base_uri": "https://localhost:8080/"
        },
        "execution": {
          "iopub.execute_input": "2021-12-11T12:05:30.28859Z",
          "iopub.status.busy": "2021-12-11T12:05:30.288288Z",
          "iopub.status.idle": "2021-12-11T12:05:30.294691Z",
          "shell.execute_reply": "2021-12-11T12:05:30.293705Z",
          "shell.execute_reply.started": "2021-12-11T12:05:30.288548Z"
        },
        "id": "U5_RDfAirP43",
        "outputId": "54808285-18eb-421e-f76d-4246d1962985",
        "trusted": true
      },
      "outputs": [
        {
          "name": "stdout",
          "output_type": "stream",
          "text": [
            "value for increaseBy_100(1) = 101\n",
            "value for increaseBy_100(22) = 122\n"
          ]
        }
      ],
      "source": [
        "# lambda function named as increaseBy_100 that adds 100 to number that is passed as an argument\n",
        "increaseBy_100=(lambda x: x+100)\n",
        "# print value for increaseBy_100(1), using f string\n",
        "# print value for increaseBy_100(22), using f string\n",
        "print(f\"value for increaseBy_100(1) = {increaseBy_100(1)}\")\n",
        "print(f\"value for increaseBy_100(22) = {increaseBy_100(22)}\")"
      ]
    },
    {
      "attachments": {},
      "cell_type": "markdown",
      "metadata": {
        "id": "2nDrVMrorP44"
      },
      "source": [
        "# **`Lambda function with two arguments`**"
      ]
    },
    {
      "cell_type": "code",
      "execution_count": 184,
      "metadata": {
        "colab": {
          "base_uri": "https://localhost:8080/"
        },
        "execution": {
          "iopub.execute_input": "2021-12-11T12:03:26.870492Z",
          "iopub.status.busy": "2021-12-11T12:03:26.870187Z",
          "iopub.status.idle": "2021-12-11T12:03:26.876301Z",
          "shell.execute_reply": "2021-12-11T12:03:26.8755Z",
          "shell.execute_reply.started": "2021-12-11T12:03:26.870463Z"
        },
        "id": "3hb3McqDrP44",
        "outputId": "96998ef8-d427-463e-ebf0-fbb1682fb1b3",
        "trusted": true
      },
      "outputs": [
        {
          "name": "stdout",
          "output_type": "stream",
          "text": [
            "1\n"
          ]
        }
      ],
      "source": [
        "# write a lambda fucntion named as subtract_two_number which can take any two number as input and subtract thouse two number\n",
        "subtract_two=(lambda x,y:x-y)\n",
        "print(subtract_two(5,4))"
      ]
    },
    {
      "attachments": {},
      "cell_type": "markdown",
      "metadata": {
        "id": "i5Q_GCA1rP44"
      },
      "source": [
        "# ***`filter() function`*** takes in a function and a list as arguments <br>\n",
        "`It filters out all elements of a sequence, for which function returns True`"
      ]
    },
    {
      "cell_type": "code",
      "execution_count": 176,
      "metadata": {
        "execution": {
          "iopub.execute_input": "2021-12-11T12:16:47.959928Z",
          "iopub.status.busy": "2021-12-11T12:16:47.959669Z",
          "iopub.status.idle": "2021-12-11T12:16:47.964627Z",
          "shell.execute_reply": "2021-12-11T12:16:47.963957Z",
          "shell.execute_reply.started": "2021-12-11T12:16:47.959902Z"
        },
        "id": "s8waRBHerP44",
        "trusted": true
      },
      "outputs": [],
      "source": [
        "#### Observe every output from here onwords #####\n",
        "# function to check if given number is even \n",
        "def divisible_two(x):\n",
        "    if x%2 == 0:\n",
        "        return True #odd \n",
        "    else:\n",
        "        return False #not odd\n",
        "    \n",
        "# given list to filter for odd number\n",
        "check_list = [4,8,0,11,456,777,999,777]"
      ]
    },
    {
      "cell_type": "code",
      "execution_count": 177,
      "metadata": {
        "colab": {
          "base_uri": "https://localhost:8080/"
        },
        "execution": {
          "iopub.execute_input": "2021-12-11T12:16:49.025528Z",
          "iopub.status.busy": "2021-12-11T12:16:49.025265Z",
          "iopub.status.idle": "2021-12-11T12:16:49.032015Z",
          "shell.execute_reply": "2021-12-11T12:16:49.030928Z",
          "shell.execute_reply.started": "2021-12-11T12:16:49.025499Z"
        },
        "id": "OSf2QniarP44",
        "outputId": "0cc05eed-b8b1-49e3-b281-56c074aa2e59",
        "trusted": true
      },
      "outputs": [
        {
          "data": {
            "text/plain": [
              "[4, 8, 0, 456]"
            ]
          },
          "execution_count": 177,
          "metadata": {},
          "output_type": "execute_result"
        }
      ],
      "source": [
        "#### Observe every output from here onwords #####\n",
        "odd_number_filtered_list = list(filter(divisible_two,check_list))\n",
        "odd_number_filtered_list"
      ]
    },
    {
      "cell_type": "code",
      "execution_count": 178,
      "metadata": {
        "colab": {
          "base_uri": "https://localhost:8080/"
        },
        "execution": {
          "iopub.execute_input": "2021-12-11T12:16:49.726825Z",
          "iopub.status.busy": "2021-12-11T12:16:49.72659Z",
          "iopub.status.idle": "2021-12-11T12:16:49.731947Z",
          "shell.execute_reply": "2021-12-11T12:16:49.731354Z",
          "shell.execute_reply.started": "2021-12-11T12:16:49.7268Z"
        },
        "id": "0kta1jnvrP44",
        "outputId": "334f4dfb-2980-46a1-dee6-b660095a3388",
        "trusted": true
      },
      "outputs": [
        {
          "data": {
            "text/plain": [
              "[4, 8, 0, 456]"
            ]
          },
          "execution_count": 178,
          "metadata": {},
          "output_type": "execute_result"
        }
      ],
      "source": [
        "# writing lambda function for above code (we need not to define function sepratly)\n",
        "odd_number_filtered_list_using_lambda = list(filter(lambda x:(x%2==0),check_list))\n",
        "odd_number_filtered_list_using_lambda"
      ]
    },
    {
      "attachments": {},
      "cell_type": "markdown",
      "metadata": {
        "id": "mx2z069urP44"
      },
      "source": [
        "How easy lamda can make our task now understand\n"
      ]
    },
    {
      "attachments": {},
      "cell_type": "markdown",
      "metadata": {
        "id": "Vv_hbB-arP45"
      },
      "source": [
        "# ***`map() function`*** takes in a function and a list as argument\n",
        "* Function is called with a lambda function and a list\n",
        "* A new list is returned which contains all lambda modified items returned by that function for each item"
      ]
    },
    {
      "cell_type": "code",
      "execution_count": 174,
      "metadata": {
        "colab": {
          "base_uri": "https://localhost:8080/"
        },
        "execution": {
          "iopub.execute_input": "2021-12-11T12:21:37.036641Z",
          "iopub.status.busy": "2021-12-11T12:21:37.036314Z",
          "iopub.status.idle": "2021-12-11T12:21:37.043569Z",
          "shell.execute_reply": "2021-12-11T12:21:37.042921Z",
          "shell.execute_reply.started": "2021-12-11T12:21:37.036606Z"
        },
        "id": "pTnlcYcirP45",
        "outputId": "a27a85c1-ab8c-4854-f6dd-6ff79c322b1a",
        "trusted": true
      },
      "outputs": [
        {
          "data": {
            "text/plain": [
              "[16, 32, 0, 44, 1824, 3108, 3996, 3108]"
            ]
          },
          "execution_count": 174,
          "metadata": {},
          "output_type": "execute_result"
        }
      ],
      "source": [
        "#### Observe every output from here onwords #####\n",
        "check_list = [4,8,0,11,456,777,999,777]\n",
        "\n",
        "#increse every element of check_list by 4\n",
        "mapped_check_list = list(map(lambda x:x*4,check_list ))\n",
        "mapped_check_list"
      ]
    },
    {
      "cell_type": "code",
      "execution_count": 175,
      "metadata": {
        "colab": {
          "base_uri": "https://localhost:8080/"
        },
        "execution": {
          "iopub.execute_input": "2021-12-11T12:23:30.07096Z",
          "iopub.status.busy": "2021-12-11T12:23:30.070668Z",
          "iopub.status.idle": "2021-12-11T12:23:30.078246Z",
          "shell.execute_reply": "2021-12-11T12:23:30.077438Z",
          "shell.execute_reply.started": "2021-12-11T12:23:30.07093Z"
        },
        "id": "UjkGFcOurP45",
        "outputId": "ad861f98-1ea9-4595-b4a2-fe30bd830484",
        "trusted": true
      },
      "outputs": [
        {
          "data": {
            "text/plain": [
              "['North', 'See', 'King', 'Himalayas', 'East']"
            ]
          },
          "execution_count": 175,
          "metadata": {},
          "output_type": "execute_result"
        }
      ],
      "source": [
        "#### Observe every output from here onwords #####\n",
        "check_list = ['north','see','king','himalayas','east']\n",
        "# capatilize first letter of each  word in the original list\n",
        "mapped_check_list = list(map(lambda x: x[0].upper()+x[1:],check_list)) \n",
        "mapped_check_list"
      ]
    },
    {
      "attachments": {},
      "cell_type": "markdown",
      "metadata": {
        "id": "DNAZjcndrP45"
      },
      "source": [
        "# **`reduce() Function`** takes in a function and a list as argument\n",
        "* The function is called with a lambda function and a list\n",
        "* A new reduced result is returned\n",
        "* This performs a repetitive operation over pairs of list\n",
        "\n",
        "`Reduce Function will always take two parameters`"
      ]
    },
    {
      "cell_type": "code",
      "execution_count": 170,
      "metadata": {
        "colab": {
          "base_uri": "https://localhost:8080/"
        },
        "execution": {
          "iopub.execute_input": "2021-12-11T12:26:20.942969Z",
          "iopub.status.busy": "2021-12-11T12:26:20.94267Z",
          "iopub.status.idle": "2021-12-11T12:26:20.949205Z",
          "shell.execute_reply": "2021-12-11T12:26:20.948607Z",
          "shell.execute_reply.started": "2021-12-11T12:26:20.942936Z"
        },
        "id": "C2cKnRQRrP45",
        "outputId": "73641b21-32c6-44ba-9578-474675361bdb",
        "trusted": true
      },
      "outputs": [
        {
          "data": {
            "text/plain": [
              "3032"
            ]
          },
          "execution_count": 170,
          "metadata": {},
          "output_type": "execute_result"
        }
      ],
      "source": [
        "#### Observe every output from here onwords #####\n",
        "#importing reduce using functools\n",
        "from functools import reduce\n",
        "\n",
        "\n",
        "check_list = [4,8,0,11,456,777,999,777]\n",
        "#using reduce function to find sum of numbers in check_list\n",
        "sum_of_list = reduce((lambda x, y : x + y),check_list) \n",
        "sum_of_list"
      ]
    },
    {
      "cell_type": "code",
      "execution_count": 171,
      "metadata": {
        "colab": {
          "base_uri": "https://localhost:8080/"
        },
        "execution": {
          "iopub.execute_input": "2021-12-11T12:27:05.948578Z",
          "iopub.status.busy": "2021-12-11T12:27:05.947988Z",
          "iopub.status.idle": "2021-12-11T12:27:05.954115Z",
          "shell.execute_reply": "2021-12-11T12:27:05.953544Z",
          "shell.execute_reply.started": "2021-12-11T12:27:05.948527Z"
        },
        "id": "AxB-1xvYrP45",
        "outputId": "58429bd3-e6c7-4b0a-d17a-59165464b6ff",
        "trusted": true
      },
      "outputs": [
        {
          "data": {
            "text/plain": [
              "999"
            ]
          },
          "execution_count": 171,
          "metadata": {},
          "output_type": "execute_result"
        }
      ],
      "source": [
        "#### Observe every output from here onwords #####\n",
        "check_list = [4,8,0,11,456,777,999,777]\n",
        "#using reduce function to find largest number in check_list\n",
        "largest_number = reduce((lambda x, y: x if (x > y) else y ),check_list) \n",
        "largest_number"
      ]
    },
    {
      "attachments": {},
      "cell_type": "markdown",
      "metadata": {
        "id": "hZ15dPrLrP45"
      },
      "source": [
        "<a id='16'></a><center> <h3 style=\"background-color:orange; color:white\" ><br>Comprehensions<br></h3>"
      ]
    },
    {
      "attachments": {},
      "cell_type": "markdown",
      "metadata": {
        "id": "Q50giP1JSRht"
      },
      "source": [
        "#### **BELOW CODE IS GIVEN FOR YOU TO OBSERVE HOW COMPREHENSIONS WORK.**"
      ]
    },
    {
      "attachments": {},
      "cell_type": "markdown",
      "metadata": {
        "execution": {
          "iopub.execute_input": "2021-12-11T12:40:13.51405Z",
          "iopub.status.busy": "2021-12-11T12:40:13.513306Z",
          "iopub.status.idle": "2021-12-11T12:40:13.516965Z",
          "shell.execute_reply": "2021-12-11T12:40:13.516398Z",
          "shell.execute_reply.started": "2021-12-11T12:40:13.51401Z"
        },
        "id": "kPw6N8X_rP45"
      },
      "source": [
        "# **`Type of Comprehensions`**:\n",
        "1. `List Comprehension`\n",
        "2. `Set Comprehension` \n",
        "3. `Dict Comprehension`"
      ]
    },
    {
      "attachments": {},
      "cell_type": "markdown",
      "metadata": {
        "id": "BmN5iDJyrP45"
      },
      "source": [
        "# 1. List Comprehension\n",
        "`Syntex:`\n",
        "\n",
        "**[expression for item in iterable]**\n",
        "\n",
        "\n",
        "**Expanded Form**<br>\n",
        "for item in iterable: <br>\n",
        "....expression"
      ]
    },
    {
      "attachments": {},
      "cell_type": "markdown",
      "metadata": {
        "id": "DF7cNPLerP45"
      },
      "source": [
        "**`Converet all element of below tuple in upper case and change datatype into list`**"
      ]
    },
    {
      "cell_type": "code",
      "execution_count": 167,
      "metadata": {
        "colab": {
          "base_uri": "https://localhost:8080/"
        },
        "execution": {
          "iopub.execute_input": "2021-12-11T12:44:52.832229Z",
          "iopub.status.busy": "2021-12-11T12:44:52.831783Z",
          "iopub.status.idle": "2021-12-11T12:44:52.839423Z",
          "shell.execute_reply": "2021-12-11T12:44:52.838508Z",
          "shell.execute_reply.started": "2021-12-11T12:44:52.832175Z"
        },
        "id": "v9pd74p_rP45",
        "outputId": "ee16b512-60fa-42ea-8f99-4b5ae9a43486",
        "trusted": true
      },
      "outputs": [
        {
          "data": {
            "text/plain": [
              "tuple"
            ]
          },
          "execution_count": 167,
          "metadata": {},
          "output_type": "execute_result"
        }
      ],
      "source": [
        "animals = ('bird', 'snake', 'dog', 'turtle', 'cat', 'hamster')\n",
        "type(animals)"
      ]
    },
    {
      "cell_type": "code",
      "execution_count": 168,
      "metadata": {
        "colab": {
          "base_uri": "https://localhost:8080/"
        },
        "execution": {
          "iopub.execute_input": "2021-12-11T12:46:10.788709Z",
          "iopub.status.busy": "2021-12-11T12:46:10.788116Z",
          "iopub.status.idle": "2021-12-11T12:46:10.795836Z",
          "shell.execute_reply": "2021-12-11T12:46:10.794758Z",
          "shell.execute_reply.started": "2021-12-11T12:46:10.788656Z"
        },
        "id": "_8Vxa7vbrP46",
        "outputId": "5d3aa9e5-b014-4953-fd68-11a00457c69a",
        "trusted": true
      },
      "outputs": [
        {
          "data": {
            "text/plain": [
              "['BIRD', 'SNAKE', 'DOG', 'TURTLE', 'CAT', 'HAMSTER']"
            ]
          },
          "execution_count": 168,
          "metadata": {},
          "output_type": "execute_result"
        }
      ],
      "source": [
        "# good => way using list comprehension\n",
        "\n",
        "[x.upper()for x in animals]"
      ]
    },
    {
      "cell_type": "code",
      "execution_count": 169,
      "metadata": {
        "colab": {
          "base_uri": "https://localhost:8080/"
        },
        "execution": {
          "iopub.execute_input": "2021-12-11T12:47:45.247201Z",
          "iopub.status.busy": "2021-12-11T12:47:45.24633Z",
          "iopub.status.idle": "2021-12-11T12:47:45.255041Z",
          "shell.execute_reply": "2021-12-11T12:47:45.254315Z",
          "shell.execute_reply.started": "2021-12-11T12:47:45.247159Z"
        },
        "id": "cWkErTE-rP46",
        "outputId": "059d67a6-d79f-4444-9ce1-5259acbdfdad",
        "trusted": true
      },
      "outputs": [
        {
          "data": {
            "text/plain": [
              "['BIRD', 'SNAKE', 'DOG', 'TURTLE', 'CAT', 'HAMSTER']"
            ]
          },
          "execution_count": 169,
          "metadata": {},
          "output_type": "execute_result"
        }
      ],
      "source": [
        "# Not Good way => using list comprehension\n",
        "animalss = []\n",
        "for x in animals:\n",
        "    animalss.append(x.upper())\n",
        "animalss"
      ]
    },
    {
      "attachments": {},
      "cell_type": "markdown",
      "metadata": {
        "id": "qODAY6rvrP46"
      },
      "source": [
        "# List Comprehension for Conditional statement or For Filtering</b>\n",
        "\n",
        "`Syntex:`\n",
        "\n",
        "**[expression `for` item in iterable `if` some_condition]**\n",
        "\n",
        "`Expended Form:`\n",
        "\n",
        "`for` item in iterable:\n",
        "<br>___    `if` some_condition:\n",
        "<br>________        expression "
      ]
    },
    {
      "cell_type": "code",
      "execution_count": 164,
      "metadata": {
        "execution": {
          "iopub.execute_input": "2021-12-11T12:49:28.837034Z",
          "iopub.status.busy": "2021-12-11T12:49:28.836631Z",
          "iopub.status.idle": "2021-12-11T12:49:28.841127Z",
          "shell.execute_reply": "2021-12-11T12:49:28.840118Z",
          "shell.execute_reply.started": "2021-12-11T12:49:28.837003Z"
        },
        "id": "aiz3zeKzrP46",
        "trusted": true
      },
      "outputs": [],
      "source": [
        "#find the prime number and square them\n",
        "\n",
        "primes = [2,3,4,5,6,8,7,9]"
      ]
    },
    {
      "cell_type": "code",
      "execution_count": 165,
      "metadata": {
        "colab": {
          "base_uri": "https://localhost:8080/"
        },
        "execution": {
          "iopub.execute_input": "2021-12-11T12:49:34.511914Z",
          "iopub.status.busy": "2021-12-11T12:49:34.511204Z",
          "iopub.status.idle": "2021-12-11T12:49:34.520236Z",
          "shell.execute_reply": "2021-12-11T12:49:34.518769Z",
          "shell.execute_reply.started": "2021-12-11T12:49:34.511869Z"
        },
        "id": "wzASeS9erP46",
        "outputId": "b05efac0-4191-4124-e90b-d0f09c54a892",
        "trusted": true
      },
      "outputs": [
        {
          "data": {
            "text/plain": [
              "[4, 16, 36, 64]"
            ]
          },
          "execution_count": 165,
          "metadata": {},
          "output_type": "execute_result"
        }
      ],
      "source": [
        "# good\n",
        "[x*x for x in primes if x%2 == 0]"
      ]
    },
    {
      "cell_type": "code",
      "execution_count": 166,
      "metadata": {
        "colab": {
          "base_uri": "https://localhost:8080/"
        },
        "execution": {
          "iopub.execute_input": "2021-12-11T12:49:59.636937Z",
          "iopub.status.busy": "2021-12-11T12:49:59.636651Z",
          "iopub.status.idle": "2021-12-11T12:49:59.643965Z",
          "shell.execute_reply": "2021-12-11T12:49:59.642794Z",
          "shell.execute_reply.started": "2021-12-11T12:49:59.636901Z"
        },
        "id": "3j3aW1LLrP46",
        "outputId": "b6d9b65c-0637-4154-ec93-8d0d0a73300a",
        "trusted": true
      },
      "outputs": [
        {
          "data": {
            "text/plain": [
              "[4, 16, 36, 64]"
            ]
          },
          "execution_count": 166,
          "metadata": {},
          "output_type": "execute_result"
        }
      ],
      "source": [
        "# not good\n",
        "ls = []\n",
        "for x in primes:\n",
        "    if x % 2 == 0:\n",
        "        ls.append(x*x)\n",
        "ls"
      ]
    },
    {
      "attachments": {},
      "cell_type": "markdown",
      "metadata": {
        "id": "W9XTKbOyrP46"
      },
      "source": [
        "**`For more complex conditions we can use function along with`**"
      ]
    },
    {
      "cell_type": "code",
      "execution_count": 161,
      "metadata": {
        "execution": {
          "iopub.execute_input": "2021-12-11T12:52:17.507335Z",
          "iopub.status.busy": "2021-12-11T12:52:17.506505Z",
          "iopub.status.idle": "2021-12-11T12:52:17.513214Z",
          "shell.execute_reply": "2021-12-11T12:52:17.512673Z",
          "shell.execute_reply.started": "2021-12-11T12:52:17.507296Z"
        },
        "id": "XKdSFtStrP46",
        "trusted": true
      },
      "outputs": [],
      "source": [
        "#find from below given animal which have 4 leags \n",
        "\n",
        "animals = ('bird','snake','dog','turtle','cat','hamster')"
      ]
    },
    {
      "cell_type": "code",
      "execution_count": 162,
      "metadata": {
        "colab": {
          "base_uri": "https://localhost:8080/"
        },
        "execution": {
          "iopub.execute_input": "2021-12-11T12:53:07.832355Z",
          "iopub.status.busy": "2021-12-11T12:53:07.831737Z",
          "iopub.status.idle": "2021-12-11T12:53:07.838511Z",
          "shell.execute_reply": "2021-12-11T12:53:07.837769Z",
          "shell.execute_reply.started": "2021-12-11T12:53:07.832313Z"
        },
        "id": "s-A0LhR4rP46",
        "outputId": "484c0748-56b9-4ff0-8a25-43f40a712084",
        "trusted": true
      },
      "outputs": [
        {
          "data": {
            "text/plain": [
              "['dog', 'turtle', 'cat']"
            ]
          },
          "execution_count": 162,
          "metadata": {},
          "output_type": "execute_result"
        }
      ],
      "source": [
        "# good\n",
        "def has_4_legs(animal):\n",
        "    return animal in ('dog','turtle','cat')\n",
        "\n",
        "[x for x in animals if has_4_legs(x)]"
      ]
    },
    {
      "cell_type": "code",
      "execution_count": 163,
      "metadata": {
        "colab": {
          "base_uri": "https://localhost:8080/"
        },
        "execution": {
          "iopub.execute_input": "2021-12-11T12:52:40.234732Z",
          "iopub.status.busy": "2021-12-11T12:52:40.234165Z",
          "iopub.status.idle": "2021-12-11T12:52:40.241024Z",
          "shell.execute_reply": "2021-12-11T12:52:40.240303Z",
          "shell.execute_reply.started": "2021-12-11T12:52:40.234691Z"
        },
        "id": "Rvku5z7XrP46",
        "outputId": "da12e58b-e598-4d9c-d965-75992d64b29c",
        "trusted": true
      },
      "outputs": [
        {
          "data": {
            "text/plain": [
              "['dog', 'turtle', 'cat']"
            ]
          },
          "execution_count": 163,
          "metadata": {},
          "output_type": "execute_result"
        }
      ],
      "source": [
        "# not good\n",
        "l = []\n",
        "for x in animals:\n",
        "    if has_4_legs(x):\n",
        "        l.append(x)\n",
        "l"
      ]
    },
    {
      "attachments": {},
      "cell_type": "markdown",
      "metadata": {
        "id": "VcEa0wckrP47"
      },
      "source": [
        "# 2. Set Comprehension\n",
        "* Set have unique element\n",
        "* Only use curly bracket then that of square bracket\n",
        "\n",
        "`Syntax:`\n",
        "\n",
        "**{expression `for` item in iterable}**"
      ]
    },
    {
      "cell_type": "code",
      "execution_count": 158,
      "metadata": {
        "colab": {
          "base_uri": "https://localhost:8080/"
        },
        "execution": {
          "iopub.execute_input": "2021-12-11T12:54:59.598315Z",
          "iopub.status.busy": "2021-12-11T12:54:59.597912Z",
          "iopub.status.idle": "2021-12-11T12:54:59.605267Z",
          "shell.execute_reply": "2021-12-11T12:54:59.604646Z",
          "shell.execute_reply.started": "2021-12-11T12:54:59.598279Z"
        },
        "id": "ZbjZrX_mrP47",
        "outputId": "bf303442-956e-49ce-a362-6ed8dc60a766",
        "trusted": true
      },
      "outputs": [
        {
          "data": {
            "text/plain": [
              "{8, 10, 12, 34, 70, 90}"
            ]
          },
          "execution_count": 158,
          "metadata": {},
          "output_type": "execute_result"
        }
      ],
      "source": [
        "# find odds\n",
        "numbers_set = (1, 34, 5, 8, 10, 12, 3, 90, 70, 70, 90)\n",
        "\n",
        "unique_even_numbers = {number for number in numbers_set if number%2 == 0}\n",
        "unique_even_numbers"
      ]
    },
    {
      "attachments": {},
      "cell_type": "markdown",
      "metadata": {
        "id": "vGX5yVFwrP47"
      },
      "source": [
        "# 3. Dict Comprehension\n",
        "`Syntax:`\n",
        "\n",
        "**{key_expression : value_expression `for` item in iterable}**"
      ]
    },
    {
      "cell_type": "code",
      "execution_count": 156,
      "metadata": {
        "colab": {
          "base_uri": "https://localhost:8080/"
        },
        "execution": {
          "iopub.execute_input": "2021-12-11T12:56:55.240073Z",
          "iopub.status.busy": "2021-12-11T12:56:55.239796Z",
          "iopub.status.idle": "2021-12-11T12:56:55.246199Z",
          "shell.execute_reply": "2021-12-11T12:56:55.245205Z",
          "shell.execute_reply.started": "2021-12-11T12:56:55.24004Z"
        },
        "id": "80TTyMXwrP47",
        "outputId": "ed068011-b448-47d9-e1de-0449e1bb34e1",
        "trusted": true
      },
      "outputs": [
        {
          "data": {
            "text/plain": [
              "{'python': 6, 'is': 2, 'a': 1, 'big': 3, 'snake': 5}"
            ]
          },
          "execution_count": 156,
          "metadata": {},
          "output_type": "execute_result"
        }
      ],
      "source": [
        "words = ('python', 'is', 'a', 'big', 'snake')\n",
        "\n",
        "len_words = {word : len(word) for word in words}\n",
        "len_words"
      ]
    },
    {
      "cell_type": "code",
      "execution_count": 157,
      "metadata": {
        "colab": {
          "base_uri": "https://localhost:8080/"
        },
        "execution": {
          "iopub.execute_input": "2021-12-11T12:57:09.958085Z",
          "iopub.status.busy": "2021-12-11T12:57:09.957799Z",
          "iopub.status.idle": "2021-12-11T12:57:09.96422Z",
          "shell.execute_reply": "2021-12-11T12:57:09.96331Z",
          "shell.execute_reply.started": "2021-12-11T12:57:09.958056Z"
        },
        "id": "0zjPld8qrP47",
        "outputId": "26960ac5-ece2-4fc3-f43d-f0b8b9813802",
        "trusted": true
      },
      "outputs": [
        {
          "data": {
            "text/plain": [
              "{'python': 6}"
            ]
          },
          "execution_count": 157,
          "metadata": {},
          "output_type": "execute_result"
        }
      ],
      "source": [
        "# acessing key which start with p letter\n",
        "len_words_p = {word : len(word) for word in words if word.startswith('p')}\n",
        "len_words_p"
      ]
    },
    {
      "attachments": {},
      "cell_type": "markdown",
      "metadata": {
        "id": "7bhKjiMBrP47"
      },
      "source": [
        "<a id='17'></a><center> <h3 style=\"background-color:orange; color:white\" ><br>Enumerate<br></h3>"
      ]
    },
    {
      "attachments": {},
      "cell_type": "markdown",
      "metadata": {
        "id": "ct5JcFIYrP47"
      },
      "source": [
        "Used for efficient looping\n",
        "* Use enumerate function when `needed an index` while looping\n",
        "* Often used in list comprehensions or for loops and does not spit out tuples itself\n",
        "* Enumerate is an `iterator`, this means ``nothing gets stored``\n",
        "* Processes only one item at a time\n",
        "* This can be useful when you have large datasets/files.\n",
        "\n",
        "`Syntax:` <br>\n",
        "**enumerate(iterable, start)**\n",
        "**<br>_____start = starting index**\n",
        "* `Returns a tuple of type (index,values)`\n",
        "\n",
        "Whenever you see within your code `range(len(..))` there is a better way to loop than through using an index\n",
        "* This is where built-in function `Enumerate` can help"
      ]
    },
    {
      "attachments": {},
      "cell_type": "markdown",
      "metadata": {
        "id": "dJSxHP0-rP47"
      },
      "source": [
        "# Enumerate Working\n",
        "* Enumerate built-in function assigns an index to every item in an itterable object\n",
        "* This could be a set, list, string anything that can be iterated over"
      ]
    },
    {
      "cell_type": "code",
      "execution_count": 152,
      "metadata": {
        "colab": {
          "base_uri": "https://localhost:8080/"
        },
        "execution": {
          "iopub.execute_input": "2021-12-11T13:06:43.886422Z",
          "iopub.status.busy": "2021-12-11T13:06:43.886137Z",
          "iopub.status.idle": "2021-12-11T13:06:43.891775Z",
          "shell.execute_reply": "2021-12-11T13:06:43.890646Z",
          "shell.execute_reply.started": "2021-12-11T13:06:43.886391Z"
        },
        "id": "5i1oBdIcrP47",
        "outputId": "30b60448-ece6-49cd-b8e9-927b98599f2e",
        "trusted": true
      },
      "outputs": [
        {
          "name": "stdout",
          "output_type": "stream",
          "text": [
            "<enumerate object at 0x000001D62FC8F970>\n"
          ]
        }
      ],
      "source": [
        "colors = ['red','green','blue','purple']\n",
        "print(enumerate(colors))"
      ]
    },
    {
      "cell_type": "code",
      "execution_count": 153,
      "metadata": {
        "colab": {
          "base_uri": "https://localhost:8080/"
        },
        "execution": {
          "iopub.execute_input": "2021-12-11T13:07:21.237003Z",
          "iopub.status.busy": "2021-12-11T13:07:21.236285Z",
          "iopub.status.idle": "2021-12-11T13:07:21.242931Z",
          "shell.execute_reply": "2021-12-11T13:07:21.241939Z",
          "shell.execute_reply.started": "2021-12-11T13:07:21.236946Z"
        },
        "id": "WGutH8TCrP47",
        "outputId": "466cda40-7df4-4a90-a8fe-f372d9170aca",
        "trusted": true
      },
      "outputs": [
        {
          "name": "stdout",
          "output_type": "stream",
          "text": [
            "0 red\n",
            "1 green\n",
            "2 blue\n",
            "3 purple\n"
          ]
        }
      ],
      "source": [
        "#enumerate gives us index which starts from 0\n",
        "for index,start in enumerate(colors):\n",
        "    print(index,start)"
      ]
    },
    {
      "cell_type": "code",
      "execution_count": 154,
      "metadata": {
        "colab": {
          "base_uri": "https://localhost:8080/"
        },
        "execution": {
          "iopub.execute_input": "2021-12-11T13:07:59.98795Z",
          "iopub.status.busy": "2021-12-11T13:07:59.98731Z",
          "iopub.status.idle": "2021-12-11T13:07:59.993868Z",
          "shell.execute_reply": "2021-12-11T13:07:59.992926Z",
          "shell.execute_reply.started": "2021-12-11T13:07:59.987901Z"
        },
        "id": "6bdVzFdmrP48",
        "outputId": "d2bb6b84-1834-4299-f73a-5f025000ba30",
        "trusted": true
      },
      "outputs": [
        {
          "name": "stdout",
          "output_type": "stream",
          "text": [
            "1 red\n",
            "2 green\n",
            "3 blue\n",
            "4 purple\n"
          ]
        }
      ],
      "source": [
        "# index starting from 1 maybee\n",
        "for index,start in enumerate(colors,start=1):\n",
        "    print(index,start)"
      ]
    },
    {
      "attachments": {},
      "cell_type": "markdown",
      "metadata": {
        "id": "0j32rPMorP48"
      },
      "source": [
        "In above code we define variables index and item and they get assigned to first and second items of each tuple \n",
        "* This is called `sequence unpacking`\n",
        "* We then print index and item of items object"
      ]
    },
    {
      "cell_type": "code",
      "execution_count": 155,
      "metadata": {
        "colab": {
          "base_uri": "https://localhost:8080/"
        },
        "execution": {
          "iopub.execute_input": "2021-12-11T13:10:46.872664Z",
          "iopub.status.busy": "2021-12-11T13:10:46.872378Z",
          "iopub.status.idle": "2021-12-11T13:10:46.877838Z",
          "shell.execute_reply": "2021-12-11T13:10:46.877244Z",
          "shell.execute_reply.started": "2021-12-11T13:10:46.872632Z"
        },
        "id": "JbaxHHKLrP48",
        "outputId": "533affe7-b6bb-4c61-9d48-52e6e851b025",
        "trusted": true
      },
      "outputs": [
        {
          "name": "stdout",
          "output_type": "stream",
          "text": [
            "1 red\n",
            "2 green\n",
            "4 purple\n"
          ]
        }
      ],
      "source": [
        "# using Enumerate to skip over one index\n",
        "for index,start in enumerate(colors,start=1):\n",
        "    if index == 3: # skipping index 3 \n",
        "        continue\n",
        "    print(index,start)"
      ]
    },
    {
      "attachments": {},
      "cell_type": "markdown",
      "metadata": {
        "id": "EDv-UM4CFJN9"
      },
      "source": [
        "\n",
        "# FeedBack\n",
        "We hope you’ve enjoyed this course so far. We’re committed to help you use \"AI for All\" course to its full potential, so that you have a great learning experience. And that’s why we need your help in form of a feedback here.\n",
        "\n",
        "Please fill this feedback form https://docs.google.com/forms/d/e/1FAIpQLSfjBmH0yJSSA34IhSVx4h2eDMgOAeG4Dk-yHid__NMTk3Hq5g/viewform"
      ]
    }
  ],
  "metadata": {
    "colab": {
      "collapsed_sections": [
        "slh282AprP4M",
        "W-7tOm5CrP4P",
        "7Mo7XNVNrP4W",
        "_jF5-7_PrP4e",
        "fI6TbJ9IrP4e",
        "kPw6N8X_rP45"
      ],
      "provenance": []
    },
    "kernelspec": {
      "display_name": "Python 3",
      "language": "python",
      "name": "python3"
    },
    "language_info": {
      "codemirror_mode": {
        "name": "ipython",
        "version": 3
      },
      "file_extension": ".py",
      "mimetype": "text/x-python",
      "name": "python",
      "nbconvert_exporter": "python",
      "pygments_lexer": "ipython3",
      "version": "3.11.0"
    }
  },
  "nbformat": 4,
  "nbformat_minor": 0
}
