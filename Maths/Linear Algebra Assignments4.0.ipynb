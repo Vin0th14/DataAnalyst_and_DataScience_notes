{
  "cells": [
    {
      "cell_type": "markdown",
      "source": [
        "![](https://betterexplained.com/wp-content/uploads/2012/02/dot_product_components.png)"
      ],
      "metadata": {
        "id": "8Mh98TiX0qpu"
      },
      "id": "8Mh98TiX0qpu"
    },
    {
      "cell_type": "markdown",
      "source": [
        "![](https://www.google.com/url?sa=i&url=https%3A%2F%2Fwww.cuemath.com%2Falgebra%2Fdot-product%2F&psig=AOvVaw1VmXz4YwiM8u56f0WmXdeO&ust=1646985300054000&source=images&cd=vfe&ved=0CAsQjRxqFwoTCLi2hqGJu_YCFQAAAAAdAAAAABAb)"
      ],
      "metadata": {
        "id": "s_uyjZoW2PEU"
      },
      "id": "s_uyjZoW2PEU"
    },
    {
      "cell_type": "markdown",
      "source": [
        "![](https://d138zd1ktt9iqe.cloudfront.net/media/seo_landing_files/matrix-representation-of-dot-product-1626103121.png)"
      ],
      "metadata": {
        "id": "qWq_-Is82Jz-"
      },
      "id": "qWq_-Is82Jz-"
    },
    {
      "cell_type": "markdown",
      "source": [
        "# **`WATCH VIDEOS IN THE PORTAL`**\n",
        "## **`Watch Video 1: Dot Product(Theory)`**"
      ],
      "metadata": {
        "id": "ItqHD-pMZQg-"
      },
      "id": "ItqHD-pMZQg-"
    },
    {
      "cell_type": "markdown",
      "source": [
        "### **CHeck this blog for more on dot product theory+code**\n",
        "https://towardsdatascience.com/dot-product-in-linear-algebra-for-data-science-using-python-f113fb60c8f#:~:text=This%20matrix%20multiplication%20is%20also%20called%20Dot%20Product.&text=Important%20Rule%3A%20You%20can%20only,rows%20of%20the%20second%20matrix.\n"
      ],
      "metadata": {
        "id": "CTKkCrPuZWhj"
      },
      "id": "CTKkCrPuZWhj"
    },
    {
      "cell_type": "markdown",
      "source": [
        "# **TASK**\n",
        "\n",
        "We will be using a fabricated dataset of user ratings for the movies to learn\n",
        "\n",
        "- how we use vector operations in the data science(extracting, finding magnitude, finding angle between vectors)\n",
        "-  how to do dot product in coding and learn to find similarity between user ratings to a certain movie\n",
        "- Learn to find list of movies based on user preference\n",
        "- We will also sort list of movies based on their popularity\n",
        "- We will also recommend movies based on a given similar movie"
      ],
      "metadata": {
        "id": "P91WzirS2kO0"
      },
      "id": "P91WzirS2kO0"
    },
    {
      "cell_type": "markdown",
      "source": [
        "# Task 1 - Load and study the data"
      ],
      "metadata": {
        "id": "3VLZlkPx4Jf9"
      },
      "id": "3VLZlkPx4Jf9"
    },
    {
      "cell_type": "markdown",
      "source": [
        "Notice these things: Load the data and study its features such as:\n",
        "- The number of users\n",
        "- The number of movies\n",
        "- The ranges of ratings"
      ],
      "metadata": {
        "id": "NyNV_gaE4WSz"
      },
      "id": "NyNV_gaE4WSz"
    },
    {
      "cell_type": "code",
      "execution_count": null,
      "id": "9f5c393c",
      "metadata": {
        "id": "9f5c393c"
      },
      "outputs": [],
      "source": [
        "# Load \"numpy\" and \"pandas\" for manipulating numbers, vectors and data frames\n",
        "\n"
      ]
    },
    {
      "cell_type": "code",
      "execution_count": null,
      "id": "5608a781",
      "metadata": {
        "id": "5608a781"
      },
      "outputs": [],
      "source": [
        "# Read in the \"User_Movie_Ratings.csv\" file as a Pandas Data Frame\n",
        "# Note: Make sure the code and the data are in the same folder or specify the appropriate path for the data\n",
        "df = \n",
        "\n"
      ]
    },
    {
      "cell_type": "markdown",
      "source": [
        "Feature Description:\n",
        "- The data set contains ratings given by users to movies on a scale of 1 to 10.\n",
        "- Each row contains the ratings given to all the movies by a particular user.\n",
        "- Each column contains the ratings given to a particular movie by all the users."
      ],
      "metadata": {
        "id": "SNosEhlb4gaW"
      },
      "id": "SNosEhlb4gaW"
    },
    {
      "cell_type": "code",
      "execution_count": null,
      "id": "9385b905",
      "metadata": {
        "id": "9385b905",
        "outputId": "e26917c9-5989-414e-b75a-3dc096c8a424"
      },
      "outputs": [
        {
          "data": {
            "text/html": [
              "<div>\n",
              "<style scoped>\n",
              "    .dataframe tbody tr th:only-of-type {\n",
              "        vertical-align: middle;\n",
              "    }\n",
              "\n",
              "    .dataframe tbody tr th {\n",
              "        vertical-align: top;\n",
              "    }\n",
              "\n",
              "    .dataframe thead th {\n",
              "        text-align: right;\n",
              "    }\n",
              "</style>\n",
              "<table border=\"1\" class=\"dataframe\">\n",
              "  <thead>\n",
              "    <tr style=\"text-align: right;\">\n",
              "      <th></th>\n",
              "      <th>Thor</th>\n",
              "      <th>Justice League</th>\n",
              "      <th>Spiderman</th>\n",
              "      <th>The Notebook</th>\n",
              "      <th>Casablanca</th>\n",
              "      <th>Beauty and the Beast</th>\n",
              "      <th>Dolittle</th>\n",
              "      <th>The Kissing Booth</th>\n",
              "      <th>Annabelle</th>\n",
              "      <th>Insidious</th>\n",
              "    </tr>\n",
              "    <tr>\n",
              "      <th>User</th>\n",
              "      <th></th>\n",
              "      <th></th>\n",
              "      <th></th>\n",
              "      <th></th>\n",
              "      <th></th>\n",
              "      <th></th>\n",
              "      <th></th>\n",
              "      <th></th>\n",
              "      <th></th>\n",
              "      <th></th>\n",
              "    </tr>\n",
              "  </thead>\n",
              "  <tbody>\n",
              "    <tr>\n",
              "      <th>Arnold</th>\n",
              "      <td>6</td>\n",
              "      <td>5</td>\n",
              "      <td>6</td>\n",
              "      <td>4</td>\n",
              "      <td>5</td>\n",
              "      <td>4</td>\n",
              "      <td>9</td>\n",
              "      <td>8</td>\n",
              "      <td>2</td>\n",
              "      <td>1</td>\n",
              "    </tr>\n",
              "    <tr>\n",
              "      <th>Ben</th>\n",
              "      <td>9</td>\n",
              "      <td>10</td>\n",
              "      <td>8</td>\n",
              "      <td>3</td>\n",
              "      <td>1</td>\n",
              "      <td>1</td>\n",
              "      <td>2</td>\n",
              "      <td>5</td>\n",
              "      <td>7</td>\n",
              "      <td>8</td>\n",
              "    </tr>\n",
              "    <tr>\n",
              "      <th>Catherine</th>\n",
              "      <td>10</td>\n",
              "      <td>8</td>\n",
              "      <td>9</td>\n",
              "      <td>5</td>\n",
              "      <td>6</td>\n",
              "      <td>7</td>\n",
              "      <td>8</td>\n",
              "      <td>5</td>\n",
              "      <td>9</td>\n",
              "      <td>9</td>\n",
              "    </tr>\n",
              "    <tr>\n",
              "      <th>Disha</th>\n",
              "      <td>6</td>\n",
              "      <td>7</td>\n",
              "      <td>7</td>\n",
              "      <td>10</td>\n",
              "      <td>9</td>\n",
              "      <td>10</td>\n",
              "      <td>7</td>\n",
              "      <td>6</td>\n",
              "      <td>5</td>\n",
              "      <td>6</td>\n",
              "    </tr>\n",
              "    <tr>\n",
              "      <th>Euclid</th>\n",
              "      <td>7</td>\n",
              "      <td>4</td>\n",
              "      <td>3</td>\n",
              "      <td>5</td>\n",
              "      <td>8</td>\n",
              "      <td>5</td>\n",
              "      <td>9</td>\n",
              "      <td>10</td>\n",
              "      <td>8</td>\n",
              "      <td>7</td>\n",
              "    </tr>\n",
              "  </tbody>\n",
              "</table>\n",
              "</div>"
            ],
            "text/plain": [
              "           Thor  Justice League  Spiderman  The Notebook  Casablanca  \\\n",
              "User                                                                   \n",
              "Arnold        6               5          6             4           5   \n",
              "Ben           9              10          8             3           1   \n",
              "Catherine    10               8          9             5           6   \n",
              "Disha         6               7          7            10           9   \n",
              "Euclid        7               4          3             5           8   \n",
              "\n",
              "           Beauty and the Beast  Dolittle  The Kissing Booth  Annabelle  \\\n",
              "User                                                                      \n",
              "Arnold                        4         9                  8          2   \n",
              "Ben                           1         2                  5          7   \n",
              "Catherine                     7         8                  5          9   \n",
              "Disha                        10         7                  6          5   \n",
              "Euclid                        5         9                 10          8   \n",
              "\n",
              "           Insidious  \n",
              "User                  \n",
              "Arnold             1  \n",
              "Ben                8  \n",
              "Catherine          9  \n",
              "Disha              6  \n",
              "Euclid             7  "
            ]
          },
          "execution_count": 8,
          "metadata": {},
          "output_type": "execute_result"
        }
      ],
      "source": [
        "# Take a brief look at the data frame using \".head()\"\n",
        "\n"
      ]
    },
    {
      "cell_type": "code",
      "execution_count": null,
      "id": "5b5bb00f",
      "metadata": {
        "id": "5b5bb00f",
        "outputId": "cb29a046-4b69-4446-89af-eacf2f3aef2a"
      },
      "outputs": [
        {
          "data": {
            "text/plain": [
              "(20, 10)"
            ]
          },
          "execution_count": 9,
          "metadata": {},
          "output_type": "execute_result"
        }
      ],
      "source": [
        "# Check the dimensions of the data frame using \".shape\"\n",
        "\n"
      ]
    },
    {
      "cell_type": "code",
      "execution_count": null,
      "id": "a6b34a1e",
      "metadata": {
        "id": "a6b34a1e",
        "outputId": "1d99d508-3438-4302-9e01-9d6f6e8dbaca"
      },
      "outputs": [
        {
          "name": "stdout",
          "output_type": "stream",
          "text": [
            "<class 'pandas.core.frame.DataFrame'>\n",
            "Index: 20 entries, Arnold to Tavneet\n",
            "Data columns (total 10 columns):\n",
            " #   Column                Non-Null Count  Dtype\n",
            "---  ------                --------------  -----\n",
            " 0   Thor                  20 non-null     int64\n",
            " 1   Justice League        20 non-null     int64\n",
            " 2   Spiderman             20 non-null     int64\n",
            " 3   The Notebook          20 non-null     int64\n",
            " 4   Casablanca            20 non-null     int64\n",
            " 5   Beauty and the Beast  20 non-null     int64\n",
            " 6   Dolittle              20 non-null     int64\n",
            " 7   The Kissing Booth     20 non-null     int64\n",
            " 8   Annabelle             20 non-null     int64\n",
            " 9   Insidious             20 non-null     int64\n",
            "dtypes: int64(10)\n",
            "memory usage: 1.7+ KB\n"
          ]
        }
      ],
      "source": [
        "# View basic information about the data frame using \".info()\"\n",
        "\n"
      ]
    },
    {
      "cell_type": "code",
      "execution_count": null,
      "id": "f0bbb65b",
      "metadata": {
        "id": "f0bbb65b",
        "outputId": "6dea27cd-1648-45bf-fe5c-e7076959167e"
      },
      "outputs": [
        {
          "data": {
            "text/html": [
              "<div>\n",
              "<style scoped>\n",
              "    .dataframe tbody tr th:only-of-type {\n",
              "        vertical-align: middle;\n",
              "    }\n",
              "\n",
              "    .dataframe tbody tr th {\n",
              "        vertical-align: top;\n",
              "    }\n",
              "\n",
              "    .dataframe thead th {\n",
              "        text-align: right;\n",
              "    }\n",
              "</style>\n",
              "<table border=\"1\" class=\"dataframe\">\n",
              "  <thead>\n",
              "    <tr style=\"text-align: right;\">\n",
              "      <th></th>\n",
              "      <th>count</th>\n",
              "      <th>mean</th>\n",
              "      <th>std</th>\n",
              "      <th>min</th>\n",
              "      <th>25%</th>\n",
              "      <th>50%</th>\n",
              "      <th>75%</th>\n",
              "      <th>max</th>\n",
              "    </tr>\n",
              "  </thead>\n",
              "  <tbody>\n",
              "    <tr>\n",
              "      <th>Thor</th>\n",
              "      <td>20.0</td>\n",
              "      <td>6.50</td>\n",
              "      <td>2.502630</td>\n",
              "      <td>1.0</td>\n",
              "      <td>5.00</td>\n",
              "      <td>6.5</td>\n",
              "      <td>8.00</td>\n",
              "      <td>10.0</td>\n",
              "    </tr>\n",
              "    <tr>\n",
              "      <th>Justice League</th>\n",
              "      <td>20.0</td>\n",
              "      <td>6.10</td>\n",
              "      <td>2.381950</td>\n",
              "      <td>1.0</td>\n",
              "      <td>5.00</td>\n",
              "      <td>6.5</td>\n",
              "      <td>8.00</td>\n",
              "      <td>10.0</td>\n",
              "    </tr>\n",
              "    <tr>\n",
              "      <th>Spiderman</th>\n",
              "      <td>20.0</td>\n",
              "      <td>6.65</td>\n",
              "      <td>2.300458</td>\n",
              "      <td>2.0</td>\n",
              "      <td>4.75</td>\n",
              "      <td>7.5</td>\n",
              "      <td>9.00</td>\n",
              "      <td>9.0</td>\n",
              "    </tr>\n",
              "    <tr>\n",
              "      <th>The Notebook</th>\n",
              "      <td>20.0</td>\n",
              "      <td>5.60</td>\n",
              "      <td>2.643761</td>\n",
              "      <td>1.0</td>\n",
              "      <td>4.00</td>\n",
              "      <td>5.0</td>\n",
              "      <td>7.00</td>\n",
              "      <td>10.0</td>\n",
              "    </tr>\n",
              "    <tr>\n",
              "      <th>Casablanca</th>\n",
              "      <td>20.0</td>\n",
              "      <td>5.15</td>\n",
              "      <td>2.852054</td>\n",
              "      <td>1.0</td>\n",
              "      <td>3.50</td>\n",
              "      <td>5.5</td>\n",
              "      <td>8.00</td>\n",
              "      <td>9.0</td>\n",
              "    </tr>\n",
              "    <tr>\n",
              "      <th>Beauty and the Beast</th>\n",
              "      <td>20.0</td>\n",
              "      <td>5.55</td>\n",
              "      <td>2.855742</td>\n",
              "      <td>1.0</td>\n",
              "      <td>3.50</td>\n",
              "      <td>6.5</td>\n",
              "      <td>8.00</td>\n",
              "      <td>10.0</td>\n",
              "    </tr>\n",
              "    <tr>\n",
              "      <th>Dolittle</th>\n",
              "      <td>20.0</td>\n",
              "      <td>6.15</td>\n",
              "      <td>3.116594</td>\n",
              "      <td>1.0</td>\n",
              "      <td>3.00</td>\n",
              "      <td>7.0</td>\n",
              "      <td>9.00</td>\n",
              "      <td>10.0</td>\n",
              "    </tr>\n",
              "    <tr>\n",
              "      <th>The Kissing Booth</th>\n",
              "      <td>20.0</td>\n",
              "      <td>5.70</td>\n",
              "      <td>3.180533</td>\n",
              "      <td>1.0</td>\n",
              "      <td>3.50</td>\n",
              "      <td>6.0</td>\n",
              "      <td>8.25</td>\n",
              "      <td>10.0</td>\n",
              "    </tr>\n",
              "    <tr>\n",
              "      <th>Annabelle</th>\n",
              "      <td>20.0</td>\n",
              "      <td>5.40</td>\n",
              "      <td>2.817240</td>\n",
              "      <td>1.0</td>\n",
              "      <td>3.50</td>\n",
              "      <td>6.0</td>\n",
              "      <td>7.25</td>\n",
              "      <td>10.0</td>\n",
              "    </tr>\n",
              "    <tr>\n",
              "      <th>Insidious</th>\n",
              "      <td>20.0</td>\n",
              "      <td>5.55</td>\n",
              "      <td>2.605157</td>\n",
              "      <td>1.0</td>\n",
              "      <td>4.00</td>\n",
              "      <td>5.0</td>\n",
              "      <td>7.25</td>\n",
              "      <td>10.0</td>\n",
              "    </tr>\n",
              "  </tbody>\n",
              "</table>\n",
              "</div>"
            ],
            "text/plain": [
              "                      count  mean       std  min   25%  50%   75%   max\n",
              "Thor                   20.0  6.50  2.502630  1.0  5.00  6.5  8.00  10.0\n",
              "Justice League         20.0  6.10  2.381950  1.0  5.00  6.5  8.00  10.0\n",
              "Spiderman              20.0  6.65  2.300458  2.0  4.75  7.5  9.00   9.0\n",
              "The Notebook           20.0  5.60  2.643761  1.0  4.00  5.0  7.00  10.0\n",
              "Casablanca             20.0  5.15  2.852054  1.0  3.50  5.5  8.00   9.0\n",
              "Beauty and the Beast   20.0  5.55  2.855742  1.0  3.50  6.5  8.00  10.0\n",
              "Dolittle               20.0  6.15  3.116594  1.0  3.00  7.0  9.00  10.0\n",
              "The Kissing Booth      20.0  5.70  3.180533  1.0  3.50  6.0  8.25  10.0\n",
              "Annabelle              20.0  5.40  2.817240  1.0  3.50  6.0  7.25  10.0\n",
              "Insidious              20.0  5.55  2.605157  1.0  4.00  5.0  7.25  10.0"
            ]
          },
          "execution_count": 11,
          "metadata": {},
          "output_type": "execute_result"
        }
      ],
      "source": [
        "# View a statistical summary of the data frame using \".describe()\"\n",
        "# Note: Use \".transpose()\" to make the summary easier to read\n",
        "\n"
      ]
    },
    {
      "cell_type": "markdown",
      "source": [
        "# Observations\n",
        "\n",
        "- There are 20 rows and 10 columns in the data\n",
        "- Each row corresponds to the movie ratings given by a particular user\n",
        "- Each column corresponds to the user ratings given to a particular movie\n",
        "- The movie ratings range from 1 to 10 and they are whole numbers"
      ],
      "metadata": {
        "id": "iPp8VALL4yHo"
      },
      "id": "iPp8VALL4yHo"
    },
    {
      "cell_type": "markdown",
      "source": [
        "# Task 2 - Extract vectors from the data"
      ],
      "metadata": {
        "id": "P1cOlnrY7SLP"
      },
      "id": "P1cOlnrY7SLP"
    },
    {
      "cell_type": "markdown",
      "source": [
        "![](https://www.grc.nasa.gov/www/k-12/airplane/Images/vectors.jpg)"
      ],
      "metadata": {
        "id": "tf5Sx6oR8Irl"
      },
      "id": "tf5Sx6oR8Irl"
    },
    {
      "cell_type": "markdown",
      "source": [
        "### **Scalars, Vectors, Matrices in Data Science**"
      ],
      "metadata": {
        "id": "JM5qyO3k8N9s"
      },
      "id": "JM5qyO3k8N9s"
    },
    {
      "cell_type": "markdown",
      "source": [
        "![](https://miro.medium.com/max/957/1*jRyyMAhS_NZxqyv3EoLCvg.png)"
      ],
      "metadata": {
        "id": "JPzpifXz7VDb"
      },
      "id": "JPzpifXz7VDb"
    },
    {
      "cell_type": "markdown",
      "source": [
        "By Looking at the df.head() in previous code, you have seen that there are two types of vectors that we can extract from the data:\n",
        "\n",
        "- Row vectors - these contain the movie ratings given by a particular user\n",
        "- Column vectors - these contain the user ratings given to a particular movie"
      ],
      "metadata": {
        "id": "XfriRUZM8o1I"
      },
      "id": "XfriRUZM8o1I"
    },
    {
      "cell_type": "markdown",
      "source": [
        "## **`Watch Video 2 : Dot Product(Coding)`**"
      ],
      "metadata": {
        "id": "d7l5OFpvZG9p"
      },
      "id": "d7l5OFpvZG9p"
    },
    {
      "cell_type": "markdown",
      "source": [
        "### **This is a nice blog on the use of iloc and loc methods**\n",
        "\n",
        "https://towardsdatascience.com/how-to-use-loc-and-iloc-for-selecting-data-in-pandas-bd09cb4c3d79\n",
        "\n",
        "**NOTE**: open in incognito mode if you are not able to read."
      ],
      "metadata": {
        "id": "-Cw-01AyM6zK"
      },
      "id": "-Cw-01AyM6zK"
    },
    {
      "cell_type": "code",
      "execution_count": null,
      "id": "465e4d19",
      "metadata": {
        "id": "465e4d19",
        "outputId": "8bd70a2e-3478-46ae-acfe-ff12945214a6"
      },
      "outputs": [
        {
          "data": {
            "text/plain": [
              "Thor                     9\n",
              "Justice League          10\n",
              "Spiderman                8\n",
              "The Notebook             3\n",
              "Casablanca               1\n",
              "Beauty and the Beast     1\n",
              "Dolittle                 2\n",
              "The Kissing Booth        5\n",
              "Annabelle                7\n",
              "Insidious                8\n",
              "Name: Ben, dtype: int64"
            ]
          },
          "execution_count": 15,
          "metadata": {},
          "output_type": "execute_result"
        }
      ],
      "source": [
        "# Access the movie ratings vector for the user \"Ben\" using \".loc[]\"\n"
      ]
    },
    {
      "cell_type": "code",
      "execution_count": null,
      "id": "c13b04ae",
      "metadata": {
        "id": "c13b04ae",
        "outputId": "2eee0baf-d4f8-4bb3-8cb1-a31c82b30560"
      },
      "outputs": [
        {
          "data": {
            "text/plain": [
              "Thor                     3\n",
              "Justice League           3\n",
              "Spiderman                2\n",
              "The Notebook             7\n",
              "Casablanca               8\n",
              "Beauty and the Beast     7\n",
              "Dolittle                10\n",
              "The Kissing Booth        9\n",
              "Annabelle                4\n",
              "Insidious                5\n",
              "Name: Niti, dtype: int64"
            ]
          },
          "execution_count": 16,
          "metadata": {},
          "output_type": "execute_result"
        }
      ],
      "source": [
        "# Access the movie ratings vector for the user \"Niti\" using \".loc[]\"\n"
      ]
    },
    {
      "cell_type": "code",
      "execution_count": null,
      "id": "6a6d0511",
      "metadata": {
        "id": "6a6d0511",
        "outputId": "2a0f9b64-a84b-4686-f1d5-0690f463e3b0"
      },
      "outputs": [
        {
          "data": {
            "text/plain": [
              "User\n",
              "Arnold        6\n",
              "Ben           9\n",
              "Catherine    10\n",
              "Disha         6\n",
              "Euclid        7\n",
              "Farhaan       6\n",
              "Gaurav        8\n",
              "Hilbert       6\n",
              "Indira       10\n",
              "Jason        10\n",
              "Kenny         3\n",
              "Lambert       5\n",
              "Manish        7\n",
              "Niti          3\n",
              "Oliver        4\n",
              "Pranav        8\n",
              "Qader         8\n",
              "Ravi          8\n",
              "Sushant       5\n",
              "Tavneet       1\n",
              "Name: Thor, dtype: int64"
            ]
          },
          "execution_count": 17,
          "metadata": {},
          "output_type": "execute_result"
        }
      ],
      "source": [
        "# Access the user ratings vector for the movie \"Thor\"\n",
        "# Note: You may access column vectors either directly or using \".loc[]\"\n",
        "\n"
      ]
    },
    {
      "cell_type": "code",
      "execution_count": null,
      "id": "af283d1b",
      "metadata": {
        "id": "af283d1b",
        "outputId": "b2330856-6b28-4816-f488-92fa43b62c27"
      },
      "outputs": [
        {
          "data": {
            "text/plain": [
              "User\n",
              "Arnold        4\n",
              "Ben           1\n",
              "Catherine     7\n",
              "Disha        10\n",
              "Euclid        5\n",
              "Farhaan       7\n",
              "Gaurav        1\n",
              "Hilbert       8\n",
              "Indira        4\n",
              "Jason         6\n",
              "Kenny         8\n",
              "Lambert       8\n",
              "Manish        8\n",
              "Niti          7\n",
              "Oliver        1\n",
              "Pranav        2\n",
              "Qader         6\n",
              "Ravi          8\n",
              "Sushant       2\n",
              "Tavneet       8\n",
              "Name: Beauty and the Beast, dtype: int64"
            ]
          },
          "execution_count": 18,
          "metadata": {},
          "output_type": "execute_result"
        }
      ],
      "source": [
        "# Access the user ratings vector for the movie \"Beauty and the Beast\"\n",
        "\n",
        "\n"
      ]
    },
    {
      "cell_type": "markdown",
      "source": [
        "# Observations\n",
        "\n",
        "- There are two types of vectors that we can work with:\n",
        "- The movie ratings vectors for a particular user (row vectors) that are 10-long since there are 10 movies in the data set\n",
        "- The user ratings vectors for a particular movie (column vectors) that are 20-long since there are 20 users in the data set"
      ],
      "metadata": {
        "id": "oX9WFtET9RUA"
      },
      "id": "oX9WFtET9RUA"
    },
    {
      "cell_type": "markdown",
      "source": [
        "# Task 3 - Calculate dot products of vectors"
      ],
      "metadata": {
        "id": "0JnpEl4L9bTo"
      },
      "id": "0JnpEl4L9bTo"
    },
    {
      "cell_type": "markdown",
      "source": [
        "Check this documentation for dot product\n",
        "\n",
        "https://numpy.org/doc/stable/reference/generated/numpy.dot.html"
      ],
      "metadata": {
        "id": "VUOQtqywNadK"
      },
      "id": "VUOQtqywNadK"
    },
    {
      "cell_type": "code",
      "execution_count": null,
      "id": "94e79388",
      "metadata": {
        "id": "94e79388",
        "outputId": "63847123-c298-449b-8951-39c87015bcda"
      },
      "outputs": [
        {
          "data": {
            "text/plain": [
              "237"
            ]
          },
          "execution_count": 22,
          "metadata": {},
          "output_type": "execute_result"
        }
      ],
      "source": [
        "# Calculate the dot product of the movie ratings vectors for the users \"Disha\" and \"Oliver\" using \"np.dot()\"\n",
        "# Note: You must enter two vectors as parameters to \"np.dot()\"\n",
        "\n"
      ]
    },
    {
      "cell_type": "code",
      "execution_count": null,
      "id": "bdb607c8",
      "metadata": {
        "id": "bdb607c8",
        "outputId": "5c243b14-9127-47af-e0db-d9f622815d3f"
      },
      "outputs": [
        {
          "data": {
            "text/plain": [
              "561"
            ]
          },
          "execution_count": 23,
          "metadata": {},
          "output_type": "execute_result"
        }
      ],
      "source": [
        "# Calculate the dot product of the movie ratings vector for the user \"Disha\" with itself using \"np.dot()\"\n",
        "\n"
      ]
    },
    {
      "cell_type": "code",
      "execution_count": null,
      "id": "f6ac8f93",
      "metadata": {
        "id": "f6ac8f93",
        "outputId": "3724ab64-15fc-4361-84dd-8ebafc895086"
      },
      "outputs": [
        {
          "data": {
            "text/plain": [
              "566"
            ]
          },
          "execution_count": 24,
          "metadata": {},
          "output_type": "execute_result"
        }
      ],
      "source": [
        "# Calculate the dot product of the user ratings vectors for the movies \"Casablanca\" and \"Annabelle\" using \"np.dot()\"\n",
        "\n"
      ]
    },
    {
      "cell_type": "code",
      "execution_count": null,
      "id": "97b9bd2b",
      "metadata": {
        "id": "97b9bd2b",
        "outputId": "a7efd9ab-fb7f-4214-bd89-df0a84e5fd0b"
      },
      "outputs": [
        {
          "data": {
            "text/plain": [
              "685"
            ]
          },
          "execution_count": 25,
          "metadata": {},
          "output_type": "execute_result"
        }
      ],
      "source": [
        "# Calculate the dot product of the user ratings vector for the movie \"Casablanca\" with itself using \"np.dot()\"\n",
        "\n"
      ]
    },
    {
      "cell_type": "markdown",
      "source": [
        "# Observations\n",
        "\n",
        "- Dot products can only be calculated for vectors of the same length\n",
        "- Dot products between movie ratings vectors for a particular user in this data can theoretically range from 10 to 1000\n",
        "- Dot products between user ratings vectors for a particular movie in this data can theoretically range from 20 to 2000"
      ],
      "metadata": {
        "id": "2semdHWp9nKX"
      },
      "id": "2semdHWp9nKX"
    },
    {
      "cell_type": "markdown",
      "source": [
        "# Task 4 - Create a function to calculate magnitudes of vectors"
      ],
      "metadata": {
        "id": "6K3FhCIV-KWO"
      },
      "id": "6K3FhCIV-KWO"
    },
    {
      "cell_type": "markdown",
      "source": [
        "### We will create a function to calculate the magnitude of a vector and use it as a measure of the strength of that vector"
      ],
      "metadata": {
        "id": "EYMsjhz9ERsR"
      },
      "id": "EYMsjhz9ERsR"
    },
    {
      "cell_type": "markdown",
      "source": [
        "![](https://www.onlinemathlearning.com/image-files/magnitude-vector.png)"
      ],
      "metadata": {
        "id": "ogT0IVpGELTh"
      },
      "id": "ogT0IVpGELTh"
    },
    {
      "cell_type": "code",
      "execution_count": null,
      "id": "9086c21f",
      "metadata": {
        "id": "9086c21f"
      },
      "outputs": [],
      "source": [
        "# Create a function called \"mag()\" which takes in a vector and returns its magnitude\n",
        "# Note: The square root of the dot product of a vector with itself is equal to its magnitude\n",
        "# Note: Use the \"np.dot()\" function to calculate dot products and the \"np.sqrt()\" function to calculate square roots\n",
        "\n",
        "\n"
      ]
    },
    {
      "cell_type": "code",
      "execution_count": null,
      "id": "b65ea200",
      "metadata": {
        "id": "b65ea200",
        "outputId": "8b80d03d-1fe5-4f4e-ebe7-0777561eb9ca"
      },
      "outputs": [
        {
          "data": {
            "text/plain": [
              "18.788294228055936"
            ]
          },
          "execution_count": 30,
          "metadata": {},
          "output_type": "execute_result"
        }
      ],
      "source": [
        "# Use the function \"mag()\" to find the magnitude of the movie ratings vector for the user \"Pranav\"\n",
        "\n",
        "\n"
      ]
    },
    {
      "cell_type": "code",
      "execution_count": null,
      "id": "be1df12d",
      "metadata": {
        "id": "be1df12d",
        "outputId": "9b9d7988-f12f-4ae6-8909-bf6420f1f9d7"
      },
      "outputs": [
        {
          "data": {
            "text/plain": [
              "29.189039038652847"
            ]
          },
          "execution_count": 31,
          "metadata": {},
          "output_type": "execute_result"
        }
      ],
      "source": [
        "# Use the function \"mag()\" to find the magnitude of the user ratings vector for the movie \"Justice League\"\n",
        "\n",
        "\n"
      ]
    },
    {
      "cell_type": "markdown",
      "source": [
        "# Observations\n",
        "\n",
        "- The magnitude of a vector indicates the strength of the values in that vector\n",
        "- The smaller the magnitude of a vector, the weaker the vector, and vice versa\n",
        "- The larger the magnitude of a vector, the stronger the vector, and vice versa\n",
        "- The magnitudes of the movie ratings vectors for a particular user in this data can theoretically range from 3.16 to 31.6\n",
        "- The magnitudes of the user ratings vectors for a particular movie in this data can theoretically range from 4.47 to 44.7"
      ],
      "metadata": {
        "id": "X7iHwjqEEinp"
      },
      "id": "X7iHwjqEEinp"
    },
    {
      "cell_type": "markdown",
      "source": [
        "# Task 5 - Print a sorted list of users in terms of how much they like movies in general"
      ],
      "metadata": {
        "id": "nsw9YzVEErY8"
      },
      "id": "nsw9YzVEErY8"
    },
    {
      "cell_type": "markdown",
      "source": [
        "### **NOTE**\n",
        "- The magnitude of a vector indicates the strength of the values in that vector\n",
        "- The smaller the magnitude of a vector, the weaker the vector and vice versa\n",
        "- The larger the magnitude of a vector, the stronger the vector and vice versa\n",
        "- We can use the magnitudes of the movie ratings vectors given by particular users to measure their interest in movies"
      ],
      "metadata": {
        "id": "kvFinh5XEyq1"
      },
      "id": "kvFinh5XEyq1"
    },
    {
      "cell_type": "code",
      "execution_count": null,
      "id": "5f80f2aa",
      "metadata": {
        "id": "5f80f2aa"
      },
      "outputs": [],
      "source": [
        "# Calculate the magnitudes of the movie ratings vectors for all 20 users and sort them in descending order\n",
        "# Note: Use the \"mag()\" function to calculate magnitudes of movie ratings vectors for particular users\n",
        "# Note: Use these magnitudes as a measure of interest of users in watching movies\n",
        "# Note: Store the resulting values in a Pandas Series with index as user names and name the series \"users\"\n",
        "# Note: The \"index\" parameter of the series can be set as \"df.index\"\n",
        "# Note: You may need to specify the \"dtype\" parameter of the series as \"float64\" to avoid some warnings\n",
        "# Note: Use the \".sort_values()\" function with the \"ascending\" parameter set to \"False\"\n",
        "users = # code here\n",
        "\n",
        "for user in users.index:\n",
        "    # save mag of user from df in users\n",
        "    \n",
        "\n",
        "\n",
        "users = # sort here"
      ]
    },
    {
      "cell_type": "code",
      "execution_count": null,
      "id": "3e07f366",
      "metadata": {
        "id": "3e07f366",
        "outputId": "25fbd532-b7ed-4bf1-85a2-8ae6a8ff1d67"
      },
      "outputs": [
        {
          "data": {
            "text/plain": [
              "User\n",
              "Ravi         27.349589\n",
              "Catherine    24.617067\n",
              "Disha        23.685439\n",
              "Lambert      22.538855\n",
              "Euclid       21.954498\n",
              "Hilbert      20.880613\n",
              "Farhaan      20.639767\n",
              "Indira       20.297783\n",
              "Niti         20.149442\n",
              "Jason        20.149442\n",
              "Ben          19.949937\n",
              "Gaurav       19.798990\n",
              "Manish       19.798990\n",
              "Tavneet      19.339080\n",
              "Pranav       18.788294\n",
              "Qader        18.439089\n",
              "Sushant      17.464249\n",
              "Arnold       17.435596\n",
              "Kenny        16.552945\n",
              "Oliver       12.489996\n",
              "dtype: float64"
            ]
          },
          "execution_count": 36,
          "metadata": {},
          "output_type": "execute_result"
        }
      ],
      "source": [
        "# Print the \"users\" series\n",
        "\n",
        "\n"
      ]
    },
    {
      "cell_type": "markdown",
      "source": [
        "# Observations\n",
        "\n",
        "- The user \"Ravi\" has the highest interest in watching movies\n",
        "- The user \"Oliver\" has the least interest in watching movies"
      ],
      "metadata": {
        "id": "PnnetKRkFJGX"
      },
      "id": "PnnetKRkFJGX"
    },
    {
      "cell_type": "markdown",
      "source": [
        "# Task 6 - Print a sorted list of movies in terms of their popularity"
      ],
      "metadata": {
        "id": "YZ5jzJQQFOdP"
      },
      "id": "YZ5jzJQQFOdP"
    },
    {
      "cell_type": "markdown",
      "source": [
        "### **NOTE**\n",
        "\n",
        "- The magnitude of a vector indicates the strength of the values in that vector\n",
        "- The smaller the magnitude of a vector, the weaker the vector, and vice versa\n",
        "- The larger the magnitude of a vector, the stronger the vector, and vice versa\n",
        "- We can use the magnitudes of the user ratings vectors given to particular movies to measure their popularity"
      ],
      "metadata": {
        "id": "LbaXgrB3FRR4"
      },
      "id": "LbaXgrB3FRR4"
    },
    {
      "cell_type": "code",
      "execution_count": null,
      "id": "d24d56c2",
      "metadata": {
        "id": "d24d56c2"
      },
      "outputs": [],
      "source": [
        "# Calculate the magnitudes of the user ratings vectors for all 10 movies and sort them in descending order\n",
        "# Note: Use the \"mag()\" function to calculate magnitudes of user ratings vectors for particular movies\n",
        "# Note: Use these magnitudes as a measure of the popularity of the movies\n",
        "# Note: Store the resulting values in a Pandas Series with index as movie names and name the series \"movies\"\n",
        "# Note: The \"index\" parameter of the series can be set as \"df.columns\"\n",
        "# Note: You may need to specify the \"dtype\" parameter of the series as \"float64\" to avoid some warnings\n",
        "# Note: Use the \".sort_values()\" function with the \"ascending\" parameter set to \"False\"\n",
        "\n",
        "movies = # code here\n",
        "for movie in movies.index:\n",
        "    # save mag for each movie in movies\n",
        "    \n",
        "\n",
        "# sort by values    \n",
        "movies = "
      ]
    },
    {
      "cell_type": "code",
      "execution_count": null,
      "id": "7480b1d0",
      "metadata": {
        "id": "7480b1d0",
        "outputId": "e943855f-e0ea-411b-cd1b-725039ef70b1"
      },
      "outputs": [
        {
          "data": {
            "text/plain": [
              "Spiderman               31.384710\n",
              "Thor                    31.048349\n",
              "Dolittle                30.675723\n",
              "Justice League          29.189039\n",
              "The Kissing Booth       29.017236\n",
              "Beauty and the Beast    27.766887\n",
              "The Notebook            27.568098\n",
              "Insidious               27.294688\n",
              "Annabelle               27.092434\n",
              "Casablanca              26.172505\n",
              "dtype: float64"
            ]
          },
          "execution_count": 41,
          "metadata": {},
          "output_type": "execute_result"
        }
      ],
      "source": [
        "# Print the \"movies\" series\n"
      ]
    },
    {
      "cell_type": "markdown",
      "source": [
        "# Observations\n",
        "\n",
        "- The most popular movie is \"Spiderman\"\n",
        "- The least popular movie is \"Casablanca\""
      ],
      "metadata": {
        "id": "8s2soukyFZxh"
      },
      "id": "8s2soukyFZxh"
    },
    {
      "cell_type": "markdown",
      "source": [
        "# Task 7 - Create a function to calculate the angle between two vectors"
      ],
      "metadata": {
        "id": "Ki1YeYFxFen0"
      },
      "id": "Ki1YeYFxFen0"
    },
    {
      "cell_type": "markdown",
      "source": [
        "### **Some Mathematical Insights**:\n",
        "\n",
        "- The angle between any two vectors can be used as a similarity measure between those two vectors.  We will calculate the angle between two vectors using dot products\n",
        "\n",
        "- The algorithm to find the angle between two vectors is as follows:\n",
        "1. Calculate the dot product of the two vectors\n",
        "2. Calculate the magnitudes of the two vectors\n",
        "3. Divide the value obtained in step 1 by the product of the values obtained in step 2\n",
        "4. Find the inverse cosine of the value obtained in step 3\n",
        "\n",
        "### **Note:**\n",
        "- Note: The angle obtained will be in radians\n",
        "- Note: You may code this out step by step or in one line"
      ],
      "metadata": {
        "id": "PDpzqrK7Fhxu"
      },
      "id": "PDpzqrK7Fhxu"
    },
    {
      "cell_type": "code",
      "execution_count": null,
      "id": "5344bfc9",
      "metadata": {
        "id": "5344bfc9"
      },
      "outputs": [],
      "source": [
        "# Create a function called \"ang()\" which takes in two vectors and returns the angle between them\n",
        "# Note: Use \"np.dot()\" to calculate dot products\n",
        "# Note: Use \"mag()\" to calculate magnitudes\n",
        "# Note: Use \"np.arccos()\" to calculate inverse cosines\n",
        "def ang(vec1, vec2):\n",
        "    # code here\n",
        "\n",
        "    "
      ]
    },
    {
      "cell_type": "code",
      "execution_count": null,
      "id": "d86a1e1d",
      "metadata": {
        "id": "d86a1e1d",
        "outputId": "9cabe604-024f-4553-91e6-fb02b7b1cf33"
      },
      "outputs": [
        {
          "data": {
            "text/plain": [
              "0.5678232699739485"
            ]
          },
          "execution_count": 46,
          "metadata": {},
          "output_type": "execute_result"
        }
      ],
      "source": [
        "# Calculate the angle between the movie ratings vectors for the users \"Ben\" and \"Ravi\" using the function \"ang()\"\n",
        "\n"
      ]
    },
    {
      "cell_type": "code",
      "execution_count": null,
      "id": "909bd3ff",
      "metadata": {
        "id": "909bd3ff",
        "outputId": "33628806-2042-4482-b8a0-ad560617ead7"
      },
      "outputs": [
        {
          "data": {
            "text/plain": [
              "0.566621652026982"
            ]
          },
          "execution_count": 47,
          "metadata": {},
          "output_type": "execute_result"
        }
      ],
      "source": [
        "# Calculate the angle between the user ratings vectors for the movies \"Spiderman\" and \"The Notebook\" using the function \"ang()\"\n",
        "\n",
        "\n"
      ]
    },
    {
      "cell_type": "code",
      "execution_count": null,
      "id": "f76a0771",
      "metadata": {
        "id": "f76a0771",
        "outputId": "8eedf81f-5859-4ce7-9a11-c16d26ab0db1"
      },
      "outputs": [
        {
          "name": "stderr",
          "output_type": "stream",
          "text": [
            "<ipython-input-45-cdf1e810d758>:10: RuntimeWarning: invalid value encountered in arccos\n",
            "  angle = np.arccos(num/den)\n"
          ]
        },
        {
          "data": {
            "text/plain": [
              "nan"
            ]
          },
          "execution_count": 48,
          "metadata": {},
          "output_type": "execute_result"
        }
      ],
      "source": [
        "# Calculate the angle between the user ratings vector for the movie \"Annabelle\" and itself using the function \"ang()\"\n",
        "\n"
      ]
    },
    {
      "cell_type": "markdown",
      "source": [
        "- Notice that you get a \"nan\" value, that is, \"not a number\"\n",
        "- Let's calculate the angle between the user ratings vector for the movie \"Annabelle\" and itself step by step"
      ],
      "metadata": {
        "id": "69ewIsVwK9Qw"
      },
      "id": "69ewIsVwK9Qw"
    },
    {
      "cell_type": "code",
      "execution_count": null,
      "id": "3e20ae5f",
      "metadata": {
        "id": "3e20ae5f"
      },
      "outputs": [],
      "source": [
        "# First, store the user ratings vector for the movie \"Annabelle\" in two variables \"u\" and \"v\"\n",
        "u = \n",
        "v = "
      ]
    },
    {
      "cell_type": "code",
      "execution_count": null,
      "id": "1e57b1bf",
      "metadata": {
        "id": "1e57b1bf"
      },
      "outputs": [],
      "source": [
        "# Next, calculate the numerator of the angle formula, that is the dot product of \"u\" and \"v\" and store the value as \"num\"\n",
        "num = "
      ]
    },
    {
      "cell_type": "code",
      "execution_count": null,
      "id": "de32e2ac",
      "metadata": {
        "id": "de32e2ac",
        "outputId": "daaa3987-2708-44e5-b465-6ffc81e04b6d"
      },
      "outputs": [
        {
          "data": {
            "text/plain": [
              "734"
            ]
          },
          "execution_count": 52,
          "metadata": {},
          "output_type": "execute_result"
        }
      ],
      "source": [
        "# Print the value of the numerator\n",
        "num"
      ]
    },
    {
      "cell_type": "code",
      "execution_count": null,
      "id": "31b269fe",
      "metadata": {
        "id": "31b269fe"
      },
      "outputs": [],
      "source": [
        "# Next, calculate the magnitudes of the two vectors \"u\" and \"v\" and store them in two variables \"mag_u\" and \"mag_v\"\n",
        "mag_u = \n",
        "mag_v = "
      ]
    },
    {
      "cell_type": "code",
      "execution_count": null,
      "id": "b52420d7",
      "metadata": {
        "id": "b52420d7"
      },
      "outputs": [],
      "source": [
        "# Next, calculate the denominator of the angle formula, that is the product of \"mag_u\" and \"mag_v\" and store the value as \"den\"\n",
        "den = \n"
      ]
    },
    {
      "cell_type": "code",
      "execution_count": null,
      "id": "34ba5466",
      "metadata": {
        "id": "34ba5466",
        "outputId": "97cbf13c-230a-4442-c2aa-86cece5ab867"
      },
      "outputs": [
        {
          "data": {
            "text/plain": [
              "733.9999999999999"
            ]
          },
          "execution_count": 55,
          "metadata": {},
          "output_type": "execute_result"
        }
      ],
      "source": [
        "# Print the value of the denominator\n",
        "\n"
      ]
    },
    {
      "cell_type": "markdown",
      "source": [
        "- Notice that the denominator is nearly equal to the numerator but slightly less than it. This is because of the precision limitation when storing numbers using Python."
      ],
      "metadata": {
        "id": "-oSZMOG-LwpY"
      },
      "id": "-oSZMOG-LwpY"
    },
    {
      "cell_type": "code",
      "execution_count": null,
      "id": "cc8ef40f",
      "metadata": {
        "id": "cc8ef40f",
        "outputId": "6cd1525e-417c-4c97-a283-0ef1ce3b996a"
      },
      "outputs": [
        {
          "name": "stderr",
          "output_type": "stream",
          "text": [
            "<ipython-input-57-1e6125f2c95e>:2: RuntimeWarning: invalid value encountered in arccos\n",
            "  np.arccos(num/den)\n"
          ]
        },
        {
          "data": {
            "text/plain": [
              "nan"
            ]
          },
          "execution_count": 57,
          "metadata": {},
          "output_type": "execute_result"
        }
      ],
      "source": [
        "# Calculate the inverse cosine of the ratio of the numerator to the denominator\n",
        "\n"
      ]
    },
    {
      "cell_type": "markdown",
      "source": [
        "- Since this ratio (734 / 733.9999999999999) is greater than 1, no such inverse cosine angle is defined. This can be handled in this case by rounding the denominator.\n",
        "- The values in the vectors (and hence their magnitudes) are large enough that rounding them to whole numbers will work\n",
        "- In case you are working with values where rounding is not an option, you will need to use conditional statements"
      ],
      "metadata": {
        "id": "Nha97RiTMCoC"
      },
      "id": "Nha97RiTMCoC"
    },
    {
      "cell_type": "code",
      "execution_count": null,
      "id": "34c32bfa",
      "metadata": {
        "id": "34c32bfa"
      },
      "outputs": [],
      "source": [
        "# Redefine the function \"ang()\" by rounding the denominator part of the angle formula\n",
        "def ang(vec1, vec2):\n",
        "    # code here"
      ]
    },
    {
      "cell_type": "code",
      "execution_count": null,
      "id": "d35150b9",
      "metadata": {
        "id": "d35150b9",
        "outputId": "67a61ce5-f5cc-44b4-e1d4-8b135a543601"
      },
      "outputs": [
        {
          "data": {
            "text/plain": [
              "0.0"
            ]
          },
          "execution_count": 60,
          "metadata": {},
          "output_type": "execute_result"
        }
      ],
      "source": [
        "# Calculate the angle between the user ratings vector for the movie \"Annabelle\" and itself using the function \"ang()\"\n",
        "\n"
      ]
    },
    {
      "cell_type": "markdown",
      "source": [
        "# Observations\n",
        "\n",
        "- The dot product of two vectors can be used to calculate the angle between the two vectors\n",
        "- The angle obtained is in radians\n",
        "- The angle between two vectors measures the similarity between those vectors\n",
        "- The angle between a vector and itself is 0 radians\n",
        "- The smaller the angle between two vectors, the higher their similarity score, and vice versa\n",
        "- The larger the angle between two vectors, the lower their similarity score, and vice versa\n",
        "- To overcome Python's precision limitations, we round the denominator of the angle formula"
      ],
      "metadata": {
        "id": "09WvsBp0Gaqw"
      },
      "id": "09WvsBp0Gaqw"
    },
    {
      "cell_type": "markdown",
      "source": [
        "# Task 8 - Create a function that returns the name of the person who is most similar to a given user\n",
        "\n",
        "- The angle between two vectors can be used as a measure of similarity between the two vectors\n",
        "- The smaller the angle between two vectors, the higher their similarity score, and vice versa\n",
        "- The larger the angle between two vectors, the lower their similarity score, and vice versa\n",
        "- We will create a function that returns the name of the person who is most similar to a given user"
      ],
      "metadata": {
        "id": "7Leev_aMGjQO"
      },
      "id": "7Leev_aMGjQO"
    },
    {
      "cell_type": "code",
      "execution_count": null,
      "id": "34e7596a",
      "metadata": {
        "id": "34e7596a"
      },
      "outputs": [],
      "source": [
        "# Define a function \"usersim()\" that takes in the name of a user and returns the name of the user most similar to them\n",
        "# Note: Use the \"ang()\" function to measure similarities between users (using their movie ratings vectors)\n",
        "# Note: You may create a temporary Pandas Series within the \"usersim()\" function to store the angle values\n",
        "# Note: The \"index\" parameter of the series can be set as \"df.index\"\n",
        "# Note: You may need to specify the \"dtype\" parameter of the series as \"float64\" to avoid some warnings\n",
        "# Note: You may sort the entries in this series and return the second index entry\n",
        "# Note: Use the \".sort_values()\" function with the default value for the \"ascending\" parameter, which is \"True\"\n",
        "# Note: The first entry after sorting will be trivial\n",
        "def usersim(user1):\n",
        "    # code here"
      ]
    },
    {
      "cell_type": "code",
      "execution_count": null,
      "id": "73a542f3",
      "metadata": {
        "id": "73a542f3",
        "outputId": "de4e4194-e8a8-4d92-b492-623056dbf4e4"
      },
      "outputs": [
        {
          "data": {
            "text/plain": [
              "'Ravi'"
            ]
          },
          "execution_count": 65,
          "metadata": {},
          "output_type": "execute_result"
        }
      ],
      "source": [
        "# Use the function \"usersim()\" to find the name of the user who is most similar to the user \"Manish\"\n",
        "\n"
      ]
    },
    {
      "cell_type": "code",
      "execution_count": null,
      "id": "0f9274aa",
      "metadata": {
        "id": "0f9274aa",
        "outputId": "89efcd08-84c0-4ef8-d6b6-f62bd087aecf"
      },
      "outputs": [
        {
          "data": {
            "text/plain": [
              "'Niti'"
            ]
          },
          "execution_count": 66,
          "metadata": {},
          "output_type": "execute_result"
        }
      ],
      "source": [
        "# Use the function \"usersim()\" to find the name of the user who is most similar to the user \"Tavneet\"\n",
        "\n",
        "\n"
      ]
    },
    {
      "cell_type": "code",
      "execution_count": null,
      "id": "091d42a9",
      "metadata": {
        "id": "091d42a9",
        "outputId": "fb0f3870-fdea-4c78-a545-832d4ddd3969"
      },
      "outputs": [
        {
          "data": {
            "text/plain": [
              "'Qader'"
            ]
          },
          "execution_count": 67,
          "metadata": {},
          "output_type": "execute_result"
        }
      ],
      "source": [
        "# Use the function \"usersim()\" to find the name of the user who is most similar to the user \"Indira\"\n",
        "\n"
      ]
    },
    {
      "cell_type": "code",
      "execution_count": null,
      "id": "52199958",
      "metadata": {
        "id": "52199958",
        "outputId": "52650814-e920-4bad-b599-6ae8d0252cd3"
      },
      "outputs": [
        {
          "data": {
            "text/plain": [
              "'Catherine'"
            ]
          },
          "execution_count": 68,
          "metadata": {},
          "output_type": "execute_result"
        }
      ],
      "source": [
        "# Use the function \"usersim()\" to find the name of the user who is most similar to the user \"Qader\"\n",
        "\n"
      ]
    },
    {
      "cell_type": "markdown",
      "source": [
        "# Observations\n",
        "\n",
        "- The angle between the movie ratings vectors for two particular users is a measure of similarity between the users\n",
        "- The similarity score is not symmetric\n",
        "- Rather it pertains to a specific case (such as a specific user)\n",
        "- This is because it is possible for X to be most similar to Y and Y to be most similar to Z\n",
        "- This happens when X and Z are not as similar to each other as X and Y or Y and Z\n",
        "- Transitivity, on the other hand, is a useful assumption for recommendations"
      ],
      "metadata": {
        "id": "EjYj2oB4Gqni"
      },
      "id": "EjYj2oB4Gqni"
    },
    {
      "cell_type": "markdown",
      "source": [
        "# Task 9 - Create a function that returns the name of the movie that is most similar to a given movie"
      ],
      "metadata": {
        "id": "BCSmjaWuGxIL"
      },
      "id": "BCSmjaWuGxIL"
    },
    {
      "cell_type": "markdown",
      "source": [
        "### **Logic**\n",
        "\n",
        "- The angle between two vectors can be used as a measure of similarity between the two vectors. The smaller the angle between two vectors, the higher their similarity score, and vice versa.\n",
        "- The larger the angle between two vectors, the lower their similarity score, and vice versa\n",
        "\n",
        "**What's Next ?**- We will create a function that returns the name of the movie which is most similar to a given movie"
      ],
      "metadata": {
        "id": "kQ5RKlcWG2ws"
      },
      "id": "kQ5RKlcWG2ws"
    },
    {
      "cell_type": "code",
      "execution_count": null,
      "id": "49071b40",
      "metadata": {
        "id": "49071b40"
      },
      "outputs": [],
      "source": [
        "# Define a function \"movesim()\" that takes in the name of a movie and returns the name of the movie most similar to it\n",
        "# Note: Use the \"ang()\" function to measure similarities between movies (using their user ratings vectors)\n",
        "# Note: You may create a temporary Pandas Series within the \"moviesim()\" function to store the angle values\n",
        "# Note: The \"index\" parameter of the series can be set as \"df.columns\"\n",
        "# Note: You may need to specify the \"dtype\" parameter of the series as \"float64\" to avoid some warnings\n",
        "# Note: You may sort the entries in this series and return the second index entry\n",
        "# Note: Use the \".sort_values()\" function with the default value for the \"ascending\" parameter, which is \"True\"\n",
        "# Note: The first entry after sorting will be trivial\n",
        "def moviesim(movie1):\n",
        "    # code here"
      ]
    },
    {
      "cell_type": "code",
      "execution_count": null,
      "id": "5479900e",
      "metadata": {
        "id": "5479900e",
        "outputId": "e8ee5a16-3968-4a1f-dc57-c9d8ca587525"
      },
      "outputs": [
        {
          "data": {
            "text/plain": [
              "'The Notebook'"
            ]
          },
          "execution_count": 73,
          "metadata": {},
          "output_type": "execute_result"
        }
      ],
      "source": [
        "# Use the function \"moviesim()\" to find the name of the movie that is most similar to the movie \"Casablanca\"\n",
        "\n"
      ]
    },
    {
      "cell_type": "code",
      "execution_count": null,
      "id": "84e85fe1",
      "metadata": {
        "id": "84e85fe1",
        "outputId": "062e3760-ba4c-44c7-a063-3a67192b068f"
      },
      "outputs": [
        {
          "data": {
            "text/plain": [
              "'Annabelle'"
            ]
          },
          "execution_count": 74,
          "metadata": {},
          "output_type": "execute_result"
        }
      ],
      "source": [
        "# Use the function \"moviesim()\" to find the name of the movie that is most similar to the movie \"Insidious\"\n",
        "\n"
      ]
    },
    {
      "cell_type": "code",
      "execution_count": null,
      "id": "582beb69",
      "metadata": {
        "id": "582beb69",
        "outputId": "b6fae4a6-8e50-4d6d-e9c8-f216832e9394"
      },
      "outputs": [
        {
          "data": {
            "text/plain": [
              "'Thor'"
            ]
          },
          "execution_count": 75,
          "metadata": {},
          "output_type": "execute_result"
        }
      ],
      "source": [
        "# Use the function \"moviesim()\" to find the name of the movie that is most similar to the movie \"Spiderman\"\n",
        "\n"
      ]
    },
    {
      "cell_type": "code",
      "execution_count": null,
      "id": "c6ac6d15",
      "metadata": {
        "id": "c6ac6d15",
        "outputId": "02d6cffb-85ec-4e64-bec2-a8e61d54d71b"
      },
      "outputs": [
        {
          "data": {
            "text/plain": [
              "'Justice League'"
            ]
          },
          "execution_count": 76,
          "metadata": {},
          "output_type": "execute_result"
        }
      ],
      "source": [
        "# Use the function \"moviesim()\" to find the name of the movie that is most similar to the movie \"Thor\"\n",
        "\n"
      ]
    },
    {
      "cell_type": "markdown",
      "source": [
        "# Observations\n",
        "\n",
        "- The angle between the user ratings vectors for two particular movies is a measure of similarity between the movies\n",
        "- The similarity score is not symmetric\n",
        "- Rather it pertains to a specific case (such as a specific movie)\n",
        "- This is because it is possible for X to be most similar to Y and Y to be most similar to Z\n",
        "- This happens when X and Z are not as similar to each other as X and Y or Y and Z\n",
        "- Transitivity, on the other hand, is a useful assumption for recommendations"
      ],
      "metadata": {
        "id": "Ui6xODbHHLXN"
      },
      "id": "Ui6xODbHHLXN"
    },
    {
      "cell_type": "markdown",
      "source": [
        "# Conclusions\n",
        "\n",
        "- From the user movie ratings data, we can extract movie ratings vectors and user ratings vectors. We can use magnitudes of movie ratings vectors for particular users to measure their interest in movies.\n",
        "- We can use magnitudes of user ratings vectors for particular movies to measure their popularity.\n",
        "- We can use the angle between movies ratings vectors of two users to measure their similarity.\n",
        "- We can use the angle between user ratings vectors of two movies to measure their similarity.\n",
        "- Using these measures, we can recommend similar movies to similar users\n",
        "\n",
        " **This is a very basic look into the working methodology of recommender systems.**"
      ],
      "metadata": {
        "id": "PDD9QveWHQpm"
      },
      "id": "PDD9QveWHQpm"
    },
    {
      "cell_type": "markdown",
      "source": [
        "# **FEEDBACK**\n",
        "\n",
        "https://forms.zohopublic.in/cloudyml/form/CloudyMLStatisticsFeedbackForm/formperma/WV946wnf0sDM_tOlH87RxZR9yMceKWGrtuPOyXzzCRc"
      ],
      "metadata": {
        "id": "nJRZzybfMmxE"
      },
      "id": "nJRZzybfMmxE"
    }
  ],
  "metadata": {
    "kernelspec": {
      "display_name": "Python 3",
      "language": "python",
      "name": "python3"
    },
    "language_info": {
      "codemirror_mode": {
        "name": "ipython",
        "version": 3
      },
      "file_extension": ".py",
      "mimetype": "text/x-python",
      "name": "python",
      "nbconvert_exporter": "python",
      "pygments_lexer": "ipython3",
      "version": "3.8.8"
    },
    "colab": {
      "provenance": [],
      "collapsed_sections": []
    }
  },
  "nbformat": 4,
  "nbformat_minor": 5
}