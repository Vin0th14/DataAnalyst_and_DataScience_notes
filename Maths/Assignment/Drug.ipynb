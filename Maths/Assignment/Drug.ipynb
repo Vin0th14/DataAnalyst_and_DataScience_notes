{
  "cells": [
    {
      "cell_type": "markdown",
      "metadata": {
        "id": "tSz0ITpMbSpo"
      },
      "source": [
        "# <center><u>Drug Assignment</u> </center>"
      ]
    },
    {
      "cell_type": "markdown",
      "metadata": {
        "id": "eSZT_xoobaTF"
      },
      "source": [
        "<center>Now it's assignment time! Let's start by testing the knowledge we have gained so far.</center>"
      ]
    },
    {
      "cell_type": "markdown",
      "metadata": {
        "id": "IHQiqrkHbAKz"
      },
      "source": [
        "# <center><u>Introduction</u> </center>"
      ]
    },
    {
      "cell_type": "markdown",
      "metadata": {
        "id": "VgaM2G5Ub7Z-"
      },
      "source": [
        "This Jupyter notebook is part of your learning experience in the study of applied statistics\n",
        "\n",
        "You will work with data sets that contain blood pressure data of patients in a particular hospital\n",
        "\n",
        "In this exercise, you will perform the following tasks:\n",
        "\n",
        "1 - Load and study the data\n",
        "\n",
        "2 - Conduct an independent two-sample t-test for the data"
      ]
    },
    {
      "cell_type": "markdown",
      "metadata": {
        "id": "pee0DqK8coBK"
      },
      "source": [
        "# Task 1 - Load and study the data"
      ]
    },
    {
      "cell_type": "markdown",
      "metadata": {
        "id": "4Ogkklo_fOKc"
      },
      "source": [
        "Load the libraries.\n"
      ]
    },
    {
      "cell_type": "code",
      "execution_count": null,
      "metadata": {
        "_cell_guid": "3ef82d69-83cd-8ce5-49da-98d3760ba1f3",
        "id": "jH-vmRQma92z"
      },
      "outputs": [],
      "source": [
        "# Load \"numpy\" and \"pandas\" for manipulating numbers and data frames\n",
        "##################### CODE HERE ##########################\n"
      ]
    },
    {
      "cell_type": "markdown",
      "metadata": {
        "id": "prwBQilpfKY7"
      },
      "source": [
        "Load the csv file as pandas dataframe. "
      ]
    },
    {
      "cell_type": "code",
      "execution_count": null,
      "metadata": {
        "_cell_guid": "aaa9b895-2309-9dd4-121b-05e2278187bd",
        "id": "am6dRz8ka92z"
      },
      "outputs": [],
      "source": [
        "# Read in the \"Drug_A.csv\" file as a Pandas Data Frame and store it as \"drug_A\"\n",
        "# Note: Make sure the code and the data are in the same folder or specify the appropriate path\n",
        "##################### CODE HERE ##########################\n"
      ]
    },
    {
      "cell_type": "markdown",
      "metadata": {
        "id": "Gb1dh1hofWIO"
      },
      "source": [
        "Reference:\n",
        "\n",
        "https://pandas.pydata.org/pandas-docs/stable/reference/api/pandas.DataFrame.head.html"
      ]
    },
    {
      "cell_type": "code",
      "execution_count": null,
      "metadata": {
        "colab": {
          "base_uri": "https://localhost:8080/",
          "height": 238
        },
        "id": "ch7wxwrea920",
        "outputId": "1e90081f-cd50-4e89-962c-e40908b925f1"
      },
      "outputs": [
        {
          "data": {
            "text/html": [
              "\n",
              "  <div id=\"df-ac47907e-fc5f-4768-843c-47f4e645115d\">\n",
              "    <div class=\"colab-df-container\">\n",
              "      <div>\n",
              "<style scoped>\n",
              "    .dataframe tbody tr th:only-of-type {\n",
              "        vertical-align: middle;\n",
              "    }\n",
              "\n",
              "    .dataframe tbody tr th {\n",
              "        vertical-align: top;\n",
              "    }\n",
              "\n",
              "    .dataframe thead th {\n",
              "        text-align: right;\n",
              "    }\n",
              "</style>\n",
              "<table border=\"1\" class=\"dataframe\">\n",
              "  <thead>\n",
              "    <tr style=\"text-align: right;\">\n",
              "      <th></th>\n",
              "      <th>BP</th>\n",
              "    </tr>\n",
              "    <tr>\n",
              "      <th>PID</th>\n",
              "      <th></th>\n",
              "    </tr>\n",
              "  </thead>\n",
              "  <tbody>\n",
              "    <tr>\n",
              "      <th>GBH01</th>\n",
              "      <td>124</td>\n",
              "    </tr>\n",
              "    <tr>\n",
              "      <th>GBH04</th>\n",
              "      <td>131</td>\n",
              "    </tr>\n",
              "    <tr>\n",
              "      <th>GBH06</th>\n",
              "      <td>137</td>\n",
              "    </tr>\n",
              "    <tr>\n",
              "      <th>GBH09</th>\n",
              "      <td>141</td>\n",
              "    </tr>\n",
              "    <tr>\n",
              "      <th>GBH10</th>\n",
              "      <td>125</td>\n",
              "    </tr>\n",
              "  </tbody>\n",
              "</table>\n",
              "</div>\n",
              "      <button class=\"colab-df-convert\" onclick=\"convertToInteractive('df-ac47907e-fc5f-4768-843c-47f4e645115d')\"\n",
              "              title=\"Convert this dataframe to an interactive table.\"\n",
              "              style=\"display:none;\">\n",
              "        \n",
              "  <svg xmlns=\"http://www.w3.org/2000/svg\" height=\"24px\"viewBox=\"0 0 24 24\"\n",
              "       width=\"24px\">\n",
              "    <path d=\"M0 0h24v24H0V0z\" fill=\"none\"/>\n",
              "    <path d=\"M18.56 5.44l.94 2.06.94-2.06 2.06-.94-2.06-.94-.94-2.06-.94 2.06-2.06.94zm-11 1L8.5 8.5l.94-2.06 2.06-.94-2.06-.94L8.5 2.5l-.94 2.06-2.06.94zm10 10l.94 2.06.94-2.06 2.06-.94-2.06-.94-.94-2.06-.94 2.06-2.06.94z\"/><path d=\"M17.41 7.96l-1.37-1.37c-.4-.4-.92-.59-1.43-.59-.52 0-1.04.2-1.43.59L10.3 9.45l-7.72 7.72c-.78.78-.78 2.05 0 2.83L4 21.41c.39.39.9.59 1.41.59.51 0 1.02-.2 1.41-.59l7.78-7.78 2.81-2.81c.8-.78.8-2.07 0-2.86zM5.41 20L4 18.59l7.72-7.72 1.47 1.35L5.41 20z\"/>\n",
              "  </svg>\n",
              "      </button>\n",
              "      \n",
              "  <style>\n",
              "    .colab-df-container {\n",
              "      display:flex;\n",
              "      flex-wrap:wrap;\n",
              "      gap: 12px;\n",
              "    }\n",
              "\n",
              "    .colab-df-convert {\n",
              "      background-color: #E8F0FE;\n",
              "      border: none;\n",
              "      border-radius: 50%;\n",
              "      cursor: pointer;\n",
              "      display: none;\n",
              "      fill: #1967D2;\n",
              "      height: 32px;\n",
              "      padding: 0 0 0 0;\n",
              "      width: 32px;\n",
              "    }\n",
              "\n",
              "    .colab-df-convert:hover {\n",
              "      background-color: #E2EBFA;\n",
              "      box-shadow: 0px 1px 2px rgba(60, 64, 67, 0.3), 0px 1px 3px 1px rgba(60, 64, 67, 0.15);\n",
              "      fill: #174EA6;\n",
              "    }\n",
              "\n",
              "    [theme=dark] .colab-df-convert {\n",
              "      background-color: #3B4455;\n",
              "      fill: #D2E3FC;\n",
              "    }\n",
              "\n",
              "    [theme=dark] .colab-df-convert:hover {\n",
              "      background-color: #434B5C;\n",
              "      box-shadow: 0px 1px 3px 1px rgba(0, 0, 0, 0.15);\n",
              "      filter: drop-shadow(0px 1px 2px rgba(0, 0, 0, 0.3));\n",
              "      fill: #FFFFFF;\n",
              "    }\n",
              "  </style>\n",
              "\n",
              "      <script>\n",
              "        const buttonEl =\n",
              "          document.querySelector('#df-ac47907e-fc5f-4768-843c-47f4e645115d button.colab-df-convert');\n",
              "        buttonEl.style.display =\n",
              "          google.colab.kernel.accessAllowed ? 'block' : 'none';\n",
              "\n",
              "        async function convertToInteractive(key) {\n",
              "          const element = document.querySelector('#df-ac47907e-fc5f-4768-843c-47f4e645115d');\n",
              "          const dataTable =\n",
              "            await google.colab.kernel.invokeFunction('convertToInteractive',\n",
              "                                                     [key], {});\n",
              "          if (!dataTable) return;\n",
              "\n",
              "          const docLinkHtml = 'Like what you see? Visit the ' +\n",
              "            '<a target=\"_blank\" href=https://colab.research.google.com/notebooks/data_table.ipynb>data table notebook</a>'\n",
              "            + ' to learn more about interactive tables.';\n",
              "          element.innerHTML = '';\n",
              "          dataTable['output_type'] = 'display_data';\n",
              "          await google.colab.output.renderOutput(dataTable, element);\n",
              "          const docLink = document.createElement('div');\n",
              "          docLink.innerHTML = docLinkHtml;\n",
              "          element.appendChild(docLink);\n",
              "        }\n",
              "      </script>\n",
              "    </div>\n",
              "  </div>\n",
              "  "
            ],
            "text/plain": [
              "        BP\n",
              "PID       \n",
              "GBH01  124\n",
              "GBH04  131\n",
              "GBH06  137\n",
              "GBH09  141\n",
              "GBH10  125"
            ]
          },
          "execution_count": 3,
          "metadata": {},
          "output_type": "execute_result"
        }
      ],
      "source": [
        "# Take a brief look at the data frame \"drug_A\" using \".head()\"\n",
        "##################### CODE HERE ##########################\n"
      ]
    },
    {
      "cell_type": "code",
      "execution_count": null,
      "metadata": {
        "colab": {
          "base_uri": "https://localhost:8080/"
        },
        "id": "cAOGAlcOa920",
        "outputId": "c0bf8ef8-c090-4c24-93e2-54e25197ef36"
      },
      "outputs": [
        {
          "name": "stdout",
          "output_type": "stream",
          "text": [
            "The data (Drug_A) has 20 rows and 1 column.\n",
            "\n",
            "PID = Id of the patient in the hospital\n",
            "BP = Blood Pressure of the patient in the hospital\n"
          ]
        }
      ],
      "source": [
        "# Study the description of the data\n",
        "# Note: Make sure the code and the data description are in the same folder or specify the appropriate path\n",
        "with open('Drug_A_Feature_Description.txt', 'r') as f:\n",
        "    print(f.read())"
      ]
    },
    {
      "cell_type": "markdown",
      "metadata": {
        "id": "WBSbls7mfirS"
      },
      "source": [
        "Reference:-https://www.w3schools.com/python/pandas/ref_df_info.asp"
      ]
    },
    {
      "cell_type": "code",
      "execution_count": null,
      "metadata": {
        "colab": {
          "base_uri": "https://localhost:8080/"
        },
        "id": "Y5P_o4T-a921",
        "outputId": "677f0738-954d-4119-e1bc-b59790312651"
      },
      "outputs": [
        {
          "name": "stdout",
          "output_type": "stream",
          "text": [
            "<class 'pandas.core.frame.DataFrame'>\n",
            "Index: 20 entries, GBH01 to GBH48\n",
            "Data columns (total 1 columns):\n",
            " #   Column  Non-Null Count  Dtype\n",
            "---  ------  --------------  -----\n",
            " 0   BP      20 non-null     int64\n",
            "dtypes: int64(1)\n",
            "memory usage: 960.0+ bytes\n"
          ]
        }
      ],
      "source": [
        "# Look at basic information about the data frame \"drug_A\" using \".info()\"\n",
        "##################### CODE HERE ##########################\n"
      ]
    },
    {
      "cell_type": "markdown",
      "metadata": {
        "id": "-UiC4-hffcfv"
      },
      "source": [
        "Reference:-https://pandas.pydata.org/pandas-docs/stable/reference/api/pandas.DataFrame.shape.html"
      ]
    },
    {
      "cell_type": "code",
      "execution_count": null,
      "metadata": {
        "colab": {
          "base_uri": "https://localhost:8080/"
        },
        "id": "LJxmwiJWe41x",
        "outputId": "f223d0e4-72c5-4199-cff9-54e4d04cd04c"
      },
      "outputs": [
        {
          "data": {
            "text/plain": [
              "(20, 1)"
            ]
          },
          "execution_count": 10,
          "metadata": {},
          "output_type": "execute_result"
        }
      ],
      "source": [
        "# Take a brief look at the shape of the data frame \"drug_A\" using \".shape\"\n",
        "##################### CODE HERE ##########################\n"
      ]
    },
    {
      "cell_type": "code",
      "execution_count": null,
      "metadata": {
        "id": "a7yyjDhQa921"
      },
      "outputs": [],
      "source": [
        "# Read in the \"Drug_B.csv\" file as a Pandas Data Frame and store it as \"drug_B\"\n",
        "# Note: Make sure the code and the data are in the same folder or specify the appropriate path\n",
        "##################### CODE HERE ##########################\n"
      ]
    },
    {
      "cell_type": "code",
      "execution_count": null,
      "metadata": {
        "colab": {
          "base_uri": "https://localhost:8080/",
          "height": 238
        },
        "id": "txxMDp8za923",
        "outputId": "ba622992-1416-4bdc-fc7c-9586012a1e0b"
      },
      "outputs": [
        {
          "data": {
            "text/html": [
              "\n",
              "  <div id=\"df-97709495-954c-4c72-977f-fe8950f82f53\">\n",
              "    <div class=\"colab-df-container\">\n",
              "      <div>\n",
              "<style scoped>\n",
              "    .dataframe tbody tr th:only-of-type {\n",
              "        vertical-align: middle;\n",
              "    }\n",
              "\n",
              "    .dataframe tbody tr th {\n",
              "        vertical-align: top;\n",
              "    }\n",
              "\n",
              "    .dataframe thead th {\n",
              "        text-align: right;\n",
              "    }\n",
              "</style>\n",
              "<table border=\"1\" class=\"dataframe\">\n",
              "  <thead>\n",
              "    <tr style=\"text-align: right;\">\n",
              "      <th></th>\n",
              "      <th>BP</th>\n",
              "    </tr>\n",
              "    <tr>\n",
              "      <th>PID</th>\n",
              "      <th></th>\n",
              "    </tr>\n",
              "  </thead>\n",
              "  <tbody>\n",
              "    <tr>\n",
              "      <th>MRH02</th>\n",
              "      <td>126</td>\n",
              "    </tr>\n",
              "    <tr>\n",
              "      <th>MRH03</th>\n",
              "      <td>125</td>\n",
              "    </tr>\n",
              "    <tr>\n",
              "      <th>MRH05</th>\n",
              "      <td>131</td>\n",
              "    </tr>\n",
              "    <tr>\n",
              "      <th>MRH06</th>\n",
              "      <td>123</td>\n",
              "    </tr>\n",
              "    <tr>\n",
              "      <th>MRH08</th>\n",
              "      <td>119</td>\n",
              "    </tr>\n",
              "  </tbody>\n",
              "</table>\n",
              "</div>\n",
              "      <button class=\"colab-df-convert\" onclick=\"convertToInteractive('df-97709495-954c-4c72-977f-fe8950f82f53')\"\n",
              "              title=\"Convert this dataframe to an interactive table.\"\n",
              "              style=\"display:none;\">\n",
              "        \n",
              "  <svg xmlns=\"http://www.w3.org/2000/svg\" height=\"24px\"viewBox=\"0 0 24 24\"\n",
              "       width=\"24px\">\n",
              "    <path d=\"M0 0h24v24H0V0z\" fill=\"none\"/>\n",
              "    <path d=\"M18.56 5.44l.94 2.06.94-2.06 2.06-.94-2.06-.94-.94-2.06-.94 2.06-2.06.94zm-11 1L8.5 8.5l.94-2.06 2.06-.94-2.06-.94L8.5 2.5l-.94 2.06-2.06.94zm10 10l.94 2.06.94-2.06 2.06-.94-2.06-.94-.94-2.06-.94 2.06-2.06.94z\"/><path d=\"M17.41 7.96l-1.37-1.37c-.4-.4-.92-.59-1.43-.59-.52 0-1.04.2-1.43.59L10.3 9.45l-7.72 7.72c-.78.78-.78 2.05 0 2.83L4 21.41c.39.39.9.59 1.41.59.51 0 1.02-.2 1.41-.59l7.78-7.78 2.81-2.81c.8-.78.8-2.07 0-2.86zM5.41 20L4 18.59l7.72-7.72 1.47 1.35L5.41 20z\"/>\n",
              "  </svg>\n",
              "      </button>\n",
              "      \n",
              "  <style>\n",
              "    .colab-df-container {\n",
              "      display:flex;\n",
              "      flex-wrap:wrap;\n",
              "      gap: 12px;\n",
              "    }\n",
              "\n",
              "    .colab-df-convert {\n",
              "      background-color: #E8F0FE;\n",
              "      border: none;\n",
              "      border-radius: 50%;\n",
              "      cursor: pointer;\n",
              "      display: none;\n",
              "      fill: #1967D2;\n",
              "      height: 32px;\n",
              "      padding: 0 0 0 0;\n",
              "      width: 32px;\n",
              "    }\n",
              "\n",
              "    .colab-df-convert:hover {\n",
              "      background-color: #E2EBFA;\n",
              "      box-shadow: 0px 1px 2px rgba(60, 64, 67, 0.3), 0px 1px 3px 1px rgba(60, 64, 67, 0.15);\n",
              "      fill: #174EA6;\n",
              "    }\n",
              "\n",
              "    [theme=dark] .colab-df-convert {\n",
              "      background-color: #3B4455;\n",
              "      fill: #D2E3FC;\n",
              "    }\n",
              "\n",
              "    [theme=dark] .colab-df-convert:hover {\n",
              "      background-color: #434B5C;\n",
              "      box-shadow: 0px 1px 3px 1px rgba(0, 0, 0, 0.15);\n",
              "      filter: drop-shadow(0px 1px 2px rgba(0, 0, 0, 0.3));\n",
              "      fill: #FFFFFF;\n",
              "    }\n",
              "  </style>\n",
              "\n",
              "      <script>\n",
              "        const buttonEl =\n",
              "          document.querySelector('#df-97709495-954c-4c72-977f-fe8950f82f53 button.colab-df-convert');\n",
              "        buttonEl.style.display =\n",
              "          google.colab.kernel.accessAllowed ? 'block' : 'none';\n",
              "\n",
              "        async function convertToInteractive(key) {\n",
              "          const element = document.querySelector('#df-97709495-954c-4c72-977f-fe8950f82f53');\n",
              "          const dataTable =\n",
              "            await google.colab.kernel.invokeFunction('convertToInteractive',\n",
              "                                                     [key], {});\n",
              "          if (!dataTable) return;\n",
              "\n",
              "          const docLinkHtml = 'Like what you see? Visit the ' +\n",
              "            '<a target=\"_blank\" href=https://colab.research.google.com/notebooks/data_table.ipynb>data table notebook</a>'\n",
              "            + ' to learn more about interactive tables.';\n",
              "          element.innerHTML = '';\n",
              "          dataTable['output_type'] = 'display_data';\n",
              "          await google.colab.output.renderOutput(dataTable, element);\n",
              "          const docLink = document.createElement('div');\n",
              "          docLink.innerHTML = docLinkHtml;\n",
              "          element.appendChild(docLink);\n",
              "        }\n",
              "      </script>\n",
              "    </div>\n",
              "  </div>\n",
              "  "
            ],
            "text/plain": [
              "        BP\n",
              "PID       \n",
              "MRH02  126\n",
              "MRH03  125\n",
              "MRH05  131\n",
              "MRH06  123\n",
              "MRH08  119"
            ]
          },
          "execution_count": 12,
          "metadata": {},
          "output_type": "execute_result"
        }
      ],
      "source": [
        "# Take a brief look at the data frame \"drug_B\" using \".head()\"\n",
        "##################### CODE HERE ##########################\n"
      ]
    },
    {
      "cell_type": "code",
      "execution_count": null,
      "metadata": {
        "colab": {
          "base_uri": "https://localhost:8080/"
        },
        "id": "2pgGcLI8a923",
        "outputId": "cab998f2-dfca-4d81-ff9a-d10d08f0e82a"
      },
      "outputs": [
        {
          "name": "stdout",
          "output_type": "stream",
          "text": [
            "The data (Drug_B) has 25 rows and 1 column.\n",
            "\n",
            "PID = Id of the patient in the hospital\n",
            "BP = Blood Pressure of the patient in the hospital\n"
          ]
        }
      ],
      "source": [
        "# Study the description of the data\n",
        "# Note: Make sure the code and the data description are in the same folder or specify the appropriate path\n",
        "with open('Drug_B_Feature_Description.txt', 'r') as f:\n",
        "    print(f.read())"
      ]
    },
    {
      "cell_type": "code",
      "execution_count": null,
      "metadata": {
        "colab": {
          "base_uri": "https://localhost:8080/"
        },
        "id": "l_tdBhXqa924",
        "outputId": "06f35ce9-98c8-4c46-affc-7d9d16a02fe0"
      },
      "outputs": [
        {
          "name": "stdout",
          "output_type": "stream",
          "text": [
            "<class 'pandas.core.frame.DataFrame'>\n",
            "Index: 25 entries, MRH02 to MRH48\n",
            "Data columns (total 1 columns):\n",
            " #   Column  Non-Null Count  Dtype\n",
            "---  ------  --------------  -----\n",
            " 0   BP      25 non-null     int64\n",
            "dtypes: int64(1)\n",
            "memory usage: 400.0+ bytes\n"
          ]
        }
      ],
      "source": [
        "# Look at basic information about the data frame \"drug_B\" using \".info()\"\n",
        "##################### CODE HERE ##########################\n"
      ]
    },
    {
      "cell_type": "code",
      "execution_count": null,
      "metadata": {
        "colab": {
          "base_uri": "https://localhost:8080/"
        },
        "id": "ieaDPDi5fDfZ",
        "outputId": "490273e7-d692-4584-becd-a75f10b3a234"
      },
      "outputs": [
        {
          "data": {
            "text/plain": [
              "(25, 1)"
            ]
          },
          "execution_count": 15,
          "metadata": {},
          "output_type": "execute_result"
        }
      ],
      "source": [
        "# Take a brief look at the shape of the data frame \"drug_B\" using \".shape\"\n",
        "##################### CODE HERE ##########################\n"
      ]
    },
    {
      "cell_type": "markdown",
      "metadata": {
        "id": "Aowvnf5IhRc6"
      },
      "source": [
        "Observations:-\n",
        "\n",
        "The first sample is the blood pressure data of 20 patients who have been under a steady regime of drug A.\n",
        "\n",
        "The second sample is the blood pressure data of 25 patients who have been under a steady regime of drug B."
      ]
    },
    {
      "cell_type": "markdown",
      "metadata": {
        "id": "_c0tJTIAgbgU"
      },
      "source": [
        "Reference:-\n",
        "\n",
        "https://docs.scipy.org/doc/scipy/reference/tutorial/stats.html"
      ]
    },
    {
      "cell_type": "code",
      "execution_count": null,
      "metadata": {
        "id": "zSJfJwJEa924"
      },
      "outputs": [],
      "source": [
        "# Load \"scipy.stats\" for scientific and statistical methods\n",
        "##################### CODE HERE ##########################\n"
      ]
    },
    {
      "cell_type": "markdown",
      "metadata": {
        "id": "k2hZBbcGhbX7"
      },
      "source": [
        "# Task 2 - Conduct an independent two-sample t-test for the data"
      ]
    },
    {
      "cell_type": "markdown",
      "metadata": {
        "id": "oDenhUTliBpP"
      },
      "source": [
        "Whenever we have to conduct a test, first step is to define the hypothesis.\n",
        "\n",
        "A two sample t-test is used to determine whether or not two population means are equal."
      ]
    },
    {
      "cell_type": "markdown",
      "metadata": {
        "id": "RcrMuGPTp8W0"
      },
      "source": [
        "Let's study the why the test is required by a simple example!!"
      ]
    },
    {
      "cell_type": "markdown",
      "metadata": {
        "id": "FM7u_H61peYC"
      },
      "source": [
        "Suppose we want to know whether or not the mean weight between two different species of turtles is equal. Since there are thousands of turtles in each population, it would be too time-consuming and costly to go around and weigh each individual turtle.\n",
        "\n",
        "Instead, we might take a simple random sample of 15 turtles from each population and use the mean weight in each sample to determine if the mean weight is equal between the two populations:\n",
        "\n",
        "![image.png](data:image/png;base64,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)"
      ]
    },
    {
      "cell_type": "markdown",
      "metadata": {
        "id": "rP5dYyUpp5XK"
      },
      "source": [
        "However, it’s virtually guaranteed that the mean weight between the two samples will be at least a little different. \n",
        "\n",
        "The question is whether or not this difference is statistically significant. Fortunately, a two sample t-test allows us to answer this question."
      ]
    },
    {
      "cell_type": "markdown",
      "metadata": {
        "id": "dqIu9hhYhgd9"
      },
      "source": [
        "Step 1: Define Hypothesis.\n",
        "\n",
        "The null hypothesis is: The average blood pressure of patients under drugs A and B are the same.\n",
        "\n",
        "The alternate hypothesis is: The average blood pressure of patients under drugs A and B are different."
      ]
    },
    {
      "cell_type": "markdown",
      "metadata": {
        "id": "wD2r68MEos86"
      },
      "source": [
        "Step 2: Calculate test statistics\n",
        "\n",
        "Degrees of freedom: Varies by conditions, but the basic rule of thumb for hand calculations is the smaller of n1 – 1 and n2 – 1, where n is the sample size for each group.\n",
        "\n",
        "![image.png](data:image/png;base64,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)"
      ]
    },
    {
      "cell_type": "code",
      "execution_count": null,
      "metadata": {
        "id": "T0lxaC-ya926"
      },
      "outputs": [],
      "source": [
        "# The formula for the t-statistic for an independent two-sample t-test is \"t = (X1 - X2) / SE\"\n",
        "# \"X1\" is the mean of the first sample\n",
        "# \"X2\" is the mean of the second sample\n",
        "# \"SE\" is the pooled standard error\n",
        "# The formula for the pooled standard error is \"SE = s * sqrt(1/n1 + 1/n2)\"\n",
        "# \"s\" is the pooled standard deviation\n",
        "# \"n1\" and \"n2\" are the number of observations in the first and the second samples respectively\n",
        "# The formula for the pooled standard deviation is \"s = sqrt(((n1 - 1)(s1)^2 + (n2 - 1)(s2)^2) / (n1 + n2 - 2))\"\n",
        "# \"s1\" and \"s2\" are the standard deviations of the first and the second samples respectively\n",
        "# Calculate a t-statistic for the data using the appropriate formula and store it as \"t_score\"\n",
        "##################### CODE HERE ##########################\n"
      ]
    },
    {
      "cell_type": "code",
      "execution_count": null,
      "metadata": {
        "colab": {
          "base_uri": "https://localhost:8080/"
        },
        "id": "FRZKnL5ta926",
        "outputId": "ad7977e1-f69f-403a-bdbf-3b1bcb27526d"
      },
      "outputs": [
        {
          "data": {
            "text/plain": [
              "4.903130905208216"
            ]
          },
          "execution_count": 21,
          "metadata": {},
          "output_type": "execute_result"
        }
      ],
      "source": [
        "# Since this is a two-tailed test with a smaller value of 19 degrees of freedom, the critical t-statistic for a confidence level of 95% is about 2.09\n",
        "# Print the value of \"t_score\"\n",
        "##################### CODE HERE ##########################\n"
      ]
    },
    {
      "cell_type": "markdown",
      "metadata": {
        "id": "Q6MZ9_GSqnZC"
      },
      "source": [
        "Step 3:\n",
        "\n",
        "Calculate p value of the test statistic t."
      ]
    },
    {
      "cell_type": "code",
      "execution_count": null,
      "metadata": {
        "id": "cY9KIJ3pa926"
      },
      "outputs": [],
      "source": [
        "# Calculate the p-value associated with the t-statistic\n",
        "# Use the expression \"stats.t.sf(abs(t_score), len(drug_A) + len(drug_B) - 2) * 2\"\n",
        "# Note: Store the resulting p-value as \"p_value\"\n",
        "##################### CODE HERE ##########################\n"
      ]
    },
    {
      "cell_type": "code",
      "execution_count": null,
      "metadata": {
        "colab": {
          "base_uri": "https://localhost:8080/"
        },
        "id": "yQGRcnJAa927",
        "outputId": "cdbd1867-9e93-43d9-8d35-f09700836d9e"
      },
      "outputs": [
        {
          "data": {
            "text/plain": [
              "1.3893190327614213e-05"
            ]
          },
          "execution_count": 23,
          "metadata": {},
          "output_type": "execute_result"
        }
      ],
      "source": [
        "# Print the value of \"p_value\"\n",
        "##################### CODE HERE ##########################\n"
      ]
    },
    {
      "cell_type": "markdown",
      "metadata": {
        "id": "zIhioLLgshQG"
      },
      "source": [
        "  Reference:- https://www.statology.org/two-sample-t-test-python/"
      ]
    },
    {
      "cell_type": "code",
      "execution_count": null,
      "metadata": {
        "id": "4IiFtaYJa927"
      },
      "outputs": [],
      "source": [
        "# Run an independent two-sample t-test for the data using the \"stats.ttest_ind()\" method\n",
        "# Store the resulting t-statistic as \"t_stat\" and the resulting p-value as \"p_val\"\n",
        "# Note: The parameter \"a\" must be set to \"drug_A['BP']\"\n",
        "# Note: The parameter \"b\" must be set to \"drug_B['BP']\"\n",
        "# Note: The parameter \"equal_var\": if True, perform a standard independent 2 sample t-test that assumes equal population variances. \n",
        "##################### CODE HERE ##########################\n"
      ]
    },
    {
      "cell_type": "code",
      "execution_count": null,
      "metadata": {
        "colab": {
          "base_uri": "https://localhost:8080/"
        },
        "id": "KRMW38eja927",
        "outputId": "dce7d7a3-8a47-428b-f218-2e6d1ed75fff"
      },
      "outputs": [
        {
          "data": {
            "text/plain": [
              "4.903130905208216"
            ]
          },
          "execution_count": 31,
          "metadata": {},
          "output_type": "execute_result"
        }
      ],
      "source": [
        "# Print the value of \"t_stat\"\n",
        "##################### CODE HERE ##########################\n"
      ]
    },
    {
      "cell_type": "markdown",
      "metadata": {
        "id": "KjaJnk6ysFK4"
      },
      "source": [
        "Observation:- \n",
        "\n",
        "We can see that without using scipy library we have calculated the same value for t."
      ]
    },
    {
      "cell_type": "code",
      "execution_count": null,
      "metadata": {
        "colab": {
          "base_uri": "https://localhost:8080/"
        },
        "id": "VV1Vf78Ha928",
        "outputId": "225a6d49-7a56-407b-b448-17dd7fbb0499"
      },
      "outputs": [
        {
          "data": {
            "text/plain": [
              "1.3893190327614213e-05"
            ]
          },
          "execution_count": 32,
          "metadata": {},
          "output_type": "execute_result"
        }
      ],
      "source": [
        "# Print the value of \"p_val\"\n",
        "##################### CODE HERE ##########################\n"
      ]
    },
    {
      "cell_type": "markdown",
      "metadata": {
        "id": "_LvDoOIgq5il"
      },
      "source": [
        "Step 4: \n",
        "\n",
        "Draw a conclusion whether null hypothesis is accepted or rejected based upon the p value."
      ]
    },
    {
      "cell_type": "markdown",
      "metadata": {
        "id": "laT7m4iqrgc4"
      },
      "source": [
        "# Observations\n",
        "\n",
        "The calculated t-statistic (about 4.90) is greater than the critical t-statistic (about 2.09)\n",
        "\n",
        "The calculated p-value (nearly 0) is less than 0.05, hence the null hypothesis may be safely rejected.\n",
        "\n",
        "Thus, the alternate hypothesis that the average blood pressure of patients under drugs A and B are different is true"
      ]
    },
    {
      "cell_type": "markdown",
      "metadata": {
        "id": "DTopudb-rVUs"
      },
      "source": [
        "# <center><u>Conclusion</u> </center>"
      ]
    },
    {
      "cell_type": "markdown",
      "metadata": {
        "id": "tHj-qQlZranj"
      },
      "source": [
        "We can use hypothesis testing methods such as the independent two-sample t-test to verify various hypotheses."
      ]
    },
    {
      "cell_type": "code",
      "execution_count": null,
      "metadata": {
        "id": "YAfOMsVKrObZ"
      },
      "outputs": [],
      "source": [
        "##############################################################################################"
      ]
    },
    {
      "cell_type": "markdown",
      "metadata": {
        "id": "F2cbvW-NrL7r"
      },
      "source": [
        "**FEEDBACK**\n",
        "\n",
        "We hope you’ve enjoyed this course so far. We’re committed to help you use \"Stats and maths for data science\" course to its full potential, so that you have a great learning experience. And that’s why we need your help in form of a feedback here.\n",
        "\n",
        "Please fill this feedback form https://forms.zohopublic.in/cloudyml/form/CloudyMLStatisticsFeedbackForm/formperma/WV946wnf0sDM_tOlH87RxZR9yMceKWGrtuPOyXzzCRc"
      ]
    }
  ],
  "metadata": {
    "_change_revision": 6,
    "_is_fork": false,
    "colab": {
      "collapsed_sections": [],
      "provenance": []
    },
    "kernelspec": {
      "display_name": "Python 3",
      "language": "python",
      "name": "python3"
    },
    "language_info": {
      "codemirror_mode": {
        "name": "ipython",
        "version": 3
      },
      "file_extension": ".py",
      "mimetype": "text/x-python",
      "name": "python",
      "nbconvert_exporter": "python",
      "pygments_lexer": "ipython3",
      "version": "3.8.8"
    }
  },
  "nbformat": 4,
  "nbformat_minor": 0
}
