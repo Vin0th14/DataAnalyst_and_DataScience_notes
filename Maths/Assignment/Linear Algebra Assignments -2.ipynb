{
  "cells": [
    {
      "cell_type": "markdown",
      "id": "CmanErQ76ule",
      "metadata": {
        "id": "CmanErQ76ule"
      },
      "source": [
        "# **Norm of Vector**"
      ]
    },
    {
      "cell_type": "markdown",
      "id": "aesf2WOd0b0I",
      "metadata": {
        "id": "aesf2WOd0b0I"
      },
      "source": [
        "![](https://mathsimulationtechnology.files.wordpress.com/2012/02/la_r2vector_length.jpg?w=298&h=285)"
      ]
    },
    {
      "cell_type": "markdown",
      "id": "H0jqHwhW61wE",
      "metadata": {
        "id": "H0jqHwhW61wE"
      },
      "source": [
        "### You will work with a simple data set that contains the sales in a particular year of various sanitizers. you will perform the following tasks:\n",
        "\n",
        "- Load and study the data\n",
        "- Extract vectors from the data\n",
        "- Calculate norms of vectors\n",
        "- Print a sorted list of store IDs in terms of their sales of sanitizers\n",
        "- Print a sorted list of sanitizers in terms of their popularity\n",
        "- Create a function to calculate the norm of the difference of two vectors\n",
        "- Create a function that returns the ID of the store with the most similar sales as a given store\n",
        "- Create a function that returns the name of a sanitizer with the most similar sales as a given sanitizer\n"
      ]
    },
    {
      "cell_type": "markdown",
      "id": "KzNk_GCQabQD",
      "metadata": {
        "id": "KzNk_GCQabQD"
      },
      "source": [
        "# **`WATCH ALL VIDEOS IN THE PORTAL`**\n",
        "## **`Watch Video 3 : Norm Theory`**"
      ]
    },
    {
      "cell_type": "markdown",
      "id": "UmGbDzGe7JgL",
      "metadata": {
        "id": "UmGbDzGe7JgL"
      },
      "source": [
        "## Task 1 - Load and study the data"
      ]
    },
    {
      "cell_type": "code",
      "execution_count": 2,
      "id": "9f5c393c",
      "metadata": {
        "id": "9f5c393c"
      },
      "outputs": [],
      "source": [
        "# Load \"numpy\" and \"pandas\" for manipulating numbers, vectors and data frames\n",
        "import numpy as np\n",
        "import pandas as pd\n"
      ]
    },
    {
      "cell_type": "code",
      "execution_count": 3,
      "id": "5608a781",
      "metadata": {
        "id": "5608a781"
      },
      "outputs": [],
      "source": [
        "# Read in the \"Store_Sanitizer_Sales.csv\" file as a Pandas Data Frame\n",
        "# Note: Make sure the code and the data are in the same folder or specify the appropriate path for the data\n",
        "df = pd.read_csv(r\"E:/DataScience_and_DataAnalyst_Notes/Maths/Dataset/Store_Sanitizer_Sales.csv\",index_col=0)\n"
      ]
    },
    {
      "cell_type": "code",
      "execution_count": 4,
      "id": "159a97da",
      "metadata": {
        "id": "159a97da",
        "outputId": "f4afba69-cbbf-4475-f5c9-185779705296"
      },
      "outputs": [
        {
          "data": {
            "text/html": [
              "<div>\n",
              "<style scoped>\n",
              "    .dataframe tbody tr th:only-of-type {\n",
              "        vertical-align: middle;\n",
              "    }\n",
              "\n",
              "    .dataframe tbody tr th {\n",
              "        vertical-align: top;\n",
              "    }\n",
              "\n",
              "    .dataframe thead th {\n",
              "        text-align: right;\n",
              "    }\n",
              "</style>\n",
              "<table border=\"1\" class=\"dataframe\">\n",
              "  <thead>\n",
              "    <tr style=\"text-align: right;\">\n",
              "      <th></th>\n",
              "      <th>Dettol</th>\n",
              "      <th>Savlon</th>\n",
              "      <th>Himalaya</th>\n",
              "      <th>Lifebuoy</th>\n",
              "      <th>Kaya</th>\n",
              "      <th>Godrej</th>\n",
              "      <th>Dabur</th>\n",
              "    </tr>\n",
              "    <tr>\n",
              "      <th>Store ID</th>\n",
              "      <th></th>\n",
              "      <th></th>\n",
              "      <th></th>\n",
              "      <th></th>\n",
              "      <th></th>\n",
              "      <th></th>\n",
              "      <th></th>\n",
              "    </tr>\n",
              "  </thead>\n",
              "  <tbody>\n",
              "    <tr>\n",
              "      <th>AMD463</th>\n",
              "      <td>8.4</td>\n",
              "      <td>6.5</td>\n",
              "      <td>9.8</td>\n",
              "      <td>5.8</td>\n",
              "      <td>3.2</td>\n",
              "      <td>7.1</td>\n",
              "      <td>3.5</td>\n",
              "    </tr>\n",
              "    <tr>\n",
              "      <th>BGL198</th>\n",
              "      <td>7.3</td>\n",
              "      <td>8.1</td>\n",
              "      <td>10.5</td>\n",
              "      <td>9.1</td>\n",
              "      <td>4.1</td>\n",
              "      <td>3.8</td>\n",
              "      <td>4.0</td>\n",
              "    </tr>\n",
              "    <tr>\n",
              "      <th>CXF008</th>\n",
              "      <td>9.2</td>\n",
              "      <td>10.2</td>\n",
              "      <td>8.6</td>\n",
              "      <td>10.0</td>\n",
              "      <td>4.2</td>\n",
              "      <td>5.6</td>\n",
              "      <td>2.8</td>\n",
              "    </tr>\n",
              "    <tr>\n",
              "      <th>DRH187</th>\n",
              "      <td>11.5</td>\n",
              "      <td>7.1</td>\n",
              "      <td>8.9</td>\n",
              "      <td>8.4</td>\n",
              "      <td>5.0</td>\n",
              "      <td>6.1</td>\n",
              "      <td>4.6</td>\n",
              "    </tr>\n",
              "    <tr>\n",
              "      <th>EWO651</th>\n",
              "      <td>7.4</td>\n",
              "      <td>6.9</td>\n",
              "      <td>10.0</td>\n",
              "      <td>5.8</td>\n",
              "      <td>3.7</td>\n",
              "      <td>8.2</td>\n",
              "      <td>4.5</td>\n",
              "    </tr>\n",
              "  </tbody>\n",
              "</table>\n",
              "</div>"
            ],
            "text/plain": [
              "          Dettol  Savlon  Himalaya  Lifebuoy  Kaya  Godrej  Dabur\n",
              "Store ID                                                         \n",
              "AMD463       8.4     6.5       9.8       5.8   3.2     7.1    3.5\n",
              "BGL198       7.3     8.1      10.5       9.1   4.1     3.8    4.0\n",
              "CXF008       9.2    10.2       8.6      10.0   4.2     5.6    2.8\n",
              "DRH187      11.5     7.1       8.9       8.4   5.0     6.1    4.6\n",
              "EWO651       7.4     6.9      10.0       5.8   3.7     8.2    4.5"
            ]
          },
          "execution_count": 4,
          "metadata": {},
          "output_type": "execute_result"
        }
      ],
      "source": [
        "# Take a brief look at the data frame using \".head()\"\n",
        "df.head()\n"
      ]
    },
    {
      "cell_type": "markdown",
      "id": "YqDl0yUR7Zn2",
      "metadata": {
        "id": "YqDl0yUR7Zn2"
      },
      "source": [
        "#### Feature Description:\n",
        "- The data set contains sales values of sanitizers in various stores.\n",
        "- The sales values are in millions of units sold in the previous year.\n",
        "- Each row contains the sales values of all the sanitizers for a particular store.\n",
        "- Each column contains the sales values of a particular sanitizer in all the stores."
      ]
    },
    {
      "cell_type": "markdown",
      "id": "gp797exa7Qvv",
      "metadata": {
        "id": "gp797exa7Qvv"
      },
      "source": [
        "#### study its features such as:\n",
        "- The number of stores\n",
        "- The number of sanitizers\n",
        "- The ranges of sales"
      ]
    },
    {
      "cell_type": "code",
      "execution_count": 5,
      "id": "5b5bb00f",
      "metadata": {
        "id": "5b5bb00f",
        "outputId": "38e8fcda-d77b-44ae-c37d-35f4e5f67627"
      },
      "outputs": [
        {
          "data": {
            "text/plain": [
              "(15, 7)"
            ]
          },
          "execution_count": 5,
          "metadata": {},
          "output_type": "execute_result"
        }
      ],
      "source": [
        "# Check the dimensions of the data frame using \".shape\"\n",
        "df.shape\n"
      ]
    },
    {
      "cell_type": "code",
      "execution_count": 6,
      "id": "a6b34a1e",
      "metadata": {
        "id": "a6b34a1e",
        "outputId": "2737f6a7-2993-4f52-a989-6f3f347f4da4"
      },
      "outputs": [
        {
          "name": "stdout",
          "output_type": "stream",
          "text": [
            "<class 'pandas.core.frame.DataFrame'>\n",
            "Index: 15 entries, AMD463 to OEP108\n",
            "Data columns (total 7 columns):\n",
            " #   Column    Non-Null Count  Dtype  \n",
            "---  ------    --------------  -----  \n",
            " 0   Dettol    15 non-null     float64\n",
            " 1   Savlon    15 non-null     float64\n",
            " 2   Himalaya  15 non-null     float64\n",
            " 3   Lifebuoy  15 non-null     float64\n",
            " 4   Kaya      15 non-null     float64\n",
            " 5   Godrej    15 non-null     float64\n",
            " 6   Dabur     15 non-null     float64\n",
            "dtypes: float64(7)\n",
            "memory usage: 960.0+ bytes\n"
          ]
        }
      ],
      "source": [
        "# View basic information about the data frame using \".info()\"\n",
        "\n",
        "df.info()"
      ]
    },
    {
      "cell_type": "code",
      "execution_count": 7,
      "id": "f0bbb65b",
      "metadata": {
        "id": "f0bbb65b",
        "outputId": "810a80f5-532f-42a5-eedc-d7321debf09b"
      },
      "outputs": [
        {
          "data": {
            "text/html": [
              "<div>\n",
              "<style scoped>\n",
              "    .dataframe tbody tr th:only-of-type {\n",
              "        vertical-align: middle;\n",
              "    }\n",
              "\n",
              "    .dataframe tbody tr th {\n",
              "        vertical-align: top;\n",
              "    }\n",
              "\n",
              "    .dataframe thead th {\n",
              "        text-align: right;\n",
              "    }\n",
              "</style>\n",
              "<table border=\"1\" class=\"dataframe\">\n",
              "  <thead>\n",
              "    <tr style=\"text-align: right;\">\n",
              "      <th></th>\n",
              "      <th>count</th>\n",
              "      <th>mean</th>\n",
              "      <th>std</th>\n",
              "      <th>min</th>\n",
              "      <th>25%</th>\n",
              "      <th>50%</th>\n",
              "      <th>75%</th>\n",
              "      <th>max</th>\n",
              "    </tr>\n",
              "  </thead>\n",
              "  <tbody>\n",
              "    <tr>\n",
              "      <th>Dettol</th>\n",
              "      <td>15.0</td>\n",
              "      <td>9.293333</td>\n",
              "      <td>2.095392</td>\n",
              "      <td>5.4</td>\n",
              "      <td>7.70</td>\n",
              "      <td>9.2</td>\n",
              "      <td>10.95</td>\n",
              "      <td>12.5</td>\n",
              "    </tr>\n",
              "    <tr>\n",
              "      <th>Savlon</th>\n",
              "      <td>15.0</td>\n",
              "      <td>7.953333</td>\n",
              "      <td>1.473027</td>\n",
              "      <td>5.8</td>\n",
              "      <td>6.95</td>\n",
              "      <td>7.8</td>\n",
              "      <td>8.30</td>\n",
              "      <td>11.0</td>\n",
              "    </tr>\n",
              "    <tr>\n",
              "      <th>Himalaya</th>\n",
              "      <td>15.0</td>\n",
              "      <td>10.140000</td>\n",
              "      <td>2.422749</td>\n",
              "      <td>7.0</td>\n",
              "      <td>8.75</td>\n",
              "      <td>9.8</td>\n",
              "      <td>10.60</td>\n",
              "      <td>16.3</td>\n",
              "    </tr>\n",
              "    <tr>\n",
              "      <th>Lifebuoy</th>\n",
              "      <td>15.0</td>\n",
              "      <td>7.580000</td>\n",
              "      <td>1.721793</td>\n",
              "      <td>4.8</td>\n",
              "      <td>5.95</td>\n",
              "      <td>7.9</td>\n",
              "      <td>8.90</td>\n",
              "      <td>10.1</td>\n",
              "    </tr>\n",
              "    <tr>\n",
              "      <th>Kaya</th>\n",
              "      <td>15.0</td>\n",
              "      <td>4.806667</td>\n",
              "      <td>0.964711</td>\n",
              "      <td>3.2</td>\n",
              "      <td>4.05</td>\n",
              "      <td>4.9</td>\n",
              "      <td>5.55</td>\n",
              "      <td>6.5</td>\n",
              "    </tr>\n",
              "    <tr>\n",
              "      <th>Godrej</th>\n",
              "      <td>15.0</td>\n",
              "      <td>4.673333</td>\n",
              "      <td>2.272653</td>\n",
              "      <td>1.6</td>\n",
              "      <td>2.90</td>\n",
              "      <td>3.8</td>\n",
              "      <td>6.60</td>\n",
              "      <td>8.2</td>\n",
              "    </tr>\n",
              "    <tr>\n",
              "      <th>Dabur</th>\n",
              "      <td>15.0</td>\n",
              "      <td>4.833333</td>\n",
              "      <td>1.405432</td>\n",
              "      <td>2.7</td>\n",
              "      <td>4.00</td>\n",
              "      <td>4.6</td>\n",
              "      <td>5.55</td>\n",
              "      <td>7.5</td>\n",
              "    </tr>\n",
              "  </tbody>\n",
              "</table>\n",
              "</div>"
            ],
            "text/plain": [
              "          count       mean       std  min   25%  50%    75%   max\n",
              "Dettol     15.0   9.293333  2.095392  5.4  7.70  9.2  10.95  12.5\n",
              "Savlon     15.0   7.953333  1.473027  5.8  6.95  7.8   8.30  11.0\n",
              "Himalaya   15.0  10.140000  2.422749  7.0  8.75  9.8  10.60  16.3\n",
              "Lifebuoy   15.0   7.580000  1.721793  4.8  5.95  7.9   8.90  10.1\n",
              "Kaya       15.0   4.806667  0.964711  3.2  4.05  4.9   5.55   6.5\n",
              "Godrej     15.0   4.673333  2.272653  1.6  2.90  3.8   6.60   8.2\n",
              "Dabur      15.0   4.833333  1.405432  2.7  4.00  4.6   5.55   7.5"
            ]
          },
          "execution_count": 7,
          "metadata": {},
          "output_type": "execute_result"
        }
      ],
      "source": [
        "# View a statistical summary of the data frame using \".describe()\"\n",
        "# Note: Use \".transpose()\" to make the summary easier to read\n",
        "\n",
        "df.describe().transpose()\n"
      ]
    },
    {
      "cell_type": "markdown",
      "id": "2u91urlc9Okf",
      "metadata": {
        "id": "2u91urlc9Okf"
      },
      "source": [
        "#### Observations\n",
        "\n",
        "- There are 15 rows and 7 columns in the data\n",
        "- Each row corresponds to the sales values of different sanitizers of a particular store\n",
        "- Each column corresponds to the sales values of a particular sanitizer in different stores\n",
        "- The sales values range from 1.6 to 16.3 million units"
      ]
    },
    {
      "cell_type": "markdown",
      "id": "yyKD4t_N9WpT",
      "metadata": {
        "id": "yyKD4t_N9WpT"
      },
      "source": [
        "## Task 2 - Extract vectors from the data"
      ]
    },
    {
      "cell_type": "markdown",
      "id": "BxtIDHwI9cZC",
      "metadata": {
        "id": "BxtIDHwI9cZC"
      },
      "source": [
        "- You have seen that there are two types of vectors that we can extract from the data:\n",
        "- Row vectors - these contain the sales values of different sanitizers of a particular store\n",
        "- Column vectors - these contain the sales values of a particular sanitizer in different stores"
      ]
    },
    {
      "cell_type": "code",
      "execution_count": 8,
      "id": "465e4d19",
      "metadata": {
        "id": "465e4d19",
        "outputId": "c693ec3f-05eb-480c-afdb-66fefc1cd983"
      },
      "outputs": [
        {
          "data": {
            "text/plain": [
              "Dettol      11.5\n",
              "Savlon       7.1\n",
              "Himalaya     8.9\n",
              "Lifebuoy     8.4\n",
              "Kaya         5.0\n",
              "Godrej       6.1\n",
              "Dabur        4.6\n",
              "Name: DRH187, dtype: float64"
            ]
          },
          "execution_count": 8,
          "metadata": {},
          "output_type": "execute_result"
        }
      ],
      "source": [
        "# Access the row vector for the store with ID \"DRH187\" using \".loc[]\"\n",
        "df.loc['DRH187']\n"
      ]
    },
    {
      "cell_type": "code",
      "execution_count": 9,
      "id": "c13b04ae",
      "metadata": {
        "id": "c13b04ae",
        "outputId": "51c70796-5aa8-498c-a6f9-68db0a1aa16f"
      },
      "outputs": [
        {
          "data": {
            "text/plain": [
              "Dettol      5.4\n",
              "Savlon      6.8\n",
              "Himalaya    8.9\n",
              "Lifebuoy    8.2\n",
              "Kaya        4.0\n",
              "Godrej      8.2\n",
              "Dabur       2.7\n",
              "Name: LXM794, dtype: float64"
            ]
          },
          "execution_count": 9,
          "metadata": {},
          "output_type": "execute_result"
        }
      ],
      "source": [
        "# Access the row vector for the store with ID \"LXM794\" using \".loc[]\"\n",
        "df.loc['LXM794']\n"
      ]
    },
    {
      "cell_type": "code",
      "execution_count": 10,
      "id": "6a6d0511",
      "metadata": {
        "id": "6a6d0511",
        "outputId": "73569e72-c38d-4b7f-a4a3-fa4ace4198be"
      },
      "outputs": [
        {
          "data": {
            "text/plain": [
              "Store ID\n",
              "AMD463     8.4\n",
              "BGL198     7.3\n",
              "CXF008     9.2\n",
              "DRH187    11.5\n",
              "EWO651     7.4\n",
              "FLJ843    12.1\n",
              "GKM230     8.0\n",
              "HRT117    10.4\n",
              "IDT818     8.8\n",
              "JRB076     6.9\n",
              "KTG143    11.5\n",
              "LXM794     5.4\n",
              "MRN637    12.5\n",
              "NGP835     9.7\n",
              "OEP108    10.3\n",
              "Name: Dettol, dtype: float64"
            ]
          },
          "execution_count": 10,
          "metadata": {},
          "output_type": "execute_result"
        }
      ],
      "source": [
        "# Access the column vector for the sanitizer \"Dettol\"\n",
        "# Note: You may access column vectors either directly or using \".loc[]\"\n",
        "\n",
        "df['Dettol']\n"
      ]
    },
    {
      "cell_type": "code",
      "execution_count": 14,
      "id": "af283d1b",
      "metadata": {
        "id": "af283d1b",
        "outputId": "f9b06f11-eef4-4c73-b5ea-fb93154722f7"
      },
      "outputs": [
        {
          "data": {
            "text/plain": [
              "Store ID\n",
              "AMD463    3.2\n",
              "BGL198    4.1\n",
              "CXF008    4.2\n",
              "DRH187    5.0\n",
              "EWO651    3.7\n",
              "FLJ843    5.6\n",
              "GKM230    3.7\n",
              "HRT117    4.8\n",
              "IDT818    6.1\n",
              "JRB076    4.9\n",
              "KTG143    5.5\n",
              "LXM794    4.0\n",
              "MRN637    6.5\n",
              "NGP835    5.2\n",
              "OEP108    5.6\n",
              "Name: Kaya, dtype: float64"
            ]
          },
          "execution_count": 14,
          "metadata": {},
          "output_type": "execute_result"
        }
      ],
      "source": [
        "# Access the column vector for the sanitizer \"Kaya\"\n",
        "\n",
        "df['Kaya']"
      ]
    },
    {
      "cell_type": "markdown",
      "id": "fMy2Zr5W9jCK",
      "metadata": {
        "id": "fMy2Zr5W9jCK"
      },
      "source": [
        "#### Observations\n",
        "\n",
        "- There are two types of vectors that we can work with:\n",
        "- The sales values of different sanitizers of a particular store (row vectors)\n",
        "- Note: These are 7-long since there are 7 sanitizers in the data set\n",
        "- The sales values of a particular sanitizer in different stores (column vectors)\n",
        "- Note: These are 15-long since there are 15 stores in the data set"
      ]
    },
    {
      "cell_type": "markdown",
      "id": "2ajxG3jd9rBj",
      "metadata": {
        "id": "2ajxG3jd9rBj"
      },
      "source": [
        "## Task 3 - Calculate norms of vectors"
      ]
    },
    {
      "cell_type": "markdown",
      "id": "5ublDxkZ9xIf",
      "metadata": {
        "id": "5ublDxkZ9xIf"
      },
      "source": [
        "- To perform the tasks in this exercise, we will use metrics that are derived from norms of vectors\n",
        "- So, let's get comfortable with calculating norms using Numpy"
      ]
    },
    {
      "cell_type": "markdown",
      "id": "BhnIG5nubL_k",
      "metadata": {
        "id": "BhnIG5nubL_k"
      },
      "source": [
        "## **`Watch Video 4 : Norm(Coding)`**"
      ]
    },
    {
      "cell_type": "code",
      "execution_count": 17,
      "id": "94e79388",
      "metadata": {
        "id": "94e79388",
        "outputId": "94cb04de-66d5-4f80-b270-7ed9090919d0"
      },
      "outputs": [
        {
          "data": {
            "text/plain": [
              "18.379336223052235"
            ]
          },
          "execution_count": 17,
          "metadata": {},
          "output_type": "execute_result"
        }
      ],
      "source": [
        "# Calculate the norm of the row vector for the store with ID \"GKM230\" using \"np.linalg.norm()\"\n",
        "# Note: Leave all parameters as default except the input vector\n",
        "\n",
        "np.linalg.norm(df.loc['GKM230'])"
      ]
    },
    {
      "cell_type": "code",
      "execution_count": 18,
      "id": "bdb607c8",
      "metadata": {
        "id": "bdb607c8",
        "outputId": "0eb258e8-f5d1-4e9f-d931-f3f49e8a9d73"
      },
      "outputs": [
        {
          "data": {
            "text/plain": [
              "18.379336223052235"
            ]
          },
          "execution_count": 18,
          "metadata": {},
          "output_type": "execute_result"
        }
      ],
      "source": [
        "# Calculate the L2 norm of the row vector for the store with ID \"GKM230\" using \"np.linalg.norm()\"\n",
        "# Note: This time, specify \"ord = 2\" as one of the parameters\n",
        "\n",
        "np.linalg.norm(df.loc['GKM230'],ord=2)"
      ]
    },
    {
      "cell_type": "markdown",
      "id": "ql7SUV_n9172",
      "metadata": {
        "id": "ql7SUV_n9172"
      },
      "source": [
        "##### Note: The default norm calculated by \"np.linalg.norm()\" is the L2 norm, that is the \"ord\" parameter is set to 2 by default"
      ]
    },
    {
      "cell_type": "markdown",
      "id": "suvegAY0bjyL",
      "metadata": {
        "id": "suvegAY0bjyL"
      },
      "source": [
        "![](https://miro.medium.com/max/1056/1*r6RXOl5FoSbY6urC9HjUcw.png)"
      ]
    },
    {
      "cell_type": "code",
      "execution_count": 19,
      "id": "f6ac8f93",
      "metadata": {
        "id": "f6ac8f93",
        "outputId": "31b3e832-a480-460d-d760-caf93f4aeb73"
      },
      "outputs": [
        {
          "data": {
            "text/plain": [
              "45.4"
            ]
          },
          "execution_count": 19,
          "metadata": {},
          "output_type": "execute_result"
        }
      ],
      "source": [
        "# Calculate the L1 norm of the row vector for the store with ID \"GKM230\" using \"np.linalg.norm()\"\n",
        "# Note: This time, specify \"ord = 1\" as one of the parameters\n",
        "\n",
        "np.linalg.norm(df.loc['GKM230'],ord=1)"
      ]
    },
    {
      "cell_type": "code",
      "execution_count": 20,
      "id": "97b9bd2b",
      "metadata": {
        "id": "97b9bd2b",
        "outputId": "2a1ae318-4f06-4bd7-ba8b-86722604704a"
      },
      "outputs": [
        {
          "data": {
            "text/plain": [
              "14.07434262320583"
            ]
          },
          "execution_count": 20,
          "metadata": {},
          "output_type": "execute_result"
        }
      ],
      "source": [
        "# Calculate the L3 norm of the row vector for the store with ID \"GKM230\" using \"np.linalg.norm()\"\n",
        "# Note: This time, specify \"ord = 3\" as one of the parameters\n",
        "np.linalg.norm(df.loc['GKM230'],ord=3)\n"
      ]
    },
    {
      "cell_type": "code",
      "execution_count": 21,
      "id": "6044f353",
      "metadata": {
        "id": "6044f353",
        "outputId": "4b0c6227-2629-4e64-bc89-23cf200734f3"
      },
      "outputs": [
        {
          "data": {
            "text/plain": [
              "10.7"
            ]
          },
          "execution_count": 21,
          "metadata": {},
          "output_type": "execute_result"
        }
      ],
      "source": [
        "# Calculate the max norm of the row vector for the store with ID \"GKM230\" using \"np.linalg.norm()\"\n",
        "# Note: This time, specify \"ord = np.inf\" as one of the parameters\n",
        "\n",
        "np.linalg.norm(df.loc['GKM230'],ord=np.inf)"
      ]
    },
    {
      "cell_type": "markdown",
      "id": "63iVPUZW99DT",
      "metadata": {
        "id": "63iVPUZW99DT"
      },
      "source": [
        "##### Note: For the remainder of this exercise, we will use the default (L2) norm for the sake of simplicity and consistency"
      ]
    },
    {
      "cell_type": "code",
      "execution_count": 22,
      "id": "81e6c8a0",
      "metadata": {
        "id": "81e6c8a0",
        "outputId": "97ac6965-e428-4706-ce5f-dbcedc922415"
      },
      "outputs": [
        {
          "data": {
            "text/plain": [
              "26.075467397536713"
            ]
          },
          "execution_count": 22,
          "metadata": {},
          "output_type": "execute_result"
        }
      ],
      "source": [
        "# Calculate the norm of the row vector for the store with ID \"KTG143\" using \"np.linalg.norm()\"\n",
        "\n",
        "np.linalg.norm(df.loc['KTG143'])"
      ]
    },
    {
      "cell_type": "code",
      "execution_count": 23,
      "id": "055f3bf1",
      "metadata": {
        "id": "055f3bf1",
        "outputId": "e63bd48d-4205-4d4c-eec4-51ef40e20385"
      },
      "outputs": [
        {
          "data": {
            "text/plain": [
              "18.086182571233767"
            ]
          },
          "execution_count": 23,
          "metadata": {},
          "output_type": "execute_result"
        }
      ],
      "source": [
        "# Calculate the norm of the row vector for the store with ID \"OEP108\" using \"np.linalg.norm()\"\n",
        "np.linalg.norm(df.loc['OEP108'])\n"
      ]
    },
    {
      "cell_type": "code",
      "execution_count": 24,
      "id": "676a81c0",
      "metadata": {
        "id": "676a81c0",
        "outputId": "bf1b4d47-53c6-4680-f359-75574e2df92c"
      },
      "outputs": [
        {
          "data": {
            "text/plain": [
              "40.304714364451215"
            ]
          },
          "execution_count": 24,
          "metadata": {},
          "output_type": "execute_result"
        }
      ],
      "source": [
        "# Calculate the norm of the column vector for the sanitizer \"Himalaya\" using \"np.linalg.norm()\"\n",
        "\n",
        "np.linalg.norm(df['Himalaya'])"
      ]
    },
    {
      "cell_type": "code",
      "execution_count": 25,
      "id": "2c81b96a",
      "metadata": {
        "id": "2c81b96a",
        "outputId": "98b8ec06-1cdf-4f68-b40e-8c0235a14e43"
      },
      "outputs": [
        {
          "data": {
            "text/plain": [
              "19.444022217637997"
            ]
          },
          "execution_count": 25,
          "metadata": {},
          "output_type": "execute_result"
        }
      ],
      "source": [
        "# Calculate the norm of the column vector for the sanitizer \"Dabur\" using \"np.linalg.norm()\"\n",
        "np.linalg.norm(df['Dabur'])\n"
      ]
    },
    {
      "cell_type": "markdown",
      "id": "fS266PY5-Bxh",
      "metadata": {
        "id": "fS266PY5-Bxh"
      },
      "source": [
        "#### Observations\n",
        "\n",
        "- Norms can be calculated using different orders ranging from 1, 2, 3, ... up to infinity\n",
        "- The default norm is the L2 norm, which is also the Euclidean distance, and hence equal to the magnitude of the vector\n",
        "- The magnitude of a vector (L2 norm) can be used as a measure of the strength of the values in that vector\n",
        "- The smaller the norm of a vector, the weaker the vector, and vice versa\n",
        "- The larger the norm of a vector, the stronger the vector, and vice versa"
      ]
    },
    {
      "cell_type": "markdown",
      "id": "FfFRdZCB-JxH",
      "metadata": {
        "id": "FfFRdZCB-JxH"
      },
      "source": [
        "## Task 4 - Print a sorted list of store IDs in terms of their sales of sanitizers"
      ]
    },
    {
      "cell_type": "markdown",
      "id": "F7wtTSfK-PsB",
      "metadata": {
        "id": "F7wtTSfK-PsB"
      },
      "source": [
        "- The norm of a vector indicates the strength of the values in that vector\n",
        "- The smaller the norm of a vector, the weaker the vector, and vice versa\n",
        "- The larger the norm of a vector, the stronger the vector, and vice versa\n",
        "- We can use the norms of row vectors as a measure of the overall sales value of different stores"
      ]
    },
    {
      "cell_type": "code",
      "execution_count": 28,
      "id": "5f80f2aa",
      "metadata": {
        "id": "5f80f2aa"
      },
      "outputs": [],
      "source": [
        "# Calculate the norms of the row vectors for all 15 stores and sort them in descending order\n",
        "# Note: Use these norms as a measure of overall sales values of the different stores\n",
        "# Note: Store the resulting values in a Pandas Series with index as store IDs and name the series \"stores\"\n",
        "# Note: The \"index\" parameter of the series can be set as \"df.index\"\n",
        "# Note: You may need to specify the \"dtype\" parameter of the series as \"float64\" to avoid some warnings\n",
        "# Note: Use the \".sort_values()\" function with the \"ascending\" parameter set to \"False\"\n",
        "\n",
        "stores = pd.Series(index=df.index ,dtype='float64')\n",
        "\n",
        "for store in df.index:\n",
        "    stores.loc[store] = np.linalg.norm(df.loc[store])\n",
        "stores = stores.sort_values(ascending=False)"
      ]
    },
    {
      "cell_type": "code",
      "execution_count": 29,
      "id": "3e07f366",
      "metadata": {
        "id": "3e07f366",
        "outputId": "52293016-82fc-42c8-87d0-4919b4d26893"
      },
      "outputs": [
        {
          "data": {
            "text/plain": [
              "Store ID\n",
              "KTG143    26.075467\n",
              "FLJ843    21.870299\n",
              "JRB076    21.861381\n",
              "NGP835    20.833867\n",
              "CXF008    20.481211\n",
              "MRN637    20.475839\n",
              "DRH187    20.391175\n",
              "BGL198    18.952836\n",
              "IDT818    18.670565\n",
              "HRT117    18.415754\n",
              "GKM230    18.379336\n",
              "EWO651    18.362734\n",
              "OEP108    18.086183\n",
              "AMD463    17.759223\n",
              "LXM794    17.674275\n",
              "dtype: float64"
            ]
          },
          "execution_count": 29,
          "metadata": {},
          "output_type": "execute_result"
        }
      ],
      "source": [
        "# Print the \"stores\" series\n",
        "stores\n"
      ]
    },
    {
      "cell_type": "markdown",
      "id": "FiDSzcLo-VXX",
      "metadata": {
        "id": "FiDSzcLo-VXX"
      },
      "source": [
        "#### Observations\n",
        "\n",
        "- The store with ID \"KTG143\" has the highest sales\n",
        "- The user with ID \"LXM794\" has the lowest sales"
      ]
    },
    {
      "cell_type": "markdown",
      "id": "XlrPLugH-iWX",
      "metadata": {
        "id": "XlrPLugH-iWX"
      },
      "source": [
        "## Task 5 - Print a sorted list of sanitizers in terms of their popularity\n",
        "\n",
        "- The norm of a vector indicates the strength of the values in that vector\n",
        "- The smaller the norm of a vector, the weaker the vector, and vice versa\n",
        "- The larger the norm of a vector, the stronger the vector, and vice versa\n",
        "- We can use the norms of column vectors as a measure of the overall sales of different sanitizers"
      ]
    },
    {
      "cell_type": "code",
      "execution_count": 33,
      "id": "d24d56c2",
      "metadata": {
        "id": "d24d56c2"
      },
      "outputs": [],
      "source": [
        "# Calculate the norms of the column vectors for all 7 sanitizers and sort them in descending order\n",
        "# Note: Use these norms as a measure of overall sales values of the different sanitizers\n",
        "# Note: Store the resulting values in a Pandas Series with index as sanitizer names and name the series \"sanitizers\"\n",
        "# Note: The \"index\" parameter of the series can be set as \"df.columns\"\n",
        "# Note: You may need to specify the \"dtype\" parameter of the series as \"float64\" to avoid some warnings\n",
        "# Note: Use the \".sort_values()\" function with the \"ascending\" parameter set to \"False\"\n",
        "\n",
        "sanitizers = pd.Series(index=df.columns,dtype='float64')\n",
        "\n",
        "for sanitizer in sanitizers.index:\n",
        "    sanitizers.loc[sanitizer] = np.linalg.norm(df[sanitizer])\n",
        "\n",
        "sanitizers = sanitizers.sort_values(ascending=False)"
      ]
    },
    {
      "cell_type": "code",
      "execution_count": 34,
      "id": "7480b1d0",
      "metadata": {
        "id": "7480b1d0",
        "outputId": "982d980b-e099-44cb-d7a7-6baef31a9eb5"
      },
      "outputs": [
        {
          "data": {
            "text/plain": [
              "Himalaya    40.304714\n",
              "Dettol      36.836938\n",
              "Savlon      31.292331\n",
              "Lifebuoy    30.055781\n",
              "Godrej      19.997750\n",
              "Dabur       19.444022\n",
              "Kaya        18.962858\n",
              "dtype: float64"
            ]
          },
          "execution_count": 34,
          "metadata": {},
          "output_type": "execute_result"
        }
      ],
      "source": [
        "# Print the \"sanitizers\" series\n",
        "\n",
        "sanitizers"
      ]
    },
    {
      "cell_type": "markdown",
      "id": "gdOuIDq2-5eG",
      "metadata": {
        "id": "gdOuIDq2-5eG"
      },
      "source": [
        "#### Observations\n",
        "\n",
        "- The most popular sanitizer is \"Himalaya\"\n",
        "- The least popular sanitizer is \"Kaya\""
      ]
    },
    {
      "cell_type": "markdown",
      "id": "vI4-e8LY_R__",
      "metadata": {
        "id": "vI4-e8LY_R__"
      },
      "source": [
        "## Task 6 - Create a function to calculate the norm of the difference of two vectors"
      ]
    },
    {
      "cell_type": "markdown",
      "id": "b3p-7okP_WBv",
      "metadata": {
        "id": "b3p-7okP_WBv"
      },
      "source": [
        "\n",
        "- The norm of the difference between two vectors can be used as a similarity measure between those two vectors\n",
        "- The smaller the norm of the difference vector, the more similar the two original vectors, and vice versa\n",
        "- The larger the norm of the difference vector, the more dissimilar the two original vectors, and vice versa"
      ]
    },
    {
      "cell_type": "code",
      "execution_count": 37,
      "id": "5344bfc9",
      "metadata": {
        "id": "5344bfc9"
      },
      "outputs": [],
      "source": [
        "# Create a function called \"sim()\" which takes in two vectors and returns similarity score between them\n",
        "# Note: Use the \"np.linalg.norm()\" method on the difference of the two vectors to calculate their similarity\n",
        "# Note: The order in which the vectors are subtracted does not matter\n",
        "\n",
        "def sim(vec1, vec2):\n",
        "    nrm=vec1-vec2\n",
        "    nrm_vec=np.linalg.norm(nrm)\n",
        "    return(nrm_vec)\n",
        "    \n",
        "    "
      ]
    },
    {
      "cell_type": "code",
      "execution_count": 38,
      "id": "d86a1e1d",
      "metadata": {
        "id": "d86a1e1d",
        "outputId": "09bcbede-fb5e-47e5-c42e-c00b6eb1c7ef"
      },
      "outputs": [
        {
          "data": {
            "text/plain": [
              "5.175905717843014"
            ]
          },
          "execution_count": 38,
          "metadata": {},
          "output_type": "execute_result"
        }
      ],
      "source": [
        "# Calculate the similarity between the sales of the stores with IDs \"AMD463\" and \"HRT117\" using the function \"sim()\"\n",
        "\n",
        "sim(df.loc['AMD463'],df.loc['HRT117'])"
      ]
    },
    {
      "cell_type": "code",
      "execution_count": 39,
      "id": "3d9e8c54",
      "metadata": {
        "id": "3d9e8c54",
        "outputId": "67ba9031-a770-43a8-a3e1-cc17f3a1fd7c"
      },
      "outputs": [
        {
          "data": {
            "text/plain": [
              "6.040695324215581"
            ]
          },
          "execution_count": 39,
          "metadata": {},
          "output_type": "execute_result"
        }
      ],
      "source": [
        "# Calculate the similarity between the sales of the stores with IDs \"NGP835\" and \"GKM230\" using the function \"sim()\"\n",
        "sim(df.loc['NGP835'],df.loc['GKM230'])\n"
      ]
    },
    {
      "cell_type": "code",
      "execution_count": 40,
      "id": "691104f4",
      "metadata": {
        "id": "691104f4",
        "outputId": "09595583-f623-4fd4-f2f3-c27a29f66002"
      },
      "outputs": [
        {
          "data": {
            "text/plain": [
              "14.395138068111747"
            ]
          },
          "execution_count": 40,
          "metadata": {},
          "output_type": "execute_result"
        }
      ],
      "source": [
        "# Calculate the similarity between the sales of the sanitizers \"Lifebuoy\" and \"Himalaya\" using the function \"sim()\"\n",
        "\n",
        "sim(df['Lifebuoy'],df['Himalaya'])"
      ]
    },
    {
      "cell_type": "code",
      "execution_count": 41,
      "id": "c9c8a3a9",
      "metadata": {
        "id": "c9c8a3a9",
        "outputId": "cd18c08b-b978-4d85-b4d0-618f36501ca4"
      },
      "outputs": [
        {
          "data": {
            "text/plain": [
              "22.269036800005516"
            ]
          },
          "execution_count": 41,
          "metadata": {},
          "output_type": "execute_result"
        }
      ],
      "source": [
        "# Calculate the similarity between the sales of the sanitizers \"Dettol\" and \"Godrej\" using the function \"sim()\"\n",
        "\n",
        "sim(df['Dettol'],df['Godrej'])"
      ]
    },
    {
      "cell_type": "code",
      "execution_count": 42,
      "id": "b614fb2c",
      "metadata": {
        "id": "b614fb2c",
        "outputId": "eb11e435-43f5-4f6a-e65f-cff8114b2365"
      },
      "outputs": [
        {
          "data": {
            "text/plain": [
              "0.0"
            ]
          },
          "execution_count": 42,
          "metadata": {},
          "output_type": "execute_result"
        }
      ],
      "source": [
        "# Calculate the similarity between the sales of the store with ID \"JRB076\" and itself using the function \"sim()\"\n",
        "\n",
        "sim(df.loc['JRB076'],df.loc['JRB076'])"
      ]
    },
    {
      "cell_type": "markdown",
      "id": "MF-wCrkD_aoH",
      "metadata": {
        "id": "MF-wCrkD_aoH"
      },
      "source": [
        "#### Observations\n",
        "\n",
        "- The norm of the difference between two vectors can be used as a similarity measure between those two vectors\n",
        "- The norm of the difference between a vector and itself is 0\n",
        "- The smaller the norm of the difference between two vectors, the higher their similarity score, and vice versa\n",
        "- The larger the norm of the difference between two vectors, the lower their similarity score, and vice versa"
      ]
    },
    {
      "cell_type": "markdown",
      "id": "XrtayNll_fz0",
      "metadata": {
        "id": "XrtayNll_fz0"
      },
      "source": [
        "## Task 7 - Create a function that returns the ID of the store with the most similar sales as a given store"
      ]
    },
    {
      "cell_type": "markdown",
      "id": "vlBhrgUA_j3V",
      "metadata": {
        "id": "vlBhrgUA_j3V"
      },
      "source": [
        "- The norm of the difference between two vectors can be used as a similarity measure between those two vectors\n",
        "- The smaller the norm of the difference between two vectors, the higher their similarity score, and vice versa\n",
        "- The larger the norm of the difference between two vectors, the lower their similarity score, and vice versa\n",
        "- We will create a function that returns the ID of the store with the most similar sales as a given store"
      ]
    },
    {
      "cell_type": "markdown",
      "id": "MJlgvCbe1g3l",
      "metadata": {
        "id": "MJlgvCbe1g3l"
      },
      "source": [
        "![](https://datascience-enthusiast.com/figures/cosine_sim.png)\n"
      ]
    },
    {
      "cell_type": "code",
      "execution_count": 51,
      "id": "34e7596a",
      "metadata": {
        "id": "34e7596a"
      },
      "outputs": [],
      "source": [
        "# Define a function \"storesim()\" that takes in the ID of a store and returns the ID of the store with the most similar sales\n",
        "# Note: Use the \"sim()\" function to measure similarities between stores (using their row vectors)\n",
        "# Note: You may create a temporary Pandas Series within the \"storesim()\" function to store the similarity values\n",
        "# Note: The \"index\" parameter of the series can be set as \"df.index\"\n",
        "# Note: You may need to specify the \"dtype\" parameter of the series as \"float64\" to avoid some warnings\n",
        "# Note: You may sort the entries in this series and return the second index entry\n",
        "# Note: Use the \".sort_values()\" function with the default value for the \"ascending\" parameter, which is \"True\"\n",
        "# Note: The first entry after sorting will be trivial\n",
        "\n",
        "def storesim(store1):\n",
        "    df1=pd.Series(index=df.index,dtype='float64')\n",
        "    for store2 in df1.index:\n",
        "        df1.loc[store2]=sim(df.loc[store1],df.loc[store2])\n",
        "    return(df1.sort_values().index[1])\n",
        "    "
      ]
    },
    {
      "cell_type": "code",
      "execution_count": 52,
      "id": "73a542f3",
      "metadata": {
        "id": "73a542f3",
        "outputId": "8509eb0f-a0e1-40ad-9332-9344ed8a9efe"
      },
      "outputs": [
        {
          "data": {
            "text/plain": [
              "'EWO651'"
            ]
          },
          "execution_count": 52,
          "metadata": {},
          "output_type": "execute_result"
        }
      ],
      "source": [
        "# Use the function \"storesim()\" to find the ID of the store whose sales are most similar to the store with ID \"AMD463\"\n",
        "\n",
        "storesim('AMD463')"
      ]
    },
    {
      "cell_type": "code",
      "execution_count": 53,
      "id": "0f9274aa",
      "metadata": {
        "id": "0f9274aa",
        "outputId": "1a7bc989-9786-4fcf-c075-cbad281cbdf4"
      },
      "outputs": [
        {
          "data": {
            "text/plain": [
              "'HRT117'"
            ]
          },
          "execution_count": 53,
          "metadata": {},
          "output_type": "execute_result"
        }
      ],
      "source": [
        "# Use the function \"storesim()\" to find the ID of the store whose sales are most similar to the store with ID \"NGP835\"\n",
        "\n",
        "storesim('NGP835')"
      ]
    },
    {
      "cell_type": "code",
      "execution_count": 55,
      "id": "091d42a9",
      "metadata": {
        "id": "091d42a9",
        "outputId": "1b7bcbfb-ec11-4846-cf44-9c6c28b9c7fb"
      },
      "outputs": [
        {
          "data": {
            "text/plain": [
              "'BGL198'"
            ]
          },
          "execution_count": 55,
          "metadata": {},
          "output_type": "execute_result"
        }
      ],
      "source": [
        "# Use the function \"storesim()\" to find the ID of the store whose sales are most similar to the store with ID \"CXF008\"\n",
        "storesim('CXF008')\n"
      ]
    },
    {
      "cell_type": "code",
      "execution_count": 56,
      "id": "a15ccfa1",
      "metadata": {
        "id": "a15ccfa1",
        "outputId": "96a3b5d2-aba9-461e-a6cb-592a107ab903"
      },
      "outputs": [
        {
          "data": {
            "text/plain": [
              "'GKM230'"
            ]
          },
          "execution_count": 56,
          "metadata": {},
          "output_type": "execute_result"
        }
      ],
      "source": [
        "# Use the function \"storesim()\" to find the ID of the store whose sales are most similar to the store with ID \"BGL198\"\n",
        "\n",
        "storesim('BGL198')"
      ]
    },
    {
      "cell_type": "markdown",
      "id": "5nilEWtW_pVD",
      "metadata": {
        "id": "5nilEWtW_pVD"
      },
      "source": [
        "#### Observations\n",
        "\n",
        "- The norm of the difference between row vectors is a measure of similarity between the sales in different stores\n",
        "- The similarity score is not symmetric\n",
        "- Rather it pertains to a specific case (such as a specific store)\n",
        "- This is because it is possible for X to be most similar to Y and Y to be most similar to Z\n",
        "- This happens when X and Z are not as similar to each other as X and Y or Y and Z\n",
        "- Transitivity, on the other hand, is a useful assumption for further analysis"
      ]
    },
    {
      "cell_type": "markdown",
      "id": "ST5Jbow9_vOz",
      "metadata": {
        "id": "ST5Jbow9_vOz"
      },
      "source": [
        "## Task 8 - Create a function that returns the name of a sanitizer with the most similar sales as a given sanitizer"
      ]
    },
    {
      "cell_type": "markdown",
      "id": "ffXLZUrE_zR5",
      "metadata": {
        "id": "ffXLZUrE_zR5"
      },
      "source": [
        "- The norm of the difference between two vectors can be used as a similarity measure between those two vectors\n",
        "- The smaller the norm of the difference between two vectors, the higher their similarity score, and vice versa\n",
        "- The larger the norm of the difference between two vectors, the lower their similarity score, and vice versa\n",
        "- We will create a function that returns the name of the sanitizer whose sales are most similar to a given sanitizer"
      ]
    },
    {
      "cell_type": "code",
      "execution_count": 63,
      "id": "49071b40",
      "metadata": {
        "id": "49071b40"
      },
      "outputs": [],
      "source": [
        "# Define a function \"sanisim()\" that takes in the name of a sanitizer and returns sanitizer name with the most similar sales\n",
        "# Note: Use the \"sim()\" function to measure similarities between sanitizers (using their column vectors)\n",
        "# Note: You may create a temporary Pandas Series within the \"sanisim()\" function to store the similarity values\n",
        "# Note: The \"index\" parameter of the series can be set as \"df.columns\"\n",
        "# Note: You may need to specify the \"dtype\" parameter of the series as \"float64\" to avoid some warnings\n",
        "# Note: You may sort the entries in this series and return the second index entry\n",
        "# Note: Use the \".sort_values()\" function with the default value for the \"ascending\" parameter, which is \"True\"\n",
        "# Note: The first entry after sorting will be trivial\n",
        "\n",
        "def sanisim(sani1):\n",
        "    df1=pd.Series(index=df.columns,dtype='float64')\n",
        "    for sani2 in df1.index:\n",
        "        df1.loc[sani2]=sim(df[sani1],df[sani2])\n",
        "    return(df1.sort_values().index[1])"
      ]
    },
    {
      "cell_type": "code",
      "execution_count": 64,
      "id": "5479900e",
      "metadata": {
        "id": "5479900e",
        "outputId": "df25688e-b05d-4b47-cc48-0c88152bcf9b"
      },
      "outputs": [
        {
          "data": {
            "text/plain": [
              "'Kaya'"
            ]
          },
          "execution_count": 64,
          "metadata": {},
          "output_type": "execute_result"
        }
      ],
      "source": [
        "# Use the function \"sanisim()\" to find the name of the sanitizer whose sales are most similar to the sanitizer \"Godrej\"\n",
        "sanisim('Godrej')\n"
      ]
    },
    {
      "cell_type": "code",
      "execution_count": 65,
      "id": "bf16350c",
      "metadata": {
        "id": "bf16350c",
        "outputId": "26912f72-bd5d-42de-adeb-109a38bcf4fa"
      },
      "outputs": [
        {
          "data": {
            "text/plain": [
              "'Kaya'"
            ]
          },
          "execution_count": 65,
          "metadata": {},
          "output_type": "execute_result"
        }
      ],
      "source": [
        "# Use the function \"sanisim()\" to find the name of the sanitizer whose sales are most similar to the sanitizer \"Dabur\"\n",
        "\n",
        "sanisim('Dabur')"
      ]
    },
    {
      "cell_type": "code",
      "execution_count": 66,
      "id": "84e85fe1",
      "metadata": {
        "id": "84e85fe1",
        "outputId": "2f82cc26-0973-4b12-f243-60c64f1cfffc"
      },
      "outputs": [
        {
          "data": {
            "text/plain": [
              "'Dettol'"
            ]
          },
          "execution_count": 66,
          "metadata": {},
          "output_type": "execute_result"
        }
      ],
      "source": [
        "# Use the function \"sanisim()\" to find the name of the sanitizer whose sales are most similar to the sanitizer \"Himalaya\"\n",
        "\n",
        "sanisim('Himalaya')"
      ]
    },
    {
      "cell_type": "code",
      "execution_count": 67,
      "id": "582beb69",
      "metadata": {
        "id": "582beb69",
        "outputId": "9061d03e-9cbd-4d7e-8eb1-0d57789a16ef"
      },
      "outputs": [
        {
          "data": {
            "text/plain": [
              "'Lifebuoy'"
            ]
          },
          "execution_count": 67,
          "metadata": {},
          "output_type": "execute_result"
        }
      ],
      "source": [
        "# Use the function \"sanisim()\" to find the name of the sanitizer whose sales are most similar to the sanitizer \"Dettol\"\n",
        "\n",
        "sanisim('Dettol')"
      ]
    },
    {
      "cell_type": "markdown",
      "id": "tQ5Hhb4j_7QP",
      "metadata": {
        "id": "tQ5Hhb4j_7QP"
      },
      "source": [
        "#### Observations\n",
        "\n",
        "- The norm of the difference between column vectors is a measure of similarity between the sales of different sanitizers\n",
        "- The similarity score is not symmetric\n",
        "- Rather it pertains to a specific case (such as a specific sanitizer)\n",
        "- This is because it is possible for X to be most similar to Y and Y to be most similar to Z\n",
        "- This happens when X and Z are not as similar to each other as X and Y or Y and Z\n",
        "- Transitivity, on the other hand, is a useful assumption for further analysis"
      ]
    },
    {
      "cell_type": "markdown",
      "id": "qJnlS3v9AC0q",
      "metadata": {
        "id": "qJnlS3v9AC0q"
      },
      "source": [
        "#### Conclusions\n",
        "\n",
        "- From the sales data, we can extract row vectors (sales of a store) and column vectors (sales of a sanitizer)\n",
        "- We can use norms of row vectors for particular stores to measure their overall sales\n",
        "- We can use norms of column vectors for particular sanitizers to measure their popularity\n",
        "- We can use the norm of the difference between row vectors of two stores to measure the similarity in their sales\n",
        "- We can use the norm of the difference between column vectors of two sanitizers to measure the similarity\n",
        "- Using these measures, we can recommend decisions to certain stores about which sanitizers to sell more of and less of\n",
        "- This is a very basic look into the working methodology of sales similarity analysis"
      ]
    },
    {
      "cell_type": "markdown",
      "id": "Q5HDXU6llV10",
      "metadata": {
        "id": "Q5HDXU6llV10"
      },
      "source": [
        "# **FEEDBACK**\n",
        "\n",
        "https://forms.zohopublic.in/cloudyml/form/CloudyMLStatisticsFeedbackForm/formperma/WV946wnf0sDM_tOlH87RxZR9yMceKWGrtuPOyXzzCRc"
      ]
    }
  ],
  "metadata": {
    "colab": {
      "collapsed_sections": [],
      "provenance": []
    },
    "kernelspec": {
      "display_name": "Python 3",
      "language": "python",
      "name": "python3"
    },
    "language_info": {
      "codemirror_mode": {
        "name": "ipython",
        "version": 3
      },
      "file_extension": ".py",
      "mimetype": "text/x-python",
      "name": "python",
      "nbconvert_exporter": "python",
      "pygments_lexer": "ipython3",
      "version": "3.11.4"
    }
  },
  "nbformat": 4,
  "nbformat_minor": 5
}
