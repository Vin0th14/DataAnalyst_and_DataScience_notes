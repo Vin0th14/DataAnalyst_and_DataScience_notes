{
  "cells": [
    {
      "cell_type": "markdown",
      "id": "iA4c1wOOhruX",
      "metadata": {
        "id": "iA4c1wOOhruX"
      },
      "source": [
        "# **Linear Equation System**"
      ]
    },
    {
      "cell_type": "markdown",
      "id": "inFQEWsxhzDm",
      "metadata": {
        "id": "inFQEWsxhzDm"
      },
      "source": [
        "### You will work with a simple data set that contains farm yield values of certain food grains\n",
        "\n",
        "you will perform the following tasks:\n",
        "- Load and study the data\n",
        "- Understand the problem\n",
        "- Extract yield values as a matrix from the data\n",
        "- Calculate the number of acres to provide to each farmer to achieve the target yield"
      ]
    },
    {
      "cell_type": "markdown",
      "id": "o8821xleOEQ9",
      "metadata": {
        "id": "o8821xleOEQ9"
      },
      "source": [
        "# **`WATCH ALL VIDEOS IN THE PORTAL`**\n",
        "## **`Watch Video 7 : Matrix Equation `**"
      ]
    },
    {
      "cell_type": "markdown",
      "id": "G1AIYUp2iTv7",
      "metadata": {
        "id": "G1AIYUp2iTv7"
      },
      "source": [
        "### Task 1 - Load and study the data"
      ]
    },
    {
      "cell_type": "code",
      "execution_count": 1,
      "id": "9f5c393c",
      "metadata": {
        "id": "9f5c393c"
      },
      "outputs": [],
      "source": [
        "# Import \"numpy\" and \"pandas\" for manipulating numbers, vectors and data frames\n",
        "import numpy as np\n",
        "import pandas as pd\n"
      ]
    },
    {
      "cell_type": "markdown",
      "id": "bjTrwXUKiaj_",
      "metadata": {
        "id": "bjTrwXUKiaj_"
      },
      "source": [
        "#### Load the data and study its features such as:\n",
        "- The number of farmers\n",
        "- The number of food grain types\n",
        "- The ranges of yield values"
      ]
    },
    {
      "cell_type": "code",
      "execution_count": 2,
      "id": "5608a781",
      "metadata": {
        "id": "5608a781"
      },
      "outputs": [],
      "source": [
        "# Read in the \"Farm_Yields.csv\" file as a Pandas Data Frame\n",
        "# Note: Make sure the code and the data are in the same folder or specify the appropriate path for the data\n",
        "df = pd.read_csv(r\"E:/DataScience_and_DataAnalyst_Notes/Maths/Dataset/Farm_Yields.csv\",index_col=0)\n"
      ]
    },
    {
      "cell_type": "code",
      "execution_count": 3,
      "id": "9385b905",
      "metadata": {
        "id": "9385b905",
        "outputId": "14d5c054-a81c-45e5-8c35-60e36d7285a2"
      },
      "outputs": [
        {
          "data": {
            "text/html": [
              "<div>\n",
              "<style scoped>\n",
              "    .dataframe tbody tr th:only-of-type {\n",
              "        vertical-align: middle;\n",
              "    }\n",
              "\n",
              "    .dataframe tbody tr th {\n",
              "        vertical-align: top;\n",
              "    }\n",
              "\n",
              "    .dataframe thead th {\n",
              "        text-align: right;\n",
              "    }\n",
              "</style>\n",
              "<table border=\"1\" class=\"dataframe\">\n",
              "  <thead>\n",
              "    <tr style=\"text-align: right;\">\n",
              "      <th></th>\n",
              "      <th>Rice</th>\n",
              "      <th>Wheat</th>\n",
              "      <th>Corn</th>\n",
              "      <th>Millets</th>\n",
              "    </tr>\n",
              "    <tr>\n",
              "      <th>Farmer</th>\n",
              "      <th></th>\n",
              "      <th></th>\n",
              "      <th></th>\n",
              "      <th></th>\n",
              "    </tr>\n",
              "  </thead>\n",
              "  <tbody>\n",
              "    <tr>\n",
              "      <th>Ravi</th>\n",
              "      <td>22</td>\n",
              "      <td>20</td>\n",
              "      <td>37</td>\n",
              "      <td>13</td>\n",
              "    </tr>\n",
              "    <tr>\n",
              "      <th>Saju</th>\n",
              "      <td>18</td>\n",
              "      <td>21</td>\n",
              "      <td>43</td>\n",
              "      <td>15</td>\n",
              "    </tr>\n",
              "    <tr>\n",
              "      <th>Kishore</th>\n",
              "      <td>17</td>\n",
              "      <td>14</td>\n",
              "      <td>25</td>\n",
              "      <td>28</td>\n",
              "    </tr>\n",
              "    <tr>\n",
              "      <th>Satish</th>\n",
              "      <td>12</td>\n",
              "      <td>16</td>\n",
              "      <td>52</td>\n",
              "      <td>8</td>\n",
              "    </tr>\n",
              "  </tbody>\n",
              "</table>\n",
              "</div>"
            ],
            "text/plain": [
              "         Rice  Wheat  Corn  Millets\n",
              "Farmer                             \n",
              "Ravi       22     20    37       13\n",
              "Saju       18     21    43       15\n",
              "Kishore    17     14    25       28\n",
              "Satish     12     16    52        8"
            ]
          },
          "execution_count": 3,
          "metadata": {},
          "output_type": "execute_result"
        }
      ],
      "source": [
        "# Take a brief look at the data frame using \".head()\"\n",
        "\n",
        "df.head()"
      ]
    },
    {
      "cell_type": "markdown",
      "id": "gRQcNYVxioXm",
      "metadata": {
        "id": "gRQcNYVxioXm"
      },
      "source": [
        "#### Feature Description:\n",
        "\n",
        "- This data set contains the yearly yield values of rice, wheat, corn and millets per acre promised by four farmers.\n",
        "\n",
        "- Farmer = name of the farmer\n",
        "- Rice = amount of rice promised by the farmer in quintals per acre per year\n",
        "- Wheat = amount of wheat promised by the farmer in quintals per acre per year\n",
        "- Corn = amount of corn promised by the farmer in quintals per acre per year\n",
        "- Millets = amount of millets promised by the farmer in quintals per acre per year"
      ]
    },
    {
      "cell_type": "code",
      "execution_count": 4,
      "id": "5b5bb00f",
      "metadata": {
        "id": "5b5bb00f",
        "outputId": "cbde7636-0fb8-4e94-9904-54199f7f7c76"
      },
      "outputs": [
        {
          "data": {
            "text/plain": [
              "(4, 4)"
            ]
          },
          "execution_count": 4,
          "metadata": {},
          "output_type": "execute_result"
        }
      ],
      "source": [
        "# Check the dimensions of the data frame using \".shape\"\n",
        "\n",
        "df.shape"
      ]
    },
    {
      "cell_type": "code",
      "execution_count": 5,
      "id": "a6b34a1e",
      "metadata": {
        "id": "a6b34a1e",
        "outputId": "61609785-9bd0-4d95-cd62-75882ecaf23b"
      },
      "outputs": [
        {
          "name": "stdout",
          "output_type": "stream",
          "text": [
            "<class 'pandas.core.frame.DataFrame'>\n",
            "Index: 4 entries, Ravi to Satish\n",
            "Data columns (total 4 columns):\n",
            " #   Column   Non-Null Count  Dtype\n",
            "---  ------   --------------  -----\n",
            " 0   Rice     4 non-null      int64\n",
            " 1   Wheat    4 non-null      int64\n",
            " 2   Corn     4 non-null      int64\n",
            " 3   Millets  4 non-null      int64\n",
            "dtypes: int64(4)\n",
            "memory usage: 160.0+ bytes\n"
          ]
        }
      ],
      "source": [
        "# View basic information about the data frame using \".info()\"\n",
        "\n",
        "df.info()"
      ]
    },
    {
      "cell_type": "code",
      "execution_count": 6,
      "id": "f0bbb65b",
      "metadata": {
        "id": "f0bbb65b",
        "outputId": "2f3aa698-9371-407d-fa01-91aa273ed298"
      },
      "outputs": [
        {
          "data": {
            "text/html": [
              "<div>\n",
              "<style scoped>\n",
              "    .dataframe tbody tr th:only-of-type {\n",
              "        vertical-align: middle;\n",
              "    }\n",
              "\n",
              "    .dataframe tbody tr th {\n",
              "        vertical-align: top;\n",
              "    }\n",
              "\n",
              "    .dataframe thead th {\n",
              "        text-align: right;\n",
              "    }\n",
              "</style>\n",
              "<table border=\"1\" class=\"dataframe\">\n",
              "  <thead>\n",
              "    <tr style=\"text-align: right;\">\n",
              "      <th></th>\n",
              "      <th>count</th>\n",
              "      <th>mean</th>\n",
              "      <th>std</th>\n",
              "      <th>min</th>\n",
              "      <th>25%</th>\n",
              "      <th>50%</th>\n",
              "      <th>75%</th>\n",
              "      <th>max</th>\n",
              "    </tr>\n",
              "  </thead>\n",
              "  <tbody>\n",
              "    <tr>\n",
              "      <th>Rice</th>\n",
              "      <td>4.0</td>\n",
              "      <td>17.25</td>\n",
              "      <td>4.112988</td>\n",
              "      <td>12.0</td>\n",
              "      <td>15.75</td>\n",
              "      <td>17.5</td>\n",
              "      <td>19.00</td>\n",
              "      <td>22.0</td>\n",
              "    </tr>\n",
              "    <tr>\n",
              "      <th>Wheat</th>\n",
              "      <td>4.0</td>\n",
              "      <td>17.75</td>\n",
              "      <td>3.304038</td>\n",
              "      <td>14.0</td>\n",
              "      <td>15.50</td>\n",
              "      <td>18.0</td>\n",
              "      <td>20.25</td>\n",
              "      <td>21.0</td>\n",
              "    </tr>\n",
              "    <tr>\n",
              "      <th>Corn</th>\n",
              "      <td>4.0</td>\n",
              "      <td>39.25</td>\n",
              "      <td>11.324752</td>\n",
              "      <td>25.0</td>\n",
              "      <td>34.00</td>\n",
              "      <td>40.0</td>\n",
              "      <td>45.25</td>\n",
              "      <td>52.0</td>\n",
              "    </tr>\n",
              "    <tr>\n",
              "      <th>Millets</th>\n",
              "      <td>4.0</td>\n",
              "      <td>16.00</td>\n",
              "      <td>8.524475</td>\n",
              "      <td>8.0</td>\n",
              "      <td>11.75</td>\n",
              "      <td>14.0</td>\n",
              "      <td>18.25</td>\n",
              "      <td>28.0</td>\n",
              "    </tr>\n",
              "  </tbody>\n",
              "</table>\n",
              "</div>"
            ],
            "text/plain": [
              "         count   mean        std   min    25%   50%    75%   max\n",
              "Rice       4.0  17.25   4.112988  12.0  15.75  17.5  19.00  22.0\n",
              "Wheat      4.0  17.75   3.304038  14.0  15.50  18.0  20.25  21.0\n",
              "Corn       4.0  39.25  11.324752  25.0  34.00  40.0  45.25  52.0\n",
              "Millets    4.0  16.00   8.524475   8.0  11.75  14.0  18.25  28.0"
            ]
          },
          "execution_count": 6,
          "metadata": {},
          "output_type": "execute_result"
        }
      ],
      "source": [
        "# View a statistical summary of the data frame using \".describe()\"\n",
        "# Note: Use \".transpose()\" to make the summary easier to read\n",
        "\n",
        "df.describe().transpose()"
      ]
    },
    {
      "cell_type": "markdown",
      "id": "IkwlfDnKi9Li",
      "metadata": {
        "id": "IkwlfDnKi9Li"
      },
      "source": [
        "#### Observations\n",
        "\n",
        "- There are 4 rows and 4 columns\n",
        "- Each row contains the yearly yield values of food grains per acre promised by a particular farmer\n",
        "- Each column contains the yearly yield values of a particular food grain per acre from all the farmers"
      ]
    },
    {
      "cell_type": "markdown",
      "id": "y-7gKGZujIX2",
      "metadata": {
        "id": "y-7gKGZujIX2"
      },
      "source": [
        "### Task 2 - Understand the problem\n"
      ]
    },
    {
      "cell_type": "markdown",
      "id": "HzPDAaXajOK9",
      "metadata": {
        "id": "HzPDAaXajOK9"
      },
      "source": [
        "#### Problem Statement\n",
        "\n",
        " Assume that the locality served by the four farmers needs the following amounts of food grains in the coming year:\n",
        "- 373 quintals of rice\n",
        "- 394 quintals of wheat\n",
        "- 922 qunitals of corn\n",
        "- 299 quintals of millets"
      ]
    },
    {
      "cell_type": "markdown",
      "id": "gORPjfifjvm5",
      "metadata": {
        "id": "gORPjfifjvm5"
      },
      "source": [
        "#### The farm land owner has to decided how many acres to provide to each farmer to achieve this target for his locality\n",
        "\n",
        "- The data contains the yield values of 4 food grains promised by 4 farmers. These yield values are in quintals per acre per year"
      ]
    },
    {
      "cell_type": "markdown",
      "id": "c6-G4hIfkEz5",
      "metadata": {
        "id": "c6-G4hIfkEz5"
      },
      "source": [
        "#### **Concept and Logic**\n",
        "1. Let A be matrix of the yield values (4 x 4 matrix)\n",
        "2. Let X be the number of acres to be provided to each farmer (4 x 1 matrix)\n",
        "3. Let B be the total required yield values after one year (4 x 1 matrix)\n",
        "4.  The matrix equation will be A * X = B\n",
        "5. So, we can solve for X using the equation X = inverse(A) * B\n",
        "\n",
        "**Note:** The data has farmer names as rows and food grains as columns. For the matrix equation to be meaningful, the matrix A must have farmer names as columns and food grains as rows"
      ]
    },
    {
      "cell_type": "markdown",
      "id": "Bnc_2rThmSkY",
      "metadata": {
        "id": "Bnc_2rThmSkY"
      },
      "source": [
        "![](https://bytepawn.com/images/axb.PNG)"
      ]
    },
    {
      "cell_type": "markdown",
      "id": "JfRM4IbyOiql",
      "metadata": {
        "id": "JfRM4IbyOiql"
      },
      "source": [
        "# **`Watch Video 7 : Linear Equation `**"
      ]
    },
    {
      "cell_type": "markdown",
      "id": "qdgHrS88kmZ8",
      "metadata": {
        "id": "qdgHrS88kmZ8"
      },
      "source": [
        "### Task 3 - Extract yield values as a matrix from the data"
      ]
    },
    {
      "cell_type": "markdown",
      "id": "3h_8NpqbkrmQ",
      "metadata": {
        "id": "3h_8NpqbkrmQ"
      },
      "source": [
        "- The farm yield values are in quintals per acre per year\n",
        "- These yield values will form a 4 x 4 matrix (considering all farmers)"
      ]
    },
    {
      "cell_type": "code",
      "execution_count": 9,
      "id": "dec46965",
      "metadata": {
        "id": "dec46965"
      },
      "outputs": [],
      "source": [
        "# Convert the data frame into a matrix using \"np.matrix()\" and call the matrix \"mat_yields\"\n",
        "# Note: This matrix will serve as the coefficient matrix for the system of linear equations that we will develop later\n",
        "# Note: For this reason, each column of the coefficient matrix must correspond to a particular farmer\n",
        "# Note: Take the transpose of the data using \".transpose()\" after converting it into a matrix before storing it in \"mat_yields\"\n",
        "mat_yields = np.matrix(df).transpose()\n"
      ]
    },
    {
      "cell_type": "code",
      "execution_count": 10,
      "id": "5d62ea26",
      "metadata": {
        "id": "5d62ea26",
        "outputId": "cf6ac5fc-4379-4272-b86b-851ed45986cb"
      },
      "outputs": [
        {
          "data": {
            "text/plain": [
              "matrix([[22, 18, 17, 12],\n",
              "        [20, 21, 14, 16],\n",
              "        [37, 43, 25, 52],\n",
              "        [13, 15, 28,  8]], dtype=int64)"
            ]
          },
          "execution_count": 10,
          "metadata": {},
          "output_type": "execute_result"
        }
      ],
      "source": [
        "# Print the matrix \"mat_yields\"\n",
        "\n",
        "mat_yields"
      ]
    },
    {
      "cell_type": "code",
      "execution_count": 11,
      "id": "3e17035e",
      "metadata": {
        "id": "3e17035e",
        "outputId": "ced02f70-b449-4fd3-c6fd-f83dd1bddd18"
      },
      "outputs": [
        {
          "data": {
            "text/plain": [
              "(4, 4)"
            ]
          },
          "execution_count": 11,
          "metadata": {},
          "output_type": "execute_result"
        }
      ],
      "source": [
        "# Check the dimensions of the \"mat_yields\" matrix using \".shape\"\n",
        "\n",
        "mat_yields.shape"
      ]
    },
    {
      "cell_type": "markdown",
      "id": "4fA-x5G3k0r0",
      "metadata": {
        "id": "4fA-x5G3k0r0"
      },
      "source": [
        "### Observations\n",
        "\n",
        "- The farm yield values for rice, wheat, corn and millets for the 4 farmers is a 4 x 4 matrix\n",
        "- The columns now hold the yield values of particular farmers\n",
        "- The Numpy Matrix holds only values and does not have any indices"
      ]
    },
    {
      "cell_type": "markdown",
      "id": "IHn-iORsk6I6",
      "metadata": {
        "id": "IHn-iORsk6I6"
      },
      "source": [
        "### Task 4 - Calculate the number of acres to provide to each farmer to achieve the target yield"
      ]
    },
    {
      "cell_type": "markdown",
      "id": "YHm7VzySlWjB",
      "metadata": {
        "id": "YHm7VzySlWjB"
      },
      "source": [
        "##### The farm yield values for rice, wheat, corn and millets for the 4 farmers is a 4 x 4 matrix. The columns hold the yield values of particular farmers. The locality served by the four farmers needs the following amounts of food grains in the coming year:\n",
        "- 373 quintals of rice\n",
        "- 394 quintals of wheat\n",
        "- 922 qunitals of corn\n",
        "- 299 quintals of millets"
      ]
    },
    {
      "cell_type": "code",
      "execution_count": 12,
      "id": "9086c21f",
      "metadata": {
        "id": "9086c21f"
      },
      "outputs": [],
      "source": [
        "# Store the food grain requirements for the coming year in the appropriate order as a matrix called \"mat_food\"\n",
        "# Note: You may store these values as a Numpy List as well but \".shape\" cannot be called on a Numpy List\n",
        "# Note: To store the values as a matrix, pass them as a list to \"np.matrix()\"\n",
        "# Note: Since we want 4 rows for the 4 farmers, you need to use \".transpose()\" to transpose the matrix\n",
        "mat_food = np.matrix([373,394,922,299]).transpose()\n"
      ]
    },
    {
      "cell_type": "code",
      "execution_count": 13,
      "id": "061716eb",
      "metadata": {
        "id": "061716eb",
        "outputId": "35748807-e2c7-428a-a79c-19e0c34cd09b"
      },
      "outputs": [
        {
          "data": {
            "text/plain": [
              "matrix([[373],\n",
              "        [394],\n",
              "        [922],\n",
              "        [299]])"
            ]
          },
          "execution_count": 13,
          "metadata": {},
          "output_type": "execute_result"
        }
      ],
      "source": [
        "# Print the \"mat_food\" matrix\n",
        "\n",
        "mat_food"
      ]
    },
    {
      "cell_type": "code",
      "execution_count": 14,
      "id": "d2de2c9d",
      "metadata": {
        "id": "d2de2c9d",
        "outputId": "03f1a548-deb4-4bed-992f-bb28a08c47e3"
      },
      "outputs": [
        {
          "data": {
            "text/plain": [
              "(4, 1)"
            ]
          },
          "execution_count": 14,
          "metadata": {},
          "output_type": "execute_result"
        }
      ],
      "source": [
        "# Check the dimensions of the \"mat_food\" matrix using \".shape\"\n",
        "\n",
        "mat_food.shape"
      ]
    },
    {
      "cell_type": "markdown",
      "id": "GWA9UCavlqPP",
      "metadata": {
        "id": "GWA9UCavlqPP"
      },
      "source": [
        "1. To find the number of acres to be given to each farmer, we will use systems of linear equations\n",
        "2. Let \"X\" be the vector of number of acres to be given to each farmer\n",
        "3. Then, the required matrix equation will be \"mat_yields * X = mat_food\"\n",
        "4. Notice that \"mat_yields\" is a 4 x 4 matrix and mat_food is a 4 x 1 matrix\n",
        "5. Hence, \"X\" will be a 4 x 1 matrix which holds the required number of acres to be given to each farmer\n",
        "6. So, we can rewrite the equation as \"X = inverse of mat_yields * mat_food\""
      ]
    },
    {
      "cell_type": "markdown",
      "id": "KP6k2qEKj0hG",
      "metadata": {
        "id": "KP6k2qEKj0hG"
      },
      "source": [
        "![](https://i.ytimg.com/vi/aiBgjz5xbyg/maxresdefault.jpg)"
      ]
    },
    {
      "cell_type": "code",
      "execution_count": 15,
      "id": "f8fa4f7f",
      "metadata": {
        "id": "f8fa4f7f"
      },
      "outputs": [],
      "source": [
        "# Calculate the inverse of the \"mat_yields\" matrix using \"np.linalg.inv()\" and call it \"mat_yields_inv\"\n",
        "mat_yields_inv = np.linalg.inv(mat_yields)\n"
      ]
    },
    {
      "cell_type": "code",
      "execution_count": 16,
      "id": "5636eeac",
      "metadata": {
        "id": "5636eeac",
        "outputId": "aef615f0-42a5-4f82-93cf-97f9165f7606"
      },
      "outputs": [
        {
          "data": {
            "text/plain": [
              "matrix([[ 0.19836957, -0.14855072,  0.00815217, -0.05344203],\n",
              "        [-0.23845109,  0.35778986, -0.05774457,  0.01743659],\n",
              "        [ 0.02275815, -0.07925725,  0.01120924,  0.05151721],\n",
              "        [ 0.04509171, -0.15206069,  0.05579144, -0.00116055]])"
            ]
          },
          "execution_count": 16,
          "metadata": {},
          "output_type": "execute_result"
        }
      ],
      "source": [
        "# Print the \"mat_yields_inv\" matrix\n",
        "\n",
        "mat_yields_inv"
      ]
    },
    {
      "cell_type": "code",
      "execution_count": 17,
      "id": "36a499bc",
      "metadata": {
        "id": "36a499bc",
        "outputId": "eb346bda-80e7-48ad-bc41-48c67ad7f70e"
      },
      "outputs": [
        {
          "data": {
            "text/plain": [
              "(4, 4)"
            ]
          },
          "execution_count": 17,
          "metadata": {},
          "output_type": "execute_result"
        }
      ],
      "source": [
        "# Check the dimensions of the \"mat_yields_inv\" matrix using \".shape\"\n",
        "\n",
        "mat_yields_inv.shape"
      ]
    },
    {
      "cell_type": "markdown",
      "id": "jAYiHc2Vk82t",
      "metadata": {
        "id": "jAYiHc2Vk82t"
      },
      "source": [
        "### **Matrix * Vector**\n",
        "\n",
        "![](https://hadrienj.github.io/assets/images/2.2/dot-product.png)"
      ]
    },
    {
      "cell_type": "code",
      "execution_count": 18,
      "id": "48655813",
      "metadata": {
        "id": "48655813",
        "outputId": "cf908905-a589-41d4-9c30-b3b75168f827"
      },
      "outputs": [
        {
          "data": {
            "text/plain": [
              "matrix([[7.],\n",
              "        [4.],\n",
              "        [3.],\n",
              "        [8.]])"
            ]
          },
          "execution_count": 18,
          "metadata": {},
          "output_type": "execute_result"
        }
      ],
      "source": [
        "# Multiply the \"mat_yields_inv\" matrix by the \"mat_food\" matrix\n",
        "# Note: The order of multiplication matters\n",
        "# Note: Multiply the matrices using \"mat_yields_inv * mat_food\"\n",
        "\n",
        "mat_yields_inv * mat_food"
      ]
    },
    {
      "cell_type": "code",
      "execution_count": 20,
      "id": "7aa59f2a",
      "metadata": {
        "id": "7aa59f2a"
      },
      "outputs": [],
      "source": [
        "# Create a Pandas Series called \"acres\" with index as \"df.index\" and data as the product of the two matrices\n",
        "# Note: You will have to transpose the result back to a 1 x 4 matrix to pass it as data into a series\n",
        "# Note: You will have to convert the resultant matrix into an array using \"np.array()\" and then extract out only the list\n",
        "acres = pd.Series(index=df.index,data=np.array(mat_yields_inv * mat_food).transpose()[0])\n"
      ]
    },
    {
      "cell_type": "code",
      "execution_count": 21,
      "id": "6b4ff3b5",
      "metadata": {
        "id": "6b4ff3b5",
        "outputId": "25914ea6-35c1-487c-d53f-b910a1f6be83"
      },
      "outputs": [
        {
          "data": {
            "text/plain": [
              "Farmer\n",
              "Ravi       7.0\n",
              "Saju       4.0\n",
              "Kishore    3.0\n",
              "Satish     8.0\n",
              "dtype: float64"
            ]
          },
          "execution_count": 21,
          "metadata": {},
          "output_type": "execute_result"
        }
      ],
      "source": [
        "# Print the \"acres\" series\n",
        "\n",
        "acres"
      ]
    },
    {
      "cell_type": "markdown",
      "id": "XVDatYKfl119",
      "metadata": {
        "id": "XVDatYKfl119"
      },
      "source": [
        "#### Observations\n",
        "\n",
        "- The farmer Ravi will get 7 acres of land\n",
        "- The farmer Saju will get 4 acres of land\n",
        "- The farmer Kishore will get 3 acres of land\n",
        "- The farmer Satish will get 8 acres of land"
      ]
    },
    {
      "cell_type": "markdown",
      "id": "J0jCJL1fl-fX",
      "metadata": {
        "id": "J0jCJL1fl-fX"
      },
      "source": [
        "### Conclusions\n",
        "\n",
        "- From the farm yields data and some target yield, we can calculate the distbution of land between farmers\n",
        "- We can treat the farm yield values of all the farmers as a matrix\n",
        "- We can use matrix equations and matrix inverses to solve such problems"
      ]
    },
    {
      "cell_type": "markdown",
      "id": "OFKMq58Ukevd",
      "metadata": {
        "id": "OFKMq58Ukevd"
      },
      "source": [
        "# **FEEDBACK**\n",
        "\n",
        "https://forms.zohopublic.in/cloudyml/form/CloudyMLStatisticsFeedbackForm/formperma/WV946wnf0sDM_tOlH87RxZR9yMceKWGrtuPOyXzzCRc"
      ]
    }
  ],
  "metadata": {
    "colab": {
      "collapsed_sections": [],
      "provenance": []
    },
    "kernelspec": {
      "display_name": "Python 3",
      "language": "python",
      "name": "python3"
    },
    "language_info": {
      "codemirror_mode": {
        "name": "ipython",
        "version": 3
      },
      "file_extension": ".py",
      "mimetype": "text/x-python",
      "name": "python",
      "nbconvert_exporter": "python",
      "pygments_lexer": "ipython3",
      "version": "3.11.4"
    }
  },
  "nbformat": 4,
  "nbformat_minor": 5
}
