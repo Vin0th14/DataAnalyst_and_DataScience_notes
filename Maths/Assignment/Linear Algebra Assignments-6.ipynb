{
  "cells": [
    {
      "cell_type": "markdown",
      "id": "pzIUwIUwrbOL",
      "metadata": {
        "id": "pzIUwIUwrbOL"
      },
      "source": [
        "# **Linear Transformation**"
      ]
    },
    {
      "cell_type": "markdown",
      "id": "N1VySS_VmTYu",
      "metadata": {
        "id": "N1VySS_VmTYu"
      },
      "source": [
        "![](https://encrypted-tbn0.gstatic.com/images?q=tbn:ANd9GcTnL5CazjlcCyuigEH8E7sh78vczx2HdWaejQ&usqp=CAU)"
      ]
    },
    {
      "cell_type": "markdown",
      "id": "8Q74zwvwrmPj",
      "metadata": {
        "id": "8Q74zwvwrmPj"
      },
      "source": [
        " In this assignment you work with simple 2D vectors and see the effects of various transformations on them. You will perform the following tasks:\n",
        "- Visualise vectors on the 2D plane\n",
        "- Revise matrix-vector multiplication\n",
        "- Define helper functions that will help in calculating transformed vectors and also plotting them\n",
        "- Perform some standard transformations on vectors and visualise them"
      ]
    },
    {
      "cell_type": "markdown",
      "id": "ItqHD-pMZQg-",
      "metadata": {
        "id": "ItqHD-pMZQg-"
      },
      "source": [
        "## **`Watch Video 8 : Linear Transform`**"
      ]
    },
    {
      "cell_type": "markdown",
      "id": "NFknLBhcr5jp",
      "metadata": {
        "id": "NFknLBhcr5jp"
      },
      "source": [
        "# Task 1 - Visualise vectors on the 2D plane"
      ]
    },
    {
      "cell_type": "markdown",
      "id": "XIUHXVSVr_Ws",
      "metadata": {
        "id": "XIUHXVSVr_Ws"
      },
      "source": [
        "- We will first define a helper function to visualise vectors on the 2D plane\n",
        "- For the sake of simplicity, we will restrict our graphs to a square with side 10 units centred at the origin"
      ]
    },
    {
      "cell_type": "code",
      "execution_count": 1,
      "id": "9f5c393c",
      "metadata": {
        "id": "9f5c393c"
      },
      "outputs": [],
      "source": [
        "# Load \"numpy\" for manipulating numbers and vectors\n",
        "# Load \"matplotlib.pyplot\" for data visualisation\n",
        "import numpy as np\n",
        "import pandas as pd\n"
      ]
    },
    {
      "cell_type": "code",
      "execution_count": null,
      "id": "de134238",
      "metadata": {
        "id": "de134238"
      },
      "outputs": [],
      "source": [
        "# Define a function to show vectors on the 2D plane\n",
        "def showvec(v):\n",
        "    "
      ]
    },
    {
      "cell_type": "code",
      "execution_count": null,
      "id": "66acd375",
      "metadata": {
        "id": "66acd375",
        "outputId": "157b3e04-b9f2-499b-d2ea-7082e9574d27"
      },
      "outputs": [
        {
          "data": {
            "image/png": "[encoded data removed]",
            "text/plain": [
              "<Figure size 432x432 with 1 Axes>"
            ]
          },
          "metadata": {
            "needs_background": "light"
          },
          "output_type": "display_data"
        }
      ],
      "source": [
        "# Use the function \"showvec()\" to visualise the vector (1, 1)\n",
        "# Note: You need to pass the vector as a list-like object to the function \"showvec()\"\n",
        "\n"
      ]
    },
    {
      "cell_type": "code",
      "execution_count": null,
      "id": "ceacdc39",
      "metadata": {
        "id": "ceacdc39",
        "outputId": "847057f4-daf1-4c56-c596-0c8564bfd809"
      },
      "outputs": [
        {
          "data": {
            "image/png": "[encoded data removed]",
            "text/plain": [
              "<Figure size 432x432 with 1 Axes>"
            ]
          },
          "metadata": {
            "needs_background": "light"
          },
          "output_type": "display_data"
        }
      ],
      "source": [
        "# Use the function \"showvec()\" to visualise the vector (-3, 2)\n",
        "\n"
      ]
    },
    {
      "cell_type": "code",
      "execution_count": null,
      "id": "be5cbe48",
      "metadata": {
        "id": "be5cbe48",
        "outputId": "097dd68e-8497-41fa-ebb0-fe8b1fbe01ae"
      },
      "outputs": [
        {
          "data": {
            "image/png": "[encoded data removed]",
            "text/plain": [
              "<Figure size 432x432 with 1 Axes>"
            ]
          },
          "metadata": {
            "needs_background": "light"
          },
          "output_type": "display_data"
        }
      ],
      "source": [
        "# Use the function \"showvec()\" to visualise the vector (4, -3)\n",
        "\n"
      ]
    },
    {
      "cell_type": "markdown",
      "id": "PPTVboygsEjM",
      "metadata": {
        "id": "PPTVboygsEjM"
      },
      "source": [
        "# Observations\n",
        "\n",
        "- We creaed a helper function called \"showvec()\" to plot vectors on the 2D plane\n",
        "- The function \"showvec()\" takes lists of length 2 as an input\n",
        "- The first value in the list is the X coordinate of the vector and the second is its Y coordinate"
      ]
    },
    {
      "cell_type": "markdown",
      "id": "4L7m57qssI6o",
      "metadata": {
        "id": "4L7m57qssI6o"
      },
      "source": [
        "# Task 2 - Revise matrix-vector multiplication"
      ]
    },
    {
      "cell_type": "markdown",
      "id": "hb09D_CdsP5K",
      "metadata": {
        "id": "hb09D_CdsP5K"
      },
      "source": [
        "- We will now revise matrix-vector multiplication since our transformations will require this operation\n",
        "- We will understand that Numpy treats matrices and lists differently"
      ]
    },
    {
      "cell_type": "code",
      "execution_count": null,
      "id": "b66e2b89",
      "metadata": {
        "id": "b66e2b89"
      },
      "outputs": [],
      "source": [
        "# Define a vector \"a = (1, 1)\" as a list\n",
        "a = \n"
      ]
    },
    {
      "cell_type": "code",
      "execution_count": null,
      "id": "efc86123",
      "metadata": {
        "id": "efc86123",
        "outputId": "c3150bce-a1d1-4716-b2f8-0f42bb8307c1"
      },
      "outputs": [
        {
          "data": {
            "text/plain": [
              "[1, 1]"
            ]
          },
          "execution_count": 14,
          "metadata": {},
          "output_type": "execute_result"
        }
      ],
      "source": [
        "# Print the value of \"a\"\n",
        "\n"
      ]
    },
    {
      "cell_type": "code",
      "execution_count": null,
      "id": "47a16fa7",
      "metadata": {
        "id": "47a16fa7",
        "outputId": "012e82f3-0de4-4f61-e7b3-9c386e845a5a"
      },
      "outputs": [
        {
          "data": {
            "image/png": "[encoded data removed]",
            "text/plain": [
              "<Figure size 432x432 with 1 Axes>"
            ]
          },
          "metadata": {
            "needs_background": "light"
          },
          "output_type": "display_data"
        }
      ],
      "source": [
        "# Use the function \"showvec()\" to visualise the vector \"a\"\n",
        "\n"
      ]
    },
    {
      "cell_type": "code",
      "execution_count": null,
      "id": "d2c251a5",
      "metadata": {
        "id": "d2c251a5",
        "outputId": "e4372593-6aaf-42f8-f364-bd139a6ea21d"
      },
      "outputs": [
        {
          "ename": "AttributeError",
          "evalue": "'list' object has no attribute 'shape'",
          "output_type": "error",
          "traceback": [
            "\u001b[1;31m---------------------------------------------------------------------------\u001b[0m",
            "\u001b[1;31mAttributeError\u001b[0m                            Traceback (most recent call last)",
            "\u001b[1;32m<ipython-input-16-df6cfb11e103>\u001b[0m in \u001b[0;36m<module>\u001b[1;34m\u001b[0m\n\u001b[0;32m      1\u001b[0m \u001b[1;31m# Check the shape of \"a\" using \".shape\"\u001b[0m\u001b[1;33m\u001b[0m\u001b[1;33m\u001b[0m\u001b[1;33m\u001b[0m\u001b[0m\n\u001b[1;32m----> 2\u001b[1;33m \u001b[0ma\u001b[0m\u001b[1;33m.\u001b[0m\u001b[0mshape\u001b[0m\u001b[1;33m\u001b[0m\u001b[1;33m\u001b[0m\u001b[0m\n\u001b[0m\u001b[0;32m      3\u001b[0m \u001b[1;31m# You will notice that the Python List object does not have any shape attribute\u001b[0m\u001b[1;33m\u001b[0m\u001b[1;33m\u001b[0m\u001b[1;33m\u001b[0m\u001b[0m\n",
            "\u001b[1;31mAttributeError\u001b[0m: 'list' object has no attribute 'shape'"
          ]
        }
      ],
      "source": [
        "# Check the shape of \"a\" using \".shape\"\n",
        "\n",
        "\n"
      ]
    },
    {
      "cell_type": "markdown",
      "id": "L2P3NBX4lnZz",
      "metadata": {
        "id": "L2P3NBX4lnZz"
      },
      "source": [
        "### Did you notice?\n",
        "- You will notice that the Python List object does not have any shape attribute"
      ]
    },
    {
      "cell_type": "code",
      "execution_count": null,
      "id": "eced3a4d",
      "metadata": {
        "id": "eced3a4d"
      },
      "outputs": [],
      "source": [
        "# Convert \"a\" into a vector using \"np.matrix()\"\n",
        "# Note: Mathematically, a vector is also a matrix\n",
        "a = \n"
      ]
    },
    {
      "cell_type": "code",
      "execution_count": null,
      "id": "e4d8b260",
      "metadata": {
        "id": "e4d8b260",
        "outputId": "104e3779-0d6e-4060-f08c-25dd9d75738f"
      },
      "outputs": [
        {
          "data": {
            "text/plain": [
              "matrix([[1, 1]])"
            ]
          },
          "execution_count": 18,
          "metadata": {},
          "output_type": "execute_result"
        }
      ],
      "source": [
        "# Print the value of \"a\"\n"
      ]
    },
    {
      "cell_type": "code",
      "execution_count": null,
      "id": "abd28efc",
      "metadata": {
        "id": "abd28efc",
        "outputId": "c8fefcd8-a535-4852-a54b-11efc02ffe72"
      },
      "outputs": [
        {
          "data": {
            "text/plain": [
              "(1, 2)"
            ]
          },
          "execution_count": 19,
          "metadata": {},
          "output_type": "execute_result"
        }
      ],
      "source": [
        "# Check the shape of \"a\" using \".shape\"\n",
        "\n"
      ]
    },
    {
      "cell_type": "code",
      "execution_count": null,
      "id": "33fb14f8",
      "metadata": {
        "id": "33fb14f8"
      },
      "outputs": [],
      "source": [
        "# Define a matrix \"m\" whose first row is the vector (3, -2) and whose second row is the vector (1, 3) using \"np.matrix()\"\n",
        "# Note: To create a matrix, you need to pass all the values in the matrix as a list to the \"data\" parameter\n",
        "# Note: You can then reshape the matrix using \".reshape()\"\n",
        "m = \n"
      ]
    },
    {
      "cell_type": "code",
      "execution_count": null,
      "id": "698e094d",
      "metadata": {
        "id": "698e094d",
        "outputId": "4480164a-6661-4414-b97b-0163a7d16f0e"
      },
      "outputs": [
        {
          "data": {
            "text/plain": [
              "matrix([[ 3, -2],\n",
              "        [ 1,  3]])"
            ]
          },
          "execution_count": 21,
          "metadata": {},
          "output_type": "execute_result"
        }
      ],
      "source": [
        "# Print the value of \"m\"\n",
        "\n"
      ]
    },
    {
      "cell_type": "code",
      "execution_count": null,
      "id": "6fc95d99",
      "metadata": {
        "id": "6fc95d99",
        "outputId": "449cbc28-09bf-4a94-9163-ae4b73f1b9ed"
      },
      "outputs": [
        {
          "data": {
            "text/plain": [
              "(2, 2)"
            ]
          },
          "execution_count": 22,
          "metadata": {},
          "output_type": "execute_result"
        }
      ],
      "source": [
        "# Check the shape of \"m\" using \".shape\"\n",
        "\n"
      ]
    },
    {
      "cell_type": "code",
      "execution_count": null,
      "id": "1d90b30d",
      "metadata": {
        "id": "1d90b30d",
        "outputId": "1fd5baab-09c9-4be6-8306-d9584b9717cf"
      },
      "outputs": [
        {
          "ename": "ValueError",
          "evalue": "shapes (2,2) and (1,2) not aligned: 2 (dim 1) != 1 (dim 0)",
          "output_type": "error",
          "traceback": [
            "\u001b[1;31m---------------------------------------------------------------------------\u001b[0m",
            "\u001b[1;31mValueError\u001b[0m                                Traceback (most recent call last)",
            "\u001b[1;32m<ipython-input-23-211f8e8622d1>\u001b[0m in \u001b[0;36m<module>\u001b[1;34m\u001b[0m\n\u001b[0;32m      1\u001b[0m \u001b[1;31m# Multiply the vector \"a\" by the matrix \"m\"\u001b[0m\u001b[1;33m\u001b[0m\u001b[1;33m\u001b[0m\u001b[1;33m\u001b[0m\u001b[0m\n\u001b[0;32m      2\u001b[0m \u001b[1;31m# Note: If \"a\" is a list, then the matrix-vector multiplication will fail\u001b[0m\u001b[1;33m\u001b[0m\u001b[1;33m\u001b[0m\u001b[1;33m\u001b[0m\u001b[0m\n\u001b[1;32m----> 3\u001b[1;33m \u001b[0mm\u001b[0m \u001b[1;33m*\u001b[0m \u001b[0ma\u001b[0m\u001b[1;33m\u001b[0m\u001b[1;33m\u001b[0m\u001b[0m\n\u001b[0m\u001b[0;32m      4\u001b[0m \u001b[1;31m# You will notice that you get a shape alignment error\u001b[0m\u001b[1;33m\u001b[0m\u001b[1;33m\u001b[0m\u001b[1;33m\u001b[0m\u001b[0m\n\u001b[0;32m      5\u001b[0m \u001b[1;31m# This is because the vector \"a\" has a shape of 1 x 2 and the matrix m has a shape of 2 x 2\u001b[0m\u001b[1;33m\u001b[0m\u001b[1;33m\u001b[0m\u001b[1;33m\u001b[0m\u001b[0m\n",
            "\u001b[1;32mC:\\ProgramData\\Anaconda3\\lib\\site-packages\\numpy\\matrixlib\\defmatrix.py\u001b[0m in \u001b[0;36m__mul__\u001b[1;34m(self, other)\u001b[0m\n\u001b[0;32m    216\u001b[0m         \u001b[1;32mif\u001b[0m \u001b[0misinstance\u001b[0m\u001b[1;33m(\u001b[0m\u001b[0mother\u001b[0m\u001b[1;33m,\u001b[0m \u001b[1;33m(\u001b[0m\u001b[0mN\u001b[0m\u001b[1;33m.\u001b[0m\u001b[0mndarray\u001b[0m\u001b[1;33m,\u001b[0m \u001b[0mlist\u001b[0m\u001b[1;33m,\u001b[0m \u001b[0mtuple\u001b[0m\u001b[1;33m)\u001b[0m\u001b[1;33m)\u001b[0m \u001b[1;33m:\u001b[0m\u001b[1;33m\u001b[0m\u001b[1;33m\u001b[0m\u001b[0m\n\u001b[0;32m    217\u001b[0m             \u001b[1;31m# This promotes 1-D vectors to row vectors\u001b[0m\u001b[1;33m\u001b[0m\u001b[1;33m\u001b[0m\u001b[1;33m\u001b[0m\u001b[0m\n\u001b[1;32m--> 218\u001b[1;33m             \u001b[1;32mreturn\u001b[0m \u001b[0mN\u001b[0m\u001b[1;33m.\u001b[0m\u001b[0mdot\u001b[0m\u001b[1;33m(\u001b[0m\u001b[0mself\u001b[0m\u001b[1;33m,\u001b[0m \u001b[0masmatrix\u001b[0m\u001b[1;33m(\u001b[0m\u001b[0mother\u001b[0m\u001b[1;33m)\u001b[0m\u001b[1;33m)\u001b[0m\u001b[1;33m\u001b[0m\u001b[1;33m\u001b[0m\u001b[0m\n\u001b[0m\u001b[0;32m    219\u001b[0m         \u001b[1;32mif\u001b[0m \u001b[0misscalar\u001b[0m\u001b[1;33m(\u001b[0m\u001b[0mother\u001b[0m\u001b[1;33m)\u001b[0m \u001b[1;32mor\u001b[0m \u001b[1;32mnot\u001b[0m \u001b[0mhasattr\u001b[0m\u001b[1;33m(\u001b[0m\u001b[0mother\u001b[0m\u001b[1;33m,\u001b[0m \u001b[1;34m'__rmul__'\u001b[0m\u001b[1;33m)\u001b[0m \u001b[1;33m:\u001b[0m\u001b[1;33m\u001b[0m\u001b[1;33m\u001b[0m\u001b[0m\n\u001b[0;32m    220\u001b[0m             \u001b[1;32mreturn\u001b[0m \u001b[0mN\u001b[0m\u001b[1;33m.\u001b[0m\u001b[0mdot\u001b[0m\u001b[1;33m(\u001b[0m\u001b[0mself\u001b[0m\u001b[1;33m,\u001b[0m \u001b[0mother\u001b[0m\u001b[1;33m)\u001b[0m\u001b[1;33m\u001b[0m\u001b[1;33m\u001b[0m\u001b[0m\n",
            "\u001b[1;32m<__array_function__ internals>\u001b[0m in \u001b[0;36mdot\u001b[1;34m(*args, **kwargs)\u001b[0m\n",
            "\u001b[1;31mValueError\u001b[0m: shapes (2,2) and (1,2) not aligned: 2 (dim 1) != 1 (dim 0)"
          ]
        }
      ],
      "source": [
        "# Multiply the vector \"a\" by the matrix \"m\"\n",
        "# Note: If \"a\" is a list, then the matrix-vector multiplication will fail\n",
        "# Note: The order of multiplication must be \"m * a\"\n",
        "\n"
      ]
    },
    {
      "cell_type": "markdown",
      "id": "0VdDFFzYliXD",
      "metadata": {
        "id": "0VdDFFzYliXD"
      },
      "source": [
        "# Did you notice?\n",
        "- You will notice that you get a shape alignment error\n",
        "- This is because the vector \"a\" has a shape of 1 x 2 and the matrix m has a shape of 2 x 2"
      ]
    },
    {
      "cell_type": "code",
      "execution_count": null,
      "id": "4d93f667",
      "metadata": {
        "id": "4d93f667"
      },
      "outputs": [],
      "source": [
        "# Multiply the transpose of the vector \"a\" by the matrix \"m\"\n",
        "# Note: You can use the \".transpose()\" method on matrix-like objects to transpose them\n",
        "# Store the resulting vector as \"b\"\n",
        "b = \n"
      ]
    },
    {
      "cell_type": "code",
      "execution_count": null,
      "id": "29407b05",
      "metadata": {
        "id": "29407b05",
        "outputId": "9e8b3c64-56d9-47ce-9d97-1b7340d4ec18"
      },
      "outputs": [
        {
          "data": {
            "text/plain": [
              "matrix([[1],\n",
              "        [4]])"
            ]
          },
          "execution_count": 25,
          "metadata": {},
          "output_type": "execute_result"
        }
      ],
      "source": [
        "# Print the value of \"b\"\n"
      ]
    },
    {
      "cell_type": "code",
      "execution_count": null,
      "id": "87499c63",
      "metadata": {
        "id": "87499c63",
        "outputId": "fd82f5cc-c95e-43a6-98b8-9e832ee52c5c"
      },
      "outputs": [
        {
          "data": {
            "text/plain": [
              "(2, 1)"
            ]
          },
          "execution_count": 26,
          "metadata": {},
          "output_type": "execute_result"
        }
      ],
      "source": [
        "# Check the shape of \"b\" using \".shape\"\n",
        "\n"
      ]
    },
    {
      "cell_type": "code",
      "execution_count": null,
      "id": "389901c4",
      "metadata": {
        "id": "389901c4"
      },
      "outputs": [],
      "source": [
        "# Convert \"b\" back into a list\n",
        "# Note: You can access the individual elements within the matrix and store them in the list\n",
        "b = \n"
      ]
    },
    {
      "cell_type": "code",
      "execution_count": null,
      "id": "8e47a74c",
      "metadata": {
        "id": "8e47a74c",
        "outputId": "64c1d6c6-338f-403e-8956-2462373d1c61"
      },
      "outputs": [
        {
          "data": {
            "text/plain": [
              "[1, 4]"
            ]
          },
          "execution_count": 28,
          "metadata": {},
          "output_type": "execute_result"
        }
      ],
      "source": [
        "# Print the value of \"b\"\n",
        "\n"
      ]
    },
    {
      "cell_type": "code",
      "execution_count": null,
      "id": "06cce0ba",
      "metadata": {
        "id": "06cce0ba",
        "outputId": "f0566df7-5244-43d5-be4b-46762739e455"
      },
      "outputs": [
        {
          "data": {
            "image/png": "[encoded data removed]",
            "text/plain": [
              "<Figure size 432x432 with 1 Axes>"
            ]
          },
          "metadata": {
            "needs_background": "light"
          },
          "output_type": "display_data"
        }
      ],
      "source": [
        "# Use the function \"showvec()\" to visualise the vector \"b\"\n",
        "\n"
      ]
    },
    {
      "cell_type": "markdown",
      "id": "SqhkzqKgsYGp",
      "metadata": {
        "id": "SqhkzqKgsYGp"
      },
      "source": [
        "### Observations\n",
        "\n",
        "- We revised matrix-vector multiplication and saw that a vector changes length and direction after a transformation\n",
        "- Mathematically, vectors are also matrices\n",
        "- The function \"showvec()\" expects a list but matrix-vector multiplication needs Numpy Matrices\n",
        "- To solve this problem, we learnt to convert lists to vectors and vectors back into lists"
      ]
    },
    {
      "cell_type": "markdown",
      "id": "5bBucsa2sfAF",
      "metadata": {
        "id": "5bBucsa2sfAF"
      },
      "source": [
        "# Task 3 - Define helper functions that will help in calculating transformed vectors and also plotting them"
      ]
    },
    {
      "cell_type": "markdown",
      "id": "Iu3Yyc13sjMI",
      "metadata": {
        "id": "Iu3Yyc13sjMI"
      },
      "source": [
        "##### We will now define two functions:\n",
        "- One to calculate a transformed vector, given an input vector and a matrix tansformation\n",
        "- Another to plot the original and the transformed vectors\n",
        "\n",
        "**Note**\n",
        "1. In general, linear transformations can be applied to a single vector or the entire 2D plane of vectors\n",
        "2. In this exercise, we will visualise specific vectors and their transformed versions on the same graph\n",
        "3. In general, if a transformation is applied to the entire 2D plane, the grid lines would transform as well"
      ]
    },
    {
      "cell_type": "code",
      "execution_count": null,
      "id": "38672071",
      "metadata": {
        "id": "38672071"
      },
      "outputs": [],
      "source": [
        "# Define a function \"lineartransform()\" that takes in a vector and a matrix and returns the transformed vector\n",
        "# Note: Pass the input vector to the function as a list of length 2\n",
        "# Note: Pass the input matrix to the function as a list of length 4\n",
        "# Note: The output of the function must be a list of length 2\n",
        "# Note: Use the learnings you gained from the previous task to help you here\n",
        "\n",
        "def lineartransform(v, t):\n",
        "    # code here"
      ]
    },
    {
      "cell_type": "code",
      "execution_count": null,
      "id": "9bce76da",
      "metadata": {
        "id": "9bce76da",
        "outputId": "8e1f6348-6ec7-41cb-b93c-00058b003408"
      },
      "outputs": [
        {
          "data": {
            "image/png": "[encoded data removed]",
            "text/plain": [
              "<Figure size 432x432 with 1 Axes>"
            ]
          },
          "metadata": {
            "needs_background": "light"
          },
          "output_type": "display_data"
        }
      ],
      "source": [
        "# Use the function \"showvec()\" to visualise the vector (-1, 1)\n",
        "\n"
      ]
    },
    {
      "cell_type": "code",
      "execution_count": null,
      "id": "804324b0",
      "metadata": {
        "id": "804324b0",
        "outputId": "dc06a548-a65e-4fe9-e745-078d014b821c"
      },
      "outputs": [
        {
          "data": {
            "text/plain": [
              "[-2, 3]"
            ]
          },
          "execution_count": 35,
          "metadata": {},
          "output_type": "execute_result"
        }
      ],
      "source": [
        "# Use the function \"lineartransform()\" to transform the vector (-1, 1) using the matrix whose elements are [2, 0, -1, 2]\n",
        "\n"
      ]
    },
    {
      "cell_type": "code",
      "execution_count": null,
      "id": "86745cda",
      "metadata": {
        "id": "86745cda",
        "outputId": "a9036f3a-1d4c-4924-d59c-8bae6f8db05d"
      },
      "outputs": [
        {
          "data": {
            "image/png": "[encoded data removed]",
            "text/plain": [
              "<Figure size 432x432 with 1 Axes>"
            ]
          },
          "metadata": {
            "needs_background": "light"
          },
          "output_type": "display_data"
        }
      ],
      "source": [
        "# Use the function \"showvec()\" to visualise the output vector from the \"lineartransform()\" function that you ran previously\n",
        "# Note: You can pass the function \"lineartransform()\" with the required parameters as an input to the function \"showvec()\"\n",
        "\n"
      ]
    },
    {
      "cell_type": "code",
      "execution_count": null,
      "id": "d19ddd1d",
      "metadata": {
        "id": "d19ddd1d"
      },
      "outputs": [],
      "source": [
        "# Define a function \"showtransform()\" that takes in a vector and a matrix and plots the original and the transformed vector\n",
        "# Note: Use the \"lineartransform()\" function within the \"showtransform()\" function to get the transformed vector\n",
        "# Note: Use the lines of code from the \"showvec()\" function to help you define this function\n",
        "# Note: Show both the original and the transformed vectors on the same figure\n",
        "# Note: You may set the \"color\" arguments for the transformed vector as \"red\"\n",
        "def showtransform(v, t):\n",
        "    w = # call linear transform on v, t\n",
        "    plt.figure(figsize = (6, 6))\n",
        "\n",
        "    # plot v[0], v[1] at 0,0\n",
        "    \n",
        "\n",
        "    # plot scatterplot of v[0], v[1] at x, y\n",
        "    \n",
        "    \n",
        "    # plot w[0], w[1] at 0,0\n",
        "    \n",
        "    \n",
        "\n",
        "    # plot scatterplot of w[0], w[1] at x,y\n",
        "    \n",
        "    \n",
        "\n",
        "    plt.xlim([-5, 5])\n",
        "    plt.xticks(ticks = np.arange(-5, 6, 1))\n",
        "    plt.ylim([-5, 5])\n",
        "    plt.yticks(ticks = np.arange(-5, 6, 1))\n",
        "    plt.grid();"
      ]
    },
    {
      "cell_type": "code",
      "execution_count": null,
      "id": "5f045196",
      "metadata": {
        "id": "5f045196",
        "outputId": "10569d75-81de-4b63-b74d-c2944503cd59"
      },
      "outputs": [
        {
          "data": {
            "image/png": "[encoded data removed]",
            "text/plain": [
              "<Figure size 432x432 with 1 Axes>"
            ]
          },
          "metadata": {
            "needs_background": "light"
          },
          "output_type": "display_data"
        }
      ],
      "source": [
        "# Use the function \"showtransform()\" for the vector (-2, 1) and the matrix with values [-2, 0, 1, 3]\n",
        "\n"
      ]
    },
    {
      "cell_type": "code",
      "execution_count": null,
      "id": "261c355c",
      "metadata": {
        "id": "261c355c",
        "outputId": "ac57b28e-63e7-45e6-ec1b-ae9cbb4168ff"
      },
      "outputs": [
        {
          "data": {
            "image/png": "[encoded data removed]",
            "text/plain": [
              "<Figure size 432x432 with 1 Axes>"
            ]
          },
          "metadata": {
            "needs_background": "light"
          },
          "output_type": "display_data"
        }
      ],
      "source": [
        "# Use the function \"showtransform()\" for the vector (2, 0) and the matrix with values [0, 2, -1, 1]\n",
        "\n"
      ]
    },
    {
      "cell_type": "markdown",
      "id": "0iIpk2g5s3Oj",
      "metadata": {
        "id": "0iIpk2g5s3Oj"
      },
      "source": [
        "##### Observations\n",
        "\n",
        "We defined a function called \"lineartransform()\" that:\n",
        "-Takes in an input vector as a list of length 2\n",
        "- Takes in an input matrix as a list of 4 values and reshapes it into a 2 x 2 matrix\n",
        "- Converts the input list into a vector of shape 2 x 1\n",
        "- Multiplies the vector by the matrix\n",
        "- Returns the transformed vector as a list\n"
      ]
    },
    {
      "cell_type": "markdown",
      "id": "OZHVSHONtFoo",
      "metadata": {
        "id": "OZHVSHONtFoo"
      },
      "source": [
        "###### We defined a function called \"showtransform()\" that:\n",
        "- Takes in an input vector as a list of length 2\n",
        "- Takes in an input matrix as a list of length 4\n",
        "- Uses the \"lineartransform()\" function to calculate the transformed vetor\n",
        "- Displays the original and the transformed vectors on the same graph"
      ]
    },
    {
      "cell_type": "markdown",
      "id": "1RewNGZPtWvs",
      "metadata": {
        "id": "1RewNGZPtWvs"
      },
      "source": [
        "## Task 4 - Perform some standard transformations on vectors and visualise them"
      ]
    },
    {
      "cell_type": "markdown",
      "id": "8-Xv67G6taEF",
      "metadata": {
        "id": "8-Xv67G6taEF"
      },
      "source": [
        "##### We will perform the following standard transformations and visualise them:\n",
        "- Identity\n",
        "- Reflection about X axis\n",
        "- Reflection about Y axis\n",
        "- Clockwise rotation by a right angle\n",
        "- Counter-clockwise rotation by a right angle\n",
        "- Dilation or scaling\n",
        "- Shear"
      ]
    },
    {
      "cell_type": "code",
      "execution_count": null,
      "id": "10d780f3",
      "metadata": {
        "id": "10d780f3",
        "outputId": "a22fcdc2-a602-4261-83ce-3af956fe9a87"
      },
      "outputs": [
        {
          "data": {
            "image/png": "[encoded data removed]",
            "text/plain": [
              "<Figure size 432x432 with 1 Axes>"
            ]
          },
          "metadata": {
            "needs_background": "light"
          },
          "output_type": "display_data"
        }
      ],
      "source": [
        "# Use the function \"showtransform()\" for the vector (2, -4) and the matrix with values [1, 0, 0, 1]\n",
        "# Note: This is the identity transformation\n",
        "\n"
      ]
    },
    {
      "cell_type": "code",
      "execution_count": null,
      "id": "6f972c58",
      "metadata": {
        "id": "6f972c58",
        "outputId": "ac170ca7-4265-4a59-f21a-f45acad45e39"
      },
      "outputs": [
        {
          "data": {
            "image/png": "[encoded data removed]",
            "text/plain": [
              "<Figure size 432x432 with 1 Axes>"
            ]
          },
          "metadata": {
            "needs_background": "light"
          },
          "output_type": "display_data"
        }
      ],
      "source": [
        "# Use the function \"showtransform()\" for the vector (-1, 2) and the matrix with values [1, 0, 0, -1]\n",
        "# Note: This is the reflection about X axis transformation\n",
        "\n"
      ]
    },
    {
      "cell_type": "markdown",
      "id": "mlv1fjP_nQeA",
      "metadata": {
        "id": "mlv1fjP_nQeA"
      },
      "source": [
        "![](https://i.ytimg.com/vi/LiqGHh-NCNM/maxresdefault.jpg)"
      ]
    },
    {
      "cell_type": "code",
      "execution_count": null,
      "id": "cb086cef",
      "metadata": {
        "id": "cb086cef",
        "outputId": "e4d83c20-931b-4fb8-850d-5116d4e0ff25"
      },
      "outputs": [
        {
          "data": {
            "image/png": "[encoded data removed]",
            "text/plain": [
              "<Figure size 432x432 with 1 Axes>"
            ]
          },
          "metadata": {
            "needs_background": "light"
          },
          "output_type": "display_data"
        }
      ],
      "source": [
        "# Use the function \"showtransform()\" for the vector (2, -3) and the matrix with values [-1, 0, 0, 1]\n",
        "# Note: This is the reflection about Y axis transformation\n",
        "\n"
      ]
    },
    {
      "cell_type": "code",
      "execution_count": null,
      "id": "a941bd92",
      "metadata": {
        "id": "a941bd92",
        "outputId": "1f6902f8-388c-4358-fa3d-1b83d316a06f"
      },
      "outputs": [
        {
          "data": {
            "image/png": "[encoded data removed]",
            "text/plain": [
              "<Figure size 432x432 with 1 Axes>"
            ]
          },
          "metadata": {
            "needs_background": "light"
          },
          "output_type": "display_data"
        }
      ],
      "source": [
        "# Use the function \"showtransform()\" for the vector (3, 1) and the matrix with values [0, 1, -1, 0]\n",
        "# Note: This is the clockwise rotation by a right angle transformation\n",
        "\n"
      ]
    },
    {
      "cell_type": "code",
      "execution_count": null,
      "id": "ac9af58d",
      "metadata": {
        "id": "ac9af58d",
        "outputId": "8738fb9b-c9e3-4b2e-e581-4b228d4c08f1"
      },
      "outputs": [
        {
          "data": {
            "image/png": "[encoded data removed]",
            "text/plain": [
              "<Figure size 432x432 with 1 Axes>"
            ]
          },
          "metadata": {
            "needs_background": "light"
          },
          "output_type": "display_data"
        }
      ],
      "source": [
        "# Use the function \"showtransform()\" for the vector (-3, 3) and the matrix with values [0, -1, 1, 0]\n",
        "# Note: This is the counter-clockwise rotation by a right angle transformation\n",
        "\n"
      ]
    },
    {
      "cell_type": "markdown",
      "id": "cktt0YvEoA-D",
      "metadata": {
        "id": "cktt0YvEoA-D"
      },
      "source": [
        "![](http://mathonline.wdfiles.com/local--files/contraction-and-dilation-transformations/Screen%20Shot%202014-06-15%20at%209.14.43%20PM.png)"
      ]
    },
    {
      "cell_type": "code",
      "execution_count": null,
      "id": "c7bb07bf",
      "metadata": {
        "id": "c7bb07bf",
        "outputId": "51d1b2f1-ab9c-4b18-d455-13f41b2dfa1d"
      },
      "outputs": [
        {
          "data": {
            "image/png": "[encoded data removed]",
            "text/plain": [
              "<Figure size 432x432 with 1 Axes>"
            ]
          },
          "metadata": {
            "needs_background": "light"
          },
          "output_type": "display_data"
        }
      ],
      "source": [
        "# Use the function \"showtransform()\" for the vector (1, 2) and the matrix with values [2, 0, 0, 2]\n",
        "# Note: This is a dilation or a scaling transformation\n",
        "\n"
      ]
    },
    {
      "cell_type": "markdown",
      "id": "dweVGZuNoXeg",
      "metadata": {
        "id": "dweVGZuNoXeg"
      },
      "source": [
        "![](https://diego.assencio.com/images/mathematics/shear-transformation.svg)"
      ]
    },
    {
      "cell_type": "code",
      "execution_count": null,
      "id": "923753c5",
      "metadata": {
        "id": "923753c5",
        "outputId": "77fd5255-52a1-470d-c666-9860abb9f989"
      },
      "outputs": [
        {
          "data": {
            "image/png": "[encoded data removed]",
            "text/plain": [
              "<Figure size 432x432 with 1 Axes>"
            ]
          },
          "metadata": {
            "needs_background": "light"
          },
          "output_type": "display_data"
        }
      ],
      "source": [
        "# Use the function \"showtransform()\" for the vector (1, 1) and the matrix with values [1, 1, 0, 1]\n",
        "# Note: This is a shear transformation\n",
        "\n"
      ]
    },
    {
      "cell_type": "markdown",
      "id": "Vyj9GQCLthVM",
      "metadata": {
        "id": "Vyj9GQCLthVM"
      },
      "source": [
        "### Observations\n",
        "\n",
        "- We saw how different matrices can be used to transform vectors\n",
        "- We studied standard transformations such as identity, reflection, rotation, scaling and shear"
      ]
    },
    {
      "cell_type": "markdown",
      "id": "VCutr3actnMN",
      "metadata": {
        "id": "VCutr3actnMN"
      },
      "source": [
        "### Conclusions\n",
        "\n",
        "- Matrices can be used to transform vectors and the resulting vector is a transformed version of the original vector\n",
        "- Matrix-vector multiplication is one of the most common methods used to transform vector"
      ]
    },
    {
      "cell_type": "markdown",
      "id": "Q5HDXU6llV10",
      "metadata": {
        "id": "Q5HDXU6llV10"
      },
      "source": [
        "# **FEEDBACK**\n",
        "\n",
        "https://forms.zohopublic.in/cloudyml/form/CloudyMLStatisticsFeedbackForm/formperma/WV946wnf0sDM_tOlH87RxZR9yMceKWGrtuPOyXzzCRc"
      ]
    }
  ],
  "metadata": {
    "colab": {
      "collapsed_sections": [],
      "provenance": []
    },
    "kernelspec": {
      "display_name": "Python 3",
      "language": "python",
      "name": "python3"
    },
    "language_info": {
      "codemirror_mode": {
        "name": "ipython",
        "version": 3
      },
      "file_extension": ".py",
      "mimetype": "text/x-python",
      "name": "python",
      "nbconvert_exporter": "python",
      "pygments_lexer": "ipython3",
      "version": "3.11.4"
    }
  },
  "nbformat": 4,
  "nbformat_minor": 5
}
