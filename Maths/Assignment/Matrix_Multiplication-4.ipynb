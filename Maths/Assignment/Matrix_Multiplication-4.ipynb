{
  "cells": [
    {
      "cell_type": "markdown",
      "id": "HbMETbiooqM4",
      "metadata": {
        "id": "HbMETbiooqM4"
      },
      "source": [
        "# **Matrix Multiplication**"
      ]
    },
    {
      "cell_type": "markdown",
      "id": "4lh62b4DwH57",
      "metadata": {
        "id": "4lh62b4DwH57"
      },
      "source": [
        "![](https://www.mathsisfun.com/algebra/images/matrix-multiply-ex1b.svg)"
      ]
    },
    {
      "cell_type": "markdown",
      "id": "WD4uLYdzozX2",
      "metadata": {
        "id": "WD4uLYdzozX2"
      },
      "source": [
        "### You will work with a simple dummy data set that contains factory production values of electrical machinery parts for a corporation."
      ]
    },
    {
      "cell_type": "markdown",
      "id": "ASaKRUJFo5mS",
      "metadata": {
        "id": "ASaKRUJFo5mS"
      },
      "source": [
        "##### you will perform the following tasks:\n",
        "- Load and study the data\n",
        "- Extract production values as a matrix from the data\n",
        "- Extract number of working days as a matrix from the data\n",
        "- Multiply matrices"
      ]
    },
    {
      "cell_type": "markdown",
      "id": "ItqHD-pMZQg-",
      "metadata": {
        "id": "ItqHD-pMZQg-"
      },
      "source": [
        "## **`Watch Video 5 : Matrix Multiplication`**"
      ]
    },
    {
      "cell_type": "markdown",
      "id": "nkyenbhVpJe8",
      "metadata": {
        "id": "nkyenbhVpJe8"
      },
      "source": [
        "## Task 1 - Load and study the data"
      ]
    },
    {
      "cell_type": "code",
      "execution_count": 1,
      "id": "9f5c393c",
      "metadata": {
        "id": "9f5c393c"
      },
      "outputs": [],
      "source": [
        "# Load \"numpy\" and \"pandas\" for manipulating numbers, vectors and data frames\n",
        "\n",
        "import numpy as np\n",
        "import pandas as pd"
      ]
    },
    {
      "cell_type": "code",
      "execution_count": 2,
      "id": "5608a781",
      "metadata": {
        "id": "5608a781"
      },
      "outputs": [],
      "source": [
        "# Read in the \"Factory_Production.csv\" file as a Pandas Data Frame\n",
        "# Note: Make sure the code and the data are in the same folder or specify the appropriate path for the data\n",
        "df = pd.read_csv(r\"E:/DataScience_and_DataAnalyst_Notes/Maths/Dataset/Factory_Production.csv\",index_col=0)\n"
      ]
    },
    {
      "cell_type": "markdown",
      "id": "dRJBUwpEpRXD",
      "metadata": {
        "id": "dRJBUwpEpRXD"
      },
      "source": []
    },
    {
      "cell_type": "code",
      "execution_count": 3,
      "id": "9385b905",
      "metadata": {
        "id": "9385b905",
        "outputId": "32618a42-c849-4982-9cd0-6a2be3859ee4"
      },
      "outputs": [
        {
          "data": {
            "text/html": [
              "<div>\n",
              "<style scoped>\n",
              "    .dataframe tbody tr th:only-of-type {\n",
              "        vertical-align: middle;\n",
              "    }\n",
              "\n",
              "    .dataframe tbody tr th {\n",
              "        vertical-align: top;\n",
              "    }\n",
              "\n",
              "    .dataframe thead th {\n",
              "        text-align: right;\n",
              "    }\n",
              "</style>\n",
              "<table border=\"1\" class=\"dataframe\">\n",
              "  <thead>\n",
              "    <tr style=\"text-align: right;\">\n",
              "      <th></th>\n",
              "      <th>Generators</th>\n",
              "      <th>Motors</th>\n",
              "      <th>Cables</th>\n",
              "      <th>Days</th>\n",
              "    </tr>\n",
              "    <tr>\n",
              "      <th>Factory</th>\n",
              "      <th></th>\n",
              "      <th></th>\n",
              "      <th></th>\n",
              "      <th></th>\n",
              "    </tr>\n",
              "  </thead>\n",
              "  <tbody>\n",
              "    <tr>\n",
              "      <th>A</th>\n",
              "      <td>8</td>\n",
              "      <td>17</td>\n",
              "      <td>232</td>\n",
              "      <td>352</td>\n",
              "    </tr>\n",
              "    <tr>\n",
              "      <th>B</th>\n",
              "      <td>6</td>\n",
              "      <td>20</td>\n",
              "      <td>203</td>\n",
              "      <td>348</td>\n",
              "    </tr>\n",
              "    <tr>\n",
              "      <th>C</th>\n",
              "      <td>10</td>\n",
              "      <td>16</td>\n",
              "      <td>187</td>\n",
              "      <td>337</td>\n",
              "    </tr>\n",
              "    <tr>\n",
              "      <th>D</th>\n",
              "      <td>7</td>\n",
              "      <td>24</td>\n",
              "      <td>218</td>\n",
              "      <td>357</td>\n",
              "    </tr>\n",
              "    <tr>\n",
              "      <th>E</th>\n",
              "      <td>13</td>\n",
              "      <td>13</td>\n",
              "      <td>256</td>\n",
              "      <td>362</td>\n",
              "    </tr>\n",
              "  </tbody>\n",
              "</table>\n",
              "</div>"
            ],
            "text/plain": [
              "         Generators  Motors  Cables  Days\n",
              "Factory                                  \n",
              "A                 8      17     232   352\n",
              "B                 6      20     203   348\n",
              "C                10      16     187   337\n",
              "D                 7      24     218   357\n",
              "E                13      13     256   362"
            ]
          },
          "execution_count": 3,
          "metadata": {},
          "output_type": "execute_result"
        }
      ],
      "source": [
        "# Take a brief look at the data frame using \".head()\"\n",
        "df.head()\n"
      ]
    },
    {
      "cell_type": "markdown",
      "id": "Rgr63G1CpfSA",
      "metadata": {
        "id": "Rgr63G1CpfSA"
      },
      "source": [
        "#### Feature Description:\n",
        "This data set contains the production values of power units such as generators, motors and cables of different factories belonging to the same corporation.\n",
        "\n",
        "- Factory = unique label assigned to a factory unit for the purpose of identification\n",
        "- Generators = number of generators produced by the factory in a day\n",
        "- Motors = number of motors produced by the factory in a day\n",
        "- Cables = number of cables produced by the factory in a day\n",
        "- Days = number of working days of the factory in a year"
      ]
    },
    {
      "cell_type": "markdown",
      "id": "8RL4jmBepTAX",
      "metadata": {
        "id": "8RL4jmBepTAX"
      },
      "source": [
        "##### Study its features such as:\n",
        "- The number of factory units\n",
        "- The number of machine parts\n",
        "- The ranges of production values"
      ]
    },
    {
      "cell_type": "code",
      "execution_count": 4,
      "id": "5b5bb00f",
      "metadata": {
        "id": "5b5bb00f",
        "outputId": "25cf5f6d-b944-4f9a-aa79-3ee67629e46a"
      },
      "outputs": [
        {
          "data": {
            "text/plain": [
              "(10, 4)"
            ]
          },
          "execution_count": 4,
          "metadata": {},
          "output_type": "execute_result"
        }
      ],
      "source": [
        "# Check the dimensions of the data frame using \".shape\"\n",
        "\n",
        "df.shape"
      ]
    },
    {
      "cell_type": "code",
      "execution_count": 5,
      "id": "a6b34a1e",
      "metadata": {
        "id": "a6b34a1e",
        "outputId": "d34f3405-3112-4758-ffe1-08c95b3b4719"
      },
      "outputs": [
        {
          "name": "stdout",
          "output_type": "stream",
          "text": [
            "<class 'pandas.core.frame.DataFrame'>\n",
            "Index: 10 entries, A to J\n",
            "Data columns (total 4 columns):\n",
            " #   Column      Non-Null Count  Dtype\n",
            "---  ------      --------------  -----\n",
            " 0   Generators  10 non-null     int64\n",
            " 1   Motors      10 non-null     int64\n",
            " 2   Cables      10 non-null     int64\n",
            " 3   Days        10 non-null     int64\n",
            "dtypes: int64(4)\n",
            "memory usage: 400.0+ bytes\n"
          ]
        }
      ],
      "source": [
        "# View basic information about the data frame using \".info()\"\n",
        "\n",
        "df.info()"
      ]
    },
    {
      "cell_type": "code",
      "execution_count": 6,
      "id": "f0bbb65b",
      "metadata": {
        "id": "f0bbb65b",
        "outputId": "2b40ac07-ffbe-4342-cf2a-031295f13fe6"
      },
      "outputs": [
        {
          "data": {
            "text/html": [
              "<div>\n",
              "<style scoped>\n",
              "    .dataframe tbody tr th:only-of-type {\n",
              "        vertical-align: middle;\n",
              "    }\n",
              "\n",
              "    .dataframe tbody tr th {\n",
              "        vertical-align: top;\n",
              "    }\n",
              "\n",
              "    .dataframe thead th {\n",
              "        text-align: right;\n",
              "    }\n",
              "</style>\n",
              "<table border=\"1\" class=\"dataframe\">\n",
              "  <thead>\n",
              "    <tr style=\"text-align: right;\">\n",
              "      <th></th>\n",
              "      <th>count</th>\n",
              "      <th>mean</th>\n",
              "      <th>std</th>\n",
              "      <th>min</th>\n",
              "      <th>25%</th>\n",
              "      <th>50%</th>\n",
              "      <th>75%</th>\n",
              "      <th>max</th>\n",
              "    </tr>\n",
              "  </thead>\n",
              "  <tbody>\n",
              "    <tr>\n",
              "      <th>Generators</th>\n",
              "      <td>10.0</td>\n",
              "      <td>8.8</td>\n",
              "      <td>2.658320</td>\n",
              "      <td>5.0</td>\n",
              "      <td>7.0</td>\n",
              "      <td>8.5</td>\n",
              "      <td>10.75</td>\n",
              "      <td>13.0</td>\n",
              "    </tr>\n",
              "    <tr>\n",
              "      <th>Motors</th>\n",
              "      <td>10.0</td>\n",
              "      <td>16.4</td>\n",
              "      <td>4.926121</td>\n",
              "      <td>8.0</td>\n",
              "      <td>13.5</td>\n",
              "      <td>16.5</td>\n",
              "      <td>19.50</td>\n",
              "      <td>24.0</td>\n",
              "    </tr>\n",
              "    <tr>\n",
              "      <th>Cables</th>\n",
              "      <td>10.0</td>\n",
              "      <td>205.1</td>\n",
              "      <td>29.015130</td>\n",
              "      <td>156.0</td>\n",
              "      <td>187.0</td>\n",
              "      <td>206.5</td>\n",
              "      <td>221.75</td>\n",
              "      <td>256.0</td>\n",
              "    </tr>\n",
              "    <tr>\n",
              "      <th>Days</th>\n",
              "      <td>10.0</td>\n",
              "      <td>344.6</td>\n",
              "      <td>15.889899</td>\n",
              "      <td>316.0</td>\n",
              "      <td>337.5</td>\n",
              "      <td>347.0</td>\n",
              "      <td>355.75</td>\n",
              "      <td>365.0</td>\n",
              "    </tr>\n",
              "  </tbody>\n",
              "</table>\n",
              "</div>"
            ],
            "text/plain": [
              "            count   mean        std    min    25%    50%     75%    max\n",
              "Generators   10.0    8.8   2.658320    5.0    7.0    8.5   10.75   13.0\n",
              "Motors       10.0   16.4   4.926121    8.0   13.5   16.5   19.50   24.0\n",
              "Cables       10.0  205.1  29.015130  156.0  187.0  206.5  221.75  256.0\n",
              "Days         10.0  344.6  15.889899  316.0  337.5  347.0  355.75  365.0"
            ]
          },
          "execution_count": 6,
          "metadata": {},
          "output_type": "execute_result"
        }
      ],
      "source": [
        "# View a statistical summary of the data frame using \".describe()\"\n",
        "# Note: Use \".transpose()\" to make the summary easier to read\n",
        "df.describe().transpose()\n"
      ]
    },
    {
      "cell_type": "markdown",
      "id": "rCrg9HDXpuuN",
      "metadata": {
        "id": "rCrg9HDXpuuN"
      },
      "source": [
        "##### Observations\n",
        "\n",
        "- There are 10 rows and 4 columns\n",
        "- The first 3 columns contain the production values of generators, motors and cables\n",
        "- The fourth column contains the number of working days of the factories"
      ]
    },
    {
      "cell_type": "markdown",
      "id": "Er511sj7p2jv",
      "metadata": {
        "id": "Er511sj7p2jv"
      },
      "source": [
        "## Task 2 - Extract production values as a matrix from the data"
      ]
    },
    {
      "cell_type": "markdown",
      "id": "YiUxuWzLp7UV",
      "metadata": {
        "id": "YiUxuWzLp7UV"
      },
      "source": [
        "- The factory production values for each factory are contained in the \"Generators\", \"Motors\" and \"Cables\" features\n",
        "- These production values will form a 10 x 3 matrix (considering all factories)"
      ]
    },
    {
      "cell_type": "code",
      "execution_count": 7,
      "id": "465e4d19",
      "metadata": {
        "id": "465e4d19"
      },
      "outputs": [],
      "source": [
        "# Drop the \"Days\" column from the data frame using \".drop()\" and save the data in a new data frame called \"df_prod\"\n",
        "df_prod = df.drop('Days',axis=1)\n"
      ]
    },
    {
      "cell_type": "code",
      "execution_count": 9,
      "id": "c13b04ae",
      "metadata": {
        "id": "c13b04ae",
        "outputId": "d7282d35-4980-4c65-db5f-c622b11fa219"
      },
      "outputs": [
        {
          "data": {
            "text/html": [
              "<div>\n",
              "<style scoped>\n",
              "    .dataframe tbody tr th:only-of-type {\n",
              "        vertical-align: middle;\n",
              "    }\n",
              "\n",
              "    .dataframe tbody tr th {\n",
              "        vertical-align: top;\n",
              "    }\n",
              "\n",
              "    .dataframe thead th {\n",
              "        text-align: right;\n",
              "    }\n",
              "</style>\n",
              "<table border=\"1\" class=\"dataframe\">\n",
              "  <thead>\n",
              "    <tr style=\"text-align: right;\">\n",
              "      <th></th>\n",
              "      <th>Generators</th>\n",
              "      <th>Motors</th>\n",
              "      <th>Cables</th>\n",
              "    </tr>\n",
              "    <tr>\n",
              "      <th>Factory</th>\n",
              "      <th></th>\n",
              "      <th></th>\n",
              "      <th></th>\n",
              "    </tr>\n",
              "  </thead>\n",
              "  <tbody>\n",
              "    <tr>\n",
              "      <th>A</th>\n",
              "      <td>8</td>\n",
              "      <td>17</td>\n",
              "      <td>232</td>\n",
              "    </tr>\n",
              "    <tr>\n",
              "      <th>B</th>\n",
              "      <td>6</td>\n",
              "      <td>20</td>\n",
              "      <td>203</td>\n",
              "    </tr>\n",
              "    <tr>\n",
              "      <th>C</th>\n",
              "      <td>10</td>\n",
              "      <td>16</td>\n",
              "      <td>187</td>\n",
              "    </tr>\n",
              "    <tr>\n",
              "      <th>D</th>\n",
              "      <td>7</td>\n",
              "      <td>24</td>\n",
              "      <td>218</td>\n",
              "    </tr>\n",
              "    <tr>\n",
              "      <th>E</th>\n",
              "      <td>13</td>\n",
              "      <td>13</td>\n",
              "      <td>256</td>\n",
              "    </tr>\n",
              "  </tbody>\n",
              "</table>\n",
              "</div>"
            ],
            "text/plain": [
              "         Generators  Motors  Cables\n",
              "Factory                            \n",
              "A                 8      17     232\n",
              "B                 6      20     203\n",
              "C                10      16     187\n",
              "D                 7      24     218\n",
              "E                13      13     256"
            ]
          },
          "execution_count": 9,
          "metadata": {},
          "output_type": "execute_result"
        }
      ],
      "source": [
        "# Take a brief look at the data frame \"df_prod\" using \".head()\"\n",
        "df_prod.head()\n"
      ]
    },
    {
      "cell_type": "code",
      "execution_count": 10,
      "id": "dec46965",
      "metadata": {
        "id": "dec46965"
      },
      "outputs": [],
      "source": [
        "# Convert the \"df_pod\" data frame into a matrix using \"np.matrix()\" and call the matrix \"mat_prod\"\n",
        "mat_prod = np.matrix(df_prod)\n"
      ]
    },
    {
      "cell_type": "code",
      "execution_count": 11,
      "id": "5d62ea26",
      "metadata": {
        "id": "5d62ea26",
        "outputId": "eaf327c3-838f-4039-869b-6bb3d515657f"
      },
      "outputs": [
        {
          "data": {
            "text/plain": [
              "matrix([[  8,  17, 232],\n",
              "        [  6,  20, 203],\n",
              "        [ 10,  16, 187],\n",
              "        [  7,  24, 218],\n",
              "        [ 13,  13, 256],\n",
              "        [  9,  11, 179],\n",
              "        [  7,  15, 156],\n",
              "        [  5,   8, 223],\n",
              "        [ 12,  18, 187],\n",
              "        [ 11,  22, 210]], dtype=int64)"
            ]
          },
          "execution_count": 11,
          "metadata": {},
          "output_type": "execute_result"
        }
      ],
      "source": [
        "# Print the matrix \"mat_prod\"\n",
        "\n",
        "mat_prod"
      ]
    },
    {
      "cell_type": "code",
      "execution_count": 12,
      "id": "3e17035e",
      "metadata": {
        "id": "3e17035e",
        "outputId": "396053e7-8b05-49f1-b475-4e21f2cee4be"
      },
      "outputs": [
        {
          "data": {
            "text/plain": [
              "(10, 3)"
            ]
          },
          "execution_count": 12,
          "metadata": {},
          "output_type": "execute_result"
        }
      ],
      "source": [
        "# Check the dimensions of the \"mat_prod\" matrix using \".shape\"\n",
        "mat_prod.shape\n"
      ]
    },
    {
      "cell_type": "markdown",
      "id": "2rsZuNO_p_r9",
      "metadata": {
        "id": "2rsZuNO_p_r9"
      },
      "source": [
        "##### Observations\n",
        "\n",
        "- The factory production values of generators, motors and cables of the 10 factories is a 10 x 3 matrix.\n",
        "- The Numpy Matrix holds only values and does not have any indices"
      ]
    },
    {
      "cell_type": "markdown",
      "id": "RHvdFSK3qNOi",
      "metadata": {
        "id": "RHvdFSK3qNOi"
      },
      "source": [
        "## Task 3 - Extract number of working days as a matrix from the data"
      ]
    },
    {
      "cell_type": "markdown",
      "id": "XP0BkIpQqTGA",
      "metadata": {
        "id": "XP0BkIpQqTGA"
      },
      "source": [
        "- The number of working days for each factory is stored in the \"Days\" column of the data frame \"df\"\n",
        "- These values will form a 10 x 1 matrix"
      ]
    },
    {
      "cell_type": "code",
      "execution_count": 13,
      "id": "94e79388",
      "metadata": {
        "id": "94e79388"
      },
      "outputs": [],
      "source": [
        "# Convert the \"Days\" column of the data frame \"df\" into a matrix using \"np.matrix()\" and call the matrix \"mat_days\"\n",
        "mat_days = np.matrix(df['Days'])\n"
      ]
    },
    {
      "cell_type": "code",
      "execution_count": 14,
      "id": "bdb607c8",
      "metadata": {
        "id": "bdb607c8",
        "outputId": "3cff3f62-2560-4b88-8536-b089fd9c126c"
      },
      "outputs": [
        {
          "data": {
            "text/plain": [
              "matrix([[352, 348, 337, 357, 362, 365, 339, 324, 316, 346]], dtype=int64)"
            ]
          },
          "execution_count": 14,
          "metadata": {},
          "output_type": "execute_result"
        }
      ],
      "source": [
        "# Print the matrix \"mat_days\"\n",
        "\n",
        "mat_days"
      ]
    },
    {
      "cell_type": "code",
      "execution_count": 15,
      "id": "a494f394",
      "metadata": {
        "id": "a494f394",
        "outputId": "846bc31b-e760-4810-dfe7-16fc82ec3694"
      },
      "outputs": [
        {
          "data": {
            "text/plain": [
              "(1, 10)"
            ]
          },
          "execution_count": 15,
          "metadata": {},
          "output_type": "execute_result"
        }
      ],
      "source": [
        "# Check the dimensions of the \"mat_days\" matrix using \".shape\"\n",
        "mat_days.shape\n"
      ]
    },
    {
      "cell_type": "markdown",
      "id": "6rBBeWluqcdz",
      "metadata": {
        "id": "6rBBeWluqcdz"
      },
      "source": [
        "##### Observations\n",
        "\n",
        "- The number of working days of all the factories is in the form of a 1 x 10 matrix\n",
        "- The Numpy Matrix holds only values and does not have any indices"
      ]
    },
    {
      "cell_type": "markdown",
      "id": "6IcGKElIqh2K",
      "metadata": {
        "id": "6IcGKElIqh2K"
      },
      "source": [
        "## Task 4 - Multiply matrices"
      ]
    },
    {
      "cell_type": "markdown",
      "id": "IwCJZXrVqmtw",
      "metadata": {
        "id": "IwCJZXrVqmtw"
      },
      "source": [
        "- The factory production values of generators, motors and cables of the 10 factories is a 10 x 3 matrix\n",
        "- The number of working days of all the factories is in the form of a 1 x 10 matrix\n",
        "- The product of these two matrices is equal to the linear combination of the production values vectors scaled by the number of working days"
      ]
    },
    {
      "cell_type": "markdown",
      "id": "Mp7DkQncxvme",
      "metadata": {
        "id": "Mp7DkQncxvme"
      },
      "source": [
        "![](https://www.basic-mathematics.com/images/multiply-matrices.png)"
      ]
    },
    {
      "cell_type": "code",
      "execution_count": 16,
      "id": "9086c21f",
      "metadata": {
        "id": "9086c21f",
        "outputId": "f72488fe-a4d6-4b8b-b65f-428518a601c8"
      },
      "outputs": [
        {
          "data": {
            "text/plain": [
              "matrix([[ 30355,  56602, 708048]], dtype=int64)"
            ]
          },
          "execution_count": 16,
          "metadata": {},
          "output_type": "execute_result"
        }
      ],
      "source": [
        "# Multiply the \"mat_prod\" matrix by the \"mat_days\" matrix\n",
        "# Note: The order of multiplication matters\n",
        "# Note: Multiply the matrices using \"mat_days * mat_prod\"\n",
        "mat_days * mat_prod"
      ]
    },
    {
      "cell_type": "code",
      "execution_count": 19,
      "id": "40006e69",
      "metadata": {
        "id": "40006e69"
      },
      "outputs": [],
      "source": [
        "# Create a Pandas Series called \"total\" with index as \"df_prod.columns\" and data as the product of the two matrices\n",
        "# Note: You will have to convert the resultant matrix into an array using \"np.array()\" and then extract out only the list\n",
        "total = pd.Series(index=df_prod.columns,data=np.array(mat_days * mat_prod)[0])\n"
      ]
    },
    {
      "cell_type": "code",
      "execution_count": 20,
      "id": "f8fa4f7f",
      "metadata": {
        "id": "f8fa4f7f",
        "outputId": "981b5e38-df4d-4aa8-97ff-9177325115be"
      },
      "outputs": [
        {
          "data": {
            "text/plain": [
              "Generators     30355\n",
              "Motors         56602\n",
              "Cables        708048\n",
              "dtype: int64"
            ]
          },
          "execution_count": 20,
          "metadata": {},
          "output_type": "execute_result"
        }
      ],
      "source": [
        "# Print the \"total\" series\n",
        "total\n"
      ]
    },
    {
      "cell_type": "markdown",
      "id": "YLb0JODTqrxq",
      "metadata": {
        "id": "YLb0JODTqrxq"
      },
      "source": [
        "##### Observations\n",
        "\n",
        "- The corporation produces 30355 generators in a year\n",
        "- The corporation produces 56602 motors in a year\n",
        "- The corporation produces 708048 cables in a year"
      ]
    },
    {
      "cell_type": "markdown",
      "id": "o6uelH4ZqzAB",
      "metadata": {
        "id": "o6uelH4ZqzAB"
      },
      "source": [
        "### Conclusions\n",
        "\n",
        "- From the factory production data, we can calculate the total production of the corporation\n",
        "- We can treat the production values of all the factories as a matrix\n",
        "- We can treat the number of working days of factories as a matrix\n",
        "- The product of the two matrices is equal to the linear combination of the factory production values scaled by their number of working days\n",
        "- We can multiply the two matrices to calculate the total production"
      ]
    },
    {
      "cell_type": "markdown",
      "id": "Q5HDXU6llV10",
      "metadata": {
        "id": "Q5HDXU6llV10"
      },
      "source": [
        "# **FEEDBACK**\n",
        "\n",
        "https://forms.zohopublic.in/cloudyml/form/CloudyMLStatisticsFeedbackForm/formperma/WV946wnf0sDM_tOlH87RxZR9yMceKWGrtuPOyXzzCRc"
      ]
    }
  ],
  "metadata": {
    "colab": {
      "collapsed_sections": [],
      "provenance": []
    },
    "kernelspec": {
      "display_name": "Python 3",
      "language": "python",
      "name": "python3"
    },
    "language_info": {
      "codemirror_mode": {
        "name": "ipython",
        "version": 3
      },
      "file_extension": ".py",
      "mimetype": "text/x-python",
      "name": "python",
      "nbconvert_exporter": "python",
      "pygments_lexer": "ipython3",
      "version": "3.11.4"
    }
  },
  "nbformat": 4,
  "nbformat_minor": 5
}
