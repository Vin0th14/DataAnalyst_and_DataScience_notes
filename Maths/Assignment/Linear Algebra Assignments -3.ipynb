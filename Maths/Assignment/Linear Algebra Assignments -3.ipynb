{
  "cells": [
    {
      "cell_type": "markdown",
      "id": "Bu_uvxDt2wEi",
      "metadata": {
        "id": "Bu_uvxDt2wEi"
      },
      "source": [
        "# **Linear Combination**"
      ]
    },
    {
      "cell_type": "markdown",
      "id": "F8hFDp3I28Di",
      "metadata": {
        "id": "F8hFDp3I28Di"
      },
      "source": [
        "### You will work with a simple data set that contains factory production values of electrical machinery parts for a corporation. you will perform the following tasks:\n",
        "- Load and study the data\n",
        "- Extract production values as vectors from the data\n",
        "- Extract number of working days as scalars from the data\n",
        "- Use scalar multiplication to scale production values by number of working days\n",
        "- Code a linear combination of vectors using addition and scalar multiplication\n"
      ]
    },
    {
      "cell_type": "markdown",
      "id": "TRUBdSHo3McL",
      "metadata": {
        "id": "TRUBdSHo3McL"
      },
      "source": [
        "## Task 1 - Load and study the data"
      ]
    },
    {
      "cell_type": "code",
      "execution_count": 1,
      "id": "9f5c393c",
      "metadata": {
        "id": "9f5c393c"
      },
      "outputs": [],
      "source": [
        "# Load \"numpy\" and \"pandas\" for manipulating numbers, vectors and data frames\n",
        "import numpy as np\n",
        "import pandas as pd\n"
      ]
    },
    {
      "cell_type": "code",
      "execution_count": 6,
      "id": "5608a781",
      "metadata": {
        "id": "5608a781"
      },
      "outputs": [],
      "source": [
        "# Read in the \"Factory_Production.csv\" file as a Pandas Data Frame\n",
        "# Note: Make sure the code and the data are in the same folder or specify the appropriate path for the data\n",
        "df = pd.read_csv(r\"E:/DataScience_and_DataAnalyst_Notes/Maths/Dataset/Factory_Production.csv\",index_col=0)"
      ]
    },
    {
      "cell_type": "code",
      "execution_count": 7,
      "id": "9385b905",
      "metadata": {
        "id": "9385b905",
        "outputId": "b398ff86-51ec-4e6f-8365-7d4d05c7a5c0"
      },
      "outputs": [
        {
          "data": {
            "text/html": [
              "<div>\n",
              "<style scoped>\n",
              "    .dataframe tbody tr th:only-of-type {\n",
              "        vertical-align: middle;\n",
              "    }\n",
              "\n",
              "    .dataframe tbody tr th {\n",
              "        vertical-align: top;\n",
              "    }\n",
              "\n",
              "    .dataframe thead th {\n",
              "        text-align: right;\n",
              "    }\n",
              "</style>\n",
              "<table border=\"1\" class=\"dataframe\">\n",
              "  <thead>\n",
              "    <tr style=\"text-align: right;\">\n",
              "      <th></th>\n",
              "      <th>Generators</th>\n",
              "      <th>Motors</th>\n",
              "      <th>Cables</th>\n",
              "      <th>Days</th>\n",
              "    </tr>\n",
              "    <tr>\n",
              "      <th>Factory</th>\n",
              "      <th></th>\n",
              "      <th></th>\n",
              "      <th></th>\n",
              "      <th></th>\n",
              "    </tr>\n",
              "  </thead>\n",
              "  <tbody>\n",
              "    <tr>\n",
              "      <th>A</th>\n",
              "      <td>8</td>\n",
              "      <td>17</td>\n",
              "      <td>232</td>\n",
              "      <td>352</td>\n",
              "    </tr>\n",
              "    <tr>\n",
              "      <th>B</th>\n",
              "      <td>6</td>\n",
              "      <td>20</td>\n",
              "      <td>203</td>\n",
              "      <td>348</td>\n",
              "    </tr>\n",
              "    <tr>\n",
              "      <th>C</th>\n",
              "      <td>10</td>\n",
              "      <td>16</td>\n",
              "      <td>187</td>\n",
              "      <td>337</td>\n",
              "    </tr>\n",
              "    <tr>\n",
              "      <th>D</th>\n",
              "      <td>7</td>\n",
              "      <td>24</td>\n",
              "      <td>218</td>\n",
              "      <td>357</td>\n",
              "    </tr>\n",
              "    <tr>\n",
              "      <th>E</th>\n",
              "      <td>13</td>\n",
              "      <td>13</td>\n",
              "      <td>256</td>\n",
              "      <td>362</td>\n",
              "    </tr>\n",
              "  </tbody>\n",
              "</table>\n",
              "</div>"
            ],
            "text/plain": [
              "         Generators  Motors  Cables  Days\n",
              "Factory                                  \n",
              "A                 8      17     232   352\n",
              "B                 6      20     203   348\n",
              "C                10      16     187   337\n",
              "D                 7      24     218   357\n",
              "E                13      13     256   362"
            ]
          },
          "execution_count": 7,
          "metadata": {},
          "output_type": "execute_result"
        }
      ],
      "source": [
        "# Take a brief look at the data frame using \".head()\"\n",
        "\n",
        "df.head()"
      ]
    },
    {
      "cell_type": "markdown",
      "id": "7KuCPKKv39Gu",
      "metadata": {
        "id": "7KuCPKKv39Gu"
      },
      "source": [
        "##### Feature Description:\n",
        "This data set contains the production values of power units such as generators, motors and cables of different factories belonging to the same corporation.\n",
        "- Factory = unique label assigned to a factory unit for the purpose of identification\n",
        "- Generators = number of generators produced by the factory in a day\n",
        "- Motors = number of motors produced by the factory in a day\n",
        "- Cables = number of cables produced by the factory in a day\n",
        "- Days = number of working days of the factory in a year"
      ]
    },
    {
      "cell_type": "markdown",
      "id": "6pKiWZzx3Uph",
      "metadata": {
        "id": "6pKiWZzx3Uph"
      },
      "source": [
        "##### study its features such as:\n",
        "- The number of factory units\n",
        "- The number of machine parts\n",
        "- The ranges of production values"
      ]
    },
    {
      "cell_type": "code",
      "execution_count": 8,
      "id": "5b5bb00f",
      "metadata": {
        "id": "5b5bb00f",
        "outputId": "bed6246b-72e4-4854-e056-3cde1599ec4b"
      },
      "outputs": [
        {
          "data": {
            "text/plain": [
              "(10, 4)"
            ]
          },
          "execution_count": 8,
          "metadata": {},
          "output_type": "execute_result"
        }
      ],
      "source": [
        "# Check the dimensions of the data frame using \".shape\"\n",
        "\n",
        "df.shape"
      ]
    },
    {
      "cell_type": "code",
      "execution_count": 9,
      "id": "a6b34a1e",
      "metadata": {
        "id": "a6b34a1e",
        "outputId": "7c545430-07a0-433d-cf28-e8b0014e1664"
      },
      "outputs": [
        {
          "name": "stdout",
          "output_type": "stream",
          "text": [
            "<class 'pandas.core.frame.DataFrame'>\n",
            "Index: 10 entries, A to J\n",
            "Data columns (total 4 columns):\n",
            " #   Column      Non-Null Count  Dtype\n",
            "---  ------      --------------  -----\n",
            " 0   Generators  10 non-null     int64\n",
            " 1   Motors      10 non-null     int64\n",
            " 2   Cables      10 non-null     int64\n",
            " 3   Days        10 non-null     int64\n",
            "dtypes: int64(4)\n",
            "memory usage: 400.0+ bytes\n"
          ]
        }
      ],
      "source": [
        "# View basic information about the data frame using \".info()\"\n",
        "\n",
        "df.info()"
      ]
    },
    {
      "cell_type": "code",
      "execution_count": 10,
      "id": "f0bbb65b",
      "metadata": {
        "id": "f0bbb65b",
        "outputId": "a94155ce-88e2-4bca-85b6-e1df00bd6960"
      },
      "outputs": [
        {
          "data": {
            "text/html": [
              "<div>\n",
              "<style scoped>\n",
              "    .dataframe tbody tr th:only-of-type {\n",
              "        vertical-align: middle;\n",
              "    }\n",
              "\n",
              "    .dataframe tbody tr th {\n",
              "        vertical-align: top;\n",
              "    }\n",
              "\n",
              "    .dataframe thead th {\n",
              "        text-align: right;\n",
              "    }\n",
              "</style>\n",
              "<table border=\"1\" class=\"dataframe\">\n",
              "  <thead>\n",
              "    <tr style=\"text-align: right;\">\n",
              "      <th></th>\n",
              "      <th>count</th>\n",
              "      <th>mean</th>\n",
              "      <th>std</th>\n",
              "      <th>min</th>\n",
              "      <th>25%</th>\n",
              "      <th>50%</th>\n",
              "      <th>75%</th>\n",
              "      <th>max</th>\n",
              "    </tr>\n",
              "  </thead>\n",
              "  <tbody>\n",
              "    <tr>\n",
              "      <th>Generators</th>\n",
              "      <td>10.0</td>\n",
              "      <td>8.8</td>\n",
              "      <td>2.658320</td>\n",
              "      <td>5.0</td>\n",
              "      <td>7.0</td>\n",
              "      <td>8.5</td>\n",
              "      <td>10.75</td>\n",
              "      <td>13.0</td>\n",
              "    </tr>\n",
              "    <tr>\n",
              "      <th>Motors</th>\n",
              "      <td>10.0</td>\n",
              "      <td>16.4</td>\n",
              "      <td>4.926121</td>\n",
              "      <td>8.0</td>\n",
              "      <td>13.5</td>\n",
              "      <td>16.5</td>\n",
              "      <td>19.50</td>\n",
              "      <td>24.0</td>\n",
              "    </tr>\n",
              "    <tr>\n",
              "      <th>Cables</th>\n",
              "      <td>10.0</td>\n",
              "      <td>205.1</td>\n",
              "      <td>29.015130</td>\n",
              "      <td>156.0</td>\n",
              "      <td>187.0</td>\n",
              "      <td>206.5</td>\n",
              "      <td>221.75</td>\n",
              "      <td>256.0</td>\n",
              "    </tr>\n",
              "    <tr>\n",
              "      <th>Days</th>\n",
              "      <td>10.0</td>\n",
              "      <td>344.6</td>\n",
              "      <td>15.889899</td>\n",
              "      <td>316.0</td>\n",
              "      <td>337.5</td>\n",
              "      <td>347.0</td>\n",
              "      <td>355.75</td>\n",
              "      <td>365.0</td>\n",
              "    </tr>\n",
              "  </tbody>\n",
              "</table>\n",
              "</div>"
            ],
            "text/plain": [
              "            count   mean        std    min    25%    50%     75%    max\n",
              "Generators   10.0    8.8   2.658320    5.0    7.0    8.5   10.75   13.0\n",
              "Motors       10.0   16.4   4.926121    8.0   13.5   16.5   19.50   24.0\n",
              "Cables       10.0  205.1  29.015130  156.0  187.0  206.5  221.75  256.0\n",
              "Days         10.0  344.6  15.889899  316.0  337.5  347.0  355.75  365.0"
            ]
          },
          "execution_count": 10,
          "metadata": {},
          "output_type": "execute_result"
        }
      ],
      "source": [
        "# View a statistical summary of the data frame using \".describe()\"\n",
        "# Note: Use \".transpose()\" to make the summary easier to read\n",
        "\n",
        "df.describe().transpose()"
      ]
    },
    {
      "cell_type": "markdown",
      "id": "MgrzlNkT4MdQ",
      "metadata": {
        "id": "MgrzlNkT4MdQ"
      },
      "source": [
        "#### Observations\n",
        "\n",
        "- There are 10 rows and 4 columns\n",
        "- The first 3 columns contain the production values of generators, motors and cables\n",
        "- The fourth column contains the number of working days of the factories"
      ]
    },
    {
      "cell_type": "markdown",
      "id": "826oPMfQ4WAm",
      "metadata": {
        "id": "826oPMfQ4WAm"
      },
      "source": [
        "## Task 2 - Extract production values as vectors from the data"
      ]
    },
    {
      "cell_type": "markdown",
      "id": "KH0Odhci4goZ",
      "metadata": {
        "id": "KH0Odhci4goZ"
      },
      "source": [
        "\n",
        "- The factory production values for each factory are contained in the \"Generators\", \"Motors\" and \"Cables\" features.\n",
        "- Separating these features from the \"Days\" feature could be useful."
      ]
    },
    {
      "cell_type": "code",
      "execution_count": 12,
      "id": "465e4d19",
      "metadata": {
        "id": "465e4d19"
      },
      "outputs": [],
      "source": [
        "# Drop the \"Days\" column from the data frame using \".drop()\" and save the data in a new data frame called \"df_prod\"\n",
        "df_prod = df.drop('Days',axis=1)\n",
        "\n"
      ]
    },
    {
      "cell_type": "code",
      "execution_count": 13,
      "id": "c13b04ae",
      "metadata": {
        "id": "c13b04ae",
        "outputId": "0eccea86-4c2c-4e90-f0ca-db89d0b695c5"
      },
      "outputs": [
        {
          "data": {
            "text/html": [
              "<div>\n",
              "<style scoped>\n",
              "    .dataframe tbody tr th:only-of-type {\n",
              "        vertical-align: middle;\n",
              "    }\n",
              "\n",
              "    .dataframe tbody tr th {\n",
              "        vertical-align: top;\n",
              "    }\n",
              "\n",
              "    .dataframe thead th {\n",
              "        text-align: right;\n",
              "    }\n",
              "</style>\n",
              "<table border=\"1\" class=\"dataframe\">\n",
              "  <thead>\n",
              "    <tr style=\"text-align: right;\">\n",
              "      <th></th>\n",
              "      <th>Generators</th>\n",
              "      <th>Motors</th>\n",
              "      <th>Cables</th>\n",
              "    </tr>\n",
              "    <tr>\n",
              "      <th>Factory</th>\n",
              "      <th></th>\n",
              "      <th></th>\n",
              "      <th></th>\n",
              "    </tr>\n",
              "  </thead>\n",
              "  <tbody>\n",
              "    <tr>\n",
              "      <th>A</th>\n",
              "      <td>8</td>\n",
              "      <td>17</td>\n",
              "      <td>232</td>\n",
              "    </tr>\n",
              "    <tr>\n",
              "      <th>B</th>\n",
              "      <td>6</td>\n",
              "      <td>20</td>\n",
              "      <td>203</td>\n",
              "    </tr>\n",
              "    <tr>\n",
              "      <th>C</th>\n",
              "      <td>10</td>\n",
              "      <td>16</td>\n",
              "      <td>187</td>\n",
              "    </tr>\n",
              "    <tr>\n",
              "      <th>D</th>\n",
              "      <td>7</td>\n",
              "      <td>24</td>\n",
              "      <td>218</td>\n",
              "    </tr>\n",
              "    <tr>\n",
              "      <th>E</th>\n",
              "      <td>13</td>\n",
              "      <td>13</td>\n",
              "      <td>256</td>\n",
              "    </tr>\n",
              "  </tbody>\n",
              "</table>\n",
              "</div>"
            ],
            "text/plain": [
              "         Generators  Motors  Cables\n",
              "Factory                            \n",
              "A                 8      17     232\n",
              "B                 6      20     203\n",
              "C                10      16     187\n",
              "D                 7      24     218\n",
              "E                13      13     256"
            ]
          },
          "execution_count": 13,
          "metadata": {},
          "output_type": "execute_result"
        }
      ],
      "source": [
        "# Take a brief look at the data frame \"df_prod\" using \".head()\"\n",
        "df_prod.head()\n"
      ]
    },
    {
      "cell_type": "code",
      "execution_count": 15,
      "id": "6866485c",
      "metadata": {
        "id": "6866485c",
        "outputId": "f1bb0170-77af-42ae-96c0-472bfc2f0381"
      },
      "outputs": [
        {
          "data": {
            "text/plain": [
              "Generators      7\n",
              "Motors         24\n",
              "Cables        218\n",
              "Name: D, dtype: int64"
            ]
          },
          "execution_count": 15,
          "metadata": {},
          "output_type": "execute_result"
        }
      ],
      "source": [
        "# Access the vector of production values for factory \"D\" using \".loc[]\" from the data frame \"df_prod\"\n",
        "df_prod.loc['D']\n"
      ]
    },
    {
      "cell_type": "markdown",
      "id": "3kJcnTr04mro",
      "metadata": {
        "id": "3kJcnTr04mro"
      },
      "source": [
        "#### Observations\n",
        "\n",
        "- The vector of production values for any factory is 3-long\n",
        "- These vectors contain the production values of generators, motors and cables per day"
      ]
    },
    {
      "cell_type": "markdown",
      "id": "NCSEIHXV4tdY",
      "metadata": {
        "id": "NCSEIHXV4tdY"
      },
      "source": [
        "## Task 3 - Extract number of working days as scalars from the data"
      ]
    },
    {
      "cell_type": "markdown",
      "id": "cLXZheab41yi",
      "metadata": {
        "id": "cLXZheab41yi"
      },
      "source": [
        "\n",
        "\n",
        "- The number of working days for each factory is stored in the \"Days\" column of the data frame \"df\".\n",
        "- These will be the scalars that we will use to multiply with the production value vectors."
      ]
    },
    {
      "cell_type": "code",
      "execution_count": 17,
      "id": "94e79388",
      "metadata": {
        "id": "94e79388",
        "outputId": "4759093d-de42-4c38-e78c-18a549f2a00f"
      },
      "outputs": [
        {
          "data": {
            "text/plain": [
              "Factory\n",
              "A    352\n",
              "B    348\n",
              "C    337\n",
              "D    357\n",
              "E    362\n",
              "F    365\n",
              "G    339\n",
              "H    324\n",
              "I    316\n",
              "J    346\n",
              "Name: Days, dtype: int64"
            ]
          },
          "execution_count": 17,
          "metadata": {},
          "output_type": "execute_result"
        }
      ],
      "source": [
        "# Access the \"Days\" column from the data frame \"df\"\n",
        "\n",
        "df['Days']"
      ]
    },
    {
      "cell_type": "code",
      "execution_count": 18,
      "id": "bdb607c8",
      "metadata": {
        "id": "bdb607c8",
        "outputId": "c75506cd-5f50-4216-c86d-6526256cd827"
      },
      "outputs": [
        {
          "data": {
            "text/plain": [
              "339"
            ]
          },
          "execution_count": 18,
          "metadata": {},
          "output_type": "execute_result"
        }
      ],
      "source": [
        "# Access the number of working days of factory \"G\" from the Pandas Series obtained by accessing the \"Days\" column\n",
        "# Note: You may use \".loc[]\" to access these values as well\n",
        "df['Days']['G']\n"
      ]
    },
    {
      "cell_type": "markdown",
      "id": "Rv3jHk8T5D_U",
      "metadata": {
        "id": "Rv3jHk8T5D_U"
      },
      "source": [
        "#### Observations\n",
        "\n",
        "- The \"Days\" column contains the number of working days in a year of each factory.\n",
        "- These will be the scalars that we will use to multiply with the production value vectors."
      ]
    },
    {
      "cell_type": "markdown",
      "id": "NMZBew0R5NGd",
      "metadata": {
        "id": "NMZBew0R5NGd"
      },
      "source": [
        "## Task 4 - Use scalar multiplication to scale production values by number of working days\n"
      ]
    },
    {
      "cell_type": "markdown",
      "id": "ho7osiBa5RYi",
      "metadata": {
        "id": "ho7osiBa5RYi"
      },
      "source": [
        "- The production values for each factory are available in the data frame \"df_prod\".\n",
        "- The number of working days in a year for each factory can be extracted from the data frame \"df\".\n",
        "- The product of the vector of production values and the number of working days is a scaled version of the original vector."
      ]
    },
    {
      "cell_type": "markdown",
      "id": "G4gZhxUjtkWK",
      "metadata": {
        "id": "G4gZhxUjtkWK"
      },
      "source": [
        "![](https://miro.medium.com/max/1400/1*gf3HdrkDBi6Dch_XxVuYvA.png)"
      ]
    },
    {
      "cell_type": "markdown",
      "id": "ItqHD-pMZQg-",
      "metadata": {
        "id": "ItqHD-pMZQg-"
      },
      "source": [
        "## **`Watch Video 5 : Matrix Multiplication`**"
      ]
    },
    {
      "cell_type": "code",
      "execution_count": 19,
      "id": "9086c21f",
      "metadata": {
        "id": "9086c21f",
        "outputId": "2babbd22-213a-4600-e608-81e69ed45f6a"
      },
      "outputs": [
        {
          "data": {
            "text/plain": [
              "Generators      6\n",
              "Motors         20\n",
              "Cables        203\n",
              "Name: B, dtype: int64"
            ]
          },
          "execution_count": 19,
          "metadata": {},
          "output_type": "execute_result"
        }
      ],
      "source": [
        "# Access the vector of production values for factory \"B\" using \".loc[]\" from the data frame \"df_prod\"\n",
        "df_prod.loc['B']\n"
      ]
    },
    {
      "cell_type": "code",
      "execution_count": 21,
      "id": "b65ea200",
      "metadata": {
        "id": "b65ea200",
        "outputId": "37679cf1-8d01-42e2-f755-7daff1e1a475"
      },
      "outputs": [
        {
          "data": {
            "text/plain": [
              "348"
            ]
          },
          "execution_count": 21,
          "metadata": {},
          "output_type": "execute_result"
        }
      ],
      "source": [
        "# Access the number of working days of factory \"B\"\n",
        "\n",
        "df['Days']['B']"
      ]
    },
    {
      "cell_type": "code",
      "execution_count": 22,
      "id": "be1df12d",
      "metadata": {
        "id": "be1df12d",
        "outputId": "8c1dfcfb-a824-4b85-fdac-d74f403310c7"
      },
      "outputs": [
        {
          "data": {
            "text/plain": [
              "Generators     2088\n",
              "Motors         6960\n",
              "Cables        70644\n",
              "Name: B, dtype: int64"
            ]
          },
          "execution_count": 22,
          "metadata": {},
          "output_type": "execute_result"
        }
      ],
      "source": [
        "# Multiply the vector of production values for factory \"B\" by its number of working days\n",
        "df['Days']['B']*df_prod.loc['B']\n"
      ]
    },
    {
      "cell_type": "markdown",
      "id": "meEu8YQ75i9R",
      "metadata": {
        "id": "meEu8YQ75i9R"
      },
      "source": [
        "#### Observations\n",
        "\n",
        "- The product of the vector of production values and the number of working days is a scaled version of the original vector.\n",
        "- The scaled vector of production values for a certain factory shows the number of machine parts produced in a full year."
      ]
    },
    {
      "cell_type": "markdown",
      "id": "6BSamWLP5sj2",
      "metadata": {
        "id": "6BSamWLP5sj2"
      },
      "source": [
        "## Task 5 - Code a linear combination of vectors using addition and scalar multiplication"
      ]
    },
    {
      "cell_type": "markdown",
      "id": "3N3ZHoGF5xL0",
      "metadata": {
        "id": "3N3ZHoGF5xL0"
      },
      "source": [
        "- The vector of daily production values for a certain factory can be accessed from the data frame \"df_prod\".\n",
        "- The number of working days in a year for each factory can be extracted from the data frame \"df\".\n",
        "- The total production of a certain factory in a full year can be obtained using scalar multiplication."
      ]
    },
    {
      "cell_type": "markdown",
      "id": "vZb79yf4uXXS",
      "metadata": {
        "id": "vZb79yf4uXXS"
      },
      "source": [
        "![](https://www2.seas.gwu.edu/~simhaweb/lin/modules/module3/figures/matrixvec2.png)"
      ]
    },
    {
      "cell_type": "code",
      "execution_count": 25,
      "id": "5f80f2aa",
      "metadata": {
        "id": "5f80f2aa"
      },
      "outputs": [],
      "source": [
        "# Calculate the total production values of all the factories using their production value vectors and number of working days\n",
        "# Add these vectors to obtain a single vector that contains the yearly production values of the whole corporation\n",
        "# Note: Create a Numpy List called \"total\" with a size of 3 and fill it with zeroes\n",
        "# Note: You may use the \"total\" list to cumulatively add the yearly production values for each factory\n",
        "\n",
        "total = [0,0,0]\n",
        "\n",
        "for factory in df.index:\n",
        "    total = total+df['Days'][factory]*df_prod.loc[factory]\n"
      ]
    },
    {
      "cell_type": "code",
      "execution_count": 26,
      "id": "3e07f366",
      "metadata": {
        "id": "3e07f366",
        "outputId": "b8fc7b27-63f8-419e-8e4c-c03d09ef5a4b"
      },
      "outputs": [
        {
          "data": {
            "text/plain": [
              "Generators     30355\n",
              "Motors         56602\n",
              "Cables        708048\n",
              "dtype: int64"
            ]
          },
          "execution_count": 26,
          "metadata": {},
          "output_type": "execute_result"
        }
      ],
      "source": [
        "# Print the \"total\" series\n",
        "\n",
        "total"
      ]
    },
    {
      "cell_type": "markdown",
      "id": "Rw6wxHUR6B69",
      "metadata": {
        "id": "Rw6wxHUR6B69"
      },
      "source": [
        "#### Observations\n",
        "\n",
        "- The corporation produces 30355 generators in a year.\n",
        "- The corporation produces 56602 motors in a year.\n",
        "- The corporation produces 708048 cables in a year."
      ]
    },
    {
      "cell_type": "markdown",
      "id": "EtzJYPtL6ZUb",
      "metadata": {
        "id": "EtzJYPtL6ZUb"
      },
      "source": [
        "#### Conclusions\n",
        "\n",
        "- From the factory production data, we can calculate the total production of the corporation\n",
        "- We can treat the production values of each factory as vectors\n",
        "- We can use the number of days as scalars to scale each factory's production values.\n",
        "- We can use a linear combination of number of working days and production values to calculate the total production."
      ]
    },
    {
      "cell_type": "markdown",
      "id": "Q5HDXU6llV10",
      "metadata": {
        "id": "Q5HDXU6llV10"
      },
      "source": [
        "# **FEEDBACK**\n",
        "\n",
        "https://forms.zohopublic.in/cloudyml/form/CloudyMLStatisticsFeedbackForm/formperma/WV946wnf0sDM_tOlH87RxZR9yMceKWGrtuPOyXzzCRc"
      ]
    }
  ],
  "metadata": {
    "colab": {
      "collapsed_sections": [],
      "provenance": []
    },
    "kernelspec": {
      "display_name": "Python 3",
      "language": "python",
      "name": "python3"
    },
    "language_info": {
      "codemirror_mode": {
        "name": "ipython",
        "version": 3
      },
      "file_extension": ".py",
      "mimetype": "text/x-python",
      "name": "python",
      "nbconvert_exporter": "python",
      "pygments_lexer": "ipython3",
      "version": "3.11.4"
    }
  },
  "nbformat": 4,
  "nbformat_minor": 5
}
