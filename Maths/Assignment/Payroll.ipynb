{
  "cells": [
    {
      "cell_type": "markdown",
      "metadata": {
        "id": "PvWaGY9lOIGA"
      },
      "source": [
        "# <center><u>Payroll Assignment</u> </center>"
      ]
    },
    {
      "cell_type": "markdown",
      "metadata": {
        "id": "MmyU5fDRONQe"
      },
      "source": [
        "<center>Now it's assignment time! Let's start by testing the knowledge we have gained so far.</center>"
      ]
    },
    {
      "cell_type": "markdown",
      "metadata": {
        "id": "Pa1NV1TmOP-j"
      },
      "source": [
        "# <center><u>Introduction</u> </center>"
      ]
    },
    {
      "cell_type": "markdown",
      "metadata": {
        "id": "tNA43AqoOUsi"
      },
      "source": [
        "This Jupyter notebook is part of your learning experience in the study of applied statistics.\n",
        "\n",
        "You will work with data sets that contain payroll data of employees of a particular company.\n",
        "\n",
        "In this exercise, you will perform the following tasks:\n",
        "\n",
        "1 - Load and study the data.\n",
        "\n",
        "2 - Clean the data and prepare it for further analysis.\n",
        "\n",
        "3 - Conduct a hypothesis test for the data using Z-scores.\n",
        "\n",
        "4 - Conduct a t-test for the data."
      ]
    },
    {
      "cell_type": "markdown",
      "metadata": {
        "id": "F8nJrdCMOgjw"
      },
      "source": [
        "# Task 1 - Load and study the data"
      ]
    },
    {
      "cell_type": "markdown",
      "metadata": {
        "id": "pQOWna4EOkj8"
      },
      "source": [
        "Load the libraries."
      ]
    },
    {
      "cell_type": "code",
      "execution_count": 1,
      "metadata": {
        "_cell_guid": "3ef82d69-83cd-8ce5-49da-98d3760ba1f3",
        "id": "EMNuGor7OE0K"
      },
      "outputs": [],
      "source": [
        "# Load \"numpy\" and \"pandas\" for manipulating numbers and data frames\n",
        "##################### CODE HERE ##########################\n",
        "import numpy as np\n",
        "import pandas  as pd"
      ]
    },
    {
      "cell_type": "markdown",
      "metadata": {
        "id": "P36sTRYLOsah"
      },
      "source": [
        "Load the csv file as pandas dataframe. "
      ]
    },
    {
      "cell_type": "code",
      "execution_count": 3,
      "metadata": {
        "_cell_guid": "aaa9b895-2309-9dd4-121b-05e2278187bd",
        "id": "8uIzjt3-OE0K"
      },
      "outputs": [],
      "source": [
        "# Read in the \"Payroll_2015.csv\" file as a Pandas Data Frame and store it as \"df_2015\"\n",
        "# Note: Make sure the code and the data are in the same folder or specify the appropriate path\n",
        "##################### CODE HERE ##########################\n",
        "df_2015 = pd.read_csv(r\"E:/DataScience_and_DataAnalyst_Notes/Maths/Dataset/Payroll_2015.csv\",index_col=0)"
      ]
    },
    {
      "cell_type": "markdown",
      "metadata": {
        "id": "OJxETJfJO0xl"
      },
      "source": [
        "Reference:\n",
        "\n",
        "https://pandas.pydata.org/pandas-docs/stable/reference/api/pandas.DataFrame.head.html"
      ]
    },
    {
      "cell_type": "code",
      "execution_count": 4,
      "metadata": {
        "colab": {
          "base_uri": "https://localhost:8080/",
          "height": 238
        },
        "id": "68LTpYxgOE0K",
        "outputId": "ca0b50c9-abeb-4ae6-99f4-8168445aa1d9"
      },
      "outputs": [
        {
          "data": {
            "text/html": [
              "<div>\n",
              "<style scoped>\n",
              "    .dataframe tbody tr th:only-of-type {\n",
              "        vertical-align: middle;\n",
              "    }\n",
              "\n",
              "    .dataframe tbody tr th {\n",
              "        vertical-align: top;\n",
              "    }\n",
              "\n",
              "    .dataframe thead th {\n",
              "        text-align: right;\n",
              "    }\n",
              "</style>\n",
              "<table border=\"1\" class=\"dataframe\">\n",
              "  <thead>\n",
              "    <tr style=\"text-align: right;\">\n",
              "      <th></th>\n",
              "      <th>Projected Annual Salary</th>\n",
              "    </tr>\n",
              "    <tr>\n",
              "      <th>Row ID</th>\n",
              "      <th></th>\n",
              "    </tr>\n",
              "  </thead>\n",
              "  <tbody>\n",
              "    <tr>\n",
              "      <th>114364</th>\n",
              "      <td>$38857.68</td>\n",
              "    </tr>\n",
              "    <tr>\n",
              "      <th>114365</th>\n",
              "      <td>$38857.68</td>\n",
              "    </tr>\n",
              "    <tr>\n",
              "      <th>114366</th>\n",
              "      <td>$35078.40</td>\n",
              "    </tr>\n",
              "    <tr>\n",
              "      <th>114367</th>\n",
              "      <td>$35078.40</td>\n",
              "    </tr>\n",
              "    <tr>\n",
              "      <th>114368</th>\n",
              "      <td>$35078.40</td>\n",
              "    </tr>\n",
              "  </tbody>\n",
              "</table>\n",
              "</div>"
            ],
            "text/plain": [
              "       Projected Annual Salary\n",
              "Row ID                        \n",
              "114364               $38857.68\n",
              "114365               $38857.68\n",
              "114366               $35078.40\n",
              "114367               $35078.40\n",
              "114368               $35078.40"
            ]
          },
          "execution_count": 4,
          "metadata": {},
          "output_type": "execute_result"
        }
      ],
      "source": [
        "# Take a brief look at the data frame \"df_2015\" using \".head()\"\n",
        "##################### CODE HERE ##########################\n",
        "df_2015.head()"
      ]
    },
    {
      "cell_type": "code",
      "execution_count": null,
      "metadata": {
        "colab": {
          "base_uri": "https://localhost:8080/"
        },
        "id": "X8FkwdB9OE0L",
        "outputId": "44941f11-5d9f-467a-ca50-5ca064e6ce3b"
      },
      "outputs": [
        {
          "name": "stdout",
          "output_type": "stream",
          "text": [
            "The data has 2 columns and 59678 rows.\n",
            "The columns are as follows:\n",
            "1. Row ID : the ids \n",
            "2. Projected Annual Salary : the salaries in $s.\n"
          ]
        }
      ],
      "source": [
        "# Study the description of the data\n",
        "# Note: Make sure the code and the data description are in the same folder or specify the appropriate path\n",
        "with open('/content/Payroll_2015_Feature_Description.txt', 'r') as f:\n",
        "    print(f.read())"
      ]
    },
    {
      "cell_type": "markdown",
      "metadata": {
        "id": "d9Iuxg1eQUm3"
      },
      "source": [
        "Reference:-https://www.w3schools.com/python/pandas/ref_df_info.asp"
      ]
    },
    {
      "cell_type": "code",
      "execution_count": 5,
      "metadata": {
        "colab": {
          "base_uri": "https://localhost:8080/"
        },
        "id": "882rp_-IOE0L",
        "outputId": "fd4e9ac6-2be0-4ec1-cf60-857954af2d76"
      },
      "outputs": [
        {
          "name": "stdout",
          "output_type": "stream",
          "text": [
            "<class 'pandas.core.frame.DataFrame'>\n",
            "Index: 59767 entries, 114364 to 174093\n",
            "Data columns (total 1 columns):\n",
            " #   Column                   Non-Null Count  Dtype \n",
            "---  ------                   --------------  ----- \n",
            " 0   Projected Annual Salary  59767 non-null  object\n",
            "dtypes: object(1)\n",
            "memory usage: 933.9+ KB\n"
          ]
        }
      ],
      "source": [
        "# Look at basic information about the data frame \"df_2015\" using \".info()\"\n",
        "##################### CODE HERE ##########################\n",
        "df_2015.info()"
      ]
    },
    {
      "cell_type": "code",
      "execution_count": 6,
      "metadata": {
        "id": "oBpVtA3oOE0M"
      },
      "outputs": [],
      "source": [
        "# Read in the \"Payroll_2016_Sample.csv\" file as a Pandas Data Frame and store it as \"df_2016_sample\"\n",
        "# Note: Make sure the code and the data are in the same folder or specify the appropriate path\n",
        "##################### CODE HERE ##########################\n",
        "df_2016_sample=pd.read_csv(r\"E:/DataScience_and_DataAnalyst_Notes/Maths/Dataset/Payroll_2016_Sample.csv\",index_col=0)"
      ]
    },
    {
      "cell_type": "code",
      "execution_count": 7,
      "metadata": {
        "colab": {
          "base_uri": "https://localhost:8080/",
          "height": 238
        },
        "id": "Zu2aVB3tOE0N",
        "outputId": "b3285a68-0eef-44d5-bee5-a970e99bfd59"
      },
      "outputs": [
        {
          "data": {
            "text/html": [
              "<div>\n",
              "<style scoped>\n",
              "    .dataframe tbody tr th:only-of-type {\n",
              "        vertical-align: middle;\n",
              "    }\n",
              "\n",
              "    .dataframe tbody tr th {\n",
              "        vertical-align: top;\n",
              "    }\n",
              "\n",
              "    .dataframe thead th {\n",
              "        text-align: right;\n",
              "    }\n",
              "</style>\n",
              "<table border=\"1\" class=\"dataframe\">\n",
              "  <thead>\n",
              "    <tr style=\"text-align: right;\">\n",
              "      <th></th>\n",
              "      <th>Projected Annual Salary</th>\n",
              "    </tr>\n",
              "    <tr>\n",
              "      <th>Row ID</th>\n",
              "      <th></th>\n",
              "    </tr>\n",
              "  </thead>\n",
              "  <tbody>\n",
              "    <tr>\n",
              "      <th>206226</th>\n",
              "      <td>$80659.44</td>\n",
              "    </tr>\n",
              "    <tr>\n",
              "      <th>236669</th>\n",
              "      <td>$37688.40</td>\n",
              "    </tr>\n",
              "    <tr>\n",
              "      <th>232394</th>\n",
              "      <td>$80137.44</td>\n",
              "    </tr>\n",
              "    <tr>\n",
              "      <th>190682</th>\n",
              "      <td>$99764.64</td>\n",
              "    </tr>\n",
              "    <tr>\n",
              "      <th>218049</th>\n",
              "      <td>$57795.84</td>\n",
              "    </tr>\n",
              "  </tbody>\n",
              "</table>\n",
              "</div>"
            ],
            "text/plain": [
              "       Projected Annual Salary\n",
              "Row ID                        \n",
              "206226               $80659.44\n",
              "236669               $37688.40\n",
              "232394               $80137.44\n",
              "190682               $99764.64\n",
              "218049               $57795.84"
            ]
          },
          "execution_count": 7,
          "metadata": {},
          "output_type": "execute_result"
        }
      ],
      "source": [
        "# Take a brief look at the data frame \"df_2016_sample\" using \".head()\"\n",
        "##################### CODE HERE ##########################\n",
        "df_2016_sample.head()"
      ]
    },
    {
      "cell_type": "code",
      "execution_count": null,
      "metadata": {
        "colab": {
          "base_uri": "https://localhost:8080/"
        },
        "id": "b8K65W9DOE0N",
        "outputId": "5cc153e4-0178-43c4-e785-d33bacab3f30"
      },
      "outputs": [
        {
          "name": "stdout",
          "output_type": "stream",
          "text": [
            "The data has 2 columns and 59678 rows.\n",
            "The columns are as follows:\n",
            "1. Row ID : the ids \n",
            "2. Projected Annual Salary : the salaries in $s.\n"
          ]
        }
      ],
      "source": [
        "# Study the description of the data\n",
        "# Note: Make sure the code and the data description are in the same folder or specify the appropriate path\n",
        "with open('/content/Payroll_2016_Sample_Feature_Description.txt', 'r') as f:\n",
        "    print(f.read())"
      ]
    },
    {
      "cell_type": "code",
      "execution_count": 8,
      "metadata": {
        "colab": {
          "base_uri": "https://localhost:8080/"
        },
        "id": "kFikKw4tOE0N",
        "outputId": "e9f74dd2-9a74-41b2-ba28-3323fea8235b"
      },
      "outputs": [
        {
          "name": "stdout",
          "output_type": "stream",
          "text": [
            "<class 'pandas.core.frame.DataFrame'>\n",
            "Index: 11091 entries, 206226 to 264606\n",
            "Data columns (total 1 columns):\n",
            " #   Column                   Non-Null Count  Dtype \n",
            "---  ------                   --------------  ----- \n",
            " 0   Projected Annual Salary  11091 non-null  object\n",
            "dtypes: object(1)\n",
            "memory usage: 173.3+ KB\n"
          ]
        }
      ],
      "source": [
        "# Look at basic information about the data frame \"df_2016_sample\" using \".info()\"\n",
        "##################### CODE HERE ##########################\n",
        "df_2016_sample.info()"
      ]
    },
    {
      "cell_type": "markdown",
      "metadata": {
        "id": "IVL4pT1dQggi"
      },
      "source": [
        "Reference:- \n",
        "https://docs.scipy.org/doc/scipy/reference/tutorial/stats.html\n",
        "\n",
        "https://www.statsmodels.org/stable/generated/statsmodels.stats.weightstats.ztest.html"
      ]
    },
    {
      "cell_type": "code",
      "execution_count": 9,
      "metadata": {
        "colab": {
          "base_uri": "https://localhost:8080/"
        },
        "id": "7TUkwXjWOE0N",
        "outputId": "83dc76ca-9544-4436-fb3e-b1ad5c731964"
      },
      "outputs": [],
      "source": [
        "# Load \"scipy.stats\" for scientific and statistical methods\n",
        "# Load \"statsmodels.stats.weightstats.ztest\" for Z-tests\n",
        "##################### CODE HERE ##########################\n"
      ]
    },
    {
      "cell_type": "markdown",
      "metadata": {
        "id": "haLTLfUmQ5qW"
      },
      "source": [
        "Observations:\n",
        "\n",
        "We are interested in checking whether average annual salaries have increased from 2015 to 2016.\n",
        "\n",
        "The data from 2015 is used only to arrive at a mean value for the null hypotheses in this exercise.\n",
        "\n",
        "The data on which the actual hypothesis testing is done is the data from 2016.\n",
        "\n",
        "Note: The 2016 data set is a sample and not the actual population data for 2016"
      ]
    },
    {
      "cell_type": "code",
      "execution_count": null,
      "metadata": {
        "id": "Ga7jOjKyOE0O"
      },
      "outputs": [],
      "source": [
        "###########################################################################"
      ]
    },
    {
      "cell_type": "markdown",
      "metadata": {
        "id": "B0jkMYKMREom"
      },
      "source": [
        "# Task 2 - Clean the data and prepare it for further analysis"
      ]
    },
    {
      "cell_type": "markdown",
      "metadata": {
        "id": "q98oyvobRMbL"
      },
      "source": [
        "Reference:-  https://pandas.pydata.org/pandas-docs/stable/reference/api/pandas.DataFrame.rename.html\n",
        "\n",
        "Change the column name to something much more interpretable."
      ]
    },
    {
      "cell_type": "code",
      "execution_count": 10,
      "metadata": {
        "id": "di76DtRiOE0P"
      },
      "outputs": [],
      "source": [
        "# Rename the \"Projected Annual Salary\" feature to \"CTC\" for both data frames\n",
        "# Note: Use the \".rename()\" method and update the original data frames \"df_2015\" and \"df_2016_sample\"\n",
        "# Note: The old and new column names must be passed to the \"columns\" parameter as a dictionary\n",
        "##################### CODE HERE ##########################\n",
        "df_2015=df_2015.rename(columns={'Projected Annual Salary':'CTC'})\n",
        "df_2016_sample=df_2016_sample.rename(columns={'Projected Annual Salary':'CTC'})"
      ]
    },
    {
      "cell_type": "code",
      "execution_count": 13,
      "metadata": {
        "id": "tEbdQt0SOE0P"
      },
      "outputs": [],
      "source": [
        "# Remove the \"$\" symbol from the \"CTC\" feature in both data frames using \".str.replace()\" method\n",
        "# Note: Pass the values \"$\" and \"\" as two parameters to the \".str.replace()\" function for the \"CTC\" feature of the data frame\n",
        "# Note: The \"regex\" parameter must be set to \"True\"\n",
        "##################### CODE HERE ##########################\n",
        "df_2015['CTC']=df_2015['CTC'].str.replace('$',' ',regex=True)\n",
        "df_2016_sample['CTC']=df_2016_sample['CTC'].str.replace('$',' ',regex=True)"
      ]
    },
    {
      "cell_type": "code",
      "execution_count": 15,
      "metadata": {
        "id": "8fMLWdN3OE0P"
      },
      "outputs": [],
      "source": [
        "# Convert the \"CTC\" feature to the \"float\" data type in both data frames using the \".astype()\" method\n",
        "# Note: Pass the value \"float\" as a parameter to the \".astype()\" function\n",
        "##################### CODE HERE ##########################\n",
        "df_2015['CTC']=df_2015['CTC'].astype(float)\n",
        "df_2016_sample['CTC']=df_2016_sample['CTC'].astype(float)"
      ]
    },
    {
      "cell_type": "code",
      "execution_count": 17,
      "metadata": {
        "id": "UDsqSebtOE0P"
      },
      "outputs": [],
      "source": [
        "# Remove any entries in the data frame \"df_2015\" that contain \"CTC\" values as 0\n",
        "# Note: You can update the original data frame \"df_2015\" to contain \"CTC\" values greater than 0\n",
        "##################### CODE HERE ##########################\n",
        "df_2015=df_2015[df_2015['CTC']>0]"
      ]
    },
    {
      "cell_type": "code",
      "execution_count": null,
      "metadata": {
        "id": "2CPNER-JOE0Q"
      },
      "outputs": [],
      "source": [
        "# Remove any entries in the data frame \"df_2016_sample\" that contain \"CTC\" values as 0\n",
        "# Note: You can update the original data frame \"df_2016_sample\" to contain \"CTC\" values greater than 0\n",
        "##################### CODE HERE ##########################\n",
        "df_2016_sample=df_2016_sample[df_2015['CTC']>0]"
      ]
    },
    {
      "cell_type": "markdown",
      "metadata": {
        "id": "sxMqhpyXRijl"
      },
      "source": [
        "Observation:\n",
        "\n",
        "A rigorous way to check whether the compensations have increased from 2015 to 2016 or not is by using hypothesis tests."
      ]
    },
    {
      "cell_type": "code",
      "execution_count": null,
      "metadata": {
        "id": "I47lAmE6OE0Q"
      },
      "outputs": [],
      "source": [
        "###########################################################################"
      ]
    },
    {
      "cell_type": "markdown",
      "metadata": {
        "id": "dlevp8XvRn4P"
      },
      "source": [
        "# Task 3 - Conduct a hypothesis test for the data using Z-scores"
      ]
    },
    {
      "cell_type": "markdown",
      "metadata": {
        "id": "7Z9Ivw3RRqym"
      },
      "source": [
        "The null hypothesis is: The annual compensation of employees does not increase from the year 2015 to 2016.\n",
        "\n",
        "The alternate hypothesis is: The annual compensation of employees increases from the year 2015 to 2016."
      ]
    },
    {
      "cell_type": "markdown",
      "metadata": {
        "id": "v33DU3N1R-eA"
      },
      "source": [
        "![zscore.png](data:image/png;base64,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)"
      ]
    },
    {
      "cell_type": "code",
      "execution_count": null,
      "metadata": {
        "id": "_j2E-6hSOE0R"
      },
      "outputs": [],
      "source": [
        "# Since we do not have the population standard deviation for the 2016 data, we will use the adjusted formula for the Z-score\n",
        "# The adjusted formula for the Z-score is \"z = (X - m) / s\"\n",
        "# \"X\" is the actual mean of the 2016 sample\n",
        "# \"m\" is the mean of the 2016 sample under the null hypothesis, so we can use the mean of the 2015 data in place of \"m\"\n",
        "# \"s\" is either the population standard deviation for 2016 or the adjusted sample standard deviation for 2016\n",
        "# We do not have the population standard deviation for 2016\n",
        "# So, we will use the adjusted formula \"s = standard deviation of sample / sqrt(number of observations in the sample)\"\n",
        "# Calculate a Z-score for the 2016 sample data using the appropriate formula and store it as \"z_score\"\n",
        "##################### CODE HERE ##########################\n",
        "num=df_2016_sample['CTC'].mean() - df_2015['CTC'].mean()\n",
        "den=df_2016_sample['CTC'].std()/np.sqrt(len(df_2016_sample))\n",
        "z_score=num/den"
      ]
    },
    {
      "cell_type": "code",
      "execution_count": null,
      "metadata": {
        "colab": {
          "base_uri": "https://localhost:8080/"
        },
        "id": "68Nrj9KUOE0R",
        "outputId": "7709bea4-c471-427c-ef25-d05c6bc00e35"
      },
      "outputs": [
        {
          "data": {
            "text/plain": [
              "6.888610601055715"
            ]
          },
          "execution_count": 21,
          "metadata": {},
          "output_type": "execute_result"
        }
      ],
      "source": [
        "# Since this is a one-tailed test, the critical Z-score for a confidence level of 95% is about 1.65\n",
        "# Print the value of \"z_score\"\n",
        "##################### CODE HERE ##########################\n",
        "z_score"
      ]
    },
    {
      "cell_type": "markdown",
      "metadata": {
        "id": "nyqj-4WoSkA-"
      },
      "source": [
        "Reference:- https://docs.scipy.org/doc/scipy/reference/generated/scipy.stats.norm.html"
      ]
    },
    {
      "cell_type": "code",
      "execution_count": null,
      "metadata": {
        "id": "dhcLnhN2OE0R"
      },
      "outputs": [],
      "source": [
        "# Calculate the p-value associated with the Z-score using \"stats.norm.sf(abs(z_score))\"\n",
        "# Note: Store the resulting p-value as \"p_value_z\"\n",
        "##################### CODE HERE ##########################\n",
        "p_value_z=stats.norm.sf(abs(z_score))"
      ]
    },
    {
      "cell_type": "code",
      "execution_count": null,
      "metadata": {
        "colab": {
          "base_uri": "https://localhost:8080/"
        },
        "id": "SL6EsZYdOE0R",
        "outputId": "2890a33f-e12c-4feb-907c-436930ed317f"
      },
      "outputs": [
        {
          "data": {
            "text/plain": [
              "2.8169961392070023e-12"
            ]
          },
          "execution_count": 26,
          "metadata": {},
          "output_type": "execute_result"
        }
      ],
      "source": [
        "# Print the value of \"p_value_z\"\n",
        "##################### CODE HERE ##########################\n",
        "p_value_z"
      ]
    },
    {
      "cell_type": "markdown",
      "metadata": {
        "id": "NgfmwHKuTK3W"
      },
      "source": [
        "Please refer to this article. It is useful for thorough study."
      ]
    },
    {
      "cell_type": "markdown",
      "metadata": {
        "id": "8bSWHSHoS7ON"
      },
      "source": [
        "Reference:- https://www.statology.org/z-test-python/"
      ]
    },
    {
      "cell_type": "markdown",
      "metadata": {
        "id": "IntMdgzpWLV-"
      },
      "source": [
        "A more brief video for the type of tests with some examples."
      ]
    },
    {
      "cell_type": "code",
      "execution_count": null,
      "metadata": {
        "id": "vsbKmCd3OE0R"
      },
      "outputs": [],
      "source": [
        "# Run a Z-test for the data using the \"ztest()\" method\n",
        "# Store the resulting Z-score as \"z_stat\" and the resulting p-value as \"p_val_z\"\n",
        "# Note: The parameter \"x1\" must be set to \"df_2016_sample['CTC']\"\n",
        "# Note: The parameter \"x2\" must be set to \"None\" as this is a single sample test\n",
        "# Note: The parameter \"alternative\" must be set to \"larger\" as this is a one-tailed (upper) test\n",
        "# Note: The parameter \"value\" must be set to the null hypothesis (2015) mean, that is \"df_2015['CTC'].mean()\"\n",
        "##################### CODE HERE ##########################\n",
        "z_stat,p_value_z=ztest(x1=df_2016_sample['CTC'],x2=None,altenative='larger',value=df_2016_sample['CTC'].mean())"
      ]
    },
    {
      "cell_type": "code",
      "execution_count": null,
      "metadata": {
        "colab": {
          "base_uri": "https://localhost:8080/"
        },
        "id": "ADFf-KGYOE0R",
        "outputId": "909d4137-68d6-4498-f595-ad54462b1e59"
      },
      "outputs": [
        {
          "data": {
            "text/plain": [
              "6.888610601059167"
            ]
          },
          "execution_count": 28,
          "metadata": {},
          "output_type": "execute_result"
        }
      ],
      "source": [
        "# Print the value of \"z_stat\"\n",
        "##################### CODE HERE ##########################\n",
        "z_stat"
      ]
    },
    {
      "cell_type": "code",
      "execution_count": null,
      "metadata": {
        "colab": {
          "base_uri": "https://localhost:8080/"
        },
        "id": "1KEjkeDFOE0R",
        "outputId": "2759b86a-d254-4323-858f-bf3a77331322"
      },
      "outputs": [
        {
          "data": {
            "text/plain": [
              "2.8169961391386618e-12"
            ]
          },
          "execution_count": 29,
          "metadata": {},
          "output_type": "execute_result"
        }
      ],
      "source": [
        "# Print the value of \"p_val_z\"\n",
        "##################### CODE HERE ##########################\n",
        "p_value_z"
      ]
    },
    {
      "cell_type": "markdown",
      "metadata": {
        "id": "YkTJoeKlTTw8"
      },
      "source": [
        "Observations:\n",
        "\n",
        "The calculated Z-statistic (about 6.89) is greater than the critical Z-statistic (about 1.65).\n",
        "\n",
        "The calculated p-value (nearly 0) is less than 0.05.\n",
        "\n",
        "So, the null hypothesis may be safely rejected.\n",
        "\n",
        "Thus, the alternate hypothesis that the annual salaries increase from the year 2015 to the year 2016 is true."
      ]
    },
    {
      "cell_type": "code",
      "execution_count": null,
      "metadata": {
        "id": "ArEFNrzWOE0S"
      },
      "outputs": [],
      "source": [
        "###########################################################################"
      ]
    },
    {
      "cell_type": "markdown",
      "metadata": {
        "id": "mSAWjZWbTefs"
      },
      "source": [
        "# Task 4 - Conduct a t-test for the data"
      ]
    },
    {
      "cell_type": "markdown",
      "metadata": {
        "id": "SldJJYMZTgrU"
      },
      "source": [
        "The null hypothesis is: The annual compensation of employees does not increase from the year 2015 to 2016.\n",
        "\n",
        "The alternate hypothesis is: The annual compensation of employees increases from the year 2015 to 2016."
      ]
    },
    {
      "cell_type": "markdown",
      "metadata": {
        "id": "P1gIxXRBUFMQ"
      },
      "source": [
        "![OIP (3).jpg](data:image/jpeg;base64,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)"
      ]
    },
    {
      "cell_type": "code",
      "execution_count": null,
      "metadata": {
        "id": "riaMmaVhOE0S"
      },
      "outputs": [],
      "source": [
        "# The formula for the t-statistic is \"t = (X - m) / s\"\n",
        "# \"X\" is the actual mean of the 2016 sample\n",
        "# \"m\" is the mean of the 2016 sample under the null hypothesis, so we can use the mean of the 2015 data in place of \"m\"\n",
        "# \"s\" is the adjusted sample standard deviation for 2016\n",
        "# The formula for \"s\" is \"s = standard deviation of sample / sqrt(number of observations in the sample)\"\n",
        "# Calculate a t-statistic for the 2016 sample data using the appropriate formula and store it as \"t_score\"\n",
        "##################### CODE HERE ##########################\n",
        "num=df_2016_sample['CTC'].mean() - df_2015['CTC'].mean()\n",
        "den=df_2016_sample['CTC'].std()/np.sqrt(len(df_2016_sample))\n",
        "t_score = num/den"
      ]
    },
    {
      "cell_type": "code",
      "execution_count": null,
      "metadata": {
        "colab": {
          "base_uri": "https://localhost:8080/"
        },
        "id": "rJRRuP2VOE0S",
        "outputId": "9541ba82-1870-4e6b-aa1e-37f1280accf7"
      },
      "outputs": [
        {
          "data": {
            "text/plain": [
              "6.888610601055715"
            ]
          },
          "execution_count": 31,
          "metadata": {},
          "output_type": "execute_result"
        }
      ],
      "source": [
        "# Since this is a one-tailed test with many degrees of freedom, the critical t-statistic for a confidence level of 95% is about 1.65\n",
        "# Print the value of \"t_score\"\n",
        "##################### CODE HERE ##########################\n",
        "t_score"
      ]
    },
    {
      "cell_type": "markdown",
      "metadata": {
        "id": "Mhj-aCDsTtvb"
      },
      "source": [
        "Reference:- https://docs.scipy.org/doc/scipy/reference/generated/scipy.stats.t.html"
      ]
    },
    {
      "cell_type": "code",
      "execution_count": null,
      "metadata": {
        "id": "j6TnaggFOE0S"
      },
      "outputs": [],
      "source": [
        "# Calculate the p-value associated with the t-statistic using \"stats.t.sf(abs(t_score), len(df_2016_sample) - 1)\"\n",
        "# Note: Store the resulting p-value as \"p_value_t\"\n",
        "##################### CODE HERE ##########################\n",
        "p_value_t=stats.t.sf(abs(t_score), len(df_2016_sample) - 1)"
      ]
    },
    {
      "cell_type": "code",
      "execution_count": null,
      "metadata": {
        "colab": {
          "base_uri": "https://localhost:8080/"
        },
        "id": "4dEw6qo7OE0T",
        "outputId": "74aa1f7a-0b2a-43c1-9827-a958a6080ea9"
      },
      "outputs": [
        {
          "data": {
            "text/plain": [
              "2.9698553115234848e-12"
            ]
          },
          "execution_count": 33,
          "metadata": {},
          "output_type": "execute_result"
        }
      ],
      "source": [
        "# Print the value of \"p_value_t\"\n",
        "##################### CODE HERE ##########################\n",
        "p_value_t"
      ]
    },
    {
      "cell_type": "markdown",
      "metadata": {
        "id": "XCElDz2mUUql"
      },
      "source": [
        "Reference:- https://docs.scipy.org/doc/scipy/reference/generated/scipy.stats.ttest_1samp.html"
      ]
    },
    {
      "cell_type": "code",
      "execution_count": null,
      "metadata": {
        "id": "n9wVvk4oOE0T"
      },
      "outputs": [],
      "source": [
        "# Run a t-test for the data using the \"stats.ttest_1samp()\" method\n",
        "# Store the resulting t-statistic as \"t_stat\" and the resulting p-value as \"p_val_t\"\n",
        "# Note: The parameter \"a\" must be set to \"df_2016_sample['CTC']\"\n",
        "# Note: The parameter \"popmean\" must be set to the null hypothesis (2015) mean, that is \"df_2015['CTC'].mean()\"\n",
        "# Note: The parameter \"alternative\" must be set to \"greater\" as this is a one-tailed (upper) test\n",
        "##################### CODE HERE ##########################\n",
        "t_stat,p_value_t=ztest(x1=df_2016_sample['CTC'],x2=None,altenative='larger',value=df_2016_sample['CTC'].mean())"
      ]
    },
    {
      "cell_type": "code",
      "execution_count": null,
      "metadata": {
        "colab": {
          "base_uri": "https://localhost:8080/"
        },
        "id": "BBCDPh0XOE0T",
        "outputId": "f158262e-5340-4dd6-c42c-3210e91bbce4"
      },
      "outputs": [
        {
          "data": {
            "text/plain": [
              "6.888610601059167"
            ]
          },
          "execution_count": 38,
          "metadata": {},
          "output_type": "execute_result"
        }
      ],
      "source": [
        "# Print the value of \"t_stat\"\n",
        "##################### CODE HERE ##########################\n",
        "t_stat"
      ]
    },
    {
      "cell_type": "code",
      "execution_count": null,
      "metadata": {
        "colab": {
          "base_uri": "https://localhost:8080/"
        },
        "id": "VFmdZN7wOE0T",
        "outputId": "0a23a003-3a71-4198-a688-9a973b19a9f9"
      },
      "outputs": [
        {
          "data": {
            "text/plain": [
              "5.93971062290351e-12"
            ]
          },
          "execution_count": 39,
          "metadata": {},
          "output_type": "execute_result"
        }
      ],
      "source": [
        "# Print the value of \"p_val_t\"\n",
        "##################### CODE HERE ##########################\n",
        "p_value_t"
      ]
    },
    {
      "cell_type": "markdown",
      "metadata": {
        "id": "fzeEXrj8UfMw"
      },
      "source": [
        "Observations:\n",
        "\n",
        "The t-distribution becomes nearly equivalent to the standard normal distribution for large sample sizes.\n",
        "\n",
        "The calculated t-statistic (about 6.89) is greater than the critical t-statistic (about 1.65).\n",
        "\n",
        "The calculated p-value (nearly 0) is less than 0.05.\n",
        "\n",
        "So, the null hypothesis may be safely rejected.\n",
        "\n",
        "Thus, the alternate hypothesis that the annual salaries increase from the year 2015 to the year 2016 is true."
      ]
    },
    {
      "cell_type": "code",
      "execution_count": null,
      "metadata": {
        "id": "hp9hZo7ZOE0T"
      },
      "outputs": [],
      "source": [
        "###########################################################################"
      ]
    },
    {
      "cell_type": "markdown",
      "metadata": {
        "id": "_YrsiD3WU_pu"
      },
      "source": [
        "# <center><u>Conclusion</u> </center>"
      ]
    },
    {
      "cell_type": "markdown",
      "metadata": {
        "id": "uj698hn1Uo37"
      },
      "source": [
        "We can use hypothesis testing methods such the Z-score method and the Student's t-test to verify various hypotheses"
      ]
    },
    {
      "cell_type": "code",
      "execution_count": null,
      "metadata": {
        "id": "4NLvGmE9OE0U"
      },
      "outputs": [],
      "source": [
        "###########################################################################"
      ]
    },
    {
      "cell_type": "markdown",
      "metadata": {
        "id": "Gi8IN620VDXa"
      },
      "source": [
        "**FEEDBACK**\n",
        "\n",
        "We hope you’ve enjoyed this course so far. We’re committed to help you use \"Stats and maths for data science\" course to its full potential, so that you have a great learning experience. And that’s why we need your help in form of a feedback here.\n",
        "\n",
        "Please fill this feedback form https://forms.zohopublic.in/cloudyml/form/CloudyMLStatisticsFeedbackForm/formperma/WV946wnf0sDM_tOlH87RxZR9yMceKWGrtuPOyXzzCRc"
      ]
    }
  ],
  "metadata": {
    "_change_revision": 6,
    "_is_fork": false,
    "colab": {
      "collapsed_sections": [],
      "provenance": []
    },
    "kernelspec": {
      "display_name": "Python 3",
      "language": "python",
      "name": "python3"
    },
    "language_info": {
      "codemirror_mode": {
        "name": "ipython",
        "version": 3
      },
      "file_extension": ".py",
      "mimetype": "text/x-python",
      "name": "python",
      "nbconvert_exporter": "python",
      "pygments_lexer": "ipython3",
      "version": "3.8.8"
    }
  },
  "nbformat": 4,
  "nbformat_minor": 0
}
