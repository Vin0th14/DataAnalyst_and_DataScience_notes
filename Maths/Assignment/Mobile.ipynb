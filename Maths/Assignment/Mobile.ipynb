{
  "cells": [
    {
      "cell_type": "markdown",
      "source": [
        "# <center><u>Mobile Phone Assignment</u> </center>"
      ],
      "metadata": {
        "id": "QvtD0SxEOPGe"
      }
    },
    {
      "cell_type": "markdown",
      "source": [
        "# <center><u>Introduction</u> </center>"
      ],
      "metadata": {
        "id": "xHKXMzNZOYPy"
      }
    },
    {
      "cell_type": "markdown",
      "source": [
        "This Jupyter notebook is part of your learning experience in the study of applied statistics.\n",
        "\n",
        "You will work with a data set that contains mobile phone prices and their specifications.\n",
        "\n",
        "In this exercise, you will perform the following tasks:\n",
        "\n",
        "1 - Load and study the data\n",
        "\n",
        "2 - Obtain the logical conditions for the features \"Blue\", \"Wi_Fi\", \"Tch_Scr\" and \"Ext_Mem\"\n",
        "\n",
        "3 - Obtain the logical conditions for the features \"Px_h\" and \"Px_w\"\n",
        "\n",
        "4 - Obtain the logical conditions for the features \"Scr_h\" and \"Scr_w\"\n",
        "\n",
        "5 - Obtain the logical conditions for the features \"PC\" and \"FC\"\n",
        "\n",
        "6 - Obtain the logical conditions for the features \"Int_Mem\", \"Bty_Pwr\" and \"RAM\"\n",
        "\n",
        "7 - Obtain the logical conditions for the features \"Depth\" and \"Weight\"\n",
        "\n",
        "8 - Subset the data based on all the logical conditions\n",
        "\n",
        "9 - Study the variability of the features in the original data set"
      ],
      "metadata": {
        "id": "_pzTIrVbOcFF"
      }
    },
    {
      "cell_type": "code",
      "execution_count": null,
      "metadata": {
        "id": "wEXybtFON854"
      },
      "outputs": [],
      "source": [
        "###########################################################################"
      ]
    },
    {
      "cell_type": "markdown",
      "source": [
        "## Task 1 - Load and study the data"
      ],
      "metadata": {
        "id": "YCLhIkwFO4Tj"
      }
    },
    {
      "cell_type": "markdown",
      "source": [
        "Import the libraries that will be used in this notebook"
      ],
      "metadata": {
        "id": "CBMdPgPUO89Y"
      }
    },
    {
      "cell_type": "code",
      "execution_count": null,
      "metadata": {
        "id": "z9ZS2Tw2N857"
      },
      "outputs": [],
      "source": [
        "# Load \"numpy\" and \"pandas\" for manipulating numbers and data frames\n",
        "# Load \"matplotlib.pyplot\" and \"seaborn\" for data visualisation\n",
        "##################### CODE HERE ##########################\n"
      ]
    },
    {
      "cell_type": "markdown",
      "source": [
        "Load the csv file as pandas dataframe. "
      ],
      "metadata": {
        "id": "7rdvm8PDPCgM"
      }
    },
    {
      "cell_type": "code",
      "execution_count": null,
      "metadata": {
        "id": "7p5Rg_AkN858"
      },
      "outputs": [],
      "source": [
        "# Read in the \"Mobile_Phones.csv\" file as a Pandas Data Frame\n",
        "# Note: Make sure the code and the data are in the same folder or specify the appropriate path\n",
        "##################### CODE HERE ##########################\n"
      ]
    },
    {
      "cell_type": "markdown",
      "source": [
        "Reference:\n",
        "\n",
        "https://pandas.pydata.org/pandas-docs/stable/reference/api/pandas.DataFrame.head.html"
      ],
      "metadata": {
        "id": "t-pXAaEkPhkS"
      }
    },
    {
      "cell_type": "code",
      "execution_count": null,
      "metadata": {
        "colab": {
          "base_uri": "https://localhost:8080/",
          "height": 238
        },
        "id": "WdfT3N-iN859",
        "outputId": "6949d98f-de7b-4839-bb09-62ae451eeffb"
      },
      "outputs": [
        {
          "output_type": "execute_result",
          "data": {
            "text/html": [
              "\n",
              "  <div id=\"df-e1e02a01-f21b-4957-9c88-6ab27c40bb7d\">\n",
              "    <div class=\"colab-df-container\">\n",
              "      <div>\n",
              "<style scoped>\n",
              "    .dataframe tbody tr th:only-of-type {\n",
              "        vertical-align: middle;\n",
              "    }\n",
              "\n",
              "    .dataframe tbody tr th {\n",
              "        vertical-align: top;\n",
              "    }\n",
              "\n",
              "    .dataframe thead th {\n",
              "        text-align: right;\n",
              "    }\n",
              "</style>\n",
              "<table border=\"1\" class=\"dataframe\">\n",
              "  <thead>\n",
              "    <tr style=\"text-align: right;\">\n",
              "      <th></th>\n",
              "      <th>Blue</th>\n",
              "      <th>Wi_Fi</th>\n",
              "      <th>Tch_Scr</th>\n",
              "      <th>Ext_Mem</th>\n",
              "      <th>Px_h</th>\n",
              "      <th>Px_w</th>\n",
              "      <th>Scr_h</th>\n",
              "      <th>Scr_w</th>\n",
              "      <th>PC</th>\n",
              "      <th>FC</th>\n",
              "      <th>Int_Mem</th>\n",
              "      <th>Bty_Pwr</th>\n",
              "      <th>RAM</th>\n",
              "      <th>Depth</th>\n",
              "      <th>Weight</th>\n",
              "      <th>Price</th>\n",
              "    </tr>\n",
              "    <tr>\n",
              "      <th>PID</th>\n",
              "      <th></th>\n",
              "      <th></th>\n",
              "      <th></th>\n",
              "      <th></th>\n",
              "      <th></th>\n",
              "      <th></th>\n",
              "      <th></th>\n",
              "      <th></th>\n",
              "      <th></th>\n",
              "      <th></th>\n",
              "      <th></th>\n",
              "      <th></th>\n",
              "      <th></th>\n",
              "      <th></th>\n",
              "      <th></th>\n",
              "      <th></th>\n",
              "    </tr>\n",
              "  </thead>\n",
              "  <tbody>\n",
              "    <tr>\n",
              "      <th>AAB346A</th>\n",
              "      <td>yes</td>\n",
              "      <td>yes</td>\n",
              "      <td>no</td>\n",
              "      <td>no</td>\n",
              "      <td>780</td>\n",
              "      <td>460</td>\n",
              "      <td>3</td>\n",
              "      <td>1</td>\n",
              "      <td>2</td>\n",
              "      <td>2</td>\n",
              "      <td>8</td>\n",
              "      <td>2800</td>\n",
              "      <td>2</td>\n",
              "      <td>7</td>\n",
              "      <td>320</td>\n",
              "      <td>3297</td>\n",
              "    </tr>\n",
              "    <tr>\n",
              "      <th>AAC347I</th>\n",
              "      <td>yes</td>\n",
              "      <td>yes</td>\n",
              "      <td>no</td>\n",
              "      <td>no</td>\n",
              "      <td>780</td>\n",
              "      <td>560</td>\n",
              "      <td>2</td>\n",
              "      <td>1</td>\n",
              "      <td>4</td>\n",
              "      <td>2</td>\n",
              "      <td>8</td>\n",
              "      <td>3000</td>\n",
              "      <td>2</td>\n",
              "      <td>7</td>\n",
              "      <td>280</td>\n",
              "      <td>4500</td>\n",
              "    </tr>\n",
              "    <tr>\n",
              "      <th>BAB657J</th>\n",
              "      <td>no</td>\n",
              "      <td>yes</td>\n",
              "      <td>no</td>\n",
              "      <td>no</td>\n",
              "      <td>840</td>\n",
              "      <td>720</td>\n",
              "      <td>2</td>\n",
              "      <td>1</td>\n",
              "      <td>4</td>\n",
              "      <td>2</td>\n",
              "      <td>8</td>\n",
              "      <td>3300</td>\n",
              "      <td>2</td>\n",
              "      <td>7</td>\n",
              "      <td>400</td>\n",
              "      <td>4898</td>\n",
              "    </tr>\n",
              "    <tr>\n",
              "      <th>BBD456K</th>\n",
              "      <td>no</td>\n",
              "      <td>yes</td>\n",
              "      <td>yes</td>\n",
              "      <td>no</td>\n",
              "      <td>1280</td>\n",
              "      <td>1120</td>\n",
              "      <td>5</td>\n",
              "      <td>3</td>\n",
              "      <td>6</td>\n",
              "      <td>2</td>\n",
              "      <td>32</td>\n",
              "      <td>3000</td>\n",
              "      <td>2</td>\n",
              "      <td>3</td>\n",
              "      <td>300</td>\n",
              "      <td>6900</td>\n",
              "    </tr>\n",
              "    <tr>\n",
              "      <th>CCP761U</th>\n",
              "      <td>no</td>\n",
              "      <td>yes</td>\n",
              "      <td>yes</td>\n",
              "      <td>no</td>\n",
              "      <td>1280</td>\n",
              "      <td>1080</td>\n",
              "      <td>4</td>\n",
              "      <td>3</td>\n",
              "      <td>6</td>\n",
              "      <td>2</td>\n",
              "      <td>16</td>\n",
              "      <td>3000</td>\n",
              "      <td>2</td>\n",
              "      <td>3</td>\n",
              "      <td>210</td>\n",
              "      <td>5600</td>\n",
              "    </tr>\n",
              "  </tbody>\n",
              "</table>\n",
              "</div>\n",
              "      <button class=\"colab-df-convert\" onclick=\"convertToInteractive('df-e1e02a01-f21b-4957-9c88-6ab27c40bb7d')\"\n",
              "              title=\"Convert this dataframe to an interactive table.\"\n",
              "              style=\"display:none;\">\n",
              "        \n",
              "  <svg xmlns=\"http://www.w3.org/2000/svg\" height=\"24px\"viewBox=\"0 0 24 24\"\n",
              "       width=\"24px\">\n",
              "    <path d=\"M0 0h24v24H0V0z\" fill=\"none\"/>\n",
              "    <path d=\"M18.56 5.44l.94 2.06.94-2.06 2.06-.94-2.06-.94-.94-2.06-.94 2.06-2.06.94zm-11 1L8.5 8.5l.94-2.06 2.06-.94-2.06-.94L8.5 2.5l-.94 2.06-2.06.94zm10 10l.94 2.06.94-2.06 2.06-.94-2.06-.94-.94-2.06-.94 2.06-2.06.94z\"/><path d=\"M17.41 7.96l-1.37-1.37c-.4-.4-.92-.59-1.43-.59-.52 0-1.04.2-1.43.59L10.3 9.45l-7.72 7.72c-.78.78-.78 2.05 0 2.83L4 21.41c.39.39.9.59 1.41.59.51 0 1.02-.2 1.41-.59l7.78-7.78 2.81-2.81c.8-.78.8-2.07 0-2.86zM5.41 20L4 18.59l7.72-7.72 1.47 1.35L5.41 20z\"/>\n",
              "  </svg>\n",
              "      </button>\n",
              "      \n",
              "  <style>\n",
              "    .colab-df-container {\n",
              "      display:flex;\n",
              "      flex-wrap:wrap;\n",
              "      gap: 12px;\n",
              "    }\n",
              "\n",
              "    .colab-df-convert {\n",
              "      background-color: #E8F0FE;\n",
              "      border: none;\n",
              "      border-radius: 50%;\n",
              "      cursor: pointer;\n",
              "      display: none;\n",
              "      fill: #1967D2;\n",
              "      height: 32px;\n",
              "      padding: 0 0 0 0;\n",
              "      width: 32px;\n",
              "    }\n",
              "\n",
              "    .colab-df-convert:hover {\n",
              "      background-color: #E2EBFA;\n",
              "      box-shadow: 0px 1px 2px rgba(60, 64, 67, 0.3), 0px 1px 3px 1px rgba(60, 64, 67, 0.15);\n",
              "      fill: #174EA6;\n",
              "    }\n",
              "\n",
              "    [theme=dark] .colab-df-convert {\n",
              "      background-color: #3B4455;\n",
              "      fill: #D2E3FC;\n",
              "    }\n",
              "\n",
              "    [theme=dark] .colab-df-convert:hover {\n",
              "      background-color: #434B5C;\n",
              "      box-shadow: 0px 1px 3px 1px rgba(0, 0, 0, 0.15);\n",
              "      filter: drop-shadow(0px 1px 2px rgba(0, 0, 0, 0.3));\n",
              "      fill: #FFFFFF;\n",
              "    }\n",
              "  </style>\n",
              "\n",
              "      <script>\n",
              "        const buttonEl =\n",
              "          document.querySelector('#df-e1e02a01-f21b-4957-9c88-6ab27c40bb7d button.colab-df-convert');\n",
              "        buttonEl.style.display =\n",
              "          google.colab.kernel.accessAllowed ? 'block' : 'none';\n",
              "\n",
              "        async function convertToInteractive(key) {\n",
              "          const element = document.querySelector('#df-e1e02a01-f21b-4957-9c88-6ab27c40bb7d');\n",
              "          const dataTable =\n",
              "            await google.colab.kernel.invokeFunction('convertToInteractive',\n",
              "                                                     [key], {});\n",
              "          if (!dataTable) return;\n",
              "\n",
              "          const docLinkHtml = 'Like what you see? Visit the ' +\n",
              "            '<a target=\"_blank\" href=https://colab.research.google.com/notebooks/data_table.ipynb>data table notebook</a>'\n",
              "            + ' to learn more about interactive tables.';\n",
              "          element.innerHTML = '';\n",
              "          dataTable['output_type'] = 'display_data';\n",
              "          await google.colab.output.renderOutput(dataTable, element);\n",
              "          const docLink = document.createElement('div');\n",
              "          docLink.innerHTML = docLinkHtml;\n",
              "          element.appendChild(docLink);\n",
              "        }\n",
              "      </script>\n",
              "    </div>\n",
              "  </div>\n",
              "  "
            ],
            "text/plain": [
              "        Blue Wi_Fi Tch_Scr Ext_Mem  Px_h  ...  Bty_Pwr  RAM  Depth  Weight  Price\n",
              "PID                                       ...                                    \n",
              "AAB346A  yes   yes      no      no   780  ...     2800    2      7     320   3297\n",
              "AAC347I  yes   yes      no      no   780  ...     3000    2      7     280   4500\n",
              "BAB657J   no   yes      no      no   840  ...     3300    2      7     400   4898\n",
              "BBD456K   no   yes     yes      no  1280  ...     3000    2      3     300   6900\n",
              "CCP761U   no   yes     yes      no  1280  ...     3000    2      3     210   5600\n",
              "\n",
              "[5 rows x 16 columns]"
            ]
          },
          "metadata": {},
          "execution_count": 3
        }
      ],
      "source": [
        "# Take a brief look at the data using \".head()\"\n",
        "##################### CODE HERE ##########################\n"
      ]
    },
    {
      "cell_type": "code",
      "execution_count": null,
      "metadata": {
        "colab": {
          "base_uri": "https://localhost:8080/"
        },
        "id": "UqbNB8XzN85-",
        "outputId": "cda54fc9-1f53-4be6-b6f4-a333f5489fdd"
      },
      "outputs": [
        {
          "output_type": "stream",
          "name": "stdout",
          "text": [
            "The \"Mobile_Phones.csv\" data is a completely fabricated dataset for use.\n",
            "\n",
            "Any resemblance to entities past, present or future is merely a coincidence.\n",
            "\n",
            "PID = a unique identifier for the phone model\n",
            "Blue = whether the phone has bluetooth support or not\n",
            "Wi_Fi = whether the phone has wifi support or not\n",
            "Tch_Scr = whether the phone has touch screen support or not\n",
            "Ext_Mem = whether the phone has external memory support or not\n",
            "Px_h = number of pixels in the vertical axis of the phone\n",
            "Px_w = number of pixels in the horizontal axis of the phone\n",
            "Scr_h = height of the screen of the phone in centimetres (cm)\n",
            "Scr_w = width of the screen of the phone in centimetres (cm)\n",
            "Int_Mem = internal memory of the phone measured in megabytes (MB)\n",
            "Bty_Pwr = maximum energy stored by the phone's battery measured in milli-Ampere-hours (mAh)\n",
            "PC = resolution of the primary camera measued in megapixels (MP)\n",
            "FC = resolution of the front camera measued in megapixels (MP)\n",
            "RAM = random access memory available in the phone measured in gigabytes (GB)\n",
            "Depth = depth of the mobile phone measured in centimetres (cm)\n",
            "Weight = weight of the mobile phone measured in grams (g)\n",
            "Price = selling price of the mobile phone in rupees\n",
            "\n"
          ]
        }
      ],
      "source": [
        "# Study the description of the data\n",
        "# Note: Make sure the code and the data description are in the same folder or specify the appropriate path\n",
        "with open('Mobile_Phones_Feature_Description.txt', 'r') as f:\n",
        "    print(f.read())"
      ]
    },
    {
      "cell_type": "markdown",
      "source": [
        "Reference:-https://pandas.pydata.org/pandas-docs/stable/reference/api/pandas.DataFrame.shape.html"
      ],
      "metadata": {
        "id": "C-Y16SRHPzHi"
      }
    },
    {
      "cell_type": "code",
      "execution_count": null,
      "metadata": {
        "colab": {
          "base_uri": "https://localhost:8080/"
        },
        "id": "0jdoVTnIN85_",
        "outputId": "3311fc81-2d8a-44e0-cc16-9c3ef28563bd"
      },
      "outputs": [
        {
          "output_type": "execute_result",
          "data": {
            "text/plain": [
              "(50, 16)"
            ]
          },
          "metadata": {},
          "execution_count": 6
        }
      ],
      "source": [
        "# Get the dimensions of the data frame using \".shape\"\n",
        "##################### CODE HERE ##########################\n"
      ]
    },
    {
      "cell_type": "markdown",
      "source": [
        "Reference:- https://pandas.pydata.org/pandas-docs/stable/reference/api/pandas.DataFrame.index.html"
      ],
      "metadata": {
        "id": "Rku0U7uHP-eR"
      }
    },
    {
      "cell_type": "code",
      "execution_count": null,
      "metadata": {
        "colab": {
          "base_uri": "https://localhost:8080/"
        },
        "id": "y28qZAzdN86B",
        "outputId": "3397a662-1b8a-41df-b197-eb2a15726358"
      },
      "outputs": [
        {
          "output_type": "execute_result",
          "data": {
            "text/plain": [
              "Index(['AAB346A', 'AAC347I', 'BAB657J', 'BBD456K', 'CCP761U', 'CCQ674K',\n",
              "       'CTX123L', 'DFR256N', 'DGS789M', 'ENG897N', 'EOP657N', 'ELS333L',\n",
              "       'ETT987D', 'NAJ56GL', 'NBN329S', 'NSD450I', 'PDF768G', 'PDG234M',\n",
              "       'PEL111K', 'PNWD777L', 'POP857R', 'QWR222Y', 'QZR577O', 'RAY344W',\n",
              "       'RBZ451D', 'SDO555G', 'SET568R', 'SFK567Y', 'SSD000L', 'SYL888P',\n",
              "       'TVF078Y', 'TYQ109G', 'TYS938L', 'TYU444Q', 'TYY453J', 'ULI999T',\n",
              "       'UST000T', 'USZ111S', 'VWV532Y', 'VYI666I', 'WER765T', 'WUV902Y',\n",
              "       'WZB298K', 'XKL901R', 'XTL675G', 'XXV567F', 'YTR67TY', 'ZDF789K',\n",
              "       'ZEO567M', 'ZZZ909X'],\n",
              "      dtype='object', name='PID')"
            ]
          },
          "metadata": {},
          "execution_count": 7
        }
      ],
      "source": [
        "# Get the row names of the data frame using \".index\"\n",
        "##################### CODE HERE ##########################\n"
      ]
    },
    {
      "cell_type": "markdown",
      "source": [
        "Reference:- https://pandas.pydata.org/pandas-docs/stable/reference/api/pandas.DataFrame.columns.html"
      ],
      "metadata": {
        "id": "S8L2xYduQAX0"
      }
    },
    {
      "cell_type": "code",
      "execution_count": null,
      "metadata": {
        "colab": {
          "base_uri": "https://localhost:8080/"
        },
        "id": "u3wUbIm7N86C",
        "outputId": "280f4471-1ba0-4379-9c31-a815a2bae88b"
      },
      "outputs": [
        {
          "output_type": "execute_result",
          "data": {
            "text/plain": [
              "Index(['Blue', 'Wi_Fi', 'Tch_Scr', 'Ext_Mem', 'Px_h', 'Px_w', 'Scr_h', 'Scr_w',\n",
              "       'PC', 'FC', 'Int_Mem', 'Bty_Pwr', 'RAM', 'Depth', 'Weight', 'Price'],\n",
              "      dtype='object')"
            ]
          },
          "metadata": {},
          "execution_count": 8
        }
      ],
      "source": [
        "# Get the column names of the data frame using \".columns\"\n",
        "##################### CODE HERE ##########################\n"
      ]
    },
    {
      "cell_type": "markdown",
      "source": [
        "Reference:-https://www.w3schools.com/python/pandas/ref_df_info.asp"
      ],
      "metadata": {
        "id": "RSKm0yXBQICb"
      }
    },
    {
      "cell_type": "code",
      "execution_count": null,
      "metadata": {
        "colab": {
          "base_uri": "https://localhost:8080/"
        },
        "id": "zoJdOWbKN86D",
        "outputId": "ee8ae895-7cf3-4fa0-beeb-794482e37a18"
      },
      "outputs": [
        {
          "output_type": "stream",
          "name": "stdout",
          "text": [
            "<class 'pandas.core.frame.DataFrame'>\n",
            "Index: 50 entries, AAB346A to ZZZ909X\n",
            "Data columns (total 16 columns):\n",
            " #   Column   Non-Null Count  Dtype \n",
            "---  ------   --------------  ----- \n",
            " 0   Blue     50 non-null     object\n",
            " 1   Wi_Fi    50 non-null     object\n",
            " 2   Tch_Scr  50 non-null     object\n",
            " 3   Ext_Mem  50 non-null     object\n",
            " 4   Px_h     50 non-null     int64 \n",
            " 5   Px_w     50 non-null     int64 \n",
            " 6   Scr_h    50 non-null     int64 \n",
            " 7   Scr_w    50 non-null     int64 \n",
            " 8   PC       50 non-null     int64 \n",
            " 9   FC       50 non-null     int64 \n",
            " 10  Int_Mem  50 non-null     int64 \n",
            " 11  Bty_Pwr  50 non-null     int64 \n",
            " 12  RAM      50 non-null     int64 \n",
            " 13  Depth    50 non-null     int64 \n",
            " 14  Weight   50 non-null     int64 \n",
            " 15  Price    50 non-null     int64 \n",
            "dtypes: int64(12), object(4)\n",
            "memory usage: 6.6+ KB\n"
          ]
        }
      ],
      "source": [
        "# Look at basic information about the data frame using \".info()\"\n",
        "##################### CODE HERE ##########################\n"
      ]
    },
    {
      "cell_type": "markdown",
      "source": [
        "Observations:\n",
        "\n",
        "There are 50 phones in the data set.\n",
        "\n",
        "There are 17 features in the data set including the \"PID\" feature which is used as the row index labels.\n",
        "\n",
        "There are no missing values in the data set."
      ],
      "metadata": {
        "id": "Yp1sfFKKQQLR"
      }
    },
    {
      "cell_type": "code",
      "execution_count": null,
      "metadata": {
        "id": "F7O4y4kyN86F"
      },
      "outputs": [],
      "source": [
        "###########################################################################"
      ]
    },
    {
      "cell_type": "markdown",
      "source": [
        "<center>Let's try some logical operators to filter the data.<center>"
      ],
      "metadata": {
        "id": "K6wSkK61E57v"
      }
    },
    {
      "cell_type": "markdown",
      "source": [
        "![](https://th.bing.com/th/id/R.0592084daa6518e4fae97f47217ec69e?rik=vNqmiaTVSSo54w&riu=http%3a%2f%2f2.bp.blogspot.com%2f-ujABms6N-Cg%2fTyYwShdTjnI%2fAAAAAAAAAAs%2fktPbHdifidc%2fs1600%2fLogical%2bOperators.PNG&ehk=ww1gl1HB2PcZwPQNHWRUvcQ631Q3mzyHSxL9G4zUKT4%3d&risl=&pid=ImgRaw&r=0,width=700,height=400)"
      ],
      "metadata": {
        "id": "Fjx3ajuFFN5H"
      }
    },
    {
      "cell_type": "markdown",
      "source": [
        "## Task 2 - Obtain the logical conditions for the features \"Blue\", \"Wi_Fi\", \"Tch_Scr\" and \"Ext_Mem\""
      ],
      "metadata": {
        "id": "zBarC8WVQZG7"
      }
    },
    {
      "cell_type": "code",
      "execution_count": null,
      "metadata": {
        "colab": {
          "base_uri": "https://localhost:8080/"
        },
        "id": "RAV76P19N86G",
        "outputId": "59937522-9af4-4e75-bdaa-1af46a3556ac"
      },
      "outputs": [
        {
          "output_type": "execute_result",
          "data": {
            "text/plain": [
              "Index(['Blue', 'Wi_Fi', 'Tch_Scr', 'Ext_Mem', 'Px_h', 'Px_w', 'Scr_h', 'Scr_w',\n",
              "       'PC', 'FC', 'Int_Mem', 'Bty_Pwr', 'RAM', 'Depth', 'Weight', 'Price'],\n",
              "      dtype='object')"
            ]
          },
          "metadata": {},
          "execution_count": 10
        }
      ],
      "source": [
        "# Get the feature names of the data frame using \".columns\"\n",
        "##################### CODE HERE ##########################\n"
      ]
    },
    {
      "cell_type": "code",
      "execution_count": null,
      "metadata": {
        "id": "4qnHqu_vN86H"
      },
      "outputs": [],
      "source": [
        "# Let's tackle these features: \"Blue\", \"Wi_Fi\", \"Tch_Scr\", \"Ext_Mem\""
      ]
    },
    {
      "cell_type": "code",
      "execution_count": null,
      "metadata": {
        "id": "8N-jff5hN86I"
      },
      "outputs": [],
      "source": [
        "# The children want phones that have the following: Bluetooth, WiFi, touch screen and external memory support\n",
        "# Create a logical condition for this situation and store the logical values as \"con1\"\n",
        "##################### CODE HERE ##########################\n"
      ]
    },
    {
      "cell_type": "markdown",
      "source": [
        "Observations:\n",
        "\n",
        "The features \"Blue\", \"Wi_Fi\", \"Tch_Scr\" and \"Ext_Mem\" are binary in nature.\n",
        "\n",
        "The children want all these features, so the logical condition \"con1\" has been obtained accordingly."
      ],
      "metadata": {
        "id": "KilesitnQjMF"
      }
    },
    {
      "cell_type": "code",
      "execution_count": null,
      "metadata": {
        "id": "vbE3inZmN86K"
      },
      "outputs": [],
      "source": [
        "###########################################################################"
      ]
    },
    {
      "cell_type": "markdown",
      "source": [
        "## Task 3 - Obtain the logical conditions for the features \"Px_h\" and \"Px_w\""
      ],
      "metadata": {
        "id": "n8qZScOZQsj3"
      }
    },
    {
      "cell_type": "code",
      "execution_count": null,
      "metadata": {
        "colab": {
          "base_uri": "https://localhost:8080/"
        },
        "id": "UgpsX9ZYN86M",
        "outputId": "840e2472-f4f5-48e6-88a0-517107d30ac6"
      },
      "outputs": [
        {
          "output_type": "execute_result",
          "data": {
            "text/plain": [
              "Index(['Blue', 'Wi_Fi', 'Tch_Scr', 'Ext_Mem', 'Px_h', 'Px_w', 'Scr_h', 'Scr_w',\n",
              "       'PC', 'FC', 'Int_Mem', 'Bty_Pwr', 'RAM', 'Depth', 'Weight', 'Price'],\n",
              "      dtype='object')"
            ]
          },
          "metadata": {},
          "execution_count": 12
        }
      ],
      "source": [
        "# Get the feature names of the data frame using \".columns\"\n",
        "##################### CODE HERE ##########################\n"
      ]
    },
    {
      "cell_type": "code",
      "execution_count": null,
      "metadata": {
        "id": "HvY0q-JeN86N"
      },
      "outputs": [],
      "source": [
        "# Let's tackle these features: \"Px_h\", \"Px_w\""
      ]
    },
    {
      "cell_type": "code",
      "execution_count": null,
      "metadata": {
        "id": "9g8VvPLiN86O"
      },
      "outputs": [],
      "source": [
        "# Create a new feature called \"Px\" which stores the total resolution of the screen\n",
        "# Note: The screen resolution is equal to the product of the \"Px_h\" and \"Px_w\" features\n",
        "##################### CODE HERE ##########################\n"
      ]
    },
    {
      "cell_type": "code",
      "execution_count": null,
      "metadata": {
        "colab": {
          "base_uri": "https://localhost:8080/",
          "height": 329
        },
        "id": "nbYsIHpjN86P",
        "outputId": "90e26331-e3f4-4771-fcce-c8919775bbb3"
      },
      "outputs": [
        {
          "output_type": "display_data",
          "data": {
            "image/png": "[encoded data removed]",
            "text/plain": [
              "<Figure size 600x300 with 1 Axes>"
            ]
          },
          "metadata": {
            "needs_background": "light"
          }
        }
      ],
      "source": [
        "# Create a histogram of the \"Px\" feature and also show the mean and the median\n",
        "##################### CODE HERE ##########################\n"
      ]
    },
    {
      "cell_type": "code",
      "execution_count": null,
      "metadata": {
        "id": "SxaYgagyN86Q"
      },
      "outputs": [],
      "source": [
        "# The children want phones that have good screen resolutions\n",
        "# Consider the phones that have screen resolutions greater than or equal to the median value in the data set\n",
        "# Create a logical condition for this situation and store the logical values as \"con2\"\n",
        "##################### CODE HERE ##########################\n"
      ]
    },
    {
      "cell_type": "markdown",
      "source": [
        "Observations:\n",
        "\n",
        "The features \"Px_h\" and \"Px_w\" are respectively the number of pixels in the phone screen in the vertical and horizontal axes.\n",
        "\n",
        "We created a new feature called \"Px\" which is the product of the features \"Px_h\" and \"Px_w\".\n",
        "\n",
        "The median has been selected as a threshold in this case.\n",
        "\n",
        "In case it is too strict, we can choose the mean as a threshold."
      ],
      "metadata": {
        "id": "M-DC9VY2RBZQ"
      }
    },
    {
      "cell_type": "code",
      "execution_count": null,
      "metadata": {
        "id": "25BZkyKzN86R"
      },
      "outputs": [],
      "source": [
        "###########################################################################"
      ]
    },
    {
      "cell_type": "markdown",
      "source": [
        "# Task 4 - Obtain the logical conditions for the features \"Scr_h\" and \"Scr_w\""
      ],
      "metadata": {
        "id": "ih3ev8-0RJg5"
      }
    },
    {
      "cell_type": "code",
      "execution_count": null,
      "metadata": {
        "colab": {
          "base_uri": "https://localhost:8080/"
        },
        "id": "sqrogXqHN86T",
        "outputId": "4cfc0dfd-ed59-43ed-eba6-8399ad829759"
      },
      "outputs": [
        {
          "output_type": "execute_result",
          "data": {
            "text/plain": [
              "Index(['Blue', 'Wi_Fi', 'Tch_Scr', 'Ext_Mem', 'Px_h', 'Px_w', 'Scr_h', 'Scr_w',\n",
              "       'PC', 'FC', 'Int_Mem', 'Bty_Pwr', 'RAM', 'Depth', 'Weight', 'Price',\n",
              "       'Px'],\n",
              "      dtype='object')"
            ]
          },
          "metadata": {},
          "execution_count": 16
        }
      ],
      "source": [
        "# Get the feature names of the data frame using \".columns\"\n",
        "##################### CODE HERE ##########################\n"
      ]
    },
    {
      "cell_type": "code",
      "execution_count": null,
      "metadata": {
        "id": "EsEcEKKTN86T"
      },
      "outputs": [],
      "source": [
        "# Let's tackle these features: \"Scr_h\", \"Scr_w\""
      ]
    },
    {
      "cell_type": "code",
      "execution_count": null,
      "metadata": {
        "id": "qTOcx3FCN86U"
      },
      "outputs": [],
      "source": [
        "# Create a new feature called \"Scr_d\" which stores the length of the diagonal of the screen of the phone\n",
        "# Note: Use the Pythagorean theorem to calculate the diagonal length from the \"Scr_h\" and \"Scr_w\" features\n",
        "##################### CODE HERE ##########################\n"
      ]
    },
    {
      "cell_type": "code",
      "execution_count": null,
      "metadata": {
        "colab": {
          "base_uri": "https://localhost:8080/",
          "height": 329
        },
        "id": "83gzdEN7N86U",
        "outputId": "ad5d0961-0188-462d-ff59-87b4b19cebf3"
      },
      "outputs": [
        {
          "output_type": "display_data",
          "data": {
            "image/png": "[encoded data removed]",
            "text/plain": [
              "<Figure size 600x300 with 1 Axes>"
            ]
          },
          "metadata": {
            "needs_background": "light"
          }
        }
      ],
      "source": [
        "# Create a histogram of the \"Scr_d\" feature and also show the quartiles\n",
        "##################### CODE HERE ##########################\n"
      ]
    },
    {
      "cell_type": "code",
      "execution_count": null,
      "metadata": {
        "id": "aEvL_TPSN86V"
      },
      "outputs": [],
      "source": [
        "# The children want phones that have very good screen sizes\n",
        "# Consider the phones that have screen sizes greater than or equal to the upper quartile value in the data set\n",
        "# Create a logical condition for this situation and store the logical values as \"con3\"\n",
        "##################### CODE HERE ##########################\n"
      ]
    },
    {
      "cell_type": "markdown",
      "source": [
        "Observations:\n",
        "\n",
        "The features \"Scr_h\" and \"Scr_w\" are respectively the height and the width of the phone screen.\n",
        "\n",
        "We created a new feature called \"Scr_d\" which is essentially the length of the screen diagonal.\n",
        "\n",
        "The upper quartile has been selected as a threshold in this case as the children were very particular on this point.\n",
        "\n",
        "In case it is too strict, we can choose the mean or the median as a threshold."
      ],
      "metadata": {
        "id": "BKDitmp9RZDe"
      }
    },
    {
      "cell_type": "code",
      "execution_count": null,
      "metadata": {
        "id": "3j7RHLoiN86W"
      },
      "outputs": [],
      "source": [
        "###########################################################################"
      ]
    },
    {
      "cell_type": "markdown",
      "source": [
        "# Task 5 - Obtain the logical conditions for the features \"PC\" and \"FC\""
      ],
      "metadata": {
        "id": "21dZEsZRRikD"
      }
    },
    {
      "cell_type": "code",
      "execution_count": null,
      "metadata": {
        "colab": {
          "base_uri": "https://localhost:8080/"
        },
        "id": "KrzWCcs6N86Y",
        "outputId": "1897672c-3176-4179-d0d1-ae2463028951"
      },
      "outputs": [
        {
          "output_type": "execute_result",
          "data": {
            "text/plain": [
              "Index(['Blue', 'Wi_Fi', 'Tch_Scr', 'Ext_Mem', 'Px_h', 'Px_w', 'Scr_h', 'Scr_w',\n",
              "       'PC', 'FC', 'Int_Mem', 'Bty_Pwr', 'RAM', 'Depth', 'Weight', 'Price',\n",
              "       'Px', 'Scr_d'],\n",
              "      dtype='object')"
            ]
          },
          "metadata": {},
          "execution_count": 20
        }
      ],
      "source": [
        "# Get the feature names of the data frame using \".columns\"\n",
        "##################### CODE HERE ##########################\n"
      ]
    },
    {
      "cell_type": "code",
      "execution_count": null,
      "metadata": {
        "id": "lCQR8DBRN86Y"
      },
      "outputs": [],
      "source": [
        "# Let's tackle these features: \"PC\", \"FC\""
      ]
    },
    {
      "cell_type": "code",
      "execution_count": null,
      "metadata": {
        "colab": {
          "base_uri": "https://localhost:8080/",
          "height": 329
        },
        "id": "KtH-XWmqN86Z",
        "outputId": "0664b79d-340e-479b-b495-6e73f4de95a3"
      },
      "outputs": [
        {
          "output_type": "display_data",
          "data": {
            "image/png": "[encoded data removed]",
            "text/plain": [
              "<Figure size 600x300 with 1 Axes>"
            ]
          },
          "metadata": {
            "needs_background": "light"
          }
        }
      ],
      "source": [
        "# Create a histogram of the \"PC\" feature and also show the mean and the median\n",
        "##################### CODE HERE ##########################\n"
      ]
    },
    {
      "cell_type": "code",
      "execution_count": null,
      "metadata": {
        "colab": {
          "base_uri": "https://localhost:8080/",
          "height": 329
        },
        "id": "vMp3OWR0N86a",
        "outputId": "182e0be5-ca79-4f65-a9f3-902549fdb80f"
      },
      "outputs": [
        {
          "output_type": "display_data",
          "data": {
            "image/png": "[encoded data removed]",
            "text/plain": [
              "<Figure size 600x300 with 1 Axes>"
            ]
          },
          "metadata": {
            "needs_background": "light"
          }
        }
      ],
      "source": [
        "# Create a histogram of the \"FC\" feature and also show the mean and the median\n",
        "##################### CODE HERE ##########################\n"
      ]
    },
    {
      "cell_type": "code",
      "execution_count": null,
      "metadata": {
        "id": "uwOY8IGoN86a"
      },
      "outputs": [],
      "source": [
        "# The children want phones that have good primary and front camera resolutions\n",
        "# Consider the phones that have primary and front camera resolutions greater than or equal to their respective mean values\n",
        "# Create a logical condition for this situation and store the logical values as \"con4\"\n",
        "##################### CODE HERE ##########################\n"
      ]
    },
    {
      "cell_type": "markdown",
      "source": [
        "Observations:\n",
        "\n",
        "The features \"PC\" and \"FC\" are respectively the resolutions of the primary camera and the front camera.\n",
        "\n",
        "The respective means have been selected as thresholds in this case.\n",
        "\n",
        "In case it is too strict, we can choose the respective medians as thresholds."
      ],
      "metadata": {
        "id": "jo7yqfJSRvNT"
      }
    },
    {
      "cell_type": "code",
      "execution_count": null,
      "metadata": {
        "id": "6m8C8Cg2N86c"
      },
      "outputs": [],
      "source": [
        "###########################################################################"
      ]
    },
    {
      "cell_type": "markdown",
      "source": [
        "# Task 6 - Obtain the logical conditions for the features \"Int_Mem\", \"Bty_Pwr\" and \"RAM\""
      ],
      "metadata": {
        "id": "iu0E_MTAR3Pn"
      }
    },
    {
      "cell_type": "code",
      "execution_count": null,
      "metadata": {
        "colab": {
          "base_uri": "https://localhost:8080/"
        },
        "id": "RdKjvbCZN86d",
        "outputId": "f8c952c5-156d-4c0f-8564-c2895f58549d"
      },
      "outputs": [
        {
          "output_type": "execute_result",
          "data": {
            "text/plain": [
              "Index(['Blue', 'Wi_Fi', 'Tch_Scr', 'Ext_Mem', 'Px_h', 'Px_w', 'Scr_h', 'Scr_w',\n",
              "       'PC', 'FC', 'Int_Mem', 'Bty_Pwr', 'RAM', 'Depth', 'Weight', 'Price',\n",
              "       'Px', 'Scr_d'],\n",
              "      dtype='object')"
            ]
          },
          "metadata": {},
          "execution_count": 24
        }
      ],
      "source": [
        "# Get the feature names of the data frame using \".columns\"\n",
        "##################### CODE HERE ##########################\n"
      ]
    },
    {
      "cell_type": "code",
      "execution_count": null,
      "metadata": {
        "id": "tnBJk7xFN86d"
      },
      "outputs": [],
      "source": [
        "# Let's tackle these features: \"Int_Mem\", \"Bty_Pwr\", \"RAM\""
      ]
    },
    {
      "cell_type": "code",
      "execution_count": null,
      "metadata": {
        "colab": {
          "base_uri": "https://localhost:8080/",
          "height": 329
        },
        "id": "YMBT6fVEN86e",
        "outputId": "178d0f99-2af1-458f-b8d1-e672a4d557ea"
      },
      "outputs": [
        {
          "output_type": "display_data",
          "data": {
            "image/png": "[encoded data removed]",
            "text/plain": [
              "<Figure size 600x300 with 1 Axes>"
            ]
          },
          "metadata": {
            "needs_background": "light"
          }
        }
      ],
      "source": [
        "# Create a histogram of the \"Int_Mem\" feature and also show the mean and the median\n",
        "##################### CODE HERE ##########################\n"
      ]
    },
    {
      "cell_type": "code",
      "execution_count": null,
      "metadata": {
        "colab": {
          "base_uri": "https://localhost:8080/",
          "height": 329
        },
        "id": "oPjFp16vN86e",
        "outputId": "c8a8a5b4-4268-4409-ecc3-dcbbc6e31068"
      },
      "outputs": [
        {
          "output_type": "display_data",
          "data": {
            "image/png": "[encoded data removed]",
            "text/plain": [
              "<Figure size 600x300 with 1 Axes>"
            ]
          },
          "metadata": {
            "needs_background": "light"
          }
        }
      ],
      "source": [
        "# Create a histogram of the \"Bty_Pwr\" feature and also show the mean and the median\n",
        "##################### CODE HERE ##########################\n"
      ]
    },
    {
      "cell_type": "code",
      "execution_count": null,
      "metadata": {
        "colab": {
          "base_uri": "https://localhost:8080/",
          "height": 329
        },
        "id": "TS83YmlQN86f",
        "outputId": "149a1808-56b3-4132-f322-557b3a1f2396"
      },
      "outputs": [
        {
          "output_type": "display_data",
          "data": {
            "image/png": "[encoded data removed]",
            "text/plain": [
              "<Figure size 600x300 with 1 Axes>"
            ]
          },
          "metadata": {
            "needs_background": "light"
          }
        }
      ],
      "source": [
        "# Create a histogram of the \"RAM\" feature and also show the mean and the median\n",
        "##################### CODE HERE ##########################\n"
      ]
    },
    {
      "cell_type": "code",
      "execution_count": null,
      "metadata": {
        "id": "Ty-VGMoDN86g"
      },
      "outputs": [],
      "source": [
        "# The children want phones that have good internal memory, battery power and RAM\n",
        "# Consider the phones that have internal memory, battery power and RAM greater than or equal to their respective mean values\n",
        "# Create a logical condition for this situation and store the logical values as \"con5\"\n",
        "##################### CODE HERE ##########################\n"
      ]
    },
    {
      "cell_type": "markdown",
      "source": [
        "Observations\n",
        "\n",
        "The features \"Int_Mem\", \"Bty_Pwr\" and \"RAM\" are respectively the internal memory, battery power and RAM of the phones.\n",
        "\n",
        "The respective means have been selected as thresholds in this case.\n",
        "\n",
        ".In case it is too strict, we can choose the respective medians as thresholds"
      ],
      "metadata": {
        "id": "u5RzvXKoSHaw"
      }
    },
    {
      "cell_type": "code",
      "execution_count": null,
      "metadata": {
        "id": "hUeqinkWN86h"
      },
      "outputs": [],
      "source": [
        "###########################################################################"
      ]
    },
    {
      "cell_type": "markdown",
      "source": [
        "# Task 7 - Obtain the logical conditions for the features \"Depth\" and \"Weight\""
      ],
      "metadata": {
        "id": "VVeYghyESO9y"
      }
    },
    {
      "cell_type": "code",
      "execution_count": null,
      "metadata": {
        "colab": {
          "base_uri": "https://localhost:8080/"
        },
        "id": "z4qy3vyDN86i",
        "outputId": "8ccdee61-1a2a-4325-b80b-c419b2fa768d"
      },
      "outputs": [
        {
          "output_type": "execute_result",
          "data": {
            "text/plain": [
              "Index(['Blue', 'Wi_Fi', 'Tch_Scr', 'Ext_Mem', 'Px_h', 'Px_w', 'Scr_h', 'Scr_w',\n",
              "       'PC', 'FC', 'Int_Mem', 'Bty_Pwr', 'RAM', 'Depth', 'Weight', 'Price',\n",
              "       'Px', 'Scr_d'],\n",
              "      dtype='object')"
            ]
          },
          "metadata": {},
          "execution_count": 29
        }
      ],
      "source": [
        "# Get the feature names of the data frame using \".columns\"\n",
        "##################### CODE HERE ##########################\n"
      ]
    },
    {
      "cell_type": "code",
      "execution_count": null,
      "metadata": {
        "id": "07nm7-V1N86j"
      },
      "outputs": [],
      "source": [
        "# Let's tackle these features: \"Depth\", \"Weight\""
      ]
    },
    {
      "cell_type": "code",
      "execution_count": null,
      "metadata": {
        "colab": {
          "base_uri": "https://localhost:8080/",
          "height": 329
        },
        "id": "e88FFbusN86k",
        "outputId": "48712c19-2629-4615-9142-0e8e27034c80"
      },
      "outputs": [
        {
          "output_type": "display_data",
          "data": {
            "image/png": "[encoded data removed]",
            "text/plain": [
              "<Figure size 600x300 with 1 Axes>"
            ]
          },
          "metadata": {
            "needs_background": "light"
          }
        }
      ],
      "source": [
        "# Create a histogram of the \"Depth\" feature and also show the mean and the median\n",
        "##################### CODE HERE ##########################\n"
      ]
    },
    {
      "cell_type": "code",
      "execution_count": null,
      "metadata": {
        "colab": {
          "base_uri": "https://localhost:8080/",
          "height": 329
        },
        "id": "-lXTqLttN86l",
        "outputId": "fe84d4f4-5deb-4940-e4fe-069c2b23c9be"
      },
      "outputs": [
        {
          "output_type": "display_data",
          "data": {
            "image/png": "[encoded data removed]",
            "text/plain": [
              "<Figure size 600x300 with 1 Axes>"
            ]
          },
          "metadata": {
            "needs_background": "light"
          }
        }
      ],
      "source": [
        "# Create a histogram of the \"Weight\" feature and also show the mean and the median\n",
        "##################### CODE HERE ##########################\n"
      ]
    },
    {
      "cell_type": "code",
      "execution_count": null,
      "metadata": {
        "id": "7ZYJmwzJN86l"
      },
      "outputs": [],
      "source": [
        "# The children want phones that are light weight and slim\n",
        "# Consider the phones that have depth and weight less than or equal to the respective median values in the data set\n",
        "# Create a logical condition for this situation and store the logical values as \"con6\"\n",
        "##################### CODE HERE ##########################\n"
      ]
    },
    {
      "cell_type": "markdown",
      "source": [
        "Observations:\n",
        "\n",
        "The features \"Depth\" and \"Weight\" are respectively the depth of the phone and the weight of the phone.\n",
        "\n",
        "The respective medians have been selected as thresholds in this case.\n",
        "\n",
        "In case it is too strict, we can choose the respective means as thresholds."
      ],
      "metadata": {
        "id": "l32BIHsdSbHy"
      }
    },
    {
      "cell_type": "code",
      "execution_count": null,
      "metadata": {
        "id": "vmStV1OFN86n"
      },
      "outputs": [],
      "source": [
        "###########################################################################"
      ]
    },
    {
      "cell_type": "markdown",
      "source": [
        "# Task 8 - Subset the data based on all the logical conditions"
      ],
      "metadata": {
        "id": "3UYMHQseSjZp"
      }
    },
    {
      "cell_type": "code",
      "execution_count": null,
      "metadata": {
        "id": "iKFweH2xN86o"
      },
      "outputs": [],
      "source": [
        "# Subset the data frame using all the logical conditions that have been stored\n",
        "# Note: All the logical conditions must be satisfied, so choose the logical operator appropriately\n",
        "# Note: Store the subset of the data frame as a new data frame called \"df1\"\n",
        "##################### CODE HERE ##########################\n"
      ]
    },
    {
      "cell_type": "code",
      "execution_count": null,
      "metadata": {
        "colab": {
          "base_uri": "https://localhost:8080/"
        },
        "id": "Y0Bp7BKkN86o",
        "outputId": "43c13513-98a1-468c-d9dc-f98ca530e567"
      },
      "outputs": [
        {
          "output_type": "execute_result",
          "data": {
            "text/plain": [
              "(3, 18)"
            ]
          },
          "metadata": {},
          "execution_count": 34
        }
      ],
      "source": [
        "# Get the dimensions of the data frame using \".shape\"\n",
        "##################### CODE HERE ##########################\n"
      ]
    },
    {
      "cell_type": "code",
      "execution_count": null,
      "metadata": {
        "colab": {
          "base_uri": "https://localhost:8080/",
          "height": 174
        },
        "id": "H5tg2OEkN86p",
        "outputId": "4011d23e-2320-4b62-96ad-35115c260329"
      },
      "outputs": [
        {
          "output_type": "execute_result",
          "data": {
            "text/html": [
              "\n",
              "  <div id=\"df-abd0fa29-7eff-4a2d-ad68-4c55f9604168\">\n",
              "    <div class=\"colab-df-container\">\n",
              "      <div>\n",
              "<style scoped>\n",
              "    .dataframe tbody tr th:only-of-type {\n",
              "        vertical-align: middle;\n",
              "    }\n",
              "\n",
              "    .dataframe tbody tr th {\n",
              "        vertical-align: top;\n",
              "    }\n",
              "\n",
              "    .dataframe thead th {\n",
              "        text-align: right;\n",
              "    }\n",
              "</style>\n",
              "<table border=\"1\" class=\"dataframe\">\n",
              "  <thead>\n",
              "    <tr style=\"text-align: right;\">\n",
              "      <th></th>\n",
              "      <th>Blue</th>\n",
              "      <th>Wi_Fi</th>\n",
              "      <th>Tch_Scr</th>\n",
              "      <th>Ext_Mem</th>\n",
              "      <th>Px_h</th>\n",
              "      <th>Px_w</th>\n",
              "      <th>Scr_h</th>\n",
              "      <th>Scr_w</th>\n",
              "      <th>PC</th>\n",
              "      <th>FC</th>\n",
              "      <th>Int_Mem</th>\n",
              "      <th>Bty_Pwr</th>\n",
              "      <th>RAM</th>\n",
              "      <th>Depth</th>\n",
              "      <th>Weight</th>\n",
              "      <th>Price</th>\n",
              "      <th>Px</th>\n",
              "      <th>Scr_d</th>\n",
              "    </tr>\n",
              "    <tr>\n",
              "      <th>PID</th>\n",
              "      <th></th>\n",
              "      <th></th>\n",
              "      <th></th>\n",
              "      <th></th>\n",
              "      <th></th>\n",
              "      <th></th>\n",
              "      <th></th>\n",
              "      <th></th>\n",
              "      <th></th>\n",
              "      <th></th>\n",
              "      <th></th>\n",
              "      <th></th>\n",
              "      <th></th>\n",
              "      <th></th>\n",
              "      <th></th>\n",
              "      <th></th>\n",
              "      <th></th>\n",
              "      <th></th>\n",
              "    </tr>\n",
              "  </thead>\n",
              "  <tbody>\n",
              "    <tr>\n",
              "      <th>TVF078Y</th>\n",
              "      <td>yes</td>\n",
              "      <td>yes</td>\n",
              "      <td>yes</td>\n",
              "      <td>yes</td>\n",
              "      <td>2580</td>\n",
              "      <td>2120</td>\n",
              "      <td>8</td>\n",
              "      <td>6</td>\n",
              "      <td>64</td>\n",
              "      <td>32</td>\n",
              "      <td>512</td>\n",
              "      <td>4860</td>\n",
              "      <td>8</td>\n",
              "      <td>3</td>\n",
              "      <td>90</td>\n",
              "      <td>29999</td>\n",
              "      <td>5469600</td>\n",
              "      <td>10.0</td>\n",
              "    </tr>\n",
              "    <tr>\n",
              "      <th>WZB298K</th>\n",
              "      <td>yes</td>\n",
              "      <td>yes</td>\n",
              "      <td>yes</td>\n",
              "      <td>yes</td>\n",
              "      <td>2580</td>\n",
              "      <td>1980</td>\n",
              "      <td>8</td>\n",
              "      <td>6</td>\n",
              "      <td>64</td>\n",
              "      <td>32</td>\n",
              "      <td>1024</td>\n",
              "      <td>5600</td>\n",
              "      <td>8</td>\n",
              "      <td>3</td>\n",
              "      <td>160</td>\n",
              "      <td>39000</td>\n",
              "      <td>5108400</td>\n",
              "      <td>10.0</td>\n",
              "    </tr>\n",
              "    <tr>\n",
              "      <th>TYS938L</th>\n",
              "      <td>yes</td>\n",
              "      <td>yes</td>\n",
              "      <td>yes</td>\n",
              "      <td>yes</td>\n",
              "      <td>2580</td>\n",
              "      <td>2120</td>\n",
              "      <td>8</td>\n",
              "      <td>6</td>\n",
              "      <td>64</td>\n",
              "      <td>32</td>\n",
              "      <td>1024</td>\n",
              "      <td>4860</td>\n",
              "      <td>8</td>\n",
              "      <td>3</td>\n",
              "      <td>120</td>\n",
              "      <td>46777</td>\n",
              "      <td>5469600</td>\n",
              "      <td>10.0</td>\n",
              "    </tr>\n",
              "  </tbody>\n",
              "</table>\n",
              "</div>\n",
              "      <button class=\"colab-df-convert\" onclick=\"convertToInteractive('df-abd0fa29-7eff-4a2d-ad68-4c55f9604168')\"\n",
              "              title=\"Convert this dataframe to an interactive table.\"\n",
              "              style=\"display:none;\">\n",
              "        \n",
              "  <svg xmlns=\"http://www.w3.org/2000/svg\" height=\"24px\"viewBox=\"0 0 24 24\"\n",
              "       width=\"24px\">\n",
              "    <path d=\"M0 0h24v24H0V0z\" fill=\"none\"/>\n",
              "    <path d=\"M18.56 5.44l.94 2.06.94-2.06 2.06-.94-2.06-.94-.94-2.06-.94 2.06-2.06.94zm-11 1L8.5 8.5l.94-2.06 2.06-.94-2.06-.94L8.5 2.5l-.94 2.06-2.06.94zm10 10l.94 2.06.94-2.06 2.06-.94-2.06-.94-.94-2.06-.94 2.06-2.06.94z\"/><path d=\"M17.41 7.96l-1.37-1.37c-.4-.4-.92-.59-1.43-.59-.52 0-1.04.2-1.43.59L10.3 9.45l-7.72 7.72c-.78.78-.78 2.05 0 2.83L4 21.41c.39.39.9.59 1.41.59.51 0 1.02-.2 1.41-.59l7.78-7.78 2.81-2.81c.8-.78.8-2.07 0-2.86zM5.41 20L4 18.59l7.72-7.72 1.47 1.35L5.41 20z\"/>\n",
              "  </svg>\n",
              "      </button>\n",
              "      \n",
              "  <style>\n",
              "    .colab-df-container {\n",
              "      display:flex;\n",
              "      flex-wrap:wrap;\n",
              "      gap: 12px;\n",
              "    }\n",
              "\n",
              "    .colab-df-convert {\n",
              "      background-color: #E8F0FE;\n",
              "      border: none;\n",
              "      border-radius: 50%;\n",
              "      cursor: pointer;\n",
              "      display: none;\n",
              "      fill: #1967D2;\n",
              "      height: 32px;\n",
              "      padding: 0 0 0 0;\n",
              "      width: 32px;\n",
              "    }\n",
              "\n",
              "    .colab-df-convert:hover {\n",
              "      background-color: #E2EBFA;\n",
              "      box-shadow: 0px 1px 2px rgba(60, 64, 67, 0.3), 0px 1px 3px 1px rgba(60, 64, 67, 0.15);\n",
              "      fill: #174EA6;\n",
              "    }\n",
              "\n",
              "    [theme=dark] .colab-df-convert {\n",
              "      background-color: #3B4455;\n",
              "      fill: #D2E3FC;\n",
              "    }\n",
              "\n",
              "    [theme=dark] .colab-df-convert:hover {\n",
              "      background-color: #434B5C;\n",
              "      box-shadow: 0px 1px 3px 1px rgba(0, 0, 0, 0.15);\n",
              "      filter: drop-shadow(0px 1px 2px rgba(0, 0, 0, 0.3));\n",
              "      fill: #FFFFFF;\n",
              "    }\n",
              "  </style>\n",
              "\n",
              "      <script>\n",
              "        const buttonEl =\n",
              "          document.querySelector('#df-abd0fa29-7eff-4a2d-ad68-4c55f9604168 button.colab-df-convert');\n",
              "        buttonEl.style.display =\n",
              "          google.colab.kernel.accessAllowed ? 'block' : 'none';\n",
              "\n",
              "        async function convertToInteractive(key) {\n",
              "          const element = document.querySelector('#df-abd0fa29-7eff-4a2d-ad68-4c55f9604168');\n",
              "          const dataTable =\n",
              "            await google.colab.kernel.invokeFunction('convertToInteractive',\n",
              "                                                     [key], {});\n",
              "          if (!dataTable) return;\n",
              "\n",
              "          const docLinkHtml = 'Like what you see? Visit the ' +\n",
              "            '<a target=\"_blank\" href=https://colab.research.google.com/notebooks/data_table.ipynb>data table notebook</a>'\n",
              "            + ' to learn more about interactive tables.';\n",
              "          element.innerHTML = '';\n",
              "          dataTable['output_type'] = 'display_data';\n",
              "          await google.colab.output.renderOutput(dataTable, element);\n",
              "          const docLink = document.createElement('div');\n",
              "          docLink.innerHTML = docLinkHtml;\n",
              "          element.appendChild(docLink);\n",
              "        }\n",
              "      </script>\n",
              "    </div>\n",
              "  </div>\n",
              "  "
            ],
            "text/plain": [
              "        Blue Wi_Fi Tch_Scr Ext_Mem  Px_h  ...  Depth  Weight  Price       Px  Scr_d\n",
              "PID                                       ...                                      \n",
              "TVF078Y  yes   yes     yes     yes  2580  ...      3      90  29999  5469600   10.0\n",
              "WZB298K  yes   yes     yes     yes  2580  ...      3     160  39000  5108400   10.0\n",
              "TYS938L  yes   yes     yes     yes  2580  ...      3     120  46777  5469600   10.0\n",
              "\n",
              "[3 rows x 18 columns]"
            ]
          },
          "metadata": {},
          "execution_count": 35
        }
      ],
      "source": [
        "# Sort the data frame according to the \"Price\" feature in ascending order and display it\n",
        "##################### CODE HERE ##########################\n"
      ]
    },
    {
      "cell_type": "markdown",
      "source": [
        "Observations:\n",
        "\n",
        "Based on all the logical conditions obtained through analysis of the features, we are left with three phones.\n",
        "\n",
        "The most expensive of these phones is the \"TYS938L\" model and the least expensive is the \"TVF078Y\" model.\n",
        "\n",
        "We could let the children choose from these three phones as per their preferences."
      ],
      "metadata": {
        "id": "Zn6iT-HQSocg"
      }
    },
    {
      "cell_type": "code",
      "execution_count": null,
      "metadata": {
        "id": "Wxv_B1DCN86q"
      },
      "outputs": [],
      "source": [
        "###########################################################################"
      ]
    },
    {
      "cell_type": "markdown",
      "source": [
        "# Task 9 - Study the variability of the features in the original data set"
      ],
      "metadata": {
        "id": "O09ZVXlbSvhj"
      }
    },
    {
      "cell_type": "code",
      "execution_count": null,
      "metadata": {
        "colab": {
          "base_uri": "https://localhost:8080/"
        },
        "id": "J9yLZ_FuN86r",
        "outputId": "2b17396c-e56b-4536-ae1d-d60041c6644f"
      },
      "outputs": [
        {
          "output_type": "execute_result",
          "data": {
            "text/plain": [
              "Index(['Blue', 'Wi_Fi', 'Tch_Scr', 'Ext_Mem', 'Px_h', 'Px_w', 'Scr_h', 'Scr_w',\n",
              "       'PC', 'FC', 'Int_Mem', 'Bty_Pwr', 'RAM', 'Depth', 'Weight', 'Price',\n",
              "       'Px', 'Scr_d'],\n",
              "      dtype='object')"
            ]
          },
          "metadata": {},
          "execution_count": 36
        }
      ],
      "source": [
        "# Get the feature names of the data frame using \".columns\"\n",
        "##################### CODE HERE ##########################\n"
      ]
    },
    {
      "cell_type": "code",
      "execution_count": null,
      "metadata": {
        "id": "grfzKBDyN86r"
      },
      "outputs": [],
      "source": [
        "# Calculate the ratio of the standard deviation to the mean for all the numerical features in the data frame\n",
        "# Store these values in a new series wherein the rows are the features and the only column is the calculated ratio\n",
        "# Name the series as \"deviations\"\n",
        "##################### CODE HERE ##########################\n"
      ]
    },
    {
      "cell_type": "code",
      "execution_count": null,
      "metadata": {
        "colab": {
          "base_uri": "https://localhost:8080/"
        },
        "id": "sBRqrnVaN86s",
        "outputId": "e4f975c0-23cd-453b-c627-eb0b4224b2ea"
      },
      "outputs": [
        {
          "output_type": "execute_result",
          "data": {
            "text/plain": [
              "Int_Mem    1.506514\n",
              "Price      0.740868\n",
              "PC         0.715716\n",
              "FC         0.712184\n",
              "RAM        0.479075\n",
              "Scr_w      0.407624\n",
              "Px         0.398680\n",
              "Weight     0.388121\n",
              "Scr_d      0.340469\n",
              "Scr_h      0.314293\n",
              "Depth      0.306072\n",
              "Px_h       0.257998\n",
              "Bty_Pwr    0.256368\n",
              "Px_w       0.256226\n",
              "dtype: float64"
            ]
          },
          "metadata": {},
          "execution_count": 38
        }
      ],
      "source": [
        "# View the \"deviations\" series after sorting it in descending order\n",
        "##################### CODE HERE ##########################\n"
      ]
    },
    {
      "cell_type": "markdown",
      "source": [
        "Observations:\n",
        "\n",
        "The ratio of the standard deviation to the mean of a feature normalises it in a way.\n",
        "\n",
        "This allows for comparison between multiple features.\n",
        "\n",
        "The most variable feature in the original data set is the internal memory of the phones.\n",
        "\n",
        "The least variable feature in the original data set is the number of screen pixels in the horizontal axis.\n",
        "\n",
        "Although most features don't seem so variable, the prices of the phones are quite variable.\n",
        "\n",
        "Feel free to investigate what could be the cause of this difference in variability.\n",
        "\n",
        "Note: We encourage you to extend this analysis further and see what else you can find.\n",
        "\n",
        "Note: Please refer to the official website of Python and its libraries for various Python documentations."
      ],
      "metadata": {
        "id": "RSypqWHuSzJU"
      }
    },
    {
      "cell_type": "code",
      "execution_count": null,
      "metadata": {
        "id": "NBB2lnWuN86t"
      },
      "outputs": [],
      "source": [
        "###########################################################################"
      ]
    },
    {
      "cell_type": "markdown",
      "source": [
        "# <center><u>Conclusion</u> </center>"
      ],
      "metadata": {
        "id": "WEUsWoyYTRbU"
      }
    },
    {
      "cell_type": "markdown",
      "source": [
        "1. We have used concepts of descriptive statistics to study and work with a data set that contains mobile phone specifications.\n",
        "\n",
        "2. We were able to recommend three phone models to the client which she can then propose to her children."
      ],
      "metadata": {
        "id": "kE4_U-R9TI_d"
      }
    },
    {
      "cell_type": "code",
      "execution_count": null,
      "metadata": {
        "id": "oT9WJaXoN86u"
      },
      "outputs": [],
      "source": [
        "###########################################################################"
      ]
    },
    {
      "cell_type": "markdown",
      "source": [
        "**FEEDBACK**\n",
        "\n",
        "We hope you’ve enjoyed this course so far. We’re committed to help you use \"Stats and maths for data science\" course to its full potential, so that you have a great learning experience. And that’s why we need your help in form of a feedback here.\n",
        "\n",
        "Please fill this feedback form https://forms.zohopublic.in/cloudyml/form/CloudyMLStatisticsFeedbackForm/formperma/WV946wnf0sDM_tOlH87RxZR9yMceKWGrtuPOyXzzCRc"
      ],
      "metadata": {
        "id": "aF6DQ2HuTVr9"
      }
    }
  ],
  "metadata": {
    "colab": {
      "collapsed_sections": [],
      "provenance": []
    },
    "kernelspec": {
      "display_name": "Python 3",
      "language": "python",
      "name": "python3"
    },
    "language_info": {
      "codemirror_mode": {
        "name": "ipython",
        "version": 3
      },
      "file_extension": ".py",
      "mimetype": "text/x-python",
      "name": "python",
      "nbconvert_exporter": "python",
      "pygments_lexer": "ipython3",
      "version": "3.8.8"
    }
  },
  "nbformat": 4,
  "nbformat_minor": 0
}